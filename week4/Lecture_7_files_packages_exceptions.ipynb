{
  "nbformat": 4,
  "nbformat_minor": 0,
  "metadata": {
    "colab": {
      "name": "Lecture 7. Files. Packages. Exceptions.ipynb",
      "provenance": [],
      "collapsed_sections": [],
      "authorship_tag": "ABX9TyN78GZJliV4Jwu9WTq49NfU",
      "include_colab_link": true
    },
    "kernelspec": {
      "name": "python3",
      "display_name": "Python 3"
    },
    "language_info": {
      "name": "python"
    }
  },
  "cells": [
    {
      "cell_type": "markdown",
      "metadata": {
        "id": "view-in-github",
        "colab_type": "text"
      },
      "source": [
        "<a href=\"https://colab.research.google.com/github/justalge/another_python_totorial/blob/main/week4/Lecture_7_files_packages_exceptions.ipynb\" target=\"_parent\"><img src=\"https://colab.research.google.com/assets/colab-badge.svg\" alt=\"Open In Colab\"/></a>"
      ]
    },
    {
      "cell_type": "markdown",
      "metadata": {
        "id": "JpLrrMdYi1af"
      },
      "source": [
        "# File Management\n",
        "\n",
        "A file or a computer file is a chunk of logically related data or information which can be used by computer programs. Usually a file is kept on a permanent storage media, e.g. a hard drive disk. A unique name and path is used by human users or in programs or scripts to access a file for reading and modification purposes.\n",
        "\n",
        "The term \"file\" - as we have described it in the previous paragraph - appeared in the history of computers very early. Usage can be tracked down to the year 1952, when punch cards where used.\n",
        "\n",
        "#### Reading and Writing Files in Python\n",
        "\n",
        "The syntax for reading and writing files in Python is similar to programming languages like C, C++, Java, Perl, and others but a lot easier to handle"
      ]
    },
    {
      "cell_type": "code",
      "metadata": {
        "colab": {
          "base_uri": "https://localhost:8080/"
        },
        "id": "JkCinNB-i2xf",
        "outputId": "06caa7ec-c83f-4ff0-c16e-81cabd4fc1ce"
      },
      "source": [
        "# We will start with writing a file. We have a string which contains part of the\n",
        "# definition of a general file from Wikipedia:\n",
        "\n",
        "definition = \"\"\"\n",
        "\n",
        "A computer file is a computer resource for recording data discretely in a\n",
        "computer storage device. Just as words can be written \n",
        "to paper, so can information be written to a computer\n",
        "file. Files can be edited and transferred through the \n",
        "internet on that particular computer system.\n",
        "\"\"\"\n",
        "\n",
        "# We will write this into a file with the name file_definition.txt:\n",
        "\n",
        "open(\"file_definition.txt\", \"w\").write(definition)\n",
        "\n",
        "!ls"
      ],
      "execution_count": null,
      "outputs": [
        {
          "output_type": "stream",
          "name": "stdout",
          "text": [
            "file_definition.txt  sample_data\n"
          ]
        }
      ]
    },
    {
      "cell_type": "code",
      "metadata": {
        "colab": {
          "base_uri": "https://localhost:8080/"
        },
        "id": "UWRbOKYjjLn2",
        "outputId": "ecdf4ca9-7b99-4f13-85c7-5a9c3fda00e0"
      },
      "source": [
        "# lets look at the file content:\n",
        "\n",
        "!cat file_definition.txt"
      ],
      "execution_count": null,
      "outputs": [
        {
          "output_type": "stream",
          "name": "stdout",
          "text": [
            "\n",
            "A computer file is a computer resource for recording data discretely in a\n",
            "computer storage device. Just as words can be written \n",
            "to paper, so can information be written to a computer\n",
            "file. Files can be edited and transferred through the \n",
            "internet on that particular computer system."
          ]
        }
      ]
    },
    {
      "cell_type": "code",
      "metadata": {
        "colab": {
          "base_uri": "https://localhost:8080/"
        },
        "id": "eiP_78HXdTo7",
        "outputId": "6b4f1937-0b61-412b-f119-382cc7e932e6"
      },
      "source": [
        "print(definition, file=open(\"file_definition.txt\", \"w\"))"
      ],
      "execution_count": null,
      "outputs": [
        {
          "output_type": "stream",
          "name": "stdout",
          "text": [
            "\n",
            "A computer file is a computer resource for recording data discretely in a\n",
            "computer storage device. Just as words can be written \n",
            "to paper, so can information be written to a computer\n",
            "file. Files can be edited and transferred through the \n",
            "internet on that particular computer system.\n"
          ]
        }
      ]
    },
    {
      "cell_type": "code",
      "metadata": {
        "colab": {
          "base_uri": "https://localhost:8080/"
        },
        "id": "94SUmoesjYUE",
        "outputId": "ed2f42ae-ce56-49e4-ad5c-f3d45fa2da4d"
      },
      "source": [
        "# We successfully created and have written to a text file. Now, we want to see\n",
        "# how to read this file from Python. We can read the whole text file into one\n",
        "# string, as you can see in the following code:\n",
        "\n",
        "text = open(\"file_definition.txt\").read()\n",
        "print(text)"
      ],
      "execution_count": null,
      "outputs": [
        {
          "output_type": "stream",
          "name": "stdout",
          "text": [
            "\n",
            "A computer file is a computer resource for recording data discretely in a\n",
            "computer storage device. Just as words can be written \n",
            "to paper, so can information be written to a computer\n",
            "file. Files can be edited and transferred through the \n",
            "internet on that particular computer system.\n"
          ]
        }
      ]
    },
    {
      "cell_type": "code",
      "metadata": {
        "colab": {
          "base_uri": "https://localhost:8080/"
        },
        "id": "PcPFzOPxjqdh",
        "outputId": "b552f065-49d6-4f57-ce28-b92cb2fc6c26"
      },
      "source": [
        "# Reading in a text file in one string object is okay, as long as the file is\n",
        "# not too large. If a file is large, wwe can read in the file line by line. We\n",
        "# demonstrate how this can be achieved in the following example with a small file:\n",
        "\n",
        "with open(\"file_definition.txt\", \"r\") as fh:\n",
        "    for line in fh:\n",
        "        print(line.strip())\n",
        "        print('--------------------------------------')"
      ],
      "execution_count": null,
      "outputs": [
        {
          "output_type": "stream",
          "name": "stdout",
          "text": [
            "\n",
            "--------------------------------------\n",
            "A computer file is a computer resource for recording data discretely in a\n",
            "--------------------------------------\n",
            "computer storage device. Just as words can be written\n",
            "--------------------------------------\n",
            "to paper, so can information be written to a computer\n",
            "--------------------------------------\n",
            "file. Files can be edited and transferred through the\n",
            "--------------------------------------\n",
            "internet on that particular computer system.\n",
            "--------------------------------------\n"
          ]
        }
      ]
    },
    {
      "cell_type": "code",
      "metadata": {
        "colab": {
          "base_uri": "https://localhost:8080/"
        },
        "id": "1koQSr2aeT9b",
        "outputId": "a27c9726-ffe1-4ef6-8eab-8a764aaec6b1"
      },
      "source": [
        "'bird flies'.split()"
      ],
      "execution_count": null,
      "outputs": [
        {
          "output_type": "execute_result",
          "data": {
            "text/plain": [
              "['bird', 'flies']"
            ]
          },
          "metadata": {},
          "execution_count": 118
        }
      ]
    },
    {
      "cell_type": "code",
      "metadata": {
        "colab": {
          "base_uri": "https://localhost:8080/",
          "height": 37
        },
        "id": "yAQt_3fLeiLN",
        "outputId": "bba8f465-c4c2-499a-b54f-d876ae12199d"
      },
      "source": [
        "'   \\n sdflkdsjfkldsjfkldsfjklds \\n    '.strip()"
      ],
      "execution_count": null,
      "outputs": [
        {
          "output_type": "execute_result",
          "data": {
            "application/vnd.google.colaboratory.intrinsic+json": {
              "type": "string"
            },
            "text/plain": [
              "'sdflkdsjfkldsjfkldsfjklds'"
            ]
          },
          "metadata": {},
          "execution_count": 120
        }
      ]
    },
    {
      "cell_type": "code",
      "metadata": {
        "colab": {
          "base_uri": "https://localhost:8080/"
        },
        "id": "Rr-uXq7Jj0XX",
        "outputId": "255624ca-d641-45d5-b6e2-0119010d8ddb"
      },
      "source": [
        "# Some people don't use the with statement to read or write files. This is not\n",
        "# a good idea. The code above without with looks like this:\n",
        "\n",
        "fh = open(\"file_definition.txt\")\n",
        "for line in fh:\n",
        "    print(line.strip())\n",
        "    print('---------------------------')\n",
        "fh.close()"
      ],
      "execution_count": null,
      "outputs": [
        {
          "output_type": "stream",
          "name": "stdout",
          "text": [
            "\n",
            "---------------------------\n",
            "A computer file is a computer resource for recording data discretely in a\n",
            "---------------------------\n",
            "computer storage device. Just as words can be written\n",
            "---------------------------\n",
            "to paper, so can information be written to a computer\n",
            "---------------------------\n",
            "file. Files can be edited and transferred through the\n",
            "---------------------------\n",
            "internet on that particular computer system.\n",
            "---------------------------\n"
          ]
        }
      ]
    },
    {
      "cell_type": "markdown",
      "metadata": {
        "id": "UVkM8ovzkXHC"
      },
      "source": [
        "**A striking difference between both implementation consists in the usage of close. If we use with, we do not have to explicitly close the file. The file will be closed automatically, when the with blocks ends. Without with, we have to explicitly close the file, like in our second example with fh.close(). There is a more important difference between them: If an exception occurs inside of the ẁith block, the file will be closed. If an exception occurs in the variant without with before the close, the file will not be closed. This means, you should alwawys use the with statement**\n",
        "\n",
        "We saw already how to write into a file with \"write\". The following code is an example, in which we show how to read in from one file line by line, change the lines and write the changed content into another file. The file can be downloaded: pythonista_and_python.txt:"
      ]
    },
    {
      "cell_type": "code",
      "metadata": {
        "colab": {
          "base_uri": "https://localhost:8080/"
        },
        "id": "4GLBbRn_kJzA",
        "outputId": "8700b11c-3427-4818-95a9-26e0ab0c376d"
      },
      "source": [
        "# first lets download file:\n",
        "\n",
        "! wget https://www.python-course.eu/pythonista_and_python.txt\n",
        "!ls"
      ],
      "execution_count": null,
      "outputs": [
        {
          "output_type": "stream",
          "name": "stdout",
          "text": [
            "--2021-09-27 09:26:23--  https://www.python-course.eu/pythonista_and_python.txt\n",
            "Resolving www.python-course.eu (www.python-course.eu)... 138.201.17.115, 2a01:4f8:171:286f::4\n",
            "Connecting to www.python-course.eu (www.python-course.eu)|138.201.17.115|:443... connected.\n",
            "HTTP request sent, awaiting response... 200 OK\n",
            "Length: 406 [text/plain]\n",
            "Saving to: ‘pythonista_and_python.txt’\n",
            "\n",
            "pythonista_and_pyth 100%[===================>]     406  --.-KB/s    in 0s      \n",
            "\n",
            "2021-09-27 09:26:24 (31.8 MB/s) - ‘pythonista_and_python.txt’ saved [406/406]\n",
            "\n",
            "file_definition.txt  pythonista_and_python.txt\tsample_data  text_file.txt\n"
          ]
        }
      ]
    },
    {
      "cell_type": "code",
      "metadata": {
        "colab": {
          "base_uri": "https://localhost:8080/"
        },
        "id": "7xf9pFBekv8h",
        "outputId": "f8e71878-af66-4c1c-cb5e-5c52503055c6"
      },
      "source": [
        "with open(\"pythonista_and_python.txt\") as infile:\n",
        "    with open(\"python_newbie_and_the_guru.txt\", \"w\") as outfile:\n",
        "        for line in infile:\n",
        "            line = line.replace(\"Pythonista\", \"Python newbie\")\n",
        "            line = line.replace(\"Python snake\", \"Python guru\")\n",
        "            print(line.rstrip())\n",
        "            # write the line into the file:\n",
        "            outfile.write(line)\n",
        "            "
      ],
      "execution_count": null,
      "outputs": [
        {
          "output_type": "stream",
          "name": "stdout",
          "text": [
            "A blue Python newbie, green behind the ears, went to Pythonia.\n",
            "She wanted to visit the famous wise green Python guru.\n",
            "She wanted to ask her about the white way to avoid the black.\n",
            "The bright path to program in a yellow, green, or blue style.\n",
            "The green Python turned red, when she addressed her.\n",
            "The Python newbie turned yellow in turn.\n",
            "After a long but not endless loop  the wise Python uttered:\n",
            "\"The rainbow!\"\n"
          ]
        }
      ]
    },
    {
      "cell_type": "markdown",
      "metadata": {
        "id": "yC5Im7BIlKwz"
      },
      "source": [
        "As we have already mentioned: If a file is not to large and if we have to do replacements like we did in the previous example, we wouldn't read in and write out the file line by line. It is much better to use the readmethod, which returns a string containing the complete content of the file, including the carriage returns and line feeds. We can apply the changes to this string and save it into the new file. Working like this, there is no need for a withconstruct, because there will be no reference to the file, i.e. it will be immediately deleted afeter reading and writing:"
      ]
    },
    {
      "cell_type": "code",
      "metadata": {
        "colab": {
          "base_uri": "https://localhost:8080/"
        },
        "id": "H2Kzj25Ck3cl",
        "outputId": "dbbb08fe-8bca-43ba-a16d-d29fc5e7f0d7"
      },
      "source": [
        "txt = open(\"pythonista_and_python.txt\").read()\n",
        "txt = txt.replace(\"Pythonista\", \"Python newbie\")\n",
        "txt = txt.replace(\"Python snake\", \"Python guru\")\n",
        "open(\"python_newbie_and_the_guru.txt\", \"w\").write(txt)\n",
        "\n",
        "!ls"
      ],
      "execution_count": null,
      "outputs": [
        {
          "output_type": "stream",
          "name": "stdout",
          "text": [
            "file_definition.txt\t   python_newbie_and_the_guru.txt  text_file.txt\n",
            "pythonista_and_python.txt  sample_data\n"
          ]
        }
      ]
    },
    {
      "cell_type": "markdown",
      "metadata": {
        "id": "ERTsPDVflc-M"
      },
      "source": [
        "#### Resetting the Files Current Position\n",
        "\n",
        "It's possible to set - or reset - a file's position to a certain position, also called the offset. To do this, we use the method seek. The parameter of seek determines the offset which we want to set the current position to. To work with seek, we will often need the method tell which \"tells\" us the current position. When we have just opened a file, it will be zero. Before we demonstrate the way of working of both seek and tell, we create a simple file on which we will perform our commands:"
      ]
    },
    {
      "cell_type": "code",
      "metadata": {
        "colab": {
          "base_uri": "https://localhost:8080/"
        },
        "id": "aFKq-6VLlShP",
        "outputId": "83294c31-40e9-49bd-c1b1-d60580d0f371"
      },
      "source": [
        "open(\"small_text.txt\", \"w\").write(\"brown is her favorite colour\")\n",
        "\n",
        "!ls"
      ],
      "execution_count": null,
      "outputs": [
        {
          "output_type": "stream",
          "name": "stdout",
          "text": [
            "file_definition.txt\t   python_newbie_and_the_guru.txt  small_text.txt\n",
            "pythonista_and_python.txt  sample_data\t\t\t   text_file.txt\n"
          ]
        }
      ]
    },
    {
      "cell_type": "code",
      "metadata": {
        "colab": {
          "base_uri": "https://localhost:8080/"
        },
        "id": "ITk46h_Xlpzy",
        "outputId": "59af50ac-b031-4dfa-ad37-1e20a5d2f90c"
      },
      "source": [
        "# The method tell returns the current stream position, i.e. the position where\n",
        "# we will continue, when we use a \"read\", \"readline\" or so on:\n",
        "\n",
        "fh = open(\"small_text.txt\")\n",
        "fh.tell()\n",
        "\n",
        "# Zero tells us that we are positioned at the first character of the file."
      ],
      "execution_count": null,
      "outputs": [
        {
          "output_type": "execute_result",
          "data": {
            "text/plain": [
              "0"
            ]
          },
          "metadata": {},
          "execution_count": 122
        }
      ]
    },
    {
      "cell_type": "code",
      "metadata": {
        "colab": {
          "base_uri": "https://localhost:8080/"
        },
        "id": "N03XkpN0hPqa",
        "outputId": "8336995a-662d-4e29-cb25-451960f3c3ee"
      },
      "source": [
        "!cat small_text.txt"
      ],
      "execution_count": null,
      "outputs": [
        {
          "output_type": "stream",
          "name": "stdout",
          "text": [
            "brown is her favorite colour"
          ]
        }
      ]
    },
    {
      "cell_type": "code",
      "metadata": {
        "colab": {
          "base_uri": "https://localhost:8080/",
          "height": 37
        },
        "id": "QVUlSUXVl0-O",
        "outputId": "caca2198-4e52-46ec-85ee-7cb311272f1e"
      },
      "source": [
        "# We will read now the next five characters of the file:\n",
        "\n",
        "fh.read(5)"
      ],
      "execution_count": null,
      "outputs": [
        {
          "output_type": "execute_result",
          "data": {
            "application/vnd.google.colaboratory.intrinsic+json": {
              "type": "string"
            },
            "text/plain": [
              "'brown'"
            ]
          },
          "metadata": {},
          "execution_count": 21
        }
      ]
    },
    {
      "cell_type": "code",
      "metadata": {
        "colab": {
          "base_uri": "https://localhost:8080/"
        },
        "id": "-UCLvId9l9Yg",
        "outputId": "ce0a3a09-6c4f-4752-8af3-37e695b3e827"
      },
      "source": [
        "# Using tellagain, shows that we are located at position 5:\n",
        "\n",
        "fh.tell()"
      ],
      "execution_count": null,
      "outputs": [
        {
          "output_type": "execute_result",
          "data": {
            "text/plain": [
              "5"
            ]
          },
          "metadata": {},
          "execution_count": 22
        }
      ]
    },
    {
      "cell_type": "code",
      "metadata": {
        "colab": {
          "base_uri": "https://localhost:8080/",
          "height": 37
        },
        "id": "bx-4ORRumB4n",
        "outputId": "5b15c1e4-f038-4061-8e55-d42bc251c1d0"
      },
      "source": [
        "# Using read without parameters will read the remainder of the file\n",
        "# starting from this position:\n",
        "\n",
        "fh.read()"
      ],
      "execution_count": null,
      "outputs": [
        {
          "output_type": "execute_result",
          "data": {
            "application/vnd.google.colaboratory.intrinsic+json": {
              "type": "string"
            },
            "text/plain": [
              "' is her favorite colour'"
            ]
          },
          "metadata": {},
          "execution_count": 23
        }
      ]
    },
    {
      "cell_type": "code",
      "metadata": {
        "colab": {
          "base_uri": "https://localhost:8080/"
        },
        "id": "sMij-h0LmHOh",
        "outputId": "695e6607-2706-48b4-ac80-80cd4b5610ee"
      },
      "source": [
        "# Using tellagain, tells us about the position after the last character of the\n",
        "# file. This number corresponds to the number of characters of the file!\n",
        "\n",
        "fh.tell()"
      ],
      "execution_count": null,
      "outputs": [
        {
          "output_type": "execute_result",
          "data": {
            "text/plain": [
              "28"
            ]
          },
          "metadata": {},
          "execution_count": 24
        }
      ]
    },
    {
      "cell_type": "markdown",
      "metadata": {
        "id": "9j8BVay3mSnH"
      },
      "source": [
        "With seekwe can move the position to an arbitrary place in the file. The method seek takes two parameters:\n",
        "\n",
        "`fh.seek(offset, startpoint_for_offset)`\n",
        "\n",
        "where fh is the file pointer, we are working with. The parameter offset specifies how many positions the pointer will be moved. The question is from which position should the pointer be moved. This position is specified by the second parameter startpoint_for_offset. It can have the follwoing values:\n",
        "\n",
        "* 0: reference point is the beginning of the file\n",
        "* 1: reference point is the current file position\n",
        "* 2: reference point is the end of the file\n",
        "\n",
        "if the startpoint_for_offset parameter is not given, it defaults to 0.\n",
        "\n",
        "WARNING: The values 1 and 2 for the second parameter work only, if the file has been opened for binary reading. We will cover this later!"
      ]
    },
    {
      "cell_type": "code",
      "metadata": {
        "colab": {
          "base_uri": "https://localhost:8080/",
          "height": 54
        },
        "id": "lOo-RQjlmNBy",
        "outputId": "f356a636-f508-49f3-92c7-e5fd5a68d72e"
      },
      "source": [
        "# The following examples, use the default behaviour:\n",
        "\n",
        "fh.seek(13)\n",
        "print(fh.tell())   # just to show you, what seek did!\n",
        "fh.read()          # reading the remainder of the file"
      ],
      "execution_count": null,
      "outputs": [
        {
          "output_type": "stream",
          "name": "stdout",
          "text": [
            "13\n"
          ]
        },
        {
          "output_type": "execute_result",
          "data": {
            "application/vnd.google.colaboratory.intrinsic+json": {
              "type": "string"
            },
            "text/plain": [
              "'favorite colour'"
            ]
          },
          "metadata": {},
          "execution_count": 123
        }
      ]
    },
    {
      "cell_type": "markdown",
      "metadata": {
        "id": "a4xO6H4Lm5X2"
      },
      "source": [
        "It is also possible to move the position relative to the current position. If we want to move k characters to the right, we can just set the argument of seek to fh.tell() + k"
      ]
    },
    {
      "cell_type": "code",
      "metadata": {
        "colab": {
          "base_uri": "https://localhost:8080/"
        },
        "id": "p2UAm6Ugm1iU",
        "outputId": "41f2fa0d-6d1f-4077-a2f3-5e6f7c8986bb"
      },
      "source": [
        "k = 6\n",
        "fh.seek(5)    # setting the position to 5\n",
        "fh.seek(fh.tell() + k)   #  moving k positions to the right\n",
        "print(\"We are now at position: \", fh.tell())"
      ],
      "execution_count": null,
      "outputs": [
        {
          "output_type": "stream",
          "name": "stdout",
          "text": [
            "We are now at position:  11\n"
          ]
        }
      ]
    },
    {
      "cell_type": "markdown",
      "metadata": {
        "id": "22YDFiU9nNm3"
      },
      "source": [
        "`seek` doesn't like negative arguments for the position. On the other hand it doesn't matter, if the value for the position is larger than the length of the file. We define a function in the following, which will set the position to zero, if a negative value is applied. As there is no efficient way to check the length of a file and because it doesn't matter, if the position is greater than the length of the file, we will keep possible values greater than the length of a file:"
      ]
    },
    {
      "cell_type": "code",
      "metadata": {
        "colab": {
          "base_uri": "https://localhost:8080/"
        },
        "id": "O0mR-rAjm8jH",
        "outputId": "bb9c20b1-a4dd-46d4-fa6a-258f9dd545d9"
      },
      "source": [
        "def relative_seek(fp, k):\n",
        "    \"\"\" rel_seek moves the position of the file pointer k characters to\n",
        "    the left (k<0) or right (k>0) \n",
        "    \"\"\"\n",
        "    position = fp.tell() + k\n",
        "    if position < 0:\n",
        "        position = 0\n",
        "    fh.seek(position)\n",
        "    \n",
        "\n",
        "with open(\"small_text.txt\") as fh:\n",
        "    print(fh.tell())\n",
        "    relative_seek(fh, 7)\n",
        "    print(fh.tell())\n",
        "    relative_seek(fh, -5)\n",
        "    print(fh.tell())\n",
        "    relative_seek(fh, -10)\n",
        "    print(fh.tell())"
      ],
      "execution_count": null,
      "outputs": [
        {
          "output_type": "stream",
          "name": "stdout",
          "text": [
            "0\n",
            "7\n",
            "2\n",
            "0\n"
          ]
        }
      ]
    },
    {
      "cell_type": "markdown",
      "metadata": {
        "id": "kBNlT1CXnvZe"
      },
      "source": [
        "You might have thought, when we wrote the function relative_seek why do we not use the second parameter of seek. After all the help file says \"1 -- current stream position;\". What the help file doesn't say is the fact that seek needs a file pointer opened with \"br\" (binary read), if the second parameter is set to 1 or 2. We show this in the next subchapter\n",
        "\n",
        "#### Binary read\n",
        "\n",
        "So far we have only used the first parameter of open, i.e. the filename. The second parameter is optional and is set to \"r\" (read) by default. \"r\" means that the file is read in text mode. In text mode, if encoding (another parameter of open) is not specified the encoding used is platform dependent: locale.getpreferredencoding(False) is called to get the current locale encoding.\n",
        "\n",
        "The second parameter specifies the mode of access to the file or in other words the mode in which the file is opened. Files opened in binary mode (appending 'b' to the mode argument) return contents as bytes objects without any decoding.\n",
        "\n",
        "We will demonstrate this in the following example. To demonstrate the different effects we need a string which uses characters which are not included in standard ASCII. This is why we use a Turkish text, because it uses many special characters and Umlaute. the English translation means \"See you, I'll come tomorrow.\""
      ]
    },
    {
      "cell_type": "code",
      "metadata": {
        "id": "90WsDsHcnRyg"
      },
      "source": [
        "# We will write a file with the Turkish text \"Görüşürüz, yarın geleceğim.\":\n",
        "\n",
        "txt = \"Görüşürüz, yarın geleceğim.\" \n",
        "number_of_chars_written = open(\"see_you_tomorrow.txt\", \"w\").write(txt)"
      ],
      "execution_count": null,
      "outputs": []
    },
    {
      "cell_type": "code",
      "metadata": {
        "colab": {
          "base_uri": "https://localhost:8080/"
        },
        "id": "tasyyKxrorq9",
        "outputId": "52a434d6-b791-4dcf-c6da-e3681702b5a9"
      },
      "source": [
        "# We will read in this files in text mode and binary mode to demonstrate the differences:\n",
        "\n",
        "text = open(\"see_you_tomorrow.txt\", \"r\").read()\n",
        "print(\"text mode: \", text)\n",
        "text_binary = open(\"see_you_tomorrow.txt\", \"rb\").read()\n",
        "print(\"binary mode: \", text_binary)"
      ],
      "execution_count": null,
      "outputs": [
        {
          "output_type": "stream",
          "name": "stdout",
          "text": [
            "text mode:  Görüşürüz, yarın geleceğim.\n",
            "binary mode:  b'G\\xc3\\xb6r\\xc3\\xbc\\xc5\\x9f\\xc3\\xbcr\\xc3\\xbcz, yar\\xc4\\xb1n gelece\\xc4\\x9fim.'\n"
          ]
        }
      ]
    },
    {
      "cell_type": "code",
      "metadata": {
        "colab": {
          "base_uri": "https://localhost:8080/"
        },
        "id": "fgbQTFJ_oxXS",
        "outputId": "e5855c35-d7f2-4131-f924-cf5dcf171a1e"
      },
      "source": [
        "# In binary mode, the characters which are not plain ASCII like \"ö\", \"ü\", \"ş\",\n",
        "# \"ğ\" and \"ı\" are represented by more than one byte. In our case by two characters.\n",
        "# 14 bytes are needed for \"görüşürüz\":\n",
        "\n",
        "text_binary[:14]\n",
        "\n",
        "# \"ö\" for example consists of the two bytes \"\\xc3\" and \"\\xb6\"."
      ],
      "execution_count": null,
      "outputs": [
        {
          "output_type": "execute_result",
          "data": {
            "text/plain": [
              "b'G\\xc3\\xb6r\\xc3\\xbc\\xc5\\x9f\\xc3\\xbcr\\xc3\\xbcz'"
            ]
          },
          "metadata": {},
          "execution_count": 31
        }
      ]
    },
    {
      "cell_type": "code",
      "metadata": {
        "colab": {
          "base_uri": "https://localhost:8080/"
        },
        "id": "ScYF4tCoo6Qc",
        "outputId": "1600c4fe-85c2-4e72-ab69-f9a56716ea12"
      },
      "source": [
        "# There are two ways to turn a byte string into a string again:\n",
        "\n",
        "t = text_binary.decode(\"utf-8\")\n",
        "print(t)\n",
        "t2 = str(text_binary, \"utf-8\")\n",
        "print(t2)"
      ],
      "execution_count": null,
      "outputs": [
        {
          "output_type": "stream",
          "name": "stdout",
          "text": [
            "Görüşürüz, yarın geleceğim.\n",
            "Görüşürüz, yarın geleceğim.\n"
          ]
        }
      ]
    },
    {
      "cell_type": "markdown",
      "metadata": {
        "id": "yzEufek7pHwv"
      },
      "source": [
        "It is possible to use the values \"1\" and \"2\" for the second parameter of seek, if we open a file in binary format:"
      ]
    },
    {
      "cell_type": "code",
      "metadata": {
        "colab": {
          "base_uri": "https://localhost:8080/"
        },
        "id": "0LMe8ZIXpEmJ",
        "outputId": "f1467c52-5664-4015-b130-95623683a0e7"
      },
      "source": [
        "with open(\"see_you_tomorrow.txt\", \"rb\") as fh:\n",
        "    x = fh.read(14)\n",
        "    print(x)\n",
        "    # move 5 bytes to the right from the current position:\n",
        "    fh.seek(5, 1)\n",
        "    x = fh.read(3)\n",
        "    print(x)\n",
        "    print(str(x, \"utf-8\"))\n",
        "    # let's move to the 8th byte from the right side of the byte string:\n",
        "    fh.seek(-8, 2)\n",
        "    x = fh.read(5)\n",
        "    print(x)\n",
        "    print(str(x, \"utf-8\"))"
      ],
      "execution_count": null,
      "outputs": [
        {
          "output_type": "stream",
          "name": "stdout",
          "text": [
            "b'G\\xc3\\xb6r\\xc3\\xbc\\xc5\\x9f\\xc3\\xbcr\\xc3\\xbcz'\n",
            "b'\\xc4\\xb1n'\n",
            "ın\n",
            "b'ece\\xc4\\x9f'\n",
            "eceğ\n"
          ]
        }
      ]
    },
    {
      "cell_type": "markdown",
      "metadata": {
        "id": "ZkBGvM3FqxVD"
      },
      "source": [
        "#### Read and Write to the Same File\n",
        "\n",
        "In the following example we will open a file for reading and writing at the same time. If the file doesn't exist, it will be created. If you want to open an existing file for read and write, you should better use \"r+\", because this will not delete the content of the file."
      ]
    },
    {
      "cell_type": "code",
      "metadata": {
        "colab": {
          "base_uri": "https://localhost:8080/"
        },
        "id": "HlQgfvcIpasX",
        "outputId": "0a1b50a8-a62a-4db4-cc31-d305d2c5c108"
      },
      "source": [
        "fh = open('colours.txt', 'w+')\n",
        "fh.write('The colour brown')\n",
        "\n",
        "#Go to the 12th byte in the file, counting starts with 0\n",
        "fh.seek(11)   \n",
        "print(fh.read(5))\n",
        "print(fh.tell())\n",
        "fh.seek(11)\n",
        "fh.write('green')\n",
        "fh.seek(0)\n",
        "content = fh.read()\n",
        "print(content)"
      ],
      "execution_count": null,
      "outputs": [
        {
          "output_type": "stream",
          "name": "stdout",
          "text": [
            "brown\n",
            "16\n",
            "The colour green\n"
          ]
        }
      ]
    },
    {
      "cell_type": "markdown",
      "metadata": {
        "id": "GiNJ0t9crC1a"
      },
      "source": [
        "#### \"How to get into a Pickle\"\n",
        "\n",
        "You can save your data in an easy way that you or better your program can reread them at a later date again. We are \"pickling\" the data, so that nothing gets lost.\n",
        "\n",
        "Python offers a module for this purpose, which is called \"pickle\". With the algorithms of the pickle module we can serialize and de-serialize Python object structures. \"Pickling\" denotes the process which converts a Python object hierarchy into a byte stream, and \"unpickling\" on the other hand is the inverse operation, i.e. the byte stream is converted back into an object hierarchy. What we call pickling (and unpickling) is also known as \"serialization\" or \"flattening\" a data structure.\n",
        "\n",
        "An object can be dumped with the dump method of the pickle module:\n",
        "\n",
        "`pickle.dump(obj, file[,protocol, *, fix_imports=True])`\n",
        "\n",
        "`dump()` writes a pickled representation of obj to the open file object file. The optional protocol argument tells the pickler to use the given protocol:\n",
        "\n",
        "* Protocol version 0 is the original (before Python3) human-readable (ascii) protocol and is backwards compatible with previous versions of Python.\n",
        "* Protocol version 1 is the old binary format which is also compatible with previous versions of Python.\n",
        "* Protocol version 2 was introduced in Python 2.3. It provides much more efficient pickling of new-style classes.\n",
        "* Protocol version 3 was introduced with Python 3.0. It has explicit support for bytes and cannot be unpickled by Python 2.x pickle modules. It's the recommended protocol of Python 3.x.\n",
        "\n",
        "The default protocol of Python3 is 3.\n",
        "\n",
        "**If fix_imports is True and protocol is less than 3, pickle will try to map the new Python3 names to the old module names used in Python2, so that the pickle data stream is readable with Python 2.**\n",
        "\n",
        "Objects which have been dumped to a file with pickle.dump can be reread into a program by using the method pickle.load(file). pickle.load recognizes automatically, which format had been used for writing the data. A simple example:"
      ]
    },
    {
      "cell_type": "code",
      "metadata": {
        "colab": {
          "base_uri": "https://localhost:8080/"
        },
        "id": "6gZF2qGyq_SD",
        "outputId": "fa0f798b-5340-46d0-88f2-2f8216cafa1f"
      },
      "source": [
        "import pickle\n",
        "\n",
        "cities = [\"Paris\", \"Dijon\", \"Lyon\", \"Strasbourg\"]\n",
        "fh = open(\"data.pkl\", \"bw\")\n",
        "pickle.dump(cities, fh)\n",
        "fh.close()\n",
        "\n",
        "with open(\"data.pkl\", \"bw\") as h:\n",
        "    pickle.dump(...)\n",
        "\n",
        "!ls"
      ],
      "execution_count": null,
      "outputs": [
        {
          "output_type": "stream",
          "name": "stdout",
          "text": [
            "colours.txt\t     pythonista_and_python.txt\t     see_you_tomorrow.txt\n",
            "data.pkl\t     python_newbie_and_the_guru.txt  small_text.txt\n",
            "file_definition.txt  sample_data\t\t     text_file.txt\n"
          ]
        }
      ]
    },
    {
      "cell_type": "code",
      "metadata": {
        "colab": {
          "base_uri": "https://localhost:8080/"
        },
        "id": "c6cfqOqrsIKx",
        "outputId": "524938b6-9e77-4dbf-a5b3-0b5c3706e42e"
      },
      "source": [
        "# The file data.pkl can be read in again by Python in the same or another \n",
        "# session or by a different program:\n",
        "\n",
        "f = open(\"data.pkl\", \"rb\")\n",
        "villes = pickle.load(f)\n",
        "print(villes)\n",
        "['Paris', 'Dijon', 'Lyon', 'Strasbourg']"
      ],
      "execution_count": null,
      "outputs": [
        {
          "output_type": "stream",
          "name": "stdout",
          "text": [
            "['Paris', 'Dijon', 'Lyon', 'Strasbourg']\n"
          ]
        },
        {
          "output_type": "execute_result",
          "data": {
            "text/plain": [
              "['Paris', 'Dijon', 'Lyon', 'Strasbourg']"
            ]
          },
          "metadata": {},
          "execution_count": 38
        }
      ]
    },
    {
      "cell_type": "code",
      "metadata": {
        "colab": {
          "base_uri": "https://localhost:8080/"
        },
        "id": "_iNZ-9nOsQDA",
        "outputId": "7f3a7b58-1d46-484a-c49a-160947eefdf2"
      },
      "source": [
        "# Only the objects and not their names are saved. That's why we use the assignment\n",
        "# to villes in the previous example, i.e. data = pickle.load(f).\n",
        "\n",
        "# In our previous example, we had pickled only one object, i.e. a list of French\n",
        "# cities. But what about pickling multiple objects? The solution is easy: We pack\n",
        "# the objects into another object, so we will only have to pickle one object again.\n",
        "# We will pack two lists \"programming_languages\" and \"python_dialects\" into a list\n",
        "# pickle_objects in the following example:\n",
        "\n",
        "import pickle\n",
        "fh = open(\"data.pkl\",\"bw\")\n",
        "programming_languages = [\"Python\", \"Perl\", \"C++\", \"Java\", \"Lisp\"]\n",
        "python_dialects = [\"Jython\", \"IronPython\", \"CPython\"]\n",
        "pickle_object = (programming_languages, python_dialects)\n",
        "pickle.dump(pickle_object,fh)\n",
        "fh.close()\n",
        "\n",
        "# The pickled data from the previous example, - i.e. the data which we have written\n",
        "# to the file data.pkl, - can be separated into two lists again, when we reread the data:\n",
        "\n",
        "f = open(\"data.pkl\",\"rb\")\n",
        "languages, dialects = pickle.load(f)\n",
        "print(languages, dialects) "
      ],
      "execution_count": null,
      "outputs": [
        {
          "output_type": "stream",
          "name": "stdout",
          "text": [
            "['Python', 'Perl', 'C++', 'Java', 'Lisp'] ['Jython', 'IronPython', 'CPython']\n"
          ]
        }
      ]
    },
    {
      "cell_type": "markdown",
      "metadata": {
        "id": "XQlbb0nKs_Mg"
      },
      "source": [
        "#### `shelve` Module\n",
        "\n",
        "One drawback of the pickle module is that it is only capable of pickling one object at the time, which has to be unpickled in one go. Let's imagine this data object is a dictionary. It may be desirable that we don't have to save and load every time the whole dictionary, but save and load just a single value corresponding to just one key. The shelve module is the solution to this request. A \"shelf\" - as used in the shelve module - is a persistent, dictionary-like object. The difference with dbm databases is that the values (not the keys!) in a shelf can be essentially arbitrary Python objects -- anything that the \"pickle\" module can handle. This includes most class instances, recursive data types, and objects containing lots of shared sub-objects. The keys have to be strings.\n",
        "\n",
        "The shelve module can be easily used. Actually, it is as easy as using a dictionary in Python. Before we can use a shelf object, we have to import the module. After this, we have to open a shelve object with the shelve method open. The open method opens a special shelf file for reading and writing:\n"
      ]
    },
    {
      "cell_type": "code",
      "metadata": {
        "colab": {
          "base_uri": "https://localhost:8080/"
        },
        "id": "biFitcfWstim",
        "outputId": "0a5d5cd6-2bf9-40ad-e2ce-2910ff177395"
      },
      "source": [
        "import shelve\n",
        "s = shelve.open(\"MyShelve\")\n",
        "s"
      ],
      "execution_count": null,
      "outputs": [
        {
          "output_type": "execute_result",
          "data": {
            "text/plain": [
              "<shelve.DbfilenameShelf at 0x7f4cebf2d590>"
            ]
          },
          "metadata": {},
          "execution_count": 43
        }
      ]
    },
    {
      "cell_type": "markdown",
      "metadata": {
        "id": "HUDqhAbKtiYg"
      },
      "source": [
        "If the file \"MyShelve\" already exists, the open method will try to open it. If it isn't a shelf file, - i.e. a file which has been created with the shelve module, - we will get an error message. If the file doesn't exist, it will be created.\n",
        "\n",
        "We can use s like an ordinary dictionary, if we use strings as keys:"
      ]
    },
    {
      "cell_type": "code",
      "metadata": {
        "colab": {
          "base_uri": "https://localhost:8080/"
        },
        "id": "1ytJjvuAtZkT",
        "outputId": "ca74c53e-85d1-441e-da8d-c1e6951c0585"
      },
      "source": [
        "s[\"street\"] = \"Fleet Str\"\n",
        "s[\"city\"] = \"London\"\n",
        "for key in s:\n",
        "    print(key)"
      ],
      "execution_count": null,
      "outputs": [
        {
          "output_type": "stream",
          "name": "stdout",
          "text": [
            "city\n",
            "street\n"
          ]
        }
      ]
    },
    {
      "cell_type": "code",
      "metadata": {
        "id": "XAbLurjhta_R"
      },
      "source": [
        "# A shelf object has to be closed with the close method:\n",
        "\n",
        "s.close()"
      ],
      "execution_count": null,
      "outputs": []
    },
    {
      "cell_type": "code",
      "metadata": {
        "colab": {
          "base_uri": "https://localhost:8080/"
        },
        "id": "-qgh-kNNtpIK",
        "outputId": "fb56ce2b-0fd6-4fbb-8e85-ff23f121d1b4"
      },
      "source": [
        "# We can use the previously created shelf file in another program or in an interactive Python session:\n",
        "\n",
        "s = shelve.open(\"MyShelve\")\n",
        "\n",
        "print(s[\"street\"])\n",
        "\n",
        "print(s[\"city\"])"
      ],
      "execution_count": null,
      "outputs": [
        {
          "output_type": "stream",
          "name": "stdout",
          "text": [
            "Fleet Str\n",
            "London\n"
          ]
        }
      ]
    },
    {
      "cell_type": "code",
      "metadata": {
        "colab": {
          "base_uri": "https://localhost:8080/"
        },
        "id": "ldMb9HcBt4N6",
        "outputId": "cef61265-cd69-4ea5-90cc-0c93304e4833"
      },
      "source": [
        "# It is also possible to cast a shelf object into an \"ordinary\" dictionary with the dict function:\n",
        "\n",
        "dict(s)"
      ],
      "execution_count": null,
      "outputs": [
        {
          "output_type": "execute_result",
          "data": {
            "text/plain": [
              "{'city': 'London', 'street': 'Fleet Str'}"
            ]
          },
          "metadata": {},
          "execution_count": 48
        }
      ]
    },
    {
      "cell_type": "markdown",
      "metadata": {
        "id": "UBrY0jXOuYkS"
      },
      "source": [
        "# Modular Programming and Modules\n",
        "\n",
        "![](https://www.python-course.eu/images/legos.webp)\n",
        "\n",
        "Modular design means that a complex system is broken down into smaller parts or components, i.e. modules. These components can be independently created and tested. In many cases, they can be even used in other systems as well.\n",
        "\n",
        "If you want to develop programs which are readable, reliable and maintainable without too much effort, you have to use some kind of modular software design. Especially if your application has a certain size. There exists a variety of concepts to design software in modular form. Modular programming is a software design technique to split your code into separate parts. These parts are called modules. The focus for this separation should be to have modules with no or just few dependencies upon other modules. In other words: Minimization of dependencies is the goal. When creating a modular system, several modules are built separately and more or less independently. The executable application will be created by putting them together."
      ]
    },
    {
      "cell_type": "markdown",
      "metadata": {
        "id": "ykUcuGzIu3lv"
      },
      "source": [
        "#### Importing Modules\n",
        "\n",
        "So far we haven't explained what a Python module is. In a nutshell: **every file, which has the file extension .py and consists of proper Python code, can be seen or is a module!** There is no special syntax required to make such a file a module. A module can contain arbitrary objects, for example files, classes or attributes. All those objects can be accessed after an import. There are different ways to import a modules. We demonstrate this with the math module:"
      ]
    },
    {
      "cell_type": "code",
      "metadata": {
        "id": "c5Sx5mmjt-jy"
      },
      "source": [
        "import math"
      ],
      "execution_count": null,
      "outputs": []
    },
    {
      "cell_type": "markdown",
      "metadata": {
        "id": "Z82dYMgCvGsr"
      },
      "source": [
        "The module math provides mathematical constants and functions, e.g. π (math.pi), the sine function (math.sin()) and the cosine function (math.cos()). Every attribute or function can only be accessed by putting \"math.\" in front of the name:"
      ]
    },
    {
      "cell_type": "code",
      "metadata": {
        "colab": {
          "base_uri": "https://localhost:8080/"
        },
        "id": "RENMMQIDvDh3",
        "outputId": "18be9786-d8ab-437a-a48e-9f5fb4f68fb3"
      },
      "source": [
        "math.pi"
      ],
      "execution_count": null,
      "outputs": [
        {
          "output_type": "execute_result",
          "data": {
            "text/plain": [
              "3.141592653589793"
            ]
          },
          "metadata": {},
          "execution_count": 50
        }
      ]
    },
    {
      "cell_type": "code",
      "metadata": {
        "colab": {
          "base_uri": "https://localhost:8080/"
        },
        "id": "x5tPq0WWvKhv",
        "outputId": "f6545f56-7c29-4fdb-eb6b-e8867e5599a8"
      },
      "source": [
        "math.sin(math.pi/2)"
      ],
      "execution_count": null,
      "outputs": [
        {
          "output_type": "execute_result",
          "data": {
            "text/plain": [
              "1.0"
            ]
          },
          "metadata": {},
          "execution_count": 51
        }
      ]
    },
    {
      "cell_type": "code",
      "metadata": {
        "colab": {
          "base_uri": "https://localhost:8080/"
        },
        "id": "GWb3UZyivL7G",
        "outputId": "2acfe6f0-c481-46a4-a0e7-6b1834d394e6"
      },
      "source": [
        "math.cos(math.pi/2)"
      ],
      "execution_count": null,
      "outputs": [
        {
          "output_type": "execute_result",
          "data": {
            "text/plain": [
              "6.123233995736766e-17"
            ]
          },
          "metadata": {},
          "execution_count": 52
        }
      ]
    },
    {
      "cell_type": "code",
      "metadata": {
        "id": "ovY_JgySvOMU"
      },
      "source": [
        "# It's possible to import more than one module in one import statement. In this\n",
        "# case the module names are separated by commas:\n",
        "\n",
        "import math, random"
      ],
      "execution_count": null,
      "outputs": []
    },
    {
      "cell_type": "markdown",
      "metadata": {
        "id": "fXi1cRfnwleU"
      },
      "source": [
        "Import statements can be positioned anywhere in the program, but it's good style to place them directly at the beginning of a program.\n",
        "\n",
        "If only certain objects of a module are needed, we can import only those:"
      ]
    },
    {
      "cell_type": "code",
      "metadata": {
        "id": "FLXgnC2EwfPt"
      },
      "source": [
        "from math import sin, pi"
      ],
      "execution_count": null,
      "outputs": []
    },
    {
      "cell_type": "markdown",
      "metadata": {
        "id": "jvdRdk1LwvUB"
      },
      "source": [
        "The other objects, e.g. cos, are not available after this import. We are capable of accessing sin and pi directly, i.e. without prefixing them with \"math.\" Instead of explicitly importing certain objects from a module, it's also possible to import everything in the namespace **except that is beginning with an underscore \"_\"** of the importing module. This can be achieved by using an asterisk in the import:"
      ]
    },
    {
      "cell_type": "code",
      "metadata": {
        "colab": {
          "base_uri": "https://localhost:8080/"
        },
        "id": "qDLW9Q4ywpaI",
        "outputId": "43c52ab2-939c-42c6-df0e-7831556f2a66"
      },
      "source": [
        "from math import *\n",
        "\n",
        "sin(3.01) + tan(cos(2.1)) + e"
      ],
      "execution_count": null,
      "outputs": [
        {
          "output_type": "execute_result",
          "data": {
            "text/plain": [
              "2.2968833711382604"
            ]
          },
          "metadata": {},
          "execution_count": 56
        }
      ]
    },
    {
      "cell_type": "markdown",
      "metadata": {
        "id": "8c7J4rDkw9DY"
      },
      "source": [
        "It's not recommended to use the asterisk notation in an import statement, except when working in the interactive Python shell. One reason is that the origin of a name can be quite obscure, because it can't be seen from which module it might have been imported. We will demonstrate another serious complication in the following example:"
      ]
    },
    {
      "cell_type": "code",
      "metadata": {
        "colab": {
          "base_uri": "https://localhost:8080/"
        },
        "id": "5oAFMy4Pw3PL",
        "outputId": "a152d055-fa2a-43ca-9488-9ad4800b31f6"
      },
      "source": [
        "from numpy import *\n",
        "from math import *\n",
        "print(cos(3))"
      ],
      "execution_count": null,
      "outputs": [
        {
          "output_type": "stream",
          "name": "stdout",
          "text": [
            "-0.9899924966004454\n"
          ]
        }
      ]
    },
    {
      "cell_type": "code",
      "metadata": {
        "colab": {
          "base_uri": "https://localhost:8080/"
        },
        "id": "ACqXmmMbxCQ5",
        "outputId": "269de540-984d-4eb6-9376-16364e1f1ce3"
      },
      "source": [
        "# Let's modify the previous example slightly by changing the order of the imports:\n",
        "\n",
        "from math import *\n",
        "from numpy import *\n",
        "print(cos(3))"
      ],
      "execution_count": null,
      "outputs": [
        {
          "output_type": "stream",
          "name": "stdout",
          "text": [
            "-0.9899924966004454\n"
          ]
        }
      ]
    },
    {
      "cell_type": "code",
      "metadata": {
        "id": "ZNYWmtHXxUjG"
      },
      "source": [
        "# the results are the same =) but could be different, because in the first case\n",
        "# we "
      ],
      "execution_count": null,
      "outputs": []
    },
    {
      "cell_type": "markdown",
      "metadata": {
        "id": "_rgvifAvyK_g"
      },
      "source": [
        "People use the asterisk notation, because it is so convenient. It means avoiding a lot of tedious typing. Another way to shrink the typing effort lies in renaming a namespace. A good example for this is the numpy module. You will hardly find an example or a tutorial, in which they will import this module with the statement."
      ]
    },
    {
      "cell_type": "code",
      "metadata": {
        "id": "UT-cVKn2xHqB"
      },
      "source": [
        "import numpy"
      ],
      "execution_count": null,
      "outputs": []
    },
    {
      "cell_type": "markdown",
      "metadata": {
        "id": "8FxdnhQHyRwX"
      },
      "source": [
        "It's like an unwritten law to import it with"
      ]
    },
    {
      "cell_type": "code",
      "metadata": {
        "colab": {
          "base_uri": "https://localhost:8080/"
        },
        "id": "0MaohSnIyQDo",
        "outputId": "562b9699-2028-4424-a31b-9853aa8559d1"
      },
      "source": [
        "import numpy as np\n",
        "np.diag([3, 11, 7, 9])"
      ],
      "execution_count": null,
      "outputs": [
        {
          "output_type": "execute_result",
          "data": {
            "text/plain": [
              "array([[ 3,  0,  0,  0],\n",
              "       [ 0, 11,  0,  0],\n",
              "       [ 0,  0,  7,  0],\n",
              "       [ 0,  0,  0,  9]])"
            ]
          },
          "metadata": {},
          "execution_count": 63
        }
      ]
    },
    {
      "cell_type": "markdown",
      "metadata": {
        "id": "nyWp65vTybPq"
      },
      "source": [
        "#### Designing and Writing Modules\n",
        "\n",
        "But how do we create modules in Python? A module in Python is just a file containing Python definitions and statements. The module name is moulded out of the file name by removing the suffix .py. For example, if the file name is fibonacci.py, the module name is fibonacci.\n",
        "\n",
        "Let's turn our Fibonacci functions into a module. There is hardly anything to be done, we just save the following code in the file fibonacci.py:"
      ]
    },
    {
      "cell_type": "code",
      "metadata": {
        "colab": {
          "base_uri": "https://localhost:8080/"
        },
        "id": "kC8JHa-jyYW4",
        "outputId": "60343a18-28dd-4409-9db3-15fb641db2f9"
      },
      "source": [
        "code = '''\n",
        "\n",
        "def fib(n):\n",
        "    if n == 0:\n",
        "        return 0\n",
        "    elif n == 1:\n",
        "        return 1\n",
        "    else:\n",
        "        return fib(n-1) + fib(n-2)\n",
        "def ifib(n):\n",
        "    a, b = 0, 1\n",
        "    for i in range(n):\n",
        "        a, b = b, a + b\n",
        "    return a\n",
        "\n",
        "'''\n",
        "\n",
        "with open('fibonacci.py', 'w') as handle:\n",
        "    print(code, file=handle)\n",
        "\n",
        "!cat fibonacci.py"
      ],
      "execution_count": null,
      "outputs": [
        {
          "output_type": "stream",
          "name": "stdout",
          "text": [
            "\n",
            "\n",
            "def fib(n):\n",
            "    if n == 0:\n",
            "        return 0\n",
            "    elif n == 1:\n",
            "        return 1\n",
            "    else:\n",
            "        return fib(n-1) + fib(n-2)\n",
            "def ifib(n):\n",
            "    a, b = 0, 1\n",
            "    for i in range(n):\n",
            "        a, b = b, a + b\n",
            "    return a\n",
            "\n",
            "\n"
          ]
        }
      ]
    },
    {
      "cell_type": "code",
      "metadata": {
        "colab": {
          "base_uri": "https://localhost:8080/"
        },
        "id": "hr16bfYS_o1f",
        "outputId": "f25de0df-fe4a-4013-881b-ad721c8391f6"
      },
      "source": [
        "import fibonacci\n",
        "fibonacci.fib(7)"
      ],
      "execution_count": null,
      "outputs": [
        {
          "output_type": "execute_result",
          "data": {
            "text/plain": [
              "13"
            ]
          },
          "metadata": {},
          "execution_count": 67
        }
      ]
    },
    {
      "cell_type": "markdown",
      "metadata": {
        "id": "28wQkP1wAR7x"
      },
      "source": [
        "Don't try to call the recursive version of the Fibonacci function with large arguments like we did with the iterative version. A value like 42 is already too large. You will have to wait for a long time!\n",
        "\n",
        "As you can easily imagine: It's a pain if you have to use those functions often in your program and you always have to type in the fully qualified name, i.e. fibonacci.fib(7). One solution consists in assigning a local name to a module function to get a shorter name:"
      ]
    },
    {
      "cell_type": "code",
      "metadata": {
        "colab": {
          "base_uri": "https://localhost:8080/"
        },
        "id": "f1o0B7NRAMLq",
        "outputId": "b09948fa-8ba6-4b72-c16d-d5492019f659"
      },
      "source": [
        "fib = fibonacci.ifib\n",
        "fib(10)"
      ],
      "execution_count": null,
      "outputs": [
        {
          "output_type": "execute_result",
          "data": {
            "text/plain": [
              "55"
            ]
          },
          "metadata": {},
          "execution_count": 68
        }
      ]
    },
    {
      "cell_type": "markdown",
      "metadata": {
        "id": "lgDGgoe0AgxE"
      },
      "source": [
        "But it's better, if you import the necessary functions directly into your module\n",
        "\n",
        "#### More on Modules\n",
        "\n",
        "Usually, modules contain functions or classes, but there can be \"plain\" statements in them as well. These statements can be used to initialize the module. They are only executed when the module is imported.\n",
        "\n",
        "Let's look at a module, which only consists of just one statement:"
      ]
    },
    {
      "cell_type": "code",
      "metadata": {
        "colab": {
          "base_uri": "https://localhost:8080/"
        },
        "id": "LmuAEhnRAcib",
        "outputId": "9e081d8a-29e9-4699-fe28-f5350e30ef20"
      },
      "source": [
        "code = 'print(\"The module is imported now!\")'\n",
        "\n",
        "with open('one_time.py', 'w') as handle:\n",
        "    print(code, file=handle)\n",
        "\n",
        "!cat one_time.py"
      ],
      "execution_count": null,
      "outputs": [
        {
          "output_type": "stream",
          "name": "stdout",
          "text": [
            "print(\"The module is imported now!\")\n"
          ]
        }
      ]
    },
    {
      "cell_type": "code",
      "metadata": {
        "colab": {
          "base_uri": "https://localhost:8080/"
        },
        "id": "KbRC_eT4BCAi",
        "outputId": "4f2343e3-d554-4aa7-f934-e7ff1a2f05e8"
      },
      "source": [
        "import one_time"
      ],
      "execution_count": null,
      "outputs": [
        {
          "output_type": "stream",
          "name": "stdout",
          "text": [
            "The module is imported now!\n"
          ]
        }
      ]
    },
    {
      "cell_type": "code",
      "metadata": {
        "id": "yx3VNsv4BD4k"
      },
      "source": [
        "# second time:\n",
        "\n",
        "import one_time"
      ],
      "execution_count": null,
      "outputs": []
    },
    {
      "cell_type": "markdown",
      "metadata": {
        "id": "SDobMODPBSRi"
      },
      "source": [
        "We can see that it was only imported once. Each module can only be imported once per interpreter session or in a program or script. If you change a module and if you want to reload it, you must restart the interpreter again. In Python 2.x, it was possible to reimport the module by using the built-in reload, i.e.reload(modulename). This is not possible anymore in Python 3.x\n",
        "\n",
        "You have to execute an \"import imp\" and use imp.reload(my_module). Alternatively, you can use \"imp import reload\" and use reload(my_module)"
      ]
    },
    {
      "cell_type": "code",
      "metadata": {
        "colab": {
          "base_uri": "https://localhost:8080/"
        },
        "id": "TUt65OzMBH0j",
        "outputId": "aee9ec6a-21bb-40f0-d6cb-3fb7661ed5c3"
      },
      "source": [
        "from imp import reload\n",
        "reload(one_time)\n",
        "import one_time\n",
        "print('--------')\n",
        "reload(one_time)\n",
        "\n",
        "# Since version 3.4 you should use the \"importlib\" module, because imp.reload is marked as deprecated"
      ],
      "execution_count": null,
      "outputs": [
        {
          "output_type": "stream",
          "name": "stdout",
          "text": [
            "The module is imported now!\n",
            "--------\n",
            "The module is imported now!\n"
          ]
        },
        {
          "output_type": "execute_result",
          "data": {
            "text/plain": [
              "<module 'one_time' from '/content/one_time.py'>"
            ]
          },
          "metadata": {},
          "execution_count": 77
        }
      ]
    },
    {
      "cell_type": "markdown",
      "metadata": {
        "id": "9UoBgGUgDE-f"
      },
      "source": [
        "#### Executing Modules as Scripts\n",
        "\n",
        "Essentially a Python module is a script, so it can be run as a script:"
      ]
    },
    {
      "cell_type": "code",
      "metadata": {
        "colab": {
          "base_uri": "https://localhost:8080/"
        },
        "id": "oqxwX15qCknk",
        "outputId": "b1d55415-07f1-4143-edc5-529805c4f96b"
      },
      "source": [
        "!python one_time.py"
      ],
      "execution_count": null,
      "outputs": [
        {
          "output_type": "stream",
          "name": "stdout",
          "text": [
            "The module is imported now!\n"
          ]
        }
      ]
    },
    {
      "cell_type": "markdown",
      "metadata": {
        "id": "lBPKWgGPEgGS"
      },
      "source": [
        "The module which has been started as a script will be executed as if it had been imported, but with one exception: The system variable name is set to \"main\". So it's possible to program different behaviour into a module for the two cases. With the following conditional statement the file can be used as a module or as a script, but only if it is run as a script the method fib will be started with a command line argument:"
      ]
    },
    {
      "cell_type": "code",
      "metadata": {
        "colab": {
          "base_uri": "https://localhost:8080/"
        },
        "id": "HbK6xrcxESCx",
        "outputId": "47a8e3cd-6869-4325-9eb8-d08bf03ab233"
      },
      "source": [
        "code = '''\n",
        "def ifib(n):\n",
        "    a, b = 0, 1\n",
        "    for i in range(n):\n",
        "        a, b = b, a + b\n",
        "        print(a)\n",
        "    return a\n",
        "\n",
        "if __name__ == \"__main__\":\n",
        "    import sys\n",
        "    ifib(int(sys.argv[1]))\n",
        "'''\n",
        "\n",
        "with open('my_module.py', 'w') as handle:\n",
        "    print(code, file=handle)\n",
        "\n",
        "!cat my_module.py"
      ],
      "execution_count": null,
      "outputs": [
        {
          "output_type": "stream",
          "name": "stdout",
          "text": [
            "\n",
            "def ifib(n):\n",
            "    a, b = 0, 1\n",
            "    for i in range(n):\n",
            "        a, b = b, a + b\n",
            "        print(a)\n",
            "    return a\n",
            "\n",
            "if __name__ == \"__main__\":\n",
            "    import sys\n",
            "    ifib(int(sys.argv[1]))\n",
            "\n"
          ]
        }
      ]
    },
    {
      "cell_type": "code",
      "metadata": {
        "id": "PRGukTk9naUD"
      },
      "source": [
        "file1.py\n",
        "\n",
        "import my_module\n",
        "...\n",
        "\n",
        "python file1.py\n",
        "python my_module.py"
      ],
      "execution_count": null,
      "outputs": []
    },
    {
      "cell_type": "code",
      "metadata": {
        "colab": {
          "base_uri": "https://localhost:8080/"
        },
        "id": "8w7uCwAfET0l",
        "outputId": "e5bf97c1-69db-43c1-cc1a-08d54c784ec8"
      },
      "source": [
        "# If it is run as a script, we get the following output:\n",
        "\n",
        "!python my_module.py 50"
      ],
      "execution_count": null,
      "outputs": [
        {
          "output_type": "stream",
          "name": "stdout",
          "text": [
            "1\n",
            "1\n",
            "2\n",
            "3\n",
            "5\n",
            "8\n",
            "13\n",
            "21\n",
            "34\n",
            "55\n",
            "89\n",
            "144\n",
            "233\n",
            "377\n",
            "610\n",
            "987\n",
            "1597\n",
            "2584\n",
            "4181\n",
            "6765\n",
            "10946\n",
            "17711\n",
            "28657\n",
            "46368\n",
            "75025\n",
            "121393\n",
            "196418\n",
            "317811\n",
            "514229\n",
            "832040\n",
            "1346269\n",
            "2178309\n",
            "3524578\n",
            "5702887\n",
            "9227465\n",
            "14930352\n",
            "24157817\n",
            "39088169\n",
            "63245986\n",
            "102334155\n",
            "165580141\n",
            "267914296\n",
            "433494437\n",
            "701408733\n",
            "1134903170\n",
            "1836311903\n",
            "2971215073\n",
            "4807526976\n",
            "7778742049\n",
            "12586269025\n"
          ]
        }
      ]
    },
    {
      "cell_type": "code",
      "metadata": {
        "id": "cjD2kjEGFX5m"
      },
      "source": [
        "# If it is imported, the code in the if block will not be executed:\n",
        "\n",
        "import my_module"
      ],
      "execution_count": null,
      "outputs": []
    },
    {
      "cell_type": "markdown",
      "metadata": {
        "id": "J7ZxWIl4F-eN"
      },
      "source": [
        "#### Kinds of Modules\n",
        "\n",
        "There are different kind of modules:\n",
        "\n",
        "* Those written in Python \n",
        "\n",
        "They have the suffix: .py\n",
        "* Dynamically linked C modules \n",
        "\n",
        "Suffixes are: .dll, .pyd, .so, .sl, ...\n",
        "* C-Modules linked with the Interpreter \n",
        "\n",
        "It's possible to get a complete list of these modules:"
      ]
    },
    {
      "cell_type": "code",
      "metadata": {
        "colab": {
          "base_uri": "https://localhost:8080/"
        },
        "id": "cHvqND8rF6gj",
        "outputId": "a64d1244-c4ea-4a56-c44f-d3d8d1d2974c"
      },
      "source": [
        "import sys\n",
        "print(sys.builtin_module_names)"
      ],
      "execution_count": null,
      "outputs": [
        {
          "output_type": "stream",
          "name": "stdout",
          "text": [
            "('_abc', '_ast', '_bisect', '_blake2', '_codecs', '_collections', '_datetime', '_elementtree', '_functools', '_heapq', '_imp', '_io', '_locale', '_md5', '_operator', '_pickle', '_posixsubprocess', '_random', '_sha1', '_sha256', '_sha3', '_sha512', '_signal', '_socket', '_sre', '_stat', '_string', '_struct', '_symtable', '_thread', '_tracemalloc', '_warnings', '_weakref', 'array', 'atexit', 'binascii', 'builtins', 'errno', 'faulthandler', 'fcntl', 'gc', 'grp', 'itertools', 'marshal', 'math', 'posix', 'pwd', 'pyexpat', 'select', 'spwd', 'sys', 'syslog', 'time', 'unicodedata', 'xxsubtype', 'zipimport', 'zlib')\n"
          ]
        }
      ]
    },
    {
      "cell_type": "markdown",
      "metadata": {
        "id": "qAcrpUVqGlHL"
      },
      "source": [
        "#### Module Search Path\n",
        "\n",
        "If you import a module, let's say \"import xyz\", the interpreter searches for this module in the following locations and in the order given:\n",
        "\n",
        "* The directory of the top-level file, i.e. the file being executed.\n",
        "* The directories of PYTHONPATH, if this global environment variable of your operating system is set.\n",
        "* standard installation path Linux/Unix e.g. in /usr/lib/python3.5"
      ]
    },
    {
      "cell_type": "code",
      "metadata": {
        "colab": {
          "base_uri": "https://localhost:8080/",
          "height": 37
        },
        "id": "o3IB-s-AGfcl",
        "outputId": "9f16608b-d00f-4dfa-c8c7-1271b33eaf13"
      },
      "source": [
        "# It's possible to find out where a module is located after it has been imported:\n",
        "\n",
        "import numpy\n",
        "numpy.__file__"
      ],
      "execution_count": null,
      "outputs": [
        {
          "output_type": "execute_result",
          "data": {
            "application/vnd.google.colaboratory.intrinsic+json": {
              "type": "string"
            },
            "text/plain": [
              "'/usr/local/lib/python3.7/dist-packages/numpy/__init__.py'"
            ]
          },
          "metadata": {},
          "execution_count": 92
        }
      ]
    },
    {
      "cell_type": "markdown",
      "metadata": {
        "id": "llhpQwJOHArG"
      },
      "source": [
        "#### Content of a Module\n",
        "\n",
        "With the built-in function dir() and the name of the module as an argument, you can list all valid attributes and methods for that module.\n",
        "\n"
      ]
    },
    {
      "cell_type": "code",
      "metadata": {
        "colab": {
          "base_uri": "https://localhost:8080/"
        },
        "id": "HvKmh7lkG5L6",
        "outputId": "23884592-848d-4b4e-e253-d13ecc60052f"
      },
      "source": [
        "import math\n",
        "dir(math)"
      ],
      "execution_count": null,
      "outputs": [
        {
          "output_type": "execute_result",
          "data": {
            "text/plain": [
              "['__doc__',\n",
              " '__loader__',\n",
              " '__name__',\n",
              " '__package__',\n",
              " '__spec__',\n",
              " 'acos',\n",
              " 'acosh',\n",
              " 'asin',\n",
              " 'asinh',\n",
              " 'atan',\n",
              " 'atan2',\n",
              " 'atanh',\n",
              " 'ceil',\n",
              " 'copysign',\n",
              " 'cos',\n",
              " 'cosh',\n",
              " 'degrees',\n",
              " 'e',\n",
              " 'erf',\n",
              " 'erfc',\n",
              " 'exp',\n",
              " 'expm1',\n",
              " 'fabs',\n",
              " 'factorial',\n",
              " 'floor',\n",
              " 'fmod',\n",
              " 'frexp',\n",
              " 'fsum',\n",
              " 'gamma',\n",
              " 'gcd',\n",
              " 'hypot',\n",
              " 'inf',\n",
              " 'isclose',\n",
              " 'isfinite',\n",
              " 'isinf',\n",
              " 'isnan',\n",
              " 'ldexp',\n",
              " 'lgamma',\n",
              " 'log',\n",
              " 'log10',\n",
              " 'log1p',\n",
              " 'log2',\n",
              " 'modf',\n",
              " 'nan',\n",
              " 'pi',\n",
              " 'pow',\n",
              " 'radians',\n",
              " 'remainder',\n",
              " 'sin',\n",
              " 'sinh',\n",
              " 'sqrt',\n",
              " 'tan',\n",
              " 'tanh',\n",
              " 'tau',\n",
              " 'trunc']"
            ]
          },
          "metadata": {},
          "execution_count": 93
        }
      ]
    },
    {
      "cell_type": "markdown",
      "metadata": {
        "id": "37yLfCssHPAn"
      },
      "source": [
        "Calling dir() without an argument, a list with the names in the current local scope is returned\n",
        "\n",
        "It's possible to get a list of the Built-in functions, exceptions, and other objects by importing the builtins module:"
      ]
    },
    {
      "cell_type": "code",
      "metadata": {
        "id": "MiEDGHAoqafX"
      },
      "source": [
        "_aa = 3\n"
      ],
      "execution_count": null,
      "outputs": []
    },
    {
      "cell_type": "code",
      "metadata": {
        "id": "Eble0-ZCqqhk"
      },
      "source": [
        "def f():\n",
        "    import torch\n",
        "f()"
      ],
      "execution_count": null,
      "outputs": []
    },
    {
      "cell_type": "code",
      "metadata": {
        "colab": {
          "base_uri": "https://localhost:8080/",
          "height": 164
        },
        "id": "eFteSBqvqwV6",
        "outputId": "4336c1b7-bf8c-44dd-c888-6a64cfdeefca"
      },
      "source": [
        "torch"
      ],
      "execution_count": null,
      "outputs": [
        {
          "output_type": "error",
          "ename": "NameError",
          "evalue": "ignored",
          "traceback": [
            "\u001b[0;31m---------------------------------------------------------------------------\u001b[0m",
            "\u001b[0;31mNameError\u001b[0m                                 Traceback (most recent call last)",
            "\u001b[0;32m<ipython-input-128-06e359bb4625>\u001b[0m in \u001b[0;36m<module>\u001b[0;34m()\u001b[0m\n\u001b[0;32m----> 1\u001b[0;31m \u001b[0mtorch\u001b[0m\u001b[0;34m\u001b[0m\u001b[0;34m\u001b[0m\u001b[0m\n\u001b[0m",
            "\u001b[0;31mNameError\u001b[0m: name 'torch' is not defined"
          ]
        }
      ]
    },
    {
      "cell_type": "code",
      "metadata": {
        "colab": {
          "base_uri": "https://localhost:8080/"
        },
        "id": "uVaYaqApHIfJ",
        "outputId": "8ec1e6e9-e5bd-4bcc-ef50-f6f8c6252a5e"
      },
      "source": [
        "import builtins\n",
        "dir(builtins)"
      ],
      "execution_count": null,
      "outputs": [
        {
          "output_type": "execute_result",
          "data": {
            "text/plain": [
              "['ArithmeticError',\n",
              " 'AssertionError',\n",
              " 'AttributeError',\n",
              " 'BaseException',\n",
              " 'BlockingIOError',\n",
              " 'BrokenPipeError',\n",
              " 'BufferError',\n",
              " 'BytesWarning',\n",
              " 'ChildProcessError',\n",
              " 'ConnectionAbortedError',\n",
              " 'ConnectionError',\n",
              " 'ConnectionRefusedError',\n",
              " 'ConnectionResetError',\n",
              " 'DeprecationWarning',\n",
              " 'EOFError',\n",
              " 'Ellipsis',\n",
              " 'EnvironmentError',\n",
              " 'Exception',\n",
              " 'False',\n",
              " 'FileExistsError',\n",
              " 'FileNotFoundError',\n",
              " 'FloatingPointError',\n",
              " 'FutureWarning',\n",
              " 'GeneratorExit',\n",
              " 'IOError',\n",
              " 'ImportError',\n",
              " 'ImportWarning',\n",
              " 'IndentationError',\n",
              " 'IndexError',\n",
              " 'InterruptedError',\n",
              " 'IsADirectoryError',\n",
              " 'KeyError',\n",
              " 'KeyboardInterrupt',\n",
              " 'LookupError',\n",
              " 'MemoryError',\n",
              " 'ModuleNotFoundError',\n",
              " 'NameError',\n",
              " 'None',\n",
              " 'NotADirectoryError',\n",
              " 'NotImplemented',\n",
              " 'NotImplementedError',\n",
              " 'OSError',\n",
              " 'OverflowError',\n",
              " 'PendingDeprecationWarning',\n",
              " 'PermissionError',\n",
              " 'ProcessLookupError',\n",
              " 'RecursionError',\n",
              " 'ReferenceError',\n",
              " 'ResourceWarning',\n",
              " 'RuntimeError',\n",
              " 'RuntimeWarning',\n",
              " 'StopAsyncIteration',\n",
              " 'StopIteration',\n",
              " 'SyntaxError',\n",
              " 'SyntaxWarning',\n",
              " 'SystemError',\n",
              " 'SystemExit',\n",
              " 'TabError',\n",
              " 'TimeoutError',\n",
              " 'True',\n",
              " 'TypeError',\n",
              " 'UnboundLocalError',\n",
              " 'UnicodeDecodeError',\n",
              " 'UnicodeEncodeError',\n",
              " 'UnicodeError',\n",
              " 'UnicodeTranslateError',\n",
              " 'UnicodeWarning',\n",
              " 'UserWarning',\n",
              " 'ValueError',\n",
              " 'Warning',\n",
              " 'ZeroDivisionError',\n",
              " '__IPYTHON__',\n",
              " '__build_class__',\n",
              " '__debug__',\n",
              " '__doc__',\n",
              " '__import__',\n",
              " '__loader__',\n",
              " '__name__',\n",
              " '__package__',\n",
              " '__spec__',\n",
              " 'abs',\n",
              " 'all',\n",
              " 'any',\n",
              " 'ascii',\n",
              " 'bin',\n",
              " 'bool',\n",
              " 'breakpoint',\n",
              " 'bytearray',\n",
              " 'bytes',\n",
              " 'callable',\n",
              " 'chr',\n",
              " 'classmethod',\n",
              " 'compile',\n",
              " 'complex',\n",
              " 'copyright',\n",
              " 'credits',\n",
              " 'delattr',\n",
              " 'dict',\n",
              " 'dir',\n",
              " 'display',\n",
              " 'divmod',\n",
              " 'dreload',\n",
              " 'enumerate',\n",
              " 'eval',\n",
              " 'exec',\n",
              " 'execfile',\n",
              " 'filter',\n",
              " 'float',\n",
              " 'format',\n",
              " 'frozenset',\n",
              " 'get_ipython',\n",
              " 'getattr',\n",
              " 'globals',\n",
              " 'hasattr',\n",
              " 'hash',\n",
              " 'help',\n",
              " 'hex',\n",
              " 'id',\n",
              " 'input',\n",
              " 'int',\n",
              " 'isinstance',\n",
              " 'issubclass',\n",
              " 'iter',\n",
              " 'len',\n",
              " 'license',\n",
              " 'list',\n",
              " 'locals',\n",
              " 'map',\n",
              " 'max',\n",
              " 'memoryview',\n",
              " 'min',\n",
              " 'next',\n",
              " 'object',\n",
              " 'oct',\n",
              " 'open',\n",
              " 'ord',\n",
              " 'pow',\n",
              " 'print',\n",
              " 'property',\n",
              " 'range',\n",
              " 'repr',\n",
              " 'reversed',\n",
              " 'round',\n",
              " 'runfile',\n",
              " 'set',\n",
              " 'setattr',\n",
              " 'slice',\n",
              " 'sorted',\n",
              " 'staticmethod',\n",
              " 'str',\n",
              " 'sum',\n",
              " 'super',\n",
              " 'tuple',\n",
              " 'type',\n",
              " 'vars',\n",
              " 'zip']"
            ]
          },
          "metadata": {},
          "execution_count": 94
        }
      ]
    },
    {
      "cell_type": "markdown",
      "metadata": {
        "id": "T_xGxXZZHVq_"
      },
      "source": [
        "# Packages\n",
        "\n",
        "If you have created a lot of modules at some point in time, you may loose the overview about them. You may have dozens or hundreds of modules and they can be categorized into different categories. It is similar to the situation in a file system: Instead of having all files in just one directory, you put them into different ones, being organized according to the topics of the files. Python modules are organized into packages\n",
        "\n",
        "A package is basically a directory with Python files and a file with the name \\_\\_init__.py. This means that every directory inside of the Python path, which contains a file named \\_\\_init__.py, will be treated as a package by Python. It's possible to put several modules into a Package.\n",
        "\n",
        "We will demonstrate with a very simple example how to create a package with some Python modules. First of all, we need a directory. The name of this directory will be the name of the package, which we want to create. We will call our package \"simple_package\". This directory needs to contain a file with the name __init__.py. This file can be empty, or it can contain valid Python code. This code will be executed when a package is imported, so it can be used to initialize a package, e.g. to make sure that some other modules are imported or some values set. Now we can put all of the Python files which will be the submodules of our module into this directory. We create two simple files a.py and b.py just for the sake of filling the package with modules."
      ]
    },
    {
      "cell_type": "code",
      "metadata": {
        "id": "49BRyNnaHUrN"
      },
      "source": [
        "code_a = '''\n",
        "def bar():\n",
        "    print(\"Hello, function 'bar' from module 'a' calling\")\n",
        "'''\n",
        "code_b = '''\n",
        "def foo():\n",
        "    print(\"Hello, function 'foo' from module 'b' calling\")\n",
        "'''\n",
        "\n",
        "!mkdir pac\n",
        "\n",
        "with open('pac/a.py', 'w') as handle:\n",
        "    print(code_a, file=handle)\n",
        "\n",
        "with open('pac/b.py', 'w') as handle:\n",
        "    print(code_b, file=handle)"
      ],
      "execution_count": null,
      "outputs": []
    },
    {
      "cell_type": "code",
      "metadata": {
        "id": "G7smMQ9IOMwt"
      },
      "source": [
        "import pac"
      ],
      "execution_count": null,
      "outputs": []
    },
    {
      "cell_type": "code",
      "metadata": {
        "colab": {
          "base_uri": "https://localhost:8080/",
          "height": 164
        },
        "id": "d_Td-0xlOQ8i",
        "outputId": "ffbc2e14-0327-423f-d52a-1ae6fa5a5f41"
      },
      "source": [
        "pac/a"
      ],
      "execution_count": null,
      "outputs": [
        {
          "output_type": "error",
          "ename": "TypeError",
          "evalue": "ignored",
          "traceback": [
            "\u001b[0;31m---------------------------------------------------------------------------\u001b[0m",
            "\u001b[0;31mTypeError\u001b[0m                                 Traceback (most recent call last)",
            "\u001b[0;32m<ipython-input-130-2b9fc58b9eae>\u001b[0m in \u001b[0;36m<module>\u001b[0;34m()\u001b[0m\n\u001b[0;32m----> 1\u001b[0;31m \u001b[0mpac\u001b[0m\u001b[0;34m/\u001b[0m\u001b[0ma\u001b[0m\u001b[0;34m\u001b[0m\u001b[0;34m\u001b[0m\u001b[0m\n\u001b[0m",
            "\u001b[0;31mTypeError\u001b[0m: unsupported operand type(s) for /: 'module' and 'module'"
          ]
        }
      ]
    },
    {
      "cell_type": "markdown",
      "metadata": {
        "id": "6p5wslLGOaVv"
      },
      "source": [
        "We can see that the package simple_package has been loaded but neither the module \"a\" nor the module \"b\"! We can import the modules a and b in the following way:"
      ]
    },
    {
      "cell_type": "code",
      "metadata": {
        "colab": {
          "base_uri": "https://localhost:8080/"
        },
        "id": "q404U9jZOR7v",
        "outputId": "97fd0029-abdc-4335-9488-f24bfe363627"
      },
      "source": [
        "from pac import a, b\n",
        "a.bar()\n",
        "b.foo()"
      ],
      "execution_count": null,
      "outputs": [
        {
          "output_type": "stream",
          "name": "stdout",
          "text": [
            "Hello, function 'bar' from module 'a' calling\n",
            "Hello, function 'foo' from module 'b' calling\n"
          ]
        }
      ]
    },
    {
      "cell_type": "markdown",
      "metadata": {
        "id": "CHH6_hqDOhbN"
      },
      "source": [
        "As we have seen at the beginning of the chapter, we can't access neither \"a\" nor \"b\" by solely importing package `pac`"
      ]
    },
    {
      "cell_type": "markdown",
      "metadata": {
        "id": "IsU4dns9OpNi"
      },
      "source": [
        "Yet, there is a way to automatically load these modules. We can use the file \\_\\_init__.py for this purpose. All we have to do is add the following lines to the so far empty file \\_\\_init__.py:"
      ]
    },
    {
      "cell_type": "code",
      "metadata": {
        "id": "fcx5hx6UOc4b"
      },
      "source": [
        "code = '''\n",
        "import pac.a\n",
        "import pac.b\n",
        "'''\n",
        "\n",
        "with open('pac/__init__.py', 'w') as handle:\n",
        "    print(code, file=handle)\n",
        "\n",
        "import pac"
      ],
      "execution_count": null,
      "outputs": []
    },
    {
      "cell_type": "code",
      "metadata": {
        "colab": {
          "base_uri": "https://localhost:8080/"
        },
        "id": "Pmz2fTxkO_nQ",
        "outputId": "5bc01428-a6e9-45cd-c50f-4318ba79a3bf"
      },
      "source": [
        "pac.a"
      ],
      "execution_count": null,
      "outputs": [
        {
          "output_type": "execute_result",
          "data": {
            "text/plain": [
              "<module 'pac.a' from '/content/pac/a.py'>"
            ]
          },
          "metadata": {},
          "execution_count": 102
        }
      ]
    },
    {
      "cell_type": "markdown",
      "metadata": {
        "id": "H0QjTqoqVs3D"
      },
      "source": [
        "# Relative import errors\n",
        "\n",
        "https://napuzba.com/a/import-error-relative-no-parent/p4\n",
        "\n",
        "https://stackoverflow.com/questions/16981921/relative-imports-in-python-3"
      ]
    },
    {
      "cell_type": "markdown",
      "metadata": {
        "id": "kd3iyOzfWxnZ"
      },
      "source": [
        "# Errors and Exceptions\n",
        "\n",
        "An exception is an error that happens during the execution of a program. Exceptions are known to non-programmers as instances that do not conform to a general rule. The name \"exception\" in computer science has this meaning as well: It implies that the problem (the exception) doesn't occur frequently, i.e. the exception is the \"exception to the rule\". Exception handling is a construct in some programming languages to handle or deal with errors automatically. Many programming languages like C++, Objective-C, PHP, Java, Ruby, Python, and many others have built-in support for exception handling.\n",
        "\n",
        "#### Exception Handling in Python\n",
        "\n",
        "Exception handling in Python is very similar to Java. The code, which harbours the risk of an exception, is embedded in a try block. While in Java exceptions are caught by catch clauses, in Python we have statements introduced by an \"except\" keyword. It's possible to create \"custom-made\" exceptions: With the raise statement it's possible to force a specified exception to occur.\n",
        "\n",
        "Let's look at a simple example. Assuming we want to ask the user to enter an integer number. If we use a input(), the input will be a string, which we have to cast into an integer. If the input isn't a valid integer, we will generate (raise) a ValueError. We show this in the following interactive session:"
      ]
    },
    {
      "cell_type": "code",
      "metadata": {
        "colab": {
          "base_uri": "https://localhost:8080/"
        },
        "id": "0Uz49V3gsQpL",
        "outputId": "0a2f81e7-3380-457c-bd51-71804333582f"
      },
      "source": [
        "!ls"
      ],
      "execution_count": null,
      "outputs": [
        {
          "output_type": "stream",
          "name": "stdout",
          "text": [
            "colours.txt\t     MyShelve.db\t\tpython_newbie_and_the_guru.txt\n",
            "data.pkl\t     one_time.py\t\tsample_data\n",
            "fibonacci.py\t     pac\t\t\tsee_you_tomorrow.txt\n",
            "file_definition.txt  __pycache__\t\tsmall_text.txt\n",
            "my_module.py\t     pythonista_and_python.txt\ttext_file.txt\n"
          ]
        }
      ]
    },
    {
      "cell_type": "code",
      "metadata": {
        "colab": {
          "base_uri": "https://localhost:8080/"
        },
        "id": "lfNWfv9dsToZ",
        "outputId": "cc58037a-5c06-41b8-ec6e-716b70267374"
      },
      "source": [
        "!cd ../; cd content; ls"
      ],
      "execution_count": null,
      "outputs": [
        {
          "output_type": "stream",
          "name": "stdout",
          "text": [
            "colours.txt\t     MyShelve.db\t\tpython_newbie_and_the_guru.txt\n",
            "data.pkl\t     one_time.py\t\tsample_data\n",
            "fibonacci.py\t     pac\t\t\tsee_you_tomorrow.txt\n",
            "file_definition.txt  __pycache__\t\tsmall_text.txt\n",
            "my_module.py\t     pythonista_and_python.txt\ttext_file.txt\n"
          ]
        }
      ]
    },
    {
      "cell_type": "code",
      "metadata": {
        "colab": {
          "base_uri": "https://localhost:8080/",
          "height": 181
        },
        "id": "nsQ-m2fsPA7p",
        "outputId": "c250f6ee-f0b1-4bd3-ed2c-5dcdaedae3df"
      },
      "source": [
        "n = int(input(\"Please enter a number: \"))"
      ],
      "execution_count": null,
      "outputs": [
        {
          "name": "stdout",
          "output_type": "stream",
          "text": [
            "Please enter a number: yy\n"
          ]
        },
        {
          "output_type": "error",
          "ename": "ValueError",
          "evalue": "ignored",
          "traceback": [
            "\u001b[0;31m---------------------------------------------------------------------------\u001b[0m",
            "\u001b[0;31mValueError\u001b[0m                                Traceback (most recent call last)",
            "\u001b[0;32m<ipython-input-137-02fbe8840e1a>\u001b[0m in \u001b[0;36m<module>\u001b[0;34m()\u001b[0m\n\u001b[0;32m----> 1\u001b[0;31m \u001b[0mn\u001b[0m \u001b[0;34m=\u001b[0m \u001b[0mint\u001b[0m\u001b[0;34m(\u001b[0m\u001b[0minput\u001b[0m\u001b[0;34m(\u001b[0m\u001b[0;34m\"Please enter a number: \"\u001b[0m\u001b[0;34m)\u001b[0m\u001b[0;34m)\u001b[0m\u001b[0;34m\u001b[0m\u001b[0;34m\u001b[0m\u001b[0m\n\u001b[0m",
            "\u001b[0;31mValueError\u001b[0m: invalid literal for int() with base 10: 'yy'"
          ]
        }
      ]
    },
    {
      "cell_type": "code",
      "metadata": {
        "colab": {
          "base_uri": "https://localhost:8080/"
        },
        "id": "XikGvIyqXZNy",
        "outputId": "cd378d97-2772-487f-f4bd-d5eff00455af"
      },
      "source": [
        "while True:\n",
        "    try:\n",
        "        n = input(\"Please enter an integer: \")\n",
        "        n = int(n)\n",
        "        break\n",
        "    except ValueError:\n",
        "        print(\"No valid integer! Please try again ...\")\n",
        "print(\"Great, you successfully entered an integer!\")"
      ],
      "execution_count": null,
      "outputs": [
        {
          "output_type": "stream",
          "name": "stdout",
          "text": [
            "Please enter an integer: yy\n",
            "No valid integer! Please try again ...\n",
            "Please enter an integer: 99\n",
            "Great, you successfully entered an integer!\n"
          ]
        }
      ]
    },
    {
      "cell_type": "markdown",
      "metadata": {
        "id": "j_AZ1SU5YufC"
      },
      "source": [
        "It's a loop, which breaks only if a valid integer has been given. The while loop is entered. The code within the try clause will be executed statement by statement. If no exception occurs during the execution, the execution will reach the break statement and the while loop will be left. If an exception occurs, i.e. in the casting of n, the rest of the try block will be skipped and the except clause will be executed. The raised error, in our case a ValueError, has to match one of the names after except. In our example only one, i.e. \"ValueError:\". After having printed the text of the print statement, the execution does another loop. It starts with a new input().\n",
        "\n",
        "#### Multiple Except Clauses\n",
        "\n",
        "A try statement may have more than one except clause for different exceptions. But at most one except clause will be executed.\n",
        "Our next example shows a try clause, in which we open a file for reading, read a line from this file and convert this line into an integer. There are at least two possible exceptions:\n",
        "\n",
        "* an IOError\n",
        "* ValueError\n",
        "\n",
        "Just in case we have an additional unnamed except clause for an unexpected error:"
      ]
    },
    {
      "cell_type": "code",
      "metadata": {
        "colab": {
          "base_uri": "https://localhost:8080/"
        },
        "id": "XPYhSJ5VXbdy",
        "outputId": "1eac066f-8015-4c64-a69a-40eac7ad8a83"
      },
      "source": [
        "import sys\n",
        "\n",
        "try:\n",
        "    f = open('integers.txt')\n",
        "    s = f.readline()\n",
        "    i = int(s.strip())\n",
        "except IOError as e:\n",
        "    errno, strerror = e.args\n",
        "    print(\"I/O error({0}): {1}\".format(errno,strerror))\n",
        "    # e can be printed directly without using .args:\n",
        "    # print(e)\n",
        "except ValueError:\n",
        "    print(\"No valid integer in line.\")\n",
        "except:\n",
        "    print(\"Unexpected error:\", sys.exc_info()[0])\n",
        "    raise"
      ],
      "execution_count": null,
      "outputs": [
        {
          "output_type": "stream",
          "name": "stdout",
          "text": [
            "I/O error(2): No such file or directory\n"
          ]
        }
      ]
    },
    {
      "cell_type": "markdown",
      "metadata": {
        "id": "19b1A7cUZdg9"
      },
      "source": [
        "The handling of the IOError in the previous example is of special interest. The except clause for the IOError specifies a variable \"e\" after the exception name (IOError). The variable \"e\" is bound to an exception instance with the arguments stored in instance.args. If we call the above script with a non-existing file, we get the message:\n",
        "\n",
        "`I/O error(2): No such file or directory`\n",
        "\n",
        "And if the file integers.txt is not readable, e.g. if we don't have the permission to read it, we get the following message:\n",
        "\n",
        "`I/O error(13): Permission denied`\n",
        "\n",
        "An except clause may name more than one exception in a tuple of error names, as we see in the following example:"
      ]
    },
    {
      "cell_type": "code",
      "metadata": {
        "colab": {
          "base_uri": "https://localhost:8080/"
        },
        "id": "OirNdrj9ZNgf",
        "outputId": "f36e832f-9107-4a7a-ad87-5fb95a64b87c"
      },
      "source": [
        "try:\n",
        "    f = open('integers.txt')\n",
        "    s = f.readline()\n",
        "    i = int(s.strip())\n",
        "except (IOError, ValueError):\n",
        "    print(\"An I/O error or a ValueError occurred\")\n",
        "except:\n",
        "    print(\"An unexpected error occurred\")\n",
        "    raise"
      ],
      "execution_count": null,
      "outputs": [
        {
          "output_type": "stream",
          "name": "stdout",
          "text": [
            "An I/O error or a ValueError occurred\n"
          ]
        }
      ]
    },
    {
      "cell_type": "markdown",
      "metadata": {
        "id": "ehsQFnE9ZwNn"
      },
      "source": [
        "We want to demonstrate now, what happens, if we call a function within a try block and if an exception occurs inside the function call:"
      ]
    },
    {
      "cell_type": "code",
      "metadata": {
        "colab": {
          "base_uri": "https://localhost:8080/"
        },
        "id": "b53emgbjZrus",
        "outputId": "fb963bf4-0631-4af8-ec94-7a3385e6d497"
      },
      "source": [
        "def f():\n",
        "    x = int(\"four\")\n",
        "\n",
        "try:\n",
        "    f()\n",
        "except ValueError as e:\n",
        "    print(\"got it :-) \", e)\n",
        "\n",
        "\n",
        "print(\"Let's get on\")"
      ],
      "execution_count": null,
      "outputs": [
        {
          "output_type": "stream",
          "name": "stdout",
          "text": [
            "got it :-)  invalid literal for int() with base 10: 'four'\n",
            "Let's get on\n"
          ]
        }
      ]
    },
    {
      "cell_type": "markdown",
      "metadata": {
        "id": "vuchUakDZ8mi"
      },
      "source": [
        "the function catches the exception.\n",
        "\n",
        "We will extend our example now so that the function will catch the exception directly:"
      ]
    },
    {
      "cell_type": "code",
      "metadata": {
        "colab": {
          "base_uri": "https://localhost:8080/"
        },
        "id": "J0lh5A3rZ5Xq",
        "outputId": "14cac16b-40d8-4451-a7f4-057bb94fee0c"
      },
      "source": [
        "def f():\n",
        "    try:\n",
        "        x = int(\"four\")\n",
        "    except ValueError as e:\n",
        "        print(\"got it in the function :-) \", e)\n",
        "\n",
        "try:\n",
        "    f()\n",
        "except ValueError as e:\n",
        "    print(\"got it :-) \", e)\n",
        "\n",
        "\n",
        "print(\"Let's get on\")"
      ],
      "execution_count": null,
      "outputs": [
        {
          "output_type": "stream",
          "name": "stdout",
          "text": [
            "got it in the function :-)  invalid literal for int() with base 10: 'four'\n",
            "Let's get on\n"
          ]
        }
      ]
    },
    {
      "cell_type": "markdown",
      "metadata": {
        "id": "0ARNdJvnaIYp"
      },
      "source": [
        "As we have expected, the exception is caught inside the function and not in the callers exception:\n",
        "\n",
        "We add now a \"raise\", which generates the ValueError again, so that the exception will be propagated to the caller:"
      ]
    },
    {
      "cell_type": "code",
      "metadata": {
        "colab": {
          "base_uri": "https://localhost:8080/"
        },
        "id": "3uPC_7W_aEtj",
        "outputId": "fefd10c7-2714-41f5-d4b2-4810919e57d8"
      },
      "source": [
        "def f():\n",
        "    try:\n",
        "        x = int(\"four\")\n",
        "    except ValueError as e:\n",
        "        print(\"got it in the function :-) \", e)\n",
        "        raise\n",
        "\n",
        "try:\n",
        "    f()\n",
        "except ValueError as e:\n",
        "    print(\"got it :-) \", e)\n",
        "\n",
        "print(\"Let's get on\")"
      ],
      "execution_count": null,
      "outputs": [
        {
          "output_type": "stream",
          "name": "stdout",
          "text": [
            "got it in the function :-)  invalid literal for int() with base 10: 'four'\n",
            "got it :-)  invalid literal for int() with base 10: 'four'\n",
            "Let's get on\n"
          ]
        }
      ]
    },
    {
      "cell_type": "markdown",
      "metadata": {
        "id": "AM30S8U4aWKt"
      },
      "source": [
        "#### Custom-made Exceptions\n",
        "\n",
        "It's possible to create Exceptions yourself:"
      ]
    },
    {
      "cell_type": "code",
      "metadata": {
        "colab": {
          "base_uri": "https://localhost:8080/",
          "height": 96
        },
        "id": "h-eMR7C9aN4t",
        "outputId": "f7651374-7a8a-4f54-b0e9-18e82264383e"
      },
      "source": [
        "raise SyntaxError(\"Sorry, my fault!\")"
      ],
      "execution_count": null,
      "outputs": [
        {
          "output_type": "error",
          "ename": "SyntaxError",
          "evalue": "ignored",
          "traceback": [
            "\u001b[0;36m  File \u001b[0;32m\"<string>\"\u001b[0;36m, line \u001b[0;32munknown\u001b[0m\n\u001b[0;31mSyntaxError\u001b[0m\u001b[0;31m:\u001b[0m Sorry, my fault!\n"
          ]
        }
      ]
    },
    {
      "cell_type": "markdown",
      "metadata": {
        "id": "UfMcFYHDag7V"
      },
      "source": [
        "The best or the Pythonic way to do this, consists in defining an exception class which inherits from the Exception class. You will have to go through the chapter on Object Oriented Programming to fully understand the following example:"
      ]
    },
    {
      "cell_type": "code",
      "metadata": {
        "colab": {
          "base_uri": "https://localhost:8080/",
          "height": 198
        },
        "id": "duBq9K8RadOU",
        "outputId": "027090bb-c9bd-40b6-ddb3-ac60f39c3fe2"
      },
      "source": [
        "class MyException(Exception):\n",
        "    pass\n",
        "\n",
        "raise MyException(\"An exception doesn't always prove the rule!\")"
      ],
      "execution_count": null,
      "outputs": [
        {
          "output_type": "error",
          "ename": "MyException",
          "evalue": "ignored",
          "traceback": [
            "\u001b[0;31m---------------------------------------------------------------------------\u001b[0m",
            "\u001b[0;31mMyException\u001b[0m                               Traceback (most recent call last)",
            "\u001b[0;32m<ipython-input-113-d75bff75fe3a>\u001b[0m in \u001b[0;36m<module>\u001b[0;34m()\u001b[0m\n\u001b[1;32m      2\u001b[0m     \u001b[0;32mpass\u001b[0m\u001b[0;34m\u001b[0m\u001b[0;34m\u001b[0m\u001b[0m\n\u001b[1;32m      3\u001b[0m \u001b[0;34m\u001b[0m\u001b[0m\n\u001b[0;32m----> 4\u001b[0;31m \u001b[0;32mraise\u001b[0m \u001b[0mMyException\u001b[0m\u001b[0;34m(\u001b[0m\u001b[0;34m\"An exception doesn't always prove the rule!\"\u001b[0m\u001b[0;34m)\u001b[0m\u001b[0;34m\u001b[0m\u001b[0;34m\u001b[0m\u001b[0m\n\u001b[0m",
            "\u001b[0;31mMyException\u001b[0m: An exception doesn't always prove the rule!"
          ]
        }
      ]
    },
    {
      "cell_type": "markdown",
      "metadata": {
        "id": "sQFcman_aoJ6"
      },
      "source": [
        "#### Clean-up Actions (try ... finally)\n",
        "\n",
        "So far the try statement had always been paired with except clauses. But there is another way to use it as well. The try statement can be followed by a finally clause. Finally clauses are called clean-up or termination clauses, because they must be executed under all circumstances, i.e. a \"finally\" clause is always executed regardless if an exception occurred in a try block or not. A simple example to demonstrate the finally clause:"
      ]
    },
    {
      "cell_type": "code",
      "metadata": {
        "colab": {
          "base_uri": "https://localhost:8080/"
        },
        "id": "fOLU0l7zajgg",
        "outputId": "44816e8e-8673-4275-efc7-7453d87604d8"
      },
      "source": [
        "try:\n",
        "    x = float(input(\"Your number: \"))\n",
        "    inverse = 1.0 / x\n",
        "finally:\n",
        "    print(\"There may or may not have been an exception.\")\n",
        "print(\"The inverse: \", inverse)"
      ],
      "execution_count": null,
      "outputs": [
        {
          "output_type": "stream",
          "name": "stdout",
          "text": [
            "Your number: 35\n",
            "There may or may not have been an exception.\n",
            "The inverse:  0.02857142857142857\n"
          ]
        }
      ]
    },
    {
      "cell_type": "markdown",
      "metadata": {
        "id": "0BlMQc9va1ug"
      },
      "source": [
        "#### Combining try, except and finally"
      ]
    },
    {
      "cell_type": "code",
      "metadata": {
        "colab": {
          "base_uri": "https://localhost:8080/"
        },
        "id": "EgttqD2Saxpt",
        "outputId": "eec80b13-b6c3-4ac0-db61-aecd0a882347"
      },
      "source": [
        "try:\n",
        "    x = float(input(\"Your number: \"))\n",
        "    inverse = 1.0 / x\n",
        "except ValueError:\n",
        "    print(\"You should have given either an int or a float\")\n",
        "except ZeroDivisionError:\n",
        "    print(\"Infinity\")\n",
        "finally:\n",
        "    print(\"There may or may not have been an exception.\")"
      ],
      "execution_count": null,
      "outputs": [
        {
          "output_type": "stream",
          "name": "stdout",
          "text": [
            "Your number: 56\n",
            "There may or may not have been an exception.\n"
          ]
        }
      ]
    },
    {
      "cell_type": "markdown",
      "metadata": {
        "id": "RJ9oTCJBa7Y3"
      },
      "source": [
        "#### else Clause\n",
        "\n",
        "The try ... except statement has an optional else clause. An else block has to be positioned after all the except clauses. An else clause will be executed if the try clause doesn't raise an exception.\n",
        "\n",
        "The following example opens a file and reads in all the lines into a list called \"text\":"
      ]
    },
    {
      "cell_type": "code",
      "metadata": {
        "colab": {
          "base_uri": "https://localhost:8080/"
        },
        "id": "vW_nr0M3a4J1",
        "outputId": "92ec7609-8483-4983-87a1-ca774615b042"
      },
      "source": [
        "import sys\n",
        "file_name = sys.argv[1]\n",
        "text = []\n",
        "try:\n",
        "    fh = open(file_name, 'r')\n",
        "    text = fh.readlines()\n",
        "    fh.close()\n",
        "except IOError:\n",
        "    print('cannot open', file_name)\n",
        "\n",
        "if text:\n",
        "    print(text[100])"
      ],
      "execution_count": null,
      "outputs": [
        {
          "output_type": "stream",
          "name": "stdout",
          "text": [
            "cannot open -f\n"
          ]
        }
      ]
    },
    {
      "cell_type": "code",
      "metadata": {
        "id": "siz4Oj8wbFJM",
        "colab": {
          "base_uri": "https://localhost:8080/"
        },
        "outputId": "11ed9e09-37b9-40eb-a2d8-636852749a40"
      },
      "source": [
        "def f1():\n",
        "    print('enter f1')\n",
        "    raise Exception('hooray!')\n",
        "    print('exit f1')\n",
        "\n",
        "def f2():\n",
        "    print('enter f2')\n",
        "    f1()\n",
        "    # try:\n",
        "    #     f1()\n",
        "    # except:\n",
        "    #     print('Exception is caught by f2')\n",
        "    print('exit f2') \n",
        "\n",
        "def f3():\n",
        "    print('enter f3')\n",
        "    try:\n",
        "        f2()\n",
        "    except:\n",
        "        print('Exception is caught by f3')\n",
        "    print('exit f3')\n",
        "\n",
        "f3()"
      ],
      "execution_count": null,
      "outputs": [
        {
          "output_type": "stream",
          "name": "stdout",
          "text": [
            "enter f3\n",
            "enter f2\n",
            "enter f1\n",
            "Exception is caught by f3\n",
            "exit f3\n"
          ]
        }
      ]
    },
    {
      "cell_type": "code",
      "metadata": {
        "id": "gwNIk49ptp_D",
        "colab": {
          "base_uri": "https://localhost:8080/"
        },
        "outputId": "e52049f6-fc9c-465b-c4e7-77e3775c9ed5"
      },
      "source": [
        "L = list(map(int, input().split()))\n",
        "\n",
        "min1 = min(L[0], L[1])\n",
        "min2 = max(L[1], L[0])\n",
        "\n",
        "max2 = min(L[0], L[1])\n",
        "max1 = max(L[1], L[0])\n",
        "\n",
        "for i in L[2:]:\n",
        "\n",
        "    if i > max1:\n",
        "        max2 = max1\n",
        "        max1 = i\n",
        "    elif i > max2:\n",
        "        max2 = i\n",
        "\n",
        "    if i < min1:\n",
        "        min2 = min1\n",
        "        min1 = i\n",
        "    elif i < min2:\n",
        "        min2 = i\n",
        "\n",
        "if min1 * min2 >= max2 * max1:\n",
        "    print(min1, min2)\n",
        "else:\n",
        "    print(max2, max1)"
      ],
      "execution_count": null,
      "outputs": [
        {
          "output_type": "stream",
          "name": "stdout",
          "text": [
            "-1 0\n",
            "[-1, 0]\n",
            "-1 -1\n"
          ]
        }
      ]
    },
    {
      "cell_type": "code",
      "metadata": {
        "id": "So2aZUS2Ttj5"
      },
      "source": [
        ""
      ],
      "execution_count": null,
      "outputs": []
    }
  ]
}