{
  "nbformat": 4,
  "nbformat_minor": 0,
  "metadata": {
    "colab": {
      "name": "Lecture 8. OOP.ipynb",
      "provenance": [],
      "collapsed_sections": [],
      "authorship_tag": "ABX9TyM7WsAzhgqfsM1XTYEyP0uU",
      "include_colab_link": true
    },
    "kernelspec": {
      "name": "python3",
      "display_name": "Python 3"
    },
    "language_info": {
      "name": "python"
    }
  },
  "cells": [
    {
      "cell_type": "markdown",
      "metadata": {
        "id": "view-in-github",
        "colab_type": "text"
      },
      "source": [
        "<a href=\"https://colab.research.google.com/github/justalge/another_python_totorial/blob/main/week4/Lecture_8_OOP.ipynb\" target=\"_parent\"><img src=\"https://colab.research.google.com/assets/colab-badge.svg\" alt=\"Open In Colab\"/></a>"
      ]
    },
    {
      "cell_type": "markdown",
      "metadata": {
        "id": "RaVn-kn8PSji"
      },
      "source": [
        "# General Introduction\n",
        "\n",
        "Though Python is an object-oriented language without fuss or quibble, we have so far intentionally avoided the treatment of object-oriented programming (OOP) in the previous chapters of our Python tutorial. We skipped OOP, because we are convinced that it is easier and more fun to start learning Python without having to know about all the details of object-oriented programming.\n",
        "\n",
        "The four major principles of object-orientation:\n",
        "\n",
        "* Encapsulation\n",
        "* Data abstraction\n",
        "* Polymorphism\n",
        "* Inheritance\n",
        "\n",
        "Before we start the section about the way OOP is used in Python, we want to give you a general idea about object-oriented programming. For this purpose, we would like to draw your attention to a public library. Generally, there are two opposed ways of keeping the stock in a library. You can use a \"closed access\" method that is the stock is not displayed on open shelves. In this system, trained staff brings the books and other publications to the users on demand. Another way of running a library is open-access shelving, also known as \"open shelves\". \"Open\" means open to all users of the library not only specially trained staff. In this case the books are openly displayed. Imperative languages like C could be seen as open-access shelving libraries. The user can do everything. It's up to the user to find the books and to put them back at the right shelf. Even though this is great for the user, it might lead to serious problems in the long run. For example some books will be misplaced, so it's hard to find them again. As you may have guessed already, \"closed access\" can be compared to object oriented programming. The analogy can be seen like this: The books and other publications, which a library offers, are like the data in an object-oriented program. Access to the books is restricted like access to the data is restricted in OOP. Getting or returning a book is only possible via the staff. The staff functions like the methods in OOP, which control the access to the data. So, the data, - often called attributes, - in such a program can be seen as being hidden and protected by a shell, and it can only be accessed by special functions, usually called methods in the OOP context. Putting the data behind a \"shell\" is called Encapsulation. So a library can be regarded as a class and a book is an instance or an object of this class. Generally speaking, an object is defined by a class. A class is a formal description of how an object is designed, i.e. which attributes and methods it has. These objects are called instances as well. The expressions are in most cases used synonymously. A class should not be confused with an object.\n",
        "\n",
        "#### OOP in Python\n",
        "\n",
        "Even though we haven't talked about classes and object orientation in previous chapters, we have worked with classes all the time. In fact, everything is a class in Python. Guido van Rossum has designed the language according to the principle \"first-class everything\". He wrote: \"One of my goals for Python was to make it so that all objects were \"first class.\" By this, I meant that I wanted all objects that could be named in the language (e.g., integers, strings, functions, classes, modules, methods, and so on) to have equal status. That is, they can be assigned to variables, placed in lists, stored in dictionaries, passed as arguments, and so forth.\" (Blog, The History of Python, February 27, 2009) In other words, \"everything\" is treated the same way, everything is a class: functions and methods are values just like lists, integers or floats. Each of these are instances of their corresponding classes."
      ]
    },
    {
      "cell_type": "code",
      "metadata": {
        "colab": {
          "base_uri": "https://localhost:8080/"
        },
        "id": "L9CHnAFLPRmi",
        "outputId": "3163b587-e831-4931-965f-acc5de6cbe62"
      },
      "source": [
        "x = 42\n",
        "type(x)"
      ],
      "execution_count": null,
      "outputs": [
        {
          "output_type": "execute_result",
          "data": {
            "text/plain": [
              "int"
            ]
          },
          "metadata": {},
          "execution_count": 1
        }
      ]
    },
    {
      "cell_type": "code",
      "metadata": {
        "colab": {
          "base_uri": "https://localhost:8080/"
        },
        "id": "gvmxWxu_S_Db",
        "outputId": "1aba095f-68e5-46da-b600-2b1a118e332b"
      },
      "source": [
        "y = 4.34\n",
        "type(y)"
      ],
      "execution_count": null,
      "outputs": [
        {
          "output_type": "execute_result",
          "data": {
            "text/plain": [
              "float"
            ]
          },
          "metadata": {},
          "execution_count": 2
        }
      ]
    },
    {
      "cell_type": "code",
      "metadata": {
        "colab": {
          "base_uri": "https://localhost:8080/"
        },
        "id": "rTs0J1bNTBbr",
        "outputId": "f9408d20-c35f-4084-c9fe-fd1cd110200b"
      },
      "source": [
        "def f(x):\n",
        "    return x + 1\n",
        "type(f)"
      ],
      "execution_count": null,
      "outputs": [
        {
          "output_type": "execute_result",
          "data": {
            "text/plain": [
              "function"
            ]
          },
          "metadata": {},
          "execution_count": 3
        }
      ]
    },
    {
      "cell_type": "code",
      "metadata": {
        "colab": {
          "base_uri": "https://localhost:8080/"
        },
        "id": "BUCfSC0YTDt0",
        "outputId": "b1102745-b6ba-4dd0-a93f-7ed4e563507a"
      },
      "source": [
        "import math\n",
        "type(math)"
      ],
      "execution_count": null,
      "outputs": [
        {
          "output_type": "execute_result",
          "data": {
            "text/plain": [
              "module"
            ]
          },
          "metadata": {},
          "execution_count": 4
        }
      ]
    },
    {
      "cell_type": "code",
      "metadata": {
        "colab": {
          "base_uri": "https://localhost:8080/"
        },
        "id": "RJm4a7YJTFl6",
        "outputId": "60744461-3bea-4a55-ac2e-3aeea94ea9c8"
      },
      "source": [
        "# One of the many integrated classes in Python is the list class, which we have\n",
        "# quite often used in our exercises and examples. The list class provides\n",
        "# a wealth of methods to build lists, to access and change elements, or to remove elements:\n",
        "\n",
        "x = [3,6,9]\n",
        "y = [45, \"abc\"]\n",
        "print(x[1])\n",
        "\n",
        "x[1] = 99\n",
        "x.append(42)\n",
        "last = y.pop()\n",
        "print(last)"
      ],
      "execution_count": null,
      "outputs": [
        {
          "output_type": "stream",
          "name": "stdout",
          "text": [
            "6\n",
            "abc\n"
          ]
        }
      ]
    },
    {
      "cell_type": "markdown",
      "metadata": {
        "id": "iVH-hTLeTaw2"
      },
      "source": [
        "The variables x and y of the previous example denote two instances of the list class. In simplified terms, we have said so far that \"x and y are lists\". We will use the terms \"object\" and \"instance\" synonymously in the following chapters, as it is often done.\n",
        "\n",
        "pop and append of the previous example are methods of the list class. pop returns the top (or you might think of it as the \"rightest\") element of the list and removes this element from the list. We will not explain how Python has implemented lists internally. We don't need this information, because the list class provides us with all the necessary methods to access the data indirectly. That is, the encapsulation details are encapsulated. We will learn about encapsulation later.\n",
        "\n",
        "#### A Minimal Class in Python\n",
        "\n",
        "![](https://www.python-course.eu/images/robot_evolution.webp)\n",
        "\n",
        "We can realize the fundamental syntactical structure of a class in Python: A class consists of two parts: the header and the body. The header usually consists of just one line of code. It begins with the keyword \"class\" followed by a blank and an arbitrary name for the class. The class name is \"Robot\" in our case. The class name is followed by a listing of other class names, which are classes from which the defined class inherits. These classes are called superclasses, base classes or sometimes parent classes. If you look at our example, you will see that this listing of superclasses is not obligatory. You don't have to bother about inheritance and superclasses for now. We will introduce them later.\n",
        "\n",
        "The body of a class consists of an indented block of statements. In our case a single statement, the \"pass\" statement.\n",
        "A class object is created, when the definition is left normally, i.e. via the end. This is basically a wrapper around the contents of the namespace created by the class definition.\n",
        "\n",
        "It's hard to believe, especially for C++ or Java programmers, but we have already defined a complete class with just three words and two lines of code. We are capable of using this class as well:"
      ]
    },
    {
      "cell_type": "code",
      "metadata": {
        "colab": {
          "base_uri": "https://localhost:8080/"
        },
        "id": "LyZSMOYsTQkG",
        "outputId": "24ef7490-eb56-4ce0-f1b6-8609167dc5d0"
      },
      "source": [
        "class Robot:\n",
        "    pass\n",
        "\n",
        "if __name__ == \"__main__\":\n",
        "    x = Robot()\n",
        "    y = Robot()\n",
        "    y2 = y\n",
        "    print(y == y2)\n",
        "    print(y == x)"
      ],
      "execution_count": null,
      "outputs": [
        {
          "output_type": "stream",
          "name": "stdout",
          "text": [
            "True\n",
            "False\n"
          ]
        }
      ]
    },
    {
      "cell_type": "markdown",
      "metadata": {
        "id": "C4BKujFRUVP6"
      },
      "source": [
        "#### Attributes\n",
        "\n",
        "Those who have learned already another object-oriented language, must have realized that the terms attributes and properties are usually used synonymously. It may even be used in the definition of an attribute, like Wikipedia does: \"In computing, an attribute is a specification that defines a property of an object, element, or file. It may also refer to or set the specific value for a given instance of such.\"\n",
        "\n",
        "Let's get back to Python: We will learn later that properties and attributes are essentially different things in Python. This subsection of our tutorial is about attributes in Python. So far our robots have no attributes. Not even a name, like it is customary for ordinary robots, isn't it? So, let's implement a name attribute. \"type designation\", \"build year\" etc. are easily conceivable as further attributes as well.\n",
        "\n",
        "Attributes are created inside a class definition, as we will soon learn. We can dynamically create arbitrary new attributes for existing instances of a class. We do this by joining an arbitrary name to the instance name, separated by a dot \".\". In the following example, we demonstrate this by creating an attribute for the name and the year built:"
      ]
    },
    {
      "cell_type": "code",
      "metadata": {
        "colab": {
          "base_uri": "https://localhost:8080/"
        },
        "id": "8e5ilYLDUNOu",
        "outputId": "3884f1f9-bfea-4382-f4e3-5dd3ed2c07ae"
      },
      "source": [
        "class Robot:\n",
        "    pass\n",
        "\n",
        "x = Robot()\n",
        "y = Robot()\n",
        " \n",
        "x.name = \"Marvin\"\n",
        "x.build_year = \"1979\"\n",
        " \n",
        "y.name = \"Caliban\"\n",
        "y.build_year = \"1993\"\n",
        " \n",
        "print(x.name)\n",
        "print(y.build_year)"
      ],
      "execution_count": null,
      "outputs": [
        {
          "output_type": "stream",
          "name": "stdout",
          "text": [
            "Marvin\n",
            "1993\n"
          ]
        }
      ]
    },
    {
      "cell_type": "markdown",
      "metadata": {
        "id": "SLKmQrlgU-8c"
      },
      "source": [
        "As we have said before: This is not the way to properly create instance attributes. We introduced this example, because we think that it may help to make the following explanations easier to understand.\n",
        "\n",
        "If you want to know, what's happening internally: The instances possess dictionaries \\_\\_dict__, which they use to store their attributes and their corresponding values:"
      ]
    },
    {
      "cell_type": "code",
      "metadata": {
        "colab": {
          "base_uri": "https://localhost:8080/"
        },
        "id": "y6etK2bOU1ln",
        "outputId": "d587a7c8-2f96-47ad-ee1b-a059d1691d73"
      },
      "source": [
        "print(x.__dict__)\n",
        "print(y.__dict__)"
      ],
      "execution_count": null,
      "outputs": [
        {
          "output_type": "stream",
          "name": "stdout",
          "text": [
            "{'name': 'Marvin', 'build_year': '1979'}\n",
            "{'name': 'Caliban', 'build_year': '1993'}\n"
          ]
        }
      ]
    },
    {
      "cell_type": "markdown",
      "metadata": {
        "id": "HNzS7TppVd-O"
      },
      "source": [
        "Attributes can be bound to class names as well. In this case, each instance will possess this name as well. Watch out, what happens, if you assign the same name to an instance:"
      ]
    },
    {
      "cell_type": "code",
      "metadata": {
        "colab": {
          "base_uri": "https://localhost:8080/"
        },
        "id": "Sv2M4WgCVIAp",
        "outputId": "2da1cbb7-2d40-4c07-ee23-76ca1f4f4149"
      },
      "source": [
        "class Robot(object):\n",
        "    pass\n",
        "\n",
        "x = Robot()\n",
        "Robot.brand = \"Kuka\"\n",
        "print(x.brand)\n",
        "print()\n",
        "\n",
        "x.brand = \"Thales\"\n",
        "print(x.brand)\n",
        "print(Robot.brand)\n",
        "print()\n",
        "\n",
        "y = Robot()\n",
        "print(y.brand)\n",
        "print()\n",
        "\n",
        "Robot.brand = \"Thales\"\n",
        "print(y.brand)\n",
        "print(x.brand)"
      ],
      "execution_count": null,
      "outputs": [
        {
          "output_type": "stream",
          "name": "stdout",
          "text": [
            "Kuka\n",
            "\n",
            "Thales\n",
            "Kuka\n",
            "\n",
            "Kuka\n",
            "\n",
            "Thales\n",
            "Thales\n"
          ]
        }
      ]
    },
    {
      "cell_type": "markdown",
      "metadata": {
        "id": "gKpoIKDeWHS4"
      },
      "source": [
        "If you look at the \\_\\_dict__ dictionaries, you can see what's happening."
      ]
    },
    {
      "cell_type": "code",
      "metadata": {
        "colab": {
          "base_uri": "https://localhost:8080/"
        },
        "id": "GSwWGzt7V7Dz",
        "outputId": "6807ca56-c699-4328-f101-1adc8d225110"
      },
      "source": [
        "x.__dict__"
      ],
      "execution_count": null,
      "outputs": [
        {
          "output_type": "execute_result",
          "data": {
            "text/plain": [
              "{'brand': 'Thales'}"
            ]
          },
          "metadata": {},
          "execution_count": 13
        }
      ]
    },
    {
      "cell_type": "code",
      "metadata": {
        "colab": {
          "base_uri": "https://localhost:8080/"
        },
        "id": "XdIGIGQuWLRo",
        "outputId": "3f7e9404-9213-4b84-c0f2-126d2eb40824"
      },
      "source": [
        "y.__dict__"
      ],
      "execution_count": null,
      "outputs": [
        {
          "output_type": "execute_result",
          "data": {
            "text/plain": [
              "{}"
            ]
          },
          "metadata": {},
          "execution_count": 14
        }
      ]
    },
    {
      "cell_type": "code",
      "metadata": {
        "colab": {
          "base_uri": "https://localhost:8080/"
        },
        "id": "EN2LgfbBWNT4",
        "outputId": "ca1cb322-1f64-40b8-ea19-0d3532aded0a"
      },
      "source": [
        "Robot.__dict__"
      ],
      "execution_count": null,
      "outputs": [
        {
          "output_type": "execute_result",
          "data": {
            "text/plain": [
              "mappingproxy({'__dict__': <attribute '__dict__' of 'Robot' objects>,\n",
              "              '__doc__': None,\n",
              "              '__module__': '__main__',\n",
              "              '__weakref__': <attribute '__weakref__' of 'Robot' objects>,\n",
              "              'brand': 'Thales'})"
            ]
          },
          "metadata": {},
          "execution_count": 21
        }
      ]
    },
    {
      "cell_type": "markdown",
      "metadata": {
        "id": "-lk63zvaWlJA"
      },
      "source": [
        "**If you try to access y.brand, Python checks first, if \"brand\" is a key of the y. \\_\\_dict__ dictionary. If it is not, Python checks, if \"brand\" is a key of the Robot. \\_\\_dict__. If so, the value can be retrieved.**\n",
        "\n",
        "If an attribute name is not in included in either of the dictionary, the attribute name is not defined. If you try to access a non-existing attribute, you will raise an AttributeError:"
      ]
    },
    {
      "cell_type": "code",
      "metadata": {
        "colab": {
          "base_uri": "https://localhost:8080/",
          "height": 164
        },
        "id": "ST-knXHeWQUC",
        "outputId": "8f93bc0d-4883-4e97-8766-c53dda3015d0"
      },
      "source": [
        "x.energy"
      ],
      "execution_count": null,
      "outputs": [
        {
          "output_type": "error",
          "ename": "AttributeError",
          "evalue": "ignored",
          "traceback": [
            "\u001b[0;31m---------------------------------------------------------------------------\u001b[0m",
            "\u001b[0;31mAttributeError\u001b[0m                            Traceback (most recent call last)",
            "\u001b[0;32m<ipython-input-22-82fa0f11497d>\u001b[0m in \u001b[0;36m<module>\u001b[0;34m()\u001b[0m\n\u001b[0;32m----> 1\u001b[0;31m \u001b[0mx\u001b[0m\u001b[0;34m.\u001b[0m\u001b[0menergy\u001b[0m\u001b[0;34m\u001b[0m\u001b[0;34m\u001b[0m\u001b[0m\n\u001b[0m",
            "\u001b[0;31mAttributeError\u001b[0m: 'Robot' object has no attribute 'energy'"
          ]
        }
      ]
    },
    {
      "cell_type": "code",
      "metadata": {
        "colab": {
          "base_uri": "https://localhost:8080/"
        },
        "id": "jmMxkPa9WyS2",
        "outputId": "15a5ffe7-677b-4b2d-830b-20668a3d91c6"
      },
      "source": [
        "# By using the function getattr, you can prevent this exception, if you provide\n",
        "# a default value as the third argument:\n",
        "\n",
        "getattr(x, 'energy', 100)"
      ],
      "execution_count": null,
      "outputs": [
        {
          "output_type": "execute_result",
          "data": {
            "text/plain": [
              "100"
            ]
          },
          "metadata": {},
          "execution_count": 23
        }
      ]
    },
    {
      "cell_type": "markdown",
      "metadata": {
        "id": "_IWFK2lqXEcK"
      },
      "source": [
        "Binding attributes to objects is a general concept in Python. Even function names can be attributed. You can bind an attribute to a function name in the same way, we have done so far to other instances of classes:"
      ]
    },
    {
      "cell_type": "code",
      "metadata": {
        "colab": {
          "base_uri": "https://localhost:8080/"
        },
        "id": "UBl_eo5RW7Lm",
        "outputId": "b9548b5a-2074-4236-c1d4-09fb16db8ffd"
      },
      "source": [
        "def f(x):\n",
        "    return 42\n",
        " \n",
        "f.x = 42\n",
        "print(f.x)"
      ],
      "execution_count": null,
      "outputs": [
        {
          "output_type": "stream",
          "name": "stdout",
          "text": [
            "42\n"
          ]
        }
      ]
    },
    {
      "cell_type": "markdown",
      "metadata": {
        "id": "wn4WbEd2XQT-"
      },
      "source": [
        "This can be used as a replacement for the static function variables of C and C++, which are not possible in Python. We use a counter attribute in the following example:"
      ]
    },
    {
      "cell_type": "code",
      "metadata": {
        "colab": {
          "base_uri": "https://localhost:8080/"
        },
        "id": "DU4xJCD0XJbL",
        "outputId": "6517b1a7-4a4d-462c-8c3e-feb571d1bc44"
      },
      "source": [
        "def f(x):\n",
        "    f.counter = getattr(f, \"counter\", 0) + 1\n",
        "    return \"Monty Python\"\n",
        "        \n",
        "\n",
        "for i in range(10):\n",
        "    f(i)\n",
        "    \n",
        "print(f.counter)"
      ],
      "execution_count": null,
      "outputs": [
        {
          "output_type": "stream",
          "name": "stdout",
          "text": [
            "10\n"
          ]
        }
      ]
    },
    {
      "cell_type": "markdown",
      "metadata": {
        "id": "n8TFwErZXgy0"
      },
      "source": [
        "Some uncertainty may arise at this point. It is possible to assign attributes to most class instances, but this has nothing to do with defining classes. We will see soon how to assign attributes when we define a class.\n",
        "To properly create instances of classes, we also need methods. You will learn in the following subsection of our Python tutorial, how you can define methods.\n",
        "\n",
        "#### Methods\n",
        "\n",
        "Methods in Python are essentially functions in accordance with Guido's saying \"first-class everything\".\n",
        "\n",
        "Let's define a function \"hi\", which takes an object \"obj\" as an argument and assumes that this object has an attribute \"name\". We will also define our basic Robot class again:"
      ]
    },
    {
      "cell_type": "code",
      "metadata": {
        "colab": {
          "base_uri": "https://localhost:8080/"
        },
        "id": "kd_xPkkaXWNi",
        "outputId": "c12c3c83-b2bd-4855-b73b-3d154da38792"
      },
      "source": [
        "def hi(obj):\n",
        "    print(\"Hi, I am \" + obj.name + \"!\")\n",
        "\n",
        "class Robot:\n",
        "    pass\n",
        "    \n",
        "\n",
        "x = Robot()\n",
        "x.name = \"Marvin\"\n",
        "hi(x)"
      ],
      "execution_count": null,
      "outputs": [
        {
          "output_type": "stream",
          "name": "stdout",
          "text": [
            "Hi, I am Marvin!\n"
          ]
        }
      ]
    },
    {
      "cell_type": "code",
      "metadata": {
        "colab": {
          "base_uri": "https://localhost:8080/"
        },
        "id": "ZXugKV2nXyhN",
        "outputId": "09aaa4a3-fe17-4423-e114-3f9daee11845"
      },
      "source": [
        "# We will now bind the function „hi“ to a class attribute „say_hi“:\n",
        "\n",
        "def hi(obj):\n",
        "        print(\"Hi, I am \" + obj.name)\n",
        "\n",
        "class Robot:\n",
        "    # say_hi = hi\n",
        "    def say_hi(obj):\n",
        "            print(\"Hi, I am \" + obj.name)    \n",
        "    \n",
        "\n",
        "x = Robot()\n",
        "x.name = \"Marvin\"\n",
        "Robot.say_hi(x)"
      ],
      "execution_count": null,
      "outputs": [
        {
          "output_type": "stream",
          "name": "stdout",
          "text": [
            "Hi, I am Marvin\n"
          ]
        }
      ]
    },
    {
      "cell_type": "markdown",
      "metadata": {
        "id": "FS0kfMEWX_Ca"
      },
      "source": [
        "\"say_hi\" is called a method. Usually, it will be called like this:\n",
        "\n",
        "`x.say_hi()`\n",
        "\n",
        "It is possible to define methods like this, but you shouldn't do it.\n",
        "\n",
        "The proper way to do it:\n",
        "\n",
        "* Instead of defining a function outside of a class definition and binding it to a class attribute, we define a method directly inside (indented) of a class definition.\n",
        "* A method is \"just\" a function which is defined inside a class.\n",
        "* The first parameter is used a reference to the calling instance.\n",
        "* This parameter is usually called self.\n",
        "* **`Self` corresponds to the Robot object x.**\n",
        "\n",
        "We have seen that a method differs from a function only in two aspects:\n",
        "\n",
        "* It belongs to a class, and it is defined within a class\n",
        "* The first parameter in the definition of a method has to be a reference to the instance, which called the method. This parameter is usually called \"self\".\n",
        "\n",
        "As a matter of fact, \"self\" is not a Python keyword. It's just a naming convention! So C++ or Java programmers are free to call it \"this\", but this way they are risking that others might have greater difficulties in understanding their code!\n",
        "\n",
        "Most other object-oriented programming languages pass the reference to the object (self) as a hidden parameter to the methods.\n",
        "\n",
        "You saw before that the calls Robot.say_hi(x)\". and \"x.say_hi()\" are equivalent. \"x.say_hi()\" can be seen as an \"abbreviated\" form, i.e. Python automatically binds it to the instance name. Besides this \"x.say_hi()\" is the usual way to call methods in Python and in other object oriented languages.\n",
        "\n",
        "For a Class C, an instance x of C and a method m of C the following three method calls are equivalent:\n",
        "\n",
        "* type(x).m(x, ...)\n",
        "* C.m(x, ...)\n",
        "* x.m(...)\n",
        "\n",
        "Before you proceed with the following text, you may mull over the previous example for awhile. Can you figure out, what is wrong in the design?\n",
        "\n",
        "There is more than one thing about this code, which may disturb you, but the essential problem at the moment is the fact that we create a robot and that after the creation, we shouldn't forget about naming it! If we forget it, say_hi will raise an error.\n",
        "\n",
        "We need a mechanism to initialize an instance right after its creation. This is the \\_\\_init__-method, which we cover in the next section.\n",
        "\n",
        "#### The \\_\\_init__ Method\n",
        "\n",
        "We want to define the attributes of an instance right after its creation. \\_\\_init__ is a method which is immediately and automatically called after an instance has been created. This name is fixed and it is not possible to chose another name. \\_\\_init__ is one of the so-called magic methods,we will get to know it with some more details later. The \\_\\_init__ method is used to initialize an instance. There is no explicit constructor or destructor method in Python, as they are known in C++ and Java. The \\_\\_init__ method can be anywhere in a class definition, but it is usually the first method of a class, i.e. it follows right after the class header."
      ]
    },
    {
      "cell_type": "code",
      "metadata": {
        "colab": {
          "base_uri": "https://localhost:8080/"
        },
        "id": "Ac9m5eOOX7hC",
        "outputId": "05cb37df-aa3f-4efe-ec91-cbcd301b2af8"
      },
      "source": [
        "class A:\n",
        "    def __init__(self):\n",
        "        print(\"__init__ has been executed!\")\n",
        "\n",
        "x = A()"
      ],
      "execution_count": null,
      "outputs": [
        {
          "output_type": "stream",
          "name": "stdout",
          "text": [
            "__init__ has been executed!\n"
          ]
        }
      ]
    },
    {
      "cell_type": "code",
      "metadata": {
        "colab": {
          "base_uri": "https://localhost:8080/"
        },
        "id": "a_fvUayxZ5lo",
        "outputId": "55efd764-4319-4ec0-b2f1-116a84b29a8e"
      },
      "source": [
        "# We add an __init__-method to our robot class:\n",
        "\n",
        "class Robot:\n",
        " \n",
        "    def __init__(self, name=None):\n",
        "        self.name = name   \n",
        "        \n",
        "    def say_hi(self):\n",
        "        if self.name:\n",
        "            print(\"Hi, I am \" + self.name)\n",
        "        else:\n",
        "            print(\"Hi, I am a robot without a name\")\n",
        "    \n",
        "\n",
        "x = Robot()\n",
        "x.say_hi()\n",
        "y = Robot(\"Marvin\")\n",
        "y.say_hi()"
      ],
      "execution_count": null,
      "outputs": [
        {
          "output_type": "stream",
          "name": "stdout",
          "text": [
            "Hi, I am a robot without a name\n",
            "Hi, I am Marvin\n"
          ]
        }
      ]
    },
    {
      "cell_type": "markdown",
      "metadata": {
        "id": "LumjO3zmaE1d"
      },
      "source": [
        "#### Data Abstraction, Data Encapsulation, and Information Hiding\n",
        "\n",
        "![](https://www.python-course.eu/images/data_abstraction_500w.webp)\n",
        "\n",
        "Data Abstraction, Data Encapsulation and Information Hiding are often synonymously used in books and tutorials on OOP. However, there is a difference. Encapsulation is seen as the bundling of data with the methods that operate on that data. Information hiding on the other hand is the principle that some internal information or data is \"hidden\", so that it can't be accidentally changed. Data encapsulation via methods doesn't necessarily mean that the data is hidden. You might be capable of accessing and seeing the data anyway, but using the methods is recommended. Finally, data abstraction is present, if both data hiding and data encapsulation is used. In other words, data abstraction is the broader term:\n",
        "\n",
        "Data Abstraction = Data Encapsulation + Data Hiding\n",
        "\n",
        "Encapsulation is often accomplished by providing two kinds of methods for attributes: The methods for retrieving or accessing the values of attributes are called getter methods. Getter methods do not change the values of attributes, they just return the values. The methods used for changing the values of attributes are called setter methods"
      ]
    },
    {
      "cell_type": "code",
      "metadata": {
        "colab": {
          "base_uri": "https://localhost:8080/"
        },
        "id": "emPlXV8AaBlT",
        "outputId": "1558e2fb-c24b-4841-c06c-8a7611306366"
      },
      "source": [
        "# We will define now a Robot class with a Getter and a Setter for the name\n",
        "# attribute. We will call them get_name and set_name accordingly:\n",
        "\n",
        "class Robot:\n",
        " \n",
        "    def __init__(self, \n",
        "                 name=None,\n",
        "                 build_year=None):\n",
        "        self.name = name   \n",
        "        self.build_year = build_year\n",
        "        \n",
        "    def say_hi(self):\n",
        "        if self.name:\n",
        "            print(\"Hi, I am \" + self.name)\n",
        "        else:\n",
        "            print(\"Hi, I am a robot without a name\")\n",
        "        if self.build_year:\n",
        "            print(\"I was built in \" + str(self.build_year))\n",
        "        else:\n",
        "            print(\"It's not known, when I was created!\")\n",
        "            \n",
        "    def set_name(self, name):\n",
        "        self.name = name\n",
        "        \n",
        "    def get_name(self):\n",
        "        return self.name    \n",
        "\n",
        "    def set_build_year(self, by):\n",
        "        self.build_year = by\n",
        "        \n",
        "    def get_build_year(self):\n",
        "        return self.build_year\n",
        "\n",
        "    def __repr__(self):\n",
        "        return 'hello!'\n",
        "    \n",
        "\n",
        "x = Robot(\"Henry\", 2008)\n",
        "y = Robot()\n",
        "y.set_name(\"Marvin\")\n",
        "x.say_hi()\n",
        "y.say_hi()"
      ],
      "execution_count": null,
      "outputs": [
        {
          "output_type": "stream",
          "name": "stdout",
          "text": [
            "Hi, I am Henry\n",
            "I was built in 2008\n",
            "Hi, I am Marvin\n",
            "It's not known, when I was created!\n"
          ]
        }
      ]
    },
    {
      "cell_type": "markdown",
      "metadata": {
        "id": "Gxq6FKZkbHko"
      },
      "source": [
        "There is still something wrong with our Robot class. The Zen of Python says: \"There should be one-- and preferably only one --obvious way to do it.\" Our Robot class provides us with two ways to access or to change the \"name\" or the \"build_year\" attribute. This can be prevented by using private attributes, which we will explain later.\n",
        "\n",
        "#### \\_\\_str__- and \\_\\_repr__-Methods\n",
        "\n",
        "We will have a short break in our treatise on data abstraction for a quick side-trip. We want to introduce two important magic methods \"\\_\\_str__\" and \"\\_\\_repr__\", which we will need in future examples. In the course of this tutorial, we have already encountered the \\_\\_str__ method. We had seen that we can depict various data as string by using the str function, which uses \"magically\" the internal \\_\\_str__ method of the corresponding data type. \\_\\_repr__ is similar. It also produces a string representation."
      ]
    },
    {
      "cell_type": "code",
      "metadata": {
        "colab": {
          "base_uri": "https://localhost:8080/"
        },
        "id": "z6-2M-vFR5F5",
        "outputId": "720bd8c5-2fa3-4077-a0f5-165a00f1ae03"
      },
      "source": [
        "x"
      ],
      "execution_count": null,
      "outputs": [
        {
          "output_type": "execute_result",
          "data": {
            "text/plain": [
              "hello!"
            ]
          },
          "metadata": {},
          "execution_count": 11
        }
      ]
    },
    {
      "cell_type": "code",
      "metadata": {
        "colab": {
          "base_uri": "https://localhost:8080/"
        },
        "id": "TXuerRxca1ST",
        "outputId": "648a135b-253a-4f15-93b6-7941f63b6baf"
      },
      "source": [
        "l = [\"Python\", \"Java\", \"C++\", \"Perl\"]\n",
        "print(l)"
      ],
      "execution_count": null,
      "outputs": [
        {
          "output_type": "stream",
          "name": "stdout",
          "text": [
            "['Python', 'Java', 'C++', 'Perl']\n"
          ]
        }
      ]
    },
    {
      "cell_type": "code",
      "metadata": {
        "colab": {
          "base_uri": "https://localhost:8080/",
          "height": 37
        },
        "id": "D_kl26PDbf68",
        "outputId": "d25e7c62-ebcf-445e-811d-e4122a17245a"
      },
      "source": [
        "str(l)"
      ],
      "execution_count": null,
      "outputs": [
        {
          "output_type": "execute_result",
          "data": {
            "application/vnd.google.colaboratory.intrinsic+json": {
              "type": "string"
            },
            "text/plain": [
              "\"['Python', 'Java', 'C++', 'Perl']\""
            ]
          },
          "metadata": {},
          "execution_count": 33
        }
      ]
    },
    {
      "cell_type": "code",
      "metadata": {
        "colab": {
          "base_uri": "https://localhost:8080/",
          "height": 37
        },
        "id": "o3dzAhNfbmbO",
        "outputId": "8e0163ac-f127-4a39-bfcd-ae4277a32f96"
      },
      "source": [
        "l.__str__()"
      ],
      "execution_count": null,
      "outputs": [
        {
          "output_type": "execute_result",
          "data": {
            "application/vnd.google.colaboratory.intrinsic+json": {
              "type": "string"
            },
            "text/plain": [
              "\"['Python', 'Java', 'C++', 'Perl']\""
            ]
          },
          "metadata": {},
          "execution_count": 35
        }
      ]
    },
    {
      "cell_type": "code",
      "metadata": {
        "colab": {
          "base_uri": "https://localhost:8080/",
          "height": 37
        },
        "id": "ltpWiopqbiIe",
        "outputId": "7a45e624-9d2d-4c29-af4c-65670b0a9f24"
      },
      "source": [
        "repr(l)"
      ],
      "execution_count": null,
      "outputs": [
        {
          "output_type": "execute_result",
          "data": {
            "application/vnd.google.colaboratory.intrinsic+json": {
              "type": "string"
            },
            "text/plain": [
              "\"['Python', 'Java', 'C++', 'Perl']\""
            ]
          },
          "metadata": {},
          "execution_count": 34
        }
      ]
    },
    {
      "cell_type": "code",
      "metadata": {
        "colab": {
          "base_uri": "https://localhost:8080/",
          "height": 37
        },
        "id": "-NSiw0f-bkXD",
        "outputId": "dc1c5864-3086-4fd7-d334-cd085a91097a"
      },
      "source": [
        "l.__repr__()"
      ],
      "execution_count": null,
      "outputs": [
        {
          "output_type": "execute_result",
          "data": {
            "application/vnd.google.colaboratory.intrinsic+json": {
              "type": "string"
            },
            "text/plain": [
              "\"['Python', 'Java', 'C++', 'Perl']\""
            ]
          },
          "metadata": {},
          "execution_count": 36
        }
      ]
    },
    {
      "cell_type": "code",
      "metadata": {
        "colab": {
          "base_uri": "https://localhost:8080/"
        },
        "id": "hhswTwo5bqbl",
        "outputId": "e9039b1d-82d0-42a2-b314-48bdfc143443"
      },
      "source": [
        "d = {\"a\":3497, \"b\":8011, \"c\":8300}\n",
        "print(d)"
      ],
      "execution_count": null,
      "outputs": [
        {
          "output_type": "stream",
          "name": "stdout",
          "text": [
            "{'a': 3497, 'b': 8011, 'c': 8300}\n"
          ]
        }
      ]
    },
    {
      "cell_type": "code",
      "metadata": {
        "colab": {
          "base_uri": "https://localhost:8080/",
          "height": 37
        },
        "id": "6gcbN9zpbtsW",
        "outputId": "16b6f24f-df88-4c53-aade-0f649827fb92"
      },
      "source": [
        "str(d)"
      ],
      "execution_count": null,
      "outputs": [
        {
          "output_type": "execute_result",
          "data": {
            "application/vnd.google.colaboratory.intrinsic+json": {
              "type": "string"
            },
            "text/plain": [
              "\"{'a': 3497, 'b': 8011, 'c': 8300}\""
            ]
          },
          "metadata": {},
          "execution_count": 38
        }
      ]
    },
    {
      "cell_type": "code",
      "metadata": {
        "colab": {
          "base_uri": "https://localhost:8080/",
          "height": 37
        },
        "id": "5wcRft-kb5ci",
        "outputId": "5585fe6e-3bc7-43a2-fe5e-97fd3e91d8dd"
      },
      "source": [
        "repr(d)"
      ],
      "execution_count": null,
      "outputs": [
        {
          "output_type": "execute_result",
          "data": {
            "application/vnd.google.colaboratory.intrinsic+json": {
              "type": "string"
            },
            "text/plain": [
              "\"{'a': 3497, 'b': 8011, 'c': 8300}\""
            ]
          },
          "metadata": {},
          "execution_count": 39
        }
      ]
    },
    {
      "cell_type": "markdown",
      "metadata": {
        "id": "UyLDmslwb8B1"
      },
      "source": [
        "If you apply str or repr to an object, Python is looking for a corresponding method \\_\\_str__ or \\_\\_repr__ in the class definition of the object. If the method does exist, it will be called. In the following example, we define a class A, having neither a \\_\\_str__ nor a \\_\\_repr__ method. We want to see, what happens, if we use print directly on an instance of this class, or if we apply str or repr to this instance:"
      ]
    },
    {
      "cell_type": "code",
      "metadata": {
        "colab": {
          "base_uri": "https://localhost:8080/"
        },
        "id": "IaN3EHKVb7GS",
        "outputId": "c749cbc0-d788-436d-d39e-a93f5541e340"
      },
      "source": [
        "class A:\n",
        "    pass\n",
        " \n",
        "a = A()\n",
        "print(a)"
      ],
      "execution_count": null,
      "outputs": [
        {
          "output_type": "stream",
          "name": "stdout",
          "text": [
            "<__main__.A object at 0x7fbf2d105b90>\n"
          ]
        }
      ]
    },
    {
      "cell_type": "code",
      "metadata": {
        "colab": {
          "base_uri": "https://localhost:8080/"
        },
        "id": "vMjhyTErcCfd",
        "outputId": "15c866fc-c019-4f72-d12d-4828981ea0e8"
      },
      "source": [
        "print(repr(a))\n",
        "print(str(a))"
      ],
      "execution_count": null,
      "outputs": [
        {
          "output_type": "stream",
          "name": "stdout",
          "text": [
            "<__main__.A object at 0x7fbf2d105b90>\n",
            "<__main__.A object at 0x7fbf2d105b90>\n"
          ]
        }
      ]
    },
    {
      "cell_type": "markdown",
      "metadata": {
        "id": "YUoT4OJhcKq2"
      },
      "source": [
        "As both methods are not available, Python uses the default output for our object \"a\".\n",
        "\n",
        "If a class has a \\_\\_str__ method, the method will be used for an instance x of that class, if either the function str is applied to it or if it is used in a print function. \\_\\_str__ will not be used, if repr is called, or if we try to output the value directly in an interactive Python shell:"
      ]
    },
    {
      "cell_type": "code",
      "metadata": {
        "colab": {
          "base_uri": "https://localhost:8080/"
        },
        "id": "WlRmJEt2cFdC",
        "outputId": "d938d439-ec06-4334-e649-d06dd96bc659"
      },
      "source": [
        "class A:\n",
        "    def __str__(self):\n",
        "        return \"__str__ is called\"\n",
        "    def __repr__(self):\n",
        "        return \"__repr__ is called\"\n",
        " \n",
        "a = A()\n",
        "\n",
        "print(repr(a))\n",
        "print(str(a))\n",
        "a"
      ],
      "execution_count": null,
      "outputs": [
        {
          "output_type": "stream",
          "name": "stdout",
          "text": [
            "__repr__ is called\n",
            "__str__ is called\n"
          ]
        },
        {
          "output_type": "execute_result",
          "data": {
            "text/plain": [
              "__repr__ is called"
            ]
          },
          "metadata": {},
          "execution_count": 46
        }
      ]
    },
    {
      "cell_type": "markdown",
      "metadata": {
        "id": "S_83Bk4Gc4J0"
      },
      "source": [
        "Otherwise, if a class has only the \\_\\_repr__ method and no \\_\\_str__ method, \\_\\_repr__ will be applied in the situations, where \\_\\_str__ would be applied, if it were available:"
      ]
    },
    {
      "cell_type": "code",
      "metadata": {
        "colab": {
          "base_uri": "https://localhost:8080/"
        },
        "id": "kvc-GUHGcZAi",
        "outputId": "c4cd79a4-426a-4ac1-ca08-8345e3002dfa"
      },
      "source": [
        "class A:\n",
        "    def __repr__(self):\n",
        "        return \"42\"\n",
        "\n",
        "a = A()\n",
        "print(repr(a))\n",
        "print(str(a))"
      ],
      "execution_count": null,
      "outputs": [
        {
          "output_type": "stream",
          "name": "stdout",
          "text": [
            "42\n",
            "42\n"
          ]
        }
      ]
    },
    {
      "cell_type": "markdown",
      "metadata": {
        "id": "QxVcJ-d_dm7o"
      },
      "source": [
        "A frequently asked question is when to use \\_\\_repr__ and when \\_\\_str__. \\_\\_str__ is always the right choice, if the output should be for the end user or in other words, if it should be nicely printed. \\_\\_repr__ on the other hand is used for the internal representation of an object. The output of \\_\\_repr__ should be - if feasible - a string which can be parsed by the python interpreter. The result of this parsing is in an equal object. That is, the following should be true for an object \"o\":\n",
        "\n",
        "`o == eval(repr(o))`"
      ]
    },
    {
      "cell_type": "code",
      "metadata": {
        "colab": {
          "base_uri": "https://localhost:8080/",
          "height": 37
        },
        "id": "OU2m4qh_c-Lv",
        "outputId": "07895a42-3650-4cc6-ce5a-7788617958e9"
      },
      "source": [
        "l = [3,8,9]\n",
        "s = repr(l)\n",
        "s"
      ],
      "execution_count": null,
      "outputs": [
        {
          "output_type": "execute_result",
          "data": {
            "application/vnd.google.colaboratory.intrinsic+json": {
              "type": "string"
            },
            "text/plain": [
              "'[3, 8, 9]'"
            ]
          },
          "metadata": {},
          "execution_count": 48
        }
      ]
    },
    {
      "cell_type": "code",
      "metadata": {
        "colab": {
          "base_uri": "https://localhost:8080/"
        },
        "id": "l1dk2-S8dx9m",
        "outputId": "fe934f46-68bd-4306-cba1-efe76185a81c"
      },
      "source": [
        "l == eval(s)"
      ],
      "execution_count": null,
      "outputs": [
        {
          "output_type": "execute_result",
          "data": {
            "text/plain": [
              "True"
            ]
          },
          "metadata": {},
          "execution_count": 49
        }
      ]
    },
    {
      "cell_type": "code",
      "metadata": {
        "colab": {
          "base_uri": "https://localhost:8080/"
        },
        "id": "18NGn954d0Yx",
        "outputId": "c7f7d1b8-176f-4d18-bade-03d874b6fa80"
      },
      "source": [
        "l == eval(str(l))"
      ],
      "execution_count": null,
      "outputs": [
        {
          "output_type": "execute_result",
          "data": {
            "text/plain": [
              "True"
            ]
          },
          "metadata": {},
          "execution_count": 50
        }
      ]
    },
    {
      "cell_type": "markdown",
      "metadata": {
        "id": "NELH5gzFeDei"
      },
      "source": [
        "We show in the following example with the datetime module that eval can only be applied on the strings created by repr:"
      ]
    },
    {
      "cell_type": "code",
      "metadata": {
        "colab": {
          "base_uri": "https://localhost:8080/",
          "height": 147
        },
        "id": "fHgvJrdqd4hp",
        "outputId": "c316b6db-b2a0-46e0-ab1b-1f27765d2614"
      },
      "source": [
        "import datetime\n",
        "today = datetime.datetime.now()\n",
        "str_s = str(today)\n",
        "print(str_s)\n",
        "eval(str_s)"
      ],
      "execution_count": null,
      "outputs": [
        {
          "output_type": "stream",
          "name": "stdout",
          "text": [
            "2021-09-30 06:53:16.244982\n"
          ]
        },
        {
          "output_type": "error",
          "ename": "SyntaxError",
          "evalue": "ignored",
          "traceback": [
            "\u001b[0;36m  File \u001b[0;32m\"<string>\"\u001b[0;36m, line \u001b[0;32m1\u001b[0m\n\u001b[0;31m    2021-09-30 06:53:16.244982\u001b[0m\n\u001b[0m          ^\u001b[0m\n\u001b[0;31mSyntaxError\u001b[0m\u001b[0;31m:\u001b[0m invalid token\n"
          ]
        }
      ]
    },
    {
      "cell_type": "code",
      "metadata": {
        "colab": {
          "base_uri": "https://localhost:8080/"
        },
        "id": "AGSJBitxeG_A",
        "outputId": "5e40c0a3-170f-4a75-8df2-2b44caf0ccd8"
      },
      "source": [
        "repr_s = repr(today)\n",
        "print('str:', str_s)\n",
        "print('repr:', repr_s)\n",
        "t = eval(repr_s)\n",
        "type(t)"
      ],
      "execution_count": null,
      "outputs": [
        {
          "output_type": "stream",
          "name": "stdout",
          "text": [
            "str: 2021-09-30 06:52:39.208630\n",
            "repr: datetime.datetime(2021, 9, 30, 6, 52, 39, 208630)\n"
          ]
        },
        {
          "output_type": "execute_result",
          "data": {
            "text/plain": [
              "datetime.datetime"
            ]
          },
          "metadata": {},
          "execution_count": 57
        }
      ]
    },
    {
      "cell_type": "markdown",
      "metadata": {
        "id": "VLahYSqjeuL9"
      },
      "source": [
        "We can see that eval(repr_s) returns again a datetime.datetime object. The string created by str can't be turned into a datetime.datetime object by parsing it.\n",
        "\n",
        "We will extend our robot class with a repr method. We dropped the other methods to keep this example simple:"
      ]
    },
    {
      "cell_type": "code",
      "metadata": {
        "colab": {
          "base_uri": "https://localhost:8080/"
        },
        "id": "M_rNOx4seJjz",
        "outputId": "9acf982c-4a36-4dd8-e1ee-3683d8b31545"
      },
      "source": [
        "class Robot:\n",
        "\n",
        "    def __init__(self, name, build_year):\n",
        "        self.name = name\n",
        "        self.build_year = build_year\n",
        "\n",
        "    def __repr__(self):\n",
        "        return \"Robot('\" + self.name + \"', \" +  str(self.build_year) +  \")\"\n",
        "     \n",
        "if __name__ == \"__main__\":\n",
        "    x = Robot(\"Marvin\", 1979)\n",
        "        \n",
        "    x_str = str(x)\n",
        "    print(x_str)\n",
        "    print(\"Type of x_str: \", type(x_str))\n",
        "    new = eval(x_str) \n",
        "    print(new)\n",
        "    print(\"Type of new:\", type(new))"
      ],
      "execution_count": null,
      "outputs": [
        {
          "output_type": "stream",
          "name": "stdout",
          "text": [
            "Robot('Marvin', 1979)\n",
            "Type of x_str:  <class 'str'>\n",
            "Robot('Marvin', 1979)\n",
            "Type of new: <class '__main__.Robot'>\n"
          ]
        }
      ]
    },
    {
      "cell_type": "markdown",
      "metadata": {
        "id": "4Gg-WK1jfCxI"
      },
      "source": [
        "x_str has the value Robot('Marvin', 1979). eval(x_str) converts it again into a Robot instance.\n",
        "\n",
        "Now it's time to extend our class with a user friendly \\_\\_str__ method:"
      ]
    },
    {
      "cell_type": "code",
      "metadata": {
        "colab": {
          "base_uri": "https://localhost:8080/",
          "height": 164
        },
        "id": "99RO-M65fF39",
        "outputId": "6b4321fe-7f2e-4a08-a218-6a5cfba5d87a"
      },
      "source": [
        "class Robot:\n",
        "\n",
        "    def __init__(self, name, build_year):\n",
        "        self.name = name\n",
        "        self.build_year = build_year\n",
        "\n",
        "    def __repr__(self):\n",
        "        return \"Robot('\" + self.name + \"', \" +  str(self.build_year) +  \")\"\n",
        "\n",
        "    def __str__(self):\n",
        "        return \"Name: \" + self.name + \", Build Year: \" +  str(self.build_year)\n",
        "     \n",
        "if __name__ == \"__main__\":\n",
        "    x = Robot(\"Marvin\", 1979)\n",
        "        \n",
        "    x_str = str(x)\n",
        "    print(x_str)\n",
        "    print(\"Type of x_str: \", type(x_str))\n",
        "    new = eval(x_str)\n",
        "    print(new)\n",
        "    print(\"Type of new:\", type(new))"
      ],
      "execution_count": null,
      "outputs": [
        {
          "output_type": "stream",
          "name": "stdout",
          "text": [
            "Name: Marvin, Build Year: 1979\n",
            "Type of x_str:  <class 'str'>\n"
          ]
        },
        {
          "output_type": "error",
          "ename": "SyntaxError",
          "evalue": "ignored",
          "traceback": [
            "\u001b[0;36m  File \u001b[0;32m\"<string>\"\u001b[0;36m, line \u001b[0;32m1\u001b[0m\n\u001b[0;31m    Name: Marvin, Build Year: 1979\u001b[0m\n\u001b[0m        ^\u001b[0m\n\u001b[0;31mSyntaxError\u001b[0m\u001b[0;31m:\u001b[0m invalid syntax\n"
          ]
        }
      ]
    },
    {
      "cell_type": "markdown",
      "metadata": {
        "id": "e4mZZnBVfO2P"
      },
      "source": [
        "When we start this program, we can see that it is not possible to convert our string x_str, created via str(x), into a Robot object anymore.\n",
        "\n",
        "We show in the following program that x_repr can still be turned into a Robot object:"
      ]
    },
    {
      "cell_type": "code",
      "metadata": {
        "colab": {
          "base_uri": "https://localhost:8080/"
        },
        "id": "KLKTsY1mfIdj",
        "outputId": "357b48cd-126e-4663-da08-a00719be3ec1"
      },
      "source": [
        "class Robot:\n",
        "\n",
        "    def __init__(self, name, build_year):\n",
        "        self.name = name\n",
        "        self.build_year = build_year\n",
        "\n",
        "    def __repr__(self):\n",
        "        return \"Robot(\\\"\" + self.name + \"\\\",\" +  str(self.build_year) +  \")\"\n",
        "\n",
        "    def __str__(self):\n",
        "        return \"Name: \" + self.name + \", Build Year: \" +  str(self.build_year)\n",
        "     \n",
        "if __name__ == \"__main__\":\n",
        "    x = Robot(\"Marvin\", 1979)\n",
        "    \n",
        "    x_repr = repr(x)\n",
        "    print(x_repr, type(x_repr))\n",
        "    new = eval(x_repr)\n",
        "    print(new)\n",
        "    print(\"Type of new:\", type(new))"
      ],
      "execution_count": null,
      "outputs": [
        {
          "output_type": "stream",
          "name": "stdout",
          "text": [
            "Robot(\"Marvin\",1979) <class 'str'>\n",
            "Name: Marvin, Build Year: 1979\n",
            "Type of new: <class '__main__.Robot'>\n"
          ]
        }
      ]
    },
    {
      "cell_type": "markdown",
      "metadata": {
        "id": "_qk_GwKofahv"
      },
      "source": [
        "#### Public, \\_Protected, and \\_\\_Private Attributes\n",
        "\n",
        "![](https://www.python-course.eu/images/private_property_no_trespassing_400w.webp)\n",
        "\n",
        "The first decision to take is how to protect the data which should be private. The second decision is what to do if trespassing, i.e. accessing or changing private data, occurs. Of course, the private data may be protected in a way that it can't be accessed under any circumstances. This is hardly possible in practice, as we know from the old saying \"Where there's a will, there's a way\"!\n",
        "\n",
        "Some owners allow a restricted access to their property. Joggers or hikers may find signs like \"Enter at your own risk\". A third kind of property might be public property like streets or parks, where it is perfectly legal to be.\n",
        "\n",
        "We have the same classification again in object-oriented programming:\n",
        "\n",
        "* Private attributes should only be used by the owner, i.e. inside of the class definition itself.\n",
        "* Protected (restricted) Attributes may be used, but at your own risk. Essentially, they should only be used under certain conditions.\n",
        "* Public Attributes can and should be freely used.\n",
        "\n",
        "Python uses a special naming scheme for attributes to control the accessibility of the attributes. So far, we have used attribute names, which can be freely used inside or outside of a class definition, as we have seen. This corresponds to public attributes of course. There are two ways to restrict the access to class attributes:\n",
        "\n",
        "* First, we can prefix an attribute name with a leading underscore \"_\". This marks the attribute as protected. It tells users of the class not to use this attribute unless, they write a subclass. We will learn about inheritance and subclassing in the next chapter of our tutorial.\n",
        "* Second, we can prefix an attribute name with two leading underscores \"__\". The attribute is now inaccessible and invisible from outside. It's neither possible to read nor write to those attributes except inside the class definition itself.\n",
        "\n",
        "We want to demonstrate the behaviour of these attribute types with an example class:"
      ]
    },
    {
      "cell_type": "code",
      "metadata": {
        "colab": {
          "base_uri": "https://localhost:8080/"
        },
        "id": "cubkqA_bfWRW",
        "outputId": "921bcc0b-12b2-4928-ff1c-9f4c682dad37"
      },
      "source": [
        "code = '''\n",
        "class A:\n",
        "    \n",
        "    def __init__(self):\n",
        "        self.__priv = \"I am private\"\n",
        "        self._prot = \"I am protected\"\n",
        "        self.pub = \"I am public\"\n",
        "'''\n",
        "with open('attribute_tests.py', 'w') as h:\n",
        "    print(code, file=h)\n",
        "!cat attribute_tests.py"
      ],
      "execution_count": null,
      "outputs": [
        {
          "output_type": "stream",
          "name": "stdout",
          "text": [
            "\n",
            "class A:\n",
            "    \n",
            "    def __init__(self):\n",
            "        self.__priv = \"I am private\"\n",
            "        self._prot = \"I am protected\"\n",
            "        self.pub = \"I am public\"\n",
            "\n"
          ]
        }
      ]
    },
    {
      "cell_type": "markdown",
      "metadata": {
        "id": "CJuHjG4Mgv4w"
      },
      "source": [
        "We store this class (attribute_tests.py) and test its behaviour in the following interactive Python shell:"
      ]
    },
    {
      "cell_type": "code",
      "metadata": {
        "colab": {
          "base_uri": "https://localhost:8080/",
          "height": 37
        },
        "id": "_DjvditGgr8j",
        "outputId": "a066db05-802a-490f-f870-044273832968"
      },
      "source": [
        "from attribute_tests import A\n",
        "x = A()\n",
        "x.pub"
      ],
      "execution_count": null,
      "outputs": [
        {
          "output_type": "execute_result",
          "data": {
            "application/vnd.google.colaboratory.intrinsic+json": {
              "type": "string"
            },
            "text/plain": [
              "'I am public'"
            ]
          },
          "metadata": {},
          "execution_count": 13
        }
      ]
    },
    {
      "cell_type": "code",
      "metadata": {
        "colab": {
          "base_uri": "https://localhost:8080/",
          "height": 37
        },
        "id": "wWMW4_i7hCSW",
        "outputId": "a5b82918-34e9-4cbf-d87e-2035edec0be7"
      },
      "source": [
        "x.pub = x.pub + \" and my value can be changed\"\n",
        "x.pub"
      ],
      "execution_count": null,
      "outputs": [
        {
          "output_type": "execute_result",
          "data": {
            "application/vnd.google.colaboratory.intrinsic+json": {
              "type": "string"
            },
            "text/plain": [
              "'I am public and my value can be changed'"
            ]
          },
          "metadata": {},
          "execution_count": 66
        }
      ]
    },
    {
      "cell_type": "code",
      "metadata": {
        "colab": {
          "base_uri": "https://localhost:8080/",
          "height": 37
        },
        "id": "3sieNesXhFtU",
        "outputId": "124816a4-dee7-496a-d152-35d8c565731c"
      },
      "source": [
        "x._prot"
      ],
      "execution_count": null,
      "outputs": [
        {
          "output_type": "execute_result",
          "data": {
            "application/vnd.google.colaboratory.intrinsic+json": {
              "type": "string"
            },
            "text/plain": [
              "'I am protected'"
            ]
          },
          "metadata": {},
          "execution_count": 14
        }
      ]
    },
    {
      "cell_type": "code",
      "metadata": {
        "colab": {
          "base_uri": "https://localhost:8080/",
          "height": 164
        },
        "id": "17HIwoqGhH9w",
        "outputId": "e87ebafb-e731-4ba8-8e48-891aafbd38f5"
      },
      "source": [
        "x.__priv"
      ],
      "execution_count": null,
      "outputs": [
        {
          "output_type": "error",
          "ename": "AttributeError",
          "evalue": "ignored",
          "traceback": [
            "\u001b[0;31m---------------------------------------------------------------------------\u001b[0m",
            "\u001b[0;31mAttributeError\u001b[0m                            Traceback (most recent call last)",
            "\u001b[0;32m<ipython-input-15-f75b36b98afa>\u001b[0m in \u001b[0;36m<module>\u001b[0;34m()\u001b[0m\n\u001b[0;32m----> 1\u001b[0;31m \u001b[0mx\u001b[0m\u001b[0;34m.\u001b[0m\u001b[0m__priv\u001b[0m\u001b[0;34m\u001b[0m\u001b[0;34m\u001b[0m\u001b[0m\n\u001b[0m",
            "\u001b[0;31mAttributeError\u001b[0m: 'A' object has no attribute '__priv'"
          ]
        }
      ]
    },
    {
      "cell_type": "code",
      "metadata": {
        "colab": {
          "base_uri": "https://localhost:8080/"
        },
        "id": "n-YCJQWxhJm3",
        "outputId": "58128671-c0f3-423d-e4c4-724eb03d4afc"
      },
      "source": [
        "x.__dict__"
      ],
      "execution_count": null,
      "outputs": [
        {
          "output_type": "execute_result",
          "data": {
            "text/plain": [
              "{'_A__priv': 'I am private',\n",
              " '_prot': 'I am protected',\n",
              " 'pub': 'I am public and my value can be changed'}"
            ]
          },
          "metadata": {},
          "execution_count": 69
        }
      ]
    },
    {
      "cell_type": "markdown",
      "metadata": {
        "id": "U_S6z_LKh37r"
      },
      "source": [
        "A double underscore prefix causes the Python interpreter to rewrite the attribute name in order to avoid naming conflicts in subclasses.\n",
        "\n",
        "This is also called name mangling—the interpreter changes the name of the variable in a way that makes it harder to create collisions when the class is extended later.\n",
        "\n",
        "I know this sounds rather abstract. This is why I put together this little code example we can use for experimentation:"
      ]
    },
    {
      "cell_type": "code",
      "metadata": {
        "id": "09YhFbaBhOEg"
      },
      "source": [
        "class Test:\n",
        "    def __init__(self):\n",
        "        self.foo = 11\n",
        "        self._bar = 23\n",
        "        self.__baz = 23"
      ],
      "execution_count": null,
      "outputs": []
    },
    {
      "cell_type": "code",
      "metadata": {
        "colab": {
          "base_uri": "https://localhost:8080/"
        },
        "id": "MqoYXL9FiAHv",
        "outputId": "24bb3d7e-b4a6-4792-af48-d5a74eb8712e"
      },
      "source": [
        "t = Test()\n",
        "dir(t)"
      ],
      "execution_count": null,
      "outputs": [
        {
          "output_type": "execute_result",
          "data": {
            "text/plain": [
              "['_Test__baz',\n",
              " '__class__',\n",
              " '__delattr__',\n",
              " '__dict__',\n",
              " '__dir__',\n",
              " '__doc__',\n",
              " '__eq__',\n",
              " '__format__',\n",
              " '__ge__',\n",
              " '__getattribute__',\n",
              " '__gt__',\n",
              " '__hash__',\n",
              " '__init__',\n",
              " '__init_subclass__',\n",
              " '__le__',\n",
              " '__lt__',\n",
              " '__module__',\n",
              " '__ne__',\n",
              " '__new__',\n",
              " '__reduce__',\n",
              " '__reduce_ex__',\n",
              " '__repr__',\n",
              " '__setattr__',\n",
              " '__sizeof__',\n",
              " '__str__',\n",
              " '__subclasshook__',\n",
              " '__weakref__',\n",
              " '_bar',\n",
              " 'foo']"
            ]
          },
          "metadata": {},
          "execution_count": 71
        }
      ]
    },
    {
      "cell_type": "markdown",
      "metadata": {
        "id": "VtNS0e7riJwT"
      },
      "source": [
        "This gives us a list with the object’s attributes. Let’s take this list and look for our original variable names foo, _bar, and __baz—I promise you’ll notice some interesting changes.\n",
        "\n",
        "The self.foo variable appears unmodified as foo in the attribute list.\n",
        "self._bar behaves the same way—it shows up on the class as _bar. Like I said before, the leading underscore is just a convention in this case. A hint for the programmer.\n",
        "\n",
        "However with self.__baz, things look a little different. When you search for __baz in that list you’ll see that there is no variable with that name.\n",
        "\n",
        "So what happened to __baz?\n",
        "\n",
        "If you look closely you’ll see there’s an attribute called _Test__baz on this object. This is the name mangling that the Python interpreter applies. It does this to protect the variable from getting overridden in subclasses.\n",
        "\n",
        "Double underscore name mangling is fully transparent to the programmer. Take a look at the following example that will confirm this:"
      ]
    },
    {
      "cell_type": "code",
      "metadata": {
        "colab": {
          "base_uri": "https://localhost:8080/",
          "height": 37
        },
        "id": "u9zwR9qgiDLE",
        "outputId": "f1248d83-4c97-424d-9a9c-3b683a82ce60"
      },
      "source": [
        "class ManglingTest:\n",
        "    def __init__(self):\n",
        "        self.__mangled = 'hello'\n",
        "\n",
        "    def get_mangled(self):\n",
        "        return self.__mangled\n",
        "\n",
        "ManglingTest().get_mangled()"
      ],
      "execution_count": null,
      "outputs": [
        {
          "output_type": "execute_result",
          "data": {
            "application/vnd.google.colaboratory.intrinsic+json": {
              "type": "string"
            },
            "text/plain": [
              "'hello'"
            ]
          },
          "metadata": {},
          "execution_count": 72
        }
      ]
    },
    {
      "cell_type": "code",
      "metadata": {
        "colab": {
          "base_uri": "https://localhost:8080/",
          "height": 164
        },
        "id": "YE-0Sl4AiyAM",
        "outputId": "ed9ac3f4-0069-46b2-f46e-f5db70cd7a1b"
      },
      "source": [
        "ManglingTest().__mangled"
      ],
      "execution_count": null,
      "outputs": [
        {
          "output_type": "error",
          "ename": "AttributeError",
          "evalue": "ignored",
          "traceback": [
            "\u001b[0;31m---------------------------------------------------------------------------\u001b[0m",
            "\u001b[0;31mAttributeError\u001b[0m                            Traceback (most recent call last)",
            "\u001b[0;32m<ipython-input-73-14d8b1db7c4f>\u001b[0m in \u001b[0;36m<module>\u001b[0;34m()\u001b[0m\n\u001b[0;32m----> 1\u001b[0;31m \u001b[0mManglingTest\u001b[0m\u001b[0;34m(\u001b[0m\u001b[0;34m)\u001b[0m\u001b[0;34m.\u001b[0m\u001b[0m__mangled\u001b[0m\u001b[0;34m\u001b[0m\u001b[0;34m\u001b[0m\u001b[0m\n\u001b[0m",
            "\u001b[0;31mAttributeError\u001b[0m: 'ManglingTest' object has no attribute '__mangled'"
          ]
        }
      ]
    },
    {
      "cell_type": "markdown",
      "metadata": {
        "id": "r6zek1hfi3gT"
      },
      "source": [
        "Does name mangling also apply to method names? It sure does—name mangling affects all names that start with two underscore characters (“dunders”) in a class context:"
      ]
    },
    {
      "cell_type": "code",
      "metadata": {
        "colab": {
          "base_uri": "https://localhost:8080/"
        },
        "id": "eh1ul0v5i0ki",
        "outputId": "0d135ca6-7254-4d4a-9505-21331986291d"
      },
      "source": [
        "class MangledMethod:\n",
        "    def __method(self):\n",
        "        return 42\n",
        "\n",
        "    def call_it(self):\n",
        "        return self.__method()\n",
        "\n",
        "MangledMethod().call_it()"
      ],
      "execution_count": null,
      "outputs": [
        {
          "output_type": "execute_result",
          "data": {
            "text/plain": [
              "42"
            ]
          },
          "metadata": {},
          "execution_count": 74
        }
      ]
    },
    {
      "cell_type": "code",
      "metadata": {
        "colab": {
          "base_uri": "https://localhost:8080/",
          "height": 164
        },
        "id": "saymUlcIi9qJ",
        "outputId": "3a4444d8-1875-4e52-f24f-5c24933ced2f"
      },
      "source": [
        "MangledMethod().__method()"
      ],
      "execution_count": null,
      "outputs": [
        {
          "output_type": "error",
          "ename": "AttributeError",
          "evalue": "ignored",
          "traceback": [
            "\u001b[0;31m---------------------------------------------------------------------------\u001b[0m",
            "\u001b[0;31mAttributeError\u001b[0m                            Traceback (most recent call last)",
            "\u001b[0;32m<ipython-input-76-3a27f66f344d>\u001b[0m in \u001b[0;36m<module>\u001b[0;34m()\u001b[0m\n\u001b[0;32m----> 1\u001b[0;31m \u001b[0mMangledMethod\u001b[0m\u001b[0;34m(\u001b[0m\u001b[0;34m)\u001b[0m\u001b[0;34m.\u001b[0m\u001b[0m__method\u001b[0m\u001b[0;34m(\u001b[0m\u001b[0;34m)\u001b[0m\u001b[0;34m\u001b[0m\u001b[0;34m\u001b[0m\u001b[0m\n\u001b[0m",
            "\u001b[0;31mAttributeError\u001b[0m: 'MangledMethod' object has no attribute '__method'"
          ]
        }
      ]
    },
    {
      "cell_type": "markdown",
      "metadata": {
        "id": "P_1FWA4yjCxX"
      },
      "source": [
        "Here’s another, perhaps surprising, example of name mangling in action:"
      ]
    },
    {
      "cell_type": "code",
      "metadata": {
        "colab": {
          "base_uri": "https://localhost:8080/"
        },
        "id": "ux30-ulGi_an",
        "outputId": "2a96d99e-19ce-468e-a49e-c78a94b53732"
      },
      "source": [
        "_MangledGlobal__mangled = 23\n",
        "\n",
        "class MangledGlobal:\n",
        "    def test(self):\n",
        "        return __mangled\n",
        "\n",
        "\n",
        "MangledGlobal().test()"
      ],
      "execution_count": null,
      "outputs": [
        {
          "output_type": "execute_result",
          "data": {
            "text/plain": [
              "23"
            ]
          },
          "metadata": {},
          "execution_count": 77
        }
      ]
    },
    {
      "cell_type": "markdown",
      "metadata": {
        "id": "6dlSqWpbjWtW"
      },
      "source": [
        "In this example I declared a global variable called _MangledGlobal__mangled. Then I accessed the variable inside the context of a class named MangledGlobal. Because of name mangling I was able to reference the _MangledGlobal__mangled global variable as just __mangled inside the test() method on the class.\n",
        "\n",
        "The Python interpreter automatically expanded the name __mangled to \\_MangledGlobal\\_\\_mangled because it begins with two underscore characters. This demonstrated that name mangling isn’t tied to class attributes specifically. It applies to any name starting with two underscore characters used in a class context.\n",
        "\n",
        "#### What does mean single underscore after a name?\n",
        "\n",
        "Sometimes the most fitting name for a variable is already taken by a keyword. Therefore names like class or def cannot be used as variable names in Python. In this case you can append a single underscore to break the naming conflict:"
      ]
    },
    {
      "cell_type": "code",
      "metadata": {
        "colab": {
          "base_uri": "https://localhost:8080/",
          "height": 130
        },
        "id": "oTMw22kvjKje",
        "outputId": "f0d67c57-eac9-4339-f119-400ec3252699"
      },
      "source": [
        "def make_object(name, class):\n",
        "    pass"
      ],
      "execution_count": null,
      "outputs": [
        {
          "output_type": "error",
          "ename": "SyntaxError",
          "evalue": "ignored",
          "traceback": [
            "\u001b[0;36m  File \u001b[0;32m\"<ipython-input-78-8bc7202f8bcc>\"\u001b[0;36m, line \u001b[0;32m1\u001b[0m\n\u001b[0;31m    def make_object(name, class):\u001b[0m\n\u001b[0m                              ^\u001b[0m\n\u001b[0;31mSyntaxError\u001b[0m\u001b[0;31m:\u001b[0m invalid syntax\n"
          ]
        }
      ]
    },
    {
      "cell_type": "code",
      "metadata": {
        "id": "vP5lnn3ujuvs"
      },
      "source": [
        "def make_object(name, class_):\n",
        "    pass"
      ],
      "execution_count": null,
      "outputs": []
    },
    {
      "cell_type": "markdown",
      "metadata": {
        "id": "Zr-2FqFdj3PW"
      },
      "source": [
        "#### Double Leading and Trailing Underscore: \\_\\_var\\_\\_\n",
        "\n",
        "Perhaps surprisingly, name mangling is not applied if a name starts and ends with double underscores. Variables surrounded by a double underscore prefix and postfix are left unscathed by the Python interpeter:"
      ]
    },
    {
      "cell_type": "code",
      "metadata": {
        "colab": {
          "base_uri": "https://localhost:8080/"
        },
        "id": "FZ1vfPa4jyUW",
        "outputId": "22df88e4-f7cd-4631-e138-518a09c1a8b7"
      },
      "source": [
        "class PrefixPostfixTest:\n",
        "    def __init__(self):\n",
        "        self.__bam__ = 42\n",
        "        \n",
        "PrefixPostfixTest().__bam__"
      ],
      "execution_count": null,
      "outputs": [
        {
          "output_type": "execute_result",
          "data": {
            "text/plain": [
              "42"
            ]
          },
          "metadata": {},
          "execution_count": 82
        }
      ]
    },
    {
      "cell_type": "markdown",
      "metadata": {
        "id": "By4VyqGtkN-V"
      },
      "source": [
        "However, names that have both leading and trailing double underscores are reserved for special use in the language. This rule covers things like \\_\\_init__ for object constructors, or \\_\\_call__ to make an object callable.\n",
        "\n",
        "These dunder methods are often referred to as magic methods—but many people in the Python community, including myself, don’t like that.\n",
        "\n",
        "It’s best to stay away from using names that start and end with double underscores (“dunders”) in your own programs to avoid collisions with future changes to the Python language.\n",
        "\n",
        "**full summary about underscores:** https://dbader.org/blog/meaning-of-underscores-in-python\n",
        "\n",
        "\n",
        "Lets back to Robot example. Our next task is rewriting our Robot class. Though we have Getter and Setter methods for the name and the build_year, we can access the attributes directly as well, because we have defined them as public attributes. Data Encapsulation means, that we should only be able to access private attributes via getters and setters."
      ]
    },
    {
      "cell_type": "code",
      "metadata": {
        "colab": {
          "base_uri": "https://localhost:8080/"
        },
        "id": "xKsWanhYkGg2",
        "outputId": "f8e585b5-1315-41d7-a744-a5e2ef498694"
      },
      "source": [
        "class Robot:\n",
        " \n",
        "    def __init__(self, name=None, build_year=2000):\n",
        "        self.__name = name\n",
        "        self.__build_year = build_year\n",
        "        \n",
        "    def say_hi(self):\n",
        "        if self.__name:\n",
        "            print(\"Hi, I am \" + self.__name)\n",
        "        else:\n",
        "            print(\"Hi, I am a robot without a name\")\n",
        "            \n",
        "    def set_name(self, name):\n",
        "        self.__name = name\n",
        "        \n",
        "    def get_name(self):\n",
        "        return self.__name    \n",
        "\n",
        "    def set_build_year(self, by):\n",
        "        self.__build_year = by\n",
        "        \n",
        "    def get_build_year(self):\n",
        "        return self.__build_year    \n",
        "    \n",
        "    def __repr__(self):\n",
        "        return \"Robot('\" + self.__name + \"', \" +  str(self.__build_year) +  \")\"\n",
        "\n",
        "    def __str__(self):\n",
        "        return \"Name: \" + self.__name + \", Build Year: \" +  str(self.__build_year)\n",
        "\n",
        "     \n",
        "if __name__ == \"__main__\":\n",
        "    x = Robot(\"Marvin\", 1979)\n",
        "    y = Robot(\"Caliban\", 1943)\n",
        "    for rob in [x, y]:\n",
        "        rob.say_hi()\n",
        "        if rob.get_name() == \"Caliban\":\n",
        "            rob.set_build_year(1993)\n",
        "        print(\"I was built in the year \" + str(rob.get_build_year()) + \"!\")"
      ],
      "execution_count": null,
      "outputs": [
        {
          "output_type": "stream",
          "name": "stdout",
          "text": [
            "Hi, I am Marvin\n",
            "I was built in the year 1979!\n",
            "Hi, I am Caliban\n",
            "I was built in the year 1993!\n"
          ]
        }
      ]
    },
    {
      "cell_type": "markdown",
      "metadata": {
        "id": "iJihRb2nktM5"
      },
      "source": [
        "Every private attribute of our class has a getter and a setter. There are IDEs for object-oriented programming languages, who automatically provide getters and setters for every private attribute as soon as an attribute is created\n",
        "\n",
        "This may look like the following class:\n",
        "\n",
        "`\n",
        "class A():\n",
        "\n",
        "    def __init__(self, x, y):\n",
        "        self.__x = x\n",
        "        self.__y = y\n",
        "\n",
        "    def GetX(self):\n",
        "        return self.__x\n",
        "\n",
        "    def GetY(self):\n",
        "        return self.__y\n",
        "\n",
        "    def SetX(self, x):\n",
        "        self.__x = x\n",
        "\n",
        "    def SetY(self, y):\n",
        "        self.__y = y\n",
        "`\n",
        "\n",
        "There are at least two good reasons against such an approach. First of all not every private attribute needs to be accessed from outside. Second, we will create non-pythonic code this way, as you will learn soon.\n",
        "\n",
        "#### Destructor\n",
        "\n",
        "What we said about constructors holds true for destructors as well. There is no \"real\" destructor, but something similar, i.e. the method \\_\\_del__. It is called when the instance is about to be destroyed and if there is no other reference to this instance. If a base class has a \\_\\_del__() method, the derived class's \\_\\_del__() method, if any, must explicitly call it to ensure proper deletion of the base class part of the instance.\n",
        "The following script is an example with \\_\\_init__ and \\_\\_del__:"
      ]
    },
    {
      "cell_type": "code",
      "metadata": {
        "colab": {
          "base_uri": "https://localhost:8080/"
        },
        "id": "jg7FI32Fko7n",
        "outputId": "222fd52e-7a04-4b53-b2f5-ad5dafe9a9fc"
      },
      "source": [
        "class Robot():\n",
        "    \n",
        "    def __init__(self, name):\n",
        "        print(name + \" has been created!\")\n",
        "        \n",
        "    def __del__(self):\n",
        "        print (\"Robot has been destroyed\")\n",
        "        \n",
        "        \n",
        "if __name__ == \"__main__\":\n",
        "    x = Robot(\"Tik-Tok\")\n",
        "    y = Robot(\"Jenkins\")\n",
        "    z = x\n",
        "    print(\"Deleting x\")\n",
        "    del x\n",
        "    print(\"Deleting z\")\n",
        "    del z\n",
        "    del y"
      ],
      "execution_count": null,
      "outputs": [
        {
          "output_type": "stream",
          "name": "stdout",
          "text": [
            "Tik-Tok has been created!\n",
            "Jenkins has been created!\n",
            "Deleting x\n",
            "Deleting z\n",
            "Robot has been destroyed\n",
            "Robot has been destroyed\n"
          ]
        }
      ]
    },
    {
      "cell_type": "markdown",
      "metadata": {
        "id": "R-a6UYuylvB7"
      },
      "source": [
        "The usage of the \\_\\_del__ method is very problematic. If we change the previous code to personalize the deletion of a robot, we create an error:"
      ]
    },
    {
      "cell_type": "code",
      "metadata": {
        "colab": {
          "base_uri": "https://localhost:8080/"
        },
        "id": "wG0F3_Q0lpdm",
        "outputId": "988bfd3d-c282-4a9a-b60c-dcc942130b02"
      },
      "source": [
        "class Robot():\n",
        "    \n",
        "    def __init__(self, name):\n",
        "        print(name + \" has been created!\")\n",
        "        \n",
        "    def __del__(self):\n",
        "        print (self.name + \" says bye-bye!\")\n",
        "        \n",
        "        \n",
        "if __name__ == \"__main__\":\n",
        "    x = Robot(\"Tik-Tok\")\n",
        "    y = Robot(\"Jenkins\")\n",
        "    z = x\n",
        "    print(\"Deleting x\")\n",
        "    del x\n",
        "    print(\"Deleting z\")\n",
        "    del z\n",
        "    del y"
      ],
      "execution_count": null,
      "outputs": [
        {
          "output_type": "stream",
          "name": "stdout",
          "text": [
            "Tik-Tok has been created!\n",
            "Jenkins has been created!\n",
            "Deleting x\n",
            "Deleting z\n"
          ]
        },
        {
          "output_type": "stream",
          "name": "stderr",
          "text": [
            "Exception ignored in: <function Robot.__del__ at 0x7fbf2d0b2dd0>\n",
            "Traceback (most recent call last):\n",
            "  File \"<ipython-input-85-7dedd1b7f17b>\", line 7, in __del__\n",
            "AttributeError: 'Robot' object has no attribute 'name'\n",
            "Exception ignored in: <function Robot.__del__ at 0x7fbf2d0b2dd0>\n",
            "Traceback (most recent call last):\n",
            "  File \"<ipython-input-85-7dedd1b7f17b>\", line 7, in __del__\n",
            "AttributeError: 'Robot' object has no attribute 'name'\n"
          ]
        }
      ]
    },
    {
      "cell_type": "markdown",
      "metadata": {
        "id": "Cpz9D5hmmI0S"
      },
      "source": [
        "We are accessing an attribute which doesn't exist anymore. We will learn later, why this is the case.\n",
        "\n",
        "# Class, static attributes & methods\n",
        "\n",
        "#### Class attributes\n",
        "\n",
        "Instance attributes are owned by the specific instances of a class. That is, for two different instances, the instance attributes are usually different. You should by now be familiar with this concept which we introduced in our previous chapter.\n",
        "\n",
        "We can also define attributes at the class level. Class attributes are attributes which are owned by the class itself. They will be shared by all the instances of the class. Therefore they have the same value for every instance. We define class attributes outside all the methods, usually they are placed at the top, right below the class header.\n",
        "\n",
        "In the following interactive Python session, we can see that the class attribute \"a\" is the same for all instances, in our examples \"x\" and \"y\". Besides this, we see that we can access a class attribute via an instance or via the class name:"
      ]
    },
    {
      "cell_type": "code",
      "metadata": {
        "colab": {
          "base_uri": "https://localhost:8080/",
          "height": 37
        },
        "id": "Qeal0JK_l0kK",
        "outputId": "a7dfb069-d96d-4a31-adc6-dc10b8503df7"
      },
      "source": [
        "class A:\n",
        "    a = \"I am a class attribute!\"\n",
        "\n",
        "x = A()\n",
        "y = A()\n",
        "x.a"
      ],
      "execution_count": null,
      "outputs": [
        {
          "output_type": "execute_result",
          "data": {
            "application/vnd.google.colaboratory.intrinsic+json": {
              "type": "string"
            },
            "text/plain": [
              "'I am a class attribute!'"
            ]
          },
          "metadata": {},
          "execution_count": 86
        }
      ]
    },
    {
      "cell_type": "code",
      "metadata": {
        "id": "Od25fB1lX-P6"
      },
      "source": [
        "A.u = 'uu'"
      ],
      "execution_count": null,
      "outputs": []
    },
    {
      "cell_type": "code",
      "metadata": {
        "colab": {
          "base_uri": "https://localhost:8080/",
          "height": 37
        },
        "id": "I1dZ04wtpXzn",
        "outputId": "d00d342a-01f5-4e85-aa66-40f27008810b"
      },
      "source": [
        "y.a"
      ],
      "execution_count": null,
      "outputs": [
        {
          "output_type": "execute_result",
          "data": {
            "application/vnd.google.colaboratory.intrinsic+json": {
              "type": "string"
            },
            "text/plain": [
              "'I am a class attribute!'"
            ]
          },
          "metadata": {},
          "execution_count": 87
        }
      ]
    },
    {
      "cell_type": "code",
      "metadata": {
        "colab": {
          "base_uri": "https://localhost:8080/",
          "height": 37
        },
        "id": "PFEkU4slpaXx",
        "outputId": "42ddd580-ad6d-433f-f8fc-c05948bded97"
      },
      "source": [
        "A.a"
      ],
      "execution_count": null,
      "outputs": [
        {
          "output_type": "execute_result",
          "data": {
            "application/vnd.google.colaboratory.intrinsic+json": {
              "type": "string"
            },
            "text/plain": [
              "'I am a class attribute!'"
            ]
          },
          "metadata": {},
          "execution_count": 88
        }
      ]
    },
    {
      "cell_type": "markdown",
      "metadata": {
        "id": "kBFbkCT9pe7X"
      },
      "source": [
        "But be careful, if you want to change a class attribute, you have to do it with the notation ClassName.AttributeName. Otherwise, you will create a new instance variable. We demonstrate this in the following example:"
      ]
    },
    {
      "cell_type": "code",
      "metadata": {
        "id": "0q5MEyu2pbRd"
      },
      "source": [
        "class A:\n",
        "    a = \"I am a class attribute!\"\n",
        " \n",
        "x = A()\n",
        "y = A()\n",
        "x.a = \"This creates a new instance attribute for x!\""
      ],
      "execution_count": null,
      "outputs": []
    },
    {
      "cell_type": "code",
      "metadata": {
        "colab": {
          "base_uri": "https://localhost:8080/",
          "height": 37
        },
        "id": "x1Cayd1lph-3",
        "outputId": "20b52ecc-34d9-46dd-f616-5b149dd2467b"
      },
      "source": [
        "y.a"
      ],
      "execution_count": null,
      "outputs": [
        {
          "output_type": "execute_result",
          "data": {
            "application/vnd.google.colaboratory.intrinsic+json": {
              "type": "string"
            },
            "text/plain": [
              "'I am a class attribute!'"
            ]
          },
          "metadata": {},
          "execution_count": 90
        }
      ]
    },
    {
      "cell_type": "code",
      "metadata": {
        "colab": {
          "base_uri": "https://localhost:8080/",
          "height": 37
        },
        "id": "SH9HYiS6pkM4",
        "outputId": "f807d65c-2955-43a4-f59b-42168e528aed"
      },
      "source": [
        "A.a"
      ],
      "execution_count": null,
      "outputs": [
        {
          "output_type": "execute_result",
          "data": {
            "application/vnd.google.colaboratory.intrinsic+json": {
              "type": "string"
            },
            "text/plain": [
              "'I am a class attribute!'"
            ]
          },
          "metadata": {},
          "execution_count": 91
        }
      ]
    },
    {
      "cell_type": "code",
      "metadata": {
        "id": "tM-xYXz5pl6O"
      },
      "source": [
        "A.a = \"This is changing the class attribute 'a'!\""
      ],
      "execution_count": null,
      "outputs": []
    },
    {
      "cell_type": "code",
      "metadata": {
        "colab": {
          "base_uri": "https://localhost:8080/",
          "height": 37
        },
        "id": "xQMSLC2LpoLN",
        "outputId": "07149286-189b-4483-ac6c-5a9304bdda09"
      },
      "source": [
        "A.a"
      ],
      "execution_count": null,
      "outputs": [
        {
          "output_type": "execute_result",
          "data": {
            "application/vnd.google.colaboratory.intrinsic+json": {
              "type": "string"
            },
            "text/plain": [
              "\"This is changing the class attribute 'a'!\""
            ]
          },
          "metadata": {},
          "execution_count": 93
        }
      ]
    },
    {
      "cell_type": "code",
      "metadata": {
        "colab": {
          "base_uri": "https://localhost:8080/",
          "height": 37
        },
        "id": "8KsR9AHLpp_J",
        "outputId": "2957dd2a-cc5b-4839-c720-dcf40a04daab"
      },
      "source": [
        "y.a"
      ],
      "execution_count": null,
      "outputs": [
        {
          "output_type": "execute_result",
          "data": {
            "application/vnd.google.colaboratory.intrinsic+json": {
              "type": "string"
            },
            "text/plain": [
              "\"This is changing the class attribute 'a'!\""
            ]
          },
          "metadata": {},
          "execution_count": 94
        }
      ]
    },
    {
      "cell_type": "code",
      "metadata": {
        "colab": {
          "base_uri": "https://localhost:8080/",
          "height": 37
        },
        "id": "z71qJU8Dprmj",
        "outputId": "a68ae35a-675a-400f-cc1a-4eaa8965d36c"
      },
      "source": [
        "x.a\n",
        "# but x.a is still the previously created instance variable"
      ],
      "execution_count": null,
      "outputs": [
        {
          "output_type": "execute_result",
          "data": {
            "application/vnd.google.colaboratory.intrinsic+json": {
              "type": "string"
            },
            "text/plain": [
              "'This creates a new instance attribute for x!'"
            ]
          },
          "metadata": {},
          "execution_count": 95
        }
      ]
    },
    {
      "cell_type": "markdown",
      "metadata": {
        "id": "5puRrO7epxTf"
      },
      "source": [
        "Python's class attributes and object attributes are stored in separate dictionaries, as we can see here:"
      ]
    },
    {
      "cell_type": "code",
      "metadata": {
        "colab": {
          "base_uri": "https://localhost:8080/"
        },
        "id": "Snw-sM0Kptxo",
        "outputId": "5da741e0-775a-4c25-a10b-408b020f79b9"
      },
      "source": [
        "x.__dict__"
      ],
      "execution_count": null,
      "outputs": [
        {
          "output_type": "execute_result",
          "data": {
            "text/plain": [
              "{'a': 'This creates a new instance attribute for x!'}"
            ]
          },
          "metadata": {},
          "execution_count": 96
        }
      ]
    },
    {
      "cell_type": "code",
      "metadata": {
        "colab": {
          "base_uri": "https://localhost:8080/"
        },
        "id": "ZxQPZVlfpzTW",
        "outputId": "5032963b-23d8-45a1-832e-3816a1a95951"
      },
      "source": [
        "y.__dict__"
      ],
      "execution_count": null,
      "outputs": [
        {
          "output_type": "execute_result",
          "data": {
            "text/plain": [
              "{}"
            ]
          },
          "metadata": {},
          "execution_count": 97
        }
      ]
    },
    {
      "cell_type": "code",
      "metadata": {
        "colab": {
          "base_uri": "https://localhost:8080/"
        },
        "id": "JpTN2PQip1T_",
        "outputId": "4f01384c-bb30-4fe4-a192-8bf69874a67e"
      },
      "source": [
        "A.__dict__"
      ],
      "execution_count": null,
      "outputs": [
        {
          "output_type": "execute_result",
          "data": {
            "text/plain": [
              "mappingproxy({'__dict__': <attribute '__dict__' of 'A' objects>,\n",
              "              '__doc__': None,\n",
              "              '__module__': '__main__',\n",
              "              '__weakref__': <attribute '__weakref__' of 'A' objects>,\n",
              "              'a': \"This is changing the class attribute 'a'!\"})"
            ]
          },
          "metadata": {},
          "execution_count": 98
        }
      ]
    },
    {
      "cell_type": "code",
      "metadata": {
        "colab": {
          "base_uri": "https://localhost:8080/"
        },
        "id": "Kj-Kfiqtp3f5",
        "outputId": "5db83f2c-4fa6-4e4e-8705-a677f5f29704"
      },
      "source": [
        "x.__class__.__dict__"
      ],
      "execution_count": null,
      "outputs": [
        {
          "output_type": "execute_result",
          "data": {
            "text/plain": [
              "mappingproxy({'__dict__': <attribute '__dict__' of 'A' objects>,\n",
              "              '__doc__': None,\n",
              "              '__module__': '__main__',\n",
              "              '__weakref__': <attribute '__weakref__' of 'A' objects>,\n",
              "              'a': \"This is changing the class attribute 'a'!\"})"
            ]
          },
          "metadata": {},
          "execution_count": 99
        }
      ]
    },
    {
      "cell_type": "markdown",
      "metadata": {
        "id": "VzhMdVuPp9gw"
      },
      "source": [
        "#### Example with Class Attributes\n",
        "\n",
        "Isaac Asimov devised and introduced the so-called \"Three Laws of Robotics\" in 1942. The appeared in his story \"Runaround\". His three laws have been picked up by many science fiction writers. As we have started manufacturing robots in Python, it's high time to make sure that they obey Asimovs three laws. As they are the same for every instance, i.e. robot, we will create a class attribute Three_Laws. This attribute is a tuple with the three laws."
      ]
    },
    {
      "cell_type": "code",
      "metadata": {
        "id": "_sw491S7p6Eb"
      },
      "source": [
        "class Robot:\n",
        "\n",
        "    Three_Laws = (\n",
        "\"\"\"A robot may not injure a human being or, through inaction, allow a human being to come to harm.\"\"\",\n",
        "\"\"\"A robot must obey the orders given to it by human beings, except where such orders would conflict with the First Law.,\"\"\",\n",
        "\"\"\"A robot must protect its own existence as long as such protection does not conflict with the First or Second Law.\"\"\"\n",
        ")\n",
        "    def __init__(self, name, build_year):\n",
        "        self.name = name\n",
        "        self.build_year = build_year\n",
        "\n",
        "    # other methods as usual"
      ],
      "execution_count": null,
      "outputs": []
    },
    {
      "cell_type": "markdown",
      "metadata": {
        "id": "PYp5x7m8q6xx"
      },
      "source": [
        "As we mentioned before, we can access a class attribute via instance or via the class name. You can see in the following that we don't need an instance:"
      ]
    },
    {
      "cell_type": "code",
      "metadata": {
        "colab": {
          "base_uri": "https://localhost:8080/"
        },
        "id": "qkF2dR_4qEf9",
        "outputId": "4c2e971c-36d3-4c66-ec1a-5855761cc672"
      },
      "source": [
        "for number, text in enumerate(Robot.Three_Laws):\n",
        "    print(str(number+1) + \":\\n\" + text) "
      ],
      "execution_count": null,
      "outputs": [
        {
          "output_type": "stream",
          "name": "stdout",
          "text": [
            "1:\n",
            "A robot may not injure a human being or, through inaction, allow a human being to come to harm.\n",
            "2:\n",
            "A robot must obey the orders given to it by human beings, except where such orders would conflict with the First Law.,\n",
            "3:\n",
            "A robot must protect its own existence as long as such protection does not conflict with the First or Second Law.\n"
          ]
        }
      ]
    },
    {
      "cell_type": "markdown",
      "metadata": {
        "id": "6Z3lDoBRrJUr"
      },
      "source": [
        "In the following example, we demonstrate, how you can count instance with class attributes. All we have to do is\n",
        "\n",
        "* to create a class attribute, which we call \"counter\" in our example\n",
        "* to increment this attribute by 1 every time a new instance is created\n",
        "* to decrement the attribute by 1 every time an instance is destroyed"
      ]
    },
    {
      "cell_type": "code",
      "metadata": {
        "colab": {
          "base_uri": "https://localhost:8080/"
        },
        "id": "WQQ_QZ0fYwKL",
        "outputId": "b37dc2c8-6512-4fd3-d9bc-b18106267e56"
      },
      "source": [
        "type(x)"
      ],
      "execution_count": null,
      "outputs": [
        {
          "output_type": "execute_result",
          "data": {
            "text/plain": [
              "__main__.C"
            ]
          },
          "metadata": {},
          "execution_count": 20
        }
      ]
    },
    {
      "cell_type": "code",
      "metadata": {
        "colab": {
          "base_uri": "https://localhost:8080/"
        },
        "id": "0oz2pGNMq-P4",
        "outputId": "45520b14-e052-4607-da0f-32e05d08b81b"
      },
      "source": [
        "class C: \n",
        "\n",
        "    counter = 0\n",
        "    \n",
        "    def __init__(self): \n",
        "        C.counter += 1\n",
        "\n",
        "    def __del__(self):\n",
        "        type(self).counter -= 1\n",
        "\n",
        "if __name__ == \"__main__\":\n",
        "    x = C()\n",
        "    print(\"Number of instances: : \" + str(C.counter))\n",
        "    y = C()\n",
        "    print(\"Number of instances: : \" + str(C.counter))\n",
        "    del x\n",
        "    print(\"Number of instances: : \" + str(C.counter))\n",
        "    del y\n",
        "    print(\"Number of instances: : \" + str(C.counter))"
      ],
      "execution_count": null,
      "outputs": [
        {
          "output_type": "stream",
          "name": "stdout",
          "text": [
            "Number of instances: : 1\n",
            "Number of instances: : 2\n",
            "Number of instances: : 1\n",
            "Number of instances: : 0\n"
          ]
        }
      ]
    },
    {
      "cell_type": "markdown",
      "metadata": {
        "id": "xz4g2Ir-rccw"
      },
      "source": [
        "Principially, we could have written C.counter instead of type(self).counter, because type(self) will be evaluated to \"C\" anyway.\n",
        "\n",
        "#### Static Methods\n",
        "\n",
        "We used class attributes as public attributes in the previous section. Of course, we can make public attributes private as well. We can do this by adding the double underscore again. If we do so, we need a possibility to access and change these private class attributes. We could use instance methods for this purpose:"
      ]
    },
    {
      "cell_type": "code",
      "metadata": {
        "colab": {
          "base_uri": "https://localhost:8080/"
        },
        "id": "1LDK2KWcrUlM",
        "outputId": "35344fe6-f59e-4367-a7ba-6b5aa2e4da1d"
      },
      "source": [
        "class Robot:\n",
        "    __counter = 0\n",
        "    \n",
        "    def __init__(self):\n",
        "        type(self).__counter += 1\n",
        "        \n",
        "    def RobotInstances(self):\n",
        "        return Robot.__counter\n",
        "        \n",
        "\n",
        "if __name__ == \"__main__\":\n",
        "    x = Robot()\n",
        "    print(x.RobotInstances())\n",
        "    y = Robot()\n",
        "    print(x.RobotInstances())"
      ],
      "execution_count": null,
      "outputs": [
        {
          "output_type": "stream",
          "name": "stdout",
          "text": [
            "1\n",
            "2\n"
          ]
        }
      ]
    },
    {
      "cell_type": "markdown",
      "metadata": {
        "id": "7ZT_TQQRsKBA"
      },
      "source": [
        "This is not a good idea for two reasons: First of all, because the number of robots has nothing to do with a single robot instance and secondly because we can't inquire the number of robots before we create an instance. If we try to invoke the method with the class name Robot.RobotInstances(), we get an error message, because it needs an instance as an argument:"
      ]
    },
    {
      "cell_type": "code",
      "metadata": {
        "colab": {
          "base_uri": "https://localhost:8080/",
          "height": 164
        },
        "id": "aRiaMKLArtpx",
        "outputId": "419bf540-0a1f-438d-db67-7c46a3a580a4"
      },
      "source": [
        "Robot.RobotInstances()"
      ],
      "execution_count": null,
      "outputs": [
        {
          "output_type": "error",
          "ename": "TypeError",
          "evalue": "ignored",
          "traceback": [
            "\u001b[0;31m---------------------------------------------------------------------------\u001b[0m",
            "\u001b[0;31mTypeError\u001b[0m                                 Traceback (most recent call last)",
            "\u001b[0;32m<ipython-input-106-f53600e3296e>\u001b[0m in \u001b[0;36m<module>\u001b[0;34m()\u001b[0m\n\u001b[0;32m----> 1\u001b[0;31m \u001b[0mRobot\u001b[0m\u001b[0;34m.\u001b[0m\u001b[0mRobotInstances\u001b[0m\u001b[0;34m(\u001b[0m\u001b[0;34m)\u001b[0m\u001b[0;34m\u001b[0m\u001b[0;34m\u001b[0m\u001b[0m\n\u001b[0m",
            "\u001b[0;31mTypeError\u001b[0m: RobotInstances() missing 1 required positional argument: 'self'"
          ]
        }
      ]
    },
    {
      "cell_type": "markdown",
      "metadata": {
        "id": "UJ5r8h59sPve"
      },
      "source": [
        "The next idea, which still doesn't solve our problem, is omitting the parameter \"self\":"
      ]
    },
    {
      "cell_type": "code",
      "metadata": {
        "id": "K6b8gBIVsMP7"
      },
      "source": [
        "class Robot:\n",
        "    __counter = 0\n",
        "    \n",
        "    def __init__(self):\n",
        "        type(self).__counter += 1\n",
        "        \n",
        "    def RobotInstances():\n",
        "        return Robot.__counter"
      ],
      "execution_count": null,
      "outputs": []
    },
    {
      "cell_type": "markdown",
      "metadata": {
        "id": "wnCdPYZcsWeA"
      },
      "source": [
        "Now it's possible to access the method via the class name, but we can't call it via an instance:"
      ]
    },
    {
      "cell_type": "code",
      "metadata": {
        "colab": {
          "base_uri": "https://localhost:8080/"
        },
        "id": "BBg27O-esSUJ",
        "outputId": "18417b36-3e89-4f64-a7bc-4aeb935b2b7d"
      },
      "source": [
        "Robot.RobotInstances()"
      ],
      "execution_count": null,
      "outputs": [
        {
          "output_type": "execute_result",
          "data": {
            "text/plain": [
              "0"
            ]
          },
          "metadata": {},
          "execution_count": 108
        }
      ]
    },
    {
      "cell_type": "code",
      "metadata": {
        "colab": {
          "base_uri": "https://localhost:8080/",
          "height": 181
        },
        "id": "vqMjee9fsZTt",
        "outputId": "55acb2e5-367b-4394-e6a8-381e8fad4d70"
      },
      "source": [
        "x = Robot()\n",
        "x.RobotInstances()"
      ],
      "execution_count": null,
      "outputs": [
        {
          "output_type": "error",
          "ename": "TypeError",
          "evalue": "ignored",
          "traceback": [
            "\u001b[0;31m---------------------------------------------------------------------------\u001b[0m",
            "\u001b[0;31mTypeError\u001b[0m                                 Traceback (most recent call last)",
            "\u001b[0;32m<ipython-input-109-4d5e11c3474a>\u001b[0m in \u001b[0;36m<module>\u001b[0;34m()\u001b[0m\n\u001b[1;32m      1\u001b[0m \u001b[0mx\u001b[0m \u001b[0;34m=\u001b[0m \u001b[0mRobot\u001b[0m\u001b[0;34m(\u001b[0m\u001b[0;34m)\u001b[0m\u001b[0;34m\u001b[0m\u001b[0;34m\u001b[0m\u001b[0m\n\u001b[0;32m----> 2\u001b[0;31m \u001b[0mx\u001b[0m\u001b[0;34m.\u001b[0m\u001b[0mRobotInstances\u001b[0m\u001b[0;34m(\u001b[0m\u001b[0;34m)\u001b[0m\u001b[0;34m\u001b[0m\u001b[0;34m\u001b[0m\u001b[0m\n\u001b[0m",
            "\u001b[0;31mTypeError\u001b[0m: RobotInstances() takes 0 positional arguments but 1 was given"
          ]
        }
      ]
    },
    {
      "cell_type": "markdown",
      "metadata": {
        "id": "nlqlACrZsiV8"
      },
      "source": [
        "The call \"x.RobotInstances()\" is treated as an instance method call and an instance method needs a reference to the instance as the first parameter.\n",
        "\n",
        "So, what do we want? We want a method, which we can call via the class name or via the instance name without the necessity of passing a reference to an instance to it.\n",
        "\n",
        "The solution lies in static methods, which don't need a reference to an instance. It's easy to turn a method into a static method. All we have to do is to add a line with \"@staticmethod\" directly in front of the method header. It's the decorator syntax.\n",
        "\n",
        "You can see in the following example that we can now use our method RobotInstances the way we want:"
      ]
    },
    {
      "cell_type": "code",
      "metadata": {
        "colab": {
          "base_uri": "https://localhost:8080/"
        },
        "id": "lKak_Y-TsbGo",
        "outputId": "2eddbe6b-e1c7-4d85-d48a-03c503e24e09"
      },
      "source": [
        "class Robot:\n",
        "    __counter = 0\n",
        "    \n",
        "    def __init__(self):\n",
        "        type(self).__counter += 1\n",
        "        \n",
        "    @staticmethod\n",
        "    def RobotInstances():\n",
        "        return Robot.__counter\n",
        "        \n",
        "\n",
        "if __name__ == \"__main__\":\n",
        "    print(Robot.RobotInstances())\n",
        "    x = Robot()\n",
        "    print(x.RobotInstances())\n",
        "    y = Robot()\n",
        "    print(x.RobotInstances())\n",
        "    print(Robot.RobotInstances())"
      ],
      "execution_count": null,
      "outputs": [
        {
          "output_type": "stream",
          "name": "stdout",
          "text": [
            "0\n",
            "1\n",
            "2\n",
            "2\n"
          ]
        }
      ]
    },
    {
      "cell_type": "code",
      "metadata": {
        "colab": {
          "base_uri": "https://localhost:8080/"
        },
        "id": "iWUw2Xh6s6UJ",
        "outputId": "5d088eac-1972-4c61-aa20-cd661c98c0c9"
      },
      "source": [
        "x.__dict__"
      ],
      "execution_count": null,
      "outputs": [
        {
          "output_type": "execute_result",
          "data": {
            "text/plain": [
              "{}"
            ]
          },
          "metadata": {},
          "execution_count": 113
        }
      ]
    },
    {
      "cell_type": "code",
      "metadata": {
        "colab": {
          "base_uri": "https://localhost:8080/"
        },
        "id": "tcQnbN4GsyOc",
        "outputId": "25ad1add-6bbb-4259-819e-f4ec6976e16e"
      },
      "source": [
        "x.__class__.__dict__"
      ],
      "execution_count": null,
      "outputs": [
        {
          "output_type": "execute_result",
          "data": {
            "text/plain": [
              "mappingproxy({'RobotInstances': <staticmethod at 0x7fbf2d10b350>,\n",
              "              '_Robot__counter': 2,\n",
              "              '__dict__': <attribute '__dict__' of 'Robot' objects>,\n",
              "              '__doc__': None,\n",
              "              '__init__': <function __main__.Robot.__init__>,\n",
              "              '__module__': '__main__',\n",
              "              '__weakref__': <attribute '__weakref__' of 'Robot' objects>})"
            ]
          },
          "metadata": {},
          "execution_count": 112
        }
      ]
    },
    {
      "cell_type": "markdown",
      "metadata": {
        "id": "yyl8woYOtDVM"
      },
      "source": [
        "#### Class Methods\n",
        "\n",
        "Static methods shouldn't be confused with class methods. Like static methods class methods are not bound to instances, but unlike static methods class methods are bound to a class. The first parameter of a class method is a reference to a class, i.e. a class object. They can be called via an instance or the class name."
      ]
    },
    {
      "cell_type": "code",
      "metadata": {
        "colab": {
          "base_uri": "https://localhost:8080/"
        },
        "id": "HfHqjDD_szz4",
        "outputId": "8b9aab1a-c4c2-4835-8aac-ae8918e114b4"
      },
      "source": [
        "class Robot:\n",
        "    __counter = 0\n",
        "    \n",
        "    def __init__(self):\n",
        "        type(self).__counter += 1\n",
        "        \n",
        "    @classmethod\n",
        "    def RobotInstances(cls):\n",
        "        return cls, Robot.__counter\n",
        "        \n",
        "\n",
        "if __name__ == \"__main__\":\n",
        "    print(Robot.RobotInstances())\n",
        "    x = Robot()\n",
        "    print(x.RobotInstances())\n",
        "    y = Robot()\n",
        "    print(x.RobotInstances())\n",
        "    print(Robot.RobotInstances())"
      ],
      "execution_count": null,
      "outputs": [
        {
          "output_type": "stream",
          "name": "stdout",
          "text": [
            "(<class '__main__.Robot'>, 0)\n",
            "(<class '__main__.Robot'>, 1)\n",
            "(<class '__main__.Robot'>, 2)\n",
            "(<class '__main__.Robot'>, 2)\n"
          ]
        }
      ]
    },
    {
      "cell_type": "markdown",
      "metadata": {
        "id": "8yee-NmeueZo"
      },
      "source": [
        "The use cases of class methods:\n",
        "\n",
        "* They are used in the definition of the so-called factory methods, which we will not cover here (https://realpython.com/factory-method-python/)\n",
        "* They are often used, where we have static methods, which have to call other static methods. To do this, we would have to hard code the class name, if we had to use static methods. This is a problem, if we are in a use case, where we have inherited classes\n",
        "\n",
        "The following program contains a fraction class, which is still not complete. If you work with fractions, you need to be capable of reducing fractions, e.g. the fraction 8/24 can be reduced to 1/3. We can reduce a fraction to lowest terms by dividing both the numerator and denominator by the Greatest Common Divisor (GCD).\n",
        "\n",
        "We have defined a static gcd function to calculate the greatest common divisor of two numbers. the greatest common divisor (gcd) of two or more integers (at least one of which is not zero), is the largest positive integer that divides the numbers without a remainder. For example, the 'GCD of 8 and 24 is 8. The static method \"gcd\" is called by our class method \"reduce\" with \"cls.gcd(n1, n2)\". \"CLS\" is a reference to \"fraction\""
      ]
    },
    {
      "cell_type": "code",
      "metadata": {
        "id": "UT5GbdtRte4F"
      },
      "source": [
        "class base_thing:\n",
        "    @staticmethod\n",
        "    def gcd(a,b):\n",
        "        while b != 0:\n",
        "            a, b = b, a%b\n",
        "        return a\n",
        "\n",
        "class fraction(base_thing):\n",
        "\n",
        "    def __init__(self, n, d):\n",
        "        self.numerator, self.denominator = fraction.reduce(n, d)\n",
        "\n",
        "    @classmethod\n",
        "    def reduce(cls, n1, n2):\n",
        "        g = cls.gcd(n1, n2)\n",
        "        return (n1 // g, n2 // g)\n",
        "\n",
        "    def __str__(self):\n",
        "        return str(self.numerator)+'/'+str(self.denominator)"
      ],
      "execution_count": null,
      "outputs": []
    },
    {
      "cell_type": "code",
      "metadata": {
        "id": "Cz1IiMGavNvp"
      },
      "source": [
        "class base_thing:\n",
        "    @staticmethod\n",
        "    def gcd(a,b):\n",
        "        while b != 0:\n",
        "            a, b = b, a%b\n",
        "        return a\n",
        "\n",
        "class fraction(base_thing):\n",
        "\n",
        "    def __init__(self, n, d):\n",
        "        self.numerator, self.denominator = fraction.reduce(n, d)\n",
        "\n",
        "    @staticmethod\n",
        "    def reduce(n1, n2):\n",
        "        g = base_thing.gcd(n1, n2)  # HERE WE NEED HARDCODE!!!\n",
        "        return (n1 // g, n2 // g)\n",
        "\n",
        "    def __str__(self):\n",
        "        return str(self.numerator)+'/'+str(self.denominator)"
      ],
      "execution_count": null,
      "outputs": []
    },
    {
      "cell_type": "code",
      "metadata": {
        "colab": {
          "base_uri": "https://localhost:8080/"
        },
        "id": "00OvKXScwBYu",
        "outputId": "2f5e4fa0-c02c-4d58-bd72-f9b2a525174d"
      },
      "source": [
        "# Using this class:\n",
        "\n",
        "x = fraction(8,24)\n",
        "print(x)"
      ],
      "execution_count": null,
      "outputs": [
        {
          "output_type": "stream",
          "name": "stdout",
          "text": [
            "1/3\n"
          ]
        }
      ]
    },
    {
      "cell_type": "markdown",
      "metadata": {
        "id": "XQxV8tdYwk4E"
      },
      "source": [
        "#### Class Methods vs. Static Methods and Instance Methods\n",
        "\n",
        "Our last example will demonstrate the usefulness of class methods in inheritance. We define a class Pet with a method about. This method should give some general class information. The class Cat will be inherited both in the subclass Dog and Cat. The method about will be inherited as well. We will demonstrate that we will encounter problems, if we define the method about as a normal instance method or as a static method. We will start by defining about as an instance method:"
      ]
    },
    {
      "cell_type": "code",
      "metadata": {
        "colab": {
          "base_uri": "https://localhost:8080/"
        },
        "id": "67n0hMPcwiPx",
        "outputId": "9c9792d9-4810-4c15-be50-214322f85de8"
      },
      "source": [
        "class Pet:\n",
        "    _class_info = \"pet animals\"\n",
        "\n",
        "    def about(self):\n",
        "        print(\"This class is about \" + self._class_info + \"!\")   \n",
        "    \n",
        "\n",
        "class Dog(Pet):\n",
        "    _class_info = \"man's best friends\"\n",
        "\n",
        "class Cat(Pet):\n",
        "    _class_info = \"all kinds of cats\"\n",
        "\n",
        "p = Pet()\n",
        "p.about()\n",
        "d = Dog()\n",
        "d.about()\n",
        "c = Cat()\n",
        "c.about()"
      ],
      "execution_count": null,
      "outputs": [
        {
          "output_type": "stream",
          "name": "stdout",
          "text": [
            "This class is about pet animals!\n",
            "This class is about man's best friends!\n",
            "This class is about all kinds of cats!\n"
          ]
        }
      ]
    },
    {
      "cell_type": "markdown",
      "metadata": {
        "id": "1y4jFSS7w224"
      },
      "source": [
        "This may look alright at first at first glance. On second thought we recognize the awful design. We had to create instances of the Pet, Dog and Cat classes to be able to ask what the class is about. It would be a lot better, if we could just write Pet.about(), Dog.about() and Cat.about() to get the previous result. We cannot do this. We will have to write Pet.about(p), Dog.about(d) and Cat.about(c) instead.\n",
        "\n",
        "Now, we will define the method about as a \"staticmethod\" to show the disadvantage of this approach. As we have learned previously in our tutorial, a staticmethod does not have a first parameter with a reference to an object. So about will have no parameters at all. Due to this, we are now capable of calling \"about\" without the necessity of passing an instance as a parameter, i.e. Pet.about(), Dog.about() and Cat.about(). Yet, a problem lurks in the definition of about. The only way to access the class info _class_info is putting a class name in front. We arbitrarily put in Pet. We could have put there Cat or Dog as well. No matter what we do, the solution will not be what we want:"
      ]
    },
    {
      "cell_type": "code",
      "metadata": {
        "colab": {
          "base_uri": "https://localhost:8080/"
        },
        "id": "9FeFHg4dwwtr",
        "outputId": "b27cc522-d4d7-4f8e-f5ad-247a692c6fad"
      },
      "source": [
        "class Pet:\n",
        "    _class_info = \"pet animals\"\n",
        "\n",
        "    @staticmethod\n",
        "    def about():\n",
        "        print(\"This class is about \" + Pet._class_info + \"!\")   \n",
        "    \n",
        "\n",
        "class Dog(Pet):\n",
        "    _class_info = \"man's best friends\"\n",
        "\n",
        "class Cat(Pet):\n",
        "    _class_info = \"all kinds of cats\"\n",
        "\n",
        "Pet.about()\n",
        "Dog.about()\n",
        "Cat.about()"
      ],
      "execution_count": null,
      "outputs": [
        {
          "output_type": "stream",
          "name": "stdout",
          "text": [
            "This class is about pet animals!\n",
            "This class is about pet animals!\n",
            "This class is about pet animals!\n"
          ]
        }
      ]
    },
    {
      "cell_type": "markdown",
      "metadata": {
        "id": "zHrVBa4ayzTd"
      },
      "source": [
        "In other words, we have no way of differenciating between the class Pet and its subclasses Dog and Cat. The problem is that the method about does not know that it has been called via the Pet the Dog or the Cat class.\n",
        "\n",
        "A classmethod is the solution to all our problems. We will decorate about with a classmethod decorator instead of a staticmethod decorator:"
      ]
    },
    {
      "cell_type": "code",
      "metadata": {
        "colab": {
          "base_uri": "https://localhost:8080/"
        },
        "id": "-kfMjhP4ysuX",
        "outputId": "970c6a74-b050-49a4-d15e-5366c4c3ba65"
      },
      "source": [
        "class Pet:\n",
        "    _class_info = \"pet animals\"\n",
        "\n",
        "    @classmethod\n",
        "    def about(cls):\n",
        "        print(\"This class is about \" + cls._class_info + \"!\")   \n",
        "    \n",
        "\n",
        "class Dog(Pet):\n",
        "    _class_info = \"man's best friends\"\n",
        "\n",
        "class Cat(Pet):\n",
        "    _class_info = \"all kinds of cats\"\n",
        "\n",
        "Pet.about()\n",
        "Dog.about()\n",
        "Cat.about()"
      ],
      "execution_count": null,
      "outputs": [
        {
          "output_type": "stream",
          "name": "stdout",
          "text": [
            "This class is about pet animals!\n",
            "This class is about man's best friends!\n",
            "This class is about all kinds of cats!\n"
          ]
        }
      ]
    },
    {
      "cell_type": "markdown",
      "metadata": {
        "id": "ZzzvRwkgzA-e"
      },
      "source": [
        "# Class decorators\n",
        "\n",
        "So far we used functions as decorators. Before we can define a decorator as a class, we have to introduce the \\_\\_call__ method of classes. We mentioned already that a decorator is simply a callable object that takes a function as an input parameter. A function is a callable object, but lots of Python programmers don't know that there are other callable objects. A callable object is an object which can be used and behaves like a function but might not be a function. It is possible to define classes in a way that the instances will be callable objects. The \\_\\_call__ method is called, if the instance is called \"like a function\", i.e. using brackets."
      ]
    },
    {
      "cell_type": "code",
      "metadata": {
        "colab": {
          "base_uri": "https://localhost:8080/"
        },
        "id": "3KyqZhETy7U1",
        "outputId": "0b1e09a9-5131-4c4c-8165-ff78454b1d96"
      },
      "source": [
        "class A:\n",
        "    def __init__(self):\n",
        "        print(\"An instance of A was initialized\")\n",
        "    \n",
        "    def __call__(self, *args, **kwargs):\n",
        "        print(\"Arguments are:\", args, kwargs)\n",
        "              \n",
        "x = A()\n",
        "print(\"now calling the instance:\")\n",
        "x(3, 4, x=11, y=10)\n",
        "print(\"Let's call it again:\")\n",
        "x(3, 4, x=11, y=10)"
      ],
      "execution_count": null,
      "outputs": [
        {
          "output_type": "stream",
          "name": "stdout",
          "text": [
            "An instance of A was initialized\n",
            "now calling the instance:\n",
            "Arguments are: (3, 4) {'x': 11, 'y': 10}\n",
            "Let's call it again:\n",
            "Arguments are: (3, 4) {'x': 11, 'y': 10}\n"
          ]
        }
      ]
    },
    {
      "cell_type": "markdown",
      "metadata": {
        "id": "8CGw6Q64zWsK"
      },
      "source": [
        "We can write a class for the fibonacci function by using the \\_\\_call__ method:"
      ]
    },
    {
      "cell_type": "code",
      "metadata": {
        "colab": {
          "base_uri": "https://localhost:8080/"
        },
        "id": "snjivN8OzTi3",
        "outputId": "77ab971a-4711-40c7-b767-aade17b57b27"
      },
      "source": [
        "class Fibonacci:\n",
        "\n",
        "    def __init__(self):\n",
        "        self.cache = {}\n",
        "\n",
        "    def __call__(self, n):\n",
        "        if n not in self.cache:\n",
        "            if n == 0:\n",
        "                self.cache[0] = 0\n",
        "            elif n == 1:\n",
        "                self.cache[1] = 1\n",
        "            else:\n",
        "                self.cache[n] = self.__call__(n-1) + self.__call__(n-2)\n",
        "        return self.cache[n]\n",
        "\n",
        "fib = Fibonacci()\n",
        "\n",
        "for i in range(15):\n",
        "    print(fib(i), end=\", \")"
      ],
      "execution_count": null,
      "outputs": [
        {
          "output_type": "stream",
          "name": "stdout",
          "text": [
            "0, 1, 1, 2, 3, 5, 8, 13, 21, 34, 55, 89, 144, 233, 377, "
          ]
        }
      ]
    },
    {
      "cell_type": "markdown",
      "metadata": {
        "id": "HkxSwFLTzgUY"
      },
      "source": [
        "#### Using a Class as a Decorator\n",
        "\n",
        "We will rewrite the following decorator as a class:"
      ]
    },
    {
      "cell_type": "code",
      "metadata": {
        "colab": {
          "base_uri": "https://localhost:8080/"
        },
        "id": "Rg5VbHLDzbSU",
        "outputId": "309118a5-7d5b-4fe1-cd5c-fc4ebf9f79e5"
      },
      "source": [
        "def decorator1(f):\n",
        "    def helper():\n",
        "        print(\"Decorating\", f.__name__)\n",
        "        f()\n",
        "    return helper\n",
        "\n",
        "@decorator1\n",
        "def foo():\n",
        "    print(\"inside foo()\")\n",
        "\n",
        "foo()"
      ],
      "execution_count": null,
      "outputs": [
        {
          "output_type": "stream",
          "name": "stdout",
          "text": [
            "Decorating foo\n",
            "inside foo()\n"
          ]
        }
      ]
    },
    {
      "cell_type": "markdown",
      "metadata": {
        "id": "8E8v3BIpztKo"
      },
      "source": [
        "The following decorator implemented as a class does the same \"job\":"
      ]
    },
    {
      "cell_type": "code",
      "metadata": {
        "colab": {
          "base_uri": "https://localhost:8080/"
        },
        "id": "5DYxQP-SznN_",
        "outputId": "4b2793bd-b1c2-48d2-956d-e5af0e03dc27"
      },
      "source": [
        "class decorator2:\n",
        "    \n",
        "    def __init__(self, f):\n",
        "        self.f = f\n",
        "        \n",
        "    def __call__(self):\n",
        "        print(\"Decorating\", self.f.__name__)\n",
        "        self.f()\n",
        "\n",
        "@decorator2\n",
        "def foo():\n",
        "    print(\"inside foo()\")\n",
        "\n",
        "foo()   "
      ],
      "execution_count": null,
      "outputs": [
        {
          "output_type": "stream",
          "name": "stdout",
          "text": [
            "Decorating foo\n",
            "inside foo()\n"
          ]
        }
      ]
    },
    {
      "cell_type": "markdown",
      "metadata": {
        "id": "8hwfPQ1Cz7-m"
      },
      "source": [
        "# Properties vs. Getters and Setters\n",
        "\n",
        "#### Properties\n",
        "\n",
        "Getters(also known as 'accessors') and setters (aka. 'mutators') are used in many object oriented programming languages to ensure the principle of data encapsulation. Data encapsulation - as we have learnt in our introduction on Object Oriented Programming of our tutorial - is seen as the bundling of data with the methods that operate on them. These methods are of course the getter for retrieving the data and the setter for changing the data. According to this principle, the attributes of a class are made private to hide and protect them.\n",
        "\n",
        "Unfortunately, it is widespread belief that a proper Python class should encapsulate private attributes by using getters and setters. As soon as one of these programmers introduces a new attribute, he or she will make it a private variable and creates \"automatically\" a getter and a setter for this attribute. Such programmers may even use an editor or an IDE, which automatically creates getters and setters for all private attributes. These tools even warn the programmer if she or he uses a public attribute! Java programmers will wrinkle their brows, screw up their noses, or even scream with horror when they read the following: The Pythonic way to introduce attributes is to make them public.\n",
        "\n",
        "We will explain this later. First, we demonstrate in the following example, how we can design a class in a Javaesque way with getters and setters to encapsulate the private attribute self.__x:"
      ]
    },
    {
      "cell_type": "code",
      "metadata": {
        "id": "DDu7kHNdzwId"
      },
      "source": [
        "class P:\n",
        "\n",
        "    def __init__(self, x):\n",
        "        self.__x = x\n",
        "\n",
        "    def get_x(self):\n",
        "        return self.__x\n",
        "\n",
        "    def set_x(self, x):\n",
        "        self.__x = x"
      ],
      "execution_count": null,
      "outputs": []
    },
    {
      "cell_type": "code",
      "metadata": {
        "colab": {
          "base_uri": "https://localhost:8080/"
        },
        "id": "gCS71Qyo0bOt",
        "outputId": "b3d2f404-c657-40fa-b298-c49e7d5146b7"
      },
      "source": [
        "# We can see in the following demo session how to work with this class and the methods:\n",
        "\n",
        "p1 = P(42)\n",
        "p2 = P(4711)\n",
        "p1.get_x()"
      ],
      "execution_count": null,
      "outputs": [
        {
          "output_type": "execute_result",
          "data": {
            "text/plain": [
              "42"
            ]
          },
          "metadata": {},
          "execution_count": 133
        }
      ]
    },
    {
      "cell_type": "code",
      "metadata": {
        "colab": {
          "base_uri": "https://localhost:8080/"
        },
        "id": "uyJrdwj50nyc",
        "outputId": "dcc16190-ba91-4236-ec02-46ee8c8e8e3c"
      },
      "source": [
        "p1.set_x(47)\n",
        "p1.set_x(p1.get_x()+p2.get_x())\n",
        "p1.get_x()"
      ],
      "execution_count": null,
      "outputs": [
        {
          "output_type": "execute_result",
          "data": {
            "text/plain": [
              "4758"
            ]
          },
          "metadata": {},
          "execution_count": 134
        }
      ]
    },
    {
      "cell_type": "markdown",
      "metadata": {
        "id": "Y3bfWs7b0vWx"
      },
      "source": [
        "What do you think about the expression \"p1.set_x(p1.get_x()+p2.get_x())\"? It's ugly, isn't it? It's a lot easier to write an expression like the following, if we had a public attribute x:\n",
        "\n",
        "`p1.x = p1.x + p2.x`\n",
        "\n",
        "Such an assignment is easier to write and above all easier to read than the Javaesque expression\n",
        "\n",
        "Let's rewrite the class P in a Pythonic way. No getter, no setter and instead of the private attribute self.__x we use a public one:"
      ]
    },
    {
      "cell_type": "code",
      "metadata": {
        "id": "kfihgYuk0rAT"
      },
      "source": [
        "class P:\n",
        "\n",
        "    def __init__(self,x):\n",
        "        self.x = x"
      ],
      "execution_count": null,
      "outputs": []
    },
    {
      "cell_type": "markdown",
      "metadata": {
        "id": "yzZ34BX71Geb"
      },
      "source": [
        "Beautiful, isn't it? Just three lines of code, if we don't count the blank line!"
      ]
    },
    {
      "cell_type": "code",
      "metadata": {
        "colab": {
          "base_uri": "https://localhost:8080/"
        },
        "id": "eMrI15Ws1Dlh",
        "outputId": "6ffe4a8f-631e-4b7e-aeb8-9602b5f230a5"
      },
      "source": [
        "p1 = P(42)\n",
        "p2 = P(4711)\n",
        "p1.x"
      ],
      "execution_count": null,
      "outputs": [
        {
          "output_type": "execute_result",
          "data": {
            "text/plain": [
              "42"
            ]
          },
          "metadata": {},
          "execution_count": 136
        }
      ]
    },
    {
      "cell_type": "code",
      "metadata": {
        "colab": {
          "base_uri": "https://localhost:8080/"
        },
        "id": "0gYG5YMT1JKR",
        "outputId": "74fc9c6e-ca80-4f34-e0f0-27abee4f8c7a"
      },
      "source": [
        "p1.x = 47\n",
        "p1.x = p1.x + p2.x\n",
        "p1.x"
      ],
      "execution_count": null,
      "outputs": [
        {
          "output_type": "execute_result",
          "data": {
            "text/plain": [
              "4758"
            ]
          },
          "metadata": {},
          "execution_count": 137
        }
      ]
    },
    {
      "cell_type": "markdown",
      "metadata": {
        "id": "8W9-BTp11Pxd"
      },
      "source": [
        "\"But, but, but, but, but ... \", we can hear them howling and screaming, \"But there is NO data ENCAPSULATION!\" Yes, in this case there is no data encapsulation. We don't need it in this case. The only thing get_x and set_x in our starting example did was \"getting the data through\" without doing anything additionally.\n",
        "\n",
        "But what happens if we want to change the implementation in the future? This is a serious argument. Let's assume we want to change the implementation like this: The attribute x can have values between 0 and 1000. If a value larger than 1000 is assigned, x should be set to 1000. Correspondingly, x should be set to 0, if the value is less than 0.\n",
        "\n",
        "It is easy to change our first P class to cover this problem. We change the set_x method accordingly:"
      ]
    },
    {
      "cell_type": "code",
      "metadata": {
        "id": "Hz6I1Xtp1LXT"
      },
      "source": [
        "class P:\n",
        "\n",
        "    def __init__(self, x):\n",
        "        self.set_x(x)\n",
        "\n",
        "    def get_x(self):\n",
        "        return self.__x\n",
        "\n",
        "    def set_x(self, x):\n",
        "        if x < 0:\n",
        "            self.__x = 0\n",
        "        elif x > 1000:\n",
        "            self.__x = 1000\n",
        "        else:\n",
        "            self.__x = x"
      ],
      "execution_count": null,
      "outputs": []
    },
    {
      "cell_type": "code",
      "metadata": {
        "colab": {
          "base_uri": "https://localhost:8080/"
        },
        "id": "1pfJMQrq1Zxq",
        "outputId": "89e1a465-1f49-441a-d881-da94fe59eaea"
      },
      "source": [
        "# The following Python session shows that it works the way we want it to work:\n",
        "\n",
        "p1 = P(1001)\n",
        "p1.get_x()"
      ],
      "execution_count": null,
      "outputs": [
        {
          "output_type": "execute_result",
          "data": {
            "text/plain": [
              "1000"
            ]
          },
          "metadata": {},
          "execution_count": 139
        }
      ]
    },
    {
      "cell_type": "code",
      "metadata": {
        "colab": {
          "base_uri": "https://localhost:8080/"
        },
        "id": "CRXuI8AV1fD8",
        "outputId": "98764423-0176-4e1c-cc5d-e1f7efd717ce"
      },
      "source": [
        "p2 = P(15)\n",
        "p2.get_x()"
      ],
      "execution_count": null,
      "outputs": [
        {
          "output_type": "execute_result",
          "data": {
            "text/plain": [
              "15"
            ]
          },
          "metadata": {},
          "execution_count": 140
        }
      ]
    },
    {
      "cell_type": "code",
      "metadata": {
        "colab": {
          "base_uri": "https://localhost:8080/"
        },
        "id": "a63A8GOc1hPg",
        "outputId": "4d9bc9f1-c8f1-4a32-fa9f-313c720f7de9"
      },
      "source": [
        "p3 = P(-1)\n",
        "p3.get_x()"
      ],
      "execution_count": null,
      "outputs": [
        {
          "output_type": "execute_result",
          "data": {
            "text/plain": [
              "0"
            ]
          },
          "metadata": {},
          "execution_count": 141
        }
      ]
    },
    {
      "cell_type": "markdown",
      "metadata": {
        "id": "dxjkE7691mFB"
      },
      "source": [
        "But there is a catch: Let's assume we designed our class with the public attribute and no methods:"
      ]
    },
    {
      "cell_type": "code",
      "metadata": {
        "id": "pf_bViHJ1jT0"
      },
      "source": [
        "class P2:\n",
        "\n",
        "    def __init__(self, x):\n",
        "        self.x = x"
      ],
      "execution_count": null,
      "outputs": []
    },
    {
      "cell_type": "markdown",
      "metadata": {
        "id": "B-2gCnCZ1tuy"
      },
      "source": [
        "People have already used it a lot and they have written code like this:"
      ]
    },
    {
      "cell_type": "code",
      "metadata": {
        "colab": {
          "base_uri": "https://localhost:8080/"
        },
        "id": "DKdNfsiU1pZd",
        "outputId": "e155c28e-7441-4957-e0aa-c68c9df67619"
      },
      "source": [
        "p1 = P2(42)\n",
        "p1.x = 1001\n",
        "p1.x"
      ],
      "execution_count": null,
      "outputs": [
        {
          "output_type": "execute_result",
          "data": {
            "text/plain": [
              "1001"
            ]
          },
          "metadata": {},
          "execution_count": 143
        }
      ]
    },
    {
      "cell_type": "markdown",
      "metadata": {
        "id": "XAuKY6bS114o"
      },
      "source": [
        "If we would change P2 now in the way of the class P, our new class would break the interface, because the attribute x will not beavailable anymore. That's why in Java e.g. people are recommended to use only private attributes with getters and setters, so that they can change the implementation without having to change the interface.\n",
        "\n",
        "But Python offers a solution to this problem. The solution is called properties!\n",
        "\n",
        "The class with a property looks like this:"
      ]
    },
    {
      "cell_type": "code",
      "metadata": {
        "id": "QFwH96SR1wrX"
      },
      "source": [
        "class P:\n",
        "\n",
        "    def __init__(self, x):\n",
        "        self.x = x\n",
        "\n",
        "    @property\n",
        "    def x(self):\n",
        "        return self.__x\n",
        "\n",
        "    @x.setter\n",
        "    def x(self, x):\n",
        "        if x < 0:\n",
        "            self.__x = 0\n",
        "        elif x > 1000:\n",
        "            self.__x = 1000\n",
        "        else:\n",
        "            self.__x = x"
      ],
      "execution_count": null,
      "outputs": []
    },
    {
      "cell_type": "code",
      "metadata": {
        "id": "ZQu-HusPdFb7"
      },
      "source": [
        "p = P()\n",
        "p.x"
      ],
      "execution_count": null,
      "outputs": []
    },
    {
      "cell_type": "markdown",
      "metadata": {
        "id": "YbdeAWGD2G2s"
      },
      "source": [
        "A method which is used for getting a value is decorated with \"@property\", i.e. we put this line directly in front of the header. The method which has to function as the setter is decorated with \"@x.setter\". If the function had been called \"f\", we would have to decorate it with \"@f.setter\". Two things are noteworthy: We just put the code line \"self.x = x\" in the \\_\\_init__ method and the property method x is used to check the limits of the values. The second interesting thing is that we wrote \"two\" methods with the same name and a different number of parameters \"def x(self)\" and \"def x(self,x)\". We have learned in a previous chapter of our course that this is not possible. It works here due to the decorating:"
      ]
    },
    {
      "cell_type": "code",
      "metadata": {
        "colab": {
          "base_uri": "https://localhost:8080/"
        },
        "id": "beQCTQW71857",
        "outputId": "441d54be-aff3-4412-d91d-c35c58c9f5e4"
      },
      "source": [
        "p1 = P(1001)\n",
        "p1.x"
      ],
      "execution_count": null,
      "outputs": [
        {
          "output_type": "execute_result",
          "data": {
            "text/plain": [
              "1000"
            ]
          },
          "metadata": {},
          "execution_count": 145
        }
      ]
    },
    {
      "cell_type": "code",
      "metadata": {
        "colab": {
          "base_uri": "https://localhost:8080/"
        },
        "id": "ZlkMI7Mf2huS",
        "outputId": "29321519-eeee-4c39-c501-5a1332b14cad"
      },
      "source": [
        "p1.x = -12\n",
        "p1.x"
      ],
      "execution_count": null,
      "outputs": [
        {
          "output_type": "execute_result",
          "data": {
            "text/plain": [
              "0"
            ]
          },
          "metadata": {},
          "execution_count": 146
        }
      ]
    },
    {
      "cell_type": "markdown",
      "metadata": {
        "id": "HMiq12HH2u-X"
      },
      "source": [
        "Alternatively, we could have used a different syntax without decorators to define the property. As you can see, the code is definitely less elegant and we have to make sure that we use the setter function in the \\_\\_init__ method again:"
      ]
    },
    {
      "cell_type": "code",
      "metadata": {
        "id": "U7m2Nlym2kg0"
      },
      "source": [
        "class P:\n",
        "\n",
        "    def __init__(self, x):\n",
        "        self.set_x(x)\n",
        "\n",
        "    def get_x(self):\n",
        "        return self.__x\n",
        "\n",
        "    def set_x(self, x):\n",
        "        if x < 0:\n",
        "            self.__x = 0\n",
        "        elif x > 1000:\n",
        "            self.__x = 1000\n",
        "        else:\n",
        "            self.__x = x\n",
        "\n",
        "    x = property(get_x, set_x)\n"
      ],
      "execution_count": null,
      "outputs": []
    },
    {
      "cell_type": "markdown",
      "metadata": {
        "id": "gX4AIhWX3jdh"
      },
      "source": [
        "There is still another problem in the most recent version. We have now two ways to access or change the value of x: Either by using \"p1.x = 42\" or by \"p1.set_x(42)\". This way we are violating one of the fundamentals of Python: \"There should be one-- and preferably only one --obvious way to do it.\" (Zen of Python: https://www.python-course.eu/python3_history_and_philosophy.php)\n",
        "\n",
        "We can easily fix this problem by turning the getter and the setter methods into private methods, which can't be accessed anymore by the users of our class P:"
      ]
    },
    {
      "cell_type": "code",
      "metadata": {
        "id": "YziIVS8c20Mx"
      },
      "source": [
        "class P:\n",
        "\n",
        "    def __init__(self, x):\n",
        "        self.__set_x(x)\n",
        "\n",
        "    def __get_x(self):\n",
        "        return self.__x\n",
        "\n",
        "    def __set_x(self, x):\n",
        "        if x < 0:\n",
        "            self.__x = 0\n",
        "        elif x > 1000:\n",
        "            self.__x = 1000\n",
        "        else:\n",
        "            self.__x = x\n",
        "\n",
        "    x = property(__get_x, __set_x)"
      ],
      "execution_count": null,
      "outputs": []
    },
    {
      "cell_type": "markdown",
      "metadata": {
        "id": "GRs-s6EU3-4o"
      },
      "source": [
        "Even though we fixed this problem by using a private getter and setter, the version with the decorator \"@property\" is the Pythonic way to do it!\n",
        "\n",
        "From what we have written so far, and what can be seen in other books and tutorials as well, we could easily get the impression that there is a one-to-one connection between properties (or mutator methods) and the attributes, i.e. that each attribute has or should have its own property (or getter-setter-pair) and the other way around. Even in other object oriented languages than Python, it's usually not a good idea to implement a class like that. The main reason is that many attributes are only internally needed and creating interfaces for the user of the class increases unnecessarily the usability of the class. The possible user of a class shouldn't be \"drowned\" with umpteen - of mainly unnecessary - methods or properties!\n",
        "\n",
        "The following example shows a class, which has internal attributes, which can't be accessed from outside. These are the private attributes self.\\_\\_potential \\_physical and self.\\_\\_potential_psychic. Furthermore we show that a property can be deduced from the values of more than one attribute. The property \"condition\" of our example returns the condition of the robot in a descriptive string. The condition depends on the sum of the values of the psychic and the physical conditions of the robot."
      ]
    },
    {
      "cell_type": "code",
      "metadata": {
        "colab": {
          "base_uri": "https://localhost:8080/"
        },
        "id": "ZhAhCrAC4IdW",
        "outputId": "44325669-3c93-49b3-a4d5-52ef914f4d7d"
      },
      "source": [
        "class Robot:\n",
        "\n",
        "    def __init__(self, name, build_year, lk = 0.5, lp = 0.5 ):\n",
        "        self.name = name\n",
        "        self.build_year = build_year\n",
        "        self.__potential_physical = lk\n",
        "        self.__potential_psychic = lp\n",
        "\n",
        "    @property\n",
        "    def condition(self):\n",
        "        s = self.__potential_physical + self.__potential_psychic\n",
        "        if s <= -1:\n",
        "           return \"I feel miserable!\"\n",
        "        elif s <= 0:\n",
        "           return \"I feel bad!\"\n",
        "        elif s <= 0.5:\n",
        "           return \"Could be worse!\"\n",
        "        elif s <= 1:\n",
        "           return \"Seems to be okay!\"\n",
        "        else:\n",
        "           return \"Great!\" \n",
        "  \n",
        "if __name__ == \"__main__\":\n",
        "    x = Robot(\"Marvin\", 1979, 0.2, 0.4 )\n",
        "    y = Robot(\"Caliban\", 1993, -0.4, 0.3)\n",
        "    print(x.condition)\n",
        "    print(y.condition)"
      ],
      "execution_count": null,
      "outputs": [
        {
          "output_type": "stream",
          "name": "stdout",
          "text": [
            "Seems to be okay!\n",
            "I feel bad!\n"
          ]
        }
      ]
    },
    {
      "cell_type": "markdown",
      "metadata": {
        "id": "XuyBiKKN5B4V"
      },
      "source": [
        "#### Public instead of Private Attributes\n",
        "\n",
        "Let's summarize the usage of private and public attributes, getters and setters, and properties: Let's assume that we are designing a new class and we pondering about an instance or class attribute \"OurAtt\", which we need for the design of our class. We have to observe the following issues:\n",
        "\n",
        "* Will the value of \"OurAtt\" be needed by the possible users of our class?\n",
        "* If not, we can or should make it a private attribute.\n",
        "* If it has to be accessed, we make it accessible as a public attribute\n",
        "* We will define it as a private attribute with the corresponding property, if and only if we have to do some checks or transformation of the data. (As an example, you can have a look again at our class P, where the attribute has to be in the interval between 0 and 1000, which is ensured by the property \"x\")\n",
        "* Alternatively, you could use a getter and a setter, but using a property is the Pythonic way to deal with it!\n",
        "\n",
        "Let's assume we defined \"OurAtt\" as a public attribute. Our class has been successfully used by other users for quite a while"
      ]
    },
    {
      "cell_type": "code",
      "metadata": {
        "colab": {
          "base_uri": "https://localhost:8080/"
        },
        "id": "mFnn4SFs37Pr",
        "outputId": "7720365b-8c79-4be6-8692-4b19facbb10f"
      },
      "source": [
        "class OurClass:\n",
        "\n",
        "    def __init__(self, a):\n",
        "        self.OurAtt = a\n",
        "\n",
        "\n",
        "x = OurClass(10)\n",
        "print(x.OurAtt)"
      ],
      "execution_count": null,
      "outputs": [
        {
          "output_type": "stream",
          "name": "stdout",
          "text": [
            "10\n"
          ]
        }
      ]
    },
    {
      "cell_type": "markdown",
      "metadata": {
        "id": "gA2-flli6rgb"
      },
      "source": [
        "Now comes the point which frightens some traditional OOPistas out of their wits: Imagine \"OurAtt\" has been used as an integer. Now, our class has to ensure that \"OurAtt\" has to be a value between 0 and 1000? Without property, this is really a horrible scenario! Due to properties it's easy: We create a property version of \"OurAtt\"."
      ]
    },
    {
      "cell_type": "code",
      "metadata": {
        "colab": {
          "base_uri": "https://localhost:8080/"
        },
        "id": "9xzC4ISj6ol0",
        "outputId": "b6248a8f-ce6d-4d1a-9b46-3e98f657ec35"
      },
      "source": [
        "class OurClass:\n",
        "\n",
        "    def __init__(self, a):\n",
        "        self.OurAtt = a\n",
        "\n",
        "    @property\n",
        "    def OurAtt(self):\n",
        "        return self.__OurAtt\n",
        "\n",
        "    @OurAtt.setter\n",
        "    def OurAtt(self, val):\n",
        "        if val < 0:\n",
        "            self.__OurAtt = 0\n",
        "        elif val > 1000:\n",
        "            self.__OurAtt = 1000\n",
        "        else:\n",
        "            self.__OurAtt = val\n",
        "\n",
        "\n",
        "x = OurClass(10)\n",
        "print(x.OurAtt)"
      ],
      "execution_count": null,
      "outputs": [
        {
          "output_type": "stream",
          "name": "stdout",
          "text": [
            "10\n"
          ]
        }
      ]
    },
    {
      "cell_type": "markdown",
      "metadata": {
        "id": "RtsbpMjr69Bq"
      },
      "source": [
        "This is great, isn't it? You can start with the simplest implementation imaginable, and you are free to later migrate to a property version without having to change the interface! So properties are not just a replacement for getters and setters!\n",
        "\n",
        "Something else you might have already noticed: For the users of a class, properties are syntactically identical to ordinary attributes"
      ]
    },
    {
      "cell_type": "code",
      "metadata": {
        "id": "bDWOQma1658I"
      },
      "source": [
        ""
      ],
      "execution_count": null,
      "outputs": []
    }
  ]
}