{
  "nbformat": 4,
  "nbformat_minor": 0,
  "metadata": {
    "colab": {
      "name": "Lecture 11. metaclasses_iterators.ipynb",
      "provenance": [],
      "collapsed_sections": [],
      "authorship_tag": "ABX9TyObgWyMQnAKTg1mOR2FZs21",
      "include_colab_link": true
    },
    "kernelspec": {
      "name": "python3",
      "display_name": "Python 3"
    },
    "language_info": {
      "name": "python"
    }
  },
  "cells": [
    {
      "cell_type": "markdown",
      "metadata": {
        "id": "view-in-github",
        "colab_type": "text"
      },
      "source": [
        "<a href=\"https://colab.research.google.com/github/justalge/another_python_tutorial/blob/main/week6/Lecture_11_metaclasses_iterators.ipynb\" target=\"_parent\"><img src=\"https://colab.research.google.com/assets/colab-badge.svg\" alt=\"Open In Colab\"/></a>"
      ]
    },
    {
      "cell_type": "markdown",
      "metadata": {
        "id": "KFFTUPKGWnbZ"
      },
      "source": [
        "## Classes and Class Creation\n",
        "\n",
        "#### Behind the scenes: Relationship between Class and type\n",
        "\n",
        "In this chapter of our tutorial, we will provide you with a deeper insight into the magic happening behind the scenes, when we are defining a class or creating an instance of a class. You may ask yourself: \"Do I really have to learn theses additional details on object oriented programming in Python?\" Most probably not, or you belong to the few people who design classes at a very advanced level.\n",
        "\n",
        "First, we will concentrate on the relationship between type and class. While defining classes so far, you may have asked yourself, what is happening \"behind the lines\". We have already seen, that applying \"type\" to an object returns the class of which the object is an instance of:"
      ]
    },
    {
      "cell_type": "code",
      "metadata": {
        "colab": {
          "base_uri": "https://localhost:8080/"
        },
        "id": "ni5RAbspWeZb",
        "outputId": "07c005cc-d61b-490b-9920-a2a8b64a05b2"
      },
      "source": [
        "x = [4, 5, 9]\n",
        "y = \"Hello\"\n",
        "print(type(x), type(y))"
      ],
      "execution_count": 1,
      "outputs": [
        {
          "output_type": "stream",
          "name": "stdout",
          "text": [
            "<class 'list'> <class 'str'>\n"
          ]
        }
      ]
    },
    {
      "cell_type": "markdown",
      "metadata": {
        "id": "bbmUFMOvWngd"
      },
      "source": [
        "If you apply type on the name of a class itself, you get the class \"type\" returned:"
      ]
    },
    {
      "cell_type": "code",
      "metadata": {
        "colab": {
          "base_uri": "https://localhost:8080/"
        },
        "id": "4fLqrPxqXEPV",
        "outputId": "2ffd5a30-ba12-4ef0-b169-0e801bc61059"
      },
      "source": [
        "print(type(list), type(str))"
      ],
      "execution_count": 2,
      "outputs": [
        {
          "output_type": "stream",
          "name": "stdout",
          "text": [
            "<class 'type'> <class 'type'>\n"
          ]
        }
      ]
    },
    {
      "cell_type": "markdown",
      "metadata": {
        "id": "_9w64tW5XJiM"
      },
      "source": [
        "**A user-defined class (or the class \"object\") is an instance of the class \"type\". So, we can see, that classes are created from type. In Python3 there is no difference between \"classes\" and \"types\". They are in most cases used as synonyms**\n",
        "\n",
        "The fact that classes are instances of a class \"type\" allows us to program metaclasses. We can create classes, which inherit from the class \"type\". So, a metaclass is a subclass of the class \"type\"\n",
        "\n",
        "Instead of only one argument, type can be called with three parameters:\n",
        "\n",
        "```python\n",
        "type(classname, superclasses, attributes_dict)\n",
        "```\n",
        "\n",
        "If type is called with three arguments, it will return a new type object. This provides us with a dynamic form of the class statement.\n",
        "\n",
        "* \"classname\" is a string defining the class name and becomes the name attribute;\n",
        "\n",
        "* \"superclasses\" is a list or tuple with the superclasses of our class. This list or tuple will become the bases attribute;\n",
        "\n",
        "* the attributes_dict is a dictionary, functioning as the namespace of our class. It contains the definitions for the class body and it becomes the dict attribute\n",
        "\n",
        "Let's have a look at a simple class definition:"
      ]
    },
    {
      "cell_type": "code",
      "metadata": {
        "colab": {
          "base_uri": "https://localhost:8080/"
        },
        "id": "le-6c_TiXNkv",
        "outputId": "ddea2789-2e87-4569-98c7-a60f80752fd7"
      },
      "source": [
        "class A:\n",
        "    pass\n",
        "\n",
        "x = A()\n",
        "print(type(x))"
      ],
      "execution_count": 4,
      "outputs": [
        {
          "output_type": "stream",
          "name": "stdout",
          "text": [
            "<class '__main__.A'>\n"
          ]
        }
      ]
    },
    {
      "cell_type": "markdown",
      "metadata": {
        "id": "K4e6-PaYX5x0"
      },
      "source": [
        "We can use \"type\" for the previous class defintion as well:"
      ]
    },
    {
      "cell_type": "code",
      "metadata": {
        "colab": {
          "base_uri": "https://localhost:8080/"
        },
        "id": "djd6P1QmX3xw",
        "outputId": "4222ca7e-505d-467d-a30d-3b113f773ac8"
      },
      "source": [
        "A = type(\"A\", (), {})\n",
        "x = A()\n",
        "print(type(x))"
      ],
      "execution_count": 5,
      "outputs": [
        {
          "output_type": "stream",
          "name": "stdout",
          "text": [
            "<class '__main__.A'>\n"
          ]
        }
      ]
    },
    {
      "cell_type": "markdown",
      "metadata": {
        "id": "Kr9DjlGfX-XI"
      },
      "source": [
        "Generally speaking, this means, that we can define a class A with\n",
        "\n",
        "```python\n",
        "type(classname, superclasses, attributedict)\n",
        "```\n",
        "\n",
        "When we call \"type\", the call method of type is called. The call method runs two other methods: new and init:\n",
        "\n",
        "```python\n",
        "type.__new__(typeclass, classname, superclasses, attributedict)\n",
        "type.__init__(cls, classname, superclasses, attributedict)\n",
        "```\n",
        "\n",
        "The new method creates and returns the new class object, and after this, the init method initializes the newly created object ([more](https://www.geeksforgeeks.org/__new__-in-python/) and [more](https://howto.lintel.in/python-__new__-magic-method-explained/) about \\_\\_new__ in python):"
      ]
    },
    {
      "cell_type": "code",
      "metadata": {
        "id": "mQimizXQX77n"
      },
      "source": [
        "class Robot:\n",
        "\n",
        "    counter = 0\n",
        "\n",
        "    def __init__(self, name):\n",
        "        self.name = name\n",
        "\n",
        "    def sayHello(self):\n",
        "        return \"Hi, I am \" + self.name\n",
        "\n",
        "\n",
        "def Rob_init(self, name):\n",
        "    self.name = name\n",
        "\n",
        "Robot2 = type(\"Robot2\", \n",
        "              (), \n",
        "              {\"counter\":0, \n",
        "               \"__init__\": Rob_init,\n",
        "               \"sayHello\": lambda self: \"Hi, I am \" + self.name})"
      ],
      "execution_count": 7,
      "outputs": []
    },
    {
      "cell_type": "code",
      "metadata": {
        "colab": {
          "base_uri": "https://localhost:8080/"
        },
        "id": "ux1hpJogYdUb",
        "outputId": "4b256e46-4fd3-403e-d7ff-0748014134fe"
      },
      "source": [
        "x = Robot2(\"Marvin\")\n",
        "print(x.name)\n",
        "print(x.sayHello())"
      ],
      "execution_count": 8,
      "outputs": [
        {
          "output_type": "stream",
          "name": "stdout",
          "text": [
            "Marvin\n",
            "Hi, I am Marvin\n"
          ]
        }
      ]
    },
    {
      "cell_type": "code",
      "metadata": {
        "colab": {
          "base_uri": "https://localhost:8080/"
        },
        "id": "8kb6ePUJYhRg",
        "outputId": "c106975d-000b-44f3-c232-3426a16bed8c"
      },
      "source": [
        "y = Robot(\"Marvin\")\n",
        "print(y.name)\n",
        "print(y.sayHello())"
      ],
      "execution_count": 10,
      "outputs": [
        {
          "output_type": "stream",
          "name": "stdout",
          "text": [
            "Marvin\n",
            "Hi, I am Marvin\n"
          ]
        }
      ]
    },
    {
      "cell_type": "code",
      "metadata": {
        "colab": {
          "base_uri": "https://localhost:8080/"
        },
        "id": "mY2z51JkYi6C",
        "outputId": "e2b82a36-625e-40e4-ae0b-192a24efc4bc"
      },
      "source": [
        "print(x.__dict__)\n",
        "print(y.__dict__)"
      ],
      "execution_count": 11,
      "outputs": [
        {
          "output_type": "stream",
          "name": "stdout",
          "text": [
            "{'name': 'Marvin'}\n",
            "{'name': 'Marvin'}\n"
          ]
        }
      ]
    },
    {
      "cell_type": "markdown",
      "metadata": {
        "id": "2DbCOVEhYnRQ"
      },
      "source": [
        "The class definitions for Robot and Robot2 are syntactically completely different, but they implement logically the same class.\n",
        "\n",
        "What Python actually does in the first example, i.e. the \"usual way\" of defining classes, is the following: Python processes the complete class statement from class Robot to collect the methods and attributes of Robot to add them to the attributes_dict of the type call. So, Python will call type in a similar or the same way as we did in Robot2\n",
        "\n",
        "## On the Road to Metaclasses\n",
        "\n",
        "#### Motivation for Metaclasses\n",
        "\n",
        "In this chapter of our tutorial we want to provide some incentives or motivation for the use of metaclasses. To demonstrate some design problems, which can be solved by metaclasses, we will introduce and design a bunch of philosopher classes. Each philosopher class (Philosopher1, Philosopher2, and so on) need the same \"set\" of methods (in our example just one, i.e. \"the_answer\") as the basics for his or her pondering and brooding. A stupid way to implement the classes would be having the same code in every philospher class:"
      ]
    },
    {
      "cell_type": "code",
      "metadata": {
        "colab": {
          "base_uri": "https://localhost:8080/"
        },
        "id": "Rj3QMUiYYk3k",
        "outputId": "a06f83a2-dc44-4220-9553-f5d104102063"
      },
      "source": [
        "class Philosopher1(object): \n",
        "    \n",
        "    def the_answer(self, *args):              \n",
        "        return 42\n",
        "\n",
        "class Philosopher2(object): \n",
        "\n",
        "    def the_answer(self, *args):              \n",
        "        return 42\n",
        "\n",
        "class Philosopher3: \n",
        "\n",
        "    def the_answer(self, *args):              \n",
        "        return 42\n",
        "\n",
        "plato = Philosopher1()\n",
        "print(plato.the_answer())\n",
        "\n",
        "kant = Philosopher2()\n",
        "# let's see what Kant has to say :-)\n",
        "print(kant.the_answer())"
      ],
      "execution_count": 12,
      "outputs": [
        {
          "output_type": "stream",
          "name": "stdout",
          "text": [
            "42\n",
            "42\n"
          ]
        }
      ]
    },
    {
      "cell_type": "markdown",
      "metadata": {
        "id": "pymPukkeY_IN"
      },
      "source": [
        "We can see that we have multiple copies of the method \"the_answer\". This is error prone and tedious to maintain, of course.\n",
        "\n",
        "From what we know so far, the easiest way to accomplish our goal without creating redundant code would be designing a base, which contains \"the_answer\" as a method. Now each Philosopher class inherits from this base class:"
      ]
    },
    {
      "cell_type": "code",
      "metadata": {
        "colab": {
          "base_uri": "https://localhost:8080/"
        },
        "id": "CU0PP0zqY7vh",
        "outputId": "a4dcb205-56ad-43b1-bfda-42c878b04498"
      },
      "source": [
        "class Answers(object):\n",
        "\n",
        "    def the_answer(self, *args):              \n",
        "        return 42\n",
        "    \n",
        "class Philosopher1(Answers): \n",
        "    pass\n",
        "\n",
        "class Philosopher2(Answers): \n",
        "    pass\n",
        "\n",
        "class Philosopher3(Answers): \n",
        "    pass\n",
        "\n",
        "plato = Philosopher1()\n",
        "print(plato.the_answer())\n",
        "\n",
        "kant = Philosopher2()\n",
        "# let's see what Kant has to say :-)\n",
        "print(kant.the_answer())\n"
      ],
      "execution_count": 14,
      "outputs": [
        {
          "output_type": "stream",
          "name": "stdout",
          "text": [
            "42\n",
            "42\n"
          ]
        }
      ]
    },
    {
      "cell_type": "markdown",
      "metadata": {
        "id": "R6liErM-ZPSw"
      },
      "source": [
        "The way we have designed our classes, each Philosopher class will always have a method \"the_answer\". Let's assume, we don't know a priori if we want or need this method. Let's assume that the decision, if the classes have to be augmented, can only be made at runtime. This decision might depend on configuration files, user input or some calculations"
      ]
    },
    {
      "cell_type": "code",
      "metadata": {
        "colab": {
          "base_uri": "https://localhost:8080/"
        },
        "id": "-9bG3HG5Y8VT",
        "outputId": "edcb1a27-664f-410c-c692-7c9f9667c75e"
      },
      "source": [
        "# the following variable would be set as the result of a runtime calculation:\n",
        "x = input(\"Do you need 'the answer'? (y/n): \")\n",
        "if x==\"y\":\n",
        "    required = True\n",
        "else:\n",
        "    required = False\n",
        "\n",
        "def the_answer(self, *args):              \n",
        "        return 42\n",
        "\n",
        "class Philosopher1(object): \n",
        "    pass\n",
        "if required:\n",
        "    Philosopher1.the_answer = the_answer\n",
        "\n",
        "class Philosopher2(object): \n",
        "    pass\n",
        "if required:\n",
        "    Philosopher2.the_answer = the_answer\n",
        "\n",
        "class Philosopher3(object): \n",
        "    pass\n",
        "if required:\n",
        "    Philosopher3.the_answer = the_answer\n",
        "\n",
        "\n",
        "plato = Philosopher1()\n",
        "kant = Philosopher2()\n",
        "\n",
        "# let's see what Plato and Kant have to say :-)\n",
        "if required:\n",
        "    print(kant.the_answer())\n",
        "    print(plato.the_answer())\n",
        "else:\n",
        "    print(\"The silence of the philosphers\")"
      ],
      "execution_count": 18,
      "outputs": [
        {
          "output_type": "stream",
          "name": "stdout",
          "text": [
            "Do you need 'the answer'? (y/n): y\n",
            "42\n",
            "42\n"
          ]
        }
      ]
    },
    {
      "cell_type": "markdown",
      "metadata": {
        "id": "qlZ85QCIZg62"
      },
      "source": [
        "Even though this is another solution to our problem, there are still some serious drawbacks. It's error-prone, because we have to add the same code to every class and it seems likely that we might forget it. Besides this it's getting hardly manageable and maybe even confusing, if there are many methods we want to add.\n",
        "\n",
        "We can improve our approach by defining a manager function and avoiding redundant code this way. The manager function will be used to augment the classes conditionally:"
      ]
    },
    {
      "cell_type": "code",
      "metadata": {
        "colab": {
          "base_uri": "https://localhost:8080/"
        },
        "id": "GB-9KnxKZSc8",
        "outputId": "a7a3c4fc-be82-4af0-8307-284fce78f0e3"
      },
      "source": [
        "# the following variable would be set as the result of a runtime calculation:\n",
        "x = input(\"Do you need 'the answer'? (y/n): \")\n",
        "if x==\"y\":\n",
        "    required = True\n",
        "else:\n",
        "    required = False\n",
        "    \n",
        "    \n",
        "def the_answer(self, *args):              \n",
        "        return 42\n",
        "\n",
        "# manager function\n",
        "def augment_answer(cls):                      \n",
        "    if required:\n",
        "        cls.the_answer = the_answer\n",
        "        \n",
        "    \n",
        "class Philosopher1(object): \n",
        "    pass\n",
        "augment_answer(Philosopher1)\n",
        "\n",
        "class Philosopher2(object): \n",
        "    pass\n",
        "augment_answer(Philosopher2)\n",
        "\n",
        "class Philosopher3(object): \n",
        "    pass\n",
        "augment_answer(Philosopher3)\n",
        "    \n",
        "    \n",
        "plato = Philosopher1()\n",
        "kant = Philosopher2()\n",
        "\n",
        "# let's see what Plato and Kant have to say :-)\n",
        "if required:\n",
        "    print(kant.the_answer())\n",
        "    print(plato.the_answer())\n",
        "else:\n",
        "    print(\"The silence of the philosphers\")"
      ],
      "execution_count": 20,
      "outputs": [
        {
          "output_type": "stream",
          "name": "stdout",
          "text": [
            "Do you need 'the answer'? (y/n): y\n",
            "42\n",
            "42\n"
          ]
        }
      ]
    },
    {
      "cell_type": "markdown",
      "metadata": {
        "id": "fPdOtDn1Z0uq"
      },
      "source": [
        "This is again useful to solve our problem, but we, i.e. the class designers, must be careful not to forget to call the manager function \"augment_answer\". The code should be executed automatically. We need a way to make sure that \"some\" code might be executed automatically after the end of a class definition. The same code like above with decorators:"
      ]
    },
    {
      "cell_type": "code",
      "metadata": {
        "colab": {
          "base_uri": "https://localhost:8080/"
        },
        "id": "d3hCvBZfZ8bQ",
        "outputId": "2101e7c2-274d-4f1e-e0d8-d7272f460490"
      },
      "source": [
        "# the following variable would be set as the result of a runtime calculation:\n",
        "x = input(\"Do you need 'the answer'? (y/n): \")\n",
        "if x==\"y\":\n",
        "    required = True\n",
        "else:\n",
        "    required = False\n",
        "def the_answer(self, *args):              \n",
        "        return 42\n",
        "\n",
        "def augment_answer(cls):                      \n",
        "    if required:\n",
        "        cls.the_answer = the_answer\n",
        "    # we have to return the class now:\n",
        "    return cls\n",
        "        \n",
        "@augment_answer\n",
        "class Philosopher1(object): \n",
        "    pass\n",
        "\n",
        "@augment_answer\n",
        "class Philosopher2(object): \n",
        "    pass\n",
        "\n",
        "@augment_answer\n",
        "class Philosopher3(object): \n",
        "    pass\n",
        "    \n",
        "plato = Philosopher1()\n",
        "kant = Philosopher2()\n",
        "    \n",
        "# let's see what Plato and Kant have to say :-)\n",
        "if required:\n",
        "    print(kant.the_answer())\n",
        "    print(plato.the_answer())\n",
        "else:\n",
        "    print(\"The silence of the philosphers\")"
      ],
      "execution_count": 22,
      "outputs": [
        {
          "output_type": "stream",
          "name": "stdout",
          "text": [
            "Do you need 'the answer'? (y/n): y\n",
            "42\n",
            "42\n"
          ]
        }
      ]
    },
    {
      "cell_type": "markdown",
      "metadata": {
        "id": "LMMarFnxaLNc"
      },
      "source": [
        "## Now lets do it with metaclasses\n",
        "\n",
        "A metaclass is a class whose instances are classes. Like an \"ordinary\" class defines the behavior of the instances of the class, a metaclass defines the behavior of classes and their instances.\n",
        "\n",
        "Metaclasses are not supported by every object oriented programming language. Those programming language, which support metaclasses, considerably vary in way they implement them. Python is supporting them.\n",
        "\n",
        "Some programmers see metaclasses in Python as \"solutions waiting or looking for a problem\".\n",
        "\n",
        "There are numerous use cases for metaclasses. Just to name a few:\n",
        "\n",
        "* logging and profiling\n",
        "* interface checking\n",
        "* registering classes at creation time\n",
        "* automatically adding new methods\n",
        "* automatic property creation\n",
        "* [proxies](https://refactoring.guru/design-patterns/proxy/python/example)\n",
        "* automatic resource locking/synchronization\n",
        "\n",
        "#### Defining Metaclasses\n",
        "\n",
        "Principially, metaclasses are defined like any other Python class, but they are classes that inherit from \"type\". Another difference is, that a metaclass is called automatically, when the class statement using a metaclass ends. In other words: If no \"metaclass\" keyword is passed after the base classes (there may be no base classes either) of the class header, type() (i.e. \\_\\_call__ of type) will be called. If a metaclass keyword is used, on the other hand, the class assigned to it will be called instead of type.\n",
        "\n",
        "Now we create a very simple metaclass. It's good for nothing, except that it will print the content of its arguments in the \\_\\_new__ method and returns the results of the type.\\_\\_new__ call:"
      ]
    },
    {
      "cell_type": "code",
      "metadata": {
        "id": "8S3tk1gyZolI"
      },
      "source": [
        "class LittleMeta(type):\n",
        "    def __new__(cls, clsname, superclasses, attributedict):\n",
        "        print(cls)\n",
        "        print(\"clsname: \", clsname)\n",
        "        print(\"superclasses: \", superclasses)\n",
        "        print(\"attributedict: \", attributedict)\n",
        "        return type.__new__(cls, clsname, superclasses, attributedict)"
      ],
      "execution_count": 58,
      "outputs": []
    },
    {
      "cell_type": "markdown",
      "metadata": {
        "id": "9D0lWp4ibeya"
      },
      "source": [
        "We will use the metaclass \"LittleMeta\" in the following example:"
      ]
    },
    {
      "cell_type": "code",
      "metadata": {
        "colab": {
          "base_uri": "https://localhost:8080/"
        },
        "id": "uUZ-JUZkbcgs",
        "outputId": "60052f28-c7ab-49b2-97d1-13430cfc1d5c"
      },
      "source": [
        "class S:\n",
        "    pass\n",
        "\n",
        "class A(S, metaclass=LittleMeta):\n",
        "    pass\n",
        "\n",
        "\n",
        "# A.__metaclass__ = LittleMeta"
      ],
      "execution_count": 59,
      "outputs": [
        {
          "output_type": "stream",
          "name": "stdout",
          "text": [
            "<class '__main__.LittleMeta'>\n",
            "clsname:  A\n",
            "superclasses:  (<class '__main__.S'>,)\n",
            "attributedict:  {'__module__': '__main__', '__qualname__': 'A'}\n"
          ]
        }
      ]
    },
    {
      "cell_type": "code",
      "metadata": {
        "id": "8Q9nsWAibicN"
      },
      "source": [
        "a = A()"
      ],
      "execution_count": 97,
      "outputs": []
    },
    {
      "cell_type": "markdown",
      "metadata": {
        "id": "HuhAMVa0buHM"
      },
      "source": [
        "We can see LittleMeta.\\_\\_new__ has been called and not type.\\_\\_new__.\n",
        "\n",
        "Resuming our thread from the last chapter: We define a metaclass EssentialAnswers which is capable of automatically including our augment_answer method:"
      ]
    },
    {
      "cell_type": "code",
      "metadata": {
        "colab": {
          "base_uri": "https://localhost:8080/"
        },
        "id": "atMy16LabpbD",
        "outputId": "cc40f091-b3f3-4c15-825d-bfb1d49fa4ea"
      },
      "source": [
        "x = input(\"Do you need the answer? (y/n): \")\n",
        "if x.lower() == \"y\":\n",
        "    required = True\n",
        "else:\n",
        "    required = False\n",
        "\n",
        "    \n",
        "def the_answer(self, *args):              \n",
        "        return 42\n",
        "\n",
        "    \n",
        "class EssentialAnswers(type):\n",
        "    \n",
        "    def __init__(cls, clsname, superclasses, attributedict):\n",
        "        if required:\n",
        "            cls.the_answer = the_answer\n",
        "                           \n",
        "    \n",
        "class Philosopher1(metaclass=EssentialAnswers): \n",
        "    pass\n",
        "\n",
        "\n",
        "class Philosopher2(metaclass=EssentialAnswers): \n",
        "    pass\n",
        "\n",
        "\n",
        "class Philosopher3(metaclass=EssentialAnswers): \n",
        "    pass\n",
        "    \n",
        "    \n",
        "plato = Philosopher1()\n",
        "print(plato.the_answer())\n",
        "\n",
        "\n",
        "kant = Philosopher2()\n",
        "# let's see what Kant has to say :-)\n",
        "print(kant.the_answer())"
      ],
      "execution_count": 65,
      "outputs": [
        {
          "output_type": "stream",
          "name": "stdout",
          "text": [
            "Do you need the answer? (y/n): y\n",
            "42\n",
            "42\n"
          ]
        }
      ]
    },
    {
      "cell_type": "markdown",
      "metadata": {
        "id": "oz9QRJsrb8eX"
      },
      "source": [
        "We have learned in our chapter \"Type and Class Relationship\" that after the class definition has been processed, Python calls\n",
        "\n",
        "```python\n",
        "type(classname, superclasses, attributes_dict)\n",
        "```\n",
        "\n",
        "This is not the case, if a metaclass has been declared in the header. That is what we have done in our previous example. Our classes Philosopher1, Philosopher2 and Philosopher3 have been hooked to the metaclass EssentialAnswers. That's why EssentialAnswer will be called instead of type:\n",
        "\n",
        "```python\n",
        "EssentialAnswer(classname, superclasses, attributes_dict)\n",
        "```\n",
        "\n",
        "To be precise, the arguments of the calls will be set the the following values:\n",
        "\n",
        "```python\n",
        "EssentialAnswer('Philopsopher1', \n",
        "                (), \n",
        "                {'__module__': '__main__', '__qualname__': 'Philosopher1'})\n",
        "```\n",
        "\n",
        "The other philosopher classes are treated in an analogue way.\n",
        "\n",
        "#### Creating Singletons using Metaclasses\n",
        "\n",
        "The singleton pattern is a design pattern that restricts the instantiation of a class to one object. It is used in cases where exactly one object is needed. The concept can be generalized to restrict the instantiation to a certain or fixed number of objects. The term stems from mathematics, where a singleton, - also called a unit set -, is used for sets with exactly one element."
      ]
    },
    {
      "cell_type": "code",
      "metadata": {
        "colab": {
          "base_uri": "https://localhost:8080/"
        },
        "id": "HPNke6amcAih",
        "outputId": "319eb607-9114-4227-ac23-58f975650c39"
      },
      "source": [
        "class Singleton(type):\n",
        "    _instances = {}\n",
        "    _x = 7\n",
        "\n",
        "    def __new__(cls, clsname, superclasses, attributedict):\n",
        "        print('--------------------------- NEW of meta is called', cls)\n",
        "        return type.__new__(cls, clsname, superclasses, attributedict)\n",
        "\n",
        "    def __init__(cls, clsname, superclasses, attributedict):\n",
        "        print('--------------------------- INIT of meta is called', cls)\n",
        "\n",
        "    def __call__(cls, *args, **kwargs):\n",
        "        print('--------------------------- CALL of meta is called', cls)\n",
        "        if cls not in cls._instances:\n",
        "            cls._instances[cls] = super(Singleton, cls).__call__(*args, **kwargs)\n",
        "        return cls._instances[cls]\n",
        "\n",
        "\n",
        "class SingletonClass(metaclass=Singleton):\n",
        "    def __init__(self):\n",
        "        print('--------------------------- INIT of general is called')\n",
        "    pass\n",
        "\n",
        "\n",
        "class RegularClass():\n",
        "    pass"
      ],
      "execution_count": 180,
      "outputs": [
        {
          "output_type": "stream",
          "name": "stdout",
          "text": [
            "--------------------------- NEW of meta is called <class '__main__.Singleton'>\n",
            "--------------------------- INIT of meta is called <class '__main__.SingletonClass'>\n"
          ]
        }
      ]
    },
    {
      "cell_type": "code",
      "metadata": {
        "colab": {
          "base_uri": "https://localhost:8080/"
        },
        "id": "xeVW-ssnzN5K",
        "outputId": "93984366-6579-446c-b1ae-ff3eefb9a2cb"
      },
      "source": [
        "x = SingletonClass()\n",
        "y = SingletonClass()\n",
        "print(x == y)\n",
        "\n",
        "x = RegularClass()\n",
        "y = RegularClass()\n",
        "print(x == y)"
      ],
      "execution_count": 102,
      "outputs": [
        {
          "output_type": "stream",
          "name": "stdout",
          "text": [
            "--------------------------- CALL of meta is called <class '__main__.SingletonClass'>\n",
            "--------------------------- INIT of general is called\n",
            "--------------------------- CALL of meta is called <class '__main__.SingletonClass'>\n",
            "True\n",
            "False\n"
          ]
        }
      ]
    },
    {
      "cell_type": "markdown",
      "metadata": {
        "id": "hkrGWv2Icqcr"
      },
      "source": [
        "#### Creating Singletons without metaclass"
      ]
    },
    {
      "cell_type": "code",
      "metadata": {
        "colab": {
          "base_uri": "https://localhost:8080/"
        },
        "id": "2ngrgAb0cmqk",
        "outputId": "aed6eef3-6684-45e3-e1ed-0bf5de5f9133"
      },
      "source": [
        "class Singleton(object):\n",
        "    _instance = None\n",
        "    def __new__(cls, *args, **kwargs):\n",
        "        if not cls._instance:\n",
        "            cls._instance = super().__new__(cls, *args, **kwargs)\n",
        "        return cls._instance\n",
        "\n",
        "    \n",
        "class SingletonClass(Singleton):\n",
        "    pass\n",
        "\n",
        "class RegularClass():\n",
        "    pass\n",
        "\n",
        "\n",
        "x = SingletonClass()\n",
        "y = SingletonClass()\n",
        "print(x == y)\n",
        "\n",
        "\n",
        "x = RegularClass()\n",
        "y = RegularClass()\n",
        "print(x == y)"
      ],
      "execution_count": 175,
      "outputs": [
        {
          "output_type": "stream",
          "name": "stdout",
          "text": [
            "True\n",
            "False\n"
          ]
        }
      ]
    },
    {
      "cell_type": "markdown",
      "metadata": {
        "id": "IGHZOURrc4tv"
      },
      "source": [
        "[Another use cases of metaslasses](https://medium.com/@dan.gittik/metaphysics-2036b38fa711)\n",
        "\n",
        "[About \\_\\_prepare__ method of metaclasses](https://stackoverflow.com/questions/46827708/metaclass-and-prepare)\n",
        "\n",
        "## Count Method Calls Using a Metaclass\n",
        "\n",
        "#### Introduction\n",
        "\n",
        "You may have asked yourself about the possible use cases for metaclasses. There are some interesting use cases and it's not - like some say - a solution waiting for a problem. We have mentioned already some examples.\n",
        "\n",
        "In this chapter of our tutorial on Python, we want to elaborate an example metaclass, which will decorate the methods of the subclass. The decorated function returned by the decorator makes it possible to count the number of times each method of the subclass has been called.\n",
        "\n",
        "This is usually one of the tasks, we expect from a profiler. So we can use this metaclass for simple profiling purposes. Of course, it will be easy to extend our metaclass for further profiling tasks.\n",
        "\n",
        "#### Preliminary Remarks\n",
        "\n",
        "Before we actually dive into the problem, we want to remind how we can access the attributes of a class. We will demonstrate this with the list class. We can get the list of all the non private attributes of a class - in our example the random class - with the following construct:\n"
      ]
    },
    {
      "cell_type": "code",
      "metadata": {
        "colab": {
          "base_uri": "https://localhost:8080/"
        },
        "id": "dfkdtV-0cy1G",
        "outputId": "37ff37ba-2387-466a-8b51-cb02a9715ea3"
      },
      "source": [
        "import random\n",
        "cls = \"random\" # name of the class as a string\n",
        "all_attributes = [x for x in dir(eval(cls)) if not x.startswith(\"__\") ]\n",
        "print(all_attributes)"
      ],
      "execution_count": 31,
      "outputs": [
        {
          "output_type": "stream",
          "name": "stdout",
          "text": [
            "['BPF', 'LOG4', 'NV_MAGICCONST', 'RECIP_BPF', 'Random', 'SG_MAGICCONST', 'SystemRandom', 'TWOPI', '_BuiltinMethodType', '_MethodType', '_Sequence', '_Set', '_acos', '_bisect', '_ceil', '_cos', '_e', '_exp', '_inst', '_itertools', '_log', '_os', '_pi', '_random', '_sha512', '_sin', '_sqrt', '_test', '_test_generator', '_urandom', '_warn', 'betavariate', 'choice', 'choices', 'expovariate', 'gammavariate', 'gauss', 'getrandbits', 'getstate', 'lognormvariate', 'normalvariate', 'paretovariate', 'randint', 'random', 'randrange', 'sample', 'seed', 'setstate', 'shuffle', 'triangular', 'uniform', 'vonmisesvariate', 'weibullvariate']\n"
          ]
        }
      ]
    },
    {
      "cell_type": "markdown",
      "metadata": {
        "id": "aeQrfwZAecD2"
      },
      "source": [
        "Now, we are filtering the callable attributes, i.e. the public methods of the class:"
      ]
    },
    {
      "cell_type": "code",
      "metadata": {
        "colab": {
          "base_uri": "https://localhost:8080/"
        },
        "id": "mI1g-vTQeUjW",
        "outputId": "69df5094-ca61-42bd-9678-030a022a466a"
      },
      "source": [
        "methods = [x for x in dir(eval(cls)) if not x.startswith(\"__\") \n",
        "                              and callable(eval(cls + \".\" + x))]\n",
        "print(methods)"
      ],
      "execution_count": 32,
      "outputs": [
        {
          "output_type": "stream",
          "name": "stdout",
          "text": [
            "['Random', 'SystemRandom', '_BuiltinMethodType', '_MethodType', '_Sequence', '_Set', '_acos', '_ceil', '_cos', '_exp', '_log', '_sha512', '_sin', '_sqrt', '_test', '_test_generator', '_urandom', '_warn', 'betavariate', 'choice', 'choices', 'expovariate', 'gammavariate', 'gauss', 'getrandbits', 'getstate', 'lognormvariate', 'normalvariate', 'paretovariate', 'randint', 'random', 'randrange', 'sample', 'seed', 'setstate', 'shuffle', 'triangular', 'uniform', 'vonmisesvariate', 'weibullvariate']\n"
          ]
        }
      ]
    },
    {
      "cell_type": "markdown",
      "metadata": {
        "id": "uMmE5V8kemzw"
      },
      "source": [
        "Getting the non callable attributes of the class can be easily achieved by negating callable, i.e. adding \"not\":"
      ]
    },
    {
      "cell_type": "code",
      "metadata": {
        "colab": {
          "base_uri": "https://localhost:8080/"
        },
        "id": "98wgQ07BejEX",
        "outputId": "91df891f-cea2-436a-b167-05dccce4da9b"
      },
      "source": [
        "non_callable_attributes = [x for x in dir(eval(cls)) if not x.startswith(\"__\") \n",
        "                              and not callable(eval(cls + \".\" + x))]\n",
        "print(non_callable_attributes)"
      ],
      "execution_count": 33,
      "outputs": [
        {
          "output_type": "stream",
          "name": "stdout",
          "text": [
            "['BPF', 'LOG4', 'NV_MAGICCONST', 'RECIP_BPF', 'SG_MAGICCONST', 'TWOPI', '_bisect', '_e', '_inst', '_itertools', '_os', '_pi', '_random']\n"
          ]
        }
      ]
    },
    {
      "cell_type": "markdown",
      "metadata": {
        "id": "AFzrBcs-etC5"
      },
      "source": [
        "In normal Python programming it is neither recommended nor necessary to apply methods in the following way, but it is possible:"
      ]
    },
    {
      "cell_type": "code",
      "metadata": {
        "colab": {
          "base_uri": "https://localhost:8080/"
        },
        "id": "O4CdUoeHepw0",
        "outputId": "f21f38b1-493c-4cc1-a308-16142b7e0982"
      },
      "source": [
        "lst = [3,4]\n",
        "list.__dict__[\"append\"](lst, 42)\n",
        "lst"
      ],
      "execution_count": 34,
      "outputs": [
        {
          "output_type": "execute_result",
          "data": {
            "text/plain": [
              "[3, 4, 42]"
            ]
          },
          "metadata": {},
          "execution_count": 34
        }
      ]
    },
    {
      "cell_type": "markdown",
      "metadata": {
        "id": "aWB9NeOOe1bJ"
      },
      "source": [
        "#### Please note the remark from the Python documentation:\n",
        "\n",
        "\"Because dir() is supplied primarily as a convenience for use at an interactive prompt, it tries to supply an interesting set of names more than it tries to supply a rigorously or consistently defined set of names, and its detailed behavior may change across releases. For example, metaclass attributes are not in the result list when the argument is a class.\"\n",
        "\n",
        "#### A Decorator for Counting Function Calls\n",
        "\n",
        "Finally, we will begin designing the metaclass, which we have mentioned as our target in the beginning of this chapter. It will decorate all the methods of its subclass with a decorator, which counts the number of calls. We have defined such a decorator previously:"
      ]
    },
    {
      "cell_type": "code",
      "metadata": {
        "id": "N5jwBAIzfUqA"
      },
      "source": [
        "def call_counter(func):\n",
        "    def helper(*args, **kwargs):\n",
        "        helper.calls += 1\n",
        "        return func(*args, **kwargs)\n",
        "    helper.calls = 0\n",
        "    helper.__name__= func.__name__\n",
        "\n",
        "    return helper"
      ],
      "execution_count": 35,
      "outputs": []
    },
    {
      "cell_type": "markdown",
      "metadata": {
        "id": "YiVjem6TfU2x"
      },
      "source": [
        "We can use it in the usual way:"
      ]
    },
    {
      "cell_type": "code",
      "metadata": {
        "colab": {
          "base_uri": "https://localhost:8080/"
        },
        "id": "3X_h3nQ4ewTb",
        "outputId": "064cbfdc-8fb8-43ee-a1d0-07993033ae38"
      },
      "source": [
        "@call_counter\n",
        "def f():\n",
        "    pass\n",
        "\n",
        "print(f.calls)\n",
        "for _ in range(10):\n",
        "    f()\n",
        "    \n",
        "print(f.calls)"
      ],
      "execution_count": 36,
      "outputs": [
        {
          "output_type": "stream",
          "name": "stdout",
          "text": [
            "0\n",
            "10\n"
          ]
        }
      ]
    },
    {
      "cell_type": "markdown",
      "metadata": {
        "id": "deo3J8ZCfdHa"
      },
      "source": [
        "It would be better if you add the alternative notation for decorating function. We will need this in our final metaclass:"
      ]
    },
    {
      "cell_type": "code",
      "metadata": {
        "colab": {
          "base_uri": "https://localhost:8080/"
        },
        "id": "oDY0iWqRfZ9p",
        "outputId": "edbdd8eb-8a93-4ee4-dfeb-ce5ef6ede45b"
      },
      "source": [
        "def f():\n",
        "    pass\n",
        "\n",
        "f = call_counter(f)\n",
        "print(f.calls)\n",
        "for _ in range(10):\n",
        "    f()\n",
        "    \n",
        "print(f.calls)"
      ],
      "execution_count": 37,
      "outputs": [
        {
          "output_type": "stream",
          "name": "stdout",
          "text": [
            "0\n",
            "10\n"
          ]
        }
      ]
    },
    {
      "cell_type": "markdown",
      "metadata": {
        "id": "llgOMVw1fpbD"
      },
      "source": [
        "#### The \"Count Calls\" Metaclass\n",
        "\n",
        "Now we have all the necessary \"ingredients\" together to write our metaclass. We will include our call_counter decorator as a staticmethod:"
      ]
    },
    {
      "cell_type": "code",
      "metadata": {
        "colab": {
          "base_uri": "https://localhost:8080/"
        },
        "id": "NLXcoNFjfhfk",
        "outputId": "a792b1bb-b602-4f57-e4ba-2e10a8115522"
      },
      "source": [
        "class FuncCallCounter(type):\n",
        "    \"\"\" A Metaclass which decorates all the methods of the \n",
        "        subclass using call_counter as the decorator\n",
        "    \"\"\"\n",
        "    \n",
        "    @staticmethod\n",
        "    def call_counter(func):\n",
        "        \"\"\" Decorator for counting the number of function \n",
        "            or method calls to the function or method func\n",
        "        \"\"\"\n",
        "        def helper(*args, **kwargs):\n",
        "            helper.calls += 1\n",
        "            return func(*args, **kwargs)\n",
        "        helper.calls = 0\n",
        "        helper.__name__= func.__name__\n",
        "    \n",
        "        return helper\n",
        "    \n",
        "    \n",
        "    def __new__(cls, clsname, superclasses, attributedict):\n",
        "        \"\"\" Every method gets decorated with the decorator call_counter,\n",
        "            which will do the actual call counting\n",
        "        \"\"\"\n",
        "        for attr in attributedict:\n",
        "            if callable(attributedict[attr]) and not attr.startswith(\"__\"):\n",
        "                attributedict[attr] = cls.call_counter(attributedict[attr])\n",
        "        \n",
        "        return type.__new__(cls, clsname, superclasses, attributedict)\n",
        "    \n",
        "\n",
        "class A(metaclass=FuncCallCounter):\n",
        "    \n",
        "    def foo(self):\n",
        "        pass\n",
        "    \n",
        "    def bar(self):\n",
        "        pass\n",
        "\n",
        "if __name__ == \"__main__\":\n",
        "    x = A()\n",
        "    print(x.foo.calls, x.bar.calls)\n",
        "    x.foo()\n",
        "    print(x.foo.calls, x.bar.calls)\n",
        "    x.foo()\n",
        "    x.bar()\n",
        "    print(x.foo.calls, x.bar.calls)"
      ],
      "execution_count": 38,
      "outputs": [
        {
          "output_type": "stream",
          "name": "stdout",
          "text": [
            "0 0\n",
            "1 0\n",
            "2 1\n"
          ]
        }
      ]
    },
    {
      "cell_type": "markdown",
      "metadata": {
        "id": "cPaxzHp5A8Pj"
      },
      "source": [
        "## Iterators vs iterables\n",
        "\n",
        "The Python forums and other question-and-answer websites like Quora and Stackoverflow are full of questions concerning 'iterators' and 'iterable'. Some want to know how they are defined and others want to know if there is an easy way to check, if an object is an iterator or an iterable. We will provide a function for this purpose.\n",
        "\n",
        "We have seen that we can loop or iterate over various Python objects like lists, tuples and strings. For example:"
      ]
    },
    {
      "cell_type": "code",
      "metadata": {
        "colab": {
          "base_uri": "https://localhost:8080/"
        },
        "id": "AOxADmyJfxsY",
        "outputId": "8b96c625-66dd-439e-df92-0d66981dc220"
      },
      "source": [
        "for city in [\"Berlin\", \"Vienna\", \"Zurich\"]:\n",
        "    print(city)\n",
        "for language in (\"Python\", \"Perl\", \"Ruby\"):\n",
        "    print(city)\n",
        "for char in \"Iteration is easy\":\n",
        "    print(char)"
      ],
      "execution_count": 103,
      "outputs": [
        {
          "output_type": "stream",
          "name": "stdout",
          "text": [
            "Berlin\n",
            "Vienna\n",
            "Zurich\n",
            "Zurich\n",
            "Zurich\n",
            "Zurich\n",
            "I\n",
            "t\n",
            "e\n",
            "r\n",
            "a\n",
            "t\n",
            "i\n",
            "o\n",
            "n\n",
            " \n",
            "i\n",
            "s\n",
            " \n",
            "e\n",
            "a\n",
            "s\n",
            "y\n"
          ]
        }
      ]
    },
    {
      "cell_type": "markdown",
      "metadata": {
        "id": "NP9KG6ihBa7B"
      },
      "source": [
        "This form of looping can be seen as iteration. Iteration is not restricted to explicit for loops. If you call the function sum, - e.g. on a list of integer values, - you do iteration as well\n",
        "\n",
        "So what is the difference between an iterable and an iterator?\n",
        "\n",
        "On one hand, they are the same: You can iterate with a for loop over iterators and iterables. Every iterator is also an iterable, but not every iterable is an iterator. E.g. a list is iterable but a list is not an iterator! An iterator can be created from an iterable by using the function 'iter'. To make this possible the class of an object needs either a method '\\_\\_iter__', which returns an iterator, or a '\\_\\_getitem__' method with sequential indexes starting with 0\n",
        "\n",
        "Iterators are objects with a '\\_\\_next__' method, which will be used when the function 'next()' is called\n",
        "\n",
        "So what is going on behind the scenes, when a for loop is executed? The for statement calls iter() on the object ( which should be a so-called container object), over which it is supposed to loop . If this call is successful, the iter call will return an iterator object that defines the method \\_\\_next__() which accesses elements of the object one at a time. The \\_\\_next__() method will raise a StopIteration exception, if there are no further elements available. The for loop will terminate as soon as it catches a StopIteration exception. You can call the \\_\\_next__() method using the next() built-in function. This is how it works:"
      ]
    },
    {
      "cell_type": "code",
      "metadata": {
        "colab": {
          "base_uri": "https://localhost:8080/"
        },
        "id": "I2UrvU8wBVAq",
        "outputId": "17cd588d-c138-4875-d355-863d9a18eb1a"
      },
      "source": [
        "cities = [\"Berlin\", \"Vienna\", \"Zurich\"]\n",
        "iterator_obj = iter(cities)\n",
        "print(iterator_obj)\n",
        "\n",
        "print(next(iterator_obj))\n",
        "print(next(iterator_obj))\n",
        "print(next(iterator_obj))"
      ],
      "execution_count": 104,
      "outputs": [
        {
          "output_type": "stream",
          "name": "stdout",
          "text": [
            "<list_iterator object at 0x7fa4268c8210>\n",
            "Berlin\n",
            "Vienna\n",
            "Zurich\n"
          ]
        }
      ]
    },
    {
      "cell_type": "markdown",
      "metadata": {
        "id": "ubX2WVHBF86A"
      },
      "source": [
        "If we called 'next(iterator_obj)' one more time, it would return 'StopIteration'\n",
        "\n",
        "The following function 'iterable' will return True, if the object 'obj' is an iterable and False otherwise:"
      ]
    },
    {
      "cell_type": "code",
      "metadata": {
        "colab": {
          "base_uri": "https://localhost:8080/"
        },
        "id": "Ss_RYv1_F5sw",
        "outputId": "052e7bdf-fed6-451b-ee13-8726c8b296be"
      },
      "source": [
        "def iterable(obj):\n",
        "     try:\n",
        "         iter(obj)\n",
        "         return True\n",
        "     except TypeError:\n",
        "         return False \n",
        "        \n",
        "for element in [34, [4, 5], (4, 5), {\"a\":4}, \"dfsdf\", 4.5]:\n",
        "    print(element, \"iterable: \", iterable(element))"
      ],
      "execution_count": 105,
      "outputs": [
        {
          "output_type": "stream",
          "name": "stdout",
          "text": [
            "34 iterable:  False\n",
            "[4, 5] iterable:  True\n",
            "(4, 5) iterable:  True\n",
            "{'a': 4} iterable:  True\n",
            "dfsdf iterable:  True\n",
            "4.5 iterable:  False\n"
          ]
        }
      ]
    },
    {
      "cell_type": "markdown",
      "metadata": {
        "id": "xZNVj_TwGMn8"
      },
      "source": [
        "We have described how an iterator works. So if you want to add an iterator behavior to your class, you have to add the \\_\\_iter__ and the \\_\\_next__ method to your class. The \\_\\_iter__ method returns an iterator object. If the class contains a \\_\\_next__, it is enough for the \\_\\_iter__ method to return self, i.e. a reference to itself:"
      ]
    },
    {
      "cell_type": "code",
      "metadata": {
        "colab": {
          "base_uri": "https://localhost:8080/"
        },
        "id": "1R6sf3eFGEn4",
        "outputId": "4584e2c2-9f02-4dec-a808-afc5f54ac74c"
      },
      "source": [
        "class Reverse:\n",
        "    \"\"\"\n",
        "    Creates Iterators for looping over a sequence backwards.\n",
        "    \"\"\"\n",
        "    \n",
        "    def __init__(self, data):\n",
        "        self.data = data\n",
        "        self.index = len(data)\n",
        "\n",
        "    def __iter__(self):\n",
        "        return self\n",
        "\n",
        "    def __next__(self):\n",
        "        if self.index == 0:\n",
        "            raise StopIteration\n",
        "        self.index = self.index - 1\n",
        "        return self.data[self.index]\n",
        "\n",
        "lst = [34, 978, 42]\n",
        "lst_backwards = Reverse(lst)\n",
        "for el in lst_backwards:\n",
        "    print(el)"
      ],
      "execution_count": 106,
      "outputs": [
        {
          "output_type": "stream",
          "name": "stdout",
          "text": [
            "42\n",
            "978\n",
            "34\n"
          ]
        }
      ]
    },
    {
      "cell_type": "markdown",
      "metadata": {
        "id": "slQkEu5kG1oy"
      },
      "source": [
        "## Generators and Iterators\n",
        "\n",
        "#### Introduction\n",
        "\n",
        "What is an iterator? Iterators are objects that can be iterated over like we do in a for loop. We can also say that an iterator is an object, which returns data, one element at a time. That is, they do not do any work until we explicitly ask for their next item. They work on a principle, which is known in computer science as lazy evaluation. Lazy evaluation is an evaluation strategy which delays the evaluation of an expression until its value is really needed. Due to the laziness of Python iterators, they are a great way to deal with infinity, i.e. iterables which can iterate for ever. You can hardly find Python programs that are not teaming with iterators.\n",
        "\n",
        "Iterators are a fundamental concept of Python. You already learned in your first Python programs that you can iterate over container objects such as lists and strings. To do this, Python creates an iterator version of the list or string. In this case, an iterator can be seen as a pointer to a container, which enables us to iterate over all the elements of this container. An iterator is an abstraction, which enables the programmer to access all the elements of an iterable object (a set, a string, a list etc.) without any deeper knowledge of the data structure of this object.\n",
        "\n",
        "Generators are a special kind of function, which enable us to implement or generate iterators.\n",
        "\n",
        "Mostly, iterators are implicitly used, like in the for-loop of Python. We demonstrate this in the following example. We are iterating over a list, but you shouldn't be mistaken: A list is not an iterator, but it can be used like an iterator:"
      ]
    },
    {
      "cell_type": "code",
      "metadata": {
        "colab": {
          "base_uri": "https://localhost:8080/"
        },
        "id": "COJpdzjJGVtK",
        "outputId": "88c1f7f5-d401-4026-ce95-6248329b40f8"
      },
      "source": [
        "cities = [\"Paris\", \"Berlin\", \"Hamburg\", \n",
        "          \"Frankfurt\", \"London\", \"Vienna\", \n",
        "          \"Amsterdam\", \"Den Haag\"]\n",
        "for location in cities:\n",
        "    print(\"location: \" + location)"
      ],
      "execution_count": 114,
      "outputs": [
        {
          "output_type": "stream",
          "name": "stdout",
          "text": [
            "location: Paris\n",
            "location: Berlin\n",
            "location: Hamburg\n",
            "location: Frankfurt\n",
            "location: London\n",
            "location: Vienna\n",
            "location: Amsterdam\n",
            "location: Den Haag\n"
          ]
        }
      ]
    },
    {
      "cell_type": "markdown",
      "metadata": {
        "id": "caJ3MPygIDA5"
      },
      "source": [
        "What is really going on when a for loop is executed? The function 'iter' is applied to the object following the 'in' keyword, e.g. for i in o:. Two cases are possible: o is either iterable or not. If o is not iterable, an exception will be raised, saying that the type of the object is not iterable. On the other hand, if o is iterable the call iter(o) will return an iterator, let us call it iterator_obj The for loop uses this iterator to iterate over the object o by using the next method. The for loop stops when next(iterator_obj) is exhausted, which means it returns a StopIteration exception. We demonstrate this behaviour in the following code example:"
      ]
    },
    {
      "cell_type": "code",
      "metadata": {
        "colab": {
          "base_uri": "https://localhost:8080/"
        },
        "id": "X05OHkgRGj3d",
        "outputId": "1e068192-8992-4c04-9ccb-37a9360e4ae6"
      },
      "source": [
        "expertises = [\"Python Beginner\", \n",
        "              \"Python Intermediate\", \n",
        "              \"Python Proficient\", \n",
        "              \"Python Advanced\"]\n",
        "expertises_iterator = iter(expertises)\n",
        "print(\"Calling 'next' for the first time: \", next(expertises_iterator))\n",
        "print(\"Calling 'next' for the second time: \", next(expertises_iterator))"
      ],
      "execution_count": 115,
      "outputs": [
        {
          "output_type": "stream",
          "name": "stdout",
          "text": [
            "Calling 'next' for the first time:  Python Beginner\n",
            "Calling 'next' for the second time:  Python Intermediate\n"
          ]
        }
      ]
    },
    {
      "cell_type": "markdown",
      "metadata": {
        "id": "O9TEJcroIPbV"
      },
      "source": [
        "We could have called `next` two more times, but after this we will get a StopIteration Exception.\n",
        "\n",
        "We can simulate this iteration behavior of the for loop in a while loop: You might have noticed that there is something missing in our program: We have to catch the \"Stop Iteration\" exception:"
      ]
    },
    {
      "cell_type": "code",
      "metadata": {
        "colab": {
          "base_uri": "https://localhost:8080/"
        },
        "id": "z1BzxapxIMQR",
        "outputId": "ce258ee9-ffdb-47f1-fd76-31bddb3f4c3d"
      },
      "source": [
        "other_cities = [\"Strasbourg\", \"Freiburg\", \"Stuttgart\", \n",
        "                \"Vienna / Wien\", \"Hannover\", \"Berlin\", \n",
        "                \"Zurich\"]\n",
        "\n",
        "city_iterator = iter(other_cities)\n",
        "while city_iterator:\n",
        "    try:\n",
        "        city = next(city_iterator)\n",
        "        print(city)\n",
        "    except StopIteration:\n",
        "        break"
      ],
      "execution_count": 118,
      "outputs": [
        {
          "output_type": "stream",
          "name": "stdout",
          "text": [
            "Strasbourg\n",
            "Freiburg\n",
            "Stuttgart\n",
            "Vienna / Wien\n",
            "Hannover\n",
            "Berlin\n",
            "Zurich\n"
          ]
        }
      ]
    },
    {
      "cell_type": "markdown",
      "metadata": {
        "id": "-hvTfvg7VFUa"
      },
      "source": [
        "The sequential base types as well as the majority of the classes of the standard library of Python support iteration. The dictionary data type dict supports iterators as well. In this case the iteration runs over the keys of the dictionary:"
      ]
    },
    {
      "cell_type": "code",
      "metadata": {
        "colab": {
          "base_uri": "https://localhost:8080/"
        },
        "id": "BZFn5se_T-Bk",
        "outputId": "13f81b1a-4bc2-4160-c726-0cc7d336f229"
      },
      "source": [
        "capitals = { \n",
        "    \"France\":\"Paris\", \n",
        "    \"Netherlands\":\"Amsterdam\", \n",
        "    \"Germany\":\"Berlin\", \n",
        "    \"Switzerland\":\"Bern\", \n",
        "    \"Austria\":\"Vienna\"}\n",
        "\n",
        "for country in capitals:\n",
        "     print(\"The capital city of \" + country + \" is \" + capitals[country])"
      ],
      "execution_count": 127,
      "outputs": [
        {
          "output_type": "stream",
          "name": "stdout",
          "text": [
            "The capital city of France is Paris\n",
            "The capital city of Netherlands is Amsterdam\n",
            "The capital city of Germany is Berlin\n",
            "The capital city of Switzerland is Bern\n",
            "The capital city of Austria is Vienna\n"
          ]
        }
      ]
    },
    {
      "cell_type": "markdown",
      "metadata": {
        "id": "lyVGY7JkVVzb"
      },
      "source": [
        "Off-topic: Some readers may be confused to learn from our example that the capital of the Netherlands is not Den Haag (The Hague) but Amsterdam. Amsterdam is the capital of the Netherlands according to the constitution, even though the Dutch parliament and the Dutch government are situated in The Hague, as well as the Supreme Court and the Council of State.\n",
        "\n",
        "#### Implementing an Iterator as a Class\n",
        "\n",
        "One way to create iterators in Python is defining a class which implements the methods \\_\\_init__ and \\_\\_next__. We show this by implementing a class cycle, which can be used to cycle over an iterable object forever. In other words, an instance of this class returns the element of an iterable until it is exhausted. Then it repeats the sequence indefinitely"
      ]
    },
    {
      "cell_type": "code",
      "metadata": {
        "colab": {
          "base_uri": "https://localhost:8080/"
        },
        "id": "Aj2sRXBJVH5P",
        "outputId": "0c79a566-b34f-4230-eb43-b1595b0469d7"
      },
      "source": [
        "class Cycle(object):\n",
        "    \n",
        "    def __init__(self, iterable):\n",
        "        self.iterable = iterable\n",
        "        self.iter_obj = iter(iterable)\n",
        "\n",
        "    def __iter__(self):\n",
        "        return self\n",
        "\n",
        "    def __next__(self):\n",
        "        while True:\n",
        "            try:\n",
        "                next_obj = next(self.iter_obj)\n",
        "                return next_obj\n",
        "            except StopIteration:\n",
        "                self.iter_obj = iter(self.iterable)\n",
        "\n",
        "x = Cycle(\"abc\")\n",
        "\n",
        "for i in range(10):\n",
        "    print(next(x), end=\", \")"
      ],
      "execution_count": 128,
      "outputs": [
        {
          "output_type": "stream",
          "name": "stdout",
          "text": [
            "a, b, c, a, b, c, a, b, c, a, "
          ]
        }
      ]
    },
    {
      "cell_type": "markdown",
      "metadata": {
        "id": "lfBCu6p6W9aG"
      },
      "source": [
        "Even though the object-oriented approach to creating an iterator may be very interesting, this is not the pythonic method.\n",
        "\n",
        "The usual and easiest way to create an iterator in Python consists in using a generator function. You will learn this in the following chapter.\n",
        "\n",
        "## Generators\n",
        "\n",
        "On the surface, generators in Python look like functions, but there is both a syntactic and a semantic difference. One distinguishing characteristic is the yield statements. The yield statement turns a functions into a generator. A generator is a function which returns a generator object. This generator object can be seen like a function which produces a sequence of results instead of a single object. This sequence of values is produced by iterating over it, e.g. with a for loop. The values, on which can be iterated, are created by using the yield statement. The value created by the yield statement is the value following the yield keyword. The execution of the code stops when a yield statement is reached. The value behind the yield will be returned. The execution of the generator is interrupted now. As soon as \"next\" is called again on the generator object, the generator function will resume execution right after the yield statement in the code, where the last call is made. The execution will continue in the state in which the generator was left after the last yield. In other words, all the local variables still exist, because they are automatically saved between calls. This is a fundamental difference to functions: functions always start their execution at the beginning of the function body, regardless of where they had left in previous calls. They don't have any static or persistent values. There may be more than one yield statement in the code of a generator or the yield statement might be inside the body of a loop. If there is a return statement in the code of a generator, the execution will stop with a StopIteration exception error when this code is executed by the Python interpreter. The word \"generator\" is sometimes ambiguously used to mean both the generator function itself and the objects which are generated by a generator.\n",
        "\n",
        "Everything which can be done with a generator can also be implemented with a class based iterator as well. However, the crucial advantage of generators consists in automatically creating the methods \\_\\_iter__() and next(). Generators provide a very neat way of producing data which is huge or even infinite.\n",
        "\n",
        "The following is a simple example of a generator, which is capable of producing various city names.\n",
        "\n",
        "It's possible to create a generator object with this generator, which generates all the city names, one after the other."
      ]
    },
    {
      "cell_type": "code",
      "metadata": {
        "id": "mAOOP2sIV8Xx"
      },
      "source": [
        "def city_generator():\n",
        "    yield(\"Hamburg\")\n",
        "    yield(\"Konstanz\")\n",
        "    yield(\"Berlin\")\n",
        "    yield(\"Zurich\")\n",
        "    yield(\"Schaffhausen\")\n",
        "    yield(\"Stuttgart\")  "
      ],
      "execution_count": 141,
      "outputs": []
    },
    {
      "cell_type": "markdown",
      "metadata": {
        "id": "7WURZhrUYX4P"
      },
      "source": [
        "We created an iterator by calling city_generator():"
      ]
    },
    {
      "cell_type": "code",
      "metadata": {
        "id": "7VI73xS3YU68"
      },
      "source": [
        "city = city_generator()"
      ],
      "execution_count": 142,
      "outputs": []
    },
    {
      "cell_type": "code",
      "metadata": {
        "colab": {
          "base_uri": "https://localhost:8080/",
          "height": 283
        },
        "id": "WuitHGKCYaru",
        "outputId": "646bebc1-be1d-4884-d275-ec7541f92000"
      },
      "source": [
        "while True:\n",
        "    print(next(city))"
      ],
      "execution_count": 143,
      "outputs": [
        {
          "output_type": "stream",
          "name": "stdout",
          "text": [
            "Hamburg\n",
            "Konstanz\n",
            "Berlin\n",
            "Zurich\n",
            "Schaffhausen\n",
            "Stuttgart\n"
          ]
        },
        {
          "output_type": "error",
          "ename": "StopIteration",
          "evalue": "ignored",
          "traceback": [
            "\u001b[0;31m---------------------------------------------------------------------------\u001b[0m",
            "\u001b[0;31mStopIteration\u001b[0m                             Traceback (most recent call last)",
            "\u001b[0;32m<ipython-input-143-050f097342ec>\u001b[0m in \u001b[0;36m<module>\u001b[0;34m()\u001b[0m\n\u001b[1;32m      1\u001b[0m \u001b[0;32mwhile\u001b[0m \u001b[0;32mTrue\u001b[0m\u001b[0;34m:\u001b[0m\u001b[0;34m\u001b[0m\u001b[0;34m\u001b[0m\u001b[0m\n\u001b[0;32m----> 2\u001b[0;31m     \u001b[0mprint\u001b[0m\u001b[0;34m(\u001b[0m\u001b[0mnext\u001b[0m\u001b[0;34m(\u001b[0m\u001b[0mcity\u001b[0m\u001b[0;34m)\u001b[0m\u001b[0;34m)\u001b[0m\u001b[0;34m\u001b[0m\u001b[0;34m\u001b[0m\u001b[0m\n\u001b[0m",
            "\u001b[0;31mStopIteration\u001b[0m: "
          ]
        }
      ]
    },
    {
      "cell_type": "markdown",
      "metadata": {
        "id": "RKhfuFU_YtH-"
      },
      "source": [
        "As we can see, we have generated an iterator city in the interactive shell. Every call of the method next(city) returns another city. After the last city, i.e. Stuttgart, has been created, another call of next(city) raises an exception, saying that the iteration has stopped, i.e. StopIteration. \"Can we send a reset to an iterator?\" is a frequently asked question, so that it can start the iteration all over again. There is no reset, but it's possible to create another generator. This can be done e.g. by using the statement \"city = city_generator()\" again. Though at the first sight the yield statement looks like the return statement of a function, we can see in this example that there is a huge difference. If we had a return statement instead of a yield in the previous example, it would be a function. But this function would always return the first city \"Hamburg\" and never any of the other cities, i.e. \"Konstanz\", \"Berlin\", \"Zurich\", \"Schaffhausen\", and \"Stuttgart\"\n",
        "\n",
        "#### Method of Operation\n",
        "\n",
        "As we have elaborated in the introduction of this chapter, the generators offer a comfortable method to generate iterators, and that's why they are called generators\n",
        "\n",
        "Method of working:\n",
        "\n",
        "* A generator is called like a function. Its return value is an iterator, i.e. a generator object. The code of the generator will not be executed at this stage\n",
        "\n",
        "* The iterator can be used by calling the next method. The first time the execution starts like a function, i.e. the first line of code within the body of the iterator. The code is executed until a yield statement is reached\n",
        "\n",
        "* **yield** returns the value of the expression, which is following the keyword yield. This is like a function, but Python keeps track of the position of this yield and the state of the local variables is stored for the next call. At the next call, the execution continues with the statement following the yield statement and the variables have the same values as they had in the previous call\n",
        "\n",
        "* The iterator is finished, if the generator body is completely worked through or if the program flow encounters a return statement without a value\n",
        "\n",
        "##### Example 1\n",
        "\n",
        "We will illustrate this behaviour in the following example. The generator count creates an iterator which creates a sequence of values by counting from the start value 'firstval' and using 'step' as the increment for counting:"
      ]
    },
    {
      "cell_type": "code",
      "metadata": {
        "colab": {
          "base_uri": "https://localhost:8080/"
        },
        "id": "-Kkx-lqyYe30",
        "outputId": "ecb09624-ff25-4489-96ab-a5761b74e11b"
      },
      "source": [
        "def count(firstval=0, step=1):\n",
        "    x = firstval\n",
        "    while True:\n",
        "        yield x\n",
        "        x += step\n",
        "        \n",
        "counter = count() # count will start with 0\n",
        "for i in range(10):\n",
        "    print(next(counter), end=\", \")\n",
        "\n",
        "start_value = 2.1\n",
        "stop_value = 0.3\n",
        "print(\"\\nNew counter:\")\n",
        "counter = count(start_value, stop_value)\n",
        "for i in range(10):\n",
        "    new_value = next(counter)\n",
        "    print(f\"{new_value:2.2f}\", end=\", \")"
      ],
      "execution_count": 144,
      "outputs": [
        {
          "output_type": "stream",
          "name": "stdout",
          "text": [
            "0, 1, 2, 3, 4, 5, 6, 7, 8, 9, \n",
            "New counter:\n",
            "2.10, 2.40, 2.70, 3.00, 3.30, 3.60, 3.90, 4.20, 4.50, 4.80, "
          ]
        }
      ]
    },
    {
      "cell_type": "markdown",
      "metadata": {
        "id": "dNgvgoCNZxT7"
      },
      "source": [
        "##### Example 2. Fibonacci as a Generator\n",
        "\n",
        "The Fibonacci sequence is named after Leonardo of Pisa, who was known as Fibonacci (a contraction of filius Bonacci, \"son of Bonaccio\"). In his textbook Liber Abaci, which appeared in the year 1202) he had an exercise about the rabbits and their breeding: It starts with a newly-born pair of rabbits, i.e. a male and a female. It takes one month until they can mate. At the end of the second month the female gives birth to a new pair of rabbits. Now let's suppose that every female rabbit will bring forth another pair of rabbits every month after the end of the first month. We have to mention that Fibonacci's rabbits never die. They question is how large the population will be after a certain period of time.\n",
        "\n",
        "This produces a sequence of numbers: 0, 1, 1, 2, 3, 5, 8, 13\n",
        "\n",
        "This sequence can be defined in mathematical terms like this:\n",
        "\n",
        "$F_n = F_{n - 1} + F_{n - 2}$ with the seed values: $F_0 = 0$ and $F_1 = 1$"
      ]
    },
    {
      "cell_type": "code",
      "metadata": {
        "colab": {
          "base_uri": "https://localhost:8080/"
        },
        "id": "jkIKEsZCZpK5",
        "outputId": "a2586920-20db-4b02-d111-f9f86d3a588f"
      },
      "source": [
        "def fibonacci(n):\n",
        "    \"\"\" A generator for creating the Fibonacci numbers \"\"\"\n",
        "    a, b, counter = 0, 1, 0\n",
        "    while True:\n",
        "        if (counter > n): \n",
        "            return\n",
        "        yield a\n",
        "        a, b = b, a + b\n",
        "        counter += 1\n",
        "f = fibonacci(5)\n",
        "for x in f:\n",
        "    print(x, \" \", end=\"\") # \n",
        "print()"
      ],
      "execution_count": 146,
      "outputs": [
        {
          "output_type": "stream",
          "name": "stdout",
          "text": [
            "0  1  1  2  3  5  \n"
          ]
        }
      ]
    },
    {
      "cell_type": "markdown",
      "metadata": {
        "id": "ZFGjjIFCaVb6"
      },
      "source": [
        "#### Using a 'return' in a Generator\n",
        "\n",
        "Since Python 3.3, generators can also use return statements, but a generator still needs at least one yield statement to be a generator! A return statement inside of a generator is equivalent to raise StopIteration()\n",
        "\n",
        "Let's have a look at a generator in which we raise StopIteration:"
      ]
    },
    {
      "cell_type": "code",
      "metadata": {
        "id": "vQea0R5PaKeW"
      },
      "source": [
        "def gen():\n",
        "    yield 1\n",
        "    raise StopIteration(42)\n",
        "    yield 2"
      ],
      "execution_count": 147,
      "outputs": []
    },
    {
      "cell_type": "code",
      "metadata": {
        "id": "D5SWTO7nafH5"
      },
      "source": [
        "g = gen()"
      ],
      "execution_count": 148,
      "outputs": []
    },
    {
      "cell_type": "code",
      "metadata": {
        "colab": {
          "base_uri": "https://localhost:8080/"
        },
        "id": "81SfzER9aiC_",
        "outputId": "aed9f5a8-db52-4168-967c-5cc2f665c61a"
      },
      "source": [
        "next(g)"
      ],
      "execution_count": 149,
      "outputs": [
        {
          "output_type": "execute_result",
          "data": {
            "text/plain": [
              "1"
            ]
          },
          "metadata": {},
          "execution_count": 149
        }
      ]
    },
    {
      "cell_type": "code",
      "metadata": {
        "colab": {
          "base_uri": "https://localhost:8080/",
          "height": 334
        },
        "id": "vu9pRyocajcb",
        "outputId": "d49fe40a-d5e9-4a06-de5e-194233c5d541"
      },
      "source": [
        "next(g)"
      ],
      "execution_count": 150,
      "outputs": [
        {
          "output_type": "error",
          "ename": "RuntimeError",
          "evalue": "ignored",
          "traceback": [
            "\u001b[0;31m---------------------------------------------------------------------------\u001b[0m",
            "\u001b[0;31mStopIteration\u001b[0m                             Traceback (most recent call last)",
            "\u001b[0;32m<ipython-input-147-6735830131e8>\u001b[0m in \u001b[0;36mgen\u001b[0;34m()\u001b[0m\n\u001b[1;32m      2\u001b[0m     \u001b[0;32myield\u001b[0m \u001b[0;36m1\u001b[0m\u001b[0;34m\u001b[0m\u001b[0;34m\u001b[0m\u001b[0m\n\u001b[0;32m----> 3\u001b[0;31m     \u001b[0;32mraise\u001b[0m \u001b[0mStopIteration\u001b[0m\u001b[0;34m(\u001b[0m\u001b[0;36m42\u001b[0m\u001b[0;34m)\u001b[0m\u001b[0;34m\u001b[0m\u001b[0;34m\u001b[0m\u001b[0m\n\u001b[0m\u001b[1;32m      4\u001b[0m     \u001b[0;32myield\u001b[0m \u001b[0;36m2\u001b[0m\u001b[0;34m\u001b[0m\u001b[0;34m\u001b[0m\u001b[0m\n",
            "\u001b[0;31mStopIteration\u001b[0m: 42",
            "\nThe above exception was the direct cause of the following exception:\n",
            "\u001b[0;31mRuntimeError\u001b[0m                              Traceback (most recent call last)",
            "\u001b[0;32m<ipython-input-150-e734f8aca5ac>\u001b[0m in \u001b[0;36m<module>\u001b[0;34m()\u001b[0m\n\u001b[0;32m----> 1\u001b[0;31m \u001b[0mnext\u001b[0m\u001b[0;34m(\u001b[0m\u001b[0mg\u001b[0m\u001b[0;34m)\u001b[0m\u001b[0;34m\u001b[0m\u001b[0;34m\u001b[0m\u001b[0m\n\u001b[0m",
            "\u001b[0;31mRuntimeError\u001b[0m: generator raised StopIteration"
          ]
        }
      ]
    },
    {
      "cell_type": "markdown",
      "metadata": {
        "id": "gcUBKXCran5r"
      },
      "source": [
        "We demonstrate now that return is \"nearly\" equivalent to raising the 'StopIteration' exception:"
      ]
    },
    {
      "cell_type": "code",
      "metadata": {
        "id": "2WcMWF1zalDS"
      },
      "source": [
        "def gen():\n",
        "    yield 1\n",
        "    return 42\n",
        "    yield 2"
      ],
      "execution_count": 151,
      "outputs": []
    },
    {
      "cell_type": "code",
      "metadata": {
        "colab": {
          "base_uri": "https://localhost:8080/"
        },
        "id": "TkfZMFSoaqZl",
        "outputId": "eeb16b0f-4b13-4445-9650-2d2e812959c1"
      },
      "source": [
        "g = gen()\n",
        "next(g)"
      ],
      "execution_count": 152,
      "outputs": [
        {
          "output_type": "execute_result",
          "data": {
            "text/plain": [
              "1"
            ]
          },
          "metadata": {},
          "execution_count": 152
        }
      ]
    },
    {
      "cell_type": "code",
      "metadata": {
        "colab": {
          "base_uri": "https://localhost:8080/",
          "height": 164
        },
        "id": "KxDbEh7lasQf",
        "outputId": "6a1c70b9-ed87-4f02-9080-7ff5ea32eeff"
      },
      "source": [
        "next(g)"
      ],
      "execution_count": 153,
      "outputs": [
        {
          "output_type": "error",
          "ename": "StopIteration",
          "evalue": "ignored",
          "traceback": [
            "\u001b[0;31m---------------------------------------------------------------------------\u001b[0m",
            "\u001b[0;31mStopIteration\u001b[0m                             Traceback (most recent call last)",
            "\u001b[0;32m<ipython-input-153-e734f8aca5ac>\u001b[0m in \u001b[0;36m<module>\u001b[0;34m()\u001b[0m\n\u001b[0;32m----> 1\u001b[0;31m \u001b[0mnext\u001b[0m\u001b[0;34m(\u001b[0m\u001b[0mg\u001b[0m\u001b[0;34m)\u001b[0m\u001b[0;34m\u001b[0m\u001b[0;34m\u001b[0m\u001b[0m\n\u001b[0m",
            "\u001b[0;31mStopIteration\u001b[0m: 42"
          ]
        }
      ]
    },
    {
      "cell_type": "markdown",
      "metadata": {
        "id": "ExAuiZR4awZd"
      },
      "source": [
        "#### send Method / Coroutines\n",
        "\n",
        "Generators can not only send objects but also receive objects. Sending a message, i.e. an object, into the generator can be achieved by applying the send method to the generator object. Be aware of the fact that send both sends a value to the generator and returns the value yielded by the generator. We will demonstrate this behavior in the following simple example of a coroutine:"
      ]
    },
    {
      "cell_type": "code",
      "metadata": {
        "colab": {
          "base_uri": "https://localhost:8080/"
        },
        "id": "V2yA1HMdatsW",
        "outputId": "ecb25538-16d9-43c3-9bfb-cabc9d916062"
      },
      "source": [
        "def simple_coroutine():\n",
        "    print(\"coroutine has been started!\")\n",
        "    while True:\n",
        "        x = yield \"foo\"\n",
        "        print(\"coroutine received: \", x)\n",
        "     \n",
        " \n",
        "cr = simple_coroutine()\n",
        "cr"
      ],
      "execution_count": 154,
      "outputs": [
        {
          "output_type": "execute_result",
          "data": {
            "text/plain": [
              "<generator object simple_coroutine at 0x7fa421fd89d0>"
            ]
          },
          "metadata": {},
          "execution_count": 154
        }
      ]
    },
    {
      "cell_type": "code",
      "metadata": {
        "colab": {
          "base_uri": "https://localhost:8080/",
          "height": 54
        },
        "id": "YxfOmihUa9BP",
        "outputId": "1d0697b6-0d8d-4ee8-ede4-d4ccea0d72e0"
      },
      "source": [
        "next(cr)"
      ],
      "execution_count": 155,
      "outputs": [
        {
          "output_type": "stream",
          "name": "stdout",
          "text": [
            "coroutine has been started!\n"
          ]
        },
        {
          "output_type": "execute_result",
          "data": {
            "application/vnd.google.colaboratory.intrinsic+json": {
              "type": "string"
            },
            "text/plain": [
              "'foo'"
            ]
          },
          "metadata": {},
          "execution_count": 155
        }
      ]
    },
    {
      "cell_type": "code",
      "metadata": {
        "colab": {
          "base_uri": "https://localhost:8080/"
        },
        "id": "AJuoyAOTbCqU",
        "outputId": "2ccafe07-df18-41f2-dff7-64991414dee7"
      },
      "source": [
        "ret_value = cr.send(\"Hi\")\n",
        "print(\"'send' returned: \", ret_value)"
      ],
      "execution_count": 156,
      "outputs": [
        {
          "output_type": "stream",
          "name": "stdout",
          "text": [
            "coroutine received:  Hi\n",
            "'send' returned:  foo\n"
          ]
        }
      ]
    },
    {
      "cell_type": "markdown",
      "metadata": {
        "id": "VH9P-HN6oM6U"
      },
      "source": [
        "We had to call next on the generator first, because the generator needed to be started. Using send to a generator which hasn't been started leads to an exception.\n",
        "\n",
        "To use the send method, the generator must wait for a yield statement so that the data sent can be processed or assigned to the variable on the left. What we haven't said so far: A next call also sends and receives. It always sends a None object. The values sent by \"next\" and \"send\" are assigned to a variable within the generator: this variable is called new_counter_val in the following example.\n",
        "\n",
        "The following example modifies the generator 'count' from the previous subchapter by adding a send feature:"
      ]
    },
    {
      "cell_type": "code",
      "metadata": {
        "colab": {
          "base_uri": "https://localhost:8080/"
        },
        "id": "77NSbjI8bFlR",
        "outputId": "aef06c6a-2f36-4a04-fb80-43664694a283"
      },
      "source": [
        "def count(firstval=0, step=1):\n",
        "    counter = firstval\n",
        "    while True:\n",
        "        new_counter_val = yield counter\n",
        "        if new_counter_val is None:\n",
        "            counter += step\n",
        "        else:\n",
        "            counter = new_counter_val\n",
        "            \n",
        "start_value = 2.1\n",
        "stop_value = 0.3\n",
        "counter = count(start_value, stop_value) \n",
        "for i in range(10):\n",
        "    new_value = next(counter)\n",
        "    print(f\"{new_value:2.2f}\", end=\", \")\n",
        " \n",
        "print(\"set current count value to another value:\")\n",
        "counter.send(100.5)\n",
        "for i in range(10):\n",
        "    new_value = next(counter)\n",
        "    print(f\"{new_value:2.2f}\", end=\", \")"
      ],
      "execution_count": 157,
      "outputs": [
        {
          "output_type": "stream",
          "name": "stdout",
          "text": [
            "2.10, 2.40, 2.70, 3.00, 3.30, 3.60, 3.90, 4.20, 4.50, 4.80, set current count value to another value:\n",
            "100.80, 101.10, 101.40, 101.70, 102.00, 102.30, 102.60, 102.90, 103.20, 103.50, "
          ]
        }
      ]
    },
    {
      "cell_type": "markdown",
      "metadata": {
        "id": "TeT5tUfav6nK"
      },
      "source": [
        "#### Another Example for send"
      ]
    },
    {
      "cell_type": "code",
      "metadata": {
        "id": "0iyp_UhSv2vK"
      },
      "source": [
        "from random import choice\n",
        "\n",
        "def song_generator(song_list):\n",
        "    new_song = None\n",
        "    while True:\n",
        "        if new_song != None:\n",
        "            if new_song not in song_list:\n",
        "                song_list.append(new_song)\n",
        "            new_song = yield new_song\n",
        "        else:\n",
        "            new_song = yield(choice(song_list))           \n",
        "\n",
        "songs = [\"Her Şeyi Yak - Sezen Aksu\", \n",
        "         \"Bluesette - Toots Thielemans\",\n",
        "         \"Six Marimbas - Steve Reich\",\n",
        "         \"Riverside - Agnes Obel\",\n",
        "         \"Not for Radio - Nas\",\n",
        "         \"What's going on - Taste\",\n",
        "         \"On Stream - Nils Petter Molvær\",\n",
        "         \"La' Inta Habibi - Fayrouz\",\n",
        "         \"Ik Leef Niet Meer Voor Jou - Marco Borsato\",\n",
        "         \"Δέκα λεπτά - Αθηνά Ανδρεάδη\"]"
      ],
      "execution_count": 159,
      "outputs": []
    },
    {
      "cell_type": "code",
      "metadata": {
        "id": "3_aAqTlEwFgr"
      },
      "source": [
        "radio_program = song_generator(songs)"
      ],
      "execution_count": 160,
      "outputs": []
    },
    {
      "cell_type": "code",
      "metadata": {
        "colab": {
          "base_uri": "https://localhost:8080/",
          "height": 37
        },
        "id": "y15obUDowWOB",
        "outputId": "6238b04b-1589-4047-d10b-96f8e8ea7cec"
      },
      "source": [
        "next(radio_program)"
      ],
      "execution_count": 161,
      "outputs": [
        {
          "output_type": "execute_result",
          "data": {
            "application/vnd.google.colaboratory.intrinsic+json": {
              "type": "string"
            },
            "text/plain": [
              "'Her Şeyi Yak - Sezen Aksu'"
            ]
          },
          "metadata": {},
          "execution_count": 161
        }
      ]
    },
    {
      "cell_type": "code",
      "metadata": {
        "colab": {
          "base_uri": "https://localhost:8080/"
        },
        "id": "jLLqcSxDwYO5",
        "outputId": "d5ae3698-2e2e-48c6-b3e8-6cce54b57f14"
      },
      "source": [
        "for i in range(3):\n",
        "    print(next(radio_program))"
      ],
      "execution_count": 162,
      "outputs": [
        {
          "output_type": "stream",
          "name": "stdout",
          "text": [
            "What's going on - Taste\n",
            "Ik Leef Niet Meer Voor Jou - Marco Borsato\n",
            "Bluesette - Toots Thielemans\n"
          ]
        }
      ]
    },
    {
      "cell_type": "code",
      "metadata": {
        "colab": {
          "base_uri": "https://localhost:8080/",
          "height": 37
        },
        "id": "JvdDV3edwarK",
        "outputId": "c5f20906-6994-48f8-b388-950e7d8db7e6"
      },
      "source": [
        "radio_program.send(\"Distorted Angels - Archive\")"
      ],
      "execution_count": 163,
      "outputs": [
        {
          "output_type": "execute_result",
          "data": {
            "application/vnd.google.colaboratory.intrinsic+json": {
              "type": "string"
            },
            "text/plain": [
              "'Distorted Angels - Archive'"
            ]
          },
          "metadata": {},
          "execution_count": 163
        }
      ]
    },
    {
      "cell_type": "code",
      "metadata": {
        "colab": {
          "base_uri": "https://localhost:8080/"
        },
        "id": "y2tt_m61w19O",
        "outputId": "03298010-63b2-471b-a0ab-518fed4f318b"
      },
      "source": [
        "songs"
      ],
      "execution_count": 164,
      "outputs": [
        {
          "output_type": "execute_result",
          "data": {
            "text/plain": [
              "['Her Şeyi Yak - Sezen Aksu',\n",
              " 'Bluesette - Toots Thielemans',\n",
              " 'Six Marimbas - Steve Reich',\n",
              " 'Riverside - Agnes Obel',\n",
              " 'Not for Radio - Nas',\n",
              " \"What's going on - Taste\",\n",
              " 'On Stream - Nils Petter Molvær',\n",
              " \"La' Inta Habibi - Fayrouz\",\n",
              " 'Ik Leef Niet Meer Voor Jou - Marco Borsato',\n",
              " 'Δέκα λεπτά - Αθηνά Ανδρεάδη',\n",
              " 'Distorted Angels - Archive']"
            ]
          },
          "metadata": {},
          "execution_count": 164
        }
      ]
    },
    {
      "cell_type": "markdown",
      "metadata": {
        "id": "SAcsoWssxFJx"
      },
      "source": [
        "So far, we could change the behavior of the song interator by sending a new song, i.e. a title plus the performer. We will extend the generator now. We make it possible to send a new song list. We have to send a tuple to the new iterator, either a tuple:\n",
        "\n",
        "(, ) or\n",
        "\n",
        "(\"-songlist-\", )\n"
      ]
    },
    {
      "cell_type": "code",
      "metadata": {
        "id": "FwsNaRYNw4eF"
      },
      "source": [
        "from random import choice\n",
        "def song_generator(song_list):\n",
        "    new_song = None\n",
        "    while True:\n",
        "        if new_song != None:\n",
        "            if new_song[0] == \"-songlist-\":\n",
        "                song_list = new_song[1]\n",
        "                new_song = yield(choice(song_list)) \n",
        "            else:\n",
        "                title, performer = new_song\n",
        "                new_song = title + \" - \" + performer\n",
        "                if new_song not in song_list:\n",
        "                    song_list.append(new_song)\n",
        "                new_song = yield new_song\n",
        "        else:\n",
        "            new_song = yield(choice(song_list)) "
      ],
      "execution_count": 165,
      "outputs": []
    },
    {
      "cell_type": "code",
      "metadata": {
        "id": "H6JfIHR8yBJS"
      },
      "source": [
        "songs1 = [\"Après un Rêve - Gabriel Fauré\"\n",
        "         \"On Stream - Nils Petter Molvær\",\n",
        "         \"Der Wanderer Michael - Michael Wollny\",\n",
        "         \"Les barricades mystérieuses - Barbara Thompson\",\n",
        "         \"Monday - Ludovico Einaudi\"]\n",
        "\n",
        "songs2 = [\"Dünyadan Uszak - Pinhani\", \n",
        "          \"Again - Archive\",\n",
        "          \"If I had a Hear - Fever Ray\"\n",
        "          \"Every you, every me - Placebo\",\n",
        "          \"Familiar - Angnes Obel\"]"
      ],
      "execution_count": 166,
      "outputs": []
    },
    {
      "cell_type": "code",
      "metadata": {
        "id": "YcgDODlKyDqW"
      },
      "source": [
        "radio_prog = song_generator(songs1)"
      ],
      "execution_count": 167,
      "outputs": []
    },
    {
      "cell_type": "code",
      "metadata": {
        "colab": {
          "base_uri": "https://localhost:8080/"
        },
        "id": "JNKgWdaJyF-g",
        "outputId": "bcac47a1-ed77-45f8-c285-007ba5c7c01a"
      },
      "source": [
        "for i in range(5):\n",
        "    print(next(radio_prog))"
      ],
      "execution_count": 168,
      "outputs": [
        {
          "output_type": "stream",
          "name": "stdout",
          "text": [
            "Après un Rêve - Gabriel FauréOn Stream - Nils Petter Molvær\n",
            "Monday - Ludovico Einaudi\n",
            "Les barricades mystérieuses - Barbara Thompson\n",
            "Les barricades mystérieuses - Barbara Thompson\n",
            "Der Wanderer Michael - Michael Wollny\n"
          ]
        }
      ]
    },
    {
      "cell_type": "markdown",
      "metadata": {
        "id": "6_b4LDctyNWd"
      },
      "source": [
        "We change the radio program now by exchanging the song list:"
      ]
    },
    {
      "cell_type": "code",
      "metadata": {
        "colab": {
          "base_uri": "https://localhost:8080/",
          "height": 37
        },
        "id": "Cf-7fGwRyJMB",
        "outputId": "e1d74280-07a5-4e69-aa6a-2fb7964c2185"
      },
      "source": [
        "radio_prog.send((\"-songlist-\", songs2))"
      ],
      "execution_count": 169,
      "outputs": [
        {
          "output_type": "execute_result",
          "data": {
            "application/vnd.google.colaboratory.intrinsic+json": {
              "type": "string"
            },
            "text/plain": [
              "'Again - Archive'"
            ]
          },
          "metadata": {},
          "execution_count": 169
        }
      ]
    },
    {
      "cell_type": "code",
      "metadata": {
        "colab": {
          "base_uri": "https://localhost:8080/"
        },
        "id": "FHMqWSGoyQZH",
        "outputId": "09b9dcf0-1905-4240-d0bb-fdbee5f272fb"
      },
      "source": [
        "for i in range(5):\n",
        "    print(next(radio_prog))"
      ],
      "execution_count": 170,
      "outputs": [
        {
          "output_type": "stream",
          "name": "stdout",
          "text": [
            "Again - Archive\n",
            "Again - Archive\n",
            "Again - Archive\n",
            "Dünyadan Uszak - Pinhani\n",
            "Dünyadan Uszak - Pinhani\n"
          ]
        }
      ]
    },
    {
      "cell_type": "markdown",
      "metadata": {
        "id": "J9-hgjCeyVKN"
      },
      "source": [
        "#### The throw Method\n",
        "\n",
        "The throw() method raises an exception at the point where the generator was paused, and returns the next value yielded by the generator. It raises StopIteration if the generator exits without yielding another value. The generator has to catch the passed-in exception, otherwise the exception will be propagated to the caller.\n",
        "\n",
        "The infinite loop of our count generator from our previous example keeps yielding the elements of the sequential data, but we don't have any information about the index or the state of the variables of \"counter\". We can get this information, i.e. the state of the variables in count by throwing an exception with the throw method. We catch this exception inside of the generator and print the state of the values of \"count\":"
      ]
    },
    {
      "cell_type": "code",
      "metadata": {
        "id": "-turynimySsH"
      },
      "source": [
        "def count(firstval=0, step=1):\n",
        "    counter = firstval\n",
        "    while True:\n",
        "        try:\n",
        "            new_counter_val = yield counter\n",
        "            if new_counter_val is None:\n",
        "                counter += step\n",
        "            else:\n",
        "                counter = new_counter_val\n",
        "        except Exception:\n",
        "            yield (firstval, step, counter)"
      ],
      "execution_count": 171,
      "outputs": []
    },
    {
      "cell_type": "markdown",
      "metadata": {
        "id": "YILoAHLP0njM"
      },
      "source": [
        "In the following code block, we will show how to use this generator:"
      ]
    },
    {
      "cell_type": "code",
      "metadata": {
        "colab": {
          "base_uri": "https://localhost:8080/"
        },
        "id": "J7CMCOS90knr",
        "outputId": "a059200d-3ad2-4567-9f60-8f5fd5603485"
      },
      "source": [
        "c = count()\n",
        "for i in range(6):\n",
        "    print(next(c))\n",
        "print(\"Let us see what the state of the iterator is:\")\n",
        "state_of_count = c.throw(Exception)\n",
        "print(state_of_count)\n",
        "print(\"now, we can continue:\")\n",
        "for i in range(3):\n",
        "    print(next(c))"
      ],
      "execution_count": 172,
      "outputs": [
        {
          "output_type": "stream",
          "name": "stdout",
          "text": [
            "0\n",
            "1\n",
            "2\n",
            "3\n",
            "4\n",
            "5\n",
            "Let us see what the state of the iterator is:\n",
            "(0, 1, 5)\n",
            "now, we can continue:\n",
            "5\n",
            "6\n",
            "7\n"
          ]
        }
      ]
    },
    {
      "cell_type": "markdown",
      "metadata": {
        "id": "UyfWP6-H0ttY"
      },
      "source": [
        "We can improve the previous example by defining our own exception class StateOfGenerator:"
      ]
    },
    {
      "cell_type": "code",
      "metadata": {
        "id": "QptizT6l0qBT"
      },
      "source": [
        "class StateOfGenerator(Exception):\n",
        "     def __init__(self, message=None):\n",
        "         self.message = message\n",
        "\n",
        "def count(firstval=0, step=1):\n",
        "    counter = firstval\n",
        "    while True:\n",
        "        try:\n",
        "            new_counter_val = yield counter\n",
        "            if new_counter_val is None:\n",
        "                counter += step\n",
        "            else:\n",
        "                counter = new_counter_val\n",
        "        except StateOfGenerator:\n",
        "            yield (firstval, step, counter)"
      ],
      "execution_count": 173,
      "outputs": []
    },
    {
      "cell_type": "markdown",
      "metadata": {
        "id": "79sgYIdx0y-e"
      },
      "source": [
        "We can use the previous generator like this:"
      ]
    },
    {
      "cell_type": "code",
      "metadata": {
        "colab": {
          "base_uri": "https://localhost:8080/"
        },
        "id": "hF88Xqzz0wiX",
        "outputId": "2ec86623-0a4e-4566-da7f-c7d8c025e113"
      },
      "source": [
        "c = count()\n",
        "for i in range(3):\n",
        "    print(next(c))\n",
        "print(\"Let us see what the state of the iterator is:\")\n",
        "i = c.throw(StateOfGenerator)\n",
        "print(i)\n",
        "print(\"now, we can continue:\")\n",
        "for i in range(3):\n",
        "    print(next(c))"
      ],
      "execution_count": 174,
      "outputs": [
        {
          "output_type": "stream",
          "name": "stdout",
          "text": [
            "0\n",
            "1\n",
            "2\n",
            "Let us see what the state of the iterator is:\n",
            "(0, 1, 2)\n",
            "now, we can continue:\n",
            "2\n",
            "3\n",
            "4\n"
          ]
        }
      ]
    },
    {
      "cell_type": "markdown",
      "metadata": {
        "id": "vdw8gXki3cvs"
      },
      "source": [
        "#### yield from\n",
        "\n",
        "\"yield from\" is available since Python 3.3! The yield from <expr> statement can be used inside the body of a generator. <expr> has to be an expression evaluating to an iterable, from which an iterator will be extracted. The iterator is run to exhaustion, i.e. until it encounters a StopIteration exception. This iterator yields and receives values to or from the caller of the generator, i.e. the one which contains the yield from statement.\n",
        "\n",
        "We can learn from the following example by looking at the two generators 'gen1' and 'gen2' that the yield from from gen2 are substituting the for loops of 'gen1':"
      ]
    },
    {
      "cell_type": "code",
      "metadata": {
        "colab": {
          "base_uri": "https://localhost:8080/"
        },
        "id": "S6dp_plh01SD",
        "outputId": "e2b8837a-a23b-4aa4-f582-590041179a94"
      },
      "source": [
        "def gen1():\n",
        "    for char in \"Python\":\n",
        "        yield char\n",
        "    for i in range(5):\n",
        "        yield i\n",
        "\n",
        "def gen2():\n",
        "    yield from \"Python\"\n",
        "    yield from range(5)\n",
        "\n",
        "g1 = gen1()\n",
        "g2 = gen2()\n",
        "print(\"g1: \", end=\", \")\n",
        "for x in g1:\n",
        "    print(x, end=\", \")\n",
        "print(\"\\ng2: \", end=\", \")\n",
        "for x in g2:\n",
        "    print(x, end=\", \")\n",
        "print()"
      ],
      "execution_count": 183,
      "outputs": [
        {
          "output_type": "stream",
          "name": "stdout",
          "text": [
            "g1: , P, y, t, h, o, n, 0, 1, 2, 3, 4, \n",
            "g2: , P, y, t, h, o, n, 0, 1, 2, 3, 4, \n"
          ]
        }
      ]
    },
    {
      "cell_type": "markdown",
      "metadata": {
        "id": "Ch-RJlj546HW"
      },
      "source": [
        "We can see from the output that both generators are the same.\n",
        "\n",
        "The benefit of a yield from statement can be seen as a way to split a generator into multiple generators. That's what we have done in our previous example and we will demonstrate this more explicitely in the following example:"
      ]
    },
    {
      "cell_type": "code",
      "metadata": {
        "colab": {
          "base_uri": "https://localhost:8080/"
        },
        "id": "p5V8-Q9C43e-",
        "outputId": "3f9e840a-952e-4533-81da-c6e4b9492132"
      },
      "source": [
        "def cities():\n",
        "    for city in [\"Berlin\", \"Hamburg\", \"Munich\", \"Freiburg\"]:\n",
        "        yield city\n",
        "\n",
        "def squares():\n",
        "    for number in range(10):\n",
        "        yield number ** 2\n",
        "        \n",
        "def generator_all_in_one():\n",
        "    for city in cities():\n",
        "        yield city\n",
        "    for number in squares():\n",
        "        yield number\n",
        "        \n",
        "def generator_splitted():\n",
        "    yield from cities()\n",
        "    yield from squares()\n",
        "    \n",
        "lst1 = [el for el in generator_all_in_one()]\n",
        "lst2 = [el for el in generator_splitted()]\n",
        "print(lst1 == lst2)"
      ],
      "execution_count": 184,
      "outputs": [
        {
          "output_type": "stream",
          "name": "stdout",
          "text": [
            "True\n"
          ]
        }
      ]
    },
    {
      "cell_type": "markdown",
      "metadata": {
        "id": "oDOnC6Ut5C3x"
      },
      "source": [
        "The previous code returns True because the generators generator_all_in_one and generator_splitted yield the same elements. This means that if the \\<expr\\> from the yield from is another generator, the effect is the same as if the body of the sub‐generator were inlined at the point of the yield from statement. Furthermore, the subgenerator is allowed to execute a return statement with a value, and that value becomes the value of the yield from expression. We demonstrate this with the following little script:"
      ]
    },
    {
      "cell_type": "code",
      "metadata": {
        "colab": {
          "base_uri": "https://localhost:8080/"
        },
        "id": "Ax0kNlSy4_bU",
        "outputId": "4880dd09-b436-48cc-eaa7-598c69bc4ffe"
      },
      "source": [
        "def subgenerator():\n",
        "    yield 1\n",
        "    return 42\n",
        "    yield 6\n",
        "\n",
        "def delegating_generator():\n",
        "    x = yield from subgenerator()\n",
        "    print(x)\n",
        "\n",
        "for x in delegating_generator():\n",
        "    print(x)"
      ],
      "execution_count": 186,
      "outputs": [
        {
          "output_type": "stream",
          "name": "stdout",
          "text": [
            "1\n",
            "42\n"
          ]
        }
      ]
    },
    {
      "cell_type": "markdown",
      "metadata": {
        "id": "SG5e7la86eBz"
      },
      "source": [
        "The full semantics of the yield from expression is described in six points in \"PEP 380 -- Syntax for Delegating to a Subgenerator\" in terms of the generator protocol:\n",
        "\n",
        "* Any values that the iterator yields are passed directly to the caller\n",
        "* Any values sent to the delegating generator using send() are passed directly to the iterator. If the sent value is None, the iterator's next() method is called. If the sent value is not None, the iterator's send() method is called. If the call raises StopIteration, the delegating generator is resumed. Any other exception is propagated to the delegating generator\n",
        "* Exceptions other than GeneratorExit thrown into the delegating generator are passed to the throw() method of the iterator. If the call raises StopIteration, the delegating generator is resumed. Any other exception is propagated to the delegating generator\n",
        "* If a GeneratorExit exception is thrown into the delegating generator, or the close() method of the delegating generator is called, then the close() method of the iterator is called if it has one. If this call results in an exception, it is propagated to the delegating generator. Otherwise, GeneratorExit is raised in the delegating generator\n",
        "* The value of the yield from expression is the first argument to the StopIteration exception raised by the iterator when it terminates\n",
        "* return expr in a generator causes StopIteration(expr) to be raised upon exit from the generator\n",
        "\n",
        "#### Recursive Generators\n",
        "\n",
        "The following example is a generator to create all the permutations of a given list of items.\n",
        "\n",
        "For those who don't know what permutations are, we have a short introduction:\n",
        "\n",
        "Formal Definition: The term \"permutation\" stems from the latin verb \"permutare\" which means A permutation is a rearrangement of the elements of an ordered list. In other words: Every arrangement of n elements is called a permutation.\n",
        "\n",
        "In the following lines we show you all the permutations of the letter a, b and c:\n",
        "\n",
        "```\n",
        "a b c \n",
        "a c b \n",
        "b a c \n",
        "b c a \n",
        "c a b \n",
        "c b a \n",
        "```\n",
        "\n",
        "The number of permutations on a set of n elements is given by n!\n",
        "\n",
        "$n! = n(n-1)(n-2) ... 2 * 1$\n",
        "\n",
        "n! is called the factorial of n.\n",
        "\n",
        "The permutation generator can be called with an arbitrary list of objects. The iterator returned by this generator generates all the possible permutations:"
      ]
    },
    {
      "cell_type": "code",
      "metadata": {
        "colab": {
          "base_uri": "https://localhost:8080/"
        },
        "id": "mlgzC5sC6JyU",
        "outputId": "a977c82a-ad65-47b2-bf42-d2cd542c6222"
      },
      "source": [
        "def permutations(items):\n",
        "    n = len(items)\n",
        "    if n==0: yield []\n",
        "    else:\n",
        "        for i in range(len(items)):\n",
        "            for cc in permutations(items[:i]+items[i+1:]):\n",
        "                yield [items[i]]+cc\n",
        "\n",
        "for p in permutations(['r','e','d']): print(''.join(p))\n",
        "for p in permutations(list(\"game\")): print(''.join(p) + \", \", end=\"\")"
      ],
      "execution_count": 187,
      "outputs": [
        {
          "output_type": "stream",
          "name": "stdout",
          "text": [
            "red\n",
            "rde\n",
            "erd\n",
            "edr\n",
            "dre\n",
            "der\n",
            "game, gaem, gmae, gmea, geam, gema, agme, agem, amge, ameg, aegm, aemg, mgae, mgea, mage, maeg, mega, meag, egam, egma, eagm, eamg, emga, emag, "
          ]
        }
      ]
    },
    {
      "cell_type": "markdown",
      "metadata": {
        "id": "qCAZdQDX8JFP"
      },
      "source": [
        "The previous example can be hard to understand for newbies. Like always, Python offers a convenient solution. We need the module **itertools** for this purpose. Itertools is a very handy tool to create and operate on iterators.\n",
        "\n",
        "Creating permutations with itertools:"
      ]
    },
    {
      "cell_type": "code",
      "metadata": {
        "colab": {
          "base_uri": "https://localhost:8080/"
        },
        "id": "gAZzlSRN8DJR",
        "outputId": "bbb22170-9abd-4cc4-9b4c-2cf648bfeb1f"
      },
      "source": [
        "import itertools\n",
        "perms = itertools.permutations(['r','e','d'])\n",
        "list(perms)"
      ],
      "execution_count": 188,
      "outputs": [
        {
          "output_type": "execute_result",
          "data": {
            "text/plain": [
              "[('r', 'e', 'd'),\n",
              " ('r', 'd', 'e'),\n",
              " ('e', 'r', 'd'),\n",
              " ('e', 'd', 'r'),\n",
              " ('d', 'r', 'e'),\n",
              " ('d', 'e', 'r')]"
            ]
          },
          "metadata": {},
          "execution_count": 188
        }
      ]
    },
    {
      "cell_type": "markdown",
      "metadata": {
        "id": "GXKqIN9a8nIk"
      },
      "source": [
        "The term \"permutations\" can sometimes be used in a weaker meaning. Permutations can denote in this weaker meaning a sequence of elements, where each element occurs just once, but without the requirement to contain all the elements of a given set. So in this sense (1,3,5,2) is a permutation of the set of digits {1,2,3,4,5,6}. We can build, for example, all the sequences of a fixed length k of elements taken from a given set of size n with k ≤ n.\n",
        "\n",
        "These atypical permutations are also known as sequences without repetition. By using this term we can avoid confusion with the term \"permutation\". The number of such k-permutations of n is denoted by $P_{n,k}$ and its value is calculated by the product:\n",
        "\n",
        "$n · (n - 1) · … (n - k + 1)$\n",
        "\n",
        "By using the factorial notation, the above mentioned expression can be written as:\n",
        "\n",
        "$P_{n,k} = n! / (n - k)!$\n",
        "\n",
        "A generator for the creation of k-permuations of n objects looks very similar to our previous permutations generator:"
      ]
    },
    {
      "cell_type": "code",
      "metadata": {
        "id": "Z6xtaB-_8Qbs"
      },
      "source": [
        "def k_permutations(items, n):\n",
        "    if n==0: \n",
        "        yield []\n",
        "    else:\n",
        "        for item in items:\n",
        "            for kp in k_permutations(items, n-1):\n",
        "                if item not in kp:\n",
        "                    yield [item] + kp"
      ],
      "execution_count": 190,
      "outputs": []
    },
    {
      "cell_type": "markdown",
      "metadata": {
        "id": "FCOnn9jb8-FY"
      },
      "source": [
        "These are are all the 3-permutations of the set {\"a\",\"b\",\"c\",\"d\"}:"
      ]
    },
    {
      "cell_type": "code",
      "metadata": {
        "colab": {
          "base_uri": "https://localhost:8080/"
        },
        "id": "Gzs_4uan86re",
        "outputId": "168e5980-1a36-4872-9000-0f5d2882734e"
      },
      "source": [
        "for kp in k_permutations(\"abcd\", 3):\n",
        "    print(kp)"
      ],
      "execution_count": 191,
      "outputs": [
        {
          "output_type": "stream",
          "name": "stdout",
          "text": [
            "['a', 'b', 'c']\n",
            "['a', 'b', 'd']\n",
            "['a', 'c', 'b']\n",
            "['a', 'c', 'd']\n",
            "['a', 'd', 'b']\n",
            "['a', 'd', 'c']\n",
            "['b', 'a', 'c']\n",
            "['b', 'a', 'd']\n",
            "['b', 'c', 'a']\n",
            "['b', 'c', 'd']\n",
            "['b', 'd', 'a']\n",
            "['b', 'd', 'c']\n",
            "['c', 'a', 'b']\n",
            "['c', 'a', 'd']\n",
            "['c', 'b', 'a']\n",
            "['c', 'b', 'd']\n",
            "['c', 'd', 'a']\n",
            "['c', 'd', 'b']\n",
            "['d', 'a', 'b']\n",
            "['d', 'a', 'c']\n",
            "['d', 'b', 'a']\n",
            "['d', 'b', 'c']\n",
            "['d', 'c', 'a']\n",
            "['d', 'c', 'b']\n"
          ]
        }
      ]
    },
    {
      "cell_type": "markdown",
      "metadata": {
        "id": "eXwnYiPn9Hdy"
      },
      "source": [
        "#### A Generator of Generators\n",
        "\n",
        "The second generator of our Fibonacci sequence example generates an iterator, which can theoretically produce all the Fibonacci numbers, i.e. an infinite number. But you shouldn't try to produce all these numbers in a list with the following line:\n",
        "\n",
        "```python\n",
        "list(fibonacci())\n",
        "```\n",
        "\n",
        "This will show you very fast the limits of your computer.\n",
        "\n",
        "In most practical applications, we only need the first n elements of and other \"endless\" iterators. We can use another generator, in our example firstn, to create the first n elements of a generator generator:"
      ]
    },
    {
      "cell_type": "code",
      "metadata": {
        "id": "K3y377_G9B-F"
      },
      "source": [
        "def firstn(generator, n):\n",
        "    g = generator()\n",
        "    for i in range(n):\n",
        "        yield next(g)"
      ],
      "execution_count": 192,
      "outputs": []
    },
    {
      "cell_type": "markdown",
      "metadata": {
        "id": "4-c7G4Hl948v"
      },
      "source": [
        "The following script returns the first 10 elements of the Fibonacci sequence:"
      ]
    },
    {
      "cell_type": "code",
      "metadata": {
        "colab": {
          "base_uri": "https://localhost:8080/"
        },
        "id": "31ZmVJUd9ysz",
        "outputId": "f51d41c7-1c06-41c0-8b8d-9ab254344c8d"
      },
      "source": [
        "def fibonacci():\n",
        "    \"\"\" A Fibonacci number generator \"\"\"\n",
        "    a, b = 0, 1\n",
        "    while True:\n",
        "        yield a\n",
        "        a, b = b, a + b\n",
        "\n",
        "print(list(firstn(fibonacci, 10))) "
      ],
      "execution_count": 193,
      "outputs": [
        {
          "output_type": "stream",
          "name": "stdout",
          "text": [
            "[0, 1, 1, 2, 3, 5, 8, 13, 21, 34]\n"
          ]
        }
      ]
    },
    {
      "cell_type": "code",
      "metadata": {
        "id": "aWBQ_ExA99LO"
      },
      "source": [
        ""
      ],
      "execution_count": null,
      "outputs": []
    }
  ]
}