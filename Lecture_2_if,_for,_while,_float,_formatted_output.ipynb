{
  "nbformat": 4,
  "nbformat_minor": 0,
  "metadata": {
    "colab": {
      "name": "Lecture 2. if, for, while, float, formatted output.ipynb",
      "provenance": [],
      "collapsed_sections": [],
      "authorship_tag": "ABX9TyNoFsCrRtG/ZXP6iucbrZ85",
      "include_colab_link": true
    },
    "kernelspec": {
      "name": "python3",
      "display_name": "Python 3"
    },
    "language_info": {
      "name": "python"
    }
  },
  "cells": [
    {
      "cell_type": "markdown",
      "metadata": {
        "id": "view-in-github",
        "colab_type": "text"
      },
      "source": [
        "<a href=\"https://colab.research.google.com/github/justalge/another_python_totorial/blob/main/Lecture_2_if%2C_for%2C_while%2C_float%2C_formatted_output.ipynb\" target=\"_parent\"><img src=\"https://colab.research.google.com/assets/colab-badge.svg\" alt=\"Open In Colab\"/></a>"
      ]
    },
    {
      "cell_type": "markdown",
      "metadata": {
        "id": "aFLmdm501ukO"
      },
      "source": [
        "# Conditionals"
      ]
    },
    {
      "cell_type": "code",
      "metadata": {
        "id": "1JiSu2-311BW"
      },
      "source": [
        "if condition:\n",
        "    pass\n",
        "    statement\n",
        "    statement\n",
        "    # further statements, if necessary"
      ],
      "execution_count": null,
      "outputs": []
    },
    {
      "cell_type": "code",
      "metadata": {
        "colab": {
          "base_uri": "https://localhost:8080/"
        },
        "id": "jDfeCFjV11HE",
        "outputId": "f9a53498-3d63-4f83-e1e5-edf35596e136"
      },
      "source": [
        "'''\n",
        "The following example asks users for their nationality. The indented block will\n",
        "only be executed if the nationality is French or Italian. If the user enters\n",
        "another nationality, nothing happens.\n",
        "'''\n",
        "\n",
        "person = input(\"Nationality? \")\n",
        "if person == \"french\" or person == \"French\":\n",
        "    print(\"Préférez-vous parler français?\")\n",
        "if person == \"italian\" or person == \"Italian\":\n",
        "    print(\"Preferisci parlare italiano?\")"
      ],
      "execution_count": null,
      "outputs": [
        {
          "output_type": "stream",
          "name": "stdout",
          "text": [
            "Nationality? french\n",
            "Préférez-vous parler français?\n"
          ]
        }
      ]
    },
    {
      "cell_type": "code",
      "metadata": {
        "colab": {
          "base_uri": "https://localhost:8080/"
        },
        "id": "SlGQTpjI3pvR",
        "outputId": "1e045ebb-3af3-4b38-a64b-8b131918b075"
      },
      "source": [
        "'''\n",
        "This little script has a drawback. Suppose that the user enters \"french\" as\n",
        "a nationality. In this case, the block of the first \"if\" will be executed.\n",
        "Afterwards, the program checks if the second \"if\" can be executed as well.\n",
        "This doesn't make sense, because we know that the input \"french\" does not match\n",
        "the condition \"italian\" or \"Italian\".\n",
        "'''\n",
        "\n",
        "person = input(\"Nationality? \")\n",
        "if person == \"french\" or person == \"French\":\n",
        "    print(\"Préférez-vous parler français?\")\n",
        "elif person == \"italian\" or person == \"Italian\":\n",
        "    print(\"Preferisci parlare italiano?\")\n",
        "else:\n",
        "    print(\"You are neither French nor Italian.\")\n",
        "    print(\"So, let us speak English!\")\n",
        "\n",
        "\n",
        "# As in our example, most if statements also have \"elif\" and \"else\" branches.\n",
        "# This means, there may be more than one \"elif\" branches, but only one \"else\"\n",
        "# branch. The \"else\" branch must be at the end of the if statement. Other \"elif\"\n",
        "# branches can not be attached after an 'else'. 'if' statements don't need either\n",
        "# 'else' nor 'elif' statements."
      ],
      "execution_count": null,
      "outputs": [
        {
          "output_type": "stream",
          "name": "stdout",
          "text": [
            "Nationality? french\n",
            "Préférez-vous parler français?\n"
          ]
        }
      ]
    },
    {
      "cell_type": "code",
      "metadata": {
        "id": "BriU6Z1C4lsw"
      },
      "source": [
        "# general form:\n",
        "\n",
        "if condition_1:\n",
        "    statement_block_1\n",
        "elif condition_2:\n",
        "    statement_block_2\n",
        "\n",
        "...\n",
        "\n",
        "elif another_condition:    \n",
        "    another_statement_block\n",
        "else:\n",
        "    else_block"
      ],
      "execution_count": null,
      "outputs": []
    },
    {
      "cell_type": "markdown",
      "metadata": {
        "id": "-IPYWCNg5LaY"
      },
      "source": [
        "#### Examples"
      ]
    },
    {
      "cell_type": "code",
      "metadata": {
        "colab": {
          "base_uri": "https://localhost:8080/"
        },
        "id": "PQl7NCAl43d_",
        "outputId": "25171e28-4da9-4a4a-ddea-c5b3d10478cf"
      },
      "source": [
        "'''\n",
        "A one-year-old dog is roughly equivalent to a 14-year-old human being\n",
        "A dog that is two years old corresponds in development to a 22 year old person.\n",
        "Each additional dog year is equivalent to five human years.\n",
        "\n",
        "The following example program in Python requires the age of the dog as the input\n",
        "and calculates the age in human years according to the above rule. 'input' is\n",
        "a statement, where the program flow stops and waits for user input printing out\n",
        "the message in brackets:\n",
        "'''\n",
        "\n",
        "age = int(input(\"Age of the dog: \"))\n",
        "print()\n",
        "if age < 0:\n",
        "    print(\"This cannot be true!\")\n",
        "elif age == 0:\n",
        "    print(\"This corresponds to 0 human years!\")\n",
        "elif age == 1:\n",
        "    print(\"Roughly 14 years!\")\n",
        "elif age == 2:\n",
        "    print(\"Approximately 22 years!\")\n",
        "else:\n",
        "    human = 22 + (age -2) * 5\n",
        "    print(\"Corresponds to  \" + str(human) + \" human years!\")"
      ],
      "execution_count": null,
      "outputs": [
        {
          "output_type": "stream",
          "name": "stdout",
          "text": [
            "Age of the dog: 3\n",
            "\n",
            "Corresponds to  27 human years!\n"
          ]
        }
      ]
    },
    {
      "cell_type": "code",
      "metadata": {
        "id": "WhKZTK2t5tk3",
        "colab": {
          "base_uri": "https://localhost:8080/"
        },
        "outputId": "32f8b4e7-1df2-42c5-c1d2-fe1b24e6774a"
      },
      "source": [
        "'''\n",
        "We will read in three float numbers in the following program\n",
        "and will print out the largest value:\n",
        "'''\n",
        "\n",
        "x = float(input(\"1st Number: \"))\n",
        "y = float(input(\"2nd Number: \"))\n",
        "z = float(input(\"3rd Number: \"))\n",
        "\n",
        "if x > y and x > z:\n",
        "    maximum = x\n",
        "elif y > x and y > z:\n",
        "    maximum = y\n",
        "else:\n",
        "    maximum = z\n",
        "\n",
        "print(\"The maximal value is: \" + str(maximum))"
      ],
      "execution_count": null,
      "outputs": [
        {
          "output_type": "stream",
          "name": "stdout",
          "text": [
            "1st Number: 5\n",
            "2nd Number: 7\n",
            "3rd Number: 9\n",
            "The maximal value is: 9.0\n"
          ]
        }
      ]
    },
    {
      "cell_type": "code",
      "metadata": {
        "id": "_AGCqt2V8PFc"
      },
      "source": [
        "7\n",
        "'''\n",
        "There are other ways to write the conditions like the following one:\n",
        "'''\n",
        "\n",
        "x = float(input(\"1st Number: \"))\n",
        "y = float(input(\"2nd Number: \"))\n",
        "z = float(input(\"3rd Number: \"))\n",
        "\n",
        "if x > y:\n",
        "    if x > z:\n",
        "        maximum = x\n",
        "    else:\n",
        "        maximum = z\n",
        "else: \n",
        "    if y > z:\n",
        "        maximum = y\n",
        "    else:\n",
        "        maximum = z\n",
        "\n",
        "print(\"The maximal value is: \" + str(maximum))"
      ],
      "execution_count": null,
      "outputs": []
    },
    {
      "cell_type": "code",
      "metadata": {
        "id": "uVOyyQOj8WR4"
      },
      "source": [
        "'''\n",
        "Another way to find the maximum can be seen in the following example. We are\n",
        "using the built-in function max, which calculates the maximum of a list or\n",
        "a tuple of numerical values:\n",
        "'''\n",
        "\n",
        "x = float(input(\"1st Number: \"))\n",
        "y = float(input(\"2nd Number: \"))\n",
        "z = float(input(\"3rd Number: \"))\n",
        "\n",
        "maximum = max((x,y,z))\n",
        "\n",
        "print(\"The maximal value is: \" + str(maximum))"
      ],
      "execution_count": null,
      "outputs": []
    },
    {
      "cell_type": "markdown",
      "metadata": {
        "id": "1yTmssrNBvn6"
      },
      "source": [
        "#### Ternary if statement"
      ]
    },
    {
      "cell_type": "code",
      "metadata": {
        "colab": {
          "base_uri": "https://localhost:8080/"
        },
        "id": "3rOE5us5BvOQ",
        "outputId": "93c0f0fb-51a1-48e5-b8fb-064332fbf474"
      },
      "source": [
        "'''\n",
        "`The maximum speed is 50 if we are within the city, otherwise it is 100.`\n",
        "This can be translated into ternary Python statements\n",
        "'''\n",
        "\n",
        "inside_city_limits = True\n",
        "maximum_speed = 50 if inside_city_limits else 100\n",
        "print(maximum_speed)"
      ],
      "execution_count": null,
      "outputs": [
        {
          "output_type": "stream",
          "name": "stdout",
          "text": [
            "50\n"
          ]
        }
      ]
    },
    {
      "cell_type": "markdown",
      "metadata": {
        "id": "kLv0oPpQChqU"
      },
      "source": [
        "# While loops"
      ]
    },
    {
      "cell_type": "markdown",
      "metadata": {
        "id": "1_2pWe5FGON3"
      },
      "source": [
        "Most loops contain a counter or more generally, variables, which change their values in the course of calculation. These variables have to be initialized before the loop is started. The counter or other variables, which can be altered in the body of the loop, are contained in the condition. Before the body of the loop is executed, the condition is evaluated. If it evaluates to False, the while loop is finished. In other words, the program flow will continue with the first statement after the while statement, i.e. on the same indentation level as the while loop. If the condition is evaluated to True, the body, - the indented block below the line with \"while\" - gets executed. After the body is finished, the condition will be evaluated again. The body of the loop will be executed as long as the condition yields True."
      ]
    },
    {
      "cell_type": "code",
      "metadata": {
        "colab": {
          "base_uri": "https://localhost:8080/"
        },
        "id": "PukTYSV7GNwq",
        "outputId": "ed8128a2-e91e-4a23-8ad4-a74d5596582a"
      },
      "source": [
        "#  The following small script calculates the sum of the numbers from 1 to 100:\n",
        "\n",
        "n = 100\n",
        "\n",
        "total_sum = 0\n",
        "counter = 1\n",
        "while counter <= n:\n",
        "    total_sum += counter\n",
        "    counter += 1\n",
        "\n",
        "print(\"Sum of 1 until \" + str(n) +  \" results in \" + str(total_sum))"
      ],
      "execution_count": null,
      "outputs": [
        {
          "output_type": "stream",
          "name": "stdout",
          "text": [
            "Sum of 1 until 100 results in 5050\n"
          ]
        }
      ]
    },
    {
      "cell_type": "markdown",
      "metadata": {
        "id": "lC0HDiOvGdse"
      },
      "source": [
        "#### The `else` part"
      ]
    },
    {
      "cell_type": "markdown",
      "metadata": {
        "id": "VSvrV9DSG0nI"
      },
      "source": [
        "The statements in the else part are executed, when the condition is not fulfilled anymore."
      ]
    },
    {
      "cell_type": "code",
      "metadata": {
        "id": "2_dM3Esd8e2R"
      },
      "source": [
        "while condition:\n",
        "    statement_1\n",
        "    ...\n",
        "    statement_n\n",
        "else:\n",
        "    statement_1\n",
        "    ...\n",
        "    statement_n"
      ],
      "execution_count": null,
      "outputs": []
    },
    {
      "cell_type": "markdown",
      "metadata": {
        "id": "xRPDQ3SKG_Re"
      },
      "source": [
        "But what the benefit? We need to understand a new language construction, i.e. the **break** statement"
      ]
    },
    {
      "cell_type": "markdown",
      "metadata": {
        "id": "XErrP1SiHRhr"
      },
      "source": [
        "#### Premature Termination of a while Loop. The break statement"
      ]
    },
    {
      "cell_type": "markdown",
      "metadata": {
        "id": "QAkZE0JpHo72"
      },
      "source": [
        "With the help of a break statement a while loop can be left prematurely, i.e. as soon as the control flow of the program comes to a break inside of a while loop (or other loops) the loop will be immediately left.\n",
        "\n",
        "Here comes the crucial point: **If a loop is left by break, the else part is not executed**"
      ]
    },
    {
      "cell_type": "code",
      "metadata": {
        "colab": {
          "base_uri": "https://localhost:8080/"
        },
        "id": "l-boUiHNHBBW",
        "outputId": "aa3561cd-e0a1-49fc-9279-9c06f8e1d940"
      },
      "source": [
        "'''\n",
        "This behaviour will be illustrated in the following example, a little guessing\n",
        "number game. A human player has to guess a number between a range of 1 to n. The\n",
        "player inputs his guess. The program informs the player, if this number is\n",
        "larger, smaller or equal to the secret number, i.e. the number which the program\n",
        "has randomly created. If the player wants to gives up, he or she can input a 0\n",
        "or a negative number. Hint: The program needs to create a random number. Therefore\n",
        "it's necessary to include the module \"random\".\n",
        "'''\n",
        "\n",
        "import random\n",
        "upper_bound = 20\n",
        "lower_bound = 1\n",
        "to_be_guessed = random.randint(lower_bound, upper_bound)\n",
        "guess = 0\n",
        "while guess != to_be_guessed:\n",
        "    guess = int(input(\"New number: \"))\n",
        "    if guess == 0:   # giving up\n",
        "        print(\"Sorry that you're giving up!\")\n",
        "        break   # break out of a loop, don't execute \"else\"\n",
        "    if guess < lower_bound or guess > upper_bound:\n",
        "        print(\"guess not within boundaries!\")\n",
        "    elif guess > to_be_guessed:\n",
        "        upper_bound = guess - 1\n",
        "        print(\"Number too large\")\n",
        "    elif guess < to_be_guessed:\n",
        "        lower_bound = guess + 1\n",
        "        print(\"Number too small\")   \n",
        "else:\n",
        "    print(\"Congratulations. You made it!\")"
      ],
      "execution_count": null,
      "outputs": [
        {
          "output_type": "stream",
          "name": "stdout",
          "text": [
            "New number: 5\n",
            "Number too small\n",
            "New number: 14\n",
            "Number too small\n",
            "New number: 18\n",
            "Congratulations. You made it!\n"
          ]
        }
      ]
    },
    {
      "cell_type": "markdown",
      "metadata": {
        "id": "gkFl4gEDTCwl"
      },
      "source": [
        "# For loops"
      ]
    },
    {
      "cell_type": "markdown",
      "metadata": {
        "id": "FaTl8lMmVDE-"
      },
      "source": [
        "Python for loop always iterates over an enumeration of a set of items.\n",
        "\n",
        "General syntax: `for in : else:`"
      ]
    },
    {
      "cell_type": "code",
      "metadata": {
        "colab": {
          "base_uri": "https://localhost:8080/"
        },
        "id": "Yc6zQs1rIRyY",
        "outputId": "48c3c72a-8bc1-486b-926f-ffada9d24a6c"
      },
      "source": [
        "# Example of a simple for loop in Python:\n",
        "\n",
        "languages = [\"C\", \"C++\", \"Perl\", \"Python\"] \n",
        "for language in languages:\n",
        "    print(language)"
      ],
      "execution_count": null,
      "outputs": [
        {
          "output_type": "stream",
          "name": "stdout",
          "text": [
            "C\n",
            "C++\n",
            "Perl\n",
            "Python\n"
          ]
        }
      ]
    },
    {
      "cell_type": "markdown",
      "metadata": {
        "id": "sMbmJ1TdXjMB"
      },
      "source": [
        "#### `Else`"
      ]
    },
    {
      "cell_type": "code",
      "metadata": {
        "colab": {
          "base_uri": "https://localhost:8080/"
        },
        "id": "7buzhcY0VjZ0",
        "outputId": "bd6311d7-7ff8-4022-89d8-f19b1e5956a0"
      },
      "source": [
        "edibles = [\"bacon\", \"spam\", \"eggs\", \"nuts\"]\n",
        "for food in edibles:\n",
        "    if food == \"spam\":\n",
        "        print(\"No more spam please!\")\n",
        "        break\n",
        "    print(\"Great, delicious \" + food)\n",
        "else:\n",
        "    print(\"I am so glad: No spam!\")\n",
        "print(\"Finally, I finished stuffing myself\")"
      ],
      "execution_count": null,
      "outputs": [
        {
          "output_type": "stream",
          "name": "stdout",
          "text": [
            "Great, delicious bacon\n",
            "No more spam please!\n",
            "Finally, I finished stuffing myself\n"
          ]
        }
      ]
    },
    {
      "cell_type": "markdown",
      "metadata": {
        "id": "bsuL97LXXxYX"
      },
      "source": [
        "`Continue` interrupt current iteration:"
      ]
    },
    {
      "cell_type": "code",
      "metadata": {
        "colab": {
          "base_uri": "https://localhost:8080/"
        },
        "id": "7GVJJqKfXiv_",
        "outputId": "31ca1288-3662-4391-b437-9e72aa7df215"
      },
      "source": [
        "edibles = [\"bacon\", \"spam\", \"eggs\",\"nuts\"]\n",
        "for food in edibles:\n",
        "    if food == \"spam\":\n",
        "        print(\"No more spam please!\")\n",
        "        continue\n",
        "    print(\"Great, delicious \" + food)\n",
        "\n",
        "print(\"Finally, I finished stuffing myself\")"
      ],
      "execution_count": null,
      "outputs": [
        {
          "output_type": "stream",
          "name": "stdout",
          "text": [
            "Great, delicious bacon\n",
            "No more spam please!\n",
            "Great, delicious eggs\n",
            "Great, delicious nuts\n",
            "Finally, I finished stuffing myself\n"
          ]
        }
      ]
    },
    {
      "cell_type": "markdown",
      "metadata": {
        "id": "HcdV6_MiYEex"
      },
      "source": [
        "#### The `range` function:"
      ]
    },
    {
      "cell_type": "markdown",
      "metadata": {
        "id": "K2AQuKBcbNfu"
      },
      "source": [
        "The built-in function `range()` is the right function to iterate over a sequence of numbers. It generates an iterator of arithmetic progressions - an object which is capable of producing the numbers of arithmetic progression. Example:"
      ]
    },
    {
      "cell_type": "code",
      "metadata": {
        "colab": {
          "base_uri": "https://localhost:8080/"
        },
        "id": "D1Fl_1JeX9SZ",
        "outputId": "f12a833d-8508-4b32-bea0-e754e453c814"
      },
      "source": [
        "range(5)"
      ],
      "execution_count": null,
      "outputs": [
        {
          "output_type": "execute_result",
          "data": {
            "text/plain": [
              "range(0, 5)"
            ]
          },
          "metadata": {},
          "execution_count": 19
        }
      ]
    },
    {
      "cell_type": "markdown",
      "metadata": {
        "id": "oK-1ILRrbkNy"
      },
      "source": [
        "You can use it in `for` loop:"
      ]
    },
    {
      "cell_type": "code",
      "metadata": {
        "colab": {
          "base_uri": "https://localhost:8080/"
        },
        "id": "djQuRj65bWAn",
        "outputId": "35c51493-6553-4d03-d250-86f8835d4f32"
      },
      "source": [
        "for i in range(5):\n",
        "    print(i)"
      ],
      "execution_count": null,
      "outputs": [
        {
          "output_type": "stream",
          "name": "stdout",
          "text": [
            "0\n",
            "1\n",
            "2\n",
            "3\n",
            "4\n"
          ]
        }
      ]
    },
    {
      "cell_type": "markdown",
      "metadata": {
        "id": "gniXTIB-cBnk"
      },
      "source": [
        "To get all numbers in single container we should convert iterator to list:"
      ]
    },
    {
      "cell_type": "code",
      "metadata": {
        "colab": {
          "base_uri": "https://localhost:8080/"
        },
        "id": "pn74EPaXcJ8I",
        "outputId": "cc20c063-64d0-4703-9902-a13015cf2fe0"
      },
      "source": [
        "list(range(5))"
      ],
      "execution_count": null,
      "outputs": [
        {
          "output_type": "execute_result",
          "data": {
            "text/plain": [
              "[0, 1, 2, 3, 4]"
            ]
          },
          "metadata": {},
          "execution_count": 21
        }
      ]
    },
    {
      "cell_type": "markdown",
      "metadata": {
        "id": "Xu4KqQsYb34g"
      },
      "source": [
        "General case of usage `range` function:"
      ]
    },
    {
      "cell_type": "code",
      "metadata": {
        "colab": {
          "base_uri": "https://localhost:8080/"
        },
        "id": "-RwE4rcSbsMz",
        "outputId": "0ecca4fe-bacd-4f91-f9f6-9b8d0bd3e42d"
      },
      "source": [
        "range(4, 50, 5)"
      ],
      "execution_count": null,
      "outputs": [
        {
          "output_type": "execute_result",
          "data": {
            "text/plain": [
              "range(4, 50, 5)"
            ]
          },
          "metadata": {},
          "execution_count": 23
        }
      ]
    },
    {
      "cell_type": "code",
      "metadata": {
        "colab": {
          "base_uri": "https://localhost:8080/"
        },
        "id": "Q4lYOCpQcT2M",
        "outputId": "9783c1f3-9459-48be-e73d-3f1cd27da37f"
      },
      "source": [
        "# Lets look at all numbers:\n",
        "\n",
        "list(range(4, 50, 5))"
      ],
      "execution_count": null,
      "outputs": [
        {
          "output_type": "execute_result",
          "data": {
            "text/plain": [
              "[4, 9, 14, 19, 24, 29, 34, 39, 44, 49]"
            ]
          },
          "metadata": {},
          "execution_count": 25
        }
      ]
    },
    {
      "cell_type": "markdown",
      "metadata": {
        "id": "zdTDvOyUfmP6"
      },
      "source": [
        "#### Examples:"
      ]
    },
    {
      "cell_type": "code",
      "metadata": {
        "colab": {
          "base_uri": "https://localhost:8080/"
        },
        "id": "QOBssTvZcYEk",
        "outputId": "8522ec33-c1fd-4eb4-f716-87c0a868661c"
      },
      "source": [
        "# Calculation of the Pythagorean Numbers. The following program calculates all\n",
        "# pythagorean numbers less than a maximal number:\n",
        "\n",
        "from math import sqrt\n",
        "n = int(input(\"Maximal Number? \"))\n",
        "for a in range(1, n+1):\n",
        "    for b in range(a, n):\n",
        "        c_square = a**2 + b**2\n",
        "        c = int(sqrt(c_square))\n",
        "        if ((c_square - c**2) == 0):\n",
        "            print(a, b, c)"
      ],
      "execution_count": null,
      "outputs": [
        {
          "output_type": "stream",
          "name": "stdout",
          "text": [
            "Maximal Number? 6\n",
            "3 4 5\n"
          ]
        }
      ]
    },
    {
      "cell_type": "markdown",
      "metadata": {
        "id": "Q0JVYya3gIOD"
      },
      "source": [
        "#### Iterating over containers with `for` loop:"
      ]
    },
    {
      "cell_type": "code",
      "metadata": {
        "colab": {
          "base_uri": "https://localhost:8080/"
        },
        "id": "FybbMBWIf93S",
        "outputId": "047207db-69a5-44b0-935c-4ce1c8240825"
      },
      "source": [
        "fibonacci = [0, 1, 1, 2, 3, 5, 8, 13, 21]\n",
        "for i in range(len(fibonacci)):\n",
        "    print(i,fibonacci[i])\n",
        "print()"
      ],
      "execution_count": null,
      "outputs": [
        {
          "output_type": "stream",
          "name": "stdout",
          "text": [
            "0 0\n",
            "1 1\n",
            "2 1\n",
            "3 2\n",
            "4 3\n",
            "5 5\n",
            "6 8\n",
            "7 13\n",
            "8 21\n",
            "\n"
          ]
        }
      ]
    },
    {
      "cell_type": "code",
      "metadata": {
        "colab": {
          "base_uri": "https://localhost:8080/"
        },
        "id": "8kPqchxjgbCV",
        "outputId": "386cc2e8-454f-4cd6-d36f-d1d573372b1a"
      },
      "source": [
        "# PREFERRED:\n",
        "\n",
        "fibonacci = [0, 1, 1, 2, 3, 5, 8, 13, 21]\n",
        "for ix, el in enumerate(fibonacci):\n",
        "    print(ix, el)\n",
        "print()"
      ],
      "execution_count": null,
      "outputs": [
        {
          "output_type": "stream",
          "name": "stdout",
          "text": [
            "0 0\n",
            "1 1\n",
            "2 1\n",
            "3 2\n",
            "4 3\n",
            "5 5\n",
            "6 8\n",
            "7 13\n",
            "8 21\n",
            "\n"
          ]
        }
      ]
    },
    {
      "cell_type": "markdown",
      "metadata": {
        "id": "1-nnKR_og8uq"
      },
      "source": [
        "#### List iteration with Side Effects"
      ]
    },
    {
      "cell_type": "markdown",
      "metadata": {
        "id": "wnkEEBmChAq3"
      },
      "source": [
        "If you loop over a list, it's best \n",
        "to avoid changing the list in the loop body.\n",
        "\n",
        "Take a look at the following example:"
      ]
    },
    {
      "cell_type": "code",
      "metadata": {
        "colab": {
          "base_uri": "https://localhost:8080/"
        },
        "id": "IQb9gTzmgqSK",
        "outputId": "cc0ba65b-c898-40b0-e7b1-c6253646eda8"
      },
      "source": [
        "colours = [\"red\"]\n",
        "for i in colours:\n",
        "    if i == \"red\":\n",
        "        colours = [\"black\"] + colours\n",
        "    if i == \"black\":\n",
        "        colours += [\"white\"]\n",
        "print(colours)"
      ],
      "execution_count": null,
      "outputs": [
        {
          "output_type": "stream",
          "name": "stdout",
          "text": [
            "['black', 'red']\n"
          ]
        }
      ]
    },
    {
      "cell_type": "markdown",
      "metadata": {
        "id": "RNT0UpfmhQqt"
      },
      "source": [
        "To avoid these side effects, it's best to work on a copy by using the slicing operator, as can be seen in the next example:"
      ]
    },
    {
      "cell_type": "code",
      "metadata": {
        "colab": {
          "base_uri": "https://localhost:8080/"
        },
        "id": "JU7UHKjLhNc3",
        "outputId": "c5acd2fa-2d50-42ae-be3b-725679b4f50b"
      },
      "source": [
        "colours = [\"red\"]\n",
        "for i in colours[:]:\n",
        "    if i == \"red\":\n",
        "        colours += [\"black\"]\n",
        "    if i == \"black\":\n",
        "        colours += [\"white\"]\n",
        "print(colours)"
      ],
      "execution_count": null,
      "outputs": [
        {
          "output_type": "stream",
          "name": "stdout",
          "text": [
            "['red', 'black']\n"
          ]
        }
      ]
    },
    {
      "cell_type": "markdown",
      "metadata": {
        "id": "PPpJ_YuFhjQr"
      },
      "source": [
        "# Float"
      ]
    },
    {
      "cell_type": "markdown",
      "metadata": {
        "id": "yodeZ01Ch9x-"
      },
      "source": [
        "When dealing with floats we should avoid direct comparisons:"
      ]
    },
    {
      "cell_type": "code",
      "metadata": {
        "colab": {
          "base_uri": "https://localhost:8080/"
        },
        "id": "PLXRmlS6hXD0",
        "outputId": "75759f93-5621-4089-81cd-5699bf548ae4"
      },
      "source": [
        "import math\n",
        "\n",
        "math.e**(math.log(5))"
      ],
      "execution_count": null,
      "outputs": [
        {
          "output_type": "execute_result",
          "data": {
            "text/plain": [
              "4.999999999999999"
            ]
          },
          "metadata": {},
          "execution_count": 31
        }
      ]
    },
    {
      "cell_type": "markdown",
      "metadata": {
        "id": "GVJLB96YiPv_"
      },
      "source": [
        ".. and:"
      ]
    },
    {
      "cell_type": "code",
      "metadata": {
        "colab": {
          "base_uri": "https://localhost:8080/"
        },
        "id": "r_au6UatiNE9",
        "outputId": "ce3668ed-17c5-45d0-81c8-26cbf279ca2f"
      },
      "source": [
        "math.e**(math.log(5)) == 5"
      ],
      "execution_count": null,
      "outputs": [
        {
          "output_type": "execute_result",
          "data": {
            "text/plain": [
              "False"
            ]
          },
          "metadata": {},
          "execution_count": 32
        }
      ]
    },
    {
      "cell_type": "markdown",
      "metadata": {
        "id": "NF35CQb5iXOK"
      },
      "source": [
        "We should do the following:"
      ]
    },
    {
      "cell_type": "code",
      "metadata": {
        "colab": {
          "base_uri": "https://localhost:8080/"
        },
        "id": "3m8lLccpiVnX",
        "outputId": "9d8ce74f-f334-4edb-d6e9-c53cf63cbb39"
      },
      "source": [
        "eps = 1e-5  # small epsilon\n",
        "abs(math.e**(math.log(5)) - 5) < eps"
      ],
      "execution_count": null,
      "outputs": [
        {
          "output_type": "execute_result",
          "data": {
            "text/plain": [
              "True"
            ]
          },
          "metadata": {},
          "execution_count": 33
        }
      ]
    },
    {
      "cell_type": "markdown",
      "metadata": {
        "id": "IZ6aYIqEinxs"
      },
      "source": [
        "# Formatted output:"
      ]
    },
    {
      "cell_type": "markdown",
      "metadata": {
        "id": "2JvIurkrxtGL"
      },
      "source": [
        "#### 1. The Old Way or the non-existing printf and sprintf"
      ]
    },
    {
      "cell_type": "markdown",
      "metadata": {
        "id": "nGsVIT5lx0E0"
      },
      "source": [
        "For the purpose of using printf-like printing in python the modulo operator \"%\" is overloaded by the string class to perform string formatting. Therefore, it is often called string modulo (or somethimes even called modulus) operator, though it has not a lot in common with the actual modulo calculation on numbers. Another term for it is \"string interpolation\", because it interpolates various class types (like int, float and so on) into a formatted string. In many cases the string created via the string interpolation mechanism is used for outputting values in a special way. But it can also be used, for example, to create the right format to put the data into a database. \n",
        "\n",
        "Since Python 2.6 has been introduced, the string method format should be used instead of this old-style formatting. Unfortunately, string modulo \"%\" is still available in Python3 and what is even worse, it is still widely used. That's why we cover it in great detail in this tutorial. You should be capable of understanding it, when you encounter it in some Python code. However, it is very likely that one day this old style of formatting will be removed from the language. So you should get used to str.format().\n",
        "\n",
        "The following diagram depicts how the string modulo operator works:\n",
        "\n",
        "![](https://www.python-course.eu/images/string_modulo_overview_800w.webp)\n",
        "\n",
        "![](https://www.python-course.eu/images/format_string_value_set_800w.webp)\n",
        "\n",
        "The format string contains placeholders. There are two of those in our example: \"%5d\" and \"%8.2f\". The general syntax for a format placeholder is\n",
        "\n",
        "`%[flags][width][.precision]type`\n",
        "\n",
        "Conversion types:\n",
        "\n",
        "d --- Signed integer decimal.\n",
        "\n",
        "i --- Signed integer decimal.\n",
        "\n",
        "o --- Unsigned octal.\n",
        "\n",
        "u --- Obsolete and equivalent to 'd', i.e. signed integer decimal.\n",
        "\n",
        "x --- Unsigned hexadecimal (lowercase).\n",
        "\n",
        "X --- Unsigned hexadecimal (uppercase).\n",
        "\n",
        "e --- Floating point exponential format (lowercase).\n",
        "\n",
        "E --- Floating point exponential format (uppercase).\n",
        "\n",
        "f --- Floating point decimal format.\n",
        "\n",
        "F --- Floating point decimal format.\n",
        "\n",
        "g --- Same as \"e\" if exponent is greater than -4 or less than precision, \"f\" otherwise.\n",
        "\n",
        "G --- Same as \"E\" if exponent is greater than -4 or less than precision, \"F\" otherwise.\n",
        "\n",
        "c --- Single character (accepts integer or single character string).\n",
        "\n",
        "r --- String (converts any python object using repr()).\n",
        "\n",
        "s --- String (converts any python object using str()).\n",
        "\n",
        "% --- No argument is converted, results in a \"%\" character in the result.\n",
        "\n",
        "Examples:"
      ]
    },
    {
      "cell_type": "code",
      "metadata": {
        "colab": {
          "base_uri": "https://localhost:8080/"
        },
        "id": "dMwiQC2tul9U",
        "outputId": "41120038-4781-4013-f9cc-8eb46877cf24"
      },
      "source": [
        "print(\"%10.3e\"% (356.08977))\n",
        "print(\"%10.3E\"% (356.08977))\n",
        "print(\"%10o\"% (25))\n",
        "print(\"%10.3o\"% (25))\n",
        "print(\"%10.5o\"% (25))\n",
        "print(\"%5x\"% (47))\n",
        "print(\"%5.4x\"% (47))\n",
        "print(\"%5.4X\"% (47))\n",
        "print(\"Only one percentage sign: %% \" % ())"
      ],
      "execution_count": null,
      "outputs": [
        {
          "output_type": "stream",
          "name": "stdout",
          "text": [
            " 3.561e+02\n",
            " 3.561E+02\n",
            "        31\n",
            "       031\n",
            "     00031\n",
            "   2f\n",
            " 002f\n",
            " 002F\n",
            "Only one percentage sign: % \n"
          ]
        }
      ]
    },
    {
      "cell_type": "markdown",
      "metadata": {
        "id": "99-fb3p42b9c"
      },
      "source": [
        "Even though it may look so, the formatting is not part of the print function. If you have a closer look at our examples, you will see that we passed a formatted string to the print function. Or to put it in other words: If the string modulo operator is applied to a string, it returns a string. This string in turn is passed in our examples to the print function."
      ]
    },
    {
      "cell_type": "markdown",
      "metadata": {
        "id": "uLISDNTW2haY"
      },
      "source": [
        "#### 2. The Pythonic Way: The string method \"format\""
      ]
    },
    {
      "cell_type": "markdown",
      "metadata": {
        "id": "nj7boB7YehTr"
      },
      "source": [
        "![](https://www.python-course.eu/images/format_method_positional_parameters_800w.webp)\n",
        "\n",
        "![](https://www.python-course.eu/images/format_method_keyword_parameters_800w.webp)\n",
        "\n",
        "A positional parameter of the format method can be accessed by placing the index of the parameter after the opening brace, e.g. {0} accesses the first parameter, {1} the second one and so on. The index inside of the curly braces can be followed by a colon and a format string, which is similar to the notation of the string modulo, which we had discussed in the beginning of the chapter of our tutorial, e.g. {0:5d} If the positional parameters are used in the order in which they are written, the positional argument specifiers inside of the braces can be omitted, so '{} {} {}' corresponds to '{0} {1} {2}'. But they are needed, if you want to access them in different orders: '{2} {1} {0}'. If a brace character has to be printed, it has to be escaped by doubling it: {{ and }}.\n",
        "\n",
        "Additional formatting flags:\n",
        "\n",
        "\\# --- Used with o, x or X specifiers the value is preceded with 0, 0o, 0O, 0x or 0X respectively\n",
        "\n",
        "0 --- The conversion result will be zero padded for numeric values\n",
        "\n",
        "\\- --- The converted value is left adjusted. If no sign (minus sign e.g.) is going to be written, a blank space is inserted before the value\n",
        "\n",
        "\\+ --- A sign character (\"+\" or \"-\") will precede the conversion (overrides a \"space\" flag)\n",
        "\n",
        "Examples:"
      ]
    },
    {
      "cell_type": "code",
      "metadata": {
        "id": "SRl_mCj_2Lj2",
        "colab": {
          "base_uri": "https://localhost:8080/"
        },
        "outputId": "b76f7b4e-e553-45b7-deb5-1b7c9508bdab"
      },
      "source": [
        "x = 378\n",
        "print(\"The value is {:06d}\".format(x))\n",
        "\n",
        "x = -378\n",
        "print(\"The value is {:06d}\".format(x))\n",
        "\n",
        "x = 9283472410989128\n",
        "print(\"The value is {:,}\".format(x))\n",
        "\n",
        "x = 92837424798234792.2487\n",
        "print(\"The value is {0:6,f}\".format(x))\n",
        "\n",
        "# Unless a minimum field width is defined, the field width will always be the\n",
        "# same size as the data to fill it, so that the alignment option has no meaning\n",
        "# in this case.\n",
        "\n",
        "\n",
        "# Additionally, we can modify the formatting with the sign option, which is only\n",
        "# valid for number types:\n",
        "\n",
        "# `+`     - indicates that a sign should be used for both positive as well as\n",
        "#           negative numbers\n",
        "# `-`     - indicates that a sign should be used only for negative numbers, which is\n",
        "#           the default behavior\n",
        "# `space` - indicates that a leading space should be used on positive numbers,\n",
        "#           and a minus sign on negative numbers"
      ],
      "execution_count": null,
      "outputs": [
        {
          "output_type": "stream",
          "name": "stdout",
          "text": [
            "The value is 000378\n",
            "The value is -00378\n",
            "The value is 9,283,472,410,989,128\n",
            "The value is 92,837,424,798,234,800.000000\n"
          ]
        }
      ]
    },
    {
      "cell_type": "markdown",
      "metadata": {
        "id": "tFdQj4Z7k4l1"
      },
      "source": [
        "#### Other string methods for Formatting"
      ]
    },
    {
      "cell_type": "code",
      "metadata": {
        "colab": {
          "base_uri": "https://localhost:8080/",
          "height": 37
        },
        "id": "7afub7n8hr0R",
        "outputId": "6caa603a-dc28-49b2-c4b7-cd7e2de5fa8e"
      },
      "source": [
        "s = \"Python\"\n",
        "s.center(10)"
      ],
      "execution_count": null,
      "outputs": [
        {
          "output_type": "execute_result",
          "data": {
            "application/vnd.google.colaboratory.intrinsic+json": {
              "type": "string"
            },
            "text/plain": [
              "'  Python  '"
            ]
          },
          "metadata": {},
          "execution_count": 12
        }
      ]
    },
    {
      "cell_type": "code",
      "metadata": {
        "colab": {
          "base_uri": "https://localhost:8080/",
          "height": 37
        },
        "id": "pnOuplsMk_nk",
        "outputId": "5bbbc8c9-ffa9-4acd-aad0-20bfd2a69044"
      },
      "source": [
        "s = \"Training\"\n",
        "s.ljust(12)"
      ],
      "execution_count": null,
      "outputs": [
        {
          "output_type": "execute_result",
          "data": {
            "application/vnd.google.colaboratory.intrinsic+json": {
              "type": "string"
            },
            "text/plain": [
              "'Training    '"
            ]
          },
          "metadata": {},
          "execution_count": 13
        }
      ]
    },
    {
      "cell_type": "code",
      "metadata": {
        "colab": {
          "base_uri": "https://localhost:8080/",
          "height": 37
        },
        "id": "rd4zCt8VlLN-",
        "outputId": "10b1d41f-e7e1-4d67-d5a3-2400855b2537"
      },
      "source": [
        "s = \"Programming\"\n",
        "s.rjust(15)"
      ],
      "execution_count": null,
      "outputs": [
        {
          "output_type": "execute_result",
          "data": {
            "application/vnd.google.colaboratory.intrinsic+json": {
              "type": "string"
            },
            "text/plain": [
              "'    Programming'"
            ]
          },
          "metadata": {},
          "execution_count": 14
        }
      ]
    },
    {
      "cell_type": "code",
      "metadata": {
        "colab": {
          "base_uri": "https://localhost:8080/",
          "height": 37
        },
        "id": "8DiZQoQ6lOL6",
        "outputId": "e590a777-f6b4-4033-eb96-293053e4be00"
      },
      "source": [
        "account_number = \"43447879\"\n",
        "account_number.zfill(12)"
      ],
      "execution_count": null,
      "outputs": [
        {
          "output_type": "execute_result",
          "data": {
            "application/vnd.google.colaboratory.intrinsic+json": {
              "type": "string"
            },
            "text/plain": [
              "'000043447879'"
            ]
          },
          "metadata": {},
          "execution_count": 15
        }
      ]
    },
    {
      "cell_type": "code",
      "metadata": {
        "colab": {
          "base_uri": "https://localhost:8080/",
          "height": 37
        },
        "id": "BiTqiZdglQ6S",
        "outputId": "2ae88ac5-a026-450e-aaa0-9de8cfdee11d"
      },
      "source": [
        "# the same as previous\n",
        "\n",
        "account_number.rjust(12,\"0\")"
      ],
      "execution_count": null,
      "outputs": [
        {
          "output_type": "execute_result",
          "data": {
            "application/vnd.google.colaboratory.intrinsic+json": {
              "type": "string"
            },
            "text/plain": [
              "'000043447879'"
            ]
          },
          "metadata": {},
          "execution_count": 16
        }
      ]
    },
    {
      "cell_type": "markdown",
      "metadata": {
        "id": "4WKZJApxlaU-"
      },
      "source": [
        "#### f-strings - formatted string literals (since python 3.6)"
      ]
    },
    {
      "cell_type": "code",
      "metadata": {
        "colab": {
          "base_uri": "https://localhost:8080/",
          "height": 37
        },
        "id": "dwz6wHemlY5Q",
        "outputId": "f56a8c7c-9bbe-4505-fa8f-280ae96ca7be"
      },
      "source": [
        "price = 11.23\n",
        "f\"Price in Euro: {price}\""
      ],
      "execution_count": null,
      "outputs": [
        {
          "output_type": "execute_result",
          "data": {
            "application/vnd.google.colaboratory.intrinsic+json": {
              "type": "string"
            },
            "text/plain": [
              "'Price in Euro: 11.23'"
            ]
          },
          "metadata": {},
          "execution_count": 17
        }
      ]
    },
    {
      "cell_type": "code",
      "metadata": {
        "colab": {
          "base_uri": "https://localhost:8080/",
          "height": 37
        },
        "id": "OYk8zsfzlp7W",
        "outputId": "43b02fd8-1c51-4773-fb48-20ff398a2687"
      },
      "source": [
        "f\"Price in Swiss Franks: {price * 1.086}\""
      ],
      "execution_count": null,
      "outputs": [
        {
          "output_type": "execute_result",
          "data": {
            "application/vnd.google.colaboratory.intrinsic+json": {
              "type": "string"
            },
            "text/plain": [
              "'Price in Swiss Franks: 12.195780000000001'"
            ]
          },
          "metadata": {},
          "execution_count": 18
        }
      ]
    },
    {
      "cell_type": "code",
      "metadata": {
        "colab": {
          "base_uri": "https://localhost:8080/",
          "height": 37
        },
        "id": "a6qzydhIlwTt",
        "outputId": "38dc4918-a366-4d52-87bd-22cd6bf26824"
      },
      "source": [
        "f\"Price in Swiss Franks: {price * 1.086:5.2f}\""
      ],
      "execution_count": null,
      "outputs": [
        {
          "output_type": "execute_result",
          "data": {
            "application/vnd.google.colaboratory.intrinsic+json": {
              "type": "string"
            },
            "text/plain": [
              "'Price in Swiss Franks: 12.20'"
            ]
          },
          "metadata": {},
          "execution_count": 19
        }
      ]
    },
    {
      "cell_type": "code",
      "metadata": {
        "id": "OBrqVAqWlyzP"
      },
      "source": [
        ""
      ],
      "execution_count": null,
      "outputs": []
    }
  ]
}