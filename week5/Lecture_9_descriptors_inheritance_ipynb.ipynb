{
  "nbformat": 4,
  "nbformat_minor": 0,
  "metadata": {
    "colab": {
      "name": "Lecture 9. Descriptors, inheritance.ipynb.ipynb",
      "provenance": [],
      "collapsed_sections": [],
      "authorship_tag": "ABX9TyOnfHhRUFWLWunoarVUQmVh",
      "include_colab_link": true
    },
    "kernelspec": {
      "name": "python3",
      "display_name": "Python 3"
    },
    "language_info": {
      "name": "python"
    }
  },
  "cells": [
    {
      "cell_type": "markdown",
      "metadata": {
        "id": "view-in-github",
        "colab_type": "text"
      },
      "source": [
        "<a href=\"https://colab.research.google.com/github/justalge/another_python_tutorial/blob/main/week5/Lecture_9_descriptors_inheritance_ipynb.ipynb\" target=\"_parent\"><img src=\"https://colab.research.google.com/assets/colab-badge.svg\" alt=\"Open In Colab\"/></a>"
      ]
    },
    {
      "cell_type": "markdown",
      "metadata": {
        "id": "J44mJzDRHfmh"
      },
      "source": [
        "## Descriptors\n",
        "\n",
        "Descriptors were introduced to Python in version 2.2. That time the \"What's New in Python2.2\" mentioned: \"The one big idea underlying the new class model is that an API for describing the attributes of an object using descriptors has been formalized. Descriptors specify the value of an attribute, stating whether it’s a method or a field. With the descriptor API, static methods and class methods become possible, as well as more exotic constructs.\"\n",
        "\n",
        "**A descriptor is an object attribute with \"binding behavior\", one whose attribute access has been overridden by methods in the descriptor protocol. Those methods are \\_\\_get__(),  \\_\\_set__(), and \\_\\_delete__()**\n",
        "\n",
        "If any of those methods are defined for an object, it is said to be a descriptor.\n",
        "\n",
        "Let a closer look at what is happening. Assuming we have an object obj: What happens if we try to access an attribute (or property) ap? \"Accesssing\" the attribute means to \"get\" the value, so the attribute is used for example in a print function or inside of an expression. Both the obj and the class belong to type(obj) contain a dictionary attribute __dict__. This situation is viuslaized in the following diagram:\n",
        "\n",
        "![](https://www.python-course.eu/images/lookup_chain_properties_700w.webp)\n",
        "\n",
        "`obj.ap` has a lookup chain starting with `obj.__dict__['ap']`, i.e. checks if obj.ap is a key of the dictionary `obj.__dict__['ap']`\n",
        "\n",
        "![](https://www.python-course.eu/images/lookup_chain_properties2_700w.webp)\n",
        "\n",
        "If ap is not a key of `obj.__dict__`, it will try to lookup `type(obj).__dict__['ap']`\n",
        "\n",
        "![](https://www.python-course.eu/images/lookup_chain_properties3_700w.webp)\n",
        "\n",
        "If obj is not contained in this dictionary either, it will continue checking through the base classes of type(ap) excluding metaclasses.\n",
        "\n",
        "We demonstrate this in an example:"
      ]
    },
    {
      "cell_type": "code",
      "metadata": {
        "colab": {
          "base_uri": "https://localhost:8080/"
        },
        "id": "lMd2OawfHNm4",
        "outputId": "d950634f-d9b5-4691-a1d5-cc481db8bda4"
      },
      "source": [
        "class A:\n",
        "    \n",
        "    ca_A = \"class attribute of A\"\n",
        "    \n",
        "    def __init__(self):\n",
        "        self.ia_A = \"instance attribute of A instance\"\n",
        "        \n",
        "class B(A):\n",
        " \n",
        "    ca_B = \"class attribute of B\"\n",
        "    \n",
        "    def __init__(self):\n",
        "        super().__init__()\n",
        "        self.ia_B = \"instance attribute of A instance\"\n",
        "\n",
        "x = B()\n",
        "\n",
        "print(x.ia_B)\n",
        "print(x.ca_B)\n",
        "print(x.ia_A)\n",
        "print(x.ca_A)"
      ],
      "execution_count": null,
      "outputs": [
        {
          "output_type": "stream",
          "name": "stdout",
          "text": [
            "instance attribute of A instance\n",
            "class attribute of B\n",
            "instance attribute of A instance\n",
            "class attribute of A\n"
          ]
        }
      ]
    },
    {
      "cell_type": "markdown",
      "metadata": {
        "id": "wySurZCrJjUI"
      },
      "source": [
        "If we call `print(x.non_existing)` we get the following exception:"
      ]
    },
    {
      "cell_type": "code",
      "metadata": {
        "colab": {
          "base_uri": "https://localhost:8080/",
          "height": 198
        },
        "id": "pvIA3L9KJegg",
        "outputId": "c523d6db-7ca9-430a-d6cf-30df61c56d71"
      },
      "source": [
        "print(x.non_existing)"
      ],
      "execution_count": null,
      "outputs": [
        {
          "output_type": "error",
          "ename": "AttributeError",
          "evalue": "ignored",
          "traceback": [
            "\u001b[0;31m---------------------------------------------------------------------------\u001b[0m",
            "\u001b[0;31mAttributeError\u001b[0m                            Traceback (most recent call last)",
            "\u001b[0;32m<ipython-input-3-119192d61d5e>\u001b[0m in \u001b[0;36m<module>\u001b[0;34m()\u001b[0m\n\u001b[0;32m----> 1\u001b[0;31m \u001b[0mprint\u001b[0m\u001b[0;34m(\u001b[0m\u001b[0mx\u001b[0m\u001b[0;34m.\u001b[0m\u001b[0mnon_existing\u001b[0m\u001b[0;34m)\u001b[0m\u001b[0;34m\u001b[0m\u001b[0;34m\u001b[0m\u001b[0m\n\u001b[0m",
            "\u001b[0;31mAttributeError\u001b[0m: 'B' object has no attribute 'non_existing'"
          ]
        }
      ]
    },
    {
      "cell_type": "markdown",
      "metadata": {
        "id": "UQ41q_wCKD3U"
      },
      "source": [
        "If the looked-up value is an object defining one of the descriptor methods, then Python may override the default behavior and invoke the descriptor method instead. Where this occurs in the precedence chain depends on which descriptor methods were defined.\n",
        "\n",
        "Descriptors provide a powerful, general purpose protocol, which is the underlying mechanism behind properties, methods, static methods, class methods, and super(). Descriptors were needed to implement the so-called new style classes introduced in version 2.2. The \"new style classes\" are the default nowadays\n",
        "\n",
        "#### Descriptor protocol\n",
        "\n",
        "The general descriptor protocol consists of three methods:\n",
        "\n",
        "* `descr.__get__(self, obj, type=None) -> value`\n",
        "* `descr.__set__(self, obj, value) -> None`\n",
        "* `descr.__delete__(self, obj) -> None`\n",
        "\n",
        "If you define one or more of these methods, you will create a descriptor. We distinguish between data descriptors and non-data descriptors:\n",
        "\n",
        "* **non-data descriptor** If we define only the \\_\\_get__() method, we create a non-data descriptor, which are mostly used for methods\n",
        "* **data descriptor** If an object defines \\_\\_set__() or \\_\\_delete__(), it is considered a data descriptor. To make a read-only data descriptor, define both \\_\\_get__() and \\_\\_set__() with the \\_\\_set__() raising an AttributeError when called. Defining the __set__() method with an exception raising placeholder is enough to make it a data descriptor\n",
        "\n",
        "We finally come now to our simple descriptor example in the following code:"
      ]
    },
    {
      "cell_type": "code",
      "metadata": {
        "colab": {
          "base_uri": "https://localhost:8080/"
        },
        "id": "pv0c87IxJnzZ",
        "outputId": "d2ac2db5-d4db-44ad-aae7-16560d43fb83"
      },
      "source": [
        "class SimpleDescriptor(object):\n",
        "    \"\"\"\n",
        "    A simple data descriptor that can set and return values\n",
        "    \"\"\"\n",
        "\n",
        "    def __init__(self, initval=None):\n",
        "        print(\"__init__ of SimpleDecorator called with initval: \", initval)\n",
        "        self.__set__(self, initval)\n",
        "\n",
        "    def __get__(self, instance, owner):\n",
        "        print('Instance:', instance, 'Owner', owner)\n",
        "        print('Getting (Retrieving) self.val: ', self.val)\n",
        "        return self.val\n",
        "\n",
        "    def __set__(self, instance, value):\n",
        "        print('Setting self.val to ', value)\n",
        "        self.val = value\n",
        "\n",
        "class MyClass(object):\n",
        "    \n",
        "    x = SimpleDescriptor(\"green\")"
      ],
      "execution_count": null,
      "outputs": [
        {
          "output_type": "stream",
          "name": "stdout",
          "text": [
            "__init__ of SimpleDecorator called with initval:  green\n",
            "Setting self.val to  green\n"
          ]
        }
      ]
    },
    {
      "cell_type": "code",
      "metadata": {
        "id": "fOFHO27eO69U"
      },
      "source": [
        "m = MyClass()"
      ],
      "execution_count": null,
      "outputs": []
    },
    {
      "cell_type": "code",
      "metadata": {
        "colab": {
          "base_uri": "https://localhost:8080/"
        },
        "id": "jKbaCbtrPGBd",
        "outputId": "6c232343-8aba-4449-a43b-36f1a8128403"
      },
      "source": [
        "print(m.x)"
      ],
      "execution_count": null,
      "outputs": [
        {
          "output_type": "stream",
          "name": "stdout",
          "text": [
            "Instance: <__main__.MyClass object at 0x7fe368477e90> Owner <class '__main__.MyClass'>\n",
            "Getting (Retrieving) self.val:  green\n",
            "green\n"
          ]
        }
      ]
    },
    {
      "cell_type": "code",
      "metadata": {
        "colab": {
          "base_uri": "https://localhost:8080/"
        },
        "id": "OHGCYcWnPS8Z",
        "outputId": "bf93fcae-4e22-47cd-96aa-78dcc2e81259"
      },
      "source": [
        "m"
      ],
      "execution_count": null,
      "outputs": [
        {
          "output_type": "execute_result",
          "data": {
            "text/plain": [
              "<__main__.MyClass at 0x7fe368477e90>"
            ]
          },
          "metadata": {},
          "execution_count": 32
        }
      ]
    },
    {
      "cell_type": "code",
      "metadata": {
        "colab": {
          "base_uri": "https://localhost:8080/"
        },
        "id": "zpB7JYTAPoFM",
        "outputId": "22f8e8c2-90d7-4ce2-c9b1-351bffcc69ea"
      },
      "source": [
        "m.x = \"yellow\""
      ],
      "execution_count": null,
      "outputs": [
        {
          "output_type": "stream",
          "name": "stdout",
          "text": [
            "Setting self.val to  yellow\n"
          ]
        }
      ]
    },
    {
      "cell_type": "code",
      "metadata": {
        "colab": {
          "base_uri": "https://localhost:8080/"
        },
        "id": "xsLz3r_IP1TO",
        "outputId": "699dfdde-4283-426a-f260-0273f17cf9b7"
      },
      "source": [
        "print(m.x)"
      ],
      "execution_count": null,
      "outputs": [
        {
          "output_type": "stream",
          "name": "stdout",
          "text": [
            "Instance: <__main__.MyClass object at 0x7fe368477e90> Owner <class '__main__.MyClass'>\n",
            "Getting (Retrieving) self.val:  yellow\n",
            "yellow\n"
          ]
        }
      ]
    },
    {
      "cell_type": "markdown",
      "metadata": {
        "id": "txKHHC2VQchy"
      },
      "source": [
        "The third parameter owner of \\_\\_get__ is always the owner class and provides users with an option to do something with the class that was used to call the descriptor. Usually, i.e. if the descriptor is called through an object obj, the object type can be deduced by calling type(obj). The situation is different, if the descriptor is invoked through a class. In this case it is None and it wouldn't be possible to access the class unless the third argument is given. The second parameter instance is the instance that the attribute was accessed through, or None when the attribute is accessed through the owner.\n",
        "\n",
        "Let's have a look at the \\_\\_dict__ dictionaries of both the instances and the class:"
      ]
    },
    {
      "cell_type": "code",
      "metadata": {
        "colab": {
          "base_uri": "https://localhost:8080/"
        },
        "id": "QEccI1bkQUhB",
        "outputId": "a5618638-17c8-41c4-9b30-01ccaa8eccc2"
      },
      "source": [
        "print(m.__dict__)"
      ],
      "execution_count": null,
      "outputs": [
        {
          "output_type": "stream",
          "name": "stdout",
          "text": [
            "{}\n"
          ]
        }
      ]
    },
    {
      "cell_type": "code",
      "metadata": {
        "colab": {
          "base_uri": "https://localhost:8080/"
        },
        "id": "4O_6gj_6SwkD",
        "outputId": "3a652eb1-60da-4316-c1d7-ad1ea160968a"
      },
      "source": [
        "print(MyClass.__dict__)"
      ],
      "execution_count": null,
      "outputs": [
        {
          "output_type": "stream",
          "name": "stdout",
          "text": [
            "{'__module__': '__main__', 'x': <__main__.SimpleDescriptor object at 0x7fe36845a290>, '__dict__': <attribute '__dict__' of 'MyClass' objects>, '__weakref__': <attribute '__weakref__' of 'MyClass' objects>, '__doc__': None}\n"
          ]
        }
      ]
    },
    {
      "cell_type": "code",
      "metadata": {
        "colab": {
          "base_uri": "https://localhost:8080/"
        },
        "id": "Af3szqRGS2hO",
        "outputId": "06d7dfc9-ec5a-4a8d-833b-c39360b1c572"
      },
      "source": [
        "print(SimpleDescriptor.__dict__)"
      ],
      "execution_count": null,
      "outputs": [
        {
          "output_type": "stream",
          "name": "stdout",
          "text": [
            "{'__module__': '__main__', '__doc__': '\\n    A simple data descriptor that can set and return values\\n    ', '__init__': <function SimpleDescriptor.__init__ at 0x7fe36840c710>, '__get__': <function SimpleDescriptor.__get__ at 0x7fe36840c8c0>, '__set__': <function SimpleDescriptor.__set__ at 0x7fe36840c200>, '__dict__': <attribute '__dict__' of 'SimpleDescriptor' objects>, '__weakref__': <attribute '__weakref__' of 'SimpleDescriptor' objects>}\n"
          ]
        }
      ]
    },
    {
      "cell_type": "markdown",
      "metadata": {
        "id": "awD29EsiVqZr"
      },
      "source": [
        "The methods \\_\\_get__(),  \\_\\_set__(), and \\_\\_delete__() will only apply if an instance of the class containing the method (a so-called descriptor class) appears in an owner class (the descriptor must be in either the owner’s class dictionary or in the class dictionary for one of its parents). In the examples above, the attribute 'x' is in the owner \\_\\_dict__ of the owner class MyClass\n",
        "\n",
        "For example, obj.d looks up d in the dictionary \\_\\_dict__ of obj. If d defines the method \\_\\_get__(), then d.\\_\\_get__(obj) is invoked according to the precedence rules listed below.\n",
        "\n",
        "It makes a difference if obj is an object or a class:\n",
        "\n",
        "* For objects, the method to control the invocation is in object.\\_\\_getattribute__() which transforms b.x into the call type(b).\\_\\_dict__['x'].\\_\\_get__(b, type(b)). The implementation works through a precedence chain that gives data descriptors priority over instance variables, instance variables priority over non-data descriptors, and assigns lowest priority to \\_\\_getattr__() if provided\n",
        "* For classes, the corresponing method is in the type class, i.e. type.\\_\\_getattribute__() which transforms B.x into B.\\_\\_dict__['x'].\\_\\_get__(None, B)\n",
        "\n",
        "\\_\\_getattribute__ is not implemented in Python but in C. The following Python code is a simulation of the logic in Python. We can see that the descriptors are called by the \\_\\_getattribute__ implementations"
      ]
    },
    {
      "cell_type": "code",
      "metadata": {
        "colab": {
          "base_uri": "https://localhost:8080/",
          "height": 91
        },
        "id": "il4V4vMEWhLm",
        "outputId": "a18f6fc8-c3ff-4504-f63d-14fc199edf92"
      },
      "source": [
        "def __getattribute__(self, key):\n",
        "    \"Emulate type_getattro() in Objects/typeobject.c\"\n",
        "    v = type.__getattribute__(self, key)\n",
        "    if hasattr(v, '__get__'):\n",
        "        return v.__get__(None, self)\n",
        "    return v\n",
        "\n",
        "m.__getattribute__(\"x\")"
      ],
      "execution_count": null,
      "outputs": [
        {
          "output_type": "stream",
          "name": "stdout",
          "text": [
            "Instance: <__main__.MyClass object at 0x7fe368477e90> Owner <class '__main__.MyClass'>\n",
            "Getting (Retrieving) self.val:  yellow\n"
          ]
        },
        {
          "output_type": "execute_result",
          "data": {
            "application/vnd.google.colaboratory.intrinsic+json": {
              "type": "string"
            },
            "text/plain": [
              "'yellow'"
            ]
          },
          "metadata": {},
          "execution_count": 43
        }
      ]
    },
    {
      "cell_type": "markdown",
      "metadata": {
        "id": "dacgA3onts09"
      },
      "source": [
        "#### Understanding the difference between \\_\\_getattr__ and \\_\\_getattribute__ and how to avoid infinite recursion\n",
        "\n",
        "##### Use of \\_\\_getattr__\n",
        "\n",
        "Python will call this method whenever you request an attribute that hasn't already been defined, so you can define what to do with it\n",
        "\n",
        "A classic use case:"
      ]
    },
    {
      "cell_type": "code",
      "metadata": {
        "colab": {
          "base_uri": "https://localhost:8080/"
        },
        "id": "SASupUnRwmTH",
        "outputId": "20ce770f-7598-4b3d-d8b3-157475994f9e"
      },
      "source": [
        "class A:\n",
        "    def __getattr__(self, name):\n",
        "       return 'Attribute doessn\\'t exist'\n",
        "a = A()\n",
        "a.x = 5\n",
        "# Now a.somekey will give th string above:\n",
        "print(a.somekey)\n",
        "a.x"
      ],
      "execution_count": null,
      "outputs": [
        {
          "output_type": "stream",
          "name": "stdout",
          "text": [
            "Attribute doessn't exist\n"
          ]
        },
        {
          "output_type": "execute_result",
          "data": {
            "text/plain": [
              "5"
            ]
          },
          "metadata": {},
          "execution_count": 65
        }
      ]
    },
    {
      "cell_type": "markdown",
      "metadata": {
        "id": "qUUeCJ6dxiC1"
      },
      "source": [
        "##### Use of \\_\\_getattribute__\n",
        "\n",
        "If you need to catch every attribute regardless whether it exists or not, use \\_\\_getattribute__ instead. The difference is that \\_\\_getattr__ only gets called for attributes that don't actually exist. If you set an attribute directly, referencing that attribute will retrieve it without calling \\_\\_getattr__\n",
        "\n",
        "\\_\\_getattribute__ is called all the times:"
      ]
    },
    {
      "cell_type": "code",
      "metadata": {
        "colab": {
          "base_uri": "https://localhost:8080/",
          "height": 409
        },
        "id": "hiIks-s7xzko",
        "outputId": "619fd43f-6385-4ce9-8b26-73f1f54857e9"
      },
      "source": [
        "class Foo(object):\n",
        "    def __init__(self, a):\n",
        "        self.a = 1\n",
        "\n",
        "    def __getattribute__(self, attr):\n",
        "        try:\n",
        "            return self.__dict__[attr]\n",
        "        except KeyError:\n",
        "            return 'default'\n",
        "f = Foo(1)\n",
        "f.a"
      ],
      "execution_count": null,
      "outputs": [
        {
          "output_type": "error",
          "ename": "RecursionError",
          "evalue": "ignored",
          "traceback": [
            "\u001b[0;31m---------------------------------------------------------------------------\u001b[0m",
            "\u001b[0;31mRecursionError\u001b[0m                            Traceback (most recent call last)",
            "\u001b[0;32m<ipython-input-66-019b0622ff9e>\u001b[0m in \u001b[0;36m<module>\u001b[0;34m()\u001b[0m\n\u001b[1;32m      9\u001b[0m             \u001b[0;32mreturn\u001b[0m \u001b[0;34m'default'\u001b[0m\u001b[0;34m\u001b[0m\u001b[0;34m\u001b[0m\u001b[0m\n\u001b[1;32m     10\u001b[0m \u001b[0mf\u001b[0m \u001b[0;34m=\u001b[0m \u001b[0mFoo\u001b[0m\u001b[0;34m(\u001b[0m\u001b[0;36m1\u001b[0m\u001b[0;34m)\u001b[0m\u001b[0;34m\u001b[0m\u001b[0;34m\u001b[0m\u001b[0m\n\u001b[0;32m---> 11\u001b[0;31m \u001b[0mf\u001b[0m\u001b[0;34m.\u001b[0m\u001b[0ma\u001b[0m\u001b[0;34m\u001b[0m\u001b[0;34m\u001b[0m\u001b[0m\n\u001b[0m",
            "\u001b[0;32m<ipython-input-66-019b0622ff9e>\u001b[0m in \u001b[0;36m__getattribute__\u001b[0;34m(self, attr)\u001b[0m\n\u001b[1;32m      5\u001b[0m     \u001b[0;32mdef\u001b[0m \u001b[0m__getattribute__\u001b[0m\u001b[0;34m(\u001b[0m\u001b[0mself\u001b[0m\u001b[0;34m,\u001b[0m \u001b[0mattr\u001b[0m\u001b[0;34m)\u001b[0m\u001b[0;34m:\u001b[0m\u001b[0;34m\u001b[0m\u001b[0;34m\u001b[0m\u001b[0m\n\u001b[1;32m      6\u001b[0m         \u001b[0;32mtry\u001b[0m\u001b[0;34m:\u001b[0m\u001b[0;34m\u001b[0m\u001b[0;34m\u001b[0m\u001b[0m\n\u001b[0;32m----> 7\u001b[0;31m             \u001b[0;32mreturn\u001b[0m \u001b[0mself\u001b[0m\u001b[0;34m.\u001b[0m\u001b[0m__dict__\u001b[0m\u001b[0;34m[\u001b[0m\u001b[0mattr\u001b[0m\u001b[0;34m]\u001b[0m\u001b[0;34m\u001b[0m\u001b[0;34m\u001b[0m\u001b[0m\n\u001b[0m\u001b[1;32m      8\u001b[0m         \u001b[0;32mexcept\u001b[0m \u001b[0mKeyError\u001b[0m\u001b[0;34m:\u001b[0m\u001b[0;34m\u001b[0m\u001b[0;34m\u001b[0m\u001b[0m\n\u001b[1;32m      9\u001b[0m             \u001b[0;32mreturn\u001b[0m \u001b[0;34m'default'\u001b[0m\u001b[0;34m\u001b[0m\u001b[0;34m\u001b[0m\u001b[0m\n",
            "... last 1 frames repeated, from the frame below ...\n",
            "\u001b[0;32m<ipython-input-66-019b0622ff9e>\u001b[0m in \u001b[0;36m__getattribute__\u001b[0;34m(self, attr)\u001b[0m\n\u001b[1;32m      5\u001b[0m     \u001b[0;32mdef\u001b[0m \u001b[0m__getattribute__\u001b[0m\u001b[0;34m(\u001b[0m\u001b[0mself\u001b[0m\u001b[0;34m,\u001b[0m \u001b[0mattr\u001b[0m\u001b[0;34m)\u001b[0m\u001b[0;34m:\u001b[0m\u001b[0;34m\u001b[0m\u001b[0;34m\u001b[0m\u001b[0m\n\u001b[1;32m      6\u001b[0m         \u001b[0;32mtry\u001b[0m\u001b[0;34m:\u001b[0m\u001b[0;34m\u001b[0m\u001b[0;34m\u001b[0m\u001b[0m\n\u001b[0;32m----> 7\u001b[0;31m             \u001b[0;32mreturn\u001b[0m \u001b[0mself\u001b[0m\u001b[0;34m.\u001b[0m\u001b[0m__dict__\u001b[0m\u001b[0;34m[\u001b[0m\u001b[0mattr\u001b[0m\u001b[0;34m]\u001b[0m\u001b[0;34m\u001b[0m\u001b[0;34m\u001b[0m\u001b[0m\n\u001b[0m\u001b[1;32m      8\u001b[0m         \u001b[0;32mexcept\u001b[0m \u001b[0mKeyError\u001b[0m\u001b[0;34m:\u001b[0m\u001b[0;34m\u001b[0m\u001b[0;34m\u001b[0m\u001b[0m\n\u001b[1;32m      9\u001b[0m             \u001b[0;32mreturn\u001b[0m \u001b[0;34m'default'\u001b[0m\u001b[0;34m\u001b[0m\u001b[0;34m\u001b[0m\u001b[0m\n",
            "\u001b[0;31mRecursionError\u001b[0m: maximum recursion depth exceeded"
          ]
        }
      ]
    },
    {
      "cell_type": "markdown",
      "metadata": {
        "id": "rMaJ7_exx4ue"
      },
      "source": [
        "This will cause infinite recursion. The culprit here is the line return `self.__dict__[attr]`. Let's pretend (It's close enough to the truth) that all attributes are stored in self.\\_\\_dict__ and available by their name. The line\n",
        "\n",
        "`f.a`\n",
        "\n",
        "attempts to access the a attribute of f. This calls `f.__getattribute__('a')` \\_\\_dict__ is an attribute of self == f and so python calls `f.__getattribute__('__dict__')` which again tries to access the attribute \\_\\_dict__. This is infinite recursion. The 'correct' way to write the above class using \\_\\_getattribute__ is:"
      ]
    },
    {
      "cell_type": "code",
      "metadata": {
        "colab": {
          "base_uri": "https://localhost:8080/"
        },
        "id": "e_mBUfbpyXpJ",
        "outputId": "7637613c-9fd1-40b2-9987-e0cf286c3514"
      },
      "source": [
        "class Foo(object):\n",
        "    def __init__(self, a):\n",
        "        self.a = 1\n",
        "\n",
        "    def __getattribute__(self, attr):\n",
        "        return super(Foo, self).__getattribute__(attr)\n",
        "\n",
        "f = Foo(1)\n",
        "f.a"
      ],
      "execution_count": null,
      "outputs": [
        {
          "output_type": "execute_result",
          "data": {
            "text/plain": [
              "1"
            ]
          },
          "metadata": {},
          "execution_count": 70
        }
      ]
    },
    {
      "cell_type": "markdown",
      "metadata": {
        "id": "pqlfrPyXfGvB"
      },
      "source": [
        "`super(Foo, self).__getattribute__(attr)` binds the \\_\\_getattribute__ method of the 'nearest' superclass (formally, the next class in the class's Method Resolution Order, or MRO) to the current object self and then calls it and lets that do the work. More [here](https://newbedev.com/understanding-the-difference-between-getattr-and-getattribute)\n",
        "\n",
        "The object returned by super() also has a custom \\_\\_getattribute__() method for invoking descriptors. The attribute lookup super(B, obj).m searches obj.\\_\\_class__.\\_\\_mro__ for the base class A immediately following B and then returns A.\\_\\_dict__['m'].\\_\\_get__(obj, B). If not a descriptor, m is returned unchanged. If not in the dictionary, m reverts to a search using object.\\_\\_getattribute__()\n",
        "\n",
        "The details above show that the mechanism for descriptors is embedded in the \\_\\_getattribute__() methods for object, type, and super(). Classes inherit this machinery when they derive from object or if they have a meta-class providing similar functionality. This means also that one can turn-off automatic descriptor calls by overriding \\_\\_getattribute__()\n",
        "\n",
        "#### Examples:"
      ]
    },
    {
      "cell_type": "code",
      "metadata": {
        "colab": {
          "base_uri": "https://localhost:8080/"
        },
        "id": "FugrlSWQb9Vb",
        "outputId": "fc81cb9d-5fc0-4119-c70d-84c6f673aea8"
      },
      "source": [
        "from weakref import WeakKeyDictionary\n",
        " \n",
        "class Voter:\n",
        "    \n",
        "    required_age = 18 # in Germany\n",
        "    \n",
        "    def __init__(self):\n",
        "        self.age = WeakKeyDictionary()\n",
        " \n",
        "    def __get__(self, instance_obj, objtype):\n",
        "        return self.age.get(instance_obj)\n",
        " \n",
        "    def __set__(self, instance, new_age):\n",
        "        if new_age < Voter.required_age:\n",
        "            msg = '{name} is not old enough to vote in Germany'\n",
        "            raise Exception(msg.format(name=instance.name))\n",
        "        self.age[instance] = new_age\n",
        "        print('{name} can vote in Germany'.format(\n",
        "            name=instance.name))\n",
        " \n",
        "    def __delete__(self, instance):\n",
        "        del self.age[instance]\n",
        " \n",
        " \n",
        "class Person:\n",
        "    voter_age = Voter()\n",
        " \n",
        "    def __init__(self, name, age):\n",
        "        self.name = name\n",
        "        self.voter_age = age\n",
        " \n",
        " \n",
        "p1 = Person('Ben', 23)\n",
        "p2 = Person('Emilia', 22)\n",
        "\n",
        "p2.voter_age"
      ],
      "execution_count": null,
      "outputs": [
        {
          "output_type": "stream",
          "name": "stdout",
          "text": [
            "Ben can vote in Germany\n",
            "Emilia can vote in Germany\n"
          ]
        },
        {
          "output_type": "execute_result",
          "data": {
            "text/plain": [
              "22"
            ]
          },
          "metadata": {},
          "execution_count": 51
        }
      ]
    },
    {
      "cell_type": "markdown",
      "metadata": {
        "id": "iawYzKhlf91g"
      },
      "source": [
        "#### [A pure sample implementation of a property() class](https://docs.python.org/3/howto/descriptor.html#properties)\n",
        "\n",
        "[How does the @property decorator work in Python](https://stackoverflow.com/questions/17330160/how-does-the-property-decorator-work-in-python)\n",
        "Let's make our Property implementation a little bit more talkative with some print functions to see what is going on:\n",
        "\n"
      ]
    },
    {
      "cell_type": "code",
      "metadata": {
        "colab": {
          "base_uri": "https://localhost:8080/"
        },
        "id": "fSUcoc7Kfj8X",
        "outputId": "c31f8040-b15f-425d-c405-c73d9b99566d"
      },
      "source": [
        "class Property:\n",
        "    \"Emulate PyProperty_Type() in Objects/descrobject.c\"\n",
        "\n",
        "    def __init__(self, fget=None, fset=None, fdel=None, doc=None):\n",
        "        print(\"\\n__init__ of Property called with:\")\n",
        "        print(\"fget=\" + str(fget) + \" fset=\" + str(fset) + \\\n",
        "              \" fdel=\" + str(fdel) + \" doc=\" + str(doc))\n",
        "        self.fget = fget\n",
        "        self.fset = fset\n",
        "        self.fdel = fdel\n",
        "        if doc is None and fget is not None:\n",
        "            doc = fget.__doc__\n",
        "        self.__doc__ = doc\n",
        "\n",
        "    def __get__(self, obj, objtype=None):\n",
        "        print(\"\\nProperty.__get__ has been called!\")\n",
        "        if obj is None:\n",
        "            return self\n",
        "        if self.fget is None:\n",
        "            raise AttributeError(\"unreadable attribute\")\n",
        "        return self.fget(obj)\n",
        "\n",
        "    def __set__(self, obj, value):\n",
        "        print(\"\\nProperty.__set__ has been called!\")\n",
        "        if self.fset is None:\n",
        "            raise AttributeError(\"can't set attribute\")\n",
        "        self.fset(obj, value)\n",
        "\n",
        "    def __delete__(self, obj):\n",
        "        print(\"\\nProperty.__delete__ has been called!\")\n",
        "        if self.fdel is None:\n",
        "            raise AttributeError(\"can't delete attribute\")\n",
        "        self.fdel(obj)\n",
        "\n",
        "    def getter(self, fget):\n",
        "        print(\"\\nProperty.getter has been called!\")\n",
        "        return type(self)(fget, self.fset, self.fdel, self.__doc__)\n",
        "\n",
        "    def setter(self, fset):\n",
        "        print(\"\\nProperty.setter has been called!\")\n",
        "        return type(self)(self.fget, fset, self.fdel, self.__doc__)\n",
        "\n",
        "    def deleter(self, fdel):\n",
        "        print(\"\\nProperty.deleter has been called!\")\n",
        "        return type(self)(self.fget, self.fset, fdel, self.__doc__)\n",
        "    \n",
        "class A:\n",
        "    \n",
        "    def __init__(self, prop):\n",
        "        self.prop = prop\n",
        "    \n",
        "    @Property\n",
        "    def prop(self):\n",
        "        \"\"\" This will be the doc string of the property \"\"\"\n",
        "        print(\"The Property 'prop' will be returned now:\")\n",
        "        return self.__prop\n",
        "    \n",
        "    @prop.setter\n",
        "    def prop(self, prop):\n",
        "        print(\"prop will be set\")\n",
        "        self.__prop = prop\n",
        "        \n",
        "    def prop2_getter(self):\n",
        "        return self.__prop2\n",
        "    \n",
        "    def prop2_setter(self, prop2):\n",
        "        self.__prop2 = prop2\n",
        "        \n",
        "    prop2 = Property(prop2_getter, prop2_setter)\n",
        "        \n",
        "print(\"Initializing the Property 'prop' with the value 'Python'\")\n",
        "x = A(\"Python\")\n",
        "print(\"The value is: \", x.prop)\n",
        "print(\"Reassigning the Property 'prop' to 'Python descriptors'\")\n",
        "x.prop = \"Python descriptors\"\n",
        "print(\"The value is: \", x.prop)\n",
        "\n",
        "print(A.prop.getter(x))\n",
        "\n",
        "def new_prop_setter(self, prop):\n",
        "    if prop==\"foo\":\n",
        "        self.__prop = \"foobar\"\n",
        "    else:\n",
        "        self.__prop = prop\n",
        "        \n",
        "A.prop.setter"
      ],
      "execution_count": null,
      "outputs": [
        {
          "output_type": "stream",
          "name": "stdout",
          "text": [
            "\n",
            "__init__ of Property called with:\n",
            "fget=<function A.prop at 0x7fe368418830> fset=None fdel=None doc=None\n",
            "\n",
            "Property.setter has been called!\n",
            "\n",
            "__init__ of Property called with:\n",
            "fget=<function A.prop at 0x7fe368418830> fset=<function A.prop at 0x7fe368418320> fdel=None doc= This will be the doc string of the property \n",
            "\n",
            "__init__ of Property called with:\n",
            "fget=<function A.prop2_getter at 0x7fe368439830> fset=<function A.prop2_setter at 0x7fe3684398c0> fdel=None doc=None\n",
            "Initializing the Property 'prop' with the value 'Python'\n",
            "\n",
            "Property.__set__ has been called!\n",
            "prop will be set\n",
            "\n",
            "Property.__get__ has been called!\n",
            "The Property 'prop' will be returned now:\n",
            "The value is:  Python\n",
            "Reassigning the Property 'prop' to 'Python descriptors'\n",
            "\n",
            "Property.__set__ has been called!\n",
            "prop will be set\n",
            "\n",
            "Property.__get__ has been called!\n",
            "The Property 'prop' will be returned now:\n",
            "The value is:  Python descriptors\n",
            "\n",
            "Property.__get__ has been called!\n",
            "\n",
            "Property.getter has been called!\n",
            "\n",
            "__init__ of Property called with:\n",
            "fget=<__main__.A object at 0x7fe368442350> fset=<function A.prop at 0x7fe368418320> fdel=None doc= This will be the doc string of the property \n",
            "<__main__.Property object at 0x7fe368433390>\n",
            "\n",
            "Property.__get__ has been called!\n"
          ]
        },
        {
          "output_type": "execute_result",
          "data": {
            "text/plain": [
              "<bound method Property.setter of <__main__.Property object at 0x7fe36bf1ae90>>"
            ]
          },
          "metadata": {},
          "execution_count": 55
        }
      ]
    },
    {
      "cell_type": "markdown",
      "metadata": {
        "id": "MSG5lrzsgPXq"
      },
      "source": [
        "A simple class using our Property implementation:"
      ]
    },
    {
      "cell_type": "code",
      "metadata": {
        "colab": {
          "base_uri": "https://localhost:8080/"
        },
        "id": "VdqiQUwXgMEn",
        "outputId": "2562aa1b-52c4-43c7-e835-060502f1e21e"
      },
      "source": [
        "class Robot:\n",
        "    def __init__(self, name=\"Marvin\", city=\"Freiburg\"):\n",
        "        self.name = name\n",
        "        self.city = city\n",
        "          \n",
        "    @Property\n",
        "    def name(self):\n",
        "        return self.__name\n",
        "    \n",
        "    @name.setter\n",
        "    def name(self, name):\n",
        "        if name == \"hello\":\n",
        "            self.__name = \"hi\"\n",
        "        else:\n",
        "            self.__name = name\n"
      ],
      "execution_count": null,
      "outputs": [
        {
          "output_type": "stream",
          "name": "stdout",
          "text": [
            "\n",
            "__init__ of Property called with:\n",
            "fget=<function Robot.name at 0x7fe368439d40> fset=None fdel=None doc=None\n",
            "\n",
            "Property.setter has been called!\n",
            "\n",
            "__init__ of Property called with:\n",
            "fget=<function Robot.name at 0x7fe368439d40> fset=<function Robot.name at 0x7fe368439a70> fdel=None doc=None\n"
          ]
        }
      ]
    },
    {
      "cell_type": "markdown",
      "metadata": {
        "id": "ySHOrMqkgUp2"
      },
      "source": [
        "Using our class Robot:"
      ]
    },
    {
      "cell_type": "code",
      "metadata": {
        "colab": {
          "base_uri": "https://localhost:8080/"
        },
        "id": "RwFSvgcXgTgW",
        "outputId": "1707ec93-5d4a-41df-b496-dac7125d7900"
      },
      "source": [
        "x = Robot(\"Marvin\")\n",
        "print(x.name)\n",
        "x.name = \"Eddie\"\n",
        "print(x.name)"
      ],
      "execution_count": null,
      "outputs": [
        {
          "output_type": "stream",
          "name": "stdout",
          "text": [
            "\n",
            "Property.__set__ has been called!\n",
            "\n",
            "Property.__get__ has been called!\n",
            "Marvin\n",
            "\n",
            "Property.__set__ has been called!\n",
            "\n",
            "Property.__get__ has been called!\n",
            "Eddie\n"
          ]
        }
      ]
    },
    {
      "cell_type": "markdown",
      "metadata": {
        "id": "DjyVvj2QhN9a"
      },
      "source": [
        "#### Is it possible to automatically create descriptors at runtime?\n",
        "\n",
        "Yes"
      ]
    },
    {
      "cell_type": "code",
      "metadata": {
        "colab": {
          "base_uri": "https://localhost:8080/"
        },
        "id": "IioGn6AJgXcX",
        "outputId": "a92e23b9-e526-4213-a96d-6b18fac10a02"
      },
      "source": [
        "class DynPropertyClass(object):\n",
        "\n",
        "    def add_property(self, attribute):\n",
        "        \"\"\" add a property to the class \"\"\"        \n",
        "\n",
        "        def get_attribute(self):\n",
        "            \"\"\" The value for attribute 'attribute' will be retrieved \"\"\"\n",
        "            return getattr(self, \"_\" + type(x).__name__ + \"__\" + attribute)\n",
        "        \n",
        "        def set_attribute(self, value):\n",
        "            \"\"\" The value for attribute 'attribute' will be retrieved \"\"\"\n",
        "            #setter = lambda self, value: self.setProperty(attribute, value)\n",
        "            setattr(self, \"_\" + type(x).__name__ + \"__\" + attribute, value)\n",
        "\n",
        "        #construct property attribute and add it to the class\n",
        "        setattr(type(self), attribute, property(fget=get_attribute, \n",
        "                                                fset=set_attribute, \n",
        "                                                doc=\"Auto‑generated method\"))\n",
        "\n",
        "\n",
        "    \n",
        "x = DynPropertyClass()\n",
        "x.add_property('name')\n",
        "x.add_property('city')\n",
        "x.name = \"Henry\"\n",
        "x.name\n",
        "x.city = \"Hamburg\"\n",
        "print(x.name, x.city)\n",
        "print(x.__dict__)"
      ],
      "execution_count": null,
      "outputs": [
        {
          "output_type": "stream",
          "name": "stdout",
          "text": [
            "Henry Hamburg\n",
            "{'_DynPropertyClass__name': 'Henry', '_DynPropertyClass__city': 'Hamburg'}\n"
          ]
        }
      ]
    },
    {
      "cell_type": "markdown",
      "metadata": {
        "id": "cABW_F_10Zvf"
      },
      "source": [
        "## Inheritance\n",
        "\n",
        "![](https://www.python-course.eu/images/dna2_800w.webp)\n",
        "\n",
        "No object-oriented programming language would be worthy to look at or use, if it didn't support inheritance. Inheritance was invented in 1969 for Simula. Python not only supports inheritance but multiple inheritance as well. Generally speaking, inheritance is the mechanism of deriving new classes from existing ones. By doing this, we get a hierarchy of classes. In most class-based object-oriented languages, an object created through inheritance (a \"child object\") acquires all, - though there are exceptions in some programming languages, - of the properties and behaviors of the parent object.\n",
        "\n",
        "Inheritance allows programmers to create classes that are built upon existing classes, and this enables a class created through inheritance to inherit the attributes and methods of the parent class. This means that inheritance supports code reusability. The methods or generally speaking the software inherited by a subclass is considered to be reused in the subclass. The relationships of objects or classes through inheritance give rise to a directed graph.\n",
        "\n",
        "The class from which a class inherits is called the parent or superclass. A class which inherits from a superclass is called a subclass, also called heir class or child class. Superclasses are sometimes called ancestors as well. There exists a hierarchical relationship between classes. It's similar to relationships or categorizations that we know from real life. Think about vehicles, for example. Bikes, cars, buses and trucks are vehicles. Pick-ups, vans, sports cars, convertibles and estate cars are all cars and by being cars they are vehicles as well. We could implement a vehicle class in Python, which might have methods like accelerate and brake. Cars, Buses and Trucks and Bikes can be implemented as subclasses which will inherit these methods from vehicle.\n",
        "\n",
        "![](https://www.python-course.eu/images/vehicles_classification_800w.webp)\n",
        "\n",
        "#### Syntax of Inheritance in Python\n",
        "\n",
        "The syntax for a subclass definition looks like this:\n",
        "\n",
        "\n",
        "```python\n",
        "class DerivedClassName(BaseClassName):\n",
        "    pass\n",
        "```\n",
        "\n",
        "\n",
        "Instead of the pass statement, there will be methods and attributes like in all other classes. The name BaseClassName must be defined in a scope containing the derived class definition.\n",
        "\n",
        "Now we are ready for a simple inheritance example with Python code:"
      ]
    },
    {
      "cell_type": "code",
      "metadata": {
        "colab": {
          "base_uri": "https://localhost:8080/"
        },
        "id": "lgzyCD0Q0ZOV",
        "outputId": "16674b92-4ea5-4bca-d2c6-52a25679f0e0"
      },
      "source": [
        "class Robot:\n",
        "    \n",
        "    def __init__(self, name):\n",
        "        self.name = name\n",
        "        \n",
        "    def say_hi(self):\n",
        "        print(\"Hi, I am \" + self.name)\n",
        "        \n",
        "class PhysicianRobot(Robot):\n",
        "    pass\n",
        "\n",
        "x = Robot(\"Marvin\")\n",
        "y = PhysicianRobot(\"James\")\n",
        "\n",
        "print(x, type(x))\n",
        "print(y, type(y))\n",
        "\n",
        "y.say_hi()"
      ],
      "execution_count": 73,
      "outputs": [
        {
          "output_type": "stream",
          "name": "stdout",
          "text": [
            "<__main__.Robot object at 0x7fe368433150> <class '__main__.Robot'>\n",
            "<__main__.PhysicianRobot object at 0x7fe36842a110> <class '__main__.PhysicianRobot'>\n",
            "Hi, I am James\n"
          ]
        }
      ]
    },
    {
      "cell_type": "markdown",
      "metadata": {
        "id": "5JAVwb5V2E6g"
      },
      "source": [
        "![](https://www.python-course.eu/images/marvin_and_james_300w.webp)\n",
        "\n",
        "If you look at the code of our PhysicianRobot class, you can see that we haven't defined any attributes or methods in this class. As the class PhysicianRobot is a subclass of Robot, it inherits, in this case, both the method \\_\\_init__ and say_hi. Inheriting these methods means that we can use them as if they were defined in the PhysicianRobot class. When we create an instance of PhysicianRobot, the \\_\\_init__ function will also create a name attribute. We can apply the say_hi method to the PhysisicianRobot object y, as we can see in the output from the code above\n",
        "\n",
        "#### Difference between type and isinstance\n",
        "\n",
        "You should also pay attention to the following facts, which we pointed out in other sections of our Python tutorial as well. People frequently ask where the difference between checking the type via the type function or the function isinstance is lies. The difference can be seen in the following code. We see that isinstance returns True if we compare an object either with the class it belongs to or with the superclass. Whereas the equality operator only returns True, if we compare an object with its own class:"
      ]
    },
    {
      "cell_type": "code",
      "metadata": {
        "id": "w_JJe0QAhWDZ",
        "colab": {
          "base_uri": "https://localhost:8080/"
        },
        "outputId": "3e3de64e-0006-49a4-c09e-ad35ff268036"
      },
      "source": [
        "x = Robot(\"Marvin\")\n",
        "y = PhysicianRobot(\"James\")\n",
        "\n",
        "print(isinstance(x, Robot), isinstance(y, Robot))\n",
        "print(isinstance(x, PhysicianRobot))\n",
        "print(isinstance(y, PhysicianRobot))\n",
        "\n",
        "print(type(y) == Robot, type(y) == PhysicianRobot)"
      ],
      "execution_count": 74,
      "outputs": [
        {
          "output_type": "stream",
          "name": "stdout",
          "text": [
            "True True\n",
            "False\n",
            "True\n",
            "False True\n"
          ]
        }
      ]
    },
    {
      "cell_type": "markdown",
      "metadata": {
        "id": "WL6qXaCV248W"
      },
      "source": [
        "This is even true for arbitrary ancestors of the class in the inheritance line:"
      ]
    },
    {
      "cell_type": "code",
      "metadata": {
        "colab": {
          "base_uri": "https://localhost:8080/"
        },
        "id": "YjawYQ2x2iUJ",
        "outputId": "281b72dc-27b8-4a2c-b460-c277479f11ca"
      },
      "source": [
        "class A:\n",
        "    pass\n",
        "\n",
        "class B(A):\n",
        "    pass\n",
        "\n",
        "class C(B):\n",
        "    pass\n",
        "\n",
        "x = C()\n",
        "print(isinstance(x, A))"
      ],
      "execution_count": 75,
      "outputs": [
        {
          "output_type": "stream",
          "name": "stdout",
          "text": [
            "True\n"
          ]
        }
      ]
    },
    {
      "cell_type": "markdown",
      "metadata": {
        "id": "VT2r6Ock3A-P"
      },
      "source": [
        "Now it should be clear, why PEP 8, the official Style Guide for Python code, says: \"Object type comparisons should always use isinstance() instead of comparing types directly.\"\n",
        "\n",
        "#### Overriding\n",
        "\n",
        "Let us get back to our new PhysicianRobot class. Imagine now that an instance of a PhysicianRobot should say hi in a different way. In this case, we have to redefine the method say_hi inside of the subclass PhysicianRobot:"
      ]
    },
    {
      "cell_type": "code",
      "metadata": {
        "colab": {
          "base_uri": "https://localhost:8080/"
        },
        "id": "1eWcbzD-27BG",
        "outputId": "2e45a718-56a1-4953-a248-a8076d460061"
      },
      "source": [
        "class Robot:\n",
        "    \n",
        "    def __init__(self, name):\n",
        "        self.name = name\n",
        "        \n",
        "    def say_hi(self):\n",
        "        print(\"Hi, I am \" + self.name)\n",
        "        \n",
        "class PhysicianRobot(Robot):\n",
        "\n",
        "    def say_hi(self):\n",
        "        print(\"Everything will be okay! \") \n",
        "        print(self.name + \" takes care of you!\")\n",
        "\n",
        "y = PhysicianRobot(\"James\")\n",
        "y.say_hi()"
      ],
      "execution_count": 76,
      "outputs": [
        {
          "output_type": "stream",
          "name": "stdout",
          "text": [
            "Everything will be okay! \n",
            "James takes care of you!\n"
          ]
        }
      ]
    },
    {
      "cell_type": "markdown",
      "metadata": {
        "id": "6L11iIRs3UyM"
      },
      "source": [
        "What we have done in the previous example is called overriding. A method of a parent class gets overridden by simply defining a method with the same name in the child class.\n",
        "\n",
        "If a method is overridden in a class, the original method can still be accessed, but we have to do it by calling the method directly with the class name, i.e. Robot.say_hi(y). We demonstrate this in the following code:"
      ]
    },
    {
      "cell_type": "code",
      "metadata": {
        "colab": {
          "base_uri": "https://localhost:8080/"
        },
        "id": "uXyqdudb3LOc",
        "outputId": "61a0bb7a-2243-44b3-dabd-a9ef263d0f94"
      },
      "source": [
        "y = PhysicianRobot(\"Doc James\")\n",
        "y.say_hi()\n",
        "print(\"... and now the 'traditional' robot way of saying hi :-)\")\n",
        "Robot.say_hi(y)"
      ],
      "execution_count": 77,
      "outputs": [
        {
          "output_type": "stream",
          "name": "stdout",
          "text": [
            "Everything will be okay! \n",
            "Doc James takes care of you!\n",
            "... and now the 'traditional' robot way of saying hi :-)\n",
            "Hi, I am Doc James\n"
          ]
        }
      ]
    },
    {
      "cell_type": "markdown",
      "metadata": {
        "id": "qApBBDgm3oKN"
      },
      "source": [
        "\n",
        "We have seen that an inherited class can inherit and override methods from the superclass. Besides this a subclass often needs additional methods with additional functionalities, which do not exist in the superclass. An instance of the PhysicianRobot class will need for example the method heal so that the physician can do a proper job. We will also add an attribute health_level to the Robot class, which can take a value between 0 and 1. The robots will 'come to live' with a random value between 0 and 1. If the health_level of a Robot is below 0.8, it will need a doctor. We write a method needs_a_doctor which returns True if the value is below 0.8 and False otherwise. The 'healing' in the heal method is done by setting the health_level to a random value between the old health_level and 1. This value is calculated by the uniform function of the random module:"
      ]
    },
    {
      "cell_type": "code",
      "metadata": {
        "colab": {
          "base_uri": "https://localhost:8080/"
        },
        "id": "woNI9tPi3g2Y",
        "outputId": "a8b16e6c-09fc-4368-b58c-6ed2aafd43ec"
      },
      "source": [
        "import random\n",
        "\n",
        "class Robot:\n",
        "    \n",
        "    def __init__(self, name):\n",
        "        self.name = name\n",
        "        self.health_level = random.random() \n",
        "        \n",
        "    def say_hi(self):\n",
        "        print(\"Hi, I am \" + self.name)\n",
        "        \n",
        "    def needs_a_doctor(self):\n",
        "        if self.health_level < 0.8:\n",
        "            return True\n",
        "        else:\n",
        "            return False\n",
        "        \n",
        "class PhysicianRobot(Robot):\n",
        "\n",
        "    def say_hi(self):\n",
        "        print(\"Everything will be okay! \") \n",
        "        print(self.name + \" takes care of you!\")\n",
        "\n",
        "\n",
        "    def heal(self, robo):\n",
        "        robo.health_level = random.uniform(robo.health_level, 1)\n",
        "        print(robo.name + \" has been healed by \" + self.name + \"!\")\n",
        "\n",
        "doc = PhysicianRobot(\"Dr. Frankenstein\")        \n",
        "\n",
        "rob_list = []\n",
        "for i in range(5):\n",
        "    x = Robot(\"Marvin\" + str(i))\n",
        "    if x.needs_a_doctor():\n",
        "        print(\"health_level of \" + x.name + \" before healing: \", x.health_level)\n",
        "        doc.heal(x)\n",
        "        print(\"health_level of \" + x.name + \" after healing: \", x.health_level)\n",
        "    rob_list.append((x.name, x.health_level))\n",
        "    \n",
        "print(rob_list)"
      ],
      "execution_count": 78,
      "outputs": [
        {
          "output_type": "stream",
          "name": "stdout",
          "text": [
            "health_level of Marvin0 before healing:  0.020428390216115866\n",
            "Marvin0 has been healed by Dr. Frankenstein!\n",
            "health_level of Marvin0 after healing:  0.11868232649086248\n",
            "health_level of Marvin1 before healing:  0.44813828827448043\n",
            "Marvin1 has been healed by Dr. Frankenstein!\n",
            "health_level of Marvin1 after healing:  0.9277522523483387\n",
            "health_level of Marvin2 before healing:  0.2715805478123987\n",
            "Marvin2 has been healed by Dr. Frankenstein!\n",
            "health_level of Marvin2 after healing:  0.8555385329361471\n",
            "health_level of Marvin3 before healing:  0.34021522998368825\n",
            "Marvin3 has been healed by Dr. Frankenstein!\n",
            "health_level of Marvin3 after healing:  0.909210886755749\n",
            "[('Marvin0', 0.11868232649086248), ('Marvin1', 0.9277522523483387), ('Marvin2', 0.8555385329361471), ('Marvin3', 0.909210886755749), ('Marvin4', 0.9682103489338649)]\n"
          ]
        }
      ]
    },
    {
      "cell_type": "markdown",
      "metadata": {
        "id": "l4doq37sCQfa"
      },
      "source": [
        "\n",
        "When we override a method, we sometimes want to reuse the method of the parent class and at some new stuff. To demonstrate this, we will write a new version of the PhysicianRobot. say_hi should return the text from the Robot class version plus the text \" and I am a physician!\":"
      ]
    },
    {
      "cell_type": "code",
      "metadata": {
        "colab": {
          "base_uri": "https://localhost:8080/"
        },
        "id": "3fkis19TCB9G",
        "outputId": "1f1065c8-561a-419b-82cc-5f5f719abdb3"
      },
      "source": [
        "class PhysicianRobot(Robot):\n",
        "\n",
        "    def say_hi(self):\n",
        "        Robot.say_hi(self)\n",
        "        print(\"and I am a physician!\")\n",
        "\n",
        "        \n",
        "doc = PhysicianRobot(\"Dr. Frankenstein\")\n",
        "doc.say_hi()"
      ],
      "execution_count": 80,
      "outputs": [
        {
          "output_type": "stream",
          "name": "stdout",
          "text": [
            "Hi, I am Dr. Frankenstein\n",
            "and I am a physician!\n"
          ]
        }
      ]
    },
    {
      "cell_type": "markdown",
      "metadata": {
        "id": "EP34Bt9xCdpT"
      },
      "source": [
        "\n",
        "We don't want to write redundant code and therefore we called Robot.say_hi(self). We could also use the super function:"
      ]
    },
    {
      "cell_type": "code",
      "metadata": {
        "colab": {
          "base_uri": "https://localhost:8080/"
        },
        "id": "cgmrBGxXCWag",
        "outputId": "b2a53c41-745f-46c6-98b9-9f3e5628b03c"
      },
      "source": [
        "class PhysicianRobot(Robot):\n",
        "\n",
        "    def say_hi(self):\n",
        "        super().say_hi()\n",
        "        print(\"and I am a physician!\")\n",
        "\n",
        "        \n",
        "doc = PhysicianRobot(\"Dr. Frankenstein\")      \n",
        "doc.say_hi()"
      ],
      "execution_count": 81,
      "outputs": [
        {
          "output_type": "stream",
          "name": "stdout",
          "text": [
            "Hi, I am Dr. Frankenstein\n",
            "and I am a physician!\n"
          ]
        }
      ]
    },
    {
      "cell_type": "markdown",
      "metadata": {
        "id": "W00DGddACpMt"
      },
      "source": [
        "`super` is not realls necessary in this case. One could argue that it makes the code more maintainable, because we could change the name of the parent class, but this is seldom done anyway in existing classes. The real benefit of super shows when we use it with multiple inheritance\n",
        "\n",
        "#### Distinction between Overwriting, Overloading and Overriding\n",
        "\n",
        "##### Overwriting\n",
        "\n",
        "If we overwrite a function, the original function will be gone. The function will be redefined. This process has nothing to do with object orientation or inheritance:"
      ]
    },
    {
      "cell_type": "code",
      "metadata": {
        "colab": {
          "base_uri": "https://localhost:8080/"
        },
        "id": "Z7t-51_SCiFR",
        "outputId": "5ccf637a-8c02-43fb-8ee8-d0f48eb6fa4c"
      },
      "source": [
        "def f(x):\n",
        "    return x + 42\n",
        "\n",
        "print(f(3))\n",
        "# f will be overwritten (or redefined) in the following:\n",
        "\n",
        "def f(x):\n",
        "    return x + 43\n",
        "print(f(3))"
      ],
      "execution_count": 82,
      "outputs": [
        {
          "output_type": "stream",
          "name": "stdout",
          "text": [
            "45\n",
            "46\n"
          ]
        }
      ]
    },
    {
      "cell_type": "markdown",
      "metadata": {
        "id": "tsl3UqFaC7F5"
      },
      "source": [
        "##### Overloading\n",
        "\n",
        "This subchapter will be only interesting for C++ and Java programmers who want to know how overloading can be accomplished in Python. Those who do not know about overloading will not miss it!\n",
        "\n",
        "In the context of object-oriented programming, you might have heard about \"overloading\" as well. Even though \"overloading\" is not directly connected to OOP. Overloading is the ability to define a function with the same name multiple times. The definitions are different concerning the number of parameters and types of the parameters. It's the ability of one function to perform different tasks, depending on the number of parameters or the types of the parameters. We cannot overload functions like this in Python, but it is not necessary either.\n",
        "\n",
        "This course is, however, not about C++ and we have so far avoided using any C++ code. We want to make an exception now, so that you can see, how overloading works in C++\n",
        "\n",
        "```\n",
        "#include \n",
        "#include \n",
        "\n",
        "using namespace std;\n",
        "\n",
        "int successor(int number) {\n",
        "    return number + 1;\n",
        "}\n",
        "\n",
        "double successor(double number) {\n",
        "    return number + 1;\n",
        "}\n",
        "\n",
        "int main() {\n",
        "\n",
        "    cout << successor(10) << endl;\n",
        "    cout << successor(10.3) << endl;\n",
        "\n",
        "    return 0;\n",
        "}\n",
        "```\n",
        "\n",
        "We defined the successor function twice: One time for int and the other time with float as a Parameter. In Python the function can be defined like this, as you will know for sure:"
      ]
    },
    {
      "cell_type": "code",
      "metadata": {
        "id": "RFLYEvPIC4gX"
      },
      "source": [
        "def successor(x):\n",
        "    return x + 1"
      ],
      "execution_count": 83,
      "outputs": []
    },
    {
      "cell_type": "markdown",
      "metadata": {
        "id": "7dFn5V_QDrYe"
      },
      "source": [
        "As x is only a reference to an object, the Python function successor can be called with every object, even though it will create exceptions with many types. But it will work with int and float values!\n",
        "\n",
        "Having a function with a different number of parameters is another way of function overloading. The following C++ program shows such an example. The function f can be called with either one or two integer arguments:\n",
        "\n",
        "```\n",
        " #include \n",
        "using namespace std;\n",
        "\n",
        "\n",
        "int f(int n);\n",
        "int f(int n, int m);\n",
        "\n",
        "int main() {\n",
        "\n",
        "    cout << \"f(3): \" << f(3) << endl;\n",
        "    cout << \"f(3, 4): \" << f(3, 4) << endl;\n",
        "    return 0;\n",
        "}\n",
        "\n",
        "int f(int n) {\n",
        "    return n + 42;\n",
        "}\n",
        "int f(int n, int m) {\n",
        "    return n + m + 42; \n",
        "}\n",
        "```\n",
        "\n",
        "\n",
        "This doesn't work in Python, as we can see in the following example. The second definition of f with two parameters redefines or overrides the first definition with one argument. Overriding means that the first definition is not available anymore:"
      ]
    },
    {
      "cell_type": "code",
      "metadata": {
        "colab": {
          "base_uri": "https://localhost:8080/"
        },
        "id": "uoqgAiEvDjhd",
        "outputId": "93542d42-ded8-4f49-81f5-0f8164046712"
      },
      "source": [
        "\n",
        "def f(n):\n",
        "    return n + 42\n",
        " \n",
        "def f(n,m):\n",
        "    return n + m + 42\n",
        "\n",
        "print(f(3, 4))"
      ],
      "execution_count": 84,
      "outputs": [
        {
          "output_type": "stream",
          "name": "stdout",
          "text": [
            "49\n"
          ]
        }
      ]
    },
    {
      "cell_type": "markdown",
      "metadata": {
        "id": "0a3Aq2uHD9Xd"
      },
      "source": [
        "\n",
        "If you call f with only one parameter, you will raise an exception:"
      ]
    },
    {
      "cell_type": "code",
      "metadata": {
        "colab": {
          "base_uri": "https://localhost:8080/",
          "height": 164
        },
        "id": "TsMEfuCGD6rm",
        "outputId": "c914f163-14d2-4441-99b9-2ddd62f9ebf5"
      },
      "source": [
        "f(3)"
      ],
      "execution_count": 85,
      "outputs": [
        {
          "output_type": "error",
          "ename": "TypeError",
          "evalue": "ignored",
          "traceback": [
            "\u001b[0;31m---------------------------------------------------------------------------\u001b[0m",
            "\u001b[0;31mTypeError\u001b[0m                                 Traceback (most recent call last)",
            "\u001b[0;32m<ipython-input-85-1bff2c73920e>\u001b[0m in \u001b[0;36m<module>\u001b[0;34m()\u001b[0m\n\u001b[0;32m----> 1\u001b[0;31m \u001b[0mf\u001b[0m\u001b[0;34m(\u001b[0m\u001b[0;36m3\u001b[0m\u001b[0;34m)\u001b[0m\u001b[0;34m\u001b[0m\u001b[0;34m\u001b[0m\u001b[0m\n\u001b[0m",
            "\u001b[0;31mTypeError\u001b[0m: f() missing 1 required positional argument: 'm'"
          ]
        }
      ]
    },
    {
      "cell_type": "markdown",
      "metadata": {
        "id": "QgBuJcSpECQ1"
      },
      "source": [
        "\n",
        "Yet, it is possible to simulate the overloading behaviour of C++ in Python in this case with a default parameter:"
      ]
    },
    {
      "cell_type": "code",
      "metadata": {
        "colab": {
          "base_uri": "https://localhost:8080/"
        },
        "id": "83LzNJmhD_WW",
        "outputId": "8e6f9707-3ab9-4b82-e112-bfea341c35ca"
      },
      "source": [
        "def f(n, m=None):\n",
        "    if m:\n",
        "        return n + m +42\n",
        "    else:\n",
        "        return n + 42\n",
        "\n",
        "print(f(3), f(1, 3))"
      ],
      "execution_count": 86,
      "outputs": [
        {
          "output_type": "stream",
          "name": "stdout",
          "text": [
            "45 46\n"
          ]
        }
      ]
    },
    {
      "cell_type": "markdown",
      "metadata": {
        "id": "oZYtjpliEH8V"
      },
      "source": [
        "The * operator can be used as a more general approach for a family of functions with 1, 2, 3, or even more parameters:"
      ]
    },
    {
      "cell_type": "code",
      "metadata": {
        "colab": {
          "base_uri": "https://localhost:8080/"
        },
        "id": "VgzH6JPWEE53",
        "outputId": "f510633b-6bcf-481f-bb2a-cd106d38fb87"
      },
      "source": [
        "def f(*x):\n",
        "    if len(x) == 1:\n",
        "        return x[0] + 42\n",
        "    elif len(x) == 2:\n",
        "        return x[0] - x[1] + 5\n",
        "    else:\n",
        "        return 2 * x[0] + x[1] + 42\n",
        "\n",
        "print(f(3), f(1, 2), f(3, 2, 1))"
      ],
      "execution_count": 87,
      "outputs": [
        {
          "output_type": "stream",
          "name": "stdout",
          "text": [
            "45 4 50\n"
          ]
        }
      ]
    },
    {
      "cell_type": "markdown",
      "metadata": {
        "id": "MxoK8Nd7EVHv"
      },
      "source": [
        "## Multiple Inheritance\n",
        "\n",
        "![](https://www.python-course.eu/images/diamond_800w.webp)\n",
        "\n",
        "In the previous chapter of our tutorial, we have covered inheritance, or more specific \"single inheritance\". As we have seen, a class inherits in this case from one class. Multiple inheritance on the other hand is a feature in which a class can inherit attributes and methods from more than one parent class. The critics point out that multiple inheritance comes along with a high level of complexity and ambiguity in situations such as the diamond problem. We will address this problem later in this chapter.\n",
        "\n",
        "The widespread prejudice that multiple inheritance is something \"dangerous\" or \"bad\" is mostly nourished by programming languages with poorly implemented multiple inheritance mechanisms and above all by improper usage of it. Java doesn't even support multiple inheritance, while C++ supports it. Python has a sophisticated and well-designed approach to multiple inheritance.\n",
        "\n",
        "A class definition, where a child class SubClassName inherits from the parent classes BaseClass1, BaseClass2, BaseClass3, and so on, looks like this:\n",
        "\n",
        "```python\n",
        "class SubclassName(BaseClass1, BaseClass2, BaseClass3, ...):\n",
        "    pass\n",
        "```\n",
        "\n",
        "It's clear that all the superclasses BaseClass1, BaseClass2, BaseClass3, ... can inherit from other superclasses as well. What we get is an inheritance tree:\n",
        "\n",
        "![](https://www.python-course.eu/images/multiple_inheritance_700w.webp)\n",
        "\n",
        "#### Example: CalendarClock\n",
        "\n",
        "We want to introduce the principles of multiple inheritance with an example. For this purpose, we will implement to independent classes: a \"Clock\" and a \"Calendar\" class. After this, we will introduce a class \"CalendarClock\", which is, as the name implies, a combination of \"Clock\" and \"Calendar\". CalendarClock inherits both from \"Clock\" and \"Calendar\":\n",
        "\n",
        "![](https://www.python-course.eu/images/clock_calendar_800w.webp)\n",
        "\n",
        "The class Clock simulates the tick-tack of a clock. An instance of this class contains the time, which is stored in the attributes self.hours, self.minutes and self.seconds. Principally, we could have written the /_/_init__ method and the set method like this:\n",
        "\n",
        "```python\n",
        "def __init__(self,hours=0, minutes=0, seconds=0):\n",
        "        self._hours = hours\n",
        "        self.__minutes = minutes\n",
        "        self.__seconds = seconds\n",
        "\n",
        "    def set(self,hours, minutes, seconds=0):\n",
        "        self._hours = hours\n",
        "        self.__minutes = minutes\n",
        "        self.__seconds = seconds\n",
        "```\n",
        "\n",
        "We decided against this implementation, because we added additional code for checking the plausibility of the time data into the set method. We call the set method from the \\_\\_init__ method as well, because we want to circumvent redundant code. The complete Clock class:"
      ]
    },
    {
      "cell_type": "code",
      "metadata": {
        "colab": {
          "base_uri": "https://localhost:8080/"
        },
        "id": "cPKRN06NEJ5a",
        "outputId": "2ad3e4b2-7136-4342-e208-b29de33a755a"
      },
      "source": [
        "\"\"\" \n",
        "The class Clock is used to simulate a clock.\n",
        "\"\"\"\n",
        "\n",
        "class Clock(object):\n",
        "\n",
        "    def __init__(self, hours, minutes, seconds):\n",
        "        \"\"\"\n",
        "        The paramaters hours, minutes and seconds have to be \n",
        "        integers and must satisfy the following equations:\n",
        "        0 <= h < 24\n",
        "        0 <= m < 60\n",
        "        0 <= s < 60\n",
        "        \"\"\"\n",
        "\n",
        "        self.set_Clock(hours, minutes, seconds)\n",
        "\n",
        "    def set_Clock(self, hours, minutes, seconds):\n",
        "        \"\"\"\n",
        "        The parameters hours, minutes and seconds have to be \n",
        "        integers and must satisfy the following equations:\n",
        "        0 <= h < 24\n",
        "        0 <= m < 60\n",
        "        0 <= s < 60\n",
        "        \"\"\"\n",
        "\n",
        "        if type(hours) == int and 0 <= hours and hours < 24:\n",
        "            self._hours = hours\n",
        "        else:\n",
        "            raise TypeError(\"Hours have to be integers between 0 and 23!\")\n",
        "        if type(minutes) == int and 0 <= minutes and minutes < 60:\n",
        "            self.__minutes = minutes \n",
        "        else:\n",
        "            raise TypeError(\"Minutes have to be integers between 0 and 59!\")\n",
        "        if type(seconds) == int and 0 <= seconds and seconds < 60:\n",
        "            self.__seconds = seconds\n",
        "        else:\n",
        "            raise TypeError(\"Seconds have to be integers between 0 and 59!\")\n",
        "\n",
        "    def __str__(self):\n",
        "        return \"{0:02d}:{1:02d}:{2:02d}\".format(self._hours,\n",
        "                                                self.__minutes,\n",
        "                                                self.__seconds)\n",
        "\n",
        "    def tick(self):\n",
        "        \"\"\"\n",
        "        This method lets the clock \"tick\", this means that the \n",
        "        internal time will be advanced by one second.\n",
        "\n",
        "        Examples:\n",
        "        >>> x = Clock(12,59,59)\n",
        "        >>> print(x)\n",
        "        12:59:59\n",
        "        >>> x.tick()\n",
        "        >>> print(x)\n",
        "        13:00:00\n",
        "        >>> x.tick()\n",
        "        >>> print(x)\n",
        "        13:00:01\n",
        "        \"\"\"\n",
        "\n",
        "        if self.__seconds == 59:\n",
        "            self.__seconds = 0\n",
        "            if self.__minutes == 59:\n",
        "                self.__minutes = 0\n",
        "                if self._hours == 23:\n",
        "                    self._hours = 0\n",
        "                else:\n",
        "                    self._hours += 1\n",
        "            else:\n",
        "                self.__minutes += 1\n",
        "        else:\n",
        "            self.__seconds += 1\n",
        "\n",
        "\n",
        "if __name__ == \"__main__\":\n",
        "    x = Clock(23,59,59)\n",
        "    print(x)\n",
        "    x.tick()\n",
        "    print(x)\n",
        "    y = str(x)\n",
        "    print(type(y))"
      ],
      "execution_count": 88,
      "outputs": [
        {
          "output_type": "stream",
          "name": "stdout",
          "text": [
            "23:59:59\n",
            "00:00:00\n",
            "<class 'str'>\n"
          ]
        }
      ]
    },
    {
      "cell_type": "markdown",
      "metadata": {
        "id": "hKY2lU2AG_nz"
      },
      "source": [
        "Let's check our exception handling by inputting floats and strings as input. We also check, what happens, if we exceed the limits of the expected values:"
      ]
    },
    {
      "cell_type": "code",
      "metadata": {
        "colab": {
          "base_uri": "https://localhost:8080/",
          "height": 324
        },
        "id": "Eh0ozOFBGxqx",
        "outputId": "ae0acaff-cccb-4576-bd51-21fd5b0f48ec"
      },
      "source": [
        "x = Clock(7.7, 45, 17)"
      ],
      "execution_count": 89,
      "outputs": [
        {
          "output_type": "error",
          "ename": "TypeError",
          "evalue": "ignored",
          "traceback": [
            "\u001b[0;31m---------------------------------------------------------------------------\u001b[0m",
            "\u001b[0;31mTypeError\u001b[0m                                 Traceback (most recent call last)",
            "\u001b[0;32m<ipython-input-89-90d5f916ef6e>\u001b[0m in \u001b[0;36m<module>\u001b[0;34m()\u001b[0m\n\u001b[0;32m----> 1\u001b[0;31m \u001b[0mx\u001b[0m \u001b[0;34m=\u001b[0m \u001b[0mClock\u001b[0m\u001b[0;34m(\u001b[0m\u001b[0;36m7.7\u001b[0m\u001b[0;34m,\u001b[0m \u001b[0;36m45\u001b[0m\u001b[0;34m,\u001b[0m \u001b[0;36m17\u001b[0m\u001b[0;34m)\u001b[0m\u001b[0;34m\u001b[0m\u001b[0;34m\u001b[0m\u001b[0m\n\u001b[0m",
            "\u001b[0;32m<ipython-input-88-ffb3e30af1a8>\u001b[0m in \u001b[0;36m__init__\u001b[0;34m(self, hours, minutes, seconds)\u001b[0m\n\u001b[1;32m     14\u001b[0m         \"\"\"\n\u001b[1;32m     15\u001b[0m \u001b[0;34m\u001b[0m\u001b[0m\n\u001b[0;32m---> 16\u001b[0;31m         \u001b[0mself\u001b[0m\u001b[0;34m.\u001b[0m\u001b[0mset_Clock\u001b[0m\u001b[0;34m(\u001b[0m\u001b[0mhours\u001b[0m\u001b[0;34m,\u001b[0m \u001b[0mminutes\u001b[0m\u001b[0;34m,\u001b[0m \u001b[0mseconds\u001b[0m\u001b[0;34m)\u001b[0m\u001b[0;34m\u001b[0m\u001b[0;34m\u001b[0m\u001b[0m\n\u001b[0m\u001b[1;32m     17\u001b[0m \u001b[0;34m\u001b[0m\u001b[0m\n\u001b[1;32m     18\u001b[0m     \u001b[0;32mdef\u001b[0m \u001b[0mset_Clock\u001b[0m\u001b[0;34m(\u001b[0m\u001b[0mself\u001b[0m\u001b[0;34m,\u001b[0m \u001b[0mhours\u001b[0m\u001b[0;34m,\u001b[0m \u001b[0mminutes\u001b[0m\u001b[0;34m,\u001b[0m \u001b[0mseconds\u001b[0m\u001b[0;34m)\u001b[0m\u001b[0;34m:\u001b[0m\u001b[0;34m\u001b[0m\u001b[0;34m\u001b[0m\u001b[0m\n",
            "\u001b[0;32m<ipython-input-88-ffb3e30af1a8>\u001b[0m in \u001b[0;36mset_Clock\u001b[0;34m(self, hours, minutes, seconds)\u001b[0m\n\u001b[1;32m     28\u001b[0m             \u001b[0mself\u001b[0m\u001b[0;34m.\u001b[0m\u001b[0m_hours\u001b[0m \u001b[0;34m=\u001b[0m \u001b[0mhours\u001b[0m\u001b[0;34m\u001b[0m\u001b[0;34m\u001b[0m\u001b[0m\n\u001b[1;32m     29\u001b[0m         \u001b[0;32melse\u001b[0m\u001b[0;34m:\u001b[0m\u001b[0;34m\u001b[0m\u001b[0;34m\u001b[0m\u001b[0m\n\u001b[0;32m---> 30\u001b[0;31m             \u001b[0;32mraise\u001b[0m \u001b[0mTypeError\u001b[0m\u001b[0;34m(\u001b[0m\u001b[0;34m\"Hours have to be integers between 0 and 23!\"\u001b[0m\u001b[0;34m)\u001b[0m\u001b[0;34m\u001b[0m\u001b[0;34m\u001b[0m\u001b[0m\n\u001b[0m\u001b[1;32m     31\u001b[0m         \u001b[0;32mif\u001b[0m \u001b[0mtype\u001b[0m\u001b[0;34m(\u001b[0m\u001b[0mminutes\u001b[0m\u001b[0;34m)\u001b[0m \u001b[0;34m==\u001b[0m \u001b[0mint\u001b[0m \u001b[0;32mand\u001b[0m \u001b[0;36m0\u001b[0m \u001b[0;34m<=\u001b[0m \u001b[0mminutes\u001b[0m \u001b[0;32mand\u001b[0m \u001b[0mminutes\u001b[0m \u001b[0;34m<\u001b[0m \u001b[0;36m60\u001b[0m\u001b[0;34m:\u001b[0m\u001b[0;34m\u001b[0m\u001b[0;34m\u001b[0m\u001b[0m\n\u001b[1;32m     32\u001b[0m             \u001b[0mself\u001b[0m\u001b[0;34m.\u001b[0m\u001b[0m__minutes\u001b[0m \u001b[0;34m=\u001b[0m \u001b[0mminutes\u001b[0m\u001b[0;34m\u001b[0m\u001b[0;34m\u001b[0m\u001b[0m\n",
            "\u001b[0;31mTypeError\u001b[0m: Hours have to be integers between 0 and 23!"
          ]
        }
      ]
    },
    {
      "cell_type": "markdown",
      "metadata": {
        "id": "n1R_DWeOHGSl"
      },
      "source": [
        "We will now create a class \"Calendar\", which has lots of similarities to the previously defined Clock class. Instead of \"tick\" we have an \"advance\" method, which advances the date by one day, whenever it is called. Adding a day to a date is quite tricky. We have to check, if the date is the last day in a month and the number of days in the months vary. As if this isn't bad enough, we have February and the leap year problem.\n",
        "\n",
        "The rules for calculating a leap year are the following:\n",
        "\n",
        "* If a year is divisible by 400, it is a leap year\n",
        "* If a year is not divisible by 400 but by 100, it is not a leap year\n",
        "* A year number which is divisible by 4 but not by 100, it is a leap year\n",
        "* All other year numbers are common years, i.e. no leap years\n",
        "\n",
        "As a little useful gimmick, we added a possibility to output a date either in British or in American (Canadian) style:"
      ]
    },
    {
      "cell_type": "code",
      "metadata": {
        "colab": {
          "base_uri": "https://localhost:8080/"
        },
        "id": "L8G7TmeRHBp7",
        "outputId": "3ba6eef0-f45a-4ca9-9fa3-c4b5c956f75b"
      },
      "source": [
        "\"\"\" \n",
        "The class Calendar implements a calendar.   \n",
        "\"\"\"\n",
        "\n",
        "class Calendar(object):\n",
        "\n",
        "    months = (31,28,31,30,31,30,31,31,30,31,30,31)\n",
        "    date_style = \"British\"\n",
        "\n",
        "    @staticmethod\n",
        "    def leapyear(year):\n",
        "        \"\"\" \n",
        "        The method leapyear returns True if the parameter year\n",
        "        is a leap year, False otherwise\n",
        "        \"\"\"\n",
        "        if not year % 4 == 0:\n",
        "            return False\n",
        "        elif not year % 100 == 0:\n",
        "            return True\n",
        "        elif not year % 400 == 0:\n",
        "            return False\n",
        "        else:\n",
        "            return True\n",
        "\n",
        "\n",
        "    def __init__(self, d, m, y):\n",
        "        \"\"\"\n",
        "        d, m, y have to be integer values and year has to be \n",
        "        a four digit year number\n",
        "        \"\"\"\n",
        "\n",
        "        self.set_Calendar(d,m,y)\n",
        "\n",
        "\n",
        "    def set_Calendar(self, d, m, y):\n",
        "        \"\"\"\n",
        "        d, m, y have to be integer values and year has to be \n",
        "        a four digit year number\n",
        "        \"\"\"\n",
        "\n",
        "        if type(d) == int and type(m) == int and type(y) == int:\n",
        "            self.__days = d\n",
        "            self.__months = m\n",
        "            self.__years = y\n",
        "        else:\n",
        "            raise TypeError(\"d, m, y have to be integers!\")\n",
        "\n",
        "\n",
        "    def __str__(self):\n",
        "        if Calendar.date_style == \"British\":\n",
        "            return \"{0:02d}/{1:02d}/{2:4d}\".format(self.__days,\n",
        "                                                   self.__months,\n",
        "                                                   self.__years)\n",
        "        else: \n",
        "            # assuming American style\n",
        "            return \"{0:02d}/{1:02d}/{2:4d}\".format(self.__months,\n",
        "                                                   self.__days,\n",
        "                                                   self.__years)\n",
        "\n",
        "\n",
        "\n",
        "    def advance(self):\n",
        "        \"\"\"\n",
        "        This method advances to the next date.\n",
        "        \"\"\"\n",
        "\n",
        "        max_days = Calendar.months[self.__months-1]\n",
        "        if self.__months == 2 and Calendar.leapyear(self.__years):\n",
        "            max_days += 1\n",
        "        if self.__days == max_days:\n",
        "            self.__days= 1\n",
        "            if self.__months == 12:\n",
        "                self.__months = 1\n",
        "                self.__years += 1\n",
        "            else:\n",
        "                self.__months += 1\n",
        "        else:\n",
        "            self.__days += 1\n",
        "\n",
        "\n",
        "if __name__ == \"__main__\":\n",
        "    x = Calendar(31,12,2012)\n",
        "    print(x, end=\" \")\n",
        "    x.advance()\n",
        "    print(\"after applying advance: \", x)\n",
        "    print(\"2012 was a leapyear:\")\n",
        "    x = Calendar(28,2,2012)\n",
        "    print(x, end=\" \")\n",
        "    x.advance()\n",
        "    print(\"after applying advance: \", x)\n",
        "    x = Calendar(28,2,2013)\n",
        "    print(x, end=\" \")\n",
        "    x.advance()\n",
        "    print(\"after applying advance: \", x)\n",
        "    print(\"1900 no leapyear: number divisible by 100 but not by 400: \")\n",
        "    x = Calendar(28,2,1900)\n",
        "    print(x, end=\" \")\n",
        "    x.advance()\n",
        "    print(\"after applying advance: \", x)\n",
        "    print(\"2000 was a leapyear, because number divisibe by 400: \")\n",
        "    x = Calendar(28,2,2000)\n",
        "    print(x, end=\" \")\n",
        "    x.advance()\n",
        "    print(\"after applying advance: \", x)\n",
        "    print(\"Switching to American date style: \")\n",
        "    Calendar.date_style = \"American\"\n",
        "    print(\"after applying advance: \", x)"
      ],
      "execution_count": 90,
      "outputs": [
        {
          "output_type": "stream",
          "name": "stdout",
          "text": [
            "31/12/2012 after applying advance:  01/01/2013\n",
            "2012 was a leapyear:\n",
            "28/02/2012 after applying advance:  29/02/2012\n",
            "28/02/2013 after applying advance:  01/03/2013\n",
            "1900 no leapyear: number divisible by 100 but not by 400: \n",
            "28/02/1900 after applying advance:  01/03/1900\n",
            "2000 was a leapyear, because number divisibe by 400: \n",
            "28/02/2000 after applying advance:  29/02/2000\n",
            "Switching to American date style: \n",
            "after applying advance:  02/29/2000\n"
          ]
        }
      ]
    },
    {
      "cell_type": "markdown",
      "metadata": {
        "id": "KULDVR3pH04U"
      },
      "source": [
        "At last, we will introduce our multiple inheritance example. We are now capable of implementing the originally intended class CalendarClock, which will inherit from both Clock and Calendar. The method \"tick\" of Clock will have to be overridden. However, the new tick method of CalendarClock has to call the tick method of Clock: Clock.tick(self)"
      ]
    },
    {
      "cell_type": "code",
      "metadata": {
        "colab": {
          "base_uri": "https://localhost:8080/"
        },
        "id": "bEVwJDl1Hw5X",
        "outputId": "18a3e47d-a47d-47b7-cd22-572b5ca5889d"
      },
      "source": [
        "class CalendarClock(Clock, Calendar):\n",
        "    \"\"\" \n",
        "        The class CalendarClock implements a clock with integrated \n",
        "        calendar. It's a case of multiple inheritance, as it inherits \n",
        "        both from Clock and Calendar      \n",
        "    \"\"\"\n",
        "\n",
        "    def __init__(self, day, month, year, hour, minute, second):\n",
        "        Clock.__init__(self,hour, minute, second)\n",
        "        Calendar.__init__(self, day, month, year)\n",
        "\n",
        "\n",
        "    def tick(self):\n",
        "        \"\"\"\n",
        "        advance the clock by one second\n",
        "        \"\"\"\n",
        "        previous_hour = self._hours\n",
        "        Clock.tick(self)\n",
        "        if (self._hours < previous_hour): \n",
        "            self.advance()\n",
        "\n",
        "    def __str__(self):\n",
        "        return Calendar.__str__(self) + \", \" + Clock.__str__(self)\n",
        "\n",
        "\n",
        "if __name__ == \"__main__\":\n",
        "    x = CalendarClock(31, 12, 2013, 23, 59, 59)\n",
        "    print(\"One tick from \",x, end=\" \")\n",
        "    x.tick()\n",
        "    print(\"to \", x)\n",
        "\n",
        "    x = CalendarClock(28, 2, 1900, 23, 59, 59)\n",
        "    print(\"One tick from \",x, end=\" \")\n",
        "    x.tick()\n",
        "    print(\"to \", x)\n",
        "\n",
        "    x = CalendarClock(28, 2, 2000, 23, 59, 59)\n",
        "    print(\"One tick from \",x, end=\" \")\n",
        "    x.tick()\n",
        "    print(\"to \", x)\n",
        "\n",
        "    x = CalendarClock(7, 2, 2013, 13, 55, 40)\n",
        "    print(\"One tick from \",x, end=\" \")\n",
        "    x.tick()\n",
        "    print(\"to \", x)"
      ],
      "execution_count": 92,
      "outputs": [
        {
          "output_type": "stream",
          "name": "stdout",
          "text": [
            "One tick from  12/31/2013, 23:59:59 to  01/01/2014, 00:00:00\n",
            "One tick from  02/28/1900, 23:59:59 to  03/01/1900, 00:00:00\n",
            "One tick from  02/28/2000, 23:59:59 to  02/29/2000, 00:00:00\n",
            "One tick from  02/07/2013, 13:55:40 to  02/07/2013, 13:55:41\n"
          ]
        }
      ]
    },
    {
      "cell_type": "markdown",
      "metadata": {
        "id": "cR68JiIEKcTU"
      },
      "source": [
        "#### The Diamond Problem or the 'deadly diamond of death'\n",
        "\n",
        "**The \"diamond problem\" (sometimes referred as the \"deadly diamond of death\") is the generally used term for an ambiguity that arises when two classes B and C inherit from a superclass A, and another class D inherits from both B and C. If there is a method \"m\" in A that B or C (or even both of them) has overridden, and furthermore, if it does not override this method, then the question is which version of the method does D inherit? It could be the one from A, B or C**\n",
        "\n",
        "Let's look at Python. The first Diamond Problem configuration is like this: Both B and C override the method m of A:"
      ]
    },
    {
      "cell_type": "code",
      "metadata": {
        "id": "D9ZggrvoJclN"
      },
      "source": [
        "class A:\n",
        "    def m(self):\n",
        "        print(\"m of A called\")\n",
        "\n",
        "class B(A):\n",
        "    def m(self):\n",
        "        print(\"m of B called\")\n",
        "    \n",
        "class C(A):\n",
        "    def m(self):\n",
        "        print(\"m of C called\")\n",
        "\n",
        "class D(C, B):\n",
        "    pass"
      ],
      "execution_count": 98,
      "outputs": []
    },
    {
      "cell_type": "code",
      "metadata": {
        "colab": {
          "base_uri": "https://localhost:8080/"
        },
        "id": "BgbIPITHLl9F",
        "outputId": "65f0f94d-7495-47c7-bbee-6b7eea0f03d6"
      },
      "source": [
        "x = D()\n",
        "x.m()"
      ],
      "execution_count": 97,
      "outputs": [
        {
          "output_type": "stream",
          "name": "stdout",
          "text": [
            "m of B called\n"
          ]
        }
      ]
    },
    {
      "cell_type": "markdown",
      "metadata": {
        "id": "n5D0wYgsLSfe"
      },
      "source": [
        "If you call the method m on an instance x of D, i.e. x.m(), we will get the output \"m of B called\". If we transpose the order of the classes in the class header of D in \"class D(C,B):\", we will get the output \"m of C called\".\n",
        "\n",
        "The case in which m will be overridden only in one of the classes B or C, e.g. in C:"
      ]
    },
    {
      "cell_type": "code",
      "metadata": {
        "colab": {
          "base_uri": "https://localhost:8080/"
        },
        "id": "W7mp6eY4LJUc",
        "outputId": "8fa7ecd4-0fe9-4b71-e6ab-1ac651d91e0a"
      },
      "source": [
        "class A:\n",
        "    def m(self):\n",
        "        print(\"m of A called\")\n",
        "\n",
        "class B(A):\n",
        "    pass\n",
        "    \n",
        "class C(A):\n",
        "    def m(self):\n",
        "        print(\"m of C called\")\n",
        "\n",
        "class D(B,C):\n",
        "    pass\n",
        "\n",
        "x = D()\n",
        "x.m()"
      ],
      "execution_count": 99,
      "outputs": [
        {
          "output_type": "stream",
          "name": "stdout",
          "text": [
            "m of C called\n"
          ]
        }
      ]
    },
    {
      "cell_type": "markdown",
      "metadata": {
        "id": "uI666potLt91"
      },
      "source": [
        "\n",
        "Principially, two possibilities are imaginable: \"m of C\" or \"m of A\" could be used\n",
        "\n",
        "We call this script with Python2.7 (python) and with Python3 (python3) to see what's happening:\n",
        "\n",
        "```\n",
        "$ python diamond1.py \n",
        "m of A called\n",
        "$ python3 diamond1.py \n",
        "m of C called\n",
        "```\n",
        "\n",
        "Only for those who are interested in Python version2: To have the same inheritance behaviour in Python2 as in Python3, every class has to inherit from the class \"object\". Our class A doesn't inherit from object, so we get a so-called old-style class, if we call the script with python2. Multiple inheritance with old-style classes is governed by two rules: depth-first and then left-to-right. If you change the header line of A into \"class A(object):\", we will have the same behaviour in both Python versions.\n",
        "\n",
        "#### super and MRO\n",
        "\n",
        "We have seen in our previous implementation of the diamond problem, how Python \"solves\" the problem, i.e. in which order the base classes are browsed through. The order is defined by the so-called \"Method Resolution Order\" or in short MRO.\n",
        "\n",
        "We will extend our previous example, so that every class defines its own method m:"
      ]
    },
    {
      "cell_type": "code",
      "metadata": {
        "id": "zVdhBxiYLWBj"
      },
      "source": [
        "class A:\n",
        "    def m(self):\n",
        "        print(\"m of A called\")\n",
        "\n",
        "class B(A):\n",
        "    def m(self):\n",
        "        print(\"m of B called\")\n",
        "    \n",
        "class C(A):\n",
        "    def m(self):\n",
        "        print(\"m of C called\")\n",
        "\n",
        "class D(B,C):\n",
        "    def m(self):\n",
        "        print(\"m of D called\")"
      ],
      "execution_count": 100,
      "outputs": []
    },
    {
      "cell_type": "markdown",
      "metadata": {
        "id": "jywoIXH5MVOO"
      },
      "source": [
        "Let's apply the method m on an instance of D. We can see that only the code of the method m of D will be executed. We can also explicitly call the methods m of the other classes via the class name, as we demonstrate in the following interactive Python session:"
      ]
    },
    {
      "cell_type": "code",
      "metadata": {
        "colab": {
          "base_uri": "https://localhost:8080/"
        },
        "id": "4kgljLyOMQG0",
        "outputId": "3d5033f9-43f2-44c0-e15a-090f3314fa5f"
      },
      "source": [
        "x = D()\n",
        "B.m(x)"
      ],
      "execution_count": 101,
      "outputs": [
        {
          "output_type": "stream",
          "name": "stdout",
          "text": [
            "m of B called\n"
          ]
        }
      ]
    },
    {
      "cell_type": "code",
      "metadata": {
        "colab": {
          "base_uri": "https://localhost:8080/"
        },
        "id": "-QO9INxVMXu0",
        "outputId": "7466253b-5873-4c77-a008-a6503b1770a7"
      },
      "source": [
        "C.m(x)"
      ],
      "execution_count": 102,
      "outputs": [
        {
          "output_type": "stream",
          "name": "stdout",
          "text": [
            "m of C called\n"
          ]
        }
      ]
    },
    {
      "cell_type": "code",
      "metadata": {
        "colab": {
          "base_uri": "https://localhost:8080/"
        },
        "id": "uc-pNpKwMa42",
        "outputId": "90def225-3ac2-4338-9a31-5ec297ace9f3"
      },
      "source": [
        "A.m(x)"
      ],
      "execution_count": 103,
      "outputs": [
        {
          "output_type": "stream",
          "name": "stdout",
          "text": [
            "m of A called\n"
          ]
        }
      ]
    },
    {
      "cell_type": "code",
      "metadata": {
        "colab": {
          "base_uri": "https://localhost:8080/"
        },
        "id": "GZNoM6D1Mcng",
        "outputId": "7a0c9b97-793b-492c-b74a-1e4ac7f6578b"
      },
      "source": [
        "x.m()"
      ],
      "execution_count": 105,
      "outputs": [
        {
          "output_type": "stream",
          "name": "stdout",
          "text": [
            "m of D called\n"
          ]
        }
      ]
    },
    {
      "cell_type": "markdown",
      "metadata": {
        "id": "_xjggtysMvmj"
      },
      "source": [
        "Now let's assume that the method m of D should execute the code of m of B, C and A as well, when it is called. We could implement it like this:"
      ]
    },
    {
      "cell_type": "code",
      "metadata": {
        "id": "DJEjS_tIMiHJ"
      },
      "source": [
        "class D(B,C):\n",
        "    def m(self):\n",
        "        print(\"m of D called\")\n",
        "        B.m(self)\n",
        "        C.m(self)\n",
        "        A.m(self)"
      ],
      "execution_count": 106,
      "outputs": []
    },
    {
      "cell_type": "code",
      "metadata": {
        "colab": {
          "base_uri": "https://localhost:8080/"
        },
        "id": "fZOqeEt5Mxwi",
        "outputId": "126218e9-50dd-4d02-eac2-80b27c9ca56c"
      },
      "source": [
        "# The output is what we have been looking for:\n",
        "\n",
        "x = D()\n",
        "x.m()"
      ],
      "execution_count": 107,
      "outputs": [
        {
          "output_type": "stream",
          "name": "stdout",
          "text": [
            "m of D called\n",
            "m of B called\n",
            "m of C called\n",
            "m of A called\n"
          ]
        }
      ]
    },
    {
      "cell_type": "markdown",
      "metadata": {
        "id": "GR0aQluMNEqq"
      },
      "source": [
        "But it turns out once more that things are more complicated than they seem. How can we cope with the situation, if both m of B and m of C will have to call m of A as well. In this case, we have to take away the call A.m(self) from m in D. The code might look like this, but there is still a bug lurking in it:"
      ]
    },
    {
      "cell_type": "code",
      "metadata": {
        "id": "se2Lbi5PM7oO"
      },
      "source": [
        "\n",
        "class A:\n",
        "    def m(self):\n",
        "        print(\"m of A called\")\n",
        "\n",
        "class B(A):\n",
        "    def m(self):\n",
        "        print(\"m of B called\")\n",
        "        A.m(self)\n",
        "    \n",
        "class C(A):\n",
        "    def m(self):\n",
        "        print(\"m of C called\")\n",
        "        A.m(self)\n",
        "\n",
        "class D(B,C):\n",
        "    def m(self):\n",
        "        print(\"m of D called\")\n",
        "        B.m(self)\n",
        "        C.m(self)"
      ],
      "execution_count": 108,
      "outputs": []
    },
    {
      "cell_type": "markdown",
      "metadata": {
        "id": "Slk-UeohNVNw"
      },
      "source": [
        "The bug is that the method m of A will be called twice:"
      ]
    },
    {
      "cell_type": "code",
      "metadata": {
        "colab": {
          "base_uri": "https://localhost:8080/"
        },
        "id": "bwXT12vSNSok",
        "outputId": "9a071a85-7887-495b-8c4e-e2b326b64c9e"
      },
      "source": [
        "x = D()\n",
        "x.m()"
      ],
      "execution_count": 109,
      "outputs": [
        {
          "output_type": "stream",
          "name": "stdout",
          "text": [
            "m of D called\n",
            "m of B called\n",
            "m of A called\n",
            "m of C called\n",
            "m of A called\n"
          ]
        }
      ]
    },
    {
      "cell_type": "markdown",
      "metadata": {
        "id": "oeeLbCJONjs9"
      },
      "source": [
        "One way to solve this problem - admittedly not a Pythonic one - consists in splitting the methods m of B and C in two methods. The first method, called _m consists of the specific code for B and C and the other method is still called m, but consists now of a call self._m() and a call A.m(self). The code of the method m of D consists now of the specific code of D 'print(\"m of D called\")', and the calls B._m(self), C._m(self) and A.m(self):"
      ]
    },
    {
      "cell_type": "code",
      "metadata": {
        "id": "Ebk6_lOWNbDX"
      },
      "source": [
        "class A:\n",
        "    def m(self):\n",
        "        print(\"m of A called\")\n",
        "\n",
        "class B(A):\n",
        "    def _m(self):\n",
        "        print(\"m of B called\")\n",
        "    def m(self):\n",
        "        self._m()\n",
        "        A.m(self)\n",
        "    \n",
        "class C(A):\n",
        "    def _m(self):\n",
        "        print(\"m of C called\")\n",
        "    def m(self):\n",
        "        self._m()\n",
        "        A.m(self)\n",
        "\n",
        "class D(B,C):\n",
        "    def m(self):\n",
        "        print(\"m of D called\")\n",
        "        B._m(self)\n",
        "        C._m(self)\n",
        "        A.m(self)"
      ],
      "execution_count": 110,
      "outputs": []
    },
    {
      "cell_type": "markdown",
      "metadata": {
        "id": "DwLh-x6XNpYx"
      },
      "source": [
        "Our problem is solved, but - as we have already mentioned - not in a pythonic way:"
      ]
    },
    {
      "cell_type": "code",
      "metadata": {
        "colab": {
          "base_uri": "https://localhost:8080/"
        },
        "id": "28K7B5-gNnft",
        "outputId": "61fa670b-0d73-4efa-87b4-eec0d57a19da"
      },
      "source": [
        "x = D()\n",
        "x.m()"
      ],
      "execution_count": 111,
      "outputs": [
        {
          "output_type": "stream",
          "name": "stdout",
          "text": [
            "m of D called\n",
            "m of B called\n",
            "m of C called\n",
            "m of A called\n"
          ]
        }
      ]
    },
    {
      "cell_type": "markdown",
      "metadata": {
        "id": "gRHCxdJzNuJ5"
      },
      "source": [
        "The optimal way to solve the problem, which is the \"super\" pythonic way, would be calling the super function:"
      ]
    },
    {
      "cell_type": "code",
      "metadata": {
        "id": "80owYZ4aNrZw"
      },
      "source": [
        "class A:\n",
        "    def m(self):\n",
        "        print(\"m of A called\")\n",
        "\n",
        "class B(A):\n",
        "    def m(self):\n",
        "        print(\"m of B called\")\n",
        "        super().m()\n",
        "    \n",
        "class C(A):\n",
        "    def m(self):\n",
        "        print(\"m of C called\")\n",
        "        super().m()\n",
        "\n",
        "class D(B,C):\n",
        "    def m(self):\n",
        "        print(\"m of D called\")\n",
        "        super().m()"
      ],
      "execution_count": 112,
      "outputs": []
    },
    {
      "cell_type": "markdown",
      "metadata": {
        "id": "C2fQI1gZN1G6"
      },
      "source": [
        "It also solves our problem, but in a beautiful design as well:"
      ]
    },
    {
      "cell_type": "code",
      "metadata": {
        "colab": {
          "base_uri": "https://localhost:8080/"
        },
        "id": "9K9JGQ-9NyUp",
        "outputId": "dc60ea38-2f8c-4c53-c30f-17d76431e15e"
      },
      "source": [
        "x = D()\n",
        "x.m()"
      ],
      "execution_count": 113,
      "outputs": [
        {
          "output_type": "stream",
          "name": "stdout",
          "text": [
            "m of D called\n",
            "m of B called\n",
            "m of C called\n",
            "m of A called\n"
          ]
        }
      ]
    },
    {
      "cell_type": "markdown",
      "metadata": {
        "id": "7vjTHBYJOL7H"
      },
      "source": [
        "The super function is often used when instances are initialized with the \\_\\_init__ method:"
      ]
    },
    {
      "cell_type": "code",
      "metadata": {
        "id": "2fhnSF4SN5IU"
      },
      "source": [
        "class A:\n",
        "    m = 'a'\n",
        "    def __init__(self):\n",
        "        print(\"A.__init__\")\n",
        "\n",
        "class B(A):\n",
        "    m = 'b'\n",
        "    def __init__(self):\n",
        "        print(\"B.__init__\")\n",
        "        super().__init__()\n",
        "    \n",
        "class C(A):\n",
        "    m = 'c'\n",
        "    def __init__(self):\n",
        "        print(\"C.__init__\")\n",
        "        super().__init__()\n",
        "\n",
        "\n",
        "class D(B,C):\n",
        "    def __init__(self):\n",
        "        print(\"D.__init__\")\n",
        "        super().__init__()"
      ],
      "execution_count": 125,
      "outputs": []
    },
    {
      "cell_type": "markdown",
      "metadata": {
        "id": "TChx9hNCOaFH"
      },
      "source": [
        "We demonstrate the way of working in the following interactive session:"
      ]
    },
    {
      "cell_type": "code",
      "metadata": {
        "colab": {
          "base_uri": "https://localhost:8080/"
        },
        "id": "sVH2iuw5OWrb",
        "outputId": "d6420fe9-f7ec-4ab6-f18a-1ce98e5f9c8d"
      },
      "source": [
        "d = D()"
      ],
      "execution_count": 115,
      "outputs": [
        {
          "output_type": "stream",
          "name": "stdout",
          "text": [
            "D.__init__\n",
            "B.__init__\n",
            "C.__init__\n",
            "A.__init__\n"
          ]
        }
      ]
    },
    {
      "cell_type": "code",
      "metadata": {
        "colab": {
          "base_uri": "https://localhost:8080/"
        },
        "id": "BIihdQ2QOcYV",
        "outputId": "b5c912a1-c3f7-412f-abb1-e54c07e641c2"
      },
      "source": [
        "c = C()"
      ],
      "execution_count": 116,
      "outputs": [
        {
          "output_type": "stream",
          "name": "stdout",
          "text": [
            "C.__init__\n",
            "A.__init__\n"
          ]
        }
      ]
    },
    {
      "cell_type": "code",
      "metadata": {
        "colab": {
          "base_uri": "https://localhost:8080/"
        },
        "id": "GLMZ7D2uOeV_",
        "outputId": "d39b303d-7418-4909-d383-124cde3e0f1b"
      },
      "source": [
        "b = B()"
      ],
      "execution_count": 117,
      "outputs": [
        {
          "output_type": "stream",
          "name": "stdout",
          "text": [
            "B.__init__\n",
            "A.__init__\n"
          ]
        }
      ]
    },
    {
      "cell_type": "code",
      "metadata": {
        "colab": {
          "base_uri": "https://localhost:8080/"
        },
        "id": "_Z2kts6POgIB",
        "outputId": "4e5a8a20-744f-4007-be26-636398ac0562"
      },
      "source": [
        "a = A()"
      ],
      "execution_count": 118,
      "outputs": [
        {
          "output_type": "stream",
          "name": "stdout",
          "text": [
            "A.__init__\n"
          ]
        }
      ]
    },
    {
      "cell_type": "markdown",
      "metadata": {
        "id": "RQ6PaX1JOp2J"
      },
      "source": [
        "The question arises about how the super functions makes decisions. How does it decide which class has to be used? As we have already mentioned, it uses the so-called method resolution order(MRO). It is based on the \"[C3 superclass linearisation](https://www.youtube.com/watch?v=cuonAMJjHow)\" algorithm (used since python 2.3). This is called a linearisation, because the tree structure is broken down into a linear order. The mro method can be used to create this list:"
      ]
    },
    {
      "cell_type": "code",
      "metadata": {
        "colab": {
          "base_uri": "https://localhost:8080/"
        },
        "id": "UrSllcmVOhT_",
        "outputId": "466949d2-123a-47ae-f50a-bfce1f39405f"
      },
      "source": [
        "D.mro()"
      ],
      "execution_count": 119,
      "outputs": [
        {
          "output_type": "execute_result",
          "data": {
            "text/plain": [
              "[__main__.D, __main__.B, __main__.C, __main__.A, object]"
            ]
          },
          "metadata": {},
          "execution_count": 119
        }
      ]
    },
    {
      "cell_type": "code",
      "metadata": {
        "colab": {
          "base_uri": "https://localhost:8080/"
        },
        "id": "GxnA5jugOrxh",
        "outputId": "6b318f1a-348b-49be-b78c-98d35f0f0993"
      },
      "source": [
        "B.mro()"
      ],
      "execution_count": 120,
      "outputs": [
        {
          "output_type": "execute_result",
          "data": {
            "text/plain": [
              "[__main__.B, __main__.A, object]"
            ]
          },
          "metadata": {},
          "execution_count": 120
        }
      ]
    },
    {
      "cell_type": "code",
      "metadata": {
        "colab": {
          "base_uri": "https://localhost:8080/"
        },
        "id": "m0wdPas9Ot5j",
        "outputId": "054bd9e0-12fe-45e7-9129-28c3b5ef260a"
      },
      "source": [
        "A.mro()"
      ],
      "execution_count": 121,
      "outputs": [
        {
          "output_type": "execute_result",
          "data": {
            "text/plain": [
              "[__main__.A, object]"
            ]
          },
          "metadata": {},
          "execution_count": 121
        }
      ]
    },
    {
      "cell_type": "code",
      "metadata": {
        "colab": {
          "base_uri": "https://localhost:8080/",
          "height": 105
        },
        "id": "ta9lV24UOvNo",
        "outputId": "a2cab746-a021-4854-8f40-31b48f35223c"
      },
      "source": [
        "x = D()\n",
        "x.m"
      ],
      "execution_count": 126,
      "outputs": [
        {
          "output_type": "stream",
          "name": "stdout",
          "text": [
            "D.__init__\n",
            "B.__init__\n",
            "C.__init__\n",
            "A.__init__\n"
          ]
        },
        {
          "output_type": "execute_result",
          "data": {
            "application/vnd.google.colaboratory.intrinsic+json": {
              "type": "string"
            },
            "text/plain": [
              "'b'"
            ]
          },
          "metadata": {},
          "execution_count": 126
        }
      ]
    },
    {
      "cell_type": "markdown",
      "metadata": {
        "id": "w5wnN_RJWIa2"
      },
      "source": [
        "#### Polymorphism\n",
        "\n",
        "Polymorphism in Computer Science is the ability to present the same interface for differing underlying forms. We can have in some programming languages polymorphic functions or methods, for example. Polymorphic functions or methods can be applied to arguments of different types, and they can behave differently depending on the type of the arguments to which they are applied. We can also define the same function name with a varying number of parameter.\n",
        "\n",
        "Let's have a look at the following Python function:"
      ]
    },
    {
      "cell_type": "code",
      "metadata": {
        "colab": {
          "base_uri": "https://localhost:8080/"
        },
        "id": "nJyfDiyxPlxI",
        "outputId": "c92053b6-d49b-49c3-ebef-0e61f5df77a9"
      },
      "source": [
        "def f(x, y):\n",
        "    print(\"values: \", x, y)\n",
        "\n",
        "f(42, 43)\n",
        "f(42, 43.7) \n",
        "f(42.3, 43)\n",
        "f(42.0, 43.9)"
      ],
      "execution_count": 127,
      "outputs": [
        {
          "output_type": "stream",
          "name": "stdout",
          "text": [
            "values:  42 43\n",
            "values:  42 43.7\n",
            "values:  42.3 43\n",
            "values:  42.0 43.9\n"
          ]
        }
      ]
    },
    {
      "cell_type": "markdown",
      "metadata": {
        "id": "d0O75GbmWqsx"
      },
      "source": [
        "We can call this function with various types, as demonstrated in the example. In typed programming languages like Java or C++, we would have to overload f to implement the various type combinations.\n",
        "\n",
        "Python is implicitly polymorphic. We can apply our previously defined function f even to lists, strings or other types, which can be printed:"
      ]
    },
    {
      "cell_type": "code",
      "metadata": {
        "colab": {
          "base_uri": "https://localhost:8080/"
        },
        "id": "ClkB6oGNWmzR",
        "outputId": "7ac7a2b3-0053-4dcf-82b4-d680737bc4a5"
      },
      "source": [
        "f([3,5,6],(3,5))"
      ],
      "execution_count": 128,
      "outputs": [
        {
          "output_type": "stream",
          "name": "stdout",
          "text": [
            "values:  [3, 5, 6] (3, 5)\n"
          ]
        }
      ]
    },
    {
      "cell_type": "markdown",
      "metadata": {
        "id": "1nT-v1R7YAdu"
      },
      "source": [
        "## Magic methods and operator overloading\n",
        "\n",
        "![](https://www.python-course.eu/images/marvin_the_magician_400w.webp)\n",
        "\n",
        "The so-called magic methods have nothing to do with wizardry. You have already seen them in the previous chapters of our tutorial. They are special methods with fixed names. They are the methods with this clumsy syntax, i.e. the double underscores at the beginning and the end. They are also hard to talk about. How do you pronounce or say a method name like \\_\\_init__? \"Underscore underscore init underscore underscore\" sounds horrible and is almost a tongue twister. \"Double underscore init double underscore\" is a lot better, but the ideal way is \"dunder init dunder\" That's why magic methods methods are sometimes called dunder methods!\n",
        "\n",
        "So what's magic about the \\_\\_init__ method? The answer is, you don't have to invoke it directly. The invocation is realized behind the scenes. When you create an instance x of a class A with the statement \"x = A()\", Python will do the necessary calls to [\\_\\_new__](https://howto.lintel.in/python-__new__-magic-method-explained/) and \\_\\_init__\n",
        "\n",
        "We have encountered the concept of operator overloading many times in the course of this tutorial. We had used the plus sign to add numerical values, to concatenate strings or to combine lists:"
      ]
    },
    {
      "cell_type": "code",
      "metadata": {
        "colab": {
          "base_uri": "https://localhost:8080/"
        },
        "id": "gT9FmMkaWyuD",
        "outputId": "ea702d81-96fc-4324-dea8-757df3059cb1"
      },
      "source": [
        "4 + 5"
      ],
      "execution_count": 129,
      "outputs": [
        {
          "output_type": "execute_result",
          "data": {
            "text/plain": [
              "9"
            ]
          },
          "metadata": {},
          "execution_count": 129
        }
      ]
    },
    {
      "cell_type": "code",
      "metadata": {
        "colab": {
          "base_uri": "https://localhost:8080/"
        },
        "id": "Hjxo8nq7aZis",
        "outputId": "0071a197-c351-4dcc-cd74-bc1153852222"
      },
      "source": [
        "3.8 + 9"
      ],
      "execution_count": 130,
      "outputs": [
        {
          "output_type": "execute_result",
          "data": {
            "text/plain": [
              "12.8"
            ]
          },
          "metadata": {},
          "execution_count": 130
        }
      ]
    },
    {
      "cell_type": "code",
      "metadata": {
        "colab": {
          "base_uri": "https://localhost:8080/",
          "height": 37
        },
        "id": "QABir6yuaa0y",
        "outputId": "bdc07175-4ed7-498d-fadf-c5cd7ea8fb2d"
      },
      "source": [
        "\"Peter\" + \" \" + \"Pan\""
      ],
      "execution_count": 131,
      "outputs": [
        {
          "output_type": "execute_result",
          "data": {
            "application/vnd.google.colaboratory.intrinsic+json": {
              "type": "string"
            },
            "text/plain": [
              "'Peter Pan'"
            ]
          },
          "metadata": {},
          "execution_count": 131
        }
      ]
    },
    {
      "cell_type": "code",
      "metadata": {
        "colab": {
          "base_uri": "https://localhost:8080/"
        },
        "id": "2_sTrShgacov",
        "outputId": "42f1a580-2ab2-4899-c7fd-e5395be36aed"
      },
      "source": [
        "[3,6,8] + [7,11,13]"
      ],
      "execution_count": 132,
      "outputs": [
        {
          "output_type": "execute_result",
          "data": {
            "text/plain": [
              "[3, 6, 8, 7, 11, 13]"
            ]
          },
          "metadata": {},
          "execution_count": 132
        }
      ]
    },
    {
      "cell_type": "markdown",
      "metadata": {
        "id": "SyTeEUgIah3w"
      },
      "source": [
        "Operator Overloading \\_\\_add__\n",
        "It's even possible to overload the \"+\" operator as well as all the other operators for the purposes of your own class. To do this, you need to understand the underlying mechanism. There is a special (or a \"magic\") method for every operator sign. The magic method for the \"+\" sign is the \\_\\_add__ method. For \"-\" it is \\_\\_sub__ and so on. We have a complete listing of all the magic methods a little further down.\n",
        "\n",
        "The mechanism works like this: If we have an expression \"x + y\" and x is an instance of class K, then Python will check the class definition of K. If K has a method \\_\\_add__ it will be called with x.\\_\\_add__(y), otherwise we will get an error message:\n",
        "\n",
        "```\n",
        "Traceback (most recent call last):\n",
        "  File \"\", line 1, in \n",
        "TypeError: unsupported operand type(s) for +: 'K' and 'K'\n",
        "```\n",
        "\n",
        "#### Overview of Magic Methods\n",
        "\n",
        "Binary Operators\n",
        "```\n",
        "Operator\tMethod\n",
        "\n",
        "+\tobject.__add__(self, other)\n",
        "-\tobject.__sub__(self, other)\n",
        "*\tobject.__mul__(self, other)\n",
        "//\tobject.__floordiv__(self, other)\n",
        "/\tobject.__truediv__(self, other)\n",
        "%\tobject.__mod__(self, other)\n",
        "**\tobject.__pow__(self, other[, modulo])\n",
        "<<\tobject.__lshift__(self, other)\n",
        ">>\tobject.__rshift__(self, other)\n",
        "&\tobject.__and__(self, other)\n",
        "^\tobject.__xor__(self, other)\n",
        "|\tobject.__or__(self, other)\n",
        "```\n",
        "\n",
        "Extended Assignments\n",
        "```\n",
        "Operator\tMethod\n",
        "+=\tobject.__iadd__(self, other)\n",
        "-=\tobject.__isub__(self, other)\n",
        "*=\tobject.__imul__(self, other)\n",
        "/=\tobject.__idiv__(self, other)\n",
        "//=\tobject.__ifloordiv__(self, other)\n",
        "%=\tobject.__imod__(self, other)\n",
        "**=\tobject.__ipow__(self, other[, modulo])\n",
        "<<=\tobject.__ilshift__(self, other)\n",
        ">>=\tobject.__irshift__(self, other)\n",
        "&=\tobject.__iand__(self, other)\n",
        "^=\tobject.__ixor__(self, other)\n",
        "|=\tobject.__ior__(self, other)\n",
        "```\n",
        "\n",
        "Unary Operators\n",
        "```\n",
        "Operator\tMethod\n",
        "-\tobject.__neg__(self)\n",
        "+\tobject.__pos__(self)\n",
        "abs()\tobject.__abs__(self)\n",
        "~\tobject.__invert__(self)\n",
        "complex()\tobject.__complex__(self)\n",
        "int()\tobject.__int__(self)\n",
        "long()\tobject.__long__(self)\n",
        "float()\tobject.__float__(self)\n",
        "oct()\tobject.__oct__(self)\n",
        "hex()\tobject.__hex__(self)\n",
        "```\n",
        "\n",
        "Comparison Operators\n",
        "```\n",
        "Operator\tMethod\n",
        "<\tobject.__lt__(self, other)\n",
        "<=\tobject.__le__(self, other)\n",
        "==\tobject.__eq__(self, other)\n",
        "!=\tobject.__ne__(self, other)\n",
        ">=\tobject.__ge__(self, other)\n",
        ">\tobject.__gt__(self, other)\n",
        "```\n",
        "\n",
        "#### Example class: Length\n",
        "\n",
        "We will demonstrate the Length class and how you can overload the \"+\" operator for your own class. To do this, we have to overload the \\_\\_add__ method. Our class contains the \\_\\_str__ and \\_\\_repr__ methods as well. The instances of the class Length contain length or distance information. The attributes of an instance are self.value and self.unit.\n",
        "\n",
        "This class allows us to calculate expressions with mixed units like this one:\n",
        "\n",
        "```2.56 m + 3 yd + 7.8 in + 7.03 cm```"
      ]
    },
    {
      "cell_type": "code",
      "metadata": {
        "colab": {
          "base_uri": "https://localhost:8080/"
        },
        "id": "ZCuNFNQzad3y",
        "outputId": "571b7dd4-07b4-4992-bfbb-d9101c726eb7"
      },
      "source": [
        "class Length:\n",
        "\n",
        "    __metric = {\"mm\" : 0.001, \"cm\" : 0.01, \"m\" : 1, \"km\" : 1000,\n",
        "                \"in\" : 0.0254, \"ft\" : 0.3048, \"yd\" : 0.9144,\n",
        "                \"mi\" : 1609.344 }\n",
        "    \n",
        "    def __init__(self, value, unit = \"m\" ):\n",
        "        self.value = value\n",
        "        self.unit = unit\n",
        "    \n",
        "    def Converse2Metres(self):\n",
        "        return self.value * Length.__metric[self.unit]\n",
        "    \n",
        "    def __add__(self, other):\n",
        "        l = self.Converse2Metres() + other.Converse2Metres()\n",
        "        return Length(l / Length.__metric[self.unit], self.unit )\n",
        "\n",
        "    # We use the method __iadd__ to implement the extended assignment:\n",
        "    def __iadd__(self, other):\n",
        "        if type(other) == int or type(other) == float:\n",
        "            l = self.Converse2Metres() + other\n",
        "        else:\n",
        "            l = self.Converse2Metres() + other.Converse2Metres()\n",
        "        self.value = l / Length.__metric[self.unit]\n",
        "        return self\n",
        "    # Now we are capable of writing the following assignments:\n",
        "    # x += Length(1)\n",
        "    # x += Length(4, \"yd\")\n",
        "    \n",
        "    def __str__(self):\n",
        "        return str(self.Converse2Metres())\n",
        "    \n",
        "    def __repr__(self):\n",
        "        return \"Length(\" + str(self.value) + \", '\" + self.unit + \"')\"\n",
        "\n",
        "if __name__ == \"__main__\":\n",
        "    x = Length(4)\n",
        "    print(x)\n",
        "    y = eval(repr(x))\n",
        "\n",
        "    z = Length(4.5, \"yd\") + Length(1)\n",
        "    print(repr(z))\n",
        "    print(z)"
      ],
      "execution_count": 133,
      "outputs": [
        {
          "output_type": "stream",
          "name": "stdout",
          "text": [
            "4\n",
            "Length(5.593613298337708, 'yd')\n",
            "5.1148\n"
          ]
        }
      ]
    },
    {
      "cell_type": "markdown",
      "metadata": {
        "id": "RHNUUjMxcJ5M"
      },
      "source": [
        "It's a safe bet that if somebody works with adding integers and floats from the right side for a while, he or she will want to have the same from the left side! SWhat will happen, if we execute the following code line:"
      ]
    },
    {
      "cell_type": "code",
      "metadata": {
        "colab": {
          "base_uri": "https://localhost:8080/",
          "height": 164
        },
        "id": "vj3YxP5AbrM2",
        "outputId": "9de0335b-47e4-4f05-e6ac-fe85c0504928"
      },
      "source": [
        "x = 5 + Length(3, \"yd\")"
      ],
      "execution_count": 134,
      "outputs": [
        {
          "output_type": "error",
          "ename": "TypeError",
          "evalue": "ignored",
          "traceback": [
            "\u001b[0;31m---------------------------------------------------------------------------\u001b[0m",
            "\u001b[0;31mTypeError\u001b[0m                                 Traceback (most recent call last)",
            "\u001b[0;32m<ipython-input-134-8572e39fca66>\u001b[0m in \u001b[0;36m<module>\u001b[0;34m()\u001b[0m\n\u001b[0;32m----> 1\u001b[0;31m \u001b[0mx\u001b[0m \u001b[0;34m=\u001b[0m \u001b[0;36m5\u001b[0m \u001b[0;34m+\u001b[0m \u001b[0mLength\u001b[0m\u001b[0;34m(\u001b[0m\u001b[0;36m3\u001b[0m\u001b[0;34m,\u001b[0m \u001b[0;34m\"yd\"\u001b[0m\u001b[0;34m)\u001b[0m\u001b[0;34m\u001b[0m\u001b[0;34m\u001b[0m\u001b[0m\n\u001b[0m",
            "\u001b[0;31mTypeError\u001b[0m: unsupported operand type(s) for +: 'int' and 'Length'"
          ]
        }
      ]
    },
    {
      "cell_type": "markdown",
      "metadata": {
        "id": "z8-zCCitcPqk"
      },
      "source": [
        "Of course, the left side has to be of type \"Length\", because otherwise Python tries to apply the \\_\\_add__ method from int, which can't cope with Length objects as second arguments!\n",
        "\n",
        "Python provides a solution for this problem as well. It's the \\_\\_radd__ method. It works like this: Python tries to evaluate the expression \"5 + Length(3, 'yd')\". First it calls int.\\_\\_add__(5,Length(3, 'yd')), which will raise an exception. After this it will try to invoke Length.\\_\\_radd__(Length(3, \"yd\"), 5). It's easy to recognize that the implementation of \\_\\_radd__ is analogue to \\_\\_add__:"
      ]
    },
    {
      "cell_type": "code",
      "metadata": {
        "colab": {
          "base_uri": "https://localhost:8080/"
        },
        "id": "auaciQPAcMCp",
        "outputId": "99a7c8cb-a452-4567-e806-6434bb3dc032"
      },
      "source": [
        "class Length:\n",
        "\n",
        "    __metric = {\"mm\" : 0.001, \"cm\" : 0.01, \"m\" : 1, \"km\" : 1000,\n",
        "                \"in\" : 0.0254, \"ft\" : 0.3048, \"yd\" : 0.9144,\n",
        "                \"mi\" : 1609.344 }\n",
        "    \n",
        "    def __init__(self, value, unit = \"m\" ):\n",
        "        self.value = value\n",
        "        self.unit = unit\n",
        "    \n",
        "    def Converse2Metres(self):\n",
        "        return self.value * Length.__metric[self.unit]\n",
        "    \n",
        "    def __add__(self, other):\n",
        "        l = self.Converse2Metres() + other.Converse2Metres()\n",
        "        return Length(l / Length.__metric[self.unit], self.unit )\n",
        "\n",
        "    # We use the method __iadd__ to implement the extended assignment:\n",
        "    def __iadd__(self, other):\n",
        "        if type(other) == int or type(other) == float:\n",
        "            l = self.Converse2Metres() + other\n",
        "        else:\n",
        "            l = self.Converse2Metres() + other.Converse2Metres()\n",
        "        self.value = l / Length.__metric[self.unit]\n",
        "        return self\n",
        "    # Now we are capable of writing the following assignments:\n",
        "    # x += Length(1)\n",
        "    # x += Length(4, \"yd\")\n",
        "\n",
        "    def __radd__(self, other):\n",
        "        if type(other) == int or type(other) == float:\n",
        "            l = self.Converse2Metres() + other\n",
        "        else:\n",
        "            l = self.Converse2Metres() + other.Converse2Metres()\n",
        "        return Length(l / Length.__metric[self.unit], self.unit )\n",
        "\n",
        "    def __str__(self):\n",
        "        return str(self.Converse2Metres())\n",
        "    \n",
        "    def __repr__(self):\n",
        "        return \"Length(\" + str(self.value) + \", '\" + self.unit + \"')\"\n",
        "\n",
        "if __name__ == \"__main__\":\n",
        "    x = Length(4)\n",
        "    print(x)\n",
        "    y = eval(repr(x))\n",
        "\n",
        "    z = Length(4.5, \"yd\") + Length(1)\n",
        "    print(repr(z))\n",
        "    print(z)"
      ],
      "execution_count": 136,
      "outputs": [
        {
          "output_type": "stream",
          "name": "stdout",
          "text": [
            "4\n",
            "Length(5.593613298337708, 'yd')\n",
            "5.1148\n"
          ]
        }
      ]
    },
    {
      "cell_type": "code",
      "metadata": {
        "colab": {
          "base_uri": "https://localhost:8080/"
        },
        "id": "9mKNMPkGcXSf",
        "outputId": "52edf1c1-b316-444e-fe45-0c8a95029e48"
      },
      "source": [
        "x = 5 + Length(3, \"yd\")\n",
        "x"
      ],
      "execution_count": 138,
      "outputs": [
        {
          "output_type": "execute_result",
          "data": {
            "text/plain": [
              "Length(8.468066491688539, 'yd')"
            ]
          },
          "metadata": {},
          "execution_count": 138
        }
      ]
    },
    {
      "cell_type": "markdown",
      "metadata": {
        "id": "3_Ma4zWacm40"
      },
      "source": [
        "This means that all the previously introduced binary and extended assignment operators exist in the \"reversed\" version as well:\n",
        "\n",
        "```\n",
        "__radd__ , __rsub__ , __rmul__ etc.\n",
        "```\n",
        "\n",
        "#### Standard Classes as Base Classes\n",
        "\n",
        "It's possible to use standard classes - like int, float, dict or lists - as base classes as well.\n",
        "\n",
        "We extend the list class by adding a push method:"
      ]
    },
    {
      "cell_type": "code",
      "metadata": {
        "colab": {
          "base_uri": "https://localhost:8080/"
        },
        "id": "2q2-TzgNchGB",
        "outputId": "99e8d505-278d-4e4b-c56b-95eec5ab336e"
      },
      "source": [
        "class Plist(list):\n",
        "\n",
        "    def __init__(self, l):\n",
        "        list.__init__(self, l)\n",
        "\n",
        "    def push(self, item):\n",
        "        self.append(item)\n",
        "\n",
        "\n",
        "if __name__ == \"__main__\":\n",
        "    x = Plist([3,4])\n",
        "    x.push(47)\n",
        "    print(x)"
      ],
      "execution_count": 139,
      "outputs": [
        {
          "output_type": "stream",
          "name": "stdout",
          "text": [
            "[3, 4, 47]\n"
          ]
        }
      ]
    },
    {
      "cell_type": "code",
      "metadata": {
        "id": "Aa3FHn3tcsxh"
      },
      "source": [
        ""
      ],
      "execution_count": null,
      "outputs": []
    }
  ]
}
