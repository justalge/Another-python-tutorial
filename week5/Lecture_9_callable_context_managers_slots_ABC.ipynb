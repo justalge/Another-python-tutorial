{
  "nbformat": 4,
  "nbformat_minor": 0,
  "metadata": {
    "colab": {
      "name": "Lecture 9. callable_context_managers_slots_ABC.ipynb",
      "provenance": [],
      "collapsed_sections": [],
      "authorship_tag": "ABX9TyP6/ZdSJ2k/KtDWswd3tC+a",
      "include_colab_link": true
    },
    "kernelspec": {
      "name": "python3",
      "display_name": "Python 3"
    },
    "language_info": {
      "name": "python"
    }
  },
  "cells": [
    {
      "cell_type": "markdown",
      "metadata": {
        "id": "view-in-github",
        "colab_type": "text"
      },
      "source": [
        "<a href=\"https://colab.research.google.com/github/justalge/another_python_tutorial/blob/main/week5/Lecture_9_callable_context_managers_slots_ABC.ipynb\" target=\"_parent\"><img src=\"https://colab.research.google.com/assets/colab-badge.svg\" alt=\"Open In Colab\"/></a>"
      ]
    },
    {
      "cell_type": "markdown",
      "metadata": {
        "id": "RiCiQPqyMDwR"
      },
      "source": [
        "## Callables and Callable Instances\n",
        "\n",
        "There will be hardly any Python user who hasn't stumbled upon exceptions like 'dict' object is not callable or 'int' object is not callable. After a while they find out the reason. They used parentheses (round bracket) in situation where they shouldn't have done it. Expressions like f(x), gcd(x, y) or sin(3.4) are usually used for function calls. The question is, why do we get the message 'dict' object is not callable if we write d('a'), if d is a dictionary? Why doesn't it say 'dict' object is not a function? First of all, when we invoke a function in Python, we also say we 'call the function'. Secondly, there are objects in Python, which are 'called' like functions but are not functions strictly speaking. There are 'lambda functions', which are defined in a different way. It is also possible to define classes, where the instances are callable like 'regular' functions. This will be achieved by adding another magic method the \\_\\_call__ method.\n",
        "\n",
        "![](https://www.python-course.eu/images/robot_james_calling.webp)\n",
        "\n",
        "Before we will come to the \\_\\_call__ method, we have to know what a callable is. In general, a \"callable\" is an object that can be called like a function and behaves like one. All functions are also callables. Python provides a function with the name callable. With the help of this funciton we can determine whether an object is callable or not. The function callable returns a Boolean truth value which indicates whether the object passed as an argument can be called like a function or not. In addition to functions, we have already seen another form of callables: classes"
      ]
    },
    {
      "cell_type": "code",
      "metadata": {
        "colab": {
          "base_uri": "https://localhost:8080/"
        },
        "id": "jlTcx6dVMCfo",
        "outputId": "038641a8-0006-4ed5-8552-65ddfd1cb6ce"
      },
      "source": [
        "def the_answer(question):\n",
        "    return 42\n",
        "\n",
        "print(\"the_answer: \", callable(the_answer))"
      ],
      "execution_count": null,
      "outputs": [
        {
          "output_type": "stream",
          "name": "stdout",
          "text": [
            "the_answer:  True\n"
          ]
        }
      ]
    },
    {
      "cell_type": "markdown",
      "metadata": {
        "id": "HFp2z4dTQy2z"
      },
      "source": [
        "The \\_\\_call__ method can be used to turn the instances of the class into callables. Functions are callable objects. A callable object is an object which can be used and behaves like a function but might not be a function. By using the \\_\\_call__ method it is possible to define classes in a way that the instances will be callable objects. The \\_\\_call__ method is called, if the instance is called \"like a function\", i.e. using brackets. The following class definition is the simplest possible way to define a class with a \\_\\_call__ method. Whenever we create an instance of the class, we get a callable"
      ]
    },
    {
      "cell_type": "code",
      "metadata": {
        "colab": {
          "base_uri": "https://localhost:8080/",
          "height": 37
        },
        "id": "IP-X6H0rNQDz",
        "outputId": "d658171b-cb2e-4350-c026-c4c8240f19c5"
      },
      "source": [
        "class FoodSupply:\n",
        "    \n",
        "    def __init__(self, *incredients):\n",
        "        self.incredients = incredients\n",
        "    \n",
        "    def __call__(self):\n",
        "        result = \" \".join(self.incredients) + \" plus delicious spam!\"\n",
        "        return result\n",
        "    \n",
        "f = FoodSupply(\"fish\", \"rice\")\n",
        "f()"
      ],
      "execution_count": null,
      "outputs": [
        {
          "output_type": "execute_result",
          "data": {
            "application/vnd.google.colaboratory.intrinsic+json": {
              "type": "string"
            },
            "text/plain": [
              "'fish rice plus delicious spam!'"
            ]
          },
          "metadata": {},
          "execution_count": 15
        }
      ]
    },
    {
      "cell_type": "markdown",
      "metadata": {
        "id": "q3wur3jZUU56"
      },
      "source": [
        "Now, we define a class with the name TriangleArea. This class has only one method, which is the \\_\\_call__ method. The \\_\\_call__ method calculates the area of an arbitrary triangle, if the length of the three sides are given."
      ]
    },
    {
      "cell_type": "code",
      "metadata": {
        "colab": {
          "base_uri": "https://localhost:8080/"
        },
        "id": "ES46V2ZIT_cs",
        "outputId": "a229b0f6-d7d9-4de3-faa2-c88bb52fc9a0"
      },
      "source": [
        "class TriangleArea:\n",
        "    \n",
        "    def __call__(self, a, b, c):\n",
        "        p = (a + b + c) / 2\n",
        "        result = (p * (p - a) * (p - b) * (p - c)) ** 0.5\n",
        "        return result\n",
        "\n",
        "area = TriangleArea()\n",
        "\n",
        "print(area(3, 4, 5))"
      ],
      "execution_count": null,
      "outputs": [
        {
          "output_type": "stream",
          "name": "stdout",
          "text": [
            "6.0\n"
          ]
        }
      ]
    },
    {
      "cell_type": "markdown",
      "metadata": {
        "id": "kXWKCOQztapO"
      },
      "source": [
        "\n",
        "This program returns 6.0. This class is not very exciting, even though we can create an arbitrary number of instances where each instance just executes an unaltered \\_\\_call__ function of the TrianlgeClass. We cannot pass parameters to the instanciation and the \\_\\_call__ of each instance returns the value of the area of the triangle. So each instance behaves like the area function.\n",
        "\n",
        "After the two very didactic and not very practical examples, we want to demonstrate a more practical example with the following. We define a class that can be used to define linear equations:"
      ]
    },
    {
      "cell_type": "code",
      "metadata": {
        "colab": {
          "base_uri": "https://localhost:8080/"
        },
        "id": "CMtwP_EqUbYL",
        "outputId": "1de81950-0a07-48a0-ffcc-df473e862ffb"
      },
      "source": [
        "class StraightLines():\n",
        "    \n",
        "    def __init__(self, m, c):\n",
        "        self.slope = m\n",
        "        self.y_intercept = c\n",
        "        \n",
        "    def __call__(self, x):\n",
        "        return self.slope * x + self.y_intercept\n",
        "    \n",
        "line = StraightLines(0.4, 3)\n",
        "\n",
        "for x in range(-5, 6):\n",
        "    print(x, line(x))"
      ],
      "execution_count": null,
      "outputs": [
        {
          "output_type": "stream",
          "name": "stdout",
          "text": [
            "-5 1.0\n",
            "-4 1.4\n",
            "-3 1.7999999999999998\n",
            "-2 2.2\n",
            "-1 2.6\n",
            "0 3.0\n",
            "1 3.4\n",
            "2 3.8\n",
            "3 4.2\n",
            "4 4.6\n",
            "5 5.0\n"
          ]
        }
      ]
    },
    {
      "cell_type": "markdown",
      "metadata": {
        "id": "FrivQIeqtqFN"
      },
      "source": [
        "We will use this class now to create some straight lines and visualize them with matplotlib:"
      ]
    },
    {
      "cell_type": "code",
      "metadata": {
        "colab": {
          "base_uri": "https://localhost:8080/",
          "height": 295
        },
        "id": "5OCGUavTtlCR",
        "outputId": "cf48f984-ce6d-4af7-b7df-c74c5876351d"
      },
      "source": [
        "lines = []\n",
        "lines.append(StraightLines(1, 0))\n",
        "lines.append(StraightLines(0.5, 3))\n",
        "lines.append(StraightLines(-1.4, 1.6))\n",
        "\n",
        "import matplotlib.pyplot as plt\n",
        "import numpy as np\n",
        "X = np.linspace(-5,5,100)\n",
        "for index, line in enumerate(lines):\n",
        "    line = np.vectorize(line)\n",
        "    plt.plot(X, line(X), label='line' + str(index))\n",
        "\n",
        "plt.title('Some straight lines')\n",
        "plt.xlabel('x', color='#1C2833')\n",
        "plt.ylabel('y', color='#1C2833')\n",
        "plt.legend(loc='upper left')\n",
        "plt.grid()\n",
        "plt.show()"
      ],
      "execution_count": null,
      "outputs": [
        {
          "output_type": "display_data",
          "data": {
            "image/png": "[encoded data removed]",
            "text/plain": [
              "<Figure size 432x288 with 1 Axes>"
            ]
          },
          "metadata": {
            "needs_background": "light"
          }
        }
      ]
    },
    {
      "cell_type": "markdown",
      "metadata": {
        "id": "NzL5Zk0Ut2zp"
      },
      "source": [
        "Our next example is also exciting. The class FuzzyTriangleArea defines a different \\_\\_call__ method which implements a fuzzy behaviour in the calculations of the area. The result should be correct with a likelihood of p, e.g. 0.8. If the result is not correct the result will be in a range of ± v %. e.g. 0.1"
      ]
    },
    {
      "cell_type": "code",
      "metadata": {
        "colab": {
          "base_uri": "https://localhost:8080/"
        },
        "id": "eanlJl1ntsft",
        "outputId": "c02c6537-3efa-4ed5-ebac-12223cb7eb0a"
      },
      "source": [
        "import random\n",
        "\n",
        "class FuzzyTriangleArea:\n",
        "    \n",
        "    def __init__(self, p=0.8, v=0.1):\n",
        "        self.p, self.v = p, v\n",
        "        \n",
        "    def __call__(self, a, b, c):\n",
        "        p = (a + b + c) / 2\n",
        "        result = (p * (p - a) * (p - b) * (p - c)) ** 0.5\n",
        "        if random.random() <= self.p:\n",
        "            return result\n",
        "        else:\n",
        "            return random.uniform(result-self.v, \n",
        "                                  result+self.v)\n",
        "        \n",
        "area1 = FuzzyTriangleArea()\n",
        "area2 = FuzzyTriangleArea(0.5, 0.2)\n",
        "for i in range(12):\n",
        "    print(f\"{area1(3, 4, 5):4.3f}, {area2(3, 4, 5):4.2f}\")"
      ],
      "execution_count": null,
      "outputs": [
        {
          "output_type": "stream",
          "name": "stdout",
          "text": [
            "6.000, 6.06\n",
            "6.043, 6.00\n",
            "5.947, 5.85\n",
            "6.000, 6.16\n",
            "5.931, 5.82\n",
            "6.000, 6.00\n",
            "5.909, 6.19\n",
            "6.000, 6.15\n",
            "6.000, 5.93\n",
            "6.000, 6.00\n",
            "6.000, 6.00\n",
            "6.000, 6.00\n"
          ]
        }
      ]
    },
    {
      "cell_type": "markdown",
      "metadata": {
        "id": "FyZZyPSft_3-"
      },
      "source": [
        "Beware that this output differs with every call! We can see the in most cases we get the right value for the area but sometimes not.\n",
        "\n",
        "We can create many different instances of the previous class. Each of these behaves like an area function, which returns a value for the area, which may or may not be correct, depending on the instantiation parameters p and v. We can see those instances as experts (expert functions) which return in most cases the correct answer, if we use p values close to 1. If the value v is close to zero, the error will be small, if at all. The next task would be merging such experts, let's call them exp1, exp2, ..., expn to get an improved result. We can perform a vote on the results, i.e. we will return the value which is most often occuring, the correct value. Alternatively, we can calculate the arithmetic mean. We will implement both possibilities in our class FuzzyTriangleArea:\n",
        "\n",
        "![](https://www.python-course.eu/images/merger_callable__call___800w.webp)"
      ]
    },
    {
      "cell_type": "code",
      "metadata": {
        "colab": {
          "base_uri": "https://localhost:8080/"
        },
        "id": "vdFJmQDFt73J",
        "outputId": "97f3008a-7014-4c86-f0d4-fbe7c100ace7"
      },
      "source": [
        "from random import uniform, random\n",
        "from collections import Counter\n",
        "\n",
        "class FuzzyTriangleArea:\n",
        "\n",
        "    def __init__(self, p=0.8, v=0.1):\n",
        "        self.p, self.v = p, v\n",
        "        \n",
        "    def __call__(self, a, b, c):\n",
        "        p = (a + b + c) / 2\n",
        "        result = (p * (p - a) * (p - b) * (p - c)) ** 0.5\n",
        "        if random() <= self.p:\n",
        "            return result\n",
        "        else:\n",
        "            return uniform(result-self.v, \n",
        "                                  result+self.v)\n",
        "     \n",
        "   \n",
        "class MergeExperts:\n",
        "    \n",
        "    def __init__(self, mode, *experts):\n",
        "        self.mode, self.experts = mode, experts\n",
        "        \n",
        "    def __call__(self, a, b, c):\n",
        "        results= [exp(a, b, c) for exp in self.experts]\n",
        "        if self.mode == \"vote\":\n",
        "            c = Counter(results)\n",
        "            return c.most_common(1)[0][0]\n",
        "        elif self.mode == \"mean\":\n",
        "            return sum(results) / len(results)\n",
        "\n",
        "rvalues = [(uniform(0.7, 0.9), uniform(0.05, 0.2)) for _ in range(20)]\n",
        "experts = [FuzzyTriangleArea(p, v) for p, v in rvalues]\n",
        "merger1 = MergeExperts(\"vote\", *experts)\n",
        "print(merger1(3, 4, 5))\n",
        "merger2 = MergeExperts(\"mean\", *experts)\n",
        "print(merger2(3, 4, 5))"
      ],
      "execution_count": null,
      "outputs": [
        {
          "output_type": "stream",
          "name": "stdout",
          "text": [
            "6.0\n",
            "5.994768928215306\n"
          ]
        }
      ]
    },
    {
      "cell_type": "markdown",
      "metadata": {
        "id": "xV0X-UkuudDn"
      },
      "source": [
        "## Big example. Polinomials\n",
        "If you have been to highschool, you will have encountered the terms polynomial and polynomial function. This chapter of our Python tutorial is completely on polynomials, i.e. we will define a class to define polynomials. The following is an example of a polynomial with the degree 4:\n",
        "\n",
        "$p(x) = x^4 - 4 \\cdot x^2 + 3 \\cdot x$\n",
        "\n",
        "You will find out that there are lots of similarities to integers. We will define various arithmetic operations for polynomials in our class, like addition, subtraction, multiplication and division. Our polynomial class will also provide means to calculate the derivation and the integral of polynomials. We will not miss out on plotting polynomials.\n",
        "There is a lot of beauty in polynomials and above all in how they can be implemented as a Python class.\n",
        "\n",
        "#### Short Mathematical Introduction\n",
        "\n",
        "We will only deal with polynomial in a single indeterminate (also called variable) x. A general form of a polynomial in a single indeterminate looks like this:\n",
        "\n",
        "$$a_n \\cdot x^n + a_{n-1} \\cdot x^{n-1} + \\ldots + a_2 \\cdot x^2 + a_1 \\cdot x + a_0$$\n",
        "\n",
        "where $a_0, a_1, ... a_n$ are the constants - non-negative integers - and $x$ is the indeterminate or variable. The term \"indeterminate\" means that $x$ represents no particular value, but any value may be substituted for it.\n",
        "\n",
        "This expression is usually written with the summation operator:\n",
        "\n",
        "$$\\sum_{k=0}^{n} a_k \\cdot x^k = a_n \\cdot x^n + a_{n-1} \\cdot x^{n-1} + \\ldots + a_2 \\cdot x^2 + a_1 \\cdot x + a_0$$\n",
        "\n",
        "A polynomial function is a function that can be defined by evaluating a polynomial. A function f of one argument can be defined as:\n",
        "\n",
        "$$f(x) = \\sum_{k=0}^{n} a_k \\cdot x^k$$\n",
        "\n",
        "#### Polynomial Functions with Python\n",
        "\n",
        "It's easy to implement polynomial functions in Python. As an example we define the polynomial function given in the introduction of this chapter, i.e. $p(x) = x^4 - 4 \\cdot x^2 + 3 \\cdot x$\n",
        "\n",
        "The Python code for this polynomial function looks like this:\n"
      ]
    },
    {
      "cell_type": "code",
      "metadata": {
        "id": "SDpRk6FwvwW5"
      },
      "source": [
        "def p(x):\n",
        "    return x**4 - 4*x**2 + 3*x"
      ],
      "execution_count": null,
      "outputs": []
    },
    {
      "cell_type": "markdown",
      "metadata": {
        "id": "wzGUgy9Zxim3"
      },
      "source": [
        "We can call this function like any other function:"
      ]
    },
    {
      "cell_type": "code",
      "metadata": {
        "colab": {
          "base_uri": "https://localhost:8080/"
        },
        "id": "aq7Z84ObxlEC",
        "outputId": "b94c9989-bbdb-4e19-ff16-66a083bc6988"
      },
      "source": [
        "for x in [-1, 0, 2, 3.4]:\n",
        "    print(x, p(x))"
      ],
      "execution_count": null,
      "outputs": [
        {
          "output_type": "stream",
          "name": "stdout",
          "text": [
            "-1 -6\n",
            "0 0\n",
            "2 6\n",
            "3.4 97.59359999999998\n"
          ]
        }
      ]
    },
    {
      "cell_type": "code",
      "metadata": {
        "colab": {
          "base_uri": "https://localhost:8080/",
          "height": 265
        },
        "id": "tMiyzuylxn-2",
        "outputId": "94dc64b8-84ba-43fc-a39b-52f54ec60ed1"
      },
      "source": [
        "import numpy as np\n",
        "import matplotlib.pyplot as plt\n",
        "\n",
        "X = np.linspace(-3, 3, 50, endpoint=True)\n",
        "F = p(X)\n",
        "plt.plot(X,F)\n",
        "\n",
        "plt.show()"
      ],
      "execution_count": null,
      "outputs": [
        {
          "output_type": "display_data",
          "data": {
            "image/png": "[encoded data removed]",
            "text/plain": [
              "<Figure size 432x288 with 1 Axes>"
            ]
          },
          "metadata": {
            "needs_background": "light"
          }
        }
      ]
    },
    {
      "cell_type": "markdown",
      "metadata": {
        "id": "bPEMJioFx2R7"
      },
      "source": [
        "#### Polynomial Class\n",
        "\n",
        "We will define now a class for polynomial functions. A polynomial is uniquely determined by its coefficients. This means, an instance of our polynomial class needs a list or tuple to define the coefficients"
      ]
    },
    {
      "cell_type": "code",
      "metadata": {
        "id": "C5Wf5jc7yFe-"
      },
      "source": [
        "class Polynomial:\n",
        "    \n",
        "    \n",
        "    def __init__(self, *coefficients):\n",
        "        \"\"\" input: coefficients are in the form a_n, ...a_1, a_0 \n",
        "        \"\"\"\n",
        "        self.coefficients = list(coefficients) # tuple is turned into a list\n",
        "     \n",
        "    \n",
        "    def __repr__(self):\n",
        "        \"\"\"\n",
        "        method to return the canonical string representation \n",
        "        of a polynomial.\n",
        "        \"\"\"\n",
        "        return \"Polynomial\" + str(tuple(self.coefficients))\n",
        "\n",
        "    \n",
        "    def __str__(self):\n",
        "        \n",
        "        def x_expr(degree):\n",
        "            if degree == 0:\n",
        "                res = \"\"\n",
        "            elif degree == 1:\n",
        "                res = \"x\"\n",
        "            else:\n",
        "                res = \"x^\"+str(degree)\n",
        "            return res\n",
        "\n",
        "        degree = len(self.coefficients) - 1\n",
        "        res = \"\"\n",
        "\n",
        "        for i in range(0, degree+1):\n",
        "            coeff = self.coefficients[i]\n",
        "            # nothing has to be done if coeff is 0:\n",
        "            if abs(coeff) == 1 and i < degree:\n",
        "                # 1 in front of x shouldn't occur, e.g. x instead of 1x\n",
        "                # but we need the plus or minus sign:\n",
        "                res += f\"{'+' if coeff>0 else '-'}{x_expr(degree-i)}\"  \n",
        "            elif coeff != 0:\n",
        "                res += f\"{coeff:+g}{x_expr(degree-i)}\" \n",
        "\n",
        "        return res.lstrip('+')    # removing leading '+'"
      ],
      "execution_count": null,
      "outputs": []
    },
    {
      "cell_type": "code",
      "metadata": {
        "colab": {
          "base_uri": "https://localhost:8080/"
        },
        "id": "L7GI4cy8yY9H",
        "outputId": "55de5a27-41fa-40a5-e8b9-0a535f9aebed"
      },
      "source": [
        "polys = [Polynomial(1, 0, -4, 3, 0),\n",
        "         Polynomial(2, 0),\n",
        "         Polynomial(4, 1, -1),\n",
        "         Polynomial(3, 0, -5, 2, 7),\n",
        "         Polynomial(-42)]\n",
        "\n",
        "# output suitable for usage in LaTeX:\n",
        "for count, poly in enumerate(polys):\n",
        "    print(f\"$p_{count} = {str(poly)}$\")"
      ],
      "execution_count": null,
      "outputs": [
        {
          "output_type": "stream",
          "name": "stdout",
          "text": [
            "$p_0 = x^4-4x^2+3x$\n",
            "$p_1 = 2x$\n",
            "$p_2 = 4x^2+x-1$\n",
            "$p_3 = 3x^4-5x^2+2x+7$\n",
            "$p_4 = -42$\n"
          ]
        }
      ]
    },
    {
      "cell_type": "markdown",
      "metadata": {
        "id": "cS0s3Gs6ykQ0"
      },
      "source": [
        "If we use this in LaTeX it will look like this:\n",
        "\n",
        "$p_0 = x^4-4x^2+3x$\n",
        "\n",
        "$p_1 = 2x$\n",
        "\n",
        ". . .\n",
        "\n",
        "So far, we have defined polynomials, but what we actually need are polynomial functions. For this purpose, we turn instances of the Polynomial class into callables by defining the call method:"
      ]
    },
    {
      "cell_type": "code",
      "metadata": {
        "id": "Mitzlvyvy6iF"
      },
      "source": [
        "class Polynomial:\n",
        "    \n",
        "    def __init__(self, *coefficients):\n",
        "        \"\"\" input: coefficients are in the form a_n, ...a_1, a_0 \n",
        "        \"\"\"\n",
        "        self.coefficients = list(coefficients) # tuple is turned into a list\n",
        "    \n",
        "    # The __repr__ and __str__ method can be included here,\n",
        "    # but is not necessary for the immediately following code\n",
        "            \n",
        "    def __call__(self, x):    \n",
        "        res = 0\n",
        "        for index, coeff in enumerate(self.coefficients[::-1]):\n",
        "            res += coeff * x** index\n",
        "        return res "
      ],
      "execution_count": null,
      "outputs": []
    },
    {
      "cell_type": "markdown",
      "metadata": {
        "id": "kHRksfcwzASj"
      },
      "source": [
        "It is possible now to call an instance of our class like a function. We call it with an argument and the instance, - which is a callable, - behaves like a polynomial function:"
      ]
    },
    {
      "cell_type": "code",
      "metadata": {
        "colab": {
          "base_uri": "https://localhost:8080/"
        },
        "id": "CdxMpVCby6or",
        "outputId": "847eaaa8-25ed-4860-805a-462d8f84ed52"
      },
      "source": [
        "p = Polynomial(3, 0, -5, 2, 1)\n",
        "print(p)\n",
        "\n",
        "for x in range(-3, 3):\n",
        "    print(x, p(x))"
      ],
      "execution_count": null,
      "outputs": [
        {
          "output_type": "stream",
          "name": "stdout",
          "text": [
            "<__main__.Polynomial object at 0x7ff797c6d650>\n",
            "-3 193\n",
            "-2 25\n",
            "-1 -3\n",
            "0 1\n",
            "1 1\n",
            "2 33\n"
          ]
        }
      ]
    },
    {
      "cell_type": "markdown",
      "metadata": {
        "id": "ryERVkfXzLr6"
      },
      "source": [
        "Just for fun, let us plot the previously defined function:"
      ]
    },
    {
      "cell_type": "code",
      "metadata": {
        "colab": {
          "base_uri": "https://localhost:8080/",
          "height": 265
        },
        "id": "INlj6iEby6rp",
        "outputId": "af6de78d-9f6d-4178-cea4-448bf210ada4"
      },
      "source": [
        "import matplotlib.pyplot as plt\n",
        "\n",
        "X = np.linspace(-1.5, 1.5, 50, endpoint=True)\n",
        "F = p(X)\n",
        "plt.plot(X, F)\n",
        "\n",
        "plt.show()"
      ],
      "execution_count": null,
      "outputs": [
        {
          "output_type": "display_data",
          "data": {
            "image/png": "[encoded data removed]",
            "text/plain": [
              "<Figure size 432x288 with 1 Axes>"
            ]
          },
          "metadata": {
            "needs_background": "light"
          }
        }
      ]
    },
    {
      "cell_type": "markdown",
      "metadata": {
        "id": "wG0z08NrzUnn"
      },
      "source": [
        "Before we further refine our class, let us use a numerically more efficient variant for the calculation of polynomials. We will use this algorithm in our \\_\\_call__ method.\n",
        "\n",
        "Every polynomial $f(x) = \\sum_{k=0}^{n} a_k \\cdot x^k$ can be also written in the form $f(x) = (a_n x + x_{n-1})x + \\cdot + a_1)x + a_0$\n",
        "\n",
        "We rewrite our class definition (only change \\_\\_call__):"
      ]
    },
    {
      "cell_type": "code",
      "metadata": {
        "id": "2qNtVgN6y6uo"
      },
      "source": [
        "class Polynomial:\n",
        "    \n",
        "    def __init__(self, *coefficients):\n",
        "        \"\"\" input: coefficients are in the form a_n, ...a_1, a_0 \n",
        "        \"\"\"\n",
        "        self.coefficients = list(coefficients) # tuple is turned into a list\n",
        "         \n",
        "    # The __repr__ and __str__ method can be included here,\n",
        "    # but is not necessary for the immediately following code\n",
        "    \n",
        "    def __call__(self, x):    \n",
        "        res = 0\n",
        "        for coeff in self.coefficients:\n",
        "            res = res * x + coeff\n",
        "        return res "
      ],
      "execution_count": null,
      "outputs": []
    },
    {
      "cell_type": "markdown",
      "metadata": {
        "id": "Iq5EfrrE0ZEJ"
      },
      "source": [
        "It is possible to define addition and subtractions for polynomials. All we have to do is to add or subtract the coefficients with the same exponents from both polynomials.\n",
        "\n",
        "If we have polynomial functions $f(x) = \\sum_{k=0}^{n} a_k \\cdot x^k$ and $g(x) = \\sum_{k=0}^{n} b_k \\cdot x^k$, the addition is defined as\n",
        "\n",
        "$$(f+g)(x) = \\sum_{k=0}^{n} (a_k + b_k) \\cdot x^k$$\n",
        "\n",
        "and correspondingly subtraction is defined as\n",
        "\n",
        "$$(f-g)(x) = \\sum_{k=0}^{n} (a_k - b_k) \\cdot x^k$$\n",
        "\n",
        "Before we can add the methods in \\_\\_add__ and \\_\\_sub__, which are necessary for addition and subtraction, we add a generator zip_longest(). It works similar to zip for two parameters, but it does not stop if one of the iterators is exhausted but uses \"fillvalue\" instead:"
      ]
    },
    {
      "cell_type": "markdown",
      "metadata": {
        "id": "aZzERdmi1CqZ"
      },
      "source": [
        "## (Attention! Example with generator)"
      ]
    },
    {
      "cell_type": "code",
      "metadata": {
        "colab": {
          "base_uri": "https://localhost:8080/"
        },
        "id": "ltOkUGo9y6xw",
        "outputId": "7fd46622-c9bb-4a0a-e208-7d86e607a72d"
      },
      "source": [
        "def zip_longest(iter1, iter2, fillvalue=None):\n",
        "\n",
        "    for i in range(max(len(iter1), len(iter2))):\n",
        "        if i >= len(iter1):\n",
        "            yield (fillvalue, iter2[i])\n",
        "        elif i >= len(iter2):\n",
        "            yield (iter1[i], fillvalue)\n",
        "        else:\n",
        "            yield (iter1[i], iter2[i])\n",
        "        i += 1\n",
        "\n",
        "p1 = (2,)\n",
        "p2 = (-1, 4, 5)\n",
        "for x in zip_longest(p1, p2, fillvalue=0):\n",
        "    print(x)"
      ],
      "execution_count": null,
      "outputs": [
        {
          "output_type": "stream",
          "name": "stdout",
          "text": [
            "(2, -1)\n",
            "(0, 4)\n",
            "(0, 5)\n"
          ]
        }
      ]
    },
    {
      "cell_type": "markdown",
      "metadata": {
        "id": "lhyLSsh-DIlu"
      },
      "source": [
        "(More about generators: [generators vs iterators](https://stackoverflow.com/questions/2776829/difference-between-pythons-generators-and-iterators), [what does keyword 'yeild' in python](https://stackoverflow.com/questions/231767/what-does-the-yield-keyword-do/31042491#31042491), [method 'send' of generators](https://stackoverflow.com/questions/231767/what-does-the-yield-keyword-do/31042491#31042491))\n",
        "\n",
        "The generator zip_longest is from itertools. We get it from there. zip_longest takes and arbitrary number of iterables and a keyword parameter fillvalue. It creates an iterator that aggregates elements from each of the iterables. If the iterables are of uneven length, missing values are filled-in with fillvalue. Iteration continues until the longest iterable is exhausted."
      ]
    },
    {
      "cell_type": "code",
      "metadata": {
        "colab": {
          "base_uri": "https://localhost:8080/",
          "height": 265
        },
        "id": "CfDKfymDEENO",
        "outputId": "cc123942-ef45-4882-8359-6460bf41a211"
      },
      "source": [
        "import numpy as np\n",
        "import matplotlib.pyplot as plt\n",
        "from itertools import zip_longest\n",
        "\n",
        "class Polynomial:\n",
        "    \n",
        "    def __init__(self, *coefficients):\n",
        "        \"\"\" input: coefficients are in the form a_n, ...a_1, a_0 \n",
        "        \"\"\"\n",
        "        self.coefficients = list(coefficients) # tuple is turned into a list\n",
        "     \n",
        "    def __repr__(self):\n",
        "        \"\"\"\n",
        "        method to return the canonical string representation \n",
        "        of a polynomial.\n",
        "   \n",
        "        \"\"\"\n",
        "        return \"Polynomial\" + str(self.coefficients)\n",
        "            \n",
        "    def __call__(self, x):    \n",
        "        res = 0\n",
        "        for coeff in self.coefficients:\n",
        "            res = res * x + coeff\n",
        "        return res \n",
        "    \n",
        "    def degree(self):\n",
        "        return len(self.coefficients)   \n",
        "            \n",
        "    def __add__(self, other):\n",
        "        c1 = self.coefficients[::-1]\n",
        "        c2 = other.coefficients[::-1]\n",
        "        res = [sum(t) for t in zip_longest(c1, c2, fillvalue=0)]\n",
        "        return Polynomial(*res[::-1])\n",
        "    \n",
        "    def __sub__(self, other):\n",
        "        c1 = self.coefficients[::-1]\n",
        "        c2 = other.coefficients[::-1]\n",
        "        \n",
        "        res = [t1-t2 for t1, t2 in zip_longest(c1, c2, fillvalue=0)]\n",
        "        return Polynomial(*res[::-1])\n",
        "    \n",
        "\n",
        "            \n",
        "p1 = Polynomial(4, 0, -4, 3, 0)\n",
        "p2 = Polynomial(-0.8, 2.3, 0.5, 1, 0.2)\n",
        "\n",
        "p_sum = p1 + p2\n",
        "p_diff = p1 - p2\n",
        "\n",
        "X = np.linspace(-3, 3, 50, endpoint=True)\n",
        "F1 = p1(X)\n",
        "F2 = p2(X)\n",
        "F_sum = p_sum(X)\n",
        "F_diff = p_diff(X)\n",
        "plt.plot(X, F1, label=\"F1\")\n",
        "plt.plot(X, F2, label=\"F2\")\n",
        "plt.plot(X, F_sum, label=\"F_sum\")\n",
        "plt.plot(X, F_diff, label=\"F_diff\")\n",
        "\n",
        "plt.legend()\n",
        "plt.show()"
      ],
      "execution_count": null,
      "outputs": [
        {
          "output_type": "display_data",
          "data": {
            "image/png": "[encoded data removed]",
            "text/plain": [
              "<Figure size 432x288 with 1 Axes>"
            ]
          },
          "metadata": {
            "needs_background": "light"
          }
        }
      ]
    },
    {
      "cell_type": "markdown",
      "metadata": {
        "id": "m-NULv4gQnBw"
      },
      "source": [
        "It is incredibly easy to add differentiation to our class. Mathematically, it is defined as $f'(x) =  \\sum_{k=0}^{n} k \\cdot a_k \\cdot x^{k-1}$ if $f(x) =    \\sum_{k=0}^{n} a_k \\cdot x^k$\n",
        "\n",
        "This can be easily implemented in our method 'derivative':"
      ]
    },
    {
      "cell_type": "code",
      "metadata": {
        "colab": {
          "base_uri": "https://localhost:8080/",
          "height": 265
        },
        "id": "PyKCV6okQh_0",
        "outputId": "2bc79fa3-aeaa-4b2f-b609-dafa8062af6a"
      },
      "source": [
        "import numpy as np\n",
        "import matplotlib.pyplot as plt\n",
        "\n",
        "\n",
        "class Polynomial:\n",
        " \n",
        "\n",
        "    def __init__(self, *coefficients):\n",
        "        \"\"\" input: coefficients are in the form a_n, ...a_1, a_0 \n",
        "        \"\"\"\n",
        "        self.coefficients = list(coefficients) # tuple is turned into a list\n",
        "\n",
        "        \n",
        "    def __repr__(self):\n",
        "        \"\"\"\n",
        "        method to return the canonical string representation \n",
        "        of a polynomial.\n",
        "   \n",
        "        \"\"\"\n",
        "        return \"Polynomial\" + str(self.coefficients)\n",
        "\n",
        "    \n",
        "    def __call__(self, x):    \n",
        "        res = 0\n",
        "        for coeff in self.coefficients:\n",
        "            res = res * x + coeff\n",
        "        return res \n",
        "\n",
        "    \n",
        "    def degree(self):\n",
        "        return len(self.coefficients)   \n",
        "\n",
        "    \n",
        "    def __add__(self, other):\n",
        "        c1 = self.coefficients[::-1]\n",
        "        c2 = other.coefficients[::-1]\n",
        "        res = [sum(t) for t in zip_longest(c1, c2, fillvalue=0)]\n",
        "        return Polynomial(*res)\n",
        "\n",
        "    \n",
        "    def __sub__(self, other):\n",
        "        c1 = self.coefficients[::-1]\n",
        "        c2 = other.coefficients[::-1]\n",
        "        \n",
        "        res = [t1-t2 for t1, t2 in zip_longest(c1, c2, fillvalue=0)]\n",
        "        return Polynomial(*res)\n",
        " \n",
        "\n",
        "    def derivative(self):\n",
        "        derived_coeffs = []\n",
        "        exponent = len(self.coefficients) - 1\n",
        "        for i in range(len(self.coefficients)-1):\n",
        "            derived_coeffs.append(self.coefficients[i] * exponent)\n",
        "            exponent -= 1\n",
        "        return Polynomial(*derived_coeffs)\n",
        "\n",
        "    \n",
        "    def __str__(self):\n",
        "        \n",
        "        def x_expr(degree):\n",
        "            if degree == 0:\n",
        "                res = \"\"\n",
        "            elif degree == 1:\n",
        "                res = \"x\"\n",
        "            else:\n",
        "                res = \"x^\"+str(degree)\n",
        "            return res\n",
        "\n",
        "        degree = len(self.coefficients) - 1\n",
        "        res = \"\"\n",
        "\n",
        "        for i in range(0, degree+1):\n",
        "            coeff = self.coefficients[i]\n",
        "            # nothing has to be done if coeff is 0:\n",
        "            if abs(coeff) == 1 and i < degree:\n",
        "                # 1 in front of x shouldn't occur, e.g. x instead of 1x\n",
        "                # but we need the plus or minus sign:\n",
        "                res += f\"{'+' if coeff>0 else '-'}{x_expr(degree-i)}\"  \n",
        "            elif coeff != 0:\n",
        "                res += f\"{coeff:+g}{x_expr(degree-i)}\" \n",
        "\n",
        "        return res.lstrip('+')    # removing leading '+'\n",
        "\n",
        "            \n",
        "p = Polynomial(-0.8, 2.3, 0.5, 1, 0.2)\n",
        "\n",
        "p_der = p.derivative()\n",
        "\n",
        "X = np.linspace(-2, 3, 50, endpoint=True)\n",
        "\n",
        "F = p(X)\n",
        "F_derivative = p_der(X)\n",
        "plt.plot(X, F, label=\"F\")\n",
        "plt.plot(X, F_derivative, label=\"F_der\")\n",
        "\n",
        "plt.legend()\n",
        "plt.show()"
      ],
      "execution_count": null,
      "outputs": [
        {
          "output_type": "display_data",
          "data": {
            "image/png": "[encoded data removed]",
            "text/plain": [
              "<Figure size 432x288 with 1 Axes>"
            ]
          },
          "metadata": {
            "needs_background": "light"
          }
        }
      ]
    },
    {
      "cell_type": "markdown",
      "metadata": {
        "id": "L-LrcybQQ-kV"
      },
      "source": [
        "Playing around a little bit:"
      ]
    },
    {
      "cell_type": "code",
      "metadata": {
        "colab": {
          "base_uri": "https://localhost:8080/"
        },
        "id": "GuCs2UZeQ56I",
        "outputId": "e35eda47-885f-43b1-9b3c-5dc396aeff18"
      },
      "source": [
        "p = Polynomial(1, 2, -3, 4, -55)\n",
        "\n",
        "p2 = Polynomial(1, 2, 3)\n",
        "\n",
        "p_der = p.derivative()\n",
        "\n",
        "print(p)\n",
        "print(p_der)\n",
        "print(p2)\n",
        "\n",
        "p3 = p + p2\n",
        "\n",
        "print(p3)"
      ],
      "execution_count": null,
      "outputs": [
        {
          "output_type": "stream",
          "name": "stdout",
          "text": [
            "x^4+2x^3-3x^2+4x-55\n",
            "4x^3+6x^2-6x+4\n",
            "x^2+2x+3\n",
            "-52x^4+6x^3-2x^2+2x+1\n"
          ]
        }
      ]
    },
    {
      "cell_type": "markdown",
      "metadata": {
        "id": "kiNDF9jeRfCz"
      },
      "source": [
        "## Context Manager in Python\n",
        "\n",
        "**Managing Resources**: In any programming language, the usage of resources like file operations or database connections is very common. But these resources are limited in supply. Therefore, the main problem lies in making sure to release these resources after usage. If they are not released then it will lead to resource leakage and may cause the system to either slow down or crash. It would be very helpful if user have a mechanism for the automatic setup and teardown of resources.In Python, it can be achieved by the usage of context managers which facilitate the proper handling of resources. The most common way of performing file operations is by using the with keyword as shown below:\n",
        "\n",
        "```python\n",
        "# Python program showing \n",
        "# a use of with keyword\n",
        "  \n",
        "with open(\"test.txt\") as f:   \n",
        "    data = f.read()\n",
        "```"
      ]
    },
    {
      "cell_type": "markdown",
      "metadata": {
        "id": "nn3b-j5mSIOk"
      },
      "source": [
        "Let’s take the example of file management. When a file is opened, a file descriptor is consumed which is a limited resource. Only a certain number of files can be opened by a process at a time. The following program demonstrates it:"
      ]
    },
    {
      "cell_type": "code",
      "metadata": {
        "colab": {
          "base_uri": "https://localhost:8080/",
          "height": 198
        },
        "id": "7wRW2ALiREdt",
        "outputId": "1b4ae404-0448-4d79-b1d3-0142ee79a176"
      },
      "source": [
        "file_descriptors = []\n",
        "for x in range(10000000):\n",
        "    file_descriptors.append(open(f'test_{x}.txt', 'w'))"
      ],
      "execution_count": null,
      "outputs": [
        {
          "output_type": "error",
          "ename": "OSError",
          "evalue": "ignored",
          "traceback": [
            "\u001b[0;31m---------------------------------------------------------------------------\u001b[0m",
            "\u001b[0;31mOSError\u001b[0m                                   Traceback (most recent call last)",
            "\u001b[0;32m<ipython-input-8-17aecb4e6848>\u001b[0m in \u001b[0;36m<module>\u001b[0;34m()\u001b[0m\n\u001b[1;32m      1\u001b[0m \u001b[0mfile_descriptors\u001b[0m \u001b[0;34m=\u001b[0m \u001b[0;34m[\u001b[0m\u001b[0;34m]\u001b[0m\u001b[0;34m\u001b[0m\u001b[0;34m\u001b[0m\u001b[0m\n\u001b[1;32m      2\u001b[0m \u001b[0;32mfor\u001b[0m \u001b[0mx\u001b[0m \u001b[0;32min\u001b[0m \u001b[0mrange\u001b[0m\u001b[0;34m(\u001b[0m\u001b[0;36m10000000\u001b[0m\u001b[0;34m)\u001b[0m\u001b[0;34m:\u001b[0m\u001b[0;34m\u001b[0m\u001b[0;34m\u001b[0m\u001b[0m\n\u001b[0;32m----> 3\u001b[0;31m     \u001b[0mfile_descriptors\u001b[0m\u001b[0;34m.\u001b[0m\u001b[0mappend\u001b[0m\u001b[0;34m(\u001b[0m\u001b[0mopen\u001b[0m\u001b[0;34m(\u001b[0m\u001b[0;34mf'test_{x}.txt'\u001b[0m\u001b[0;34m,\u001b[0m \u001b[0;34m'w'\u001b[0m\u001b[0;34m)\u001b[0m\u001b[0;34m)\u001b[0m\u001b[0;34m\u001b[0m\u001b[0;34m\u001b[0m\u001b[0m\n\u001b[0m",
            "\u001b[0;31mOSError\u001b[0m: [Errno 24] Too many open files: 'test_1048514.txt'"
          ]
        }
      ]
    },
    {
      "cell_type": "markdown",
      "metadata": {
        "id": "SHb_-ozYTD_d"
      },
      "source": [
        "An error message saying that too many files are open. The above example is a case of file descriptor leakage. It happens because there are too many open files and they are not closed. There might be chances where a programmer may forget to close an opened file.\n",
        "\n",
        "**Managing Resources using context manager**: Suppose a block of code raises an exception or if it has a complex algorithm with multiple return paths, it becomes cumbersome to close a file in all the places.\n",
        "Generally in other languages when working with files try-except-finally is used to ensure that the file resource is closed after usage even if there is an exception.Python provides an easy way to manage resources: Context Managers. The with keyword is used. When it gets evaluated it should result in an object that performs context management. Context managers can be written using classes or functions(with decorators)\n",
        "\n",
        "#### Creating a Context Manager\n",
        "\n",
        "When creating context managers using classes, user need to ensure that the class has the methods: \\_\\_enter__() and \\_\\_exit__(). The \\_\\_enter__() returns the resource that needs to be managed and the \\_\\_exit__() returns `True` if the caught exception should be intercepted. If \\_\\_exit__ doesn't return anything it is the same if it returns `None` and this `None` is casted to `False`. This means that raised exception should not be intercepted and it is passed further (which causes interrupt of a program):"
      ]
    },
    {
      "cell_type": "code",
      "metadata": {
        "colab": {
          "base_uri": "https://localhost:8080/"
        },
        "id": "Z0oGLeCaSLvK",
        "outputId": "a49514a9-22d3-4c50-f35b-4f810ce1116a"
      },
      "source": [
        "# First, lets create a simple class called ContextManager to understand the\n",
        "# basic structure of creating context managers using classes, as shown below:\n",
        "\n",
        "# Python program creating a\n",
        "# context manager\n",
        "  \n",
        "class ContextManager():\n",
        "    def __init__(self):\n",
        "        print('init method called')\n",
        "          \n",
        "    def __enter__(self):\n",
        "        print('enter method called')\n",
        "        return self\n",
        "      \n",
        "    def __exit__(self, exc_type, exc_value, exc_traceback):\n",
        "        print('exit method called without exception')\n",
        "        return True\n",
        "  \n",
        "  \n",
        "with ContextManager() as manager:\n",
        "    raise Exception\n",
        "    print('with statement block')"
      ],
      "execution_count": null,
      "outputs": [
        {
          "output_type": "stream",
          "name": "stdout",
          "text": [
            "init method called\n",
            "enter method called\n",
            "exit method called without exception\n"
          ]
        }
      ]
    },
    {
      "cell_type": "code",
      "metadata": {
        "colab": {
          "base_uri": "https://localhost:8080/",
          "height": 266
        },
        "id": "ulQOkDJnVQ1o",
        "outputId": "e47ac1ba-8461-4d19-e12b-cef96016da8c"
      },
      "source": [
        "class ContextManager():\n",
        "    def __init__(self):\n",
        "        print('init method called')\n",
        "          \n",
        "    def __enter__(self):\n",
        "        print('enter method called')\n",
        "        return self\n",
        "      \n",
        "    def __exit__(self, exc_type, exc_value, exc_traceback):\n",
        "        print('exit method called WITH exception')\n",
        "  \n",
        "  \n",
        "with ContextManager() as manager:\n",
        "    raise Exception\n",
        "    print('with statement block')"
      ],
      "execution_count": null,
      "outputs": [
        {
          "output_type": "stream",
          "name": "stdout",
          "text": [
            "init method called\n",
            "enter method called\n",
            "exit method called WITH exception\n"
          ]
        },
        {
          "output_type": "error",
          "ename": "Exception",
          "evalue": "ignored",
          "traceback": [
            "\u001b[0;31m---------------------------------------------------------------------------\u001b[0m",
            "\u001b[0;31mException\u001b[0m                                 Traceback (most recent call last)",
            "\u001b[0;32m<ipython-input-10-8d2a66e8358f>\u001b[0m in \u001b[0;36m<module>\u001b[0;34m()\u001b[0m\n\u001b[1;32m     12\u001b[0m \u001b[0;34m\u001b[0m\u001b[0m\n\u001b[1;32m     13\u001b[0m \u001b[0;32mwith\u001b[0m \u001b[0mContextManager\u001b[0m\u001b[0;34m(\u001b[0m\u001b[0;34m)\u001b[0m \u001b[0;32mas\u001b[0m \u001b[0mmanager\u001b[0m\u001b[0;34m:\u001b[0m\u001b[0;34m\u001b[0m\u001b[0;34m\u001b[0m\u001b[0m\n\u001b[0;32m---> 14\u001b[0;31m     \u001b[0;32mraise\u001b[0m \u001b[0mException\u001b[0m\u001b[0;34m\u001b[0m\u001b[0;34m\u001b[0m\u001b[0m\n\u001b[0m\u001b[1;32m     15\u001b[0m     \u001b[0mprint\u001b[0m\u001b[0;34m(\u001b[0m\u001b[0;34m'with statement block'\u001b[0m\u001b[0;34m)\u001b[0m\u001b[0;34m\u001b[0m\u001b[0;34m\u001b[0m\u001b[0m\n",
            "\u001b[0;31mException\u001b[0m: "
          ]
        }
      ]
    },
    {
      "cell_type": "markdown",
      "metadata": {
        "id": "ZkygCV6uVdjf"
      },
      "source": [
        "In this case a ContextManager object is created. This is assigned to the variable after the as keyword i.e manager. On running the above program, the following get executed in sequence:\n",
        "\n",
        "* A FileManager object is created with test.txt as the filename and w(write) as the mode when \\_\\_init__ method is executed\n",
        "* The \\_\\_enter__ method opens the test.txt file in write mode(setup operation) and returns the FileManager object to variable f\n",
        "* statement body (code inside the with block): the text is written into the file for example\n",
        "* \\_\\_exit__()\\[the parameters in this method are used to manage exceptions]: the \\_\\_exit__ method takes care of closing the file on exiting the with block (teardown operation)\n",
        "\n",
        "#### File management using context manager\n",
        "\n",
        "Let’s apply the above concept to create a class that helps in file resource management.The FileManager class helps in opening a file, writing/reading contents and then closing it"
      ]
    },
    {
      "cell_type": "code",
      "metadata": {
        "colab": {
          "base_uri": "https://localhost:8080/",
          "height": 351
        },
        "id": "YkxJe-2fVWqa",
        "outputId": "57ab6e38-3765-4012-935a-47c4c34f98cc"
      },
      "source": [
        "# Python program showing\n",
        "# file management using \n",
        "# context manager\n",
        "  \n",
        "class FileManager():\n",
        "    def __init__(self, filename, mode):\n",
        "        self.filename = filename\n",
        "        self.mode = mode\n",
        "        self.file = None\n",
        "          \n",
        "    def __enter__(self):\n",
        "        self.file = open(self.filename, self.mode)\n",
        "        return self.file\n",
        "      \n",
        "    def __exit__(self, exc_type, exc_value, exc_traceback):\n",
        "        self.file.close()\n",
        "  \n",
        "# loading a file \n",
        "with FileManager('test.txt', 'w') as f:\n",
        "    f.write('Test')\n",
        "  \n",
        "print(f.closed)"
      ],
      "execution_count": null,
      "outputs": [
        {
          "output_type": "error",
          "ename": "OSError",
          "evalue": "ignored",
          "traceback": [
            "\u001b[0;31m---------------------------------------------------------------------------\u001b[0m",
            "\u001b[0;31mOSError\u001b[0m                                   Traceback (most recent call last)",
            "\u001b[0;32m<ipython-input-11-321910bb60e4>\u001b[0m in \u001b[0;36m<module>\u001b[0;34m()\u001b[0m\n\u001b[1;32m     17\u001b[0m \u001b[0;34m\u001b[0m\u001b[0m\n\u001b[1;32m     18\u001b[0m \u001b[0;31m# loading a file\u001b[0m\u001b[0;34m\u001b[0m\u001b[0;34m\u001b[0m\u001b[0;34m\u001b[0m\u001b[0m\n\u001b[0;32m---> 19\u001b[0;31m \u001b[0;32mwith\u001b[0m \u001b[0mFileManager\u001b[0m\u001b[0;34m(\u001b[0m\u001b[0;34m'test.txt'\u001b[0m\u001b[0;34m,\u001b[0m \u001b[0;34m'w'\u001b[0m\u001b[0;34m)\u001b[0m \u001b[0;32mas\u001b[0m \u001b[0mf\u001b[0m\u001b[0;34m:\u001b[0m\u001b[0;34m\u001b[0m\u001b[0;34m\u001b[0m\u001b[0m\n\u001b[0m\u001b[1;32m     20\u001b[0m     \u001b[0mf\u001b[0m\u001b[0;34m.\u001b[0m\u001b[0mwrite\u001b[0m\u001b[0;34m(\u001b[0m\u001b[0;34m'Test'\u001b[0m\u001b[0;34m)\u001b[0m\u001b[0;34m\u001b[0m\u001b[0;34m\u001b[0m\u001b[0m\n\u001b[1;32m     21\u001b[0m \u001b[0;34m\u001b[0m\u001b[0m\n",
            "\u001b[0;32m<ipython-input-11-321910bb60e4>\u001b[0m in \u001b[0;36m__enter__\u001b[0;34m(self)\u001b[0m\n\u001b[1;32m     10\u001b[0m \u001b[0;34m\u001b[0m\u001b[0m\n\u001b[1;32m     11\u001b[0m     \u001b[0;32mdef\u001b[0m \u001b[0m__enter__\u001b[0m\u001b[0;34m(\u001b[0m\u001b[0mself\u001b[0m\u001b[0;34m)\u001b[0m\u001b[0;34m:\u001b[0m\u001b[0;34m\u001b[0m\u001b[0;34m\u001b[0m\u001b[0m\n\u001b[0;32m---> 12\u001b[0;31m         \u001b[0mself\u001b[0m\u001b[0;34m.\u001b[0m\u001b[0mfile\u001b[0m \u001b[0;34m=\u001b[0m \u001b[0mopen\u001b[0m\u001b[0;34m(\u001b[0m\u001b[0mself\u001b[0m\u001b[0;34m.\u001b[0m\u001b[0mfilename\u001b[0m\u001b[0;34m,\u001b[0m \u001b[0mself\u001b[0m\u001b[0;34m.\u001b[0m\u001b[0mmode\u001b[0m\u001b[0;34m)\u001b[0m\u001b[0;34m\u001b[0m\u001b[0;34m\u001b[0m\u001b[0m\n\u001b[0m\u001b[1;32m     13\u001b[0m         \u001b[0;32mreturn\u001b[0m \u001b[0mself\u001b[0m\u001b[0;34m.\u001b[0m\u001b[0mfile\u001b[0m\u001b[0;34m\u001b[0m\u001b[0;34m\u001b[0m\u001b[0m\n\u001b[1;32m     14\u001b[0m \u001b[0;34m\u001b[0m\u001b[0m\n",
            "\u001b[0;31mOSError\u001b[0m: [Errno 24] Too many open files: 'test.txt'"
          ]
        }
      ]
    },
    {
      "cell_type": "markdown",
      "metadata": {
        "id": "RH7VgxHAWBPe"
      },
      "source": [
        "Do you remember the cell with `for x in range(10000000):`?\n",
        "\n",
        "Time to restart kernel"
      ]
    },
    {
      "cell_type": "code",
      "metadata": {
        "colab": {
          "base_uri": "https://localhost:8080/"
        },
        "id": "eOGnOVpbV8P6",
        "outputId": "e5d9a797-4eef-4893-a19f-2595ef1fbbdf"
      },
      "source": [
        "# Python program showing\n",
        "# file management using \n",
        "# context manager\n",
        "  \n",
        "class FileManager():\n",
        "    def __init__(self, filename, mode):\n",
        "        self.filename = filename\n",
        "        self.mode = mode\n",
        "        self.file = None\n",
        "          \n",
        "    def __enter__(self):\n",
        "        self.file = open(self.filename, self.mode)\n",
        "        return self.file\n",
        "      \n",
        "    def __exit__(self, exc_type, exc_value, exc_traceback):\n",
        "        self.file.close()\n",
        "  \n",
        "# loading a file \n",
        "with FileManager('test.txt', 'w') as f:\n",
        "    f.write('Test')\n",
        "  \n",
        "print(f.closed)"
      ],
      "execution_count": null,
      "outputs": [
        {
          "output_type": "stream",
          "name": "stdout",
          "text": [
            "True\n"
          ]
        }
      ]
    },
    {
      "cell_type": "markdown",
      "metadata": {
        "id": "-BNivr3ZXN-5"
      },
      "source": [
        "[Example](https://www.geeksforgeeks.org/context-manager-in-python/) with database connection management using context manager and with statement (in the bottom of a page)\n",
        "\n",
        "## Slots\n",
        "\n",
        "The attributes of objects are stored in a dictionary \\_\\_dict__. Like any other dictionary, a dictionary used for attribute storage doesn't have a fixed number of elements. In other words, you can add elements to dictionaries after they are defined, as we have seen in our chapter on dictionaries. This is the reason, why you can dynamically add attributes to objects of classes that we have created so far:"
      ]
    },
    {
      "cell_type": "code",
      "metadata": {
        "id": "wj4hJ_LSWVid"
      },
      "source": [
        "class A(object):\n",
        "    pass\n",
        " \n",
        "a = A()\n",
        "a.x = 66\n",
        "a.y = \"dynamically created attribute\""
      ],
      "execution_count": null,
      "outputs": []
    },
    {
      "cell_type": "markdown",
      "metadata": {
        "id": "5UN058b-X7pX"
      },
      "source": [
        "The dictionary containing the attributes of \"a\" can be accessed like this:"
      ]
    },
    {
      "cell_type": "code",
      "metadata": {
        "colab": {
          "base_uri": "https://localhost:8080/"
        },
        "id": "VtySgxa4X5BE",
        "outputId": "e46872ad-a545-43f8-f79d-00118babf489"
      },
      "source": [
        "a.__dict__"
      ],
      "execution_count": null,
      "outputs": [
        {
          "output_type": "execute_result",
          "data": {
            "text/plain": [
              "{'x': 66, 'y': 'dynamically created attribute'}"
            ]
          },
          "metadata": {},
          "execution_count": 3
        }
      ]
    },
    {
      "cell_type": "markdown",
      "metadata": {
        "id": "ZwZ7klHQYHIf"
      },
      "source": [
        "You might have wondered that you can dynamically add attributes to the classes, we have defined so far, but that you can't do this with built-in classes like 'int', or 'list':"
      ]
    },
    {
      "cell_type": "code",
      "metadata": {
        "colab": {
          "base_uri": "https://localhost:8080/",
          "height": 181
        },
        "id": "r1q23yZQX-M0",
        "outputId": "8077845b-4589-4f9f-a9c4-3b15c039dc9a"
      },
      "source": [
        "x = []\n",
        "x.a = \"not possible to do it\""
      ],
      "execution_count": null,
      "outputs": [
        {
          "output_type": "error",
          "ename": "AttributeError",
          "evalue": "ignored",
          "traceback": [
            "\u001b[0;31m---------------------------------------------------------------------------\u001b[0m",
            "\u001b[0;31mAttributeError\u001b[0m                            Traceback (most recent call last)",
            "\u001b[0;32m<ipython-input-19-2ea0e68ee3da>\u001b[0m in \u001b[0;36m<module>\u001b[0;34m()\u001b[0m\n\u001b[1;32m      1\u001b[0m \u001b[0mx\u001b[0m \u001b[0;34m=\u001b[0m \u001b[0;34m[\u001b[0m\u001b[0;34m]\u001b[0m\u001b[0;34m\u001b[0m\u001b[0;34m\u001b[0m\u001b[0m\n\u001b[0;32m----> 2\u001b[0;31m \u001b[0mx\u001b[0m\u001b[0;34m.\u001b[0m\u001b[0ma\u001b[0m \u001b[0;34m=\u001b[0m \u001b[0;34m\"not possible to do it\"\u001b[0m\u001b[0;34m\u001b[0m\u001b[0;34m\u001b[0m\u001b[0m\n\u001b[0m",
            "\u001b[0;31mAttributeError\u001b[0m: 'list' object has no attribute 'a'"
          ]
        }
      ]
    },
    {
      "cell_type": "markdown",
      "metadata": {
        "id": "s90V70HRZGB4"
      },
      "source": [
        "If we generated a class in which usually only a few instances are needed in a program, - such as the Function class, - the advantages outweigh the disadvantages. The additional storage space for the dictionary brings us significant advantages for the design of our software. However, as soon as a high number of instances of a class must be generated in a program, the cost-benefit ratio can quickly reverse. The additionally required storage space can adversely affect or even prevent the execution of the program.\n",
        "\n",
        "Python's slots are a nice way to work around this space consumption problem. Instead of having a dynamic dict dictionary that allows adding attributes to objects dynamically, slots provide a static structure which prohibits additions after the creation of an instance.\n",
        "\n",
        "When we design a class, we can use slots to prevent the dynamic creation of attributes. To define slots, you have to define a list with the name \\_\\_slots__. The list has to contain all the attributes, you want to use. Anything not in this list cannot be used as an attribute. We demonstrate this in the following class, in which the \\_\\_slots__ list contains only the name for an attribute val:"
      ]
    },
    {
      "cell_type": "code",
      "metadata": {
        "colab": {
          "base_uri": "https://localhost:8080/"
        },
        "id": "4qGUmJc7YJ9n",
        "outputId": "8cb43e7f-3a43-4cd0-f755-dfcc4b326664"
      },
      "source": [
        "class S(object):\n",
        "\n",
        "    # __slots__ = ['val']\n",
        "\n",
        "    def __init__(self, v):\n",
        "        self.val = v\n",
        "\n",
        "\n",
        "x = S(42)\n",
        "print(x.val)\n",
        "\n",
        "x.new = \"not possible\""
      ],
      "execution_count": null,
      "outputs": [
        {
          "output_type": "stream",
          "name": "stdout",
          "text": [
            "42\n"
          ]
        }
      ]
    },
    {
      "cell_type": "markdown",
      "metadata": {
        "id": "hKDQSFfyZywI"
      },
      "source": [
        "We mentioned in the beginning that slots are preventing a waste of space with objects. Since Python 3.3 this advantage is not as impressive any more. With Python 3.3 Key-Sharing Dictionaries are used for the storage of objects. The attributes of the instances are capable of sharing part of their internal storage between each other, i.e. the part which stores the keys and their corresponding hashes. This helps reducing the memory consumption of programs, which create many instances of non-builtin types\n",
        "\n",
        "[More about slots](https://towardsdatascience.com/understand-slots-in-python-e3081ef5196d)\n",
        "\n",
        "## Abstract Classes\n",
        "\n",
        "Abstract classes are classes that contain one or more abstract methods. An abstract method is a method that is declared, but contains no implementation. Abstract classes cannot be instantiated, and require subclasses to provide implementations for the abstract methods.\n",
        "\n",
        "You can see this in the following examples:"
      ]
    },
    {
      "cell_type": "code",
      "metadata": {
        "id": "oOWG_5qU4_9S"
      },
      "source": [
        "class AbstractClass:\n",
        "    \n",
        "    def do_something(self):\n",
        "        pass\n",
        "    \n",
        "    \n",
        "class B(AbstractClass):\n",
        "    pass\n",
        "\n",
        "a = AbstractClass()\n",
        "b = B()"
      ],
      "execution_count": null,
      "outputs": []
    },
    {
      "cell_type": "markdown",
      "metadata": {
        "id": "vkWPo78c8IBx"
      },
      "source": [
        "If we start this program, we see that this is not an abstract class, because:\n",
        "\n",
        "* we can instantiate an instance from\n",
        "* we are not required to implement do_something in the class defintition of B\n",
        "\n",
        "Our example implemented a case of simple inheritance which has nothing to do with an abstract class. In fact, Python on its own doesn't provide abstract classes. Yet, Python comes with a module which provides the infrastructure for defining Abstract Base Classes (ABCs). This module is called - for obvious reasons - abc.\n",
        "\n",
        "The following Python code uses the abc module and defines an abstract base class:"
      ]
    },
    {
      "cell_type": "code",
      "metadata": {
        "id": "VWixqOKV8Ha1"
      },
      "source": [
        "from abc import ABC, abstractmethod\n",
        " \n",
        "class AbstractClassExample(ABC):\n",
        " \n",
        "    def __init__(self, value):\n",
        "        self.value = value\n",
        "        super().__init__()\n",
        "    \n",
        "    @abstractmethod\n",
        "    def do_something(self):\n",
        "        pass"
      ],
      "execution_count": null,
      "outputs": []
    },
    {
      "cell_type": "markdown",
      "metadata": {
        "id": "pHTXttA38i20"
      },
      "source": [
        "We will define now a subclass using the previously defined abstract class. You will notice that we haven't implemented the do_something method, even though we are required to implement it, because this method is decorated as an abstract method with the decorator \"abstractmethod\". We get an exception that DoAdd42 can't be instantiated:"
      ]
    },
    {
      "cell_type": "code",
      "metadata": {
        "colab": {
          "base_uri": "https://localhost:8080/",
          "height": 198
        },
        "id": "9Rpvc9N49Aht",
        "outputId": "40db2ff8-41d0-4374-e075-6463b39dbbe9"
      },
      "source": [
        "class DoAdd42(AbstractClassExample):\n",
        "    pass\n",
        "\n",
        "x = DoAdd42(4)"
      ],
      "execution_count": null,
      "outputs": [
        {
          "output_type": "error",
          "ename": "TypeError",
          "evalue": "ignored",
          "traceback": [
            "\u001b[0;31m---------------------------------------------------------------------------\u001b[0m",
            "\u001b[0;31mTypeError\u001b[0m                                 Traceback (most recent call last)",
            "\u001b[0;32m<ipython-input-20-2bcc42ab0b46>\u001b[0m in \u001b[0;36m<module>\u001b[0;34m()\u001b[0m\n\u001b[1;32m      2\u001b[0m     \u001b[0;32mpass\u001b[0m\u001b[0;34m\u001b[0m\u001b[0;34m\u001b[0m\u001b[0m\n\u001b[1;32m      3\u001b[0m \u001b[0;34m\u001b[0m\u001b[0m\n\u001b[0;32m----> 4\u001b[0;31m \u001b[0mx\u001b[0m \u001b[0;34m=\u001b[0m \u001b[0mDoAdd42\u001b[0m\u001b[0;34m(\u001b[0m\u001b[0;36m4\u001b[0m\u001b[0;34m)\u001b[0m\u001b[0;34m\u001b[0m\u001b[0;34m\u001b[0m\u001b[0m\n\u001b[0m",
            "\u001b[0;31mTypeError\u001b[0m: Can't instantiate abstract class DoAdd42 with abstract methods do_something"
          ]
        }
      ]
    },
    {
      "cell_type": "markdown",
      "metadata": {
        "id": "8Bu8ybgPAubY"
      },
      "source": [
        "We will do it the correct way in the following example, in which we define two classes inheriting from our abstract class:"
      ]
    },
    {
      "cell_type": "code",
      "metadata": {
        "colab": {
          "base_uri": "https://localhost:8080/"
        },
        "id": "91-MVtWeApUJ",
        "outputId": "9be7e091-40aa-4e6b-fc3b-32e0cafe6af0"
      },
      "source": [
        "class DoAdd42(AbstractClassExample):\n",
        "\n",
        "    def do_something(self):\n",
        "        return self.value + 42\n",
        "    \n",
        "class DoMul42(AbstractClassExample):\n",
        "   \n",
        "    def do_something(self):\n",
        "        return self.value * 42\n",
        "    \n",
        "x = DoAdd42(10)\n",
        "y = DoMul42(10)\n",
        "\n",
        "print(x.do_something())\n",
        "print(y.do_something())"
      ],
      "execution_count": null,
      "outputs": [
        {
          "output_type": "stream",
          "name": "stdout",
          "text": [
            "52\n",
            "420\n"
          ]
        }
      ]
    },
    {
      "cell_type": "markdown",
      "metadata": {
        "id": "q1oMwmOyA2Gx"
      },
      "source": [
        "**A class that is derived from an abstract class cannot be instantiated unless all of its abstract methods are overridden**\n",
        "\n",
        "You may think that abstract methods can't be implemented in the abstract base class. This impression is wrong: An abstract method can have an implementation in the abstract class! Even if they are implemented, designers of subclasses will be forced to override the implementation. Like in other cases of \"normal\" inheritance, the abstract method can be invoked with super() call mechanism. This enables providing some basic functionality in the abstract method, which can be enriched by the subclass implementation.\n",
        "\n",
        "You may think that abstract methods can't be implemented in the abstract base class. This impression is wrong: An abstract method can have an implementation in the abstract class! Even if they are implemented, designers of subclasses will be forced to override the implementation. Like in other cases of \"normal\" inheritance, the abstract method can be invoked with super() call mechanism. This enables providing some basic functionality in the abstract method, which can be enriched by the subclass implementation"
      ]
    },
    {
      "cell_type": "code",
      "metadata": {
        "colab": {
          "base_uri": "https://localhost:8080/"
        },
        "id": "K9Y3JEhzAxYr",
        "outputId": "0d7561b4-0dad-45a7-ab45-6f3d766e29e0"
      },
      "source": [
        "from abc import ABC, abstractmethod\n",
        " \n",
        "class AbstractClassExample(ABC):\n",
        "    \n",
        "    @abstractmethod\n",
        "    def do_something(self):\n",
        "        print(\"Some implementation!\")\n",
        "        \n",
        "class AnotherSubclass(AbstractClassExample):\n",
        "\n",
        "    def do_something(self):\n",
        "        super().do_something()\n",
        "        print(\"The enrichment from AnotherSubclass\")\n",
        "        \n",
        "x = AnotherSubclass()\n",
        "x.do_something()"
      ],
      "execution_count": null,
      "outputs": [
        {
          "output_type": "stream",
          "name": "stdout",
          "text": [
            "Some implementation!\n",
            "The enrichment from AnotherSubclass\n"
          ]
        }
      ]
    },
    {
      "cell_type": "code",
      "metadata": {
        "id": "U1buOKdnBIW0"
      },
      "source": [
        ""
      ],
      "execution_count": null,
      "outputs": []
    }
  ]
}