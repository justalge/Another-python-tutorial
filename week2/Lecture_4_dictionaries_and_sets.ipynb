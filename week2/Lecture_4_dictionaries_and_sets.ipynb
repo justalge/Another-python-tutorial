{
  "nbformat": 4,
  "nbformat_minor": 0,
  "metadata": {
    "colab": {
      "name": "Lecture 4. Dictionaries and sets.ipynb",
      "provenance": [],
      "collapsed_sections": [],
      "authorship_tag": "ABX9TyPnQlqdYJoxuQOck8/8+WlA",
      "include_colab_link": true
    },
    "kernelspec": {
      "name": "python3",
      "display_name": "Python 3"
    },
    "language_info": {
      "name": "python"
    }
  },
  "cells": [
    {
      "cell_type": "markdown",
      "metadata": {
        "id": "view-in-github",
        "colab_type": "text"
      },
      "source": [
        "<a href=\"https://colab.research.google.com/github/justalge/another_python_totorial/blob/main/week2/Lecture_4_dictionaries_and_sets.ipynb\" target=\"_parent\"><img src=\"https://colab.research.google.com/assets/colab-badge.svg\" alt=\"Open In Colab\"/></a>"
      ]
    },
    {
      "cell_type": "markdown",
      "metadata": {
        "id": "7yaWSZ-qiDlX"
      },
      "source": [
        "# Dictionaries"
      ]
    },
    {
      "cell_type": "markdown",
      "metadata": {
        "id": "8z0ueDJAiIE7"
      },
      "source": [
        "A list is an ordered sequence of objects, whereas dictionaries are unordered sets. However, the main difference is that items in dictionaries are accessed via keys and not via their position.\n",
        "\n",
        "More theoretically, we can say that dictionaries are the Python implementation of an abstract data type, known in computer science as an associative array. Associative arrays consist - like dictionaries of (key, value) pairs, such that each possible key appears at most once in the collection. Any key of the dictionary is associated (or mapped) to a value. The values of a dictionary can be any type of Python data. So, dictionaries are unordered key-value-pairs. Dictionaries are implemented as hash tables"
      ]
    },
    {
      "cell_type": "code",
      "metadata": {
        "colab": {
          "base_uri": "https://localhost:8080/",
          "height": 215
        },
        "id": "ALZZDqu6hYc-",
        "outputId": "26eb6373-d7ef-4bff-f993-823d2557e194"
      },
      "source": [
        "# Example:\n",
        "\n",
        "city_population = {(1, 2): 8_550_405, \n",
        "                   \"Los Angeles\": 3_971_883, \n",
        "                   \"Toronto\": 2_731_571, \n",
        "                   \"Chicago\": 2_720_546, \n",
        "                   \"Houston\": 2_296_224, \n",
        "                   \"Montreal\": 1_704_694, \n",
        "                   \"Calgary\": 1_239_220, \n",
        "                   \"Vancouver\": 631_486, \n",
        "                   \"Boston\": 667_137}\n",
        "\n",
        "# Getting the value:\n",
        "\n",
        "print(city_population[(1, 2)])\n",
        "\n",
        "# What happens, if we try to access a key, i.e. a city in our example, which is not contained in the dictionary? We raise a KeyError:\n",
        "\n",
        "city_population[\"Detroit\"]"
      ],
      "execution_count": null,
      "outputs": [
        {
          "output_type": "stream",
          "name": "stdout",
          "text": [
            "8550405\n"
          ]
        },
        {
          "output_type": "error",
          "ename": "KeyError",
          "evalue": "ignored",
          "traceback": [
            "\u001b[0;31m---------------------------------------------------------------------------\u001b[0m",
            "\u001b[0;31mKeyError\u001b[0m                                  Traceback (most recent call last)",
            "\u001b[0;32m<ipython-input-120-00321ac3908d>\u001b[0m in \u001b[0;36m<module>\u001b[0;34m()\u001b[0m\n\u001b[1;32m     17\u001b[0m \u001b[0;31m# What happens, if we try to access a key, i.e. a city in our example, which is not contained in the dictionary? We raise a KeyError:\u001b[0m\u001b[0;34m\u001b[0m\u001b[0;34m\u001b[0m\u001b[0;34m\u001b[0m\u001b[0m\n\u001b[1;32m     18\u001b[0m \u001b[0;34m\u001b[0m\u001b[0m\n\u001b[0;32m---> 19\u001b[0;31m \u001b[0mcity_population\u001b[0m\u001b[0;34m[\u001b[0m\u001b[0;34m\"Detroit\"\u001b[0m\u001b[0;34m]\u001b[0m\u001b[0;34m\u001b[0m\u001b[0;34m\u001b[0m\u001b[0m\n\u001b[0m",
            "\u001b[0;31mKeyError\u001b[0m: 'Detroit'"
          ]
        }
      ]
    },
    {
      "cell_type": "markdown",
      "metadata": {
        "id": "BTsvIWWijGo2"
      },
      "source": [
        "A frequently asked question is if dictionary objects are ordered. The uncertainty arises from the fact that dictionaries were not sorted in versions before Python 3.7. **In Python 3.7 and all later versions, dictionaries are sorted by the order of item insertion**. In our example this means the dictionary keeps the order in which we defined the dictionary. You can see this by printing the dictionary:"
      ]
    },
    {
      "cell_type": "code",
      "metadata": {
        "colab": {
          "base_uri": "https://localhost:8080/"
        },
        "id": "B--UuiIykL24",
        "outputId": "0e506971-f479-47dc-a8b3-913789492ba6"
      },
      "source": [
        "print(city_population)"
      ],
      "execution_count": null,
      "outputs": [
        {
          "output_type": "stream",
          "name": "stdout",
          "text": [
            "{'New York City': 8550405, 'Los Angeles': 3971883, 'Toronto': 2731571, 'Chicago': 2720546, 'Houston': 2296224, 'Montreal': 1704694, 'Calgary': 1239220, 'Vancouver': 631486, 'Boston': 667137, 'Halifax': 390096}\n"
          ]
        }
      ]
    },
    {
      "cell_type": "markdown",
      "metadata": {
        "id": "fHzAb9cPk_Tq"
      },
      "source": [
        "It's Not a Bug, It's a Feature:"
      ]
    },
    {
      "cell_type": "code",
      "metadata": {
        "colab": {
          "base_uri": "https://localhost:8080/"
        },
        "id": "0_SOPFLpis-1",
        "outputId": "6a093da0-6901-4909-9da1-7b3aec03eb64"
      },
      "source": [
        "# If you let the IPython evaluate the cell with a dictionary you'll see the\n",
        "# ordered by the key dictionary:\n",
        "\n",
        "city_population\n",
        "\n",
        "# That's because IPython sort it before printing (dictionary is not sorted!)"
      ],
      "execution_count": null,
      "outputs": [
        {
          "output_type": "execute_result",
          "data": {
            "text/plain": [
              "{'Boston': 667137,\n",
              " 'Calgary': 1239220,\n",
              " 'Chicago': 2720546,\n",
              " 'Halifax': 390096,\n",
              " 'Houston': 2296224,\n",
              " 'Los Angeles': 3971883,\n",
              " 'Montreal': 1704694,\n",
              " 'New York City': 8550405,\n",
              " 'Toronto': 2731571,\n",
              " 'Vancouver': 631486}"
            ]
          },
          "metadata": {},
          "execution_count": 12
        }
      ]
    },
    {
      "cell_type": "code",
      "metadata": {
        "colab": {
          "base_uri": "https://localhost:8080/",
          "height": 198
        },
        "id": "bVOfsDfAjNK3",
        "outputId": "eccb42d7-4abb-4108-df30-481393c496d7"
      },
      "source": [
        "# Yet, ordering doesn't mean that you have a way of directly calling the nth\n",
        "# element of a dictionary. So trying to access a dictionary with a number - like\n",
        "# we do with lists - will result in an exception:\n",
        "\n",
        "city_population[0]"
      ],
      "execution_count": null,
      "outputs": [
        {
          "output_type": "error",
          "ename": "KeyError",
          "evalue": "ignored",
          "traceback": [
            "\u001b[0;31m---------------------------------------------------------------------------\u001b[0m",
            "\u001b[0;31mKeyError\u001b[0m                                  Traceback (most recent call last)",
            "\u001b[0;32m<ipython-input-7-5db2d1e297f2>\u001b[0m in \u001b[0;36m<module>\u001b[0;34m()\u001b[0m\n\u001b[1;32m      3\u001b[0m \u001b[0;31m# we do with lists - will result in an exception:\u001b[0m\u001b[0;34m\u001b[0m\u001b[0;34m\u001b[0m\u001b[0;34m\u001b[0m\u001b[0m\n\u001b[1;32m      4\u001b[0m \u001b[0;34m\u001b[0m\u001b[0m\n\u001b[0;32m----> 5\u001b[0;31m \u001b[0mcity_population\u001b[0m\u001b[0;34m[\u001b[0m\u001b[0;36m0\u001b[0m\u001b[0;34m]\u001b[0m\u001b[0;34m\u001b[0m\u001b[0;34m\u001b[0m\u001b[0m\n\u001b[0m",
            "\u001b[0;31mKeyError\u001b[0m: 0"
          ]
        }
      ]
    },
    {
      "cell_type": "code",
      "metadata": {
        "colab": {
          "base_uri": "https://localhost:8080/"
        },
        "id": "ZtyuMaP4jcfr",
        "outputId": "30db8164-ead7-411c-a4fe-5835f25ca2cc"
      },
      "source": [
        "# It is very easy to add another entry to an existing dictionary:\n",
        "\n",
        "city_population[\"Halifax\"] = 390096\n",
        "city_population"
      ],
      "execution_count": null,
      "outputs": [
        {
          "output_type": "execute_result",
          "data": {
            "text/plain": [
              "{'Boston': 667137,\n",
              " 'Calgary': 1239220,\n",
              " 'Chicago': 2720546,\n",
              " 'Halifax': 390096,\n",
              " 'Houston': 2296224,\n",
              " 'Los Angeles': 3971883,\n",
              " 'Montreal': 1704694,\n",
              " 'New York City': 8550405,\n",
              " 'Toronto': 2731571,\n",
              " 'Vancouver': 631486}"
            ]
          },
          "metadata": {},
          "execution_count": 8
        }
      ]
    },
    {
      "cell_type": "code",
      "metadata": {
        "colab": {
          "base_uri": "https://localhost:8080/"
        },
        "id": "cI-KSmPTjjvL",
        "outputId": "6c046714-711a-4119-ee67-e1cb3edef6a9"
      },
      "source": [
        "print(city_population)"
      ],
      "execution_count": null,
      "outputs": [
        {
          "output_type": "stream",
          "name": "stdout",
          "text": [
            "{'New York City': 8550405, 'Los Angeles': 3971883, 'Toronto': 2731571, 'Chicago': 2720546, 'Houston': 2296224, 'Montreal': 1704694, 'Calgary': 1239220, 'Vancouver': 631486, 'Boston': 667137, 'Halifax': 390096}\n"
          ]
        }
      ]
    },
    {
      "cell_type": "markdown",
      "metadata": {
        "id": "IgO-CDFXlLbL"
      },
      "source": [
        "So, it's possible to create a dictionary incrementally by starting with an empty dictionary. We haven't mentioned so far, how to define an empty one. It can be done by using an empty pair of brackets. The following defines an empty dictionary called city:"
      ]
    },
    {
      "cell_type": "code",
      "metadata": {
        "colab": {
          "base_uri": "https://localhost:8080/"
        },
        "id": "60PLZjIfkByN",
        "outputId": "9b27158c-88fc-4df9-95b5-f4e3771323ee"
      },
      "source": [
        "city_population = {}  # dict()\n",
        "city_population"
      ],
      "execution_count": null,
      "outputs": [
        {
          "output_type": "execute_result",
          "data": {
            "text/plain": [
              "{}"
            ]
          },
          "metadata": {},
          "execution_count": 13
        }
      ]
    },
    {
      "cell_type": "code",
      "metadata": {
        "colab": {
          "base_uri": "https://localhost:8080/"
        },
        "id": "qf_tUja0lOME",
        "outputId": "a461a2ae-5436-422d-bb54-1b581ab021f5"
      },
      "source": [
        "city_population['New York City'] = 8550405\n",
        "city_population['Los Angeles'] = 3971883\n",
        "\n",
        "print(city_population)"
      ],
      "execution_count": null,
      "outputs": [
        {
          "output_type": "stream",
          "name": "stdout",
          "text": [
            "{'New York City': 8550405, 'Los Angeles': 3971883}\n"
          ]
        }
      ]
    },
    {
      "cell_type": "markdown",
      "metadata": {
        "id": "H7xoqbM1lb6N"
      },
      "source": [
        "Looking at our first examples with the cities and their population, you might have gotten the wrong impression that the values in the dictionaries have to be different. The values can be the same, as you can see in the following example. In honour to the patron saint of Python \"Monty Python\", we'll have now some special food dictionaries. What's Python without \"bacon\", \"egg\" and \"spam\"?"
      ]
    },
    {
      "cell_type": "code",
      "metadata": {
        "colab": {
          "base_uri": "https://localhost:8080/"
        },
        "id": "_kiIDK4_lSk7",
        "outputId": "e7192738-7ce4-4804-83fc-3afdfb132f4d"
      },
      "source": [
        "food = {\"bacon\": \"yes\", \"egg\": \"yes\", \"spam\": \"no\" }\n",
        "print(food)"
      ],
      "execution_count": null,
      "outputs": [
        {
          "output_type": "stream",
          "name": "stdout",
          "text": [
            "{'bacon': 'yes', 'egg': 'yes', 'spam': 'no'}\n"
          ]
        }
      ]
    },
    {
      "cell_type": "code",
      "metadata": {
        "colab": {
          "base_uri": "https://localhost:8080/"
        },
        "id": "7mL75lq6lfTZ",
        "outputId": "5c566745-71df-4fdc-896e-17d8b91d0c3d"
      },
      "source": [
        "# Our next example is a simple English-German dictionary:\n",
        "\n",
        "en_de = {\"red\" : \"rot\", \"green\" : \"grün\", \"blue\" : \"blau\", \"yellow\": \"gelb\"}\n",
        "print(en_de)\n",
        "print(en_de[\"red\"])\n",
        "\n",
        "# What about having another language dictionary, let's say German-French?\n",
        "# Now it's even possible to translate from English to French, even though we\n",
        "# don't have an English-French-dictionary:\n",
        "\n",
        "de_fr = {\"rot\": \"rouge\", \"grün\": \"vert\", \"blau\": \"bleu\", \"gelb\": \"jaune\"}\n",
        "\n",
        "print(de_fr[en_de[\"red\"]])\n"
      ],
      "execution_count": null,
      "outputs": [
        {
          "output_type": "stream",
          "name": "stdout",
          "text": [
            "{'red': 'rot', 'green': 'grün', 'blue': 'blau', 'yellow': 'gelb'}\n",
            "rot\n",
            "rouge\n"
          ]
        }
      ]
    },
    {
      "cell_type": "markdown",
      "metadata": {
        "id": "QVvsTV7EmCO-"
      },
      "source": [
        "We can use arbitrary types as values in a dictionary, but there is a restriction for the keys. **Only immutable data types can be used as keys**, i.e. no lists or dictionaries can be used: If you use a mutable data type as a key, you get an error message:"
      ]
    },
    {
      "cell_type": "code",
      "metadata": {
        "colab": {
          "base_uri": "https://localhost:8080/",
          "height": 164
        },
        "id": "tQJwPUfgl9If",
        "outputId": "0b71d0f4-4313-4eb4-8e8a-fb82e673927a"
      },
      "source": [
        "dic = {[1,2,3]: \"abc\"}"
      ],
      "execution_count": null,
      "outputs": [
        {
          "output_type": "error",
          "ename": "TypeError",
          "evalue": "ignored",
          "traceback": [
            "\u001b[0;31m---------------------------------------------------------------------------\u001b[0m",
            "\u001b[0;31mTypeError\u001b[0m                                 Traceback (most recent call last)",
            "\u001b[0;32m<ipython-input-18-6596df6e98a2>\u001b[0m in \u001b[0;36m<module>\u001b[0;34m()\u001b[0m\n\u001b[0;32m----> 1\u001b[0;31m \u001b[0mdic\u001b[0m \u001b[0;34m=\u001b[0m \u001b[0;34m{\u001b[0m\u001b[0;34m[\u001b[0m\u001b[0;36m1\u001b[0m\u001b[0;34m,\u001b[0m\u001b[0;36m2\u001b[0m\u001b[0;34m,\u001b[0m\u001b[0;36m3\u001b[0m\u001b[0;34m]\u001b[0m\u001b[0;34m:\u001b[0m \u001b[0;34m\"abc\"\u001b[0m\u001b[0;34m}\u001b[0m\u001b[0;34m\u001b[0m\u001b[0;34m\u001b[0m\u001b[0m\n\u001b[0m",
            "\u001b[0;31mTypeError\u001b[0m: unhashable type: 'list'"
          ]
        }
      ]
    },
    {
      "cell_type": "code",
      "metadata": {
        "id": "ZXsZ1SzQmMeR"
      },
      "source": [
        "# Tuple as keys are okay, as you can see in the following example:\n",
        "\n",
        "dic = {(1, 2, 3): \"abc\", 3.1415: \"abc\"}"
      ],
      "execution_count": null,
      "outputs": []
    },
    {
      "cell_type": "code",
      "metadata": {
        "colab": {
          "base_uri": "https://localhost:8080/"
        },
        "id": "gjof65BGmJpd",
        "outputId": "dcccd69b-1b4a-48e9-8bbd-a435a2a34da8"
      },
      "source": [
        "# Let's improve our examples with the natural language dictionaries a bit. We\n",
        "# create a dictionary of dictionaries:\n",
        "\n",
        "en_de = {\"red\" : \"rot\", \"green\" : \"grün\", \"blue\" : \"blau\", \"yellow\":\"gelb\"}\n",
        "de_fr = {\"rot\" : \"rouge\", \"grün\" : \"vert\", \"blau\" : \"bleu\", \"gelb\":\"jaune\"}\n",
        "de_tr = {\"rot\": \"kırmızı\", \"grün\": \"yeşil\", \"blau\": \"mavi\", \"gelb\": \"jel\"}\n",
        "en_es = {\"red\" : \"rojo\", \"green\" : \"verde\", \"blue\" : \"azul\", \"yellow\":\"amarillo\"}\n",
        "\n",
        "dictionaries = {\"en_de\" : en_de, \"de_fr\" : de_fr, \"de_tr\": de_tr, \"en_es\": en_es}\n",
        "dictionaries"
      ],
      "execution_count": null,
      "outputs": [
        {
          "output_type": "execute_result",
          "data": {
            "text/plain": [
              "{'de_fr': {'blau': 'bleu', 'gelb': 'jaune', 'grün': 'vert', 'rot': 'rouge'},\n",
              " 'de_tr': {'blau': 'mavi', 'gelb': 'jel', 'grün': 'yeşil', 'rot': 'kırmızı'},\n",
              " 'en_de': {'blue': 'blau', 'green': 'grün', 'red': 'rot', 'yellow': 'gelb'},\n",
              " 'en_es': {'blue': 'azul',\n",
              "  'green': 'verde',\n",
              "  'red': 'rojo',\n",
              "  'yellow': 'amarillo'}}"
            ]
          },
          "metadata": {},
          "execution_count": 20
        }
      ]
    },
    {
      "cell_type": "code",
      "metadata": {
        "colab": {
          "base_uri": "https://localhost:8080/"
        },
        "id": "adqkv9ScmcKD",
        "outputId": "1ecd2f9f-c64e-4662-9885-9ef6c27a03eb"
      },
      "source": [
        "cn_de = {\"红\": \"rot\", \"绿\" : \"grün\", \"蓝\" : \"blau\", \"黄\" : \"gelb\"}\n",
        "de_ro = {'rot': 'roșu', 'gelb': 'galben', 'blau': 'albastru', 'grün': 'verde'}\n",
        "de_hex = {\"rot\" : \"#FF0000\", \"grün\" : \"#00FF00\", \"blau\" : \"0000FF\", \"gelb\":\"FFFF00\"}\n",
        "en_pl = {\"red\" : \"czerwony\", \"green\" : \"zielony\", \n",
        "         \"blue\" : \"niebieski\", \"yellow\" : \"żółty\"}\n",
        "de_it = {\"rot\": \"rosso\", \"gelb\": \"giallo\", \"blau\": \"blu\", \"grün\": \"verde\"}\n",
        "\n",
        "dictionaries[\"cn_de\"] = cn_de\n",
        "dictionaries[\"de_ro\"] = de_ro\n",
        "dictionaries[\"de_hex\"] = de_hex\n",
        "dictionaries[\"en_pl\"] = en_pl\n",
        "dictionaries[\"de_it\"] = de_it\n",
        "dictionaries"
      ],
      "execution_count": null,
      "outputs": [
        {
          "output_type": "execute_result",
          "data": {
            "text/plain": [
              "{'cn_de': {'红': 'rot', '绿': 'grün', '蓝': 'blau', '黄': 'gelb'},\n",
              " 'de_fr': {'blau': 'bleu', 'gelb': 'jaune', 'grün': 'vert', 'rot': 'rouge'},\n",
              " 'de_hex': {'blau': '0000FF',\n",
              "  'gelb': 'FFFF00',\n",
              "  'grün': '#00FF00',\n",
              "  'rot': '#FF0000'},\n",
              " 'de_it': {'blau': 'blu', 'gelb': 'giallo', 'grün': 'verde', 'rot': 'rosso'},\n",
              " 'de_ro': {'blau': 'albastru',\n",
              "  'gelb': 'galben',\n",
              "  'grün': 'verde',\n",
              "  'rot': 'roșu'},\n",
              " 'de_tr': {'blau': 'mavi', 'gelb': 'jel', 'grün': 'yeşil', 'rot': 'kırmızı'},\n",
              " 'en_de': {'blue': 'blau', 'green': 'grün', 'red': 'rot', 'yellow': 'gelb'},\n",
              " 'en_es': {'blue': 'azul',\n",
              "  'green': 'verde',\n",
              "  'red': 'rojo',\n",
              "  'yellow': 'amarillo'},\n",
              " 'en_pl': {'blue': 'niebieski',\n",
              "  'green': 'zielony',\n",
              "  'red': 'czerwony',\n",
              "  'yellow': 'żółty'}}"
            ]
          },
          "metadata": {},
          "execution_count": 21
        }
      ]
    },
    {
      "cell_type": "code",
      "metadata": {
        "colab": {
          "base_uri": "https://localhost:8080/"
        },
        "id": "e-xT-YGomi8z",
        "outputId": "029e3b06-2283-45ac-dbb7-ef61a7e2a5d0"
      },
      "source": [
        "dictionaries[\"en_de\"]     # English to German dictionary\n",
        "\n",
        "dictionaries[\"de_fr\"]     # German to French\n",
        "\n",
        "print(dictionaries[\"de_fr\"][\"blau\"])    # equivalent to de_fr['blau']"
      ],
      "execution_count": null,
      "outputs": [
        {
          "output_type": "stream",
          "name": "stdout",
          "text": [
            "bleu\n"
          ]
        }
      ]
    },
    {
      "cell_type": "code",
      "metadata": {
        "colab": {
          "base_uri": "https://localhost:8080/"
        },
        "id": "T9pN7gIfmwfC",
        "outputId": "93bac8fc-ce5f-4dbc-a7b2-5d8c1c1f8e78"
      },
      "source": [
        "lang_pair = input(\"Which dictionary, e.g. 'de_fr', 'en_de': \")\n",
        "word_to_be_translated = input(\"Which colour: \")\n",
        "\n",
        "d = dictionaries[lang_pair]\n",
        "if word_to_be_translated in d:\n",
        "    print(word_to_be_translated + \" --> \" + d[word_to_be_translated])"
      ],
      "execution_count": null,
      "outputs": [
        {
          "output_type": "stream",
          "name": "stdout",
          "text": [
            "Which dictionary, e.g. 'de_fr', 'en_de': en_de\n",
            "Which colour: red\n",
            "red --> rot\n"
          ]
        }
      ]
    },
    {
      "cell_type": "markdown",
      "metadata": {
        "id": "n3sirmo6nFFK"
      },
      "source": [
        "#### Iterating through the keys:"
      ]
    },
    {
      "cell_type": "code",
      "metadata": {
        "colab": {
          "base_uri": "https://localhost:8080/"
        },
        "id": "Qd7aW_yRNfkY",
        "outputId": "07e74b1d-25d0-48e1-f473-079bede33534"
      },
      "source": [
        "list(de_fr.keys())"
      ],
      "execution_count": null,
      "outputs": [
        {
          "output_type": "execute_result",
          "data": {
            "text/plain": [
              "['rot', 'grün', 'blau', 'gelb']"
            ]
          },
          "metadata": {},
          "execution_count": 128
        }
      ]
    },
    {
      "cell_type": "code",
      "metadata": {
        "colab": {
          "base_uri": "https://localhost:8080/"
        },
        "id": "jQqCjSQAnIPf",
        "outputId": "837108e4-c599-4b11-8267-2fa5b2cbd247"
      },
      "source": [
        "for key in de_fr:\n",
        "    print(key)\n",
        "\n",
        "# However, it's possible to use the method keys(), we will get the same result:\n",
        "\n",
        "print()\n",
        "\n",
        "for key in de_fr.keys():\n",
        "    print(key)"
      ],
      "execution_count": null,
      "outputs": [
        {
          "output_type": "stream",
          "name": "stdout",
          "text": [
            "rot\n",
            "grün\n",
            "blau\n",
            "gelb\n",
            "\n",
            "rot\n",
            "grün\n",
            "blau\n",
            "gelb\n"
          ]
        }
      ]
    },
    {
      "cell_type": "markdown",
      "metadata": {
        "id": "i5IyMMsSm_-x"
      },
      "source": [
        "#### Iterating through the values:"
      ]
    },
    {
      "cell_type": "code",
      "metadata": {
        "colab": {
          "base_uri": "https://localhost:8080/"
        },
        "id": "a00YaxHemxn8",
        "outputId": "74b1cf8d-790e-4642-f511-88c9e0624cec"
      },
      "source": [
        "for value in de_fr.values():\n",
        "    print(value)\n",
        "\n",
        "# or:\n",
        "\n",
        "print()\n",
        "\n",
        "for key in de_fr.keys():\n",
        "    print(de_fr[key])"
      ],
      "execution_count": null,
      "outputs": [
        {
          "output_type": "stream",
          "name": "stdout",
          "text": [
            "rouge\n",
            "vert\n",
            "bleu\n",
            "jaune\n",
            "\n",
            "rouge\n",
            "vert\n",
            "bleu\n",
            "jaune\n"
          ]
        }
      ]
    },
    {
      "cell_type": "markdown",
      "metadata": {
        "id": "uF8z-cI8uBNc"
      },
      "source": [
        "#### But the second way is less efficient!"
      ]
    },
    {
      "cell_type": "code",
      "metadata": {
        "colab": {
          "base_uri": "https://localhost:8080/"
        },
        "id": "wVEL7UGQuEsh",
        "outputId": "9adac6c4-12a3-4f63-b7c8-952b345c7ba7"
      },
      "source": [
        "%%timeit  d = {\"a\":123, \"b\":34, \"c\":304, \"d\":99}\n",
        "for key in d.keys():\n",
        "    x = d[key]"
      ],
      "execution_count": null,
      "outputs": [
        {
          "output_type": "stream",
          "name": "stdout",
          "text": [
            "The slowest run took 6.40 times longer than the fastest. This could mean that an intermediate result is being cached.\n",
            "1000000 loops, best of 5: 336 ns per loop\n"
          ]
        }
      ]
    },
    {
      "cell_type": "code",
      "metadata": {
        "colab": {
          "base_uri": "https://localhost:8080/"
        },
        "id": "hJgAHsSkuI8v",
        "outputId": "6b29252f-1296-4dc8-8afa-0c52f60cfb5a"
      },
      "source": [
        "%%timeit  d = {\"a\":123, \"b\":34, \"c\":304, \"d\":99}\n",
        "for value in d.values():\n",
        "    x = value"
      ],
      "execution_count": null,
      "outputs": [
        {
          "output_type": "stream",
          "name": "stdout",
          "text": [
            "The slowest run took 9.98 times longer than the fastest. This could mean that an intermediate result is being cached.\n",
            "1000000 loops, best of 5: 243 ns per loop\n"
          ]
        }
      ]
    },
    {
      "cell_type": "markdown",
      "metadata": {
        "id": "BLekQ108nPl8"
      },
      "source": [
        "#### Iterating through the key-value pairs:"
      ]
    },
    {
      "cell_type": "code",
      "metadata": {
        "colab": {
          "base_uri": "https://localhost:8080/"
        },
        "id": "PHN5xe9enEAh",
        "outputId": "f7239002-063b-4a52-bcea-9ee8db373a87"
      },
      "source": [
        "for key, value in de_fr.items():\n",
        "    print(key, '-', value)"
      ],
      "execution_count": null,
      "outputs": [
        {
          "output_type": "stream",
          "name": "stdout",
          "text": [
            "rot - rouge\n",
            "grün - vert\n",
            "blau - bleu\n",
            "gelb - jaune\n"
          ]
        }
      ]
    },
    {
      "cell_type": "code",
      "metadata": {
        "colab": {
          "base_uri": "https://localhost:8080/"
        },
        "id": "a-XkFTv_O_kg",
        "outputId": "fe383c5e-6162-4e34-b894-61d204097d17"
      },
      "source": [
        "list(de_fr.items())"
      ],
      "execution_count": null,
      "outputs": [
        {
          "output_type": "execute_result",
          "data": {
            "text/plain": [
              "[('rot', 'rouge'), ('grün', 'vert'), ('blau', 'bleu'), ('gelb', 'jaune')]"
            ]
          },
          "metadata": {},
          "execution_count": 131
        }
      ]
    },
    {
      "cell_type": "markdown",
      "metadata": {
        "id": "ICNYA5aynivj"
      },
      "source": [
        "#### Swapping keys and values:"
      ]
    },
    {
      "cell_type": "code",
      "metadata": {
        "colab": {
          "base_uri": "https://localhost:8080/"
        },
        "id": "I3IQzQMsnVQl",
        "outputId": "f45bf711-5646-4726-fdb1-3ad60aee3116"
      },
      "source": [
        "fr_de = {}\n",
        "for key, value in de_fr.items():\n",
        "    fr_de[value] = key             # key and value are swapped\n",
        "\n",
        "fr_de"
      ],
      "execution_count": null,
      "outputs": [
        {
          "output_type": "execute_result",
          "data": {
            "text/plain": [
              "{'bleu': 'blau', 'jaune': 'gelb', 'rouge': 'rot', 'vert': 'grün'}"
            ]
          },
          "metadata": {},
          "execution_count": 32
        }
      ]
    },
    {
      "cell_type": "markdown",
      "metadata": {
        "id": "l7g_0Qjjn0Cx"
      },
      "source": [
        "#### Operators in Dictionaries"
      ]
    },
    {
      "cell_type": "markdown",
      "metadata": {
        "id": "wjQKmOIPn3w8"
      },
      "source": [
        "len(d) - returns the number of stored entries, i.e. the number of (key,value) pairs\n",
        "\n",
        "del d[k] - deletes the key k together with his value\n",
        "\n",
        "k in d - True, if a key k exists in the dictionary d\n",
        "\n",
        "k not in d - True, if a key k doesn't exist in the dictionary d"
      ]
    },
    {
      "cell_type": "code",
      "metadata": {
        "id": "0IIYIMOHnmi1"
      },
      "source": [
        "# The following dictionary contains a mapping from latin characters to morsecode:\n",
        "\n",
        "morse = {\n",
        "\"A\" : \".-\", \n",
        "\"B\" : \"-...\", \n",
        "\"C\" : \"-.-.\", \n",
        "\"D\" : \"-..\", \n",
        "\"E\" : \".\", \n",
        "\"F\" : \"..-.\", \n",
        "\"G\" : \"--.\", \n",
        "\"H\" : \"....\", \n",
        "\"I\" : \"..\", \n",
        "\"J\" : \".---\", \n",
        "\"K\" : \"-.-\", \n",
        "\"L\" : \".-..\", \n",
        "\"M\" : \"--\", \n",
        "\"N\" : \"-.\", \n",
        "\"O\" : \"---\", \n",
        "\"P\" : \".--.\", \n",
        "\"Q\" : \"--.-\", \n",
        "\"R\" : \".-.\", \n",
        "\"S\" : \"...\", \n",
        "\"T\" : \"-\", \n",
        "\"U\" : \"..-\", \n",
        "\"V\" : \"...-\", \n",
        "\"W\" : \".--\", \n",
        "\"X\" : \"-..-\", \n",
        "\"Y\" : \"-.--\", \n",
        "\"Z\" : \"--..\", \n",
        "\"0\" : \"-----\", \n",
        "\"1\" : \".----\", \n",
        "\"2\" : \"..---\", \n",
        "\"3\" : \"...--\", \n",
        "\"4\" : \"....-\", \n",
        "\"5\" : \".....\", \n",
        "\"6\" : \"-....\", \n",
        "\"7\" : \"--...\", \n",
        "\"8\" : \"---..\", \n",
        "\"9\" : \"----.\", \n",
        "\".\" : \".-.-.-\", \n",
        "\",\" : \"--..--\"\n",
        "}"
      ],
      "execution_count": null,
      "outputs": []
    },
    {
      "cell_type": "markdown",
      "metadata": {
        "id": "etj1pcPcoXoA"
      },
      "source": [
        "If you save this dictionary as `morsecode.py`, you can easily follow the following examples."
      ]
    },
    {
      "cell_type": "code",
      "metadata": {
        "colab": {
          "base_uri": "https://localhost:8080/"
        },
        "id": "4R-bNZVZoMT9",
        "outputId": "9f5e9122-d35d-4a74-8025-ab9eee84f8f1"
      },
      "source": [
        "# Lets first create `morsecode.py` with the dictionary in collab:\n",
        "\n",
        "data = '''\n",
        "morse = {\n",
        "\"A\" : \".-\", \n",
        "\"B\" : \"-...\", \n",
        "\"C\" : \"-.-.\", \n",
        "\"D\" : \"-..\", \n",
        "\"E\" : \".\", \n",
        "\"F\" : \"..-.\", \n",
        "\"G\" : \"--.\", \n",
        "\"H\" : \"....\", \n",
        "\"I\" : \"..\", \n",
        "\"J\" : \".---\", \n",
        "\"K\" : \"-.-\", \n",
        "\"L\" : \".-..\", \n",
        "\"M\" : \"--\", \n",
        "\"N\" : \"-.\", \n",
        "\"O\" : \"---\", \n",
        "\"P\" : \".--.\", \n",
        "\"Q\" : \"--.-\", \n",
        "\"R\" : \".-.\", \n",
        "\"S\" : \"...\", \n",
        "\"T\" : \"-\", \n",
        "\"U\" : \"..-\", \n",
        "\"V\" : \"...-\", \n",
        "\"W\" : \".--\", \n",
        "\"X\" : \"-..-\", \n",
        "\"Y\" : \"-.--\", \n",
        "\"Z\" : \"--..\", \n",
        "\"0\" : \"-----\", \n",
        "\"1\" : \".----\", \n",
        "\"2\" : \"..---\", \n",
        "\"3\" : \"...--\", \n",
        "\"4\" : \"....-\", \n",
        "\"5\" : \".....\", \n",
        "\"6\" : \"-....\", \n",
        "\"7\" : \"--...\", \n",
        "\"8\" : \"---..\", \n",
        "\"9\" : \"----.\", \n",
        "\".\" : \".-.-.-\", \n",
        "\",\" : \"--..--\"\n",
        "}\n",
        "'''\n",
        "\n",
        "with open('morsecode.py', 'wb') as handle:\n",
        "    print(data, file=handle)\n",
        "\n",
        "\n",
        "!ls\n",
        "!cat morsecode.py"
      ],
      "execution_count": null,
      "outputs": [
        {
          "output_type": "stream",
          "name": "stdout",
          "text": [
            "morsecode.py  __pycache__  sample_data\n",
            "\n",
            "morse = {\n",
            "\"A\" : \".-\", \n",
            "\"B\" : \"-...\", \n",
            "\"C\" : \"-.-.\", \n",
            "\"D\" : \"-..\", \n",
            "\"E\" : \".\", \n",
            "\"F\" : \"..-.\", \n",
            "\"G\" : \"--.\", \n",
            "\"H\" : \"....\", \n",
            "\"I\" : \"..\", \n",
            "\"J\" : \".---\", \n",
            "\"K\" : \"-.-\", \n",
            "\"L\" : \".-..\", \n",
            "\"M\" : \"--\", \n",
            "\"N\" : \"-.\", \n",
            "\"O\" : \"---\", \n",
            "\"P\" : \".--.\", \n",
            "\"Q\" : \"--.-\", \n",
            "\"R\" : \".-.\", \n",
            "\"S\" : \"...\", \n",
            "\"T\" : \"-\", \n",
            "\"U\" : \"..-\", \n",
            "\"V\" : \"...-\", \n",
            "\"W\" : \".--\", \n",
            "\"X\" : \"-..-\", \n",
            "\"Y\" : \"-.--\", \n",
            "\"Z\" : \"--..\", \n",
            "\"0\" : \"-----\", \n",
            "\"1\" : \".----\", \n",
            "\"2\" : \"..---\", \n",
            "\"3\" : \"...--\", \n",
            "\"4\" : \"....-\", \n",
            "\"5\" : \".....\", \n",
            "\"6\" : \"-....\", \n",
            "\"7\" : \"--...\", \n",
            "\"8\" : \"---..\", \n",
            "\"9\" : \"----.\", \n",
            "\".\" : \".-.-.-\", \n",
            "\",\" : \"--..--\"\n",
            "}\n",
            "\n"
          ]
        }
      ]
    },
    {
      "cell_type": "code",
      "metadata": {
        "colab": {
          "base_uri": "https://localhost:8080/"
        },
        "id": "ZMsPHfQNpi9L",
        "outputId": "068e365d-efe1-4635-8c1c-8dfb64726529"
      },
      "source": [
        "# Now you have to import this dictionary:\n",
        "\n",
        "from morsecode import morse\n",
        "\n",
        "# The numbers of characters contained in this dictionary can be determined by\n",
        "# calling the len function:\n",
        "\n",
        "len(morse)"
      ],
      "execution_count": null,
      "outputs": [
        {
          "output_type": "execute_result",
          "data": {
            "text/plain": [
              "38"
            ]
          },
          "metadata": {},
          "execution_count": 43
        }
      ]
    },
    {
      "cell_type": "code",
      "metadata": {
        "colab": {
          "base_uri": "https://localhost:8080/"
        },
        "id": "baZsog1Qpz0J",
        "outputId": "85cd8e2c-3baa-48ff-c6a5-a3ae0280ac0a"
      },
      "source": [
        "\"a\" in morse"
      ],
      "execution_count": null,
      "outputs": [
        {
          "output_type": "execute_result",
          "data": {
            "text/plain": [
              "False"
            ]
          },
          "metadata": {},
          "execution_count": 44
        }
      ]
    },
    {
      "cell_type": "code",
      "metadata": {
        "colab": {
          "base_uri": "https://localhost:8080/"
        },
        "id": "vPrC2NjUqQbI",
        "outputId": "ee577c20-2b41-400b-8004-e5fd233cef93"
      },
      "source": [
        "\"A\" in morse"
      ],
      "execution_count": null,
      "outputs": [
        {
          "output_type": "execute_result",
          "data": {
            "text/plain": [
              "True"
            ]
          },
          "metadata": {},
          "execution_count": 45
        }
      ]
    },
    {
      "cell_type": "code",
      "metadata": {
        "colab": {
          "base_uri": "https://localhost:8080/"
        },
        "id": "98gaKIOCqSkw",
        "outputId": "a2cd0709-79b8-46a5-f69d-4e11b3bb2243"
      },
      "source": [
        "\"a\" not in morse"
      ],
      "execution_count": null,
      "outputs": [
        {
          "output_type": "execute_result",
          "data": {
            "text/plain": [
              "True"
            ]
          },
          "metadata": {},
          "execution_count": 46
        }
      ]
    },
    {
      "cell_type": "code",
      "metadata": {
        "colab": {
          "base_uri": "https://localhost:8080/"
        },
        "id": "eHHXcfohqU64",
        "outputId": "2437dcbc-f56d-44f8-93fe-d46df982b4aa"
      },
      "source": [
        "word = input(\"Your word: \")\n",
        "\n",
        "for char in word.upper():\n",
        "    print(char, morse[char])"
      ],
      "execution_count": null,
      "outputs": [
        {
          "output_type": "stream",
          "name": "stdout",
          "text": [
            "Your word: check\n",
            "C -.-.\n",
            "H ....\n",
            "E .\n",
            "C -.-.\n",
            "K -.-\n"
          ]
        }
      ]
    },
    {
      "cell_type": "code",
      "metadata": {
        "colab": {
          "base_uri": "https://localhost:8080/",
          "height": 37
        },
        "id": "ELsiAL_oR_Nf",
        "outputId": "ae5e81e5-77d9-4031-b782-7eea0c67eb18"
      },
      "source": [
        "'sdfkdsfl'.upper()"
      ],
      "execution_count": null,
      "outputs": [
        {
          "output_type": "execute_result",
          "data": {
            "application/vnd.google.colaboratory.intrinsic+json": {
              "type": "string"
            },
            "text/plain": [
              "'SDFKDSFL'"
            ]
          },
          "metadata": {},
          "execution_count": 135
        }
      ]
    },
    {
      "cell_type": "code",
      "metadata": {
        "colab": {
          "base_uri": "https://localhost:8080/"
        },
        "id": "be9Utyh8qXcL",
        "outputId": "5efb83a9-7ad2-4ac7-8d26-ecea3bbb1a58"
      },
      "source": [
        "word = input(\"Your word: \")\n",
        "\n",
        "morse_word = \"\"\n",
        "for char in word.upper():\n",
        "    if char == \" \":\n",
        "        morse_word += \"   \"\n",
        "    else:\n",
        "        if char not in morse:\n",
        "            continue          # continue with next char, go back to for\n",
        "        morse_word += morse[char] + \" \"\n",
        "\n",
        "print(morse_word)"
      ],
      "execution_count": null,
      "outputs": [
        {
          "output_type": "stream",
          "name": "stdout",
          "text": [
            "Your word: good bye\n",
            "--. --- --- -..    -... -.-- . \n"
          ]
        }
      ]
    },
    {
      "cell_type": "markdown",
      "metadata": {
        "id": "epHSpPzUq0Dg"
      },
      "source": [
        "#### pop"
      ]
    },
    {
      "cell_type": "markdown",
      "metadata": {
        "id": "iZ5j0fTZq3Ao"
      },
      "source": [
        "Lists can be used as stacks and the operator pop() is used to take an element from the stack. So far, so good for lists, but does it make sense to have a pop() method for dictionaries? After all, a dict is not a sequence data type, i.e. there is no ordering and no indexing. Therefore, pop() is defined differently with dictionaries. Keys and values are implemented in an arbitrary order, which is not random, but depends on the implementation. If D is a dictionary, then D.pop(k) removes the key k with its value from the dictionary D and returns the corresponding value as the return value, i.e. D[k]"
      ]
    },
    {
      "cell_type": "code",
      "metadata": {
        "colab": {
          "base_uri": "https://localhost:8080/"
        },
        "id": "HL4kqK4gqenk",
        "outputId": "f36b2d8d-fe9b-4a43-95cb-fbf0e9c79ccf"
      },
      "source": [
        "en_de = {\"Austria\":\"Vienna\", \"Switzerland\":\"Bern\", \"Germany\":\"Berlin\", \"Netherlands\":\"Amsterdam\"}\n",
        "capitals = {\"Austria\":\"Vienna\", \"Germany\":\"Berlin\", \"Netherlands\":\"Amsterdam\"}\n",
        "capital = capitals.pop(\"Austria\")\n",
        "\n",
        "print(capital)\n",
        "print(capitals)\n",
        "\n",
        "# If the key is not found, a KeyError is raised\n",
        "#  To prevent these errors, there is an elegant way. The method pop() has an\n",
        "# optional second parameter, which can be used as a default value:\n",
        "\n",
        "capital = capitals.pop(\"Switzerland\", '7')\n",
        "print(capital)"
      ],
      "execution_count": null,
      "outputs": [
        {
          "output_type": "stream",
          "name": "stdout",
          "text": [
            "Vienna\n",
            "{'Germany': 'Berlin', 'Netherlands': 'Amsterdam'}\n",
            "7\n"
          ]
        }
      ]
    },
    {
      "cell_type": "markdown",
      "metadata": {
        "id": "jOEwbKWdrcUu"
      },
      "source": [
        "#### popitem"
      ]
    },
    {
      "cell_type": "markdown",
      "metadata": {
        "id": "OC3s3hdOrfCA"
      },
      "source": [
        "`popitem()` is a method of dict, which doesn't take any parameter and removes and returns an arbitrary (key,value) pair as a 2-tuple. If `popitem()` is applied on an empty dictionary, a KeyError will be raised"
      ]
    },
    {
      "cell_type": "code",
      "metadata": {
        "colab": {
          "base_uri": "https://localhost:8080/"
        },
        "id": "LRK5Hiu1q6Sh",
        "outputId": "16c54e4e-3cfd-4c27-ee5e-a814fca28999"
      },
      "source": [
        "capitals = {\"Springfield\": \"Illinois\", \n",
        "            \"Augusta\": \"Maine\", \n",
        "            \"Boston\": \"Massachusetts\", \n",
        "            \"Lansing\": \"Michigan\", \n",
        "            \"Albany\": \"New York\", \n",
        "            \"Olympia\": \"Washington\", \n",
        "            \"Toronto\": \"Ontario\"}\n",
        "(city, state) = capitals.popitem()  # or `city, state = capitals.popitem()`\n",
        "(city, state)"
      ],
      "execution_count": null,
      "outputs": [
        {
          "output_type": "execute_result",
          "data": {
            "text/plain": [
              "('Toronto', 'Ontario')"
            ]
          },
          "metadata": {},
          "execution_count": 53
        }
      ]
    },
    {
      "cell_type": "code",
      "metadata": {
        "colab": {
          "base_uri": "https://localhost:8080/"
        },
        "id": "TcFekPxSrD9j",
        "outputId": "9e1ed1da-4fb1-47e4-bf78-40fb306a4e01"
      },
      "source": [
        "print(capitals.popitem())\n",
        "print(capitals.popitem())\n",
        "print(capitals.popitem())"
      ],
      "execution_count": null,
      "outputs": [
        {
          "output_type": "stream",
          "name": "stdout",
          "text": [
            "('Olympia', 'Washington')\n",
            "('Albany', 'New York')\n",
            "('Lansing', 'Michigan')\n"
          ]
        }
      ]
    },
    {
      "cell_type": "markdown",
      "metadata": {
        "id": "EZRwFgNMry_Z"
      },
      "source": [
        "#### Accessing Non-existing Keys"
      ]
    },
    {
      "cell_type": "code",
      "metadata": {
        "colab": {
          "base_uri": "https://localhost:8080/",
          "height": 232
        },
        "id": "kQrxsthgrvH1",
        "outputId": "5191e81e-e66f-4d09-f217-b989d3da4882"
      },
      "source": [
        "# If you try to access a key which doesn't exist, you will get an error message:\n",
        "\n",
        "locations = {\"Toronto\": \"Ontario\", \"Vancouver\": \"British Columbia\"}\n",
        "locations[\"Ottawa\"]"
      ],
      "execution_count": null,
      "outputs": [
        {
          "output_type": "error",
          "ename": "KeyError",
          "evalue": "ignored",
          "traceback": [
            "\u001b[0;31m---------------------------------------------------------------------------\u001b[0m",
            "\u001b[0;31mKeyError\u001b[0m                                  Traceback (most recent call last)",
            "\u001b[0;32m<ipython-input-56-0eef352c0ee4>\u001b[0m in \u001b[0;36m<module>\u001b[0;34m()\u001b[0m\n\u001b[1;32m      1\u001b[0m \u001b[0mlocations\u001b[0m \u001b[0;34m=\u001b[0m \u001b[0;34m{\u001b[0m\u001b[0;34m\"Toronto\"\u001b[0m\u001b[0;34m:\u001b[0m \u001b[0;34m\"Ontario\"\u001b[0m\u001b[0;34m,\u001b[0m \u001b[0;34m\"Vancouver\"\u001b[0m\u001b[0;34m:\u001b[0m \u001b[0;34m\"British Columbia\"\u001b[0m\u001b[0;34m}\u001b[0m\u001b[0;34m\u001b[0m\u001b[0;34m\u001b[0m\u001b[0m\n\u001b[0;32m----> 2\u001b[0;31m \u001b[0mlocations\u001b[0m\u001b[0;34m[\u001b[0m\u001b[0;34m\"Ottawa\"\u001b[0m\u001b[0;34m]\u001b[0m\u001b[0;34m\u001b[0m\u001b[0;34m\u001b[0m\u001b[0m\n\u001b[0m\u001b[1;32m      3\u001b[0m \u001b[0;34m\u001b[0m\u001b[0m\n\u001b[1;32m      4\u001b[0m \u001b[0;31m# You can prevent this by using the \"in\" operator:\u001b[0m\u001b[0;34m\u001b[0m\u001b[0;34m\u001b[0m\u001b[0;34m\u001b[0m\u001b[0m\n\u001b[1;32m      5\u001b[0m \u001b[0;34m\u001b[0m\u001b[0m\n",
            "\u001b[0;31mKeyError\u001b[0m: 'Ottawa'"
          ]
        }
      ]
    },
    {
      "cell_type": "code",
      "metadata": {
        "colab": {
          "base_uri": "https://localhost:8080/"
        },
        "id": "DKWyCjvpr3F8",
        "outputId": "2b904c59-b53d-4469-9ecc-82bc74fc0f3f"
      },
      "source": [
        "# You can prevent this by using the \"in\" operator:\n",
        "\n",
        "province = \"Ottawa\"\n",
        "if province in locations: \n",
        "    print(locations[province])\n",
        "else:\n",
        "    print(province + \" is not in locations\")"
      ],
      "execution_count": null,
      "outputs": [
        {
          "output_type": "stream",
          "name": "stdout",
          "text": [
            "Ottawa is not in locations\n"
          ]
        }
      ]
    },
    {
      "cell_type": "code",
      "metadata": {
        "colab": {
          "base_uri": "https://localhost:8080/"
        },
        "id": "w6xphgi9r_t8",
        "outputId": "6320ffae-1549-49d4-cda3-26bc1d458e09"
      },
      "source": [
        "# Another method to access the values via the key consists in using the get()\n",
        "# method. get() is not raising an error, if an index doesn't exist. In this case\n",
        "# it will return None. It's also possible to set a default value, which will be\n",
        "# returned, if an index doesn't exist:\n",
        "\n",
        "proj_language = {\"proj1\":\"Python\", \"proj2\":\"Perl\", \"proj3\":\"Java\"}\n",
        "print(proj_language[\"proj1\"])\n",
        "\n",
        "# setting a default value:\n",
        "print(proj_language.get(\"proj4\", \"Python\"))"
      ],
      "execution_count": null,
      "outputs": [
        {
          "output_type": "stream",
          "name": "stdout",
          "text": [
            "Python\n",
            "Python\n"
          ]
        }
      ]
    },
    {
      "cell_type": "markdown",
      "metadata": {
        "id": "aHOjOGNFsov4"
      },
      "source": [
        "#### Important methods"
      ]
    },
    {
      "cell_type": "code",
      "metadata": {
        "colab": {
          "base_uri": "https://localhost:8080/"
        },
        "id": "fA89aHiesf5U",
        "outputId": "35929c81-09b6-4a81-fb49-e54033aa0792"
      },
      "source": [
        "# A dictionary can be copied with the method copy():\n",
        "# This copy is a shallow copy, not a deep copy\n",
        "\n",
        "words = {'house': 'Haus', 'cat': 'Katze'}\n",
        "w = words.copy()\n",
        "words[\"cat\"]=\"chat\"\n",
        "print(w)"
      ],
      "execution_count": null,
      "outputs": [
        {
          "output_type": "stream",
          "name": "stdout",
          "text": [
            "{'house': 'Haus', 'cat': 'Katze'}\n"
          ]
        }
      ]
    },
    {
      "cell_type": "code",
      "metadata": {
        "colab": {
          "base_uri": "https://localhost:8080/"
        },
        "id": "LCgdUXvXsvoo",
        "outputId": "38944c6e-3d27-487d-eddd-4945dafee6ed"
      },
      "source": [
        "trainings = { \"course1\":{\"title\":\"Python Training Course for Beginners\", \n",
        "                         \"location\":\"Frankfurt\", \n",
        "                         \"trainer\":\"Steve G. Snake\"},\n",
        "              \"course2\":{\"title\":\"Intermediate Python Training\",\n",
        "                         \"location\":\"Berlin\",\n",
        "                         \"trainer\":\"Ella M. Charming\"},\n",
        "              \"course3\":{\"title\":\"Python Text Processing Course\",\n",
        "                         \"location\":\"München\",\n",
        "                         \"trainer\":\"Monica A. Snowdon\"}\n",
        "              }\n",
        "\n",
        "trainings2 = trainings.copy()\n",
        "\n",
        "trainings[\"course2\"][\"title\"] = \"Perl Training Course for Beginners\"\n",
        "print(trainings2)\n",
        "\n",
        "# If we check the output, we can see that the title of course2 has been changed\n",
        "# not only in the dictionary training but in trainings2 as well.\n",
        "# Everything works the way you expect it, if you assign a new value, i.e. a new\n",
        "# object, to a key:\n",
        "\n",
        "trainings = { \"course1\": {\"title\": \"Python Training Course for Beginners\", \n",
        "                         \"location\": \"Frankfurt\", \n",
        "                         \"trainer\": \"Steve G. Snake\"},\n",
        "              \"course2\": {\"title\": \"Intermediate Python Training\",\n",
        "                         \"location\": \"Berlin\",\n",
        "                         \"trainer\": \"Ella M. Charming\"},\n",
        "              \"course3\": {\"title\": \"Python Text Processing Course\",\n",
        "                         \"location\": \"München\",\n",
        "                         \"trainer\": \"Monica A. Snowdon\"}\n",
        "              }\n",
        "\n",
        "trainings2 = trainings.copy()\n",
        "\n",
        "trainings[\"course2\"] = {\"title\": \"Perl Seminar for Beginners\",\n",
        "                         \"location\": \"Ulm\",\n",
        "                         \"trainer\": \"James D. Morgan\"}\n",
        "print(trainings2[\"course2\"])"
      ],
      "execution_count": null,
      "outputs": [
        {
          "output_type": "stream",
          "name": "stdout",
          "text": [
            "{'course1': {'title': 'Python Training Course for Beginners', 'location': 'Frankfurt', 'trainer': 'Steve G. Snake'}, 'course2': {'title': 'Perl Training Course for Beginners', 'location': 'Berlin', 'trainer': 'Ella M. Charming'}, 'course3': {'title': 'Python Text Processing Course', 'location': 'München', 'trainer': 'Monica A. Snowdon'}}\n",
            "{'title': 'Intermediate Python Training', 'location': 'Berlin', 'trainer': 'Ella M. Charming'}\n"
          ]
        }
      ]
    },
    {
      "cell_type": "markdown",
      "metadata": {
        "id": "F6XhCJB4tM1-"
      },
      "source": [
        "#### clear()"
      ]
    },
    {
      "cell_type": "markdown",
      "metadata": {
        "id": "3t3GMr9GtRVy"
      },
      "source": [
        "The content of a dictionary can be cleared with the method clear(). The dictionary is not deleted, but set to an empty dictionary:"
      ]
    },
    {
      "cell_type": "code",
      "metadata": {
        "colab": {
          "base_uri": "https://localhost:8080/"
        },
        "id": "e_IYfwZhs2oU",
        "outputId": "cdb54ea8-af1d-4509-a6ca-30a73e49bbc4"
      },
      "source": [
        "w.clear()\n",
        "print(w)"
      ],
      "execution_count": null,
      "outputs": [
        {
          "output_type": "stream",
          "name": "stdout",
          "text": [
            "{}\n"
          ]
        }
      ]
    },
    {
      "cell_type": "markdown",
      "metadata": {
        "id": "LegHQ7A8taQG"
      },
      "source": [
        "#### update()"
      ]
    },
    {
      "cell_type": "markdown",
      "metadata": {
        "id": "brwdHybZtfRp"
      },
      "source": [
        "What about concatenating dictionaries, like we did with lists? There is someting similar for dictionaries: the update method update() merges the keys and values of one dictionary into another, overwriting values of the same key:"
      ]
    },
    {
      "cell_type": "code",
      "metadata": {
        "colab": {
          "base_uri": "https://localhost:8080/"
        },
        "id": "jx5J73kctUnH",
        "outputId": "aef95c06-6ef1-426d-aeb7-7dfaa8150cec"
      },
      "source": [
        "knowledge = {\"Frank\": {\"Perl\"}, \"Monica\":{\"C\",\"C++\"}}\n",
        "knowledge2 = {\"Guido\":{\"Python\"}, \"Frank\":{\"Perl\", \"Python\"}}\n",
        "knowledge.update(knowledge2)\n",
        "knowledge"
      ],
      "execution_count": null,
      "outputs": [
        {
          "output_type": "execute_result",
          "data": {
            "text/plain": [
              "{'Frank': {'Perl', 'Python'}, 'Guido': {'Python'}, 'Monica': {'C', 'C++'}}"
            ]
          },
          "metadata": {},
          "execution_count": 67
        }
      ]
    },
    {
      "cell_type": "markdown",
      "metadata": {
        "id": "FVowVyaGuTlk"
      },
      "source": [
        "#### Connection between Lists and Dictionaries"
      ]
    },
    {
      "cell_type": "markdown",
      "metadata": {
        "id": "N6FV4I_Cuglv"
      },
      "source": [
        "If you have worked for a while with Python, nearly inevitably the moment will come, when you want or have to convert lists into dictionaries or vice versa. It wouldn't be too hard to write a function doing this. But Python wouldn't be Python, if it didn't provide such functionalities"
      ]
    },
    {
      "cell_type": "code",
      "metadata": {
        "id": "NgYKxJTztiPy"
      },
      "source": [
        "D = {\"list\": \"Liste\", \"dictionary\": \"Wörterbuch\", \"function\": \"Funktion\"}\n",
        "\n",
        "# we could turn this into a list with two-tuples:\n",
        "\n",
        "L = [(\"list\", \"Liste\"), (\"dictionary\", \"Wörterbuch\"), (\"function\", \"Funktion\")]\n",
        "\n",
        "# The list L and the dictionary D contain the same content, but the information\n",
        "# is harder to retrieve from the list L than from the dictionary D. To find a\n",
        "# certain key in L, we would have to browse through the tuples of the list and\n",
        "# compare the first components of the tuples with the key we are looking for.\n",
        "# The dictionary search is implicitly implemented for maximum efficiency"
      ],
      "execution_count": null,
      "outputs": []
    },
    {
      "cell_type": "markdown",
      "metadata": {
        "id": "kA3arDWpvjMv"
      },
      "source": [
        "#### Lists from Dictionaries"
      ]
    },
    {
      "cell_type": "code",
      "metadata": {
        "colab": {
          "base_uri": "https://localhost:8080/"
        },
        "id": "GAIR-ku3updF",
        "outputId": "d4c8a79f-ae3d-449a-df57-f1f324055a2f"
      },
      "source": [
        "w = {\"house\": \"Haus\", \"cat\": \"\", \"red\": \"rot\"}\n",
        "items_view = w.items()\n",
        "items = list(items_view)\n",
        "items\n",
        "\n",
        "# If we apply the method items() to a dictionary, we don't get a list back, as\n",
        "# it used to be the case in Python 2, but a so-called items view. The items view\n",
        "# can be turned into a list by applying the list function. We have no information\n",
        "# loss by turning a dictionary into an item view or an items list, i.e. it is\n",
        "# possible to recreate the original dictionary from the view created by items().\n",
        "# Even though this list of 2-tuples has the same entropy, i.e. the information\n",
        "# content is the same, the efficiency of both approaches is completely different.\n",
        "# The dictionary data type provides highly efficient methods to access, delete\n",
        "# and change the elements of the dictionary, while in the case of lists these\n",
        "# functions have to be implemented by the programmer."
      ],
      "execution_count": null,
      "outputs": [
        {
          "output_type": "execute_result",
          "data": {
            "text/plain": [
              "[('house', 'Haus'), ('cat', ''), ('red', 'rot')]"
            ]
          },
          "metadata": {},
          "execution_count": 77
        }
      ]
    },
    {
      "cell_type": "code",
      "metadata": {
        "colab": {
          "base_uri": "https://localhost:8080/"
        },
        "id": "EpkgGiqkvopo",
        "outputId": "a6e90e42-c115-4ffb-d3e7-9a9b1d4af224"
      },
      "source": [
        "keys_view = w.keys()\n",
        "keys = list(keys_view)\n",
        "keys"
      ],
      "execution_count": null,
      "outputs": [
        {
          "output_type": "execute_result",
          "data": {
            "text/plain": [
              "['house', 'cat', 'red']"
            ]
          },
          "metadata": {},
          "execution_count": 75
        }
      ]
    },
    {
      "cell_type": "code",
      "metadata": {
        "colab": {
          "base_uri": "https://localhost:8080/"
        },
        "id": "Et32FmcNvrGm",
        "outputId": "780d5b8b-c27e-48e6-9459-f1c9908b486d"
      },
      "source": [
        "values_view = w.values()\n",
        "values = list(values_view)\n",
        "values"
      ],
      "execution_count": null,
      "outputs": [
        {
          "output_type": "execute_result",
          "data": {
            "text/plain": [
              "['Haus', '', 'rot']"
            ]
          },
          "metadata": {},
          "execution_count": 76
        }
      ]
    },
    {
      "cell_type": "markdown",
      "metadata": {
        "id": "weRsKS5nwJvt"
      },
      "source": [
        "#### Turn Lists into Dictionaries"
      ]
    },
    {
      "cell_type": "code",
      "metadata": {
        "colab": {
          "base_uri": "https://localhost:8080/"
        },
        "id": "EGlZTyRxU4_8",
        "outputId": "1fda046d-2e79-41b7-943e-3a0e978c7582"
      },
      "source": [
        "type(country_specialities_iterator)"
      ],
      "execution_count": null,
      "outputs": [
        {
          "output_type": "execute_result",
          "data": {
            "text/plain": [
              "zip"
            ]
          },
          "metadata": {},
          "execution_count": 142
        }
      ]
    },
    {
      "cell_type": "code",
      "metadata": {
        "colab": {
          "base_uri": "https://localhost:8080/"
        },
        "id": "lT6fdsPaU-aV",
        "outputId": "fe99f840-941f-469b-bec0-205a1e470220"
      },
      "source": [
        "list(country_specialities_iterator)"
      ],
      "execution_count": null,
      "outputs": [
        {
          "output_type": "execute_result",
          "data": {
            "text/plain": [
              "[('Italy', 'pizza'),\n",
              " ('Germany', 'sauerkraut'),\n",
              " ('Spain', 'paella'),\n",
              " ('USA', 'hamburger')]"
            ]
          },
          "metadata": {},
          "execution_count": 145
        }
      ]
    },
    {
      "cell_type": "code",
      "metadata": {
        "colab": {
          "base_uri": "https://localhost:8080/"
        },
        "id": "uOA3mNK1VTAA",
        "outputId": "9435ece5-ab7b-4d00-afeb-4a762ac23d1e"
      },
      "source": [
        "list(country_specialities_iterator)"
      ],
      "execution_count": null,
      "outputs": [
        {
          "output_type": "execute_result",
          "data": {
            "text/plain": [
              "[]"
            ]
          },
          "metadata": {},
          "execution_count": 146
        }
      ]
    },
    {
      "cell_type": "code",
      "metadata": {
        "colab": {
          "base_uri": "https://localhost:8080/"
        },
        "id": "Tu2g_gwrvtTy",
        "outputId": "3beb1fcc-61cf-4cf5-83ff-0f71f0ec426a"
      },
      "source": [
        "dishes = [\"pizza\", \"sauerkraut\", \"paella\", \"hamburger\"]\n",
        "countries = [\"Italy\", \"Germany\", \"Spain\", \"USA\"]\n",
        "country_specialities_iterator = zip(countries, dishes)\n",
        "country_specialities_iterator"
      ],
      "execution_count": null,
      "outputs": [
        {
          "output_type": "execute_result",
          "data": {
            "text/plain": [
              "<zip at 0x7efc7eec28c0>"
            ]
          },
          "metadata": {},
          "execution_count": 144
        }
      ]
    },
    {
      "cell_type": "markdown",
      "metadata": {
        "id": "2kEfmhLMwkmx"
      },
      "source": [
        "#### The result of `zip()` is a list iterator. This means that we have to wrap a `list()` casting function around the `zip` call to get a list so that we can see what is going on:"
      ]
    },
    {
      "cell_type": "code",
      "metadata": {
        "colab": {
          "base_uri": "https://localhost:8080/"
        },
        "id": "Y5ja2vSYwe9Z",
        "outputId": "61f6fe40-e933-4bb6-c4de-e3a2d5db0507"
      },
      "source": [
        "country_specialities = list(country_specialities_iterator)\n",
        "print(country_specialities) "
      ],
      "execution_count": null,
      "outputs": [
        {
          "output_type": "stream",
          "name": "stdout",
          "text": [
            "[('Italy', 'pizza'), ('Germany', 'sauerkraut'), ('Spain', 'paella'), ('USA', 'hamburger')]\n"
          ]
        }
      ]
    },
    {
      "cell_type": "code",
      "metadata": {
        "colab": {
          "base_uri": "https://localhost:8080/"
        },
        "id": "bgDfee7zwwph",
        "outputId": "dcb47dbe-313a-432f-de0c-a67df1828206"
      },
      "source": [
        "# Alternatively, you could have iteras over the zip object in a for loop. This\n",
        "# way we are not creating a list, which is more efficient, if we only want to\n",
        "# iterate over the values and don't need a list\n",
        "\n",
        "for country, dish in zip(countries, dishes):\n",
        "    print(country, dish)"
      ],
      "execution_count": null,
      "outputs": [
        {
          "output_type": "stream",
          "name": "stdout",
          "text": [
            "Italy pizza\n",
            "Germany sauerkraut\n",
            "Spain paella\n",
            "USA hamburger\n"
          ]
        }
      ]
    },
    {
      "cell_type": "code",
      "metadata": {
        "colab": {
          "base_uri": "https://localhost:8080/"
        },
        "id": "v4bOBwoFw7Ro",
        "outputId": "1a866856-9d2e-48e6-aa6f-cf7deca56ddf"
      },
      "source": [
        "# Now our country-specific dishes are in a list form, - i.e. a list of two-tuples,\n",
        "# where the first components are seen as keys and the second components as values\n",
        "# - which can be automatically turned into a dictionary by casting it with dict()\n",
        "\n",
        "country_specialities_dict = dict(country_specialities)\n",
        "print(country_specialities_dict)"
      ],
      "execution_count": null,
      "outputs": [
        {
          "output_type": "stream",
          "name": "stdout",
          "text": [
            "{'Italy': 'pizza', 'Germany': 'sauerkraut', 'Spain': 'paella', 'USA': 'hamburger'}\n"
          ]
        }
      ]
    },
    {
      "cell_type": "code",
      "metadata": {
        "colab": {
          "base_uri": "https://localhost:8080/"
        },
        "id": "Rm72Ip5ExI9t",
        "outputId": "fc3ba918-d895-4818-b21a-a37b46159650"
      },
      "source": [
        "# Yet, this is very inefficient, because we created a list of 2-tuples to turn\n",
        "# this list into a dict. This can be done directly by applying dict to zip:\n",
        "\n",
        "dishes = [\"pizza\", \"sauerkraut\", \"paella\", \"hamburger\"]\n",
        "countries = [\"Italy\", \"Germany\", \"Spain\", \"USA\"]\n",
        "dict(zip(countries, dishes)) "
      ],
      "execution_count": null,
      "outputs": [
        {
          "output_type": "execute_result",
          "data": {
            "text/plain": [
              "{'Germany': 'sauerkraut',\n",
              " 'Italy': 'pizza',\n",
              " 'Spain': 'paella',\n",
              " 'USA': 'hamburger'}"
            ]
          },
          "metadata": {},
          "execution_count": 82
        }
      ]
    },
    {
      "cell_type": "code",
      "metadata": {
        "colab": {
          "base_uri": "https://localhost:8080/"
        },
        "id": "whjotObHxPn7",
        "outputId": "d52d5fdc-afa4-4d68-d10f-dfa83838b9e6"
      },
      "source": [
        "# There is still one question concerning the function zip(). What happens, if\n",
        "# one of the two argument lists contains more elements than the other one?\n",
        "# It's easy to answer: The superfluous elements, which cannot be paired, will be ignored:\n",
        "\n",
        "dishes = [\"pizza\", \"sauerkraut\", \"paella\", \"hamburger\"]\n",
        "countries = [\"Italy\", \"Germany\", \"Spain\", \"USA\",\" Switzerland\"]\n",
        "country_specialities = list(zip(countries, dishes))\n",
        "country_specialities_dict = dict(country_specialities)\n",
        "print(country_specialities_dict)"
      ],
      "execution_count": null,
      "outputs": [
        {
          "output_type": "stream",
          "name": "stdout",
          "text": [
            "{'Italy': 'pizza', 'Germany': 'sauerkraut', 'Spain': 'paella', 'USA': 'hamburger'}\n"
          ]
        }
      ]
    },
    {
      "cell_type": "markdown",
      "metadata": {
        "id": "UCq5RLHAxiAY"
      },
      "source": [
        "#### Danger Lurking"
      ]
    },
    {
      "cell_type": "markdown",
      "metadata": {
        "id": "Qovx2FMoxmRo"
      },
      "source": [
        "Especialy for those migrating from Python 2.x to Python 3.x: zip() used to return a list, now it's returning an iterator. You have to keep in mind that iterators exhaust themselves, if they are used. You can see this in the following interactive session:"
      ]
    },
    {
      "cell_type": "code",
      "metadata": {
        "colab": {
          "base_uri": "https://localhost:8080/"
        },
        "id": "1xN6Dg0dxZQf",
        "outputId": "f23847a6-f7a1-46f8-ddf4-f9e4abfbce64"
      },
      "source": [
        "l1 = [\"a\",\"b\",\"c\"]\n",
        "l2 = [1,2,3]\n",
        "c = zip(l1, l2)\n",
        "for i in c:\n",
        "    print(i)"
      ],
      "execution_count": null,
      "outputs": [
        {
          "output_type": "stream",
          "name": "stdout",
          "text": [
            "('a', 1)\n",
            "('b', 2)\n",
            "('c', 3)\n"
          ]
        }
      ]
    },
    {
      "cell_type": "code",
      "metadata": {
        "colab": {
          "base_uri": "https://localhost:8080/"
        },
        "id": "2cFXCXFMxpB8",
        "outputId": "123b2a7f-5efc-46b8-d551-fa1ac10fa90c"
      },
      "source": [
        "# This effect can be seen by calling the list casting operator as well:\n",
        "\n",
        "l1 = [\"a\",\"b\",\"c\"]\n",
        "l2 = [1,2,3]\n",
        "c = zip(l1,l2)\n",
        "z1 = list(c)\n",
        "z2 = list(c)\n",
        "\n",
        "print(z1)\n",
        "print(z2)"
      ],
      "execution_count": null,
      "outputs": [
        {
          "output_type": "stream",
          "name": "stdout",
          "text": [
            "[('a', 1), ('b', 2), ('c', 3)]\n",
            "[]\n"
          ]
        }
      ]
    },
    {
      "cell_type": "markdown",
      "metadata": {
        "id": "En3IvdUkyCw5"
      },
      "source": [
        "#Sets and Frozensets\n",
        "\n",
        "![](https://www.python-course.eu/images/sets_with_notations.webp)\n",
        "\n",
        "The data type \"set\", which is a collection type, has been part of Python since version 2.4. A set contains an unordered collection of unique and immutable objects. The set data type is, as the name implies, a Python implementation of the sets as they are known from mathematics. This explains, why sets unlike lists or tuples can't have multiple occurrences of the same element"
      ]
    },
    {
      "cell_type": "code",
      "metadata": {
        "colab": {
          "base_uri": "https://localhost:8080/"
        },
        "id": "PL0x0khwyEbk",
        "outputId": "e392b67c-131d-47ff-febc-e46e027abaeb"
      },
      "source": [
        "# If we want to create a set, we can call the built-in set function with a\n",
        "# sequence or another iterable object.\n",
        "\n",
        "x = set(\"A Python Tutorial\")\n",
        "x"
      ],
      "execution_count": null,
      "outputs": [
        {
          "output_type": "execute_result",
          "data": {
            "text/plain": [
              "{' ', 'A', 'P', 'T', 'a', 'h', 'i', 'l', 'n', 'o', 'r', 't', 'u', 'y'}"
            ]
          },
          "metadata": {},
          "execution_count": 87
        }
      ]
    },
    {
      "cell_type": "code",
      "metadata": {
        "colab": {
          "base_uri": "https://localhost:8080/"
        },
        "id": "C6BqaPEWyr01",
        "outputId": "de5e57b8-86b1-4356-f85c-884902bf0fa1"
      },
      "source": [
        "# We can pass a list to the built-in set function, as we can see in the following:\n",
        "\n",
        "x = set([\"Perl\", \"Python\", \"Java\"])\n",
        "x"
      ],
      "execution_count": null,
      "outputs": [
        {
          "output_type": "execute_result",
          "data": {
            "text/plain": [
              "{'Java', 'Perl', 'Python'}"
            ]
          },
          "metadata": {},
          "execution_count": 88
        }
      ]
    },
    {
      "cell_type": "code",
      "metadata": {
        "colab": {
          "base_uri": "https://localhost:8080/"
        },
        "id": "HwWrbnLuyxzD",
        "outputId": "dc070d0f-0e34-4a0c-fdb9-d72c541b80ff"
      },
      "source": [
        "# Now, we want to show what happens, if we pass a tuple with reappearing elements\n",
        "# to the set function - in our example the city \"Paris\":\n",
        "\n",
        "cities = set((\"Paris\", \"Lyon\", \"London\",\"Berlin\",\"Paris\",\"Birmingham\"))\n",
        "cities"
      ],
      "execution_count": null,
      "outputs": [
        {
          "output_type": "execute_result",
          "data": {
            "text/plain": [
              "{'Berlin', 'Birmingham', 'London', 'Lyon', 'Paris'}"
            ]
          },
          "metadata": {},
          "execution_count": 89
        }
      ]
    },
    {
      "cell_type": "markdown",
      "metadata": {
        "id": "iH2MZtDwy9YC"
      },
      "source": [
        "#### Immutable Sets\n",
        "\n",
        "Sets are implemented in a way, which doesn't allow mutable objects. The following example demonstrates that we cannot include, for example, lists as elements:"
      ]
    },
    {
      "cell_type": "code",
      "metadata": {
        "colab": {
          "base_uri": "https://localhost:8080/",
          "height": 198
        },
        "id": "Ke0kq9ccy6Db",
        "outputId": "fec8a088-53d4-4130-d846-1f3cde3d5ce1"
      },
      "source": [
        "cities = set(([\"Python\",\"Perl\"], [\"Paris\", \"Berlin\", \"London\"]))\n",
        "\n",
        "cities"
      ],
      "execution_count": null,
      "outputs": [
        {
          "output_type": "error",
          "ename": "TypeError",
          "evalue": "ignored",
          "traceback": [
            "\u001b[0;31m---------------------------------------------------------------------------\u001b[0m",
            "\u001b[0;31mTypeError\u001b[0m                                 Traceback (most recent call last)",
            "\u001b[0;32m<ipython-input-90-5a60d6eeb901>\u001b[0m in \u001b[0;36m<module>\u001b[0;34m()\u001b[0m\n\u001b[0;32m----> 1\u001b[0;31m \u001b[0mcities\u001b[0m \u001b[0;34m=\u001b[0m \u001b[0mset\u001b[0m\u001b[0;34m(\u001b[0m\u001b[0;34m(\u001b[0m\u001b[0;34m[\u001b[0m\u001b[0;34m\"Python\"\u001b[0m\u001b[0;34m,\u001b[0m\u001b[0;34m\"Perl\"\u001b[0m\u001b[0;34m]\u001b[0m\u001b[0;34m,\u001b[0m \u001b[0;34m[\u001b[0m\u001b[0;34m\"Paris\"\u001b[0m\u001b[0;34m,\u001b[0m \u001b[0;34m\"Berlin\"\u001b[0m\u001b[0;34m,\u001b[0m \u001b[0;34m\"London\"\u001b[0m\u001b[0;34m]\u001b[0m\u001b[0;34m)\u001b[0m\u001b[0;34m)\u001b[0m\u001b[0;34m\u001b[0m\u001b[0;34m\u001b[0m\u001b[0m\n\u001b[0m\u001b[1;32m      2\u001b[0m \u001b[0;34m\u001b[0m\u001b[0m\n\u001b[1;32m      3\u001b[0m \u001b[0mcities\u001b[0m\u001b[0;34m\u001b[0m\u001b[0;34m\u001b[0m\u001b[0m\n",
            "\u001b[0;31mTypeError\u001b[0m: unhashable type: 'list'"
          ]
        }
      ]
    },
    {
      "cell_type": "code",
      "metadata": {
        "id": "DvW2RScYzHBp"
      },
      "source": [
        "# Tuples on the other hand are fine:\n",
        "\n",
        "cities = set(((\"Python\",\"Perl\"), (\"Paris\", \"Berlin\", \"London\")))"
      ],
      "execution_count": null,
      "outputs": []
    },
    {
      "cell_type": "markdown",
      "metadata": {
        "id": "bSdgS_YizP6L"
      },
      "source": [
        "#### Frozensets"
      ]
    },
    {
      "cell_type": "code",
      "metadata": {
        "colab": {
          "base_uri": "https://localhost:8080/"
        },
        "id": "d9HYRHYDzNgg",
        "outputId": "20d7e5a3-764b-44fd-b6e8-c77bc016cd6e"
      },
      "source": [
        "# Though sets can't contain mutable objects, sets are mutable:\n",
        "\n",
        "cities = set([\"Frankfurt\", \"Basel\",\"Freiburg\"])\n",
        "cities.add(\"Strasbourg\")\n",
        "cities"
      ],
      "execution_count": null,
      "outputs": [
        {
          "output_type": "execute_result",
          "data": {
            "text/plain": [
              "{'Basel', 'Frankfurt', 'Freiburg', 'Strasbourg'}"
            ]
          },
          "metadata": {},
          "execution_count": 92
        }
      ]
    },
    {
      "cell_type": "markdown",
      "metadata": {
        "id": "q80gph5OzfRZ"
      },
      "source": [
        "Frozensets are like sets except that they cannot be changed, i.e. they are immutable:"
      ]
    },
    {
      "cell_type": "code",
      "metadata": {
        "colab": {
          "base_uri": "https://localhost:8080/",
          "height": 181
        },
        "id": "0COx2xa4za1T",
        "outputId": "d2c781da-0dc7-4d45-c41c-474fd5793296"
      },
      "source": [
        "cities = frozenset([\"Frankfurt\", \"Basel\",\"Freiburg\"])\n",
        "cities.add(\"Strasbourg\")"
      ],
      "execution_count": null,
      "outputs": [
        {
          "output_type": "error",
          "ename": "AttributeError",
          "evalue": "ignored",
          "traceback": [
            "\u001b[0;31m---------------------------------------------------------------------------\u001b[0m",
            "\u001b[0;31mAttributeError\u001b[0m                            Traceback (most recent call last)",
            "\u001b[0;32m<ipython-input-93-9abedff8e0b3>\u001b[0m in \u001b[0;36m<module>\u001b[0;34m()\u001b[0m\n\u001b[1;32m      1\u001b[0m \u001b[0mcities\u001b[0m \u001b[0;34m=\u001b[0m \u001b[0mfrozenset\u001b[0m\u001b[0;34m(\u001b[0m\u001b[0;34m[\u001b[0m\u001b[0;34m\"Frankfurt\"\u001b[0m\u001b[0;34m,\u001b[0m \u001b[0;34m\"Basel\"\u001b[0m\u001b[0;34m,\u001b[0m\u001b[0;34m\"Freiburg\"\u001b[0m\u001b[0;34m]\u001b[0m\u001b[0;34m)\u001b[0m\u001b[0;34m\u001b[0m\u001b[0;34m\u001b[0m\u001b[0m\n\u001b[0;32m----> 2\u001b[0;31m \u001b[0mcities\u001b[0m\u001b[0;34m.\u001b[0m\u001b[0madd\u001b[0m\u001b[0;34m(\u001b[0m\u001b[0;34m\"Strasbourg\"\u001b[0m\u001b[0;34m)\u001b[0m\u001b[0;34m\u001b[0m\u001b[0;34m\u001b[0m\u001b[0m\n\u001b[0m",
            "\u001b[0;31mAttributeError\u001b[0m: 'frozenset' object has no attribute 'add'"
          ]
        }
      ]
    },
    {
      "cell_type": "markdown",
      "metadata": {
        "id": "rj22DfbDznOw"
      },
      "source": [
        "#### Improved notation"
      ]
    },
    {
      "cell_type": "code",
      "metadata": {
        "colab": {
          "base_uri": "https://localhost:8080/"
        },
        "id": "iuSBUxL0ziA8",
        "outputId": "f6458f43-cf07-401a-9f3e-b42096646ef8"
      },
      "source": [
        "# We can define sets (since Python2.6) without using the built-in set function.\n",
        "# We can use curly braces instead:\n",
        "\n",
        "adjectives = {\"cheap\",\"expensive\",\"inexpensive\",\"economical\"}\n",
        "adjectives\n"
      ],
      "execution_count": null,
      "outputs": [
        {
          "output_type": "execute_result",
          "data": {
            "text/plain": [
              "{'cheap', 'economical', 'expensive', 'inexpensive'}"
            ]
          },
          "metadata": {},
          "execution_count": 95
        }
      ]
    },
    {
      "cell_type": "markdown",
      "metadata": {
        "id": "yuBCNI9Ez07X"
      },
      "source": [
        "#### **Set Operations**"
      ]
    },
    {
      "cell_type": "markdown",
      "metadata": {
        "id": "Zy3eN5Tkz6Mq"
      },
      "source": [
        "`add(element)`"
      ]
    },
    {
      "cell_type": "code",
      "metadata": {
        "colab": {
          "base_uri": "https://localhost:8080/"
        },
        "id": "INr5_RnrzsGc",
        "outputId": "3640c633-c4b8-4f5c-ce2a-ee13fdca183c"
      },
      "source": [
        "colours = {\"red\",\"green\"}\n",
        "colours.add(\"yellow\")\n",
        "colours\n",
        "\n",
        "# Of course, an element will only be added, if it is not already contained in the set.\n",
        "# If it is already contained, the method call has no effect."
      ],
      "execution_count": null,
      "outputs": [
        {
          "output_type": "execute_result",
          "data": {
            "text/plain": [
              "{'green', 'red', 'yellow'}"
            ]
          },
          "metadata": {},
          "execution_count": 96
        }
      ]
    },
    {
      "cell_type": "markdown",
      "metadata": {
        "id": "XCQCIIe-0FHO"
      },
      "source": [
        "`clear()`"
      ]
    },
    {
      "cell_type": "code",
      "metadata": {
        "colab": {
          "base_uri": "https://localhost:8080/"
        },
        "id": "6e4DD0d0z-GR",
        "outputId": "478c01ea-7105-4fe9-897c-e93189472259"
      },
      "source": [
        "cities = {\"Stuttgart\", \"Konstanz\", \"Freiburg\"}\n",
        "cities.clear()\n",
        "cities"
      ],
      "execution_count": null,
      "outputs": [
        {
          "output_type": "execute_result",
          "data": {
            "text/plain": [
              "set()"
            ]
          },
          "metadata": {},
          "execution_count": 97
        }
      ]
    },
    {
      "cell_type": "markdown",
      "metadata": {
        "id": "kTD1h0h30Lt_"
      },
      "source": [
        "`copy()`"
      ]
    },
    {
      "cell_type": "code",
      "metadata": {
        "colab": {
          "base_uri": "https://localhost:8080/"
        },
        "id": "41KLVIzZ0Jj1",
        "outputId": "99800ccb-65c1-4f7d-ccb6-2782bdc47aba"
      },
      "source": [
        "# creates a shallow copy which is returned\n",
        "\n",
        "more_cities = {\"Winterthur\",\"Schaffhausen\",\"St. Gallen\"}\n",
        "cities_backup = more_cities.copy()\n",
        "more_cities.clear()\n",
        "cities_backup "
      ],
      "execution_count": null,
      "outputs": [
        {
          "output_type": "execute_result",
          "data": {
            "text/plain": [
              "{'Schaffhausen', 'St. Gallen', 'Winterthur'}"
            ]
          },
          "metadata": {},
          "execution_count": 98
        }
      ]
    },
    {
      "cell_type": "code",
      "metadata": {
        "colab": {
          "base_uri": "https://localhost:8080/"
        },
        "id": "6q7022sX0Tn1",
        "outputId": "016800b3-88fa-4eaf-a491-9081f3e91ffe"
      },
      "source": [
        "more_cities = {\"Winterthur\",\"Schaffhausen\",\"St. Gallen\"}\n",
        "cities_backup = more_cities\n",
        "more_cities.clear()\n",
        "cities_backup"
      ],
      "execution_count": null,
      "outputs": [
        {
          "output_type": "execute_result",
          "data": {
            "text/plain": [
              "set()"
            ]
          },
          "metadata": {},
          "execution_count": 99
        }
      ]
    },
    {
      "cell_type": "markdown",
      "metadata": {
        "id": "9ZSM545l0gY5"
      },
      "source": [
        "`difference()`"
      ]
    },
    {
      "cell_type": "code",
      "metadata": {
        "colab": {
          "base_uri": "https://localhost:8080/"
        },
        "id": "zAmU5EzN0dF_",
        "outputId": "6144aa74-2241-4e3f-b442-c2a61d7234c4"
      },
      "source": [
        "# This method returns the difference of two or more sets as a new set, leaving\n",
        "# the original set unchanged.\n",
        "\n",
        "x = {\"a\",\"b\",\"c\",\"d\",\"e\"}\n",
        "y = {\"b\",\"c\"}\n",
        "z = {\"c\",\"d\"}\n",
        "x.difference(y)"
      ],
      "execution_count": null,
      "outputs": [
        {
          "output_type": "execute_result",
          "data": {
            "text/plain": [
              "{'a', 'd', 'e'}"
            ]
          },
          "metadata": {},
          "execution_count": 100
        }
      ]
    },
    {
      "cell_type": "code",
      "metadata": {
        "colab": {
          "base_uri": "https://localhost:8080/"
        },
        "id": "7k1hswar0xxa",
        "outputId": "027545a4-5607-4fda-d863-ce9a93df462a"
      },
      "source": [
        "x.difference(y).difference(z)"
      ],
      "execution_count": null,
      "outputs": [
        {
          "output_type": "execute_result",
          "data": {
            "text/plain": [
              "{'a', 'e'}"
            ]
          },
          "metadata": {},
          "execution_count": 102
        }
      ]
    },
    {
      "cell_type": "code",
      "metadata": {
        "colab": {
          "base_uri": "https://localhost:8080/"
        },
        "id": "3-y7vDtP0kpT",
        "outputId": "55f1e1d4-17e4-496a-a9b5-8f04abdb8390"
      },
      "source": [
        "# Instead of using the method difference, we can use the operator \"-\":\n",
        "\n",
        "x - y"
      ],
      "execution_count": null,
      "outputs": [
        {
          "output_type": "execute_result",
          "data": {
            "text/plain": [
              "{'a', 'd', 'e'}"
            ]
          },
          "metadata": {},
          "execution_count": 101
        }
      ]
    },
    {
      "cell_type": "markdown",
      "metadata": {
        "id": "V4YxVg7801rM"
      },
      "source": [
        "`difference_update()` **faster!**"
      ]
    },
    {
      "cell_type": "markdown",
      "metadata": {
        "id": "zl3JL1Yr07TW"
      },
      "source": [
        "The method difference_update removes all elements of another set from this set. x.difference_update(y) is the same as \"x = x - y\" or even x -= y works."
      ]
    },
    {
      "cell_type": "code",
      "metadata": {
        "colab": {
          "base_uri": "https://localhost:8080/"
        },
        "id": "1ePH2UPf0vY0",
        "outputId": "16c91eb3-36dd-4f14-e224-e4cc15ee28eb"
      },
      "source": [
        "x = {\"a\",\"b\",\"c\",\"d\",\"e\"}\n",
        "y = {\"b\",\"c\"}\n",
        "x.difference_update(y)\n",
        "x = {\"a\",\"b\",\"c\",\"d\",\"e\"}\n",
        "y = {\"b\",\"c\"}\n",
        "x = x - y\n",
        "x"
      ],
      "execution_count": null,
      "outputs": [
        {
          "output_type": "execute_result",
          "data": {
            "text/plain": [
              "{'a', 'd', 'e'}"
            ]
          },
          "metadata": {},
          "execution_count": 103
        }
      ]
    },
    {
      "cell_type": "markdown",
      "metadata": {
        "id": "1iGAFFqL1Rov"
      },
      "source": [
        "`discard(el)`"
      ]
    },
    {
      "cell_type": "markdown",
      "metadata": {
        "id": "bkXN17kl1Vi-"
      },
      "source": [
        "An element el will be removed from the set, if it is contained in the set. If el is not a member of the set, nothing will be done."
      ]
    },
    {
      "cell_type": "code",
      "metadata": {
        "colab": {
          "base_uri": "https://localhost:8080/"
        },
        "id": "uhqYYjSY0-2N",
        "outputId": "24b199c8-e481-455d-81a4-3c334928dc0f"
      },
      "source": [
        "x = {\"a\",\"b\",\"c\",\"d\",\"e\"}\n",
        "x.discard(\"a\")\n",
        "x "
      ],
      "execution_count": null,
      "outputs": [
        {
          "output_type": "execute_result",
          "data": {
            "text/plain": [
              "{'b', 'c', 'd', 'e'}"
            ]
          },
          "metadata": {},
          "execution_count": 104
        }
      ]
    },
    {
      "cell_type": "code",
      "metadata": {
        "colab": {
          "base_uri": "https://localhost:8080/"
        },
        "id": "M1nQEE7w1kMM",
        "outputId": "7bb8f8fe-8c9d-477f-c836-88127a7bda9b"
      },
      "source": [
        "x.discard(\"z\")\n",
        "x   "
      ],
      "execution_count": null,
      "outputs": [
        {
          "output_type": "execute_result",
          "data": {
            "text/plain": [
              "{'b', 'c', 'd', 'e'}"
            ]
          },
          "metadata": {},
          "execution_count": 108
        }
      ]
    },
    {
      "cell_type": "markdown",
      "metadata": {
        "id": "SnidG8cP1azD"
      },
      "source": [
        "`remove(el)`"
      ]
    },
    {
      "cell_type": "markdown",
      "metadata": {
        "id": "HdjYtNct1d4B"
      },
      "source": [
        "Works like discard(), but if el is not a member of the set, a KeyError will be raised."
      ]
    },
    {
      "cell_type": "code",
      "metadata": {
        "colab": {
          "base_uri": "https://localhost:8080/"
        },
        "id": "31d_RKcj1YiY",
        "outputId": "70f3b090-9dd9-460e-a434-00d28d535c3d"
      },
      "source": [
        "x = {\"a\",\"b\",\"c\",\"d\",\"e\"}\n",
        "x.remove(\"a\")\n",
        "x  "
      ],
      "execution_count": null,
      "outputs": [
        {
          "output_type": "execute_result",
          "data": {
            "text/plain": [
              "{'b', 'c', 'd', 'e'}"
            ]
          },
          "metadata": {},
          "execution_count": 105
        }
      ]
    },
    {
      "cell_type": "code",
      "metadata": {
        "colab": {
          "base_uri": "https://localhost:8080/",
          "height": 164
        },
        "id": "AK4uzyyh1gb6",
        "outputId": "42cf0224-aac2-4397-a00e-c08d844e98e5"
      },
      "source": [
        "x.remove(\"z\")   "
      ],
      "execution_count": null,
      "outputs": [
        {
          "output_type": "error",
          "ename": "KeyError",
          "evalue": "ignored",
          "traceback": [
            "\u001b[0;31m---------------------------------------------------------------------------\u001b[0m",
            "\u001b[0;31mKeyError\u001b[0m                                  Traceback (most recent call last)",
            "\u001b[0;32m<ipython-input-106-1636911438e0>\u001b[0m in \u001b[0;36m<module>\u001b[0;34m()\u001b[0m\n\u001b[0;32m----> 1\u001b[0;31m \u001b[0mx\u001b[0m\u001b[0;34m.\u001b[0m\u001b[0mremove\u001b[0m\u001b[0;34m(\u001b[0m\u001b[0;34m\"z\"\u001b[0m\u001b[0;34m)\u001b[0m\u001b[0;34m\u001b[0m\u001b[0;34m\u001b[0m\u001b[0m\n\u001b[0m",
            "\u001b[0;31mKeyError\u001b[0m: 'z'"
          ]
        }
      ]
    },
    {
      "cell_type": "markdown",
      "metadata": {
        "id": "Qjuu5HTk1qgq"
      },
      "source": [
        "`union(s)`"
      ]
    },
    {
      "cell_type": "markdown",
      "metadata": {
        "id": "Iy-jVqDg1vAz"
      },
      "source": [
        "This method returns the union of two sets as a new set, i.e. all elements that are in either set."
      ]
    },
    {
      "cell_type": "code",
      "metadata": {
        "colab": {
          "base_uri": "https://localhost:8080/"
        },
        "id": "ial-lgT51ivk",
        "outputId": "81955324-6951-40de-df1d-585ff3579917"
      },
      "source": [
        "x = {\"a\",\"b\",\"c\",\"d\",\"e\"}\n",
        "y = {\"c\",\"d\",\"e\",\"f\",\"g\"}\n",
        "print(x.union(y))\n",
        "\n",
        "# This can be abbreviated with the pipe operator \"|\":\n",
        "\n",
        "x = {\"a\",\"b\",\"c\",\"d\",\"e\"}\n",
        "y = {\"c\",\"d\",\"e\",\"f\",\"g\"}\n",
        "x | y"
      ],
      "execution_count": null,
      "outputs": [
        {
          "output_type": "stream",
          "name": "stdout",
          "text": [
            "{'e', 'c', 'g', 'a', 'f', 'b', 'd'}\n"
          ]
        },
        {
          "output_type": "execute_result",
          "data": {
            "text/plain": [
              "{'a', 'b', 'c', 'd', 'e', 'f', 'g'}"
            ]
          },
          "metadata": {},
          "execution_count": 111
        }
      ]
    },
    {
      "cell_type": "code",
      "metadata": {
        "id": "STSeEgLYXE3_"
      },
      "source": [
        "a = a | b  # slow\n",
        "a |= b  # correct way!"
      ],
      "execution_count": null,
      "outputs": []
    },
    {
      "cell_type": "markdown",
      "metadata": {
        "id": "JPU5uZtm1_0r"
      },
      "source": [
        "`intersection(s)`"
      ]
    },
    {
      "cell_type": "markdown",
      "metadata": {
        "id": "K5lytqMs2DK2"
      },
      "source": [
        "Returns the intersection of the instance set and the set s as a new set. In other words, a set with all the elements which are contained in both sets is returned."
      ]
    },
    {
      "cell_type": "code",
      "metadata": {
        "colab": {
          "base_uri": "https://localhost:8080/"
        },
        "id": "3sLXm7l11ydd",
        "outputId": "c6ff457e-677e-4894-898c-2eceff6cb50f"
      },
      "source": [
        "x = {\"a\",\"b\",\"c\",\"d\",\"e\"}\n",
        "y = {\"c\",\"d\",\"e\",\"f\",\"g\"}\n",
        "print(x.intersection(y))\n",
        "\n",
        "# This can be abbreviated with the ampersand operator \"&\":\n",
        "\n",
        "x = {\"a\",\"b\",\"c\",\"d\",\"e\"}\n",
        "y = {\"c\",\"d\",\"e\",\"f\",\"g\"}\n",
        "x & y"
      ],
      "execution_count": null,
      "outputs": [
        {
          "output_type": "stream",
          "name": "stdout",
          "text": [
            "{'c', 'd', 'e'}\n"
          ]
        },
        {
          "output_type": "execute_result",
          "data": {
            "text/plain": [
              "{'c', 'd', 'e'}"
            ]
          },
          "metadata": {},
          "execution_count": 113
        }
      ]
    },
    {
      "cell_type": "markdown",
      "metadata": {
        "id": "GgIRTeBf2dVJ"
      },
      "source": [
        "`isdisjoint()`"
      ]
    },
    {
      "cell_type": "markdown",
      "metadata": {
        "id": "RP2WnZG12hC-"
      },
      "source": [
        "This method returns True if two sets have a null intersection."
      ]
    },
    {
      "cell_type": "code",
      "metadata": {
        "colab": {
          "base_uri": "https://localhost:8080/"
        },
        "id": "EaeFuB4Z2HNg",
        "outputId": "bfa6add2-256e-47c1-8f87-73ad091bf4d2"
      },
      "source": [
        "x = {\"a\",\"b\",\"c\"}\n",
        "y = {\"c\",\"d\",\"e\"}\n",
        "x.isdisjoint(y)"
      ],
      "execution_count": null,
      "outputs": [
        {
          "output_type": "execute_result",
          "data": {
            "text/plain": [
              "False"
            ]
          },
          "metadata": {},
          "execution_count": 114
        }
      ]
    },
    {
      "cell_type": "code",
      "metadata": {
        "colab": {
          "base_uri": "https://localhost:8080/"
        },
        "id": "FfCcXao3_97U",
        "outputId": "11edb599-c922-4d66-873a-5a2269de3070"
      },
      "source": [
        "x = {\"a\",\"b\",\"c\"}\n",
        "y = {\"d\",\"e\",\"f\"}\n",
        "x.isdisjoint(y) "
      ],
      "execution_count": null,
      "outputs": [
        {
          "output_type": "execute_result",
          "data": {
            "text/plain": [
              "True"
            ]
          },
          "metadata": {},
          "execution_count": 115
        }
      ]
    },
    {
      "cell_type": "markdown",
      "metadata": {
        "id": "6MzDSjonAFHg"
      },
      "source": [
        "`issubset()`"
      ]
    },
    {
      "cell_type": "markdown",
      "metadata": {
        "id": "23H9Gch1ALuI"
      },
      "source": [
        "x.issubset(y) returns True, if x is a subset of y. \"<=\" is an abbreviation for \"Subset of\" and \">=\" for \"superset of\"\n",
        "\"<\" is used to check if a set is a proper subset of a set.  "
      ]
    },
    {
      "cell_type": "code",
      "metadata": {
        "colab": {
          "base_uri": "https://localhost:8080/"
        },
        "id": "f9uAO8BBACQk",
        "outputId": "e648e5f5-4a02-4e35-9c0c-0a499e471586"
      },
      "source": [
        "x = {\"a\",\"b\",\"c\",\"d\",\"e\"}\n",
        "y = {\"c\",\"d\"}\n",
        "x.issubset(y)"
      ],
      "execution_count": null,
      "outputs": [
        {
          "output_type": "execute_result",
          "data": {
            "text/plain": [
              "False"
            ]
          },
          "metadata": {},
          "execution_count": 116
        }
      ]
    },
    {
      "cell_type": "code",
      "metadata": {
        "colab": {
          "base_uri": "https://localhost:8080/"
        },
        "id": "kYepAeLoAO-t",
        "outputId": "375ee3dd-6b5c-4b9a-b98a-394aab462c82"
      },
      "source": [
        "y.issubset(x)"
      ],
      "execution_count": null,
      "outputs": [
        {
          "output_type": "execute_result",
          "data": {
            "text/plain": [
              "True"
            ]
          },
          "metadata": {},
          "execution_count": 117
        }
      ]
    },
    {
      "cell_type": "markdown",
      "metadata": {
        "id": "RTYcHcOIAWPZ"
      },
      "source": [
        "`issuperset()`"
      ]
    },
    {
      "cell_type": "markdown",
      "metadata": {
        "id": "XFzwUCOYAZ3I"
      },
      "source": [
        "x.issuperset(y) returns True, if x is a superset of y. \">=\" is an abbreviation for \"issuperset of\"\n",
        "\">\" is used to check if a set is a proper superset of a set.    "
      ]
    },
    {
      "cell_type": "code",
      "metadata": {
        "colab": {
          "base_uri": "https://localhost:8080/"
        },
        "id": "e99NRIRvASxP",
        "outputId": "ddcf6c7d-73f7-4e5f-a745-e4915ee37d6c"
      },
      "source": [
        "x = {\"a\",\"b\",\"c\",\"d\",\"e\"}\n",
        "y = {\"c\",\"d\"}\n",
        "x.issuperset(y)"
      ],
      "execution_count": null,
      "outputs": [
        {
          "output_type": "execute_result",
          "data": {
            "text/plain": [
              "True"
            ]
          },
          "metadata": {},
          "execution_count": 118
        }
      ]
    },
    {
      "cell_type": "markdown",
      "metadata": {
        "id": "3MraPzccAfNE"
      },
      "source": [
        "pop()"
      ]
    },
    {
      "cell_type": "markdown",
      "metadata": {
        "id": "HLCu6D1gAiz8"
      },
      "source": [
        "pop() removes and returns an arbitrary set element. The method raises a KeyError if the set is empty."
      ]
    },
    {
      "cell_type": "code",
      "metadata": {
        "colab": {
          "base_uri": "https://localhost:8080/",
          "height": 37
        },
        "id": "g5NB0GYjAczJ",
        "outputId": "a21919e0-e03e-4426-b33f-acd33910b0cf"
      },
      "source": [
        "x = {\"a\",\"b\",\"c\",\"d\",\"e\"}\n",
        "x.pop()"
      ],
      "execution_count": null,
      "outputs": [
        {
          "output_type": "execute_result",
          "data": {
            "application/vnd.google.colaboratory.intrinsic+json": {
              "type": "string"
            },
            "text/plain": [
              "'e'"
            ]
          },
          "metadata": {},
          "execution_count": 119
        }
      ]
    },
    {
      "cell_type": "code",
      "metadata": {
        "id": "eTVXjAx5X9ql"
      },
      "source": [
        ""
      ],
      "execution_count": null,
      "outputs": []
    }
  ]
}