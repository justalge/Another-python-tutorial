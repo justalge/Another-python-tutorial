{
  "nbformat": 4,
  "nbformat_minor": 0,
  "metadata": {
    "colab": {
      "name": "Lecture 3. Types, sequential, copy.ipynb",
      "provenance": [],
      "collapsed_sections": [],
      "authorship_tag": "ABX9TyMsn5LC6CAOb+FxPjoyoYYI",
      "include_colab_link": true
    },
    "kernelspec": {
      "name": "python3",
      "display_name": "Python 3"
    },
    "language_info": {
      "name": "python"
    }
  },
  "cells": [
    {
      "cell_type": "markdown",
      "metadata": {
        "id": "view-in-github",
        "colab_type": "text"
      },
      "source": [
        "<a href=\"https://colab.research.google.com/github/justalge/another_python_totorial/blob/main/week2/Lecture_3_types_sequential_copy.ipynb\" target=\"_parent\"><img src=\"https://colab.research.google.com/assets/colab-badge.svg\" alt=\"Open In Colab\"/></a>"
      ]
    },
    {
      "cell_type": "markdown",
      "metadata": {
        "id": "2Aqj-DNJyzkT"
      },
      "source": [
        "# Data types and variables"
      ]
    },
    {
      "cell_type": "markdown",
      "metadata": {
        "id": "bdjBMzS5y3VK"
      },
      "source": [
        "A variable can be seen as a container (or some say a pigeonhole) to store certain values. While the program is running, variables are accessed and sometimes changed, i.e., a new value will be assigned to a variable.\n",
        "\n",
        "Putting values into the variables can be realized with assignments. The way you assign values to variables is nearly the same in all programming languages. In most cases, the equal \"=\" sign is used. \n",
        "\n",
        "There is no declaration of variables required in Python, which makes it quite easy. It's not even possible to declare the variables. If there is need for a variable, you should think of a name and start using it as a variable. Another remarkable aspect of Python: Not only the value of a variable may change during program execution, but the type as well."
      ]
    },
    {
      "cell_type": "code",
      "metadata": {
        "colab": {
          "base_uri": "https://localhost:8080/"
        },
        "id": "ZB-_DtztxNay",
        "outputId": "26f2dbe6-3c14-4f74-e199-397b3dfa1974"
      },
      "source": [
        "i = 5\n",
        "print(i, type(i))\n",
        "\n",
        "i = 42 + 0.11\n",
        "print(i, type(i))\n",
        "\n",
        "i = \"Alice\"\n",
        "print(i, type(i))\n",
        "\n",
        "# When Python executes an assignment like \"i = 42\", it evaluates the right side\n",
        "# of the assignment and recognizes that it corresponds to the integer number 42.\n",
        "# It creates an object of the integer class to save this data.\n",
        "\n",
        "# In other words, Python automatically takes care of the physical representation\n",
        "# for the different data types."
      ],
      "execution_count": null,
      "outputs": [
        {
          "output_type": "stream",
          "name": "stdout",
          "text": [
            "5 <class 'int'>\n",
            "42.11 <class 'float'>\n",
            "Alice <class 'str'>\n"
          ]
        }
      ]
    },
    {
      "cell_type": "markdown",
      "metadata": {
        "id": "ToI6GZAg0b2u"
      },
      "source": [
        "#### Object References"
      ]
    },
    {
      "cell_type": "markdown",
      "metadata": {
        "id": "USZ-5hH10fqc"
      },
      "source": [
        "Python variables are references to objects, but the actual data is contained in the objects:\n",
        "\n",
        "![](https://www.python-course.eu/images/python_variable_1_600w.webp)\n",
        "\n",
        "As variables are pointing to objects and objects can be of arbitrary data types, variables cannot have types associated with them. This is a huge difference from C, C++ or Java, where a variable is associated with a fixed data type. This association can't be changed as long as the program is running."
      ]
    },
    {
      "cell_type": "code",
      "metadata": {
        "id": "9Fubx6PazdmN"
      },
      "source": [
        "# We want to demonstrate something else now. Let's look at the following code:\n",
        "\n",
        "x = 42\n",
        "y = x\n",
        "\n",
        "# We created an integer object 42 and assigned it to the variable x. After this\n",
        "# we assigned x to the variable y. This means that both variables reference the\n",
        "# same object. The following picture illustrates this:\n"
      ],
      "execution_count": null,
      "outputs": []
    },
    {
      "cell_type": "markdown",
      "metadata": {
        "id": "XT5WUIcm1M2E"
      },
      "source": [
        "![](https://www.python-course.eu/images/python_variable_2_800w.webp)"
      ]
    },
    {
      "cell_type": "code",
      "metadata": {
        "id": "e51eBXs91Gwe"
      },
      "source": [
        "# What will happen when we execute\n",
        "\n",
        "y = 78\n",
        "\n",
        "# after the previous code?\n",
        "\n",
        "# Python will create a new integer object with the content 78 and then the\n",
        "# variable y will reference this newly created object, as we can see in the\n",
        "# following picture:"
      ],
      "execution_count": null,
      "outputs": []
    },
    {
      "cell_type": "markdown",
      "metadata": {
        "id": "lpDnB4cr1dNR"
      },
      "source": [
        "![](https://www.python-course.eu/images/python_variable_3_800w.webp)\n",
        "\n",
        "Most probably, we will see further changes to the variables in the flow of our program. There might be, for example, a string assignment to the variable x. The previously integer object \"42\" will be orphaned after this assignment. It will be removed by Python, because no other variable is referencing it.\n",
        "\n",
        "![](https://www.python-course.eu/images/python_variable_4_800w.webp)\n",
        "\n",
        "How can we see or prove that x and y really reference the same object after the assignment y = x of our previous example?"
      ]
    },
    {
      "cell_type": "code",
      "metadata": {
        "colab": {
          "base_uri": "https://localhost:8080/"
        },
        "id": "-CrJjdll1etH",
        "outputId": "2bc4ca66-d9eb-4b3c-8f9e-b4411fb234b3"
      },
      "source": [
        "# The identity function id() can be used for this purpose. Every instance\n",
        "# (object or variable) has an identity, i.e., an integer which is unique within\n",
        "# the script or program, i.e., other objects have different identities. So,\n",
        "# let's have a look at our previous example and how the identities will change:\n",
        "\n",
        "x = 42\n",
        "print(id(x))\n",
        "\n",
        "y = x\n",
        "print(id(x), id(y))\n",
        "\n",
        "y = 78\n",
        "print(id(x), id(y))"
      ],
      "execution_count": null,
      "outputs": [
        {
          "output_type": "stream",
          "name": "stdout",
          "text": [
            "94636915965728\n",
            "94636915965728 94636915965728\n",
            "94636915965728 94636915966880\n"
          ]
        }
      ]
    },
    {
      "cell_type": "markdown",
      "metadata": {
        "id": "i7P5ukIi3N4V"
      },
      "source": [
        "#### Valid variable names"
      ]
    },
    {
      "cell_type": "markdown",
      "metadata": {
        "id": "yTKGAAgd3jjj"
      },
      "source": [
        "The naming of variables follows the more general concept of an identifier. A Python identifier is a name used to identify a variable, function, class, module or other object.\n",
        "\n",
        "A variable name and an identifier can consist of the uppercase letters \"A\" through \"Z\", the lowercase letters \"a\" through \"z\", the underscore _ and, except for the first character, the digits 0 through 9. Python 3.x is based on Unicode. That is, variable names and identifier names can additionally contain Unicode characters as well."
      ]
    },
    {
      "cell_type": "code",
      "metadata": {
        "id": "8ygtyIC73SSW"
      },
      "source": [
        "# Identifiers are unlimited in length. Case is significant. The fact that\n",
        "# identifier names are case-sensitive can cause problems to some Windows users,\n",
        "# where file names are case-insensitive, for example\n",
        "\n",
        "# The following variable definitions are all valid:\n",
        "\n",
        "я_переменная = 7\n",
        "\n",
        "height = 10\n",
        "\n",
        "υψος = 10\n",
        "\n",
        "μεγιστη_υψος = 100\n",
        "\n",
        "MinimumHeight = 1"
      ],
      "execution_count": null,
      "outputs": []
    },
    {
      "cell_type": "markdown",
      "metadata": {
        "id": "cDOSAsPA4-3g"
      },
      "source": [
        "**No identifier can have the same name as one of the Python keywords, although they are obeying the above naming conventions:**\n",
        "\n",
        "and, as, assert, break, class, continue, def, del, elif, else,\n",
        "except, False, finally, for, from, global, if, import, in, is, \n",
        "lambda, None, nonlocal, not, or, pass, raise, return, True, try, \n",
        "while, with, yield \n",
        "\n",
        "There is no need to learn them by heart. You can get the list of Python keywords in the interactive shell by using help. You type help() in the interactive, but please don't forget the parenthesis:"
      ]
    },
    {
      "cell_type": "code",
      "metadata": {
        "colab": {
          "base_uri": "https://localhost:8080/"
        },
        "id": "Hkv8Klep3pzw",
        "outputId": "2985c31a-84f7-43e5-8c1e-ff5810f4d5ce"
      },
      "source": [
        "help()"
      ],
      "execution_count": null,
      "outputs": [
        {
          "output_type": "stream",
          "name": "stdout",
          "text": [
            "\n",
            "Welcome to Python 3.7's help utility!\n",
            "\n",
            "If this is your first time using Python, you should definitely check out\n",
            "the tutorial on the Internet at https://docs.python.org/3.7/tutorial/.\n",
            "\n",
            "Enter the name of any module, keyword, or topic to get help on writing\n",
            "Python programs and using Python modules.  To quit this help utility and\n",
            "return to the interpreter, just type \"quit\".\n",
            "\n",
            "To get a list of available modules, keywords, symbols, or topics, type\n",
            "\"modules\", \"keywords\", \"symbols\", or \"topics\".  Each module also comes\n",
            "with a one-line summary of what it does; to list the modules whose name\n",
            "or summary contain a given string such as \"spam\", type \"modules spam\".\n",
            "\n",
            "help> keywords\n",
            "\n",
            "Here is a list of the Python keywords.  Enter any keyword to get more help.\n",
            "\n",
            "False               class               from                or\n",
            "None                continue            global              pass\n",
            "True                def                 if                  raise\n",
            "and                 del                 import              return\n",
            "as                  elif                in                  try\n",
            "assert              else                is                  while\n",
            "async               except              lambda              with\n",
            "await               finally             nonlocal            yield\n",
            "break               for                 not                 \n",
            "\n",
            "\n",
            "You are now leaving help and returning to the Python interpreter.\n",
            "If you want to ask for help on a particular object directly from the\n",
            "interpreter, you can type \"help(object)\".  Executing \"help('string')\"\n",
            "has the same effect as typing a particular string at the help> prompt.\n"
          ]
        }
      ]
    },
    {
      "cell_type": "markdown",
      "metadata": {
        "id": "WLziSflP-0RQ"
      },
      "source": [
        "#### Naming Conventions `the_natural_way_of_naming_things` vs `TheNaturalWayOfNamingThings`"
      ]
    },
    {
      "cell_type": "markdown",
      "metadata": {
        "id": "_XdiO8dJ466z"
      },
      "source": [
        "Certain names should be avoided for variable names: Never use the characters 'l' (lowercase letter \"L\"), 'O' (\"O\" like in \"Ontario\"), or 'I' (like in \"Indiana\") as single character variable names. They should be avoided, because these characters are indistinguishable from the numerals one and zero in some fonts. When tempted to use 'l', use 'L' instead, if you cannot think of a better name anyway. \n",
        "\n",
        "The Style Guide has to say the following about the naming of identifiers in standard modules: \"All identifiers in the Python standard library MUST use ASCII-only identifiers, and SHOULD use English words wherever feasible (in many cases, abbreviations and technical terms are used which aren't English). In addition, string literals and comments must also be in ASCII. The only exceptions are (a) test cases testing the non-ASCII features, and (b) names of authors. Authors whose names are not based on the latin alphabet MUST provide a latin transliteration of their names.\""
      ]
    },
    {
      "cell_type": "markdown",
      "metadata": {
        "id": "FdfH1PbE_wJ6"
      },
      "source": [
        "#### Types of objects in python"
      ]
    },
    {
      "cell_type": "markdown",
      "metadata": {
        "id": "moz1xqXY_ztF"
      },
      "source": [
        "\n",
        "\n",
        "*   built-in, i.e., objects provided by Python\n",
        "*   objects from extension libraries\n",
        "*   created in the application by the programmer\n",
        "\n"
      ]
    },
    {
      "cell_type": "markdown",
      "metadata": {
        "id": "siPYjBq1AUba"
      },
      "source": [
        "#### Numbers"
      ]
    },
    {
      "cell_type": "markdown",
      "metadata": {
        "id": "xw4czkjYCUxy"
      },
      "source": [
        "##### Integers"
      ]
    },
    {
      "cell_type": "code",
      "metadata": {
        "colab": {
          "base_uri": "https://localhost:8080/"
        },
        "id": "11ADlI4h_f2l",
        "outputId": "49620180-db84-4038-8d06-11124d23c7b3"
      },
      "source": [
        "# There are four built-in ways dealing with integers in python:\n",
        "\n",
        "# 1) Normal integers\n",
        "\n",
        "num = 123\n",
        "print(num, type(num))\n",
        "\n",
        "# 2) Octal literals (base 8)\n",
        "# A number prefixed by 0o (zero and a lowercase \"o\" or uppercase \"O\") will be\n",
        "# interpreted as an octal number\n",
        "\n",
        "oct_num = 0o10\n",
        "print(oct_num, type(oct_num))\n",
        "\n",
        "# 3) Hexadecimal literals (base 16)\n",
        "# Hexadecimal literals have to be prefixed either by \"0x\" or \"0X\"\n",
        "\n",
        "hex_number = 0xA0F\n",
        "print(hex_number, type(hex_number))\n",
        "\n",
        "# 3) Binary literals (base 2)\n",
        "# Binary literals can easily be written as well. They have to be prefixed by a\n",
        "# leading \"0\", followed by a \"b\" or \"B\"\n",
        "\n",
        "bin_num = 0b101010\n",
        "print(bin_num, type(bin_num))\n",
        "\n",
        "\n",
        "# the functions hex, bin, oct can be used to convert an integer number into the\n",
        "# corresponding string representation of the integer number:\n",
        "\n",
        "print()\n",
        "x = hex(19)\n",
        "print(x, type(x))"
      ],
      "execution_count": null,
      "outputs": [
        {
          "output_type": "stream",
          "name": "stdout",
          "text": [
            "123 <class 'int'>\n",
            "8 <class 'int'>\n",
            "2575 <class 'int'>\n",
            "42 <class 'int'>\n",
            "\n",
            "0x13 <class 'str'>\n"
          ]
        }
      ]
    },
    {
      "cell_type": "markdown",
      "metadata": {
        "id": "BgDSK6jcCZLz"
      },
      "source": [
        "##### Floating point numbers"
      ]
    },
    {
      "cell_type": "code",
      "metadata": {
        "id": "22cyyuCaAdZf"
      },
      "source": [
        "a = 42.11\n",
        "b = 3.1415e-10\n",
        "c = 4.24E-7"
      ],
      "execution_count": null,
      "outputs": []
    },
    {
      "cell_type": "markdown",
      "metadata": {
        "id": "90rdCBRsCnXO"
      },
      "source": [
        "##### Complex numbers"
      ]
    },
    {
      "cell_type": "code",
      "metadata": {
        "colab": {
          "base_uri": "https://localhost:8080/"
        },
        "id": "zo1iCYx3CiC4",
        "outputId": "324a015e-fee5-47af-9895-345458b6a663"
      },
      "source": [
        "x = 3 + 4j\n",
        "\n",
        "y = 2 - 3j\n",
        "\n",
        "z = x + y\n",
        "\n",
        "print(z)"
      ],
      "execution_count": null,
      "outputs": [
        {
          "output_type": "stream",
          "name": "stdout",
          "text": [
            "(5+1j)\n"
          ]
        }
      ]
    },
    {
      "cell_type": "markdown",
      "metadata": {
        "id": "N8XxvSXlC5xl"
      },
      "source": [
        "##### Long integers (only for Python2!)"
      ]
    },
    {
      "cell_type": "markdown",
      "metadata": {
        "id": "ysBihGAxDC9D"
      },
      "source": [
        "Python 2 has two integer types: int and long. There is no \"long int\" in Python3 anymore. There is only one \"int\" type, which contains both \"int\" and \"long\" from Python2"
      ]
    },
    {
      "cell_type": "markdown",
      "metadata": {
        "id": "T-y5kKYQEHXy"
      },
      "source": [
        "# Strings"
      ]
    },
    {
      "cell_type": "markdown",
      "metadata": {
        "id": "-NhgbkYLFNBl"
      },
      "source": [
        "#### Introduction"
      ]
    },
    {
      "cell_type": "markdown",
      "metadata": {
        "id": "dY3Kvb35FLj3"
      },
      "source": [
        "Before Unicode came into usage, there was a one to one relationship between bytes and characters, i.e., every character - of a national variant, i.e. not all the characters of the world - was represented by a single byte.\n",
        "\n",
        "ASCII is restricted to 128 characters and \"Extended ASCII\" is is still limited to 256 bytes or characters. This is good enough for languages like English, German and French, but by far not sufficient for Chinese, Japanese and Korean. That's where Unicode gets into the game. Unicode is a standard designed to represent every character from every language, i.e., it can handle any text of the world's writing systems. These writing systems can also be used simultaneously, i.e., Roman alphabet mixed with Cyrillic or even Chinese characters.\n",
        "\n",
        "There is a different story about Unicode. A character maps to a code point. A code point is a theoretical concept. That is, for example, that the character \"A\" is assigned a code point U+0041. The \"U+\" means \"Unicode\" and the \"0041\" is a hexadecimal number, 65 in decimal notation."
      ]
    },
    {
      "cell_type": "code",
      "metadata": {
        "colab": {
          "base_uri": "https://localhost:8080/",
          "height": 37
        },
        "id": "z4WohatGFxcs",
        "outputId": "fe970ff2-4d5c-415f-8c0f-973988cafc19"
      },
      "source": [
        "hex(65)"
      ],
      "execution_count": null,
      "outputs": [
        {
          "output_type": "execute_result",
          "data": {
            "application/vnd.google.colaboratory.intrinsic+json": {
              "type": "string"
            },
            "text/plain": [
              "'0x41'"
            ]
          },
          "metadata": {},
          "execution_count": 33
        }
      ]
    },
    {
      "cell_type": "code",
      "metadata": {
        "colab": {
          "base_uri": "https://localhost:8080/"
        },
        "id": "ITfAoTHrCstw",
        "outputId": "e0860ad5-9c96-49da-e576-cfe46ccbde26"
      },
      "source": [
        "# get position of a character `A` in ASCII:\n",
        "\n",
        "print(ord('A'))\n",
        "\n",
        "# back:\n",
        "\n",
        "print(chr(65))"
      ],
      "execution_count": null,
      "outputs": [
        {
          "output_type": "stream",
          "name": "stdout",
          "text": [
            "65\n",
            "A\n"
          ]
        }
      ]
    },
    {
      "cell_type": "markdown",
      "metadata": {
        "id": "EciHhuMYGWLw"
      },
      "source": [
        "Up to four bytes are possible per character in Unicode. Theoretically, this means a huge number of 4294967296 possible characters. Due to restrictions from UTF-16 encoding, there are \"only\" 1,112,064 characters possible. Unicode version 8.0 has assigned 120,737 characters. This means that there are slightly more than 10 % of all possible characters assigned, in other words, we can still add nearly a million characters to Unicode."
      ]
    },
    {
      "cell_type": "markdown",
      "metadata": {
        "id": "nS2sqqLfHPYI"
      },
      "source": [
        "#### Unicode Encodings"
      ]
    },
    {
      "cell_type": "markdown",
      "metadata": {
        "id": "G5vuCmJAHTCX"
      },
      "source": [
        "**UTF-32** It's a one to one encoding, i.e., it takes each Unicode character (a 4-byte number) and stores it in 4 bytes. One advantage of this encoding is that you can find the Nth character of a string in linear time, because the Nth character starts at the 4×Nth byte. A serious disadvantage of this approach is due to the fact that it needs four bytes for every character.\n",
        "\n",
        "**UTF-16** UTF-16 (16-bit Unicode Transformation Format) is a character encoding capable of encoding all 1,112,064 valid code points of Unicode. The encoding is variable-length, as code points are encoded with one or two 16-bit code units.\n",
        "\n",
        "**UTF-8** UTF8 is a variable-length encoding system for Unicode, i.e., different characters take up a different number of bytes. ASCII characters use solely one byte per character. This means that the first 128 characters UTF-8 are indistinguishable from ASCII. But the so-called \"Extended Latin\" characters like the Umlaute ä, ö and so on take up two bytes. Chinese characters need three bytes. Finally, the very seldom used characters of the \"astral plane\" need four bytes to be encoded in UTF-8. W3Techs (Web Technology Surveys) writes that \"UTF-8 is used by 94.3% of all the websites whose character encoding we know.\""
      ]
    },
    {
      "cell_type": "markdown",
      "metadata": {
        "id": "oiX4cuSAH4s2"
      },
      "source": [
        "####String, Unicode and Python"
      ]
    },
    {
      "cell_type": "markdown",
      "metadata": {
        "id": "Zt7X6SQeH7Kz"
      },
      "source": [
        "After this lengthy but necessary introduction, we finally come to Python and the way it deals with strings. All strings in Python 3 are sequences of \"pure\" Unicode characters, no specific encoding like UTF-8."
      ]
    },
    {
      "cell_type": "code",
      "metadata": {
        "colab": {
          "base_uri": "https://localhost:8080/"
        },
        "id": "gtbOHQq6GXef",
        "outputId": "3a8c5aae-7c53-4856-c376-14714f75b4e2"
      },
      "source": [
        "# There are different ways to define strings in Python:\n",
        "\n",
        "s = 'I am a string enclosed in single quotes.'\n",
        "s2 = \"I am another string, but I am enclosed in double quotes.\"\n",
        "\n",
        "# Single quotes will have to be escaped with a backslash \\, if the string is\n",
        "# defined with single quotes:\n",
        "\n",
        "s3 = 'It doesn\\'t matter!'\n",
        "\n",
        "# This is not necessary, if the string is represented by double quotes:\n",
        "\n",
        "s3 = \"It doesn't matter!\"\n",
        "\n",
        "# Analogously, we will have to escape a double quote inside a double quoted string:\n",
        "\n",
        "txt = \"He said: \\\"It doesn't matter, if you enclose a string in single or double quotes!\\\"\"\n",
        "print(txt)\n",
        "\n",
        "# They can also be enclosed in matching groups of three single or double quotes.\n",
        "# In this case they are called triple-quoted strings. The backslash character is\n",
        "# used to escape characters that otherwise have a special meaning, such as\n",
        "# newline, backslash itself, or the quote character:\n",
        "\n",
        "txt = '''A string in triple quotes can extend\n",
        "\n",
        "\n",
        "over multiple lines like this one, and can contain\n",
        "'single' and \"double\" quotes.'''\n",
        "print()\n",
        "print(txt)\n",
        "\n",
        "# In triple-quoted strings, unescaped newlines and quotes are allowed (and are\n",
        "# retained), except that three unescaped quotes in a row terminate the string"
      ],
      "execution_count": null,
      "outputs": [
        {
          "output_type": "stream",
          "name": "stdout",
          "text": [
            "He said: \"It doesn't matter, if you enclose a string in single or double quotes!\"\n",
            "\n",
            "A string in triple quotes can extend\n",
            "\n",
            "\n",
            "over multiple lines like this one, and can contain\n",
            "'single' and \"double\" quotes.\n"
          ]
        }
      ]
    },
    {
      "cell_type": "markdown",
      "metadata": {
        "id": "v1hVBjW7TQ5J"
      },
      "source": [
        "A string in Python consists of a series or sequence of characters - letters, numbers, and special characters. Strings can be subscripted or indexed. Similar to C, the first character of a string has the index 0."
      ]
    },
    {
      "cell_type": "code",
      "metadata": {
        "colab": {
          "base_uri": "https://localhost:8080/"
        },
        "id": "CWVO-uAaJSDW",
        "outputId": "cc97da69-c5ee-42bf-d6e2-95557da8e3f8"
      },
      "source": [
        "s = \"Hello World\"\n",
        "\n",
        "print(s[0])\n",
        "print(s[5])\n",
        "\n",
        "# The last character of a string can be accessed this way:\n",
        "\n",
        "print(s[len(s)-1])\n",
        "\n",
        "# And the easier variant:\n",
        "\n",
        "print(s[-1])"
      ],
      "execution_count": null,
      "outputs": [
        {
          "output_type": "stream",
          "name": "stdout",
          "text": [
            "H\n",
            " \n",
            "d\n",
            "d\n"
          ]
        }
      ]
    },
    {
      "cell_type": "markdown",
      "metadata": {
        "id": "HEMWjQEsUZDI"
      },
      "source": [
        "**By the way, there is no character type in Python. A character is simply a string of size one**"
      ]
    },
    {
      "cell_type": "markdown",
      "metadata": {
        "id": "bVd4hizQUfss"
      },
      "source": [
        "#### Some operators and functions for strings"
      ]
    },
    {
      "cell_type": "markdown",
      "metadata": {
        "id": "sUuPujfBUltb"
      },
      "source": [
        "1. **Concatenation**. Strings can be glued together (concatenated) with the + operator: \"Hello\" + \"World\" will result in \"HelloWorld\""
      ]
    },
    {
      "cell_type": "code",
      "metadata": {
        "colab": {
          "base_uri": "https://localhost:8080/",
          "height": 37
        },
        "id": "Gehd7hf5TWwo",
        "outputId": "cc4ed968-b0a2-44da-c588-1fdac915410c"
      },
      "source": [
        "\"Hello\" + \"World\""
      ],
      "execution_count": null,
      "outputs": [
        {
          "output_type": "execute_result",
          "data": {
            "application/vnd.google.colaboratory.intrinsic+json": {
              "type": "string"
            },
            "text/plain": [
              "'HelloWorld'"
            ]
          },
          "metadata": {},
          "execution_count": 42
        }
      ]
    },
    {
      "cell_type": "markdown",
      "metadata": {
        "id": "Lk8AQZz9UuwG"
      },
      "source": [
        "2. **Repetition**. String can be repeated or repeatedly concatenated with the asterisk operator \"*\": \"-\" * 3 will result in \"---\""
      ]
    },
    {
      "cell_type": "code",
      "metadata": {
        "colab": {
          "base_uri": "https://localhost:8080/",
          "height": 37
        },
        "id": "jJ38wQ4QUskM",
        "outputId": "742eb71f-e889-4b15-f298-9de903755388"
      },
      "source": [
        "'*' * 3"
      ],
      "execution_count": null,
      "outputs": [
        {
          "output_type": "execute_result",
          "data": {
            "application/vnd.google.colaboratory.intrinsic+json": {
              "type": "string"
            },
            "text/plain": [
              "'***'"
            ]
          },
          "metadata": {},
          "execution_count": 43
        }
      ]
    },
    {
      "cell_type": "markdown",
      "metadata": {
        "id": "bYln7B7NU8pi"
      },
      "source": [
        "3. **Indexing**. \"Python\"[0] will result in \"P\""
      ]
    },
    {
      "cell_type": "code",
      "metadata": {
        "colab": {
          "base_uri": "https://localhost:8080/",
          "height": 37
        },
        "id": "o-fCaXW4U7To",
        "outputId": "65cc97b9-68a2-4e41-97d1-8eb5c23b46e1"
      },
      "source": [
        " \"Python\"[0]"
      ],
      "execution_count": null,
      "outputs": [
        {
          "output_type": "execute_result",
          "data": {
            "application/vnd.google.colaboratory.intrinsic+json": {
              "type": "string"
            },
            "text/plain": [
              "'P'"
            ]
          },
          "metadata": {},
          "execution_count": 44
        }
      ]
    },
    {
      "cell_type": "markdown",
      "metadata": {
        "id": "QuCbI8OgVF9Q"
      },
      "source": [
        "4. **Slicing**. Substrings can be created with the slice or slicing notation, i.e., two indices in square brackets separated by a colon: \"Python\"[2:4] will result in \"th\""
      ]
    },
    {
      "cell_type": "code",
      "metadata": {
        "colab": {
          "base_uri": "https://localhost:8080/"
        },
        "id": "OUuHyo5ZVE7y",
        "outputId": "f1b0e68f-a454-40e4-c4f5-98fa6052a630"
      },
      "source": [
        "print(\"Python\"[2:4])\n",
        "\n",
        "# the third number is step:\n",
        "print(\"Python\"[0:100:2])"
      ],
      "execution_count": null,
      "outputs": [
        {
          "output_type": "stream",
          "name": "stdout",
          "text": [
            "th\n",
            "Pto\n"
          ]
        }
      ]
    },
    {
      "cell_type": "code",
      "metadata": {
        "colab": {
          "base_uri": "https://localhost:8080/",
          "height": 37
        },
        "id": "P7ydP0CVbhh5",
        "outputId": "ce269663-9b60-410c-c82c-ac077bcdd5de"
      },
      "source": [
        "\"Python\"[-100:-1:-1]"
      ],
      "execution_count": null,
      "outputs": [
        {
          "output_type": "execute_result",
          "data": {
            "application/vnd.google.colaboratory.intrinsic+json": {
              "type": "string"
            },
            "text/plain": [
              "''"
            ]
          },
          "metadata": {},
          "execution_count": 94
        }
      ]
    },
    {
      "cell_type": "markdown",
      "metadata": {
        "id": "08CypOGIVfRW"
      },
      "source": [
        "5. **Size** len(\"Python\") will result in 6"
      ]
    },
    {
      "cell_type": "code",
      "metadata": {
        "colab": {
          "base_uri": "https://localhost:8080/"
        },
        "id": "_b4oLtdBVP-E",
        "outputId": "afdcb4d1-28a7-4db7-9cbc-125dea7d7ef2"
      },
      "source": [
        "len('Python')"
      ],
      "execution_count": null,
      "outputs": [
        {
          "output_type": "execute_result",
          "data": {
            "text/plain": [
              "6"
            ]
          },
          "metadata": {},
          "execution_count": 48
        }
      ]
    },
    {
      "cell_type": "markdown",
      "metadata": {
        "id": "DTXPZygUX1C8"
      },
      "source": [
        "#### Immutable strings"
      ]
    },
    {
      "cell_type": "code",
      "metadata": {
        "colab": {
          "base_uri": "https://localhost:8080/",
          "height": 232
        },
        "id": "gCOweznSVneG",
        "outputId": "40219028-070d-4bc6-aec0-1b2ad392938d"
      },
      "source": [
        "# Like strings in Java and unlike C or C++, Python strings cannot be changed.\n",
        "# Trying to change an indexed position will raise an error:\n",
        "\n",
        "s = \"Some things are immutable!\"\n",
        "s[-1] = \".\" "
      ],
      "execution_count": null,
      "outputs": [
        {
          "output_type": "error",
          "ename": "TypeError",
          "evalue": "ignored",
          "traceback": [
            "\u001b[0;31m---------------------------------------------------------------------------\u001b[0m",
            "\u001b[0;31mTypeError\u001b[0m                                 Traceback (most recent call last)",
            "\u001b[0;32m<ipython-input-49-254c475976d8>\u001b[0m in \u001b[0;36m<module>\u001b[0;34m()\u001b[0m\n\u001b[1;32m      3\u001b[0m \u001b[0;34m\u001b[0m\u001b[0m\n\u001b[1;32m      4\u001b[0m \u001b[0ms\u001b[0m \u001b[0;34m=\u001b[0m \u001b[0;34m\"Some things are immutable!\"\u001b[0m\u001b[0;34m\u001b[0m\u001b[0;34m\u001b[0m\u001b[0m\n\u001b[0;32m----> 5\u001b[0;31m \u001b[0ms\u001b[0m\u001b[0;34m[\u001b[0m\u001b[0;34m-\u001b[0m\u001b[0;36m1\u001b[0m\u001b[0;34m]\u001b[0m \u001b[0;34m=\u001b[0m \u001b[0;34m\".\"\u001b[0m\u001b[0;34m\u001b[0m\u001b[0;34m\u001b[0m\u001b[0m\n\u001b[0m",
            "\u001b[0;31mTypeError\u001b[0m: 'str' object does not support item assignment"
          ]
        }
      ]
    },
    {
      "cell_type": "code",
      "metadata": {
        "id": "5b7UtAtaYBDk"
      },
      "source": [
        "# Beginners in Python are often confused, when they see the following codelines:\n",
        "\n",
        "txt = \"He lives in Berlin!\"\n",
        "txt = \"He lives in Hamburg!\"\n",
        "\n",
        "# The variable \"txt\" is a reference to a string object. We define a completely\n",
        "# new string object in the second assignment. So, you shouldn't confuse the\n",
        "# variable name with the referenced object!"
      ],
      "execution_count": null,
      "outputs": []
    },
    {
      "cell_type": "markdown",
      "metadata": {
        "id": "uJzJbYIkYbyK"
      },
      "source": [
        "#### A String Peculiarity"
      ]
    },
    {
      "cell_type": "code",
      "metadata": {
        "colab": {
          "base_uri": "https://localhost:8080/"
        },
        "id": "7ug-11UiYTAW",
        "outputId": "9b5ffe3e-087f-402e-a996-7854376bae28"
      },
      "source": [
        "# Strings show a special effect, which we will illustrate in the following\n",
        "# example. We will need the \"is\"-Operator. If both a and b are strings, \"a is b\"\n",
        "# checks if they have the same identity, i.e., share the same memory location.\n",
        "# If \"a is b\" is True, then it trivially follows that \"a == b\" has to be True as\n",
        "# well. Yet, \"a == b\" True doesn't imply that \"a is b\" is True as well!\n",
        "\n",
        "a = \"Linux\"\n",
        "b = \"Linux\"\n",
        "\n",
        "print(id(a), id(b))\n",
        "print(a == b)\n",
        "a is b"
      ],
      "execution_count": null,
      "outputs": [
        {
          "output_type": "stream",
          "name": "stdout",
          "text": [
            "140277119413616 140277119413616\n",
            "True\n"
          ]
        },
        {
          "output_type": "execute_result",
          "data": {
            "text/plain": [
              "True"
            ]
          },
          "metadata": {},
          "execution_count": 62
        }
      ]
    },
    {
      "cell_type": "code",
      "metadata": {
        "colab": {
          "base_uri": "https://localhost:8080/"
        },
        "id": "FqcgmQkMYuDX",
        "outputId": "aeff7b07-836b-484f-eda1-3911287724b6"
      },
      "source": [
        "a = \"Baden-Wurttemberg\"\n",
        "b = \"Baden-Wurttemberg\"\n",
        "\n",
        "print(id(a), id(b))\n",
        "print(a == b)\n",
        "print(a is b)\n",
        "\n",
        "# The special character, i.e. the hyphen, is to blame, more information: \n",
        "# https://stackoverflow.com/questions/25183031/different-storage-position-of-equal-strings-with-special-characters\n",
        "\n",
        "# Also small integer caching: Python caches small integers, which are integers\n",
        "# between -5 and 256. These numbers are used so frequently that it’s better for\n",
        "# performance to already have these objects available:\n",
        "\n",
        "a = 5\n",
        "b = 5\n",
        "print(id(a), id(b))\n",
        "\n",
        "a = 55555555555555555\n",
        "b = 55555555555555555\n",
        "print(id(a), id(b))"
      ],
      "execution_count": null,
      "outputs": [
        {
          "output_type": "stream",
          "name": "stdout",
          "text": [
            "140614532739680 140614532741840\n",
            "True\n",
            "False\n",
            "94600937544320 94600937544320\n",
            "140614535818000 140614535818480\n"
          ]
        }
      ]
    },
    {
      "cell_type": "code",
      "metadata": {
        "colab": {
          "base_uri": "https://localhost:8080/"
        },
        "id": "75MmBr2VY9f4",
        "outputId": "a88da513-e111-47d0-c6cf-71a9358563ca"
      },
      "source": [
        "a = \"Baden!\"\n",
        "b = \"Baden!\"\n",
        "a is b"
      ],
      "execution_count": null,
      "outputs": [
        {
          "output_type": "execute_result",
          "data": {
            "text/plain": [
              "False"
            ]
          },
          "metadata": {},
          "execution_count": 60
        }
      ]
    },
    {
      "cell_type": "code",
      "metadata": {
        "colab": {
          "base_uri": "https://localhost:8080/"
        },
        "id": "6r0pm8XEY-k9",
        "outputId": "73df43fd-dc49-49d2-c3bb-00ec037db7a8"
      },
      "source": [
        "a = \"Baden1\"\n",
        "b = \"Baden1\"\n",
        "a is b"
      ],
      "execution_count": null,
      "outputs": [
        {
          "output_type": "execute_result",
          "data": {
            "text/plain": [
              "True"
            ]
          },
          "metadata": {},
          "execution_count": 61
        }
      ]
    },
    {
      "cell_type": "markdown",
      "metadata": {
        "id": "_C-Swjtxb-X6"
      },
      "source": [
        "#### Escape Sequences in Strings"
      ]
    },
    {
      "cell_type": "markdown",
      "metadata": {
        "id": "ZSbTKTkmcQRV"
      },
      "source": [
        "To end our coverage of strings in this chapter, we will introduce some escape characters and sequences. The backslash () character is used to escape characters, i.e., to \"escape\" the special meaning, which this character would otherwise have. Examples for such characters are newline, backslash itself, or the quote character. String literals may optionally be prefixed with a letter 'r' or 'R'; these strings are called raw strings. Raw strings use different rules for interpreting backslash escape sequences:\n",
        "\n",
        "\n"
      ]
    },
    {
      "cell_type": "code",
      "metadata": {
        "colab": {
          "base_uri": "https://localhost:8080/"
        },
        "id": "ovbwD2SHZryQ",
        "outputId": "44d88ec6-71de-4640-eadf-fe635607837f"
      },
      "source": [
        "print('Alice wrote \\n to Bob')\n",
        "print()\n",
        "print(r'Alice wrote \\n to Bob')"
      ],
      "execution_count": null,
      "outputs": [
        {
          "output_type": "stream",
          "name": "stdout",
          "text": [
            "Alice wrote \n",
            " to Bob\n",
            "\n",
            "Alice wrote \\n to Bob\n"
          ]
        }
      ]
    },
    {
      "cell_type": "markdown",
      "metadata": {
        "id": "VdNwcBrZc7nR"
      },
      "source": [
        "Escape sequences and their meaning:\n",
        "\n",
        "\\newline - Ignored\n",
        "\n",
        "\\\\ - Backslash(\\)\n",
        "\n",
        "\\' - Single quote(')\n",
        "\n",
        "\\\" - Double quote(\")\n",
        "\n",
        "\\a - ASCII Bell (BEL)\n",
        "\n",
        "\\b - ASCII Backspace (BS)\n",
        "\n",
        "\\f - ASCII Formfeed (FF)\n",
        "\n",
        "\\n - ASCII Linefeed (LF)\n",
        "\n",
        "\\N{name} - Character named name in the Unicode database (Unocode only)\n",
        "\n",
        "\\r - ASCII Carriage Return (CR)\n",
        "\n",
        "\\t - ASCII Horisontal Tab (TAB)\n",
        "\n",
        "\\uxxxx - Character with 16-bit hex value xxxx (Unicode only)\n",
        "\n",
        "\\Uxxxxxxxx - Character with 32-bit hex value xxxxxxxx (Unicode only)\n",
        "\n",
        "\\v - ASCII Vertical Tab (VT)\n",
        "\n",
        "\\ooo - Character with octal value ooo\n",
        "\n",
        "\\xhh - Character with hex value hh"
      ]
    },
    {
      "cell_type": "markdown",
      "metadata": {
        "id": "wYZ-Tt4ueBsV"
      },
      "source": [
        "#### Byte Strings"
      ]
    },
    {
      "cell_type": "markdown",
      "metadata": {
        "id": "UwS6CrW-eNTk"
      },
      "source": [
        "Python 3.0 uses the concepts of text and (binary) data instead of Unicode strings and 8-bit strings. Every string or text in Python 3 is Unicode, but encoded Unicode is represented as binary data. The type used to hold text is str, the type used to hold data is bytes. It's not possible to mix text and data in Python 3; it will raise TypeError. While a string object holds a sequence of characters (in Unicode), a bytes object holds a sequence of bytes, out of the range 0 to 255, representing the ASCII values. Defining bytes objects and casting them into strings:"
      ]
    },
    {
      "cell_type": "code",
      "metadata": {
        "colab": {
          "base_uri": "https://localhost:8080/"
        },
        "id": "1zYAxbIPePF2",
        "outputId": "2e186d46-185f-47ac-cbc1-de10b3bb133d"
      },
      "source": [
        "x = \"Hallo\"\n",
        "t = str(x)\n",
        "u = t.encode(\"UTF-8\")\n",
        "print(u)"
      ],
      "execution_count": null,
      "outputs": [
        {
          "output_type": "stream",
          "name": "stdout",
          "text": [
            "b'Hallo'\n"
          ]
        }
      ]
    },
    {
      "cell_type": "markdown",
      "metadata": {
        "id": "jByPrsCUmHAt"
      },
      "source": [
        "# Sequential data types"
      ]
    },
    {
      "cell_type": "markdown",
      "metadata": {
        "id": "WNcdrw-jrqao"
      },
      "source": [
        "#### Bytes"
      ]
    },
    {
      "cell_type": "markdown",
      "metadata": {
        "id": "7D83PBgvrvsJ"
      },
      "source": [
        "The byte object is a sequence of small integers. The elements of a byte object are in the range 0 to 255, corresponding to ASCII characters and they are printed as such."
      ]
    },
    {
      "cell_type": "code",
      "metadata": {
        "colab": {
          "base_uri": "https://localhost:8080/"
        },
        "id": "P--7nJBSeQz8",
        "outputId": "71777593-1b71-44e8-a07f-5156335d770e"
      },
      "source": [
        "s = \"Glückliche Fügung\"\n",
        "s_bytes = s.encode('utf-8') \n",
        "s_bytes"
      ],
      "execution_count": null,
      "outputs": [
        {
          "output_type": "execute_result",
          "data": {
            "text/plain": [
              "b'Gl\\xc3\\xbcckliche F\\xc3\\xbcgung'"
            ]
          },
          "metadata": {},
          "execution_count": 1
        }
      ]
    },
    {
      "cell_type": "markdown",
      "metadata": {
        "id": "47b_HTRRr0JP"
      },
      "source": [
        "#### Lists"
      ]
    },
    {
      "cell_type": "markdown",
      "metadata": {
        "id": "uzFCUIqUr2B_"
      },
      "source": [
        "1. They are ordered\n",
        "2. They contain arbitrary objects\n",
        "3. Elements of a list can be accessed by an index\n",
        "4. They are arbitrarily nestable, i.e. they can contain other lists as sublists\n",
        "5. Variable size\n",
        "6. They are mutable, i.e. the elements of a list can be changed\n"
      ]
    },
    {
      "cell_type": "code",
      "metadata": {
        "colab": {
          "base_uri": "https://localhost:8080/"
        },
        "id": "24jvrgp1rx4c",
        "outputId": "e7a3b743-c1e3-4aad-d5b2-e7fb17b03ea9"
      },
      "source": [
        "[]  # an empty list\n",
        "[42, \"What's the question?\", 3.1415]  # A list of mixed data types\n",
        "[\"High up\", [\"further down\", [\"and down\", [\"deep down\", \"the answer\", 42]]]]  # A deeply nested list"
      ],
      "execution_count": null,
      "outputs": [
        {
          "output_type": "execute_result",
          "data": {
            "text/plain": [
              "['High up', ['further down', ['and down', ['deep down', 'the answer', 42]]]]"
            ]
          },
          "metadata": {},
          "execution_count": 2
        }
      ]
    },
    {
      "cell_type": "code",
      "metadata": {
        "colab": {
          "base_uri": "https://localhost:8080/"
        },
        "id": "rcDj66U5sept",
        "outputId": "32e8622e-33a2-4cb4-dbfc-efb8668d8f7d"
      },
      "source": [
        "# We go to a virtual supermarket. Fetch a cart and start shopping:\n",
        "\n",
        "shopping_list = ['milk', 'egg', 'butter', 'bread', 'bananas']\n",
        "cart = []\n",
        "#  \"pop()\"\" removes the last element of the list and returns it\n",
        "article = shopping_list.pop()  \n",
        "print(article, shopping_list)\n",
        "cart.append(article)\n",
        "print(cart)\n",
        "\n",
        "# we go on like this:\n",
        "article = shopping_list.pop()  \n",
        "print(\"shopping_list:\", shopping_list)\n",
        "cart.append(article)\n",
        "print(\"cart: \", cart)"
      ],
      "execution_count": null,
      "outputs": [
        {
          "output_type": "stream",
          "name": "stdout",
          "text": [
            "bananas ['milk', 'yoghurt', 'egg', 'butter', 'bread']\n",
            "['bananas']\n",
            "shopping_list: ['milk', 'yoghurt', 'egg', 'butter']\n",
            "cart:  ['bananas', 'bread']\n"
          ]
        }
      ]
    },
    {
      "cell_type": "code",
      "metadata": {
        "colab": {
          "base_uri": "https://localhost:8080/"
        },
        "id": "k9yuyBUysyI9",
        "outputId": "26f29eb4-6580-45b8-aef4-147b02c6335a"
      },
      "source": [
        "# With a while loop:\n",
        "\n",
        "shopping_list = ['milk', 'yoghurt', 'egg', 'butter', 'bread', 'bananas']\n",
        "cart = []\n",
        "while shopping_list != []:\n",
        "    article = shopping_list.pop()  \n",
        "    cart.append(article)\n",
        "    print(article, shopping_list, cart)\n",
        "\n",
        "print(\"shopping_list: \", shopping_list)\n",
        "print(\"cart: \", cart)"
      ],
      "execution_count": null,
      "outputs": [
        {
          "output_type": "stream",
          "name": "stdout",
          "text": [
            "bananas ['milk', 'yoghurt', 'egg', 'butter', 'bread'] ['bananas']\n",
            "bread ['milk', 'yoghurt', 'egg', 'butter'] ['bananas', 'bread']\n",
            "butter ['milk', 'yoghurt', 'egg'] ['bananas', 'bread', 'butter']\n",
            "egg ['milk', 'yoghurt'] ['bananas', 'bread', 'butter', 'egg']\n",
            "yoghurt ['milk'] ['bananas', 'bread', 'butter', 'egg', 'yoghurt']\n",
            "milk [] ['bananas', 'bread', 'butter', 'egg', 'yoghurt', 'milk']\n",
            "shopping_list:  []\n",
            "cart:  ['bananas', 'bread', 'butter', 'egg', 'yoghurt', 'milk']\n"
          ]
        }
      ]
    },
    {
      "cell_type": "markdown",
      "metadata": {
        "id": "ZKAPtJsEs_16"
      },
      "source": [
        "#### Tuples"
      ]
    },
    {
      "cell_type": "markdown",
      "metadata": {
        "id": "hNtxLnkatFuB"
      },
      "source": [
        "A tuple is an immutable list, i.e. a tuple cannot be changed in any way, once it has been created. A tuple is defined analogously to lists, except the set of elements is enclosed in parentheses instead of square brackets. The rules for indices are the same as for lists. Once a tuple has been created, you can't add elements to a tuple or remove elements from a tuple.\n",
        "\n",
        "Benefits of tuples:\n",
        "\n",
        "1. Tuples are faster than lists.\n",
        "2. If you know that some data doesn't have to be changed, you should use tuples instead of lists, because this protects your data against accidental changes.\n",
        "3. The main advantage of tuples is that tuples can be used as keys in dictionaries, while lists can't."
      ]
    },
    {
      "cell_type": "code",
      "metadata": {
        "colab": {
          "base_uri": "https://localhost:8080/",
          "height": 37
        },
        "id": "QFMVegxJs92f",
        "outputId": "30a67f96-147c-4aa1-cb2e-7a9c43ae1a61"
      },
      "source": [
        "t = (\"tuples\", \"are\", \"immutable\")\n",
        "t[0]"
      ],
      "execution_count": null,
      "outputs": [
        {
          "output_type": "execute_result",
          "data": {
            "application/vnd.google.colaboratory.intrinsic+json": {
              "type": "string"
            },
            "text/plain": [
              "'tuples'"
            ]
          },
          "metadata": {},
          "execution_count": 112
        }
      ]
    },
    {
      "cell_type": "code",
      "metadata": {
        "id": "OufAF0vltV8H",
        "colab": {
          "base_uri": "https://localhost:8080/",
          "height": 164
        },
        "outputId": "2ee4afd6-7809-40e0-8e90-5e531e7f6b51"
      },
      "source": [
        "t[0] = \"assignments to elements are not possible\""
      ],
      "execution_count": null,
      "outputs": [
        {
          "output_type": "error",
          "ename": "TypeError",
          "evalue": "ignored",
          "traceback": [
            "\u001b[0;31m---------------------------------------------------------------------------\u001b[0m",
            "\u001b[0;31mTypeError\u001b[0m                                 Traceback (most recent call last)",
            "\u001b[0;32m<ipython-input-113-23960a1c3f0c>\u001b[0m in \u001b[0;36m<module>\u001b[0;34m()\u001b[0m\n\u001b[0;32m----> 1\u001b[0;31m \u001b[0mt\u001b[0m\u001b[0;34m[\u001b[0m\u001b[0;36m0\u001b[0m\u001b[0;34m]\u001b[0m \u001b[0;34m=\u001b[0m \u001b[0;34m\"assignments to elements are not possible\"\u001b[0m\u001b[0;34m\u001b[0m\u001b[0;34m\u001b[0m\u001b[0m\n\u001b[0m",
            "\u001b[0;31mTypeError\u001b[0m: 'tuple' object does not support item assignment"
          ]
        }
      ]
    },
    {
      "cell_type": "markdown",
      "metadata": {
        "id": "qf3dY2sgte3w"
      },
      "source": [
        "#### Slicing"
      ]
    },
    {
      "cell_type": "code",
      "metadata": {
        "id": "tb09zl_CtzxF",
        "colab": {
          "base_uri": "https://localhost:8080/",
          "height": 37
        },
        "outputId": "74e48004-e708-4917-9dd2-5938c335915e"
      },
      "source": [
        "slogan = \"Python is great\"\n",
        "first_six = slogan[0:6]\n",
        "first_six"
      ],
      "execution_count": null,
      "outputs": [
        {
          "output_type": "execute_result",
          "data": {
            "application/vnd.google.colaboratory.intrinsic+json": {
              "type": "string"
            },
            "text/plain": [
              "'Python'"
            ]
          },
          "metadata": {},
          "execution_count": 6
        }
      ]
    },
    {
      "cell_type": "code",
      "metadata": {
        "id": "MgRnetAZt4dn",
        "colab": {
          "base_uri": "https://localhost:8080/",
          "height": 37
        },
        "outputId": "a8d0da73-b6ae-49ca-dfcd-d6b037447fbc"
      },
      "source": [
        "starting_at_five = slogan[5:]\n",
        "starting_at_five"
      ],
      "execution_count": null,
      "outputs": [
        {
          "output_type": "execute_result",
          "data": {
            "application/vnd.google.colaboratory.intrinsic+json": {
              "type": "string"
            },
            "text/plain": [
              "'n is great'"
            ]
          },
          "metadata": {},
          "execution_count": 7
        }
      ]
    },
    {
      "cell_type": "code",
      "metadata": {
        "id": "dh0t4KP4tYXz",
        "colab": {
          "base_uri": "https://localhost:8080/",
          "height": 37
        },
        "outputId": "df5af3ac-0707-4650-9769-354646bacf42"
      },
      "source": [
        "a_copy = slogan[:]\n",
        "without_last_five = slogan[0:-5]\n",
        "without_last_five"
      ],
      "execution_count": null,
      "outputs": [
        {
          "output_type": "execute_result",
          "data": {
            "application/vnd.google.colaboratory.intrinsic+json": {
              "type": "string"
            },
            "text/plain": [
              "'Python is '"
            ]
          },
          "metadata": {},
          "execution_count": 8
        }
      ]
    },
    {
      "cell_type": "markdown",
      "metadata": {
        "id": "Jk6a71dZzkck"
      },
      "source": [
        "Slicing works with three arguments as well. If the third argument is for example 3, only every third element of the list, string or tuple from the range of the first two arguments will be taken.\n",
        "\n",
        "If s is a sequential data type, it works like this:\n",
        "\n",
        "s[begin: end: step]"
      ]
    },
    {
      "cell_type": "code",
      "metadata": {
        "id": "Ffffodi6yHcc",
        "colab": {
          "base_uri": "https://localhost:8080/",
          "height": 37
        },
        "outputId": "ebc8ca31-63e8-4d27-a8da-85a99bb9be48"
      },
      "source": [
        "# In the following example we define a string and we print every third character\n",
        "# of this string:\n",
        "\n",
        "slogan = \"Python under Linux is great\"\n",
        "slogan[::3]"
      ],
      "execution_count": null,
      "outputs": [
        {
          "output_type": "execute_result",
          "data": {
            "application/vnd.google.colaboratory.intrinsic+json": {
              "type": "string"
            },
            "text/plain": [
              "'Ph d n  e'"
            ]
          },
          "metadata": {},
          "execution_count": 9
        }
      ]
    },
    {
      "cell_type": "code",
      "metadata": {
        "colab": {
          "base_uri": "https://localhost:8080/"
        },
        "id": "GJjUV8z2zut5",
        "outputId": "1b3dd99c-6dab-458d-c698-e4a1058111ca"
      },
      "source": [
        "# hidden sentence:\n",
        "\n",
        "s = \"TPoyrtohnotno  ciosu rtshees  lianr gTeosrto nCtiot yb yi nB oCdaennasdeao\"\n",
        "print(s)"
      ],
      "execution_count": null,
      "outputs": [
        {
          "output_type": "stream",
          "name": "stdout",
          "text": [
            "TPoyrtohnotno  ciosu rtshees  lianr gTeosrto nCtiot yb yi nB oCdaennasdeao\n"
          ]
        }
      ]
    },
    {
      "cell_type": "code",
      "metadata": {
        "colab": {
          "base_uri": "https://localhost:8080/",
          "height": 37
        },
        "id": "Ufl9ZpHrz4u5",
        "outputId": "14342ec7-4ecb-44cf-f8b5-8f48d50374e3"
      },
      "source": [
        "# solution:\n",
        "\n",
        "s[::2]"
      ],
      "execution_count": null,
      "outputs": [
        {
          "output_type": "execute_result",
          "data": {
            "application/vnd.google.colaboratory.intrinsic+json": {
              "type": "string"
            },
            "text/plain": [
              "'Toronto is the largest City in Canada'"
            ]
          },
          "metadata": {},
          "execution_count": 11
        }
      ]
    },
    {
      "cell_type": "code",
      "metadata": {
        "colab": {
          "base_uri": "https://localhost:8080/",
          "height": 54
        },
        "id": "FxBBlZYxz7un",
        "outputId": "0ab6857b-3924-42ab-dd27-d56dd8907dbb"
      },
      "source": [
        "# You may be interested in how we created the string. You have to understand\n",
        "# list comprehension to understand the following:\n",
        "\n",
        "s = \"Toronto is the largest City in Canada\"\n",
        "t = \"Python courses in Toronto by Bodenseo\"\n",
        "s = \"\".join([\"\".join(x) for x in zip(s,t)])\n",
        "s"
      ],
      "execution_count": null,
      "outputs": [
        {
          "output_type": "execute_result",
          "data": {
            "application/vnd.google.colaboratory.intrinsic+json": {
              "type": "string"
            },
            "text/plain": [
              "'TPoyrtohnotno  ciosu rtshees  lianr gTeosrto nCtiot yb yi nB oCdaennasdeao'"
            ]
          },
          "metadata": {},
          "execution_count": 12
        }
      ]
    },
    {
      "cell_type": "code",
      "metadata": {
        "id": "AmJjv6D30F2H",
        "colab": {
          "base_uri": "https://localhost:8080/"
        },
        "outputId": "a1024774-adde-4458-cdc6-649bb644f65a"
      },
      "source": [
        "# length:\n",
        "\n",
        "txt = \"Hello World\"\n",
        "print(len(txt))\n",
        "\n",
        "# concatenation:\n",
        "\n",
        "# strings\n",
        "print()\n",
        "firstname = \"Homer\"\n",
        "surname = \"Simpson\"\n",
        "name = firstname + \" \" + surname\n",
        "print(name)\n",
        "\n",
        "# lists\n",
        "print()\n",
        "colours1 = [\"red\", \"green\",\"blue\"]\n",
        "colours2 = [\"black\", \"white\"]\n",
        "colours = colours1 + colours2\n",
        "print(colours)\n",
        "\n",
        "# checking if an element is contained in list\n",
        "\n",
        "print()\n",
        "abc = [\"a\",\"b\",\"c\",\"d\",\"e\"]\n",
        "print(\"a\" in abc)\n",
        "print(\"a\" not in abc)\n",
        "\n",
        "# repetitions:\n",
        "\n",
        "print()\n",
        "print(3 * \"xyz-\")\n",
        "print(3 * [\"a\",\"b\",\"c\"])"
      ],
      "execution_count": null,
      "outputs": [
        {
          "output_type": "stream",
          "name": "stdout",
          "text": [
            "11\n",
            "\n",
            "Homer Simpson\n",
            "\n",
            "['red', 'green', 'blue', 'black', 'white']\n",
            "\n",
            "True\n",
            "False\n",
            "\n",
            "xyz-xyz-xyz-\n",
            "['a', 'b', 'c', 'a', 'b', 'c', 'a', 'b', 'c']\n"
          ]
        }
      ]
    },
    {
      "cell_type": "markdown",
      "metadata": {
        "id": "278a7RIe18OH"
      },
      "source": [
        "#### The Pitfalls of Repetitions"
      ]
    },
    {
      "cell_type": "code",
      "metadata": {
        "colab": {
          "base_uri": "https://localhost:8080/"
        },
        "id": "H4gwX-lm1BgF",
        "outputId": "d7c54520-f2c8-42af-87d5-ce6d6649fe91"
      },
      "source": [
        "x = [\"a\",\"b\",\"c\"]\n",
        "y = [x] * 4\n",
        "y"
      ],
      "execution_count": null,
      "outputs": [
        {
          "output_type": "execute_result",
          "data": {
            "text/plain": [
              "[['a', 'b', 'c'], ['a', 'b', 'c'], ['a', 'b', 'c'], ['a', 'b', 'c']]"
            ]
          },
          "metadata": {},
          "execution_count": 104
        }
      ]
    },
    {
      "cell_type": "code",
      "metadata": {
        "colab": {
          "base_uri": "https://localhost:8080/"
        },
        "id": "gPi_Nucs2AAX",
        "outputId": "28bc2d58-6bba-47b7-a2bd-60fb00b1e40f"
      },
      "source": [
        "y[0][0] = \"p\"\n",
        "y"
      ],
      "execution_count": null,
      "outputs": [
        {
          "output_type": "execute_result",
          "data": {
            "text/plain": [
              "[['p', 'b', 'c'], ['p', 'b', 'c'], ['p', 'b', 'c'], ['p', 'b', 'c']]"
            ]
          },
          "metadata": {},
          "execution_count": 105
        }
      ]
    },
    {
      "cell_type": "markdown",
      "metadata": {
        "id": "HBuOiRHl2Fn0"
      },
      "source": [
        "![](https://www.python-course.eu/images/repetitions.webp)\n",
        "\n",
        "This result is quite astonishing for beginners of Python programming. We have assigned a new value to the first element of the first sublist of y, i.e. y[0][0] and we have \"automatically\" changed the first elements of all the sublists in y, i.e. y[1][0], y[2][0], y[3][0].\n",
        "The reason is that the repetition operator \"* 4\" creates 4 references to the list x: and so it's clear that every element of y is changed, if we apply a new value to y[0][0]."
      ]
    },
    {
      "cell_type": "markdown",
      "metadata": {
        "id": "nlgbo35EC5rL"
      },
      "source": [
        "#### List comprehensions"
      ]
    },
    {
      "cell_type": "code",
      "metadata": {
        "colab": {
          "base_uri": "https://localhost:8080/"
        },
        "id": "tU3gjUsnDHkh",
        "outputId": "578523ae-a4cf-422f-de9a-a1d560549bad"
      },
      "source": [
        "t = [i**2 for i in range(10)]\n",
        "t"
      ],
      "execution_count": null,
      "outputs": [
        {
          "output_type": "execute_result",
          "data": {
            "text/plain": [
              "[0, 1, 4, 9, 16, 25, 36, 49, 64, 81]"
            ]
          },
          "metadata": {},
          "execution_count": 70
        }
      ]
    },
    {
      "cell_type": "code",
      "metadata": {
        "colab": {
          "base_uri": "https://localhost:8080/"
        },
        "id": "M7yH9fGLC8_G",
        "outputId": "88278ca8-3805-4831-99cb-e8cf70879db9"
      },
      "source": [
        "t = [i if i % 2 == 0 else None for i in range(10)]\n",
        "t"
      ],
      "execution_count": null,
      "outputs": [
        {
          "output_type": "execute_result",
          "data": {
            "text/plain": [
              "[0, None, 2, None, 4, None, 6, None, 8, None]"
            ]
          },
          "metadata": {},
          "execution_count": 69
        }
      ]
    },
    {
      "cell_type": "markdown",
      "metadata": {
        "id": "fb_5azsfDorA"
      },
      "source": [
        "#### How to create list of empty lists, template for many exercises"
      ]
    },
    {
      "cell_type": "code",
      "metadata": {
        "colab": {
          "base_uri": "https://localhost:8080/"
        },
        "id": "7PbJYcOsD5ys",
        "outputId": "5beab92a-5ead-4f2a-b48c-1070e72d096a"
      },
      "source": [
        "table = [[0]*8]*8  # this is WRONG WAY!\n",
        "table"
      ],
      "execution_count": null,
      "outputs": [
        {
          "output_type": "execute_result",
          "data": {
            "text/plain": [
              "[[0, 0, 0, 0, 0, 0, 0, 0],\n",
              " [0, 0, 0, 0, 0, 0, 0, 0],\n",
              " [0, 0, 0, 0, 0, 0, 0, 0],\n",
              " [0, 0, 0, 0, 0, 0, 0, 0],\n",
              " [0, 0, 0, 0, 0, 0, 0, 0],\n",
              " [0, 0, 0, 0, 0, 0, 0, 0],\n",
              " [0, 0, 0, 0, 0, 0, 0, 0],\n",
              " [0, 0, 0, 0, 0, 0, 0, 0]]"
            ]
          },
          "metadata": {},
          "execution_count": 72
        }
      ]
    },
    {
      "cell_type": "code",
      "metadata": {
        "colab": {
          "base_uri": "https://localhost:8080/"
        },
        "id": "mFt338EnEFvK",
        "outputId": "5b08c2ef-2c39-4ed7-fc2c-19aaa1a6900d"
      },
      "source": [
        "# because:\n",
        "table[4][3] = 1\n",
        "table"
      ],
      "execution_count": null,
      "outputs": [
        {
          "output_type": "execute_result",
          "data": {
            "text/plain": [
              "[[0, 0, 0, 1, 0, 0, 0, 0],\n",
              " [0, 0, 0, 1, 0, 0, 0, 0],\n",
              " [0, 0, 0, 1, 0, 0, 0, 0],\n",
              " [0, 0, 0, 1, 0, 0, 0, 0],\n",
              " [0, 0, 0, 1, 0, 0, 0, 0],\n",
              " [0, 0, 0, 1, 0, 0, 0, 0],\n",
              " [0, 0, 0, 1, 0, 0, 0, 0],\n",
              " [0, 0, 0, 1, 0, 0, 0, 0]]"
            ]
          },
          "metadata": {},
          "execution_count": 73
        }
      ]
    },
    {
      "cell_type": "code",
      "metadata": {
        "colab": {
          "base_uri": "https://localhost:8080/"
        },
        "id": "tT37dDADj5hZ",
        "outputId": "47ff1937-a7f2-4f4e-8a59-989380b52107"
      },
      "source": [
        "s = [0]* 8\n",
        "s[3] = 1\n",
        "s"
      ],
      "execution_count": null,
      "outputs": [
        {
          "output_type": "execute_result",
          "data": {
            "text/plain": [
              "[0, 0, 0, 1, 0, 0, 0, 0]"
            ]
          },
          "metadata": {},
          "execution_count": 106
        }
      ]
    },
    {
      "cell_type": "code",
      "metadata": {
        "colab": {
          "base_uri": "https://localhost:8080/"
        },
        "id": "Rip5EnQhEPx3",
        "outputId": "12fd3791-a691-47c2-a974-3f4c419866ee"
      },
      "source": [
        "# correct way:\n",
        "\n",
        "table = [[0]*8 for _ in range(8)]\n",
        "table[4][3] = 1\n",
        "table"
      ],
      "execution_count": null,
      "outputs": [
        {
          "output_type": "execute_result",
          "data": {
            "text/plain": [
              "[[0, 0, 0, 0, 0, 0, 0, 0],\n",
              " [0, 0, 0, 0, 0, 0, 0, 0],\n",
              " [0, 0, 0, 0, 0, 0, 0, 0],\n",
              " [0, 0, 0, 0, 0, 0, 0, 0],\n",
              " [0, 0, 0, 1, 0, 0, 0, 0],\n",
              " [0, 0, 0, 0, 0, 0, 0, 0],\n",
              " [0, 0, 0, 0, 0, 0, 0, 0],\n",
              " [0, 0, 0, 0, 0, 0, 0, 0]]"
            ]
          },
          "metadata": {},
          "execution_count": 107
        }
      ]
    },
    {
      "cell_type": "code",
      "metadata": {
        "colab": {
          "base_uri": "https://localhost:8080/"
        },
        "id": "El3kI1n1Ea0V",
        "outputId": "62c71d5e-04c0-4026-c8d2-cf4f82ae2647"
      },
      "source": [
        "# if you want to create list of IMMUTABLE type same values the following is OK:\n",
        "\n",
        "line = [0]*20\n",
        "line[5] = 5\n",
        "line\n"
      ],
      "execution_count": null,
      "outputs": [
        {
          "output_type": "execute_result",
          "data": {
            "text/plain": [
              "[0, 0, 0, 0, 0, 5, 0, 0, 0, 0, 0, 0, 0, 0, 0, 0, 0, 0, 0, 0]"
            ]
          },
          "metadata": {},
          "execution_count": 77
        }
      ]
    },
    {
      "cell_type": "markdown",
      "metadata": {
        "id": "HJwhdLJg2fs-"
      },
      "source": [
        "# List manipulations"
      ]
    },
    {
      "cell_type": "markdown",
      "metadata": {
        "id": "JQxzWxiZ2qwz"
      },
      "source": [
        "A list can be seen as a stack. A stack in computer science is a data structure, which has at least two operations: one which can be used to put or push data on the stack, and another one to take away the most upper element of the stack."
      ]
    },
    {
      "cell_type": "code",
      "metadata": {
        "colab": {
          "base_uri": "https://localhost:8080/"
        },
        "id": "TP9T8jGD2CNT",
        "outputId": "7e27376c-fa26-4cbb-8fb2-417cd9812765"
      },
      "source": [
        "# append\n",
        "\n",
        "lst = [3, 5, 7]\n",
        "lst.append(42)\n",
        "print(lst)\n",
        "\n",
        "# It's important to understand that append returns \"None\". In other words, it\n",
        "# usually doesn't make sense to reassign the return value:\n",
        "\n",
        "print()\n",
        "lst = [3, 5, 7]\n",
        "lst = lst.append(42)\n",
        "print(lst)\n",
        "\n",
        "# pop\n",
        "\n",
        "print()\n",
        "cities = [\"Hamburg\", \"Linz\", \"Salzburg\", \"Vienna\"]\n",
        "print(cities.pop(0), cities)\n",
        "print(cities.pop())"
      ],
      "execution_count": null,
      "outputs": [
        {
          "output_type": "stream",
          "name": "stdout",
          "text": [
            "[3, 5, 7, 42]\n",
            "\n",
            "None\n",
            "\n",
            "Hamburg ['Linz', 'Salzburg', 'Vienna']\n",
            "Vienna\n"
          ]
        }
      ]
    },
    {
      "cell_type": "markdown",
      "metadata": {
        "id": "xtsiTyct4Dqq"
      },
      "source": [
        "**but popping elements from the list not from the end is not efficient!**"
      ]
    },
    {
      "cell_type": "code",
      "metadata": {
        "colab": {
          "base_uri": "https://localhost:8080/"
        },
        "id": "rapEQFuV3FJa",
        "outputId": "6f3ae197-9a35-4585-8151-72f94dccbd74"
      },
      "source": [
        "# extend\n",
        "\n",
        "lst = [42,98,77]\n",
        "lst2 = [8,69]\n",
        "lst.append(lst2)\n",
        "print(lst)\n",
        "\n",
        "# correct:\n",
        "\n",
        "lst = [42,98,77]\n",
        "lst2 = [8,69]\n",
        "lst.extend(lst2)\n",
        "print(lst)\n",
        "\n",
        "# The argument of 'extend' doesn't have to be a list. It can be any kind of\n",
        "# iterable. That is, we can use tuples and strings as well:\n",
        "\n",
        "lst = [\"a\", \"b\", \"c\"]\n",
        "programming_language = \"Python\"\n",
        "lst.extend(programming_language)\n",
        "print(lst)"
      ],
      "execution_count": null,
      "outputs": [
        {
          "output_type": "stream",
          "name": "stdout",
          "text": [
            "[42, 98, 77, [8, 69]]\n",
            "[42, 98, 77, 8, 69]\n",
            "['a', 'b', 'c', 'P', 'y', 't', 'h', 'o', 'n']\n"
          ]
        }
      ]
    },
    {
      "cell_type": "markdown",
      "metadata": {
        "id": "xTN_bMoR4vXw"
      },
      "source": [
        "#### Extending and Appending Lists with the '+' Operator"
      ]
    },
    {
      "cell_type": "code",
      "metadata": {
        "id": "u8_HIu3r4Rx6"
      },
      "source": [
        "# There is an alternative to 'append' and 'extend'.\n",
        "# '+' can be used to combine lists."
      ],
      "execution_count": null,
      "outputs": []
    },
    {
      "cell_type": "code",
      "metadata": {
        "colab": {
          "base_uri": "https://localhost:8080/"
        },
        "id": "lRED1Nwq5X0y",
        "outputId": "2f0b7917-ae61-4689-b3ce-fa457567de6a"
      },
      "source": [
        "level = [\"beginner\", \"intermediate\", \"advanced\"]\n",
        "other_words = [\"novice\", \"expert\"]\n",
        "print(level + other_words)\n",
        "\n",
        "# Be careful. Never ever do the following:\n",
        "\n",
        "print()\n",
        "L = [3, 4]\n",
        "L = L + [42]\n",
        "print(L)\n",
        "\n",
        "# Even though we get the same result, it is not an alternative to\n",
        "# 'append' and 'extend'. The augmented assignment (+=) is an alternative:\n",
        "\n",
        "print()\n",
        "L = [3, 4]\n",
        "L += [42]\n",
        "print(L)"
      ],
      "execution_count": null,
      "outputs": [
        {
          "output_type": "stream",
          "name": "stdout",
          "text": [
            "['beginner', 'intermediate', 'advanced', 'novice', 'expert']\n",
            "\n",
            "[3, 4, 42]\n",
            "\n",
            "[3, 4, 42]\n"
          ]
        }
      ]
    },
    {
      "cell_type": "code",
      "metadata": {
        "colab": {
          "base_uri": "https://localhost:8080/"
        },
        "id": "yjL4VgBa5YyB",
        "outputId": "f6801568-5d7c-4fea-eab5-df80b87c2b9f"
      },
      "source": [
        "# In the following example, we will compare the different approaches and\n",
        "# calculate their run times. To understand the following program, you need\n",
        "# to know that time.time() returns a float number, the time in seconds since the\n",
        "# so-called ``The Epoch`` (Epoch time (also known as Unix time or POSIX time) is\n",
        "# a system for describing instants in time, defined as the number of seconds that\n",
        "# have elapsed since 00:00:00 Coordinated Universal Time (UTC), Thursday, 1 January 1970,\n",
        "# not counting leap seconds). time.time() - start_time calculates the time in\n",
        "# seconds used for the for loops:\n",
        "\n",
        "import time\n",
        "\n",
        "n= 100000\n",
        "\n",
        "start_time = time.time()\n",
        "l = []\n",
        "for i in range(n):\n",
        "    l = l + [i * 2]\n",
        "print(time.time() - start_time)"
      ],
      "execution_count": null,
      "outputs": [
        {
          "output_type": "stream",
          "name": "stdout",
          "text": [
            "28.44809627532959\n"
          ]
        }
      ]
    },
    {
      "cell_type": "code",
      "metadata": {
        "colab": {
          "base_uri": "https://localhost:8080/"
        },
        "id": "f24Pkn2k6Ttv",
        "outputId": "7ee8d5bb-24c3-4b14-c67b-6a014352ad79"
      },
      "source": [
        "start_time = time.time()\n",
        "l = []\n",
        "for i in range(n):\n",
        "    l += [i * 2]\n",
        "print(time.time() - start_time)"
      ],
      "execution_count": null,
      "outputs": [
        {
          "output_type": "stream",
          "name": "stdout",
          "text": [
            "0.026547670364379883\n"
          ]
        }
      ]
    },
    {
      "cell_type": "code",
      "metadata": {
        "colab": {
          "base_uri": "https://localhost:8080/"
        },
        "id": "UbF4W3l86f3X",
        "outputId": "fd42dcc2-078b-4fd3-b95a-2ab5c62bd774"
      },
      "source": [
        "start_time = time.time()\n",
        "l = []\n",
        "for i in range(n):\n",
        "    l.append(i * 2)\n",
        "print(time.time() - start_time)"
      ],
      "execution_count": null,
      "outputs": [
        {
          "output_type": "stream",
          "name": "stdout",
          "text": [
            "0.02409672737121582\n"
          ]
        }
      ]
    },
    {
      "cell_type": "markdown",
      "metadata": {
        "id": "UnOPpRiw6kT6"
      },
      "source": [
        "We can see that the \"+\" operator is about 1268 times slower than the append method. The explanation is easy: If we use the append method, we will simply append a further element to the list in each loop pass. Now we come to the first loop, in which we use l = l + [i * 2]. The list will be copied in every loop pass. The new element will be added to the copy of the list and result will be reassigned to the variable l. After that, the old list will have to be removed by Python, because it is not referenced anymore. We can also see that the version with the augmented assignment (\"+=\"), the loop in the middle, is only slightly slower than the version using \"append\"."
      ]
    },
    {
      "cell_type": "code",
      "metadata": {
        "colab": {
          "base_uri": "https://localhost:8080/"
        },
        "id": "7MnE2v4K6iDk",
        "outputId": "8594445c-e738-4fef-e0b1-656e2959b872"
      },
      "source": [
        "# remove\n",
        "\n",
        "# It is possible to remove a certain value from a list without knowing the\n",
        "# position with the method \"remove\":\n",
        "\n",
        "L = [3, 4, 5, 4]\n",
        "L.remove(4)\n",
        "print(L)\n",
        "\n",
        "# This call will remove the first occurrence of '4' from the list 'L'"
      ],
      "execution_count": null,
      "outputs": [
        {
          "output_type": "stream",
          "name": "stdout",
          "text": [
            "[3, 5, 4]\n"
          ]
        }
      ]
    },
    {
      "cell_type": "code",
      "metadata": {
        "colab": {
          "base_uri": "https://localhost:8080/"
        },
        "id": "DO5RBWe17EfB",
        "outputId": "a9ad3f27-8b5e-4566-ced7-2a1765889a67"
      },
      "source": [
        "# index - linear search in a list\n",
        "\n",
        "# The method \"index\" can be used to find the position of an element within a list:\n",
        "\n",
        "colours = [\"red\", \"green\", \"blue\", \"green\", \"yellow\"]\n",
        "print(colours.index(\"green\"))\n",
        "print(colours.index('green', 2, 5))\n",
        "\n",
        "# insert\n",
        "\n",
        "# The functionality of the method \"append\" can be simulated with insert in the\n",
        "# following way:\n",
        "\n",
        "abc = [\"a\",\"b\",\"c\"]\n",
        "abc.insert(len(abc),\"d\")\n",
        "abc"
      ],
      "execution_count": null,
      "outputs": [
        {
          "output_type": "stream",
          "name": "stdout",
          "text": [
            "1\n",
            "3\n"
          ]
        },
        {
          "output_type": "execute_result",
          "data": {
            "text/plain": [
              "['a', 'b', 'c', 'd']"
            ]
          },
          "metadata": {},
          "execution_count": 50
        }
      ]
    },
    {
      "cell_type": "markdown",
      "metadata": {
        "id": "ylcFCsAB8oCU"
      },
      "source": [
        "# Shallow and Deep copy"
      ]
    },
    {
      "cell_type": "markdown",
      "metadata": {
        "id": "8O-Lqh1P-H0C"
      },
      "source": [
        "**The problems which we will encounter are general problems of mutable data types.**"
      ]
    },
    {
      "cell_type": "code",
      "metadata": {
        "colab": {
          "base_uri": "https://localhost:8080/"
        },
        "id": "jeEj2zhD738X",
        "outputId": "19f5acf1-acc7-4e7b-fbbc-95a6ab11ce15"
      },
      "source": [
        "a1 = [1, 2, 3, 4, 5]\n",
        "b1 = a1  # not a copy!\n",
        "\n",
        "a1[0] = 0\n",
        "print(a1)\n",
        "print(b1)"
      ],
      "execution_count": null,
      "outputs": [
        {
          "output_type": "stream",
          "name": "stdout",
          "text": [
            "[0, 2, 3, 4, 5]\n",
            "[0, 2, 3, 4, 5]\n"
          ]
        }
      ]
    },
    {
      "cell_type": "code",
      "metadata": {
        "colab": {
          "base_uri": "https://localhost:8080/"
        },
        "id": "DUT-sv8K-Zso",
        "outputId": "327b6ba0-932c-47d2-e6c9-b2b485a38a5f"
      },
      "source": [
        "# this is because:\n",
        "\n",
        "print(id(a1), id(b1))  # same objects!"
      ],
      "execution_count": null,
      "outputs": [
        {
          "output_type": "stream",
          "name": "stdout",
          "text": [
            "140614531682704 140614531682704\n"
          ]
        }
      ]
    },
    {
      "cell_type": "code",
      "metadata": {
        "colab": {
          "base_uri": "https://localhost:8080/"
        },
        "id": "NsW5lo9k-iaT",
        "outputId": "53920db2-3904-4989-f3fc-19f5dce33e03"
      },
      "source": [
        "# for integers different result:\n",
        "\n",
        "x1 = 1\n",
        "x2 = x1\n",
        "print(id(x1), id(x2))\n",
        "\n",
        "print()\n",
        "x1 = 5\n",
        "print(x1, x2)\n",
        "print(id(x1), id(x2))\n",
        "\n",
        "# but this is because int type is immutable! and on 6-th line we create\n",
        "# a new object `5` and reference variable `x1` to it. Old object `1` resist"
      ],
      "execution_count": null,
      "outputs": [
        {
          "output_type": "stream",
          "name": "stdout",
          "text": [
            "94600937544192 94600937544192\n",
            "\n",
            "5 1\n",
            "94600937544320 94600937544192\n"
          ]
        }
      ]
    },
    {
      "cell_type": "markdown",
      "metadata": {
        "id": "kykl3URi_hvh"
      },
      "source": [
        "![](https://www.python-course.eu/images/deep_copy_detailed1_800w.webp)"
      ]
    },
    {
      "cell_type": "code",
      "metadata": {
        "colab": {
          "base_uri": "https://localhost:8080/"
        },
        "id": "wgPiKoDD-yXy",
        "outputId": "221c13de-d868-4877-ae15-d807ce98a29d"
      },
      "source": [
        "colours1 = [\"red\", \"blue\"]\n",
        "colours2 = colours1\n",
        "print(colours1, colours2)"
      ],
      "execution_count": null,
      "outputs": [
        {
          "output_type": "stream",
          "name": "stdout",
          "text": [
            "['red', 'blue'] ['red', 'blue']\n"
          ]
        }
      ]
    },
    {
      "cell_type": "markdown",
      "metadata": {
        "id": "Gk_XVyOk_wnU"
      },
      "source": [
        "#### Copying lists"
      ]
    },
    {
      "cell_type": "markdown",
      "metadata": {
        "id": "lK90OtU1AhjM"
      },
      "source": [
        "We have finally arrived at the topic of copying lists. The list class offers the method copy for this purpose. Even though the name seems to be clear, this path also has a catch."
      ]
    },
    {
      "cell_type": "code",
      "metadata": {
        "colab": {
          "base_uri": "https://localhost:8080/"
        },
        "id": "JP_TL1iZmMEe",
        "outputId": "4831a922-55fd-48aa-a4b8-2a8ca4a527df"
      },
      "source": [
        "L = [1,2,3]\n",
        "L[:]"
      ],
      "execution_count": null,
      "outputs": [
        {
          "output_type": "execute_result",
          "data": {
            "text/plain": [
              "[1, 2, 3]"
            ]
          },
          "metadata": {},
          "execution_count": 109
        }
      ]
    },
    {
      "cell_type": "code",
      "metadata": {
        "colab": {
          "base_uri": "https://localhost:8080/"
        },
        "id": "mJa1qiO__v9h",
        "outputId": "4f03df8e-59b3-42fa-b021-047346132248"
      },
      "source": [
        "# The catch can be seen, if we use help on copy:\n",
        "\n",
        "help(list.copy)"
      ],
      "execution_count": null,
      "outputs": [
        {
          "output_type": "stream",
          "name": "stdout",
          "text": [
            "Help on method_descriptor:\n",
            "\n",
            "copy(self, /)\n",
            "    Return a shallow copy of the list.\n",
            "\n"
          ]
        }
      ]
    },
    {
      "cell_type": "markdown",
      "metadata": {
        "id": "mHIwgsccA-MN"
      },
      "source": [
        "First you should remember what a list is in Python. A list in Python is an object consisting of an ordered sequence of references to Python objects. The following is a list of strings:\n",
        "\n",
        "![](https://www.python-course.eu/images/list_firstnames_800w.webp)\n",
        "\n",
        "Basically, the list object is solely the blue box with the arrows, i.e. the references to the strings. The strings itself are not part of the list. The following list whatever is such a more general list: \n",
        "\n",
        "![](https://www.python-course.eu/images/list_whatever_800w.webp)\n",
        "\n",
        "When a list is copied, we copy the references."
      ]
    },
    {
      "cell_type": "code",
      "metadata": {
        "colab": {
          "base_uri": "https://localhost:8080/"
        },
        "id": "x1HvSR2iAmLh",
        "outputId": "ecbecfc5-f7f9-41ff-b3bd-4e15faa79ac3"
      },
      "source": [
        "person1 = [\"Swen\", [\"Seestrasse\", \"Konstanz\"]]\n",
        "\n",
        "person2 = person1.copy()\n",
        "person2[0] = \"Sarah\"\n",
        "print(person1)\n",
        "print(person2)\n",
        "\n",
        "# Till now everything is OK"
      ],
      "execution_count": null,
      "outputs": [
        {
          "output_type": "stream",
          "name": "stdout",
          "text": [
            "['Swen', ['Seestrasse', 'Konstanz']]\n",
            "['Sarah', ['Seestrasse', 'Konstanz']]\n"
          ]
        }
      ]
    },
    {
      "cell_type": "markdown",
      "metadata": {
        "id": "5-G5dplhBxqI"
      },
      "source": [
        "![](https://www.python-course.eu/images/copy_nested_list_2_800w.webp)"
      ]
    },
    {
      "cell_type": "code",
      "metadata": {
        "colab": {
          "base_uri": "https://localhost:8080/"
        },
        "id": "UECTK0w3BkiJ",
        "outputId": "4d96905b-6580-4fa2-c26e-231bbca9a86c"
      },
      "source": [
        "person2[1][0] = \"Bücklestraße\"\n",
        "\n",
        "print(person1)\n",
        "print(person2)\n",
        "\n",
        "# NOT OK"
      ],
      "execution_count": null,
      "outputs": [
        {
          "output_type": "stream",
          "name": "stdout",
          "text": [
            "['Swen', ['Bücklestraße', 'Konstanz']]\n",
            "['Sarah', ['Bücklestraße', 'Konstanz']]\n"
          ]
        }
      ]
    },
    {
      "cell_type": "markdown",
      "metadata": {
        "id": "VHr7TRjrCDMU"
      },
      "source": [
        "![](https://www.python-course.eu/images/copy_nested_list_3_800w.webp)\n",
        "\n",
        "#### Deepcopy\n",
        "\n",
        "A solution to the described problem is provided by the module copy. This module provides the method \"deepcopy\", which allows a complete or deep copy of an arbitrary list, i.e. shallow and other lists."
      ]
    },
    {
      "cell_type": "code",
      "metadata": {
        "colab": {
          "base_uri": "https://localhost:8080/"
        },
        "id": "Jicd0VZnB8l8",
        "outputId": "654002fe-9265-48e9-9223-4e10352185a4"
      },
      "source": [
        "from copy import deepcopy\n",
        "person1 = [\"Swen\", [\"Seestrasse\", \"Konstanz\"]]\n",
        "\n",
        "person2 = deepcopy(person1)\n",
        "person2[0] = \"Sarah\"\n",
        "person2[1][0] = \"Bücklestrasse\"\n",
        "\n",
        "print(person1)\n",
        "print(person2)\n",
        "\n",
        "# OK"
      ],
      "execution_count": null,
      "outputs": [
        {
          "output_type": "stream",
          "name": "stdout",
          "text": [
            "['Swen', ['Seestrasse', 'Konstanz']]\n",
            "['Sarah', ['Bücklestrasse', 'Konstanz']]\n"
          ]
        }
      ]
    },
    {
      "cell_type": "markdown",
      "metadata": {
        "id": "4nhbbrs0CYok"
      },
      "source": [
        "![](https://www.python-course.eu/images/copy_with_deepcopy_2_800w.webp)"
      ]
    },
    {
      "cell_type": "markdown",
      "metadata": {
        "id": "nvcGy8sIGzbR"
      },
      "source": [
        "#### Method split: string -> list of words"
      ]
    },
    {
      "cell_type": "code",
      "metadata": {
        "id": "0pjVR1njCUPM",
        "colab": {
          "base_uri": "https://localhost:8080/"
        },
        "outputId": "9e92bf87-4473-49db-fd1a-ba935f641f2e"
      },
      "source": [
        "words = 'Sasha went through the highway and did something'.split()\n",
        "words"
      ],
      "execution_count": null,
      "outputs": [
        {
          "output_type": "execute_result",
          "data": {
            "text/plain": [
              "['Sasha', 'went', 'through', 'the', 'highway', 'and', 'did', 'something']"
            ]
          },
          "metadata": {},
          "execution_count": 5
        }
      ]
    },
    {
      "cell_type": "markdown",
      "metadata": {
        "id": "bTaeCATGHFvO"
      },
      "source": [
        "#### del in python"
      ]
    },
    {
      "cell_type": "code",
      "metadata": {
        "colab": {
          "base_uri": "https://localhost:8080/"
        },
        "id": "OIS8RKdmG-gK",
        "outputId": "8a6aecd5-3bf3-4aeb-b863-386b3077dd52"
      },
      "source": [
        "del words[3:7]\n",
        "words"
      ],
      "execution_count": null,
      "outputs": [
        {
          "output_type": "execute_result",
          "data": {
            "text/plain": [
              "['Sasha', 'went', 'through', 'something']"
            ]
          },
          "metadata": {},
          "execution_count": 6
        }
      ]
    },
    {
      "cell_type": "code",
      "metadata": {
        "id": "tL-FACoFHQet"
      },
      "source": [
        ""
      ],
      "execution_count": null,
      "outputs": []
    }
  ]
}