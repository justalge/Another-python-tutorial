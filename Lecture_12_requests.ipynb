{
  "nbformat": 4,
  "nbformat_minor": 0,
  "metadata": {
    "colab": {
      "name": "Lecture 12. requests.ipynb",
      "provenance": [],
      "collapsed_sections": [],
      "authorship_tag": "ABX9TyOz0u2npZ/DvoCJ5fZ5sjOG",
      "include_colab_link": true
    },
    "kernelspec": {
      "name": "python3",
      "display_name": "Python 3"
    },
    "language_info": {
      "name": "python"
    }
  },
  "cells": [
    {
      "cell_type": "markdown",
      "metadata": {
        "id": "view-in-github",
        "colab_type": "text"
      },
      "source": [
        "<a href=\"https://colab.research.google.com/github/justalge/another_python_tutorial/blob/main/Lecture_12_requests.ipynb\" target=\"_parent\"><img src=\"https://colab.research.google.com/assets/colab-badge.svg\" alt=\"Open In Colab\"/></a>"
      ]
    },
    {
      "cell_type": "markdown",
      "metadata": {
        "id": "Gf_pWG1fndIo"
      },
      "source": [
        "#### В этом туториале мы попробуем получить ответ от [веб сервиса](http://www.cbs.dtu.dk/services/NetMHCpan/) внутри этого ноутбука, а не через браузер\n",
        "\n",
        "Импортируем нужные модули:"
      ]
    },
    {
      "cell_type": "code",
      "metadata": {
        "id": "Mt36MTr-xH4e"
      },
      "source": [
        "import requests"
      ],
      "execution_count": null,
      "outputs": []
    },
    {
      "cell_type": "markdown",
      "metadata": {
        "id": "qI4Ixs94nnme"
      },
      "source": [
        "#### Ссылка на скрипт на сервере, который обрабатывает изначальный POST запрос:\n",
        "\n",
        "Всегда, когда вы сабмитите форму в интернете, вы посылаете POST запрос скрипту адрес которого можно узнать просмотрев submitted form data. Загуглите \"how to view submitted form data\" или посмотрите вот это:\n",
        "\n",
        "https://www.youtube.com/watch?v=SvUqk683mSA\n",
        "\n",
        "https://wpscholar.com/blog/view-form-data-in-chrome/"
      ]
    },
    {
      "cell_type": "code",
      "metadata": {
        "id": "ZpcVQTtxxRu6"
      },
      "source": [
        "url = 'http://www.cbs.dtu.dk/cgi-bin/webface2.fcgi'"
      ],
      "execution_count": null,
      "outputs": []
    },
    {
      "cell_type": "markdown",
      "metadata": {
        "id": "WZll65hWosP8"
      },
      "source": [
        "#### Формируем данные формы (словарь `post_dadta` - это я его так назвал) - как их формировать смотри так же, как адрес обрабатывающего скрипта (ссылки выше) - и отправляем с помощью `requests` этот POST запрос:"
      ]
    },
    {
      "cell_type": "code",
      "metadata": {
        "id": "_krexwfv3fv3",
        "colab": {
          "base_uri": "https://localhost:8080/"
        },
        "outputId": "f8e2c555-dcb8-4492-d80a-b8582716ce76"
      },
      "source": [
        "post_data = {'configfile': '/usr/opt/www/pub/CBS/services/NetMHCpan-4.1/NetMHCpan.cf',\n",
        "                'inp': 0,\n",
        "                'SEQPASTE': 'NLVPMVATV',\n",
        "                'master': 1,\n",
        "                'thrs': 0.5,\n",
        "                'thrw': 2,\n",
        "                'threshold': -99\n",
        "            }\n",
        "r = requests.post(url, data=post_data)  # тут хранится ответ\n",
        "type(r)  # видим, что этот ответ упакован в экземпляр класса Response,\n",
        "         # который находится в папке (или файле) models, который находится в папке\n",
        "         # (папка всего модуля) requests"
      ],
      "execution_count": null,
      "outputs": [
        {
          "output_type": "execute_result",
          "data": {
            "text/plain": [
              "requests.models.Response"
            ]
          },
          "metadata": {
            "tags": []
          },
          "execution_count": 73
        }
      ]
    },
    {
      "cell_type": "code",
      "metadata": {
        "id": "sN9wj7GVqA_d"
      },
      "source": [
        "# Вот кстати все методы (функции) и атрибуты (свойства),\n",
        "# которые есть у этого объекта:\n",
        "\n",
        "# dir(r)"
      ],
      "execution_count": 1,
      "outputs": []
    },
    {
      "cell_type": "markdown",
      "metadata": {
        "id": "qFu_C5DCrusV"
      },
      "source": [
        "#### Среди всех прочих есть метод `.content`, по которому получаем ответ сервера в виде строки, которая является `html` размеченным текстом\n",
        "\n",
        "На этом движке взаимодействие с пользователем устроено так: сначала вы посылаете POST запрос и получаете ответ (это мы сделали). В этом ответе вам приходит информация о `jobid` - набор символов и букв, который вы (пользователи) посылаете уже другому скрипту-обработчику уже методом GET (просто в адресной строке). Мы достаем адрес второго обработчика из `r`, оттуда же достаем `jobid` и снова используем модуль `requests` для создания уже запроса GET:"
      ]
    },
    {
      "cell_type": "code",
      "metadata": {
        "colab": {
          "base_uri": "https://localhost:8080/"
        },
        "id": "-BR-NRSumHSc",
        "outputId": "74856b19-38ed-467f-893b-82e7653fe1eb"
      },
      "source": [
        "link = r.content[-120:-45]  # адрес второго обработчика (он такой же как и первый)\n",
        "                            # с приделанными к нему данными методом GET - в форме\n",
        "                            # 'key: value' после знака '?'\n",
        "print(link)\n",
        "jobid = link[-24:]\n",
        "url2 = link[:-31]\n",
        "print(jobid)\n",
        "print(url2)"
      ],
      "execution_count": null,
      "outputs": [
        {
          "output_type": "stream",
          "text": [
            "b'http://www.cbs.dtu.dk//cgi-bin/webface2.fcgi?jobid=6101365800005B22C53E54DA'\n",
            "b'6101365800005B22C53E54DA'\n",
            "b'http://www.cbs.dtu.dk//cgi-bin/webface2.fcgi'\n"
          ],
          "name": "stdout"
        }
      ]
    },
    {
      "cell_type": "markdown",
      "metadata": {
        "id": "wZoa0z_At_B0"
      },
      "source": [
        "#### Ну и наконец создаем новый запрос GET:\n",
        "\n",
        "Почему именно такой запрос, я узнал опять же просмотрев submitted form data в браузере, как описано по ссылкам выше"
      ]
    },
    {
      "cell_type": "code",
      "metadata": {
        "id": "WxkEswry5P-x"
      },
      "source": [
        "get_data = {'jobid': jobid,\n",
        "            'wait' : '20'\n",
        "            }\n",
        "result = requests.get(url2, params=get_data)"
      ],
      "execution_count": null,
      "outputs": []
    },
    {
      "cell_type": "code",
      "metadata": {
        "id": "3Bcn_vZ65VId",
        "colab": {
          "base_uri": "https://localhost:8080/"
        },
        "outputId": "d379f2cc-a56a-4393-9099-3267c7d1a06d"
      },
      "source": [
        "result.content  # тут находится нужный нам ответ в виде html строки"
      ],
      "execution_count": null,
      "outputs": [
        {
          "output_type": "execute_result",
          "data": {
            "text/plain": [
              "b'<html>\\n<title> NetMHCpan 4.1 Server - prediction results</title>\\n<body text=\"#000000\" bgcolor=\"#f8f8f8\"\\n      link=\"#FF3399\" vlink=\"#FF3399\" alink=\"#808080\">\\n<font face=\"ARIAL,HELVETICA\">\\n<br>\\n<table>\\n<tr><td><img src=\"/images/m_logo.gif\">\\n    <td>&nbsp;&nbsp;&nbsp;\\n    <td><h2>NetMHCpan Server - prediction results</h2>\\n        <h3>Technical University of Denmark</h3>\\n</table>\\n<br>\\n</font>\\n<hr>\\n<pre>\\n\\n# NetMHCpan version 4.1b\\n\\n# Tmpdir made /usr/opt/www/webface/tmp/server/netmhcpan/6101365800005B22C53E54DA/netMHCpanWfQpLk\\n# Input is in FSA format\\n\\n# Peptide length 8,9,10,11\\n\\n# Make EL predictions\\n\\nHLA-A02:01 : Distance to training data  0.000 (using nearest neighbor HLA-A02:01)\\n\\n# Rank Threshold for Strong binding peptides   0.500\\n# Rank Threshold for Weak binding peptides   2.000\\n---------------------------------------------------------------------------------------------------------------------------\\n Pos         MHC        Peptide      Core Of Gp Gl Ip Il        Icore        Identity  Score_EL %Rank_EL BindLevel\\n---------------------------------------------------------------------------------------------------------------------------\\n   1 HLA-A*02:01      NLVPMVATV NLVPMVATV  0  0  0  0  0    NLVPMVATV        Sequence 0.8323630    0.085 <= SB\\n   1 HLA-A*02:01       NLVPMVAT NLV-PMVAT  0  0  0  3  1     NLVPMVAT        Sequence 0.0008310   19.184\\n   2 HLA-A*02:01       LVPMVATV -LVPMVATV  0  0  0  0  1     LVPMVATV        Sequence 0.0170850    5.151\\n---------------------------------------------------------------------------------------------------------------------------\\n\\nProtein Sequence. Allele HLA-A*02:01. Number of high binders 1. Number of weak binders 0. Number of peptides 3\\n\\nLink to Allele Frequencies in Worldwide Populations <a href=\"http://www.allelefrequencies.net/hla6006a.asp?hla_selection=A02:01\" target=_blank >HLA-A02:01</a>\\n-----------------------------------------------------------------------------------\\n<font face=\"ARIAL,HELVETICA\">\\n<a href=\"/services/NetMHCpan-4.1/output.html\"\\ntarget=_blank><b>Explain</b></a> the output.  Go <a\\nhref=\"javascript:history.back()\"><b>back</b></a>.</font>\\n</pre>\\n\\n<hr>\\n</body>\\n</html>\\n'"
            ]
          },
          "metadata": {
            "tags": []
          },
          "execution_count": 93
        }
      ]
    },
    {
      "cell_type": "markdown",
      "metadata": {
        "id": "-TVG5IQRzAKj"
      },
      "source": [
        "#### Сохраним его в виде `html` странице на сервере колаба:"
      ]
    },
    {
      "cell_type": "code",
      "metadata": {
        "colab": {
          "base_uri": "https://localhost:8080/"
        },
        "id": "fLtcPzvanSAg",
        "outputId": "6c6ca909-7425-42f3-d228-6f4b5ff7c6f0"
      },
      "source": [
        "with open(\"results.html\", \"w\") as f:\n",
        "    f.write(str(result.text))\n",
        "!ls  # удостоверимся, что сохранили"
      ],
      "execution_count": null,
      "outputs": [
        {
          "output_type": "stream",
          "text": [
            "results.html  sample_data\n"
          ],
          "name": "stdout"
        }
      ]
    },
    {
      "cell_type": "markdown",
      "metadata": {
        "id": "_0eBCrEHzT7R"
      },
      "source": [
        "#### Ну и запустим вебсервер в колабе, чтобы просмотреть наш результат как веб страницу - нужно нажать на появившуюся ссылку и выбрать потом наш `html` файл (чтобы делать потом что-то еще нужно будет остановить вебсервер, остановив ячейку):"
      ]
    },
    {
      "cell_type": "code",
      "metadata": {
        "colab": {
          "base_uri": "https://localhost:8080/",
          "height": 238
        },
        "id": "l4K3oh1SxNlx",
        "outputId": "29dd747a-dcc9-41b2-cc09-ad93a537517e"
      },
      "source": [
        "from google.colab.output import eval_js\n",
        "print(eval_js(\"google.colab.kernel.proxyPort(8000)\"))\n",
        "# https://z4spb7cvssd-496ff2e9c6d22116-8000-colab.googleusercontent.com/\n",
        "!python -m http.server 8000"
      ],
      "execution_count": null,
      "outputs": [
        {
          "output_type": "stream",
          "text": [
            "https://mp1ubn0bvld-496ff2e9c6d22116-8000-colab.googleusercontent.com/\n",
            "Serving HTTP on 0.0.0.0 port 8000 (http://0.0.0.0:8000/) ...\n",
            "127.0.0.1 - - [28/Jul/2021 11:10:43] \"GET / HTTP/1.1\" 200 -\n",
            "127.0.0.1 - - [28/Jul/2021 11:10:46] code 404, message File not found\n",
            "127.0.0.1 - - [28/Jul/2021 11:10:46] \"GET /favicon.ico HTTP/1.1\" 404 -\n",
            "127.0.0.1 - - [28/Jul/2021 11:10:47] \"GET /results.html HTTP/1.1\" 200 -\n",
            "127.0.0.1 - - [28/Jul/2021 11:10:50] code 404, message File not found\n",
            "127.0.0.1 - - [28/Jul/2021 11:10:50] \"GET /images/m_logo.gif HTTP/1.1\" 404 -\n",
            "127.0.0.1 - - [28/Jul/2021 11:10:50] code 404, message File not found\n",
            "127.0.0.1 - - [28/Jul/2021 11:10:50] \"GET /favicon.ico HTTP/1.1\" 404 -\n",
            "\n",
            "Keyboard interrupt received, exiting.\n",
            "^C\n"
          ],
          "name": "stdout"
        }
      ]
    },
    {
      "cell_type": "markdown",
      "metadata": {
        "id": "XkguaHDGzyBN"
      },
      "source": [
        "Все."
      ]
    },
    {
      "cell_type": "code",
      "metadata": {
        "id": "QEi2YRTByMZw"
      },
      "source": [
        ""
      ],
      "execution_count": null,
      "outputs": []
    }
  ]
}