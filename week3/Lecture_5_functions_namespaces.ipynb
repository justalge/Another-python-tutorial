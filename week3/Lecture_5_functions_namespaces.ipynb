{
  "nbformat": 4,
  "nbformat_minor": 0,
  "metadata": {
    "colab": {
      "name": "Lecture 5. Functions. Namespaces.ipynb",
      "provenance": [],
      "collapsed_sections": [],
      "authorship_tag": "ABX9TyNYWhYrX/Uxl0akBAe8emEr",
      "include_colab_link": true
    },
    "kernelspec": {
      "name": "python3",
      "display_name": "Python 3"
    },
    "language_info": {
      "name": "python"
    }
  },
  "cells": [
    {
      "cell_type": "markdown",
      "metadata": {
        "id": "view-in-github",
        "colab_type": "text"
      },
      "source": [
        "<a href=\"https://colab.research.google.com/github/justalge/another_python_totorial/blob/main/week3/Lecture_5_functions_namespaces.ipynb\" target=\"_parent\"><img src=\"https://colab.research.google.com/assets/colab-badge.svg\" alt=\"Open In Colab\"/></a>"
      ]
    },
    {
      "cell_type": "markdown",
      "metadata": {
        "id": "Q-GCRn963caD"
      },
      "source": [
        "# Functions"
      ]
    },
    {
      "cell_type": "markdown",
      "metadata": {
        "id": "hwtel4Yi3aLk"
      },
      "source": [
        "What is a function in programming? In the most general sense, a function is a structuring element in programming languages to group a bunch of statements so they can be utilized in a program more than once. The only way to accomplish this without functions would be to reuse code by copying it and adapting it to different contexts, which would be a bad idea. Redundant code - repeating code in this case - should be avoided!\n",
        "\n",
        "Functions are known under various names in programming languages, e.g. as subroutines, routines, procedures, methods, or subprograms.\n",
        "\n",
        "#### Motivating Example of Functions"
      ]
    },
    {
      "cell_type": "code",
      "metadata": {
        "colab": {
          "base_uri": "https://localhost:8080/"
        },
        "id": "FNbML-JC3bnK",
        "outputId": "1fa8700d-3fe1-4d0c-8294-17a9b84c112e"
      },
      "source": [
        "print(\"Program starts\")\n",
        "\n",
        "print(\"Hi Peter\")\n",
        "print(\"Nice to see you again!\")\n",
        "print(\"Enjoy our video!\")\n",
        "print()\n",
        "\n",
        "# some lines of codes\n",
        "the_answer = 42 \n",
        "\n",
        "print(\"Hi Sarah\")\n",
        "print(\"Nice to see you again!\")\n",
        "print(\"Enjoy our video!\")\n",
        "print()\n",
        "\n",
        "width, length = 3, 4\n",
        "area = width * length\n",
        "\n",
        "print(\"Hi Dominque\")\n",
        "print(\"Nice to see you again!\")\n",
        "print(\"Enjoy our video!\")"
      ],
      "execution_count": null,
      "outputs": [
        {
          "output_type": "stream",
          "name": "stdout",
          "text": [
            "Program starts\n",
            "Hi Peter\n",
            "Nice to see you again!\n",
            "Enjoy our video!\n",
            "\n",
            "Hi Sarah\n",
            "Nice to see you again!\n",
            "Enjoy our video!\n",
            "\n",
            "Hi Dominque\n",
            "Nice to see you again!\n",
            "Enjoy our video!\n"
          ]
        }
      ]
    },
    {
      "cell_type": "markdown",
      "metadata": {
        "id": "T6Ow3Y8q4FzT"
      },
      "source": [
        "You can see in the code that we are greeting three persons. Every time we use three print calls which are nearly the same. Just the name is different. This is what we call redundant code. We are repeating the code the times. This shouldn't be the case. This is the point where functions can and should be used in Python."
      ]
    },
    {
      "cell_type": "code",
      "metadata": {
        "colab": {
          "base_uri": "https://localhost:8080/"
        },
        "id": "rt8i849E372-",
        "outputId": "d740ae19-a1d2-4618-acdf-3e00621aa73d"
      },
      "source": [
        "def greet(name):\n",
        "    print(\"Hi \" + name)\n",
        "    print(\"Nice to see you again!\")\n",
        "    print(\"Enjoy our video!\")\n",
        "    print()\n",
        "\n",
        "\n",
        "print(\"Program starts\")\n",
        "\n",
        "greet(\"Peter\")         \n",
        "\n",
        "\n",
        "# some lines of codes\n",
        "the_answer = 42 \n",
        "\n",
        "greet(\"Sarah\")      \n",
        "\n",
        "width, length = 3, 4\n",
        "area = width * length\n",
        "\n",
        "\n",
        "greet(\"Dominque\")"
      ],
      "execution_count": null,
      "outputs": [
        {
          "output_type": "stream",
          "name": "stdout",
          "text": [
            "Program starts\n",
            "Hi Peter\n",
            "Nice to see you again!\n",
            "Enjoy our video!\n",
            "\n",
            "Hi Sarah\n",
            "Nice to see you again!\n",
            "Enjoy our video!\n",
            "\n",
            "Hi Dominque\n",
            "Nice to see you again!\n",
            "Enjoy our video!\n",
            "\n"
          ]
        }
      ]
    },
    {
      "cell_type": "markdown",
      "metadata": {
        "id": "0zrH_D4g4eny"
      },
      "source": [
        "#### General definition:"
      ]
    },
    {
      "cell_type": "code",
      "metadata": {
        "id": "xqHUn0CR4Lr8"
      },
      "source": [
        "def function-name(Parameter list):\n",
        "    statements, i.e. the function body\n",
        "\n",
        "# or since 2010 we can specify the type of a parameter and the type of the return type of a function like this:\n",
        "\n",
        "def function-name(param1: type1, param2: type2, ...) -> return_type:\n",
        "    statements, i.e. the function body"
      ],
      "execution_count": null,
      "outputs": []
    },
    {
      "cell_type": "markdown",
      "metadata": {
        "id": "89RB9ScrV0WM"
      },
      "source": [
        "The parameter list consists of none or more parameters. Parameters are called arguments, if the function is called. The function body consists of indented statements. The function body gets executed every time the function is called:\n",
        "\n",
        "![](https://www.python-course.eu/images/function_call_1_800w.webp)"
      ]
    },
    {
      "cell_type": "code",
      "metadata": {
        "colab": {
          "base_uri": "https://localhost:8080/"
        },
        "id": "PGyFnEvf5oV3",
        "outputId": "62887add-a485-4d6a-a8fa-7e38516ea198"
      },
      "source": [
        "# The code from the picture can be seen in the following:\n",
        "\n",
        "def f(x, y):\n",
        "    z = 2 * (x + y)\n",
        "    return z\n",
        "\n",
        "\n",
        "print(\"Program starts!\")\n",
        "a = 3\n",
        "res1 = f(a, 2+a)\n",
        "print(\"Result of function call:\", res1)\n",
        "a = 4\n",
        "b = 7\n",
        "res2 = f(a, b)\n",
        "print(\"Result of function call:\", res2)"
      ],
      "execution_count": null,
      "outputs": [
        {
          "output_type": "stream",
          "name": "stdout",
          "text": [
            "Program starts!\n",
            "Result of function call: 16\n",
            "Result of function call: 22\n"
          ]
        }
      ]
    },
    {
      "cell_type": "markdown",
      "metadata": {
        "id": "YsfwFKckWOZG"
      },
      "source": [
        "We call the function twice in the program. The function has two parameters, which are called x and y. This means that the function f is expecting two values, or I should say \"two objects\". Firstly, we call this function with f(a, 2+a). This means that a goes to x and the result of 2+a (5) 'goes to' the variable y. The mechanism for assigning arguments to parameters is called argument passing. When we reach the return statement, the object referenced by z will be return, which means that it will be assigned to the variable res1. After leaving the function f, the variable z and the parameters x and y will be deleted automatically\n",
        "\n",
        "![](https://www.python-course.eu/images/function_call_2_800w.webp)\n",
        "\n",
        "The references to the objects can be seen in the next diagram:\n",
        "\n",
        "![](https://www.python-course.eu/images/function_call_3.webp)\n",
        "\n",
        "The next Python code block contains an example of a function without a return statement. We use the pass statement inside of this function. pass is a null operation. This means that when it is executed, nothing happens. It is useful as a placeholder in situations when a statement is required syntactically, but no code needs to be executed:"
      ]
    },
    {
      "cell_type": "code",
      "metadata": {
        "colab": {
          "base_uri": "https://localhost:8080/"
        },
        "id": "-uv00607Wrgc",
        "outputId": "7a33aec2-967a-4435-b826-2fda3aab3ced"
      },
      "source": [
        "def doNothing():\n",
        "    pass\n",
        "    # return None\n",
        "\n",
        "print(doNothing())\n",
        "\n",
        "# A more useful function:\n",
        "\n",
        "def fahrenheit(T_in_celsius):\n",
        "    \"\"\" returns the temperature in degrees Fahrenheit \"\"\"\n",
        "    return (T_in_celsius * 9 / 5) + 32\n",
        "\n",
        "for t in (22.6, 25.8, 27.3, 29.8):\n",
        "    print(t, \": \", fahrenheit(t))\n",
        "\n",
        "# \"\"\" returns the temperature in degrees Fahrenheit \"\"\" is the so-called docstring.\n",
        "# It is used by the help function:\n",
        "\n",
        "help(fahrenheit)"
      ],
      "execution_count": null,
      "outputs": [
        {
          "output_type": "stream",
          "name": "stdout",
          "text": [
            "None\n",
            "22.6 :  72.68\n",
            "25.8 :  78.44\n",
            "27.3 :  81.14\n",
            "29.8 :  85.64\n",
            "Help on function fahrenheit in module __main__:\n",
            "\n",
            "fahrenheit(T_in_celsius)\n",
            "    returns the temperature in degrees Fahrenheit\n",
            "\n"
          ]
        }
      ]
    },
    {
      "cell_type": "markdown",
      "metadata": {
        "id": "r-v5Oj8zTt9j"
      },
      "source": [
        "#### Does Python really generate new object for strings when append to them inplace?\n",
        "\n",
        "As of Python 2.4, the CPython implementation avoids creating a new string object when using strA += strB or strA = strA + strB, but this optimisation is both fragile and not portable. Since you use strA = strB + strA (prepending) the optimisation doesn't apply (https://stackoverflow.com/questions/37133547/time-complexity-of-string-concatenation-in-python)\n",
        "\n",
        "More about it: https://stackoverflow.com/questions/69079181/how-is-the-s-sc-string-concat-optimization-decided"
      ]
    },
    {
      "cell_type": "code",
      "metadata": {
        "colab": {
          "base_uri": "https://localhost:8080/"
        },
        "id": "q6_0pqzsZULE",
        "outputId": "77850169-fad0-4ff7-a582-746f9d24989b"
      },
      "source": [
        "%%time\n",
        "s = '1@' * 1000000\n",
        "\n",
        "ans = ''\n",
        "\n",
        "for char in s:\n",
        "    if char != '@':\n",
        "        ans += char"
      ],
      "execution_count": null,
      "outputs": [
        {
          "output_type": "stream",
          "name": "stdout",
          "text": [
            "CPU times: user 353 ms, sys: 2.19 ms, total: 355 ms\n",
            "Wall time: 369 ms\n"
          ]
        }
      ]
    },
    {
      "cell_type": "code",
      "metadata": {
        "colab": {
          "base_uri": "https://localhost:8080/"
        },
        "id": "B5FKlohZDky6",
        "outputId": "45d7ab8a-1a48-452d-8713-73a03e49d713"
      },
      "source": [
        "%%time\n",
        "s = '1@' * 1000000\n",
        "\n",
        "ans = ''\n",
        "\n",
        "for char in s:\n",
        "    if char != '@':\n",
        "        ans = ans + char"
      ],
      "execution_count": null,
      "outputs": [
        {
          "output_type": "stream",
          "name": "stdout",
          "text": [
            "CPU times: user 326 ms, sys: 0 ns, total: 326 ms\n",
            "Wall time: 330 ms\n"
          ]
        }
      ]
    },
    {
      "cell_type": "code",
      "metadata": {
        "colab": {
          "base_uri": "https://localhost:8080/"
        },
        "id": "EOtHAZIq7Oc4",
        "outputId": "ef0bf3d2-ba49-4dfb-e2ea-86afb2519897"
      },
      "source": [
        "%%time\n",
        "s = '1@' * 1000000\n",
        "\n",
        "ans = ''\n",
        "\n",
        "for char in s:\n",
        "    if char != '@':\n",
        "        ans = ans + char\n",
        "        x = ans"
      ],
      "execution_count": null,
      "outputs": [
        {
          "output_type": "stream",
          "name": "stdout",
          "text": [
            "CPU times: user 1min 8s, sys: 36.4 s, total: 1min 45s\n",
            "Wall time: 1min 45s\n"
          ]
        }
      ]
    },
    {
      "cell_type": "code",
      "metadata": {
        "id": "m5Z8wB5yaJil",
        "colab": {
          "base_uri": "https://localhost:8080/"
        },
        "outputId": "032779bf-5ebb-44eb-f3fb-80e468b639f5"
      },
      "source": [
        "%%time\n",
        "s = '1@' * 1000000\n",
        "\n",
        "ans = ''\n",
        "\n",
        "for char in s:\n",
        "    if char != '@':\n",
        "        ans = ans + char\n",
        "        x = ans\n",
        "        del x"
      ],
      "execution_count": null,
      "outputs": [
        {
          "output_type": "stream",
          "name": "stdout",
          "text": [
            "CPU times: user 419 ms, sys: 0 ns, total: 419 ms\n",
            "Wall time: 428 ms\n"
          ]
        }
      ]
    },
    {
      "cell_type": "code",
      "metadata": {
        "colab": {
          "base_uri": "https://localhost:8080/"
        },
        "id": "WduN5eIR_7fS",
        "outputId": "89b83e73-4f52-4a17-e0fb-201475604078"
      },
      "source": [
        "%%time\n",
        "s = '1@' * 1000000\n",
        "\n",
        "ans = []\n",
        "\n",
        "for char in s:\n",
        "    if char != '@':\n",
        "        ans += [char]"
      ],
      "execution_count": null,
      "outputs": [
        {
          "output_type": "stream",
          "name": "stdout",
          "text": [
            "CPU times: user 297 ms, sys: 448 µs, total: 297 ms\n",
            "Wall time: 302 ms\n"
          ]
        }
      ]
    },
    {
      "cell_type": "code",
      "metadata": {
        "colab": {
          "base_uri": "https://localhost:8080/"
        },
        "id": "gfnz5SoRZkX7",
        "outputId": "98129f34-9f2d-4dfe-f348-83d88e744b63"
      },
      "source": [
        "%%time\n",
        "s = '1@' * 1000000\n",
        "\n",
        "ans = []\n",
        "\n",
        "for char in s:\n",
        "    if char != '@':\n",
        "        ans = ans + [char]"
      ],
      "execution_count": null,
      "outputs": [
        {
          "output_type": "stream",
          "name": "stdout",
          "text": [
            "CPU times: user 51min 32s, sys: 1min 23s, total: 52min 55s\n",
            "Wall time: 53min 1s\n"
          ]
        }
      ]
    },
    {
      "cell_type": "code",
      "metadata": {
        "colab": {
          "base_uri": "https://localhost:8080/"
        },
        "id": "4Cnm2LZE7fSd",
        "outputId": "471e190f-1869-4780-9845-0d6fb4f6feee"
      },
      "source": [
        "%%time\n",
        "s = '1@' * 1000000\n",
        "\n",
        "s.replace('@', '')"
      ],
      "execution_count": null,
      "outputs": [
        {
          "output_type": "stream",
          "name": "stdout",
          "text": [
            "CPU times: user 18.9 ms, sys: 2.86 ms, total: 21.7 ms\n",
            "Wall time: 22 ms\n"
          ]
        }
      ]
    },
    {
      "cell_type": "markdown",
      "metadata": {
        "id": "KoYvz0kXTK0Z"
      },
      "source": [
        "#### Why functions are faster?\n",
        "\n",
        "and why (https://www.youtube.com/watch?v=GNPKBICTF2w)\n",
        "\n",
        "and why **for strong** (https://towardsdatascience.com/understanding-python-bytecode-e7edaae8734d - open it in private tab if can't open in normal)"
      ]
    },
    {
      "cell_type": "code",
      "metadata": {
        "colab": {
          "base_uri": "https://localhost:8080/"
        },
        "id": "dvfn_sCUSxQD",
        "outputId": "cea7891d-edd3-498d-d27a-ec54ecbccb56"
      },
      "source": [
        "%%time\n",
        "\n",
        "for i in range(10**8):\n",
        "    i"
      ],
      "execution_count": null,
      "outputs": [
        {
          "output_type": "stream",
          "name": "stdout",
          "text": [
            "CPU times: user 6.35 s, sys: 2.53 ms, total: 6.35 s\n",
            "Wall time: 6.36 s\n"
          ]
        }
      ]
    },
    {
      "cell_type": "code",
      "metadata": {
        "colab": {
          "base_uri": "https://localhost:8080/"
        },
        "id": "nxaS50Gie5Px",
        "outputId": "fce4249e-de47-488d-cc74-3487428a37e5"
      },
      "source": [
        "run_loop.__code__.co_code"
      ],
      "execution_count": null,
      "outputs": [
        {
          "output_type": "execute_result",
          "data": {
            "text/plain": [
              "b'x\\x14t\\x00d\\x01\\x83\\x01D\\x00]\\x08}\\x00|\\x00\\x01\\x00q\\nW\\x00d\\x00S\\x00'"
            ]
          },
          "metadata": {},
          "execution_count": 56
        }
      ]
    },
    {
      "cell_type": "code",
      "metadata": {
        "colab": {
          "base_uri": "https://localhost:8080/"
        },
        "id": "twlZiUYTS7vV",
        "outputId": "fbc3ce3b-5e9a-40d7-8ffe-f776eefb7f24"
      },
      "source": [
        "%%time\n",
        "\n",
        "def run_loop():\n",
        "    for i in range(10**8):\n",
        "        i\n",
        "\n",
        "run_loop()"
      ],
      "execution_count": null,
      "outputs": [
        {
          "output_type": "stream",
          "name": "stdout",
          "text": [
            "CPU times: user 3.62 s, sys: 0 ns, total: 3.62 s\n",
            "Wall time: 3.63 s\n"
          ]
        }
      ]
    },
    {
      "cell_type": "code",
      "metadata": {
        "id": "8zTuJ6PTTIXo"
      },
      "source": [
        "import dis"
      ],
      "execution_count": null,
      "outputs": []
    },
    {
      "cell_type": "code",
      "metadata": {
        "colab": {
          "base_uri": "https://localhost:8080/"
        },
        "id": "RGG9ZWReTTpT",
        "outputId": "7c8bc7fb-b871-45c0-ed2c-a222f32c7cdb"
      },
      "source": [
        "dis.dis('for i in range(10**8):\\n i')"
      ],
      "execution_count": null,
      "outputs": [
        {
          "output_type": "stream",
          "name": "stdout",
          "text": [
            "  1           0 SETUP_LOOP              20 (to 22)\n",
            "              2 LOAD_NAME                0 (range)\n",
            "              4 LOAD_CONST               0 (100000000)\n",
            "              6 CALL_FUNCTION            1\n",
            "              8 GET_ITER\n",
            "        >>   10 FOR_ITER                 8 (to 20)\n",
            "             12 STORE_NAME               1 (i)\n",
            "\n",
            "  2          14 LOAD_NAME                1 (i)\n",
            "             16 POP_TOP\n",
            "             18 JUMP_ABSOLUTE           10\n",
            "        >>   20 POP_BLOCK\n",
            "        >>   22 LOAD_CONST               1 (None)\n",
            "             24 RETURN_VALUE\n"
          ]
        }
      ]
    },
    {
      "cell_type": "code",
      "metadata": {
        "colab": {
          "base_uri": "https://localhost:8080/"
        },
        "id": "_D-xDbpdTe_x",
        "outputId": "4f461338-787e-4caa-bfaf-a569be261e2a"
      },
      "source": [
        "dis.dis(run_loop)"
      ],
      "execution_count": null,
      "outputs": [
        {
          "output_type": "stream",
          "name": "stdout",
          "text": [
            "  3           0 SETUP_LOOP              20 (to 22)\n",
            "              2 LOAD_GLOBAL              0 (range)\n",
            "              4 LOAD_CONST               1 (100000000)\n",
            "              6 CALL_FUNCTION            1\n",
            "              8 GET_ITER\n",
            "        >>   10 FOR_ITER                 8 (to 20)\n",
            "             12 STORE_FAST               0 (i)\n",
            "\n",
            "  4          14 LOAD_FAST                0 (i)\n",
            "             16 POP_TOP\n",
            "             18 JUMP_ABSOLUTE           10\n",
            "        >>   20 POP_BLOCK\n",
            "        >>   22 LOAD_CONST               0 (None)\n",
            "             24 RETURN_VALUE\n"
          ]
        }
      ]
    },
    {
      "cell_type": "markdown",
      "metadata": {
        "id": "e_0wrd2qXesq"
      },
      "source": [
        "#### Default arguments in Python\n",
        "\n",
        "When we define a Python function, we can set a default value to a parameter. If the function is called without the argument, this default value will be assigned to the parameter. This makes a parameter optional. To say it in other words: Default parameters are parameters, which don't have to be given, if the function is called. In this case, the default values are used\n",
        "\n",
        "We will demonstrate the operating principle of default parameters with a simple example. The following function hello, - which isn't very useful, - greets a person. If no name is given, it will greet everybody:"
      ]
    },
    {
      "cell_type": "code",
      "metadata": {
        "colab": {
          "base_uri": "https://localhost:8080/"
        },
        "id": "qMCnyP9ZTiMl",
        "outputId": "c0cb2c68-5f93-4052-d20d-9e0e50f8f0c2"
      },
      "source": [
        "def hello(name, p1=5, name=\"everybody\"):\n",
        "    \"\"\" Greets a person \"\"\"\n",
        "    result = \"Hello \" + name + \"!\"\n",
        "    print(result)\n",
        "    print(p1)\n",
        "\n",
        "hello(\"Peter\")\n",
        "hello('Ilja')"
      ],
      "execution_count": null,
      "outputs": [
        {
          "output_type": "stream",
          "name": "stdout",
          "text": [
            "Hello Peter!\n",
            "5\n",
            "Hello everybody!\n",
            "8\n"
          ]
        }
      ]
    },
    {
      "cell_type": "code",
      "metadata": {
        "colab": {
          "base_uri": "https://localhost:8080/"
        },
        "id": "w1opPVxhg99Z",
        "outputId": "d0b9c622-5e1c-49be-be79-6e40e7553572"
      },
      "source": [
        "res = hello('Peter')"
      ],
      "execution_count": null,
      "outputs": [
        {
          "output_type": "stream",
          "name": "stdout",
          "text": [
            "Hello Peter!\n"
          ]
        }
      ]
    },
    {
      "cell_type": "code",
      "metadata": {
        "colab": {
          "base_uri": "https://localhost:8080/"
        },
        "id": "ZE34Dkw6hHWM",
        "outputId": "f296a605-66dc-4380-bc9a-a2e7d664dca1"
      },
      "source": [
        "print(res)"
      ],
      "execution_count": null,
      "outputs": [
        {
          "output_type": "stream",
          "name": "stdout",
          "text": [
            "None\n"
          ]
        }
      ]
    },
    {
      "cell_type": "markdown",
      "metadata": {
        "id": "RwySza6iX9rZ"
      },
      "source": [
        "#### The Defaults Pitfall\n",
        "\n",
        "In the previous section we learned about default parameters. Default parameters are quite simple, but quite often programmers new to Python encounter a horrible and completely unexpected surprise. This surprise arises from the way Python treats the default arguments and the effects steming from mutable objects.\n",
        "\n",
        "Mutable objects are those which can be changed after creation. In Python, dictionaries are examples of mutable objects. Passing mutable lists or dictionaries as default arguments to a function can have unforeseen effects. Programmer who use lists or dictionaries as default arguments to a function, expect the program to create a new list or dictionary every time that the function is called. However, this is not what actually happens. Default values will not be created when a function is called. Default values are created exactly once, when the function is defined, i.e. at compile-time.\n",
        "\n",
        "Let us look at the following Python function \"spammer\" which is capable of creating a \"bag\" full of spam:"
      ]
    },
    {
      "cell_type": "code",
      "metadata": {
        "colab": {
          "base_uri": "https://localhost:8080/"
        },
        "id": "bz_rdj0eXsni",
        "outputId": "6c0e9e7c-fbf6-4ea5-a07b-61eec942120b"
      },
      "source": [
        "def spammer(bag=[]):\n",
        "    bag.append(\"spam\")\n",
        "    return bag\n",
        "\n",
        "spammer()"
      ],
      "execution_count": null,
      "outputs": [
        {
          "output_type": "execute_result",
          "data": {
            "text/plain": [
              "['spam']"
            ]
          },
          "metadata": {},
          "execution_count": 18
        }
      ]
    },
    {
      "cell_type": "code",
      "metadata": {
        "colab": {
          "base_uri": "https://localhost:8080/"
        },
        "id": "xA0WbY8gYZEI",
        "outputId": "0700fcd9-1054-4d8f-8146-5eb48d415c93"
      },
      "source": [
        "spammer()"
      ],
      "execution_count": null,
      "outputs": [
        {
          "output_type": "execute_result",
          "data": {
            "text/plain": [
              "['spam', 'spam']"
            ]
          },
          "metadata": {},
          "execution_count": 19
        }
      ]
    },
    {
      "cell_type": "code",
      "metadata": {
        "colab": {
          "base_uri": "https://localhost:8080/"
        },
        "id": "-BSF-B_UYeQA",
        "outputId": "3a50dfd6-df72-4c27-ac4b-490f4e54b0d7"
      },
      "source": [
        "# To understand what is going on, you have to know what happens when the\n",
        "# function is defined. The compiler creates an attribute __defaults__:\n",
        "\n",
        "def spammer(bag=[]):\n",
        "    bag.append(\"spam\")\n",
        "    return bag\n",
        "\n",
        "print(spammer.__defaults__)\n",
        "print()\n",
        "\n",
        "# Whenever we will call the function, the parameter bag will be assigned to the\n",
        "# list object referenced by spammer.__defaults__[0]:\n",
        "\n",
        "for i in range(5):\n",
        "    print(spammer())\n",
        "    \n",
        "print(\"spammer.__defaults__\", spammer.__defaults__)\n",
        "print()\n",
        "\n",
        "# Now, you know and understand what is going on, but you may ask yourself how to\n",
        "# overcome this problem. The solution consists in using the immutable value None\n",
        "# as the default. This way, the function can set bag dynamically (at run-time)\n",
        "# to an empty list:\n",
        "\n",
        "def spammer(bag=None):\n",
        "    if bag is None:\n",
        "        bag = []\n",
        "    bag.append(\"spam\")\n",
        "    return bag\n",
        "\n",
        "for i in range(5):\n",
        "    print(spammer())\n",
        "    \n",
        "print(\"spammer.__defaults__\", spammer.__defaults__)"
      ],
      "execution_count": null,
      "outputs": [
        {
          "output_type": "stream",
          "name": "stdout",
          "text": [
            "([],)\n",
            "\n",
            "['spam']\n",
            "['spam', 'spam']\n",
            "['spam', 'spam', 'spam']\n",
            "['spam', 'spam', 'spam', 'spam']\n",
            "['spam', 'spam', 'spam', 'spam', 'spam']\n",
            "spammer.__defaults__ (['spam', 'spam', 'spam', 'spam', 'spam'],)\n",
            "\n",
            "['spam']\n",
            "['spam']\n",
            "['spam']\n",
            "['spam']\n",
            "['spam']\n",
            "spammer.__defaults__ (None,)\n"
          ]
        }
      ]
    },
    {
      "cell_type": "code",
      "metadata": {
        "id": "VdPsO8-ak_wC"
      },
      "source": [
        "spammer()"
      ],
      "execution_count": null,
      "outputs": []
    },
    {
      "cell_type": "markdown",
      "metadata": {
        "id": "KT7fyZtjZcHw"
      },
      "source": [
        "#### Docstring\n",
        "\n",
        "The first statement in the body of a function is usually a string statement called a Docstring, which can be accessed with the function_name.\\_\\_doc__ For example:"
      ]
    },
    {
      "cell_type": "code",
      "metadata": {
        "colab": {
          "base_uri": "https://localhost:8080/"
        },
        "id": "cHJrQwgTYsEv",
        "outputId": "17727d8f-dc73-416c-8812-f9661880f9dc"
      },
      "source": [
        "def hello(name=\"everybody\"):\n",
        "    \"\"\" Greets a person \"\"\"\n",
        "    print(\"Hello \" + name + \"!\")\n",
        "\n",
        "print(\"The docstring of the function hello: \" + hello.__doc__)"
      ],
      "execution_count": null,
      "outputs": [
        {
          "output_type": "stream",
          "name": "stdout",
          "text": [
            "The docstring of the function hello:  Greets a person \n"
          ]
        }
      ]
    },
    {
      "cell_type": "markdown",
      "metadata": {
        "id": "IXPLM811Zuf8"
      },
      "source": [
        "#### Keyword Parameters\n",
        "\n",
        "Using keyword parameters is an alternative way to make function calls. The definition of the function doesn't change. An example:"
      ]
    },
    {
      "cell_type": "code",
      "metadata": {
        "colab": {
          "base_uri": "https://localhost:8080/"
        },
        "id": "34RV5xzXZr3A",
        "outputId": "77a79670-dd01-46d0-e52d-848926208da0"
      },
      "source": [
        "def sumsub(a, b, c=0, d=0):\n",
        "    return a - b + c - d\n",
        "\n",
        "print(sumsub(12, 4))\n",
        "print(sumsub(42, 15, d=10))\n",
        "print()\n",
        "\n",
        "# Keyword parameters can only be those, which are not used as positional arguments.\n",
        "# We can see the benefit in the example. If we hadn't had keyword parameters, the\n",
        "# second call to function would have needed all four arguments, even though the\n",
        "# c argument needs just the default value:\n",
        "\n",
        "print(sumsub(42,15,0,10))"
      ],
      "execution_count": null,
      "outputs": [
        {
          "output_type": "stream",
          "name": "stdout",
          "text": [
            "8\n",
            "17\n",
            "\n",
            "17\n"
          ]
        }
      ]
    },
    {
      "cell_type": "markdown",
      "metadata": {
        "id": "YrH03SNsaNeT"
      },
      "source": [
        "#### Return Values\n",
        "\n",
        "In our previous examples, we used a return statement in the function sumsub but not in Hello. So, we can see that it is not mandatory to have a return statement. But what will be returned, if we don't explicitly give a return statement. Let's see:"
      ]
    },
    {
      "cell_type": "code",
      "metadata": {
        "colab": {
          "base_uri": "https://localhost:8080/"
        },
        "id": "_PDdPk8qZ1RB",
        "outputId": "07471fa8-0aa4-4c66-c556-40043384d547"
      },
      "source": [
        "def no_return(x, y):\n",
        "    c = x + y\n",
        "\n",
        "res = no_return(4, 5)\n",
        "print(res)\n",
        "print()\n",
        "\n",
        "# If we start this little script, None will be printed, i.e. the special value\n",
        "# None will be returned by a return-less function. None will also be returned,\n",
        "# if we have just a return in a function without an expression:\n",
        "\n",
        "def empty_return(x, y):\n",
        "    c = x + y\n",
        "    return\n",
        "\n",
        "res = empty_return(4, 5)\n",
        "print(res)\n",
        "print()\n",
        "\n",
        "# Otherwise the value of the expression following return will be returned. In\n",
        "# the next example 9 will be printed:\n",
        "\n",
        "def return_sum(x, y):\n",
        "    c = x + y\n",
        "    return c\n",
        "\n",
        "res = return_sum(4, 5)\n",
        "print(res)"
      ],
      "execution_count": null,
      "outputs": [
        {
          "output_type": "stream",
          "name": "stdout",
          "text": [
            "None\n",
            "\n",
            "None\n",
            "\n",
            "9\n"
          ]
        }
      ]
    },
    {
      "cell_type": "markdown",
      "metadata": {
        "id": "eQpPqzZJayVY"
      },
      "source": [
        "Let's summarize this behavior: Function bodies can contain one or more return statements. They can be situated anywhere in the function body. A return statement ends the execution of the function call and \"returns\" the result, i.e. the value of the expression following the return keyword, to the caller. If the return statement is without an expression, the special value None is returned. If there is no return statement in the function code, the function ends, when the control flow reaches the end of the function body and the value None will be returned."
      ]
    },
    {
      "cell_type": "markdown",
      "metadata": {
        "id": "1zwzoHPXa2SG"
      },
      "source": [
        "#### Returning Multiple Values\n",
        "\n",
        "A function can return exactly one value, or we should better say one object. An object can be a numerical value, like an integer or a float. But it can also be e.g. a list or a dictionary. So, if we have to return, for example, 3 integer values, we can return a list or a tuple with these three integer values. That is, we can indirectly return multiple values. The following example, which is calculating the Fibonacci boundary for a positive number, returns a 2-tuple. The first element is the Largest Fibonacci Number smaller than x and the second component is the Smallest Fibonacci Number larger than x. The return value is immediately stored via unpacking into the variables lub and sup:"
      ]
    },
    {
      "cell_type": "code",
      "metadata": {
        "colab": {
          "base_uri": "https://localhost:8080/",
          "height": 351
        },
        "id": "oYeT8xjHa1tD",
        "outputId": "5469c39d-2961-4eb9-c3dd-4e4f00ca5922"
      },
      "source": [
        "def fib_interval(x):\n",
        "    \"\"\" returns the largest fibonacci\n",
        "    number smaller than x and the lowest\n",
        "    fibonacci number higher than x\"\"\"\n",
        "    if x < 0:\n",
        "        return -1\n",
        "    old, new = 0, 1\n",
        "    while True:\n",
        "        if new < x:\n",
        "            old, new = new, old+new\n",
        "        else:\n",
        "            if new == x: \n",
        "                new = old + new\n",
        "            return old, new\n",
        "            \n",
        "while True:\n",
        "    x = int(input(\"Your number: \"))\n",
        "    if x <= 0:\n",
        "        break\n",
        "    lub, sup = fib_interval(x)\n",
        "    print(\"Largest Fibonacci Number smaller than x: \" + str(lub))\n",
        "    print(\"Smallest Fibonacci Number larger than x: \" + str(sup))"
      ],
      "execution_count": null,
      "outputs": [
        {
          "name": "stdout",
          "output_type": "stream",
          "text": [
            "Your number: 7\n",
            "Largest Fibonacci Number smaller than x: 5\n",
            "Smallest Fibonacci Number larger than x: 8\n",
            "Your number: 9\n",
            "Largest Fibonacci Number smaller than x: 8\n",
            "Smallest Fibonacci Number larger than x: 13\n",
            "Your number: \n"
          ]
        },
        {
          "output_type": "error",
          "ename": "ValueError",
          "evalue": "ignored",
          "traceback": [
            "\u001b[0;31m---------------------------------------------------------------------------\u001b[0m",
            "\u001b[0;31mValueError\u001b[0m                                Traceback (most recent call last)",
            "\u001b[0;32m<ipython-input-32-c34740ebb2ca>\u001b[0m in \u001b[0;36m<module>\u001b[0;34m()\u001b[0m\n\u001b[1;32m     15\u001b[0m \u001b[0;34m\u001b[0m\u001b[0m\n\u001b[1;32m     16\u001b[0m \u001b[0;32mwhile\u001b[0m \u001b[0;32mTrue\u001b[0m\u001b[0;34m:\u001b[0m\u001b[0;34m\u001b[0m\u001b[0;34m\u001b[0m\u001b[0m\n\u001b[0;32m---> 17\u001b[0;31m     \u001b[0mx\u001b[0m \u001b[0;34m=\u001b[0m \u001b[0mint\u001b[0m\u001b[0;34m(\u001b[0m\u001b[0minput\u001b[0m\u001b[0;34m(\u001b[0m\u001b[0;34m\"Your number: \"\u001b[0m\u001b[0;34m)\u001b[0m\u001b[0;34m)\u001b[0m\u001b[0;34m\u001b[0m\u001b[0;34m\u001b[0m\u001b[0m\n\u001b[0m\u001b[1;32m     18\u001b[0m     \u001b[0;32mif\u001b[0m \u001b[0mx\u001b[0m \u001b[0;34m<=\u001b[0m \u001b[0;36m0\u001b[0m\u001b[0;34m:\u001b[0m\u001b[0;34m\u001b[0m\u001b[0;34m\u001b[0m\u001b[0m\n\u001b[1;32m     19\u001b[0m         \u001b[0;32mbreak\u001b[0m\u001b[0;34m\u001b[0m\u001b[0;34m\u001b[0m\u001b[0m\n",
            "\u001b[0;31mValueError\u001b[0m: invalid literal for int() with base 10: ''"
          ]
        }
      ]
    },
    {
      "cell_type": "markdown",
      "metadata": {
        "id": "5Yz8D5l3bZ9-"
      },
      "source": [
        "#### Local and Global Variables in Functions\n",
        "\n",
        "The way Python uses global and local variables is maverick. While in many or most other programming languages variables are treated as global if not declared otherwise, Python deals with variables the other way around. They are local, if not otherwise declared. The driving reason behind this approach is that global variables are generally bad practice and should be avoided. In most cases where you are tempted to use a global variable, it is better to utilize a parameter for getting a value into a function or return a value to get it out. Like in many other program structures, Python also imposes good programming habit by design.\n",
        "\n",
        "Variable names are by default local to the function, in which they get defined.\n",
        "\n",
        "So when you define variables inside a function definition, they are local to this function by default. That is, anything you will do to such a variable in the body of the function will have no effect on other variables outside of the function, even if they have the same name. In other words, the function body is the scope of such a variable, i.e. the enclosing context where this name is associated with its values.\n",
        "\n",
        "All variables have the scope of the block, where they are declared and defined. They can only be used after the point of their declaration.\n",
        "\n",
        "Just to make things clear: Variables don't have to be and can't be declared in the way they are declared in programming languages like Java or C. Variables in Python are implicitly declared by defining them, i.e. the first time you assign a value to a variable, this variable is declared and has automatically the data type of the object which has to be assigned to it.\n"
      ]
    },
    {
      "cell_type": "code",
      "metadata": {
        "colab": {
          "base_uri": "https://localhost:8080/"
        },
        "id": "sMIIfaOZaUv1",
        "outputId": "8cc21247-d71b-4202-aefd-c494d2380669"
      },
      "source": [
        "def f(): \n",
        "    print(s)      # free occurrence of s in f\n",
        "    \n",
        "s = \"Python\"\n",
        "f()"
      ],
      "execution_count": null,
      "outputs": [
        {
          "output_type": "stream",
          "name": "stdout",
          "text": [
            "Python\n"
          ]
        }
      ]
    },
    {
      "cell_type": "code",
      "metadata": {
        "colab": {
          "base_uri": "https://localhost:8080/"
        },
        "id": "LbkufVPUbkY5",
        "outputId": "b95dac80-79f8-4b91-d46d-88a414304823"
      },
      "source": [
        "def f(): \n",
        "    s = \"Perl\"     # now s is local in f\n",
        "    print(s)\n",
        "    \n",
        "s = \"Python\"\n",
        "f()\n",
        "print(s)"
      ],
      "execution_count": null,
      "outputs": [
        {
          "output_type": "stream",
          "name": "stdout",
          "text": [
            "Perl\n",
            "Python\n"
          ]
        }
      ]
    },
    {
      "cell_type": "code",
      "metadata": {
        "colab": {
          "base_uri": "https://localhost:8080/",
          "height": 334
        },
        "id": "6uSLe2pNbmxz",
        "outputId": "a1b3dc8c-f8c8-4c77-b0db-0ca1e5d067d1"
      },
      "source": [
        "def f(): \n",
        "    print(s)        # This means a free occurrence, contradiction to being local\n",
        "    s = \"Perl\"      # This makes s local in f\n",
        "    print(s)\n",
        "\n",
        "\n",
        "s = \"Python\" \n",
        "f()\n",
        "print(s)\n",
        "\n",
        "# The variable s is ambigious in f(), i.e. in the first print in f() the global s\n",
        "# could be used with the value \"Python\". After this we define a local variable s\n",
        "# with the assignment s = \"Perl"
      ],
      "execution_count": null,
      "outputs": [
        {
          "output_type": "error",
          "ename": "UnboundLocalError",
          "evalue": "ignored",
          "traceback": [
            "\u001b[0;31m---------------------------------------------------------------------------\u001b[0m",
            "\u001b[0;31mUnboundLocalError\u001b[0m                         Traceback (most recent call last)",
            "\u001b[0;32m<ipython-input-35-4044e6be0220>\u001b[0m in \u001b[0;36m<module>\u001b[0;34m()\u001b[0m\n\u001b[1;32m      6\u001b[0m \u001b[0;34m\u001b[0m\u001b[0m\n\u001b[1;32m      7\u001b[0m \u001b[0ms\u001b[0m \u001b[0;34m=\u001b[0m \u001b[0;34m\"Python\"\u001b[0m\u001b[0;34m\u001b[0m\u001b[0;34m\u001b[0m\u001b[0m\n\u001b[0;32m----> 8\u001b[0;31m \u001b[0mf\u001b[0m\u001b[0;34m(\u001b[0m\u001b[0;34m)\u001b[0m\u001b[0;34m\u001b[0m\u001b[0;34m\u001b[0m\u001b[0m\n\u001b[0m\u001b[1;32m      9\u001b[0m \u001b[0mprint\u001b[0m\u001b[0;34m(\u001b[0m\u001b[0ms\u001b[0m\u001b[0;34m)\u001b[0m\u001b[0;34m\u001b[0m\u001b[0;34m\u001b[0m\u001b[0m\n",
            "\u001b[0;32m<ipython-input-35-4044e6be0220>\u001b[0m in \u001b[0;36mf\u001b[0;34m()\u001b[0m\n\u001b[1;32m      1\u001b[0m \u001b[0;32mdef\u001b[0m \u001b[0mf\u001b[0m\u001b[0;34m(\u001b[0m\u001b[0;34m)\u001b[0m\u001b[0;34m:\u001b[0m\u001b[0;34m\u001b[0m\u001b[0;34m\u001b[0m\u001b[0m\n\u001b[0;32m----> 2\u001b[0;31m     \u001b[0mprint\u001b[0m\u001b[0;34m(\u001b[0m\u001b[0ms\u001b[0m\u001b[0;34m)\u001b[0m        \u001b[0;31m# This means a free occurrence, contradiction to bein local\u001b[0m\u001b[0;34m\u001b[0m\u001b[0;34m\u001b[0m\u001b[0m\n\u001b[0m\u001b[1;32m      3\u001b[0m     \u001b[0ms\u001b[0m \u001b[0;34m=\u001b[0m \u001b[0;34m\"Perl\"\u001b[0m      \u001b[0;31m# This makes s local in f\u001b[0m\u001b[0;34m\u001b[0m\u001b[0;34m\u001b[0m\u001b[0m\n\u001b[1;32m      4\u001b[0m     \u001b[0mprint\u001b[0m\u001b[0;34m(\u001b[0m\u001b[0ms\u001b[0m\u001b[0;34m)\u001b[0m\u001b[0;34m\u001b[0m\u001b[0;34m\u001b[0m\u001b[0m\n\u001b[1;32m      5\u001b[0m \u001b[0;34m\u001b[0m\u001b[0m\n",
            "\u001b[0;31mUnboundLocalError\u001b[0m: local variable 's' referenced before assignment"
          ]
        }
      ]
    },
    {
      "cell_type": "code",
      "metadata": {
        "colab": {
          "base_uri": "https://localhost:8080/"
        },
        "id": "etswsPvebsYe",
        "outputId": "f0b258fb-13b9-417f-b590-72c8c1f46f8f"
      },
      "source": [
        "def f():\n",
        "    global s\n",
        "    print(s)\n",
        "    s = \"dog\"\n",
        "    print(s) \n",
        "s = \"cat\" \n",
        "f()\n",
        "print(s)\n",
        "\n",
        "# We made the variable s global inside of the script. Therefore anything we do\n",
        "# to s inside of the function body of f is done to the global variable s outside\n",
        "# of f."
      ],
      "execution_count": null,
      "outputs": [
        {
          "output_type": "stream",
          "name": "stdout",
          "text": [
            "cat\n",
            "dog\n",
            "dog\n"
          ]
        }
      ]
    },
    {
      "cell_type": "markdown",
      "metadata": {
        "id": "tZx268T5w7XS"
      },
      "source": [
        "Local variables of functions can't be accessed from outside, when the function call has finished. Here is the continuation of the previous example:"
      ]
    },
    {
      "cell_type": "code",
      "metadata": {
        "colab": {
          "base_uri": "https://localhost:8080/"
        },
        "id": "-DN9Tbkxw-1v",
        "outputId": "67c64382-096b-4783-d60c-1c010147bb77"
      },
      "source": [
        "def f():\n",
        "    s = \"I am globally not known\"\n",
        "    print(s) \n",
        "\n",
        "f()\n",
        "print(s)"
      ],
      "execution_count": null,
      "outputs": [
        {
          "output_type": "stream",
          "name": "stdout",
          "text": [
            "I am globally not known\n",
            "Python\n"
          ]
        }
      ]
    },
    {
      "cell_type": "markdown",
      "metadata": {
        "id": "54FvuUeMxGNE"
      },
      "source": [
        "The following example shows a wild combination of local and global variables and function parameters:"
      ]
    },
    {
      "cell_type": "code",
      "metadata": {
        "colab": {
          "base_uri": "https://localhost:8080/"
        },
        "id": "aZdBM_huxHdc",
        "outputId": "76814fcb-24f6-4961-e3c8-51304fc8d2fb"
      },
      "source": [
        "def foo(x, y):\n",
        "    global a\n",
        "    a = 42\n",
        "    x,y = y,x\n",
        "    b = 33\n",
        "    b = 17\n",
        "    c = 100\n",
        "    print(a,b,x,y)\n",
        "\n",
        "a, b, x, y = 1, 15, 3,4 \n",
        "foo(17, 4)\n",
        "print(a, b, x, y)"
      ],
      "execution_count": null,
      "outputs": [
        {
          "output_type": "stream",
          "name": "stdout",
          "text": [
            "42 17 4 17\n",
            "42 15 3 4\n"
          ]
        }
      ]
    },
    {
      "cell_type": "markdown",
      "metadata": {
        "id": "uWNFjpPDxVxg"
      },
      "source": [
        "#### Global Variables in Nested Functions\n",
        "\n",
        "We will examine now what will happen, if we use the global keyword inside nested functions. The following example shows a situation where a variable 'city' is used in various scopes:"
      ]
    },
    {
      "cell_type": "code",
      "metadata": {
        "colab": {
          "base_uri": "https://localhost:8080/"
        },
        "id": "aj5jAPYvxXxx",
        "outputId": "e8c49b97-fb3b-4891-8eee-1a5841c0359b"
      },
      "source": [
        "def f():\n",
        "    city = \"Hamburg\"\n",
        "    def g():\n",
        "        global city\n",
        "        city = \"Geneva\"\n",
        "    print(\"Before calling g: \" + city)\n",
        "    print(\"Calling g now:\")\n",
        "    g()\n",
        "    print(\"After calling g: \" + city)\n",
        "    \n",
        "f()\n",
        "print(\"Value of city in main: \" + city)"
      ],
      "execution_count": null,
      "outputs": [
        {
          "output_type": "stream",
          "name": "stdout",
          "text": [
            "Before calling g: Hamburg\n",
            "Calling g now:\n",
            "After calling g: Hamburg\n",
            "Value of city in main: Geneva\n"
          ]
        }
      ]
    },
    {
      "cell_type": "markdown",
      "metadata": {
        "id": "WgEcO03_xxOK"
      },
      "source": [
        "We can see that the global statement inside the nested function g does not affect the variable 'city' of the function f, i.e. it keeps its value 'Hamburg'. We can also deduce from this example that after calling f() a variable 'city' exists in the module namespace and has the value 'Geneva'. This means that the global keyword in nested functions does not affect the namespace of their enclosing namespace! This is consistent to what we have found out in the previous subchapter: A variable defined inside of a function is local unless it is explicitly marked as global. In other words, we can refer to a variable name in any enclosing scope, but we can only rebind variable names in the local scope by assigning to it or in the module-global scope by using a global declaration. We need a way to access variables of other scopes as well. The way to do this are nonlocal definitions, which we will explain in the next chapter.\n",
        "\n",
        "#### nonlocal Variables\n",
        "\n",
        "Python3 introduced nonlocal variables as a new kind of variables. nonlocal variables have a lot in common with global variables. One difference to global variables lies in the fact that it is not possible to change variables from the module scope, i.e. variables which are not defined inside of a function, by using the nonlocal statement. We show this in the two following examples:"
      ]
    },
    {
      "cell_type": "code",
      "metadata": {
        "colab": {
          "base_uri": "https://localhost:8080/"
        },
        "id": "BJanbpzqxiBA",
        "outputId": "08a3842f-3cfb-4f1a-92ca-5197594aa808"
      },
      "source": [
        "def f():\n",
        "    global city\n",
        "    print(city)\n",
        "    \n",
        "city = \"Frankfurt\"\n",
        "f()"
      ],
      "execution_count": null,
      "outputs": [
        {
          "output_type": "stream",
          "name": "stdout",
          "text": [
            "Frankfurt\n"
          ]
        }
      ]
    },
    {
      "cell_type": "markdown",
      "metadata": {
        "id": "ual4WWeLyw9o"
      },
      "source": [
        "This program is correct and returns 'Frankfurt' as the output. We will change \"global\" to \"nonlocal\" in the following program:"
      ]
    },
    {
      "cell_type": "code",
      "metadata": {
        "colab": {
          "base_uri": "https://localhost:8080/",
          "height": 130
        },
        "id": "7jzhlMaGyyLF",
        "outputId": "f32a8c45-58c1-472b-a394-9d76581d7170"
      },
      "source": [
        "def f():\n",
        "    nonlocal city\n",
        "    print(city)\n",
        "    \n",
        "city = \"Frankfurt\"\n",
        "f()"
      ],
      "execution_count": null,
      "outputs": [
        {
          "output_type": "error",
          "ename": "SyntaxError",
          "evalue": "ignored",
          "traceback": [
            "\u001b[0;36m  File \u001b[0;32m\"<ipython-input-56-97bb311dfb80>\"\u001b[0;36m, line \u001b[0;32m2\u001b[0m\n\u001b[0;31m    nonlocal city\u001b[0m\n\u001b[0m    ^\u001b[0m\n\u001b[0;31mSyntaxError\u001b[0m\u001b[0;31m:\u001b[0m no binding for nonlocal 'city' found\n"
          ]
        }
      ]
    },
    {
      "cell_type": "markdown",
      "metadata": {
        "id": "1TtrkhLCzZEq"
      },
      "source": [
        "This shows that nonlocal bindings can only be used inside of nested functions. A nonlocal variable has to be defined in the enclosing function scope. If the variable is not defined in the enclosing function scope, the variable cannot be defined in the nested scope. This is another difference to the \"global\" semantics."
      ]
    },
    {
      "cell_type": "code",
      "metadata": {
        "colab": {
          "base_uri": "https://localhost:8080/"
        },
        "id": "FuOt42_sznkl",
        "outputId": "0988a55c-9873-4461-ca2c-92bcdc99958b"
      },
      "source": [
        "def f():\n",
        "    city = \"Munich\"\n",
        "    def g():\n",
        "        nonlocal city\n",
        "        city = \"Zurich\"\n",
        "    print(\"Before calling g: \" + city)\n",
        "    print(\"Calling g now:\")\n",
        "    g()\n",
        "    print(\"After calling g: \" + city)\n",
        "    \n",
        "city = \"Stuttgart\"\n",
        "f()\n",
        "print(\"'city' in main: \" + city)"
      ],
      "execution_count": null,
      "outputs": [
        {
          "output_type": "stream",
          "name": "stdout",
          "text": [
            "Before calling g: Munich\n",
            "Calling g now:\n",
            "After calling g: Zurich\n",
            "'city' in main: Stuttgart\n"
          ]
        }
      ]
    },
    {
      "cell_type": "markdown",
      "metadata": {
        "id": "Cq2QPWYD0G7R"
      },
      "source": [
        "In the previous example the variable 'city' was defined prior to the call of g. We get an error if it isn't defined:"
      ]
    },
    {
      "cell_type": "code",
      "metadata": {
        "colab": {
          "base_uri": "https://localhost:8080/"
        },
        "id": "iSKoRl970LB_",
        "outputId": "eb4ef676-818f-4eb6-d132-d1538cf37846"
      },
      "source": [
        "def f():\n",
        "    city = \"Munich\"\n",
        "    def g():\n",
        "        nonlocal city\n",
        "        city = \"Zurich\"\n",
        "    print(\"Before calling g: \" + city)\n",
        "    print(\"Calling g now:\")\n",
        "    g()\n",
        "    print(\"After calling g: \" + city)\n",
        "    \n",
        "city = \"Stuttgart\"\n",
        "f()\n",
        "print(\"'city' in main: \" + city)"
      ],
      "execution_count": null,
      "outputs": [
        {
          "output_type": "stream",
          "name": "stdout",
          "text": [
            "Before calling g: Munich\n",
            "Calling g now:\n",
            "After calling g: Zurich\n",
            "'city' in main: Stuttgart\n"
          ]
        }
      ]
    },
    {
      "cell_type": "markdown",
      "metadata": {
        "id": "H1gw5TNB0T9s"
      },
      "source": [
        "The program works fine - with or without the line 'city = \"Munich\"' inside of f - , if we change \"nonlocal\" to \"global\":"
      ]
    },
    {
      "cell_type": "code",
      "metadata": {
        "colab": {
          "base_uri": "https://localhost:8080/"
        },
        "id": "Thxq4a0F0VPk",
        "outputId": "089e01fa-daee-4221-aca0-acc8a4d4d744"
      },
      "source": [
        "def f():\n",
        "    city = \"Munich\"\n",
        "    def g():\n",
        "        global city\n",
        "        city = \"Zurich\"\n",
        "    print(\"Before calling g: \" + city)\n",
        "    print(\"Calling g now:\")\n",
        "    g()\n",
        "    print(\"After calling g: \" + city)\n",
        "    \n",
        "city = \"Stuttgart\"\n",
        "f()\n",
        "print(\"'city' in main: \" + city)"
      ],
      "execution_count": null,
      "outputs": [
        {
          "output_type": "stream",
          "name": "stdout",
          "text": [
            "Before calling g: Munich\n",
            "Calling g now:\n",
            "After calling g: Munich\n",
            "'city' in main: Zurich\n"
          ]
        }
      ]
    },
    {
      "cell_type": "markdown",
      "metadata": {
        "id": "UOYuiEcpcGuX"
      },
      "source": [
        "#### Arbitrary Number of Parameters\n",
        "\n",
        "There are many situations in programming, in which the exact number of necessary parameters cannot be determined a-priori. An arbitrary parameter number can be accomplished in Python with so-called tuple references. An asterisk \"*\" is used in front of the last parameter name to denote it as a tuple reference. This asterisk shouldn't be mistaken for the C syntax, where this notation is connected with pointers. Example:"
      ]
    },
    {
      "cell_type": "code",
      "metadata": {
        "colab": {
          "base_uri": "https://localhost:8080/"
        },
        "id": "1ppYgU4fb7SU",
        "outputId": "5fc917a6-95de-41fd-dca9-1bbbff8eed83"
      },
      "source": [
        "def arithmetic_mean(first, *values):\n",
        "    \"\"\" This function calculates the arithmetic mean of a non-empty\n",
        "        arbitrary number of numerical values \"\"\"\n",
        "    print(type(values))\n",
        "\n",
        "    return (first + sum(values)) / (1 + len(values))\n",
        "\n",
        "print(arithmetic_mean(45,32,89,78))\n",
        "print(arithmetic_mean(8989.8,78787.78,3453,78778.73))\n",
        "print(arithmetic_mean(45,32))\n",
        "print(arithmetic_mean(45))"
      ],
      "execution_count": null,
      "outputs": [
        {
          "output_type": "stream",
          "name": "stdout",
          "text": [
            "<class 'tuple'>\n",
            "61.0\n",
            "<class 'tuple'>\n",
            "42502.3275\n",
            "<class 'tuple'>\n",
            "38.5\n",
            "<class 'tuple'>\n",
            "45.0\n"
          ]
        }
      ]
    },
    {
      "cell_type": "code",
      "metadata": {
        "colab": {
          "base_uri": "https://localhost:8080/"
        },
        "id": "UL8f3ZkycmqN",
        "outputId": "ae8e372c-fff7-45b7-93d0-9017536d50a6"
      },
      "source": [
        "# This is great, but we have still have one problem. You may have a list of\n",
        "# numerical values. Like, for example:\n",
        "\n",
        "x = [3, 5, 9]\n",
        "\n",
        "# You cannot call it with `arithmetic_mean(x)`\n",
        "# because \"arithmetic_mean\" can't cope with a list. Calling it with\n",
        "# `arithmetic_mean(x[0], x[1], x[2])`\n",
        "# is cumbersome and above all impossible inside of a program, because list can\n",
        "# be of arbitrary length\n",
        "\n",
        "# The solution is easy: The star operator. We add a star in front of the x, when\n",
        "# we call the function:\n",
        "\n",
        "arithmetic_mean(*x)\n",
        "\n",
        "# This will \"unpack\" or singularize the list."
      ],
      "execution_count": null,
      "outputs": [
        {
          "output_type": "execute_result",
          "data": {
            "text/plain": [
              "5.666666666666667"
            ]
          },
          "metadata": {},
          "execution_count": 39
        }
      ]
    },
    {
      "cell_type": "code",
      "metadata": {
        "colab": {
          "base_uri": "https://localhost:8080/"
        },
        "id": "TeBymiTZdGtC",
        "outputId": "ce8fd86b-7f75-448e-9dd7-2e4ac08e7f5e"
      },
      "source": [
        "# A practical example for zip and the star or asterisk operator: We have a list\n",
        "# of 4, 2-tuple elements:\n",
        "\n",
        "my_list = [('a', 232), \n",
        "           ('b', 343), \n",
        "           ('c', 543), \n",
        "           ('d', 23)]\n",
        "\n",
        "# We want to turn this list into the following 2 element, 4-tuple list:\n",
        "\n",
        "[('a', 'b', 'c', 'd'),\n",
        "(232, 343, 543, 23)]\n",
        "\n",
        "# This can be done by using the *-operator and the zip function in the following way:\n",
        "\n",
        "list(zip(*my_list))"
      ],
      "execution_count": null,
      "outputs": [
        {
          "output_type": "execute_result",
          "data": {
            "text/plain": [
              "[('a', 'b', 'c', 'd'), (232, 343, 543, 23)]"
            ]
          },
          "metadata": {},
          "execution_count": 40
        }
      ]
    },
    {
      "cell_type": "markdown",
      "metadata": {
        "id": "FNvHhIukdl3y"
      },
      "source": [
        "#### Arbitrary Number of Keyword Parameters\n",
        "\n",
        "In the previous chapter we demonstrated how to pass an arbitrary number of positional parameters to a function. It is also possible to pass an arbitrary number of keyword parameters to a function as a dictionary. To this purpose, we have to use the double asterisk \"**\""
      ]
    },
    {
      "cell_type": "code",
      "metadata": {
        "colab": {
          "base_uri": "https://localhost:8080/"
        },
        "id": "YZTZqtrmdjZk",
        "outputId": "34034f20-4e55-4ee1-ba8f-afc5ea65b2f4"
      },
      "source": [
        "# you can use any other word different from `kwargs` but usually use this one\n",
        "\n",
        "def f(**kwargs):\n",
        "    print(type(kwargs))\n",
        "    print(kwargs)\n",
        "\n",
        "print(f())\n",
        "print()\n",
        "print(f(de=\"German\",en=\"English\",fr=\"French\"))\n",
        "print()\n",
        "\n",
        "# One use case is the following:\n",
        "\n",
        "def f(a, b, x, y):\n",
        "    print(a, b, x, y)\n",
        "d = {'a':'append', 'b':'block','x':'extract','y':'yes'}\n",
        "f(**d)"
      ],
      "execution_count": null,
      "outputs": [
        {
          "output_type": "stream",
          "name": "stdout",
          "text": [
            "<class 'dict'>\n",
            "{}\n",
            "None\n",
            "\n",
            "<class 'dict'>\n",
            "{'de': 'German', 'en': 'English', 'fr': 'French'}\n",
            "None\n",
            "\n",
            "append block extract yes\n"
          ]
        }
      ]
    },
    {
      "cell_type": "markdown",
      "metadata": {
        "id": "RjHbDhSoesFo"
      },
      "source": [
        "# Parameters and Arguments\n",
        "\n",
        "A function or procedure usually needs some information about the environment, in which it has been called. The interface between the environment, from which the function has been called, and the function, i.e. the function body, consists of special variables, which are called parameters. By using these parameters, it's possible to use all kind of objects from \"outside\" inside of a function. The syntax for how parameters are declared and the semantics for how the arguments are passed to the parameters of the function or procedure depends on the programming language.\n",
        "\n",
        "Very often the terms parameter and argument are used synonymously, but there is a clear difference. Parameters are inside functions or procedures, while arguments are used in procedure calls, i.e. the values passed to the function at run-time.\n",
        "\n",
        "#### \"call by value\" and \"call by name\"\n",
        "\n",
        "The evaluation strategy for arguments, i.e. how the arguments from a function call are passed to the parameters of the function, differs between programming languages. The most common evaluation strategies are \"call by value\" and \"call by reference\":\n",
        "\n",
        "* Call by Value The most common strategy is the call-by-value evaluation, sometimes also called pass-by-value. This strategy is used in C and C++, for example. In call-by-value, the argument expression is evaluated, and the result of this evaluation is bound to the corresponding variable in the function. So, if the expression is a variable, its value will be assigned (copied) to the corresponding parameter. This ensures that the variable in the caller's scope will stay unchanged when the function returns.\n",
        "* Call by Reference In call-by-reference evaluation, which is also known as pass-by-reference, a function gets an implicit reference to the argument, rather than a copy of its value. As a consequence, the function can modify the argument, i.e. the value of the variable in the caller's scope can be changed. By using Call by Reference we save both computation time and memory space, because arguments do not need to be copied. On the other hand this harbours the disadvantage that variables can be \"accidentally\" changed in a function call. So, special care has to be taken to \"protect\" the values, which shouldn't be changed. Many programming languages support call-by-reference, like C or C++, but Perl uses it as default.\n",
        "\n",
        "In ALGOL 60 and COBOL there has been a different concept called call-by-name, which isn't used anymore in modern languages.\n",
        "\n",
        "#### and what about Python?\n",
        "\n",
        "There are some books which call the strategy of Python call-by-value, and some call it call-by-reference.\n",
        "\n",
        "Correctly speaking, Python uses a mechanism, which is known as \"Call-by-Object\", sometimes also called \"Call by Object Reference\" or \"Call by Sharing\".\n",
        "\n",
        "**If you pass immutable arguments like integers, strings or tuples to a function, the passing acts like call-by-value. The object reference is passed to the function parameters. They can't be changed within the function, because they can't be changed at all, i.e. they are immutable. It's different, if we pass mutable arguments. They are also passed by object reference, but they can be changed in place within the function. If we pass a list to a function, we have to consider two cases: Elements of a list can be changed in place, i.e. the list will be changed even in the caller's scope. If a new list is assigned to the name, the old list will not be affected, i.e. the list in the caller's scope will remain untouched**"
      ]
    },
    {
      "cell_type": "code",
      "metadata": {
        "colab": {
          "base_uri": "https://localhost:8080/"
        },
        "id": "aGtXLoSMdr8Q",
        "outputId": "59eeca7a-9610-4193-cdd4-e785d7600fe7"
      },
      "source": [
        "# First, let's have a look at the integer variables below. The parameter inside\n",
        "# the function remains a reference to the argument's variable, as long as the\n",
        "# parameter is not changed. As soon as a new value is assigned to it, Python\n",
        "# creates a separate local variable. The caller's variable will not be changed this way:\n",
        "\n",
        "x = 9\n",
        "\n",
        "def ref_demo(x):\n",
        "    print(\"x=\",x,\" id=\",id(x))\n",
        "    x=42\n",
        "    print(\"x=\",x,\" id=\",id(x))\n",
        "\n",
        "ref_demo(x)"
      ],
      "execution_count": null,
      "outputs": [
        {
          "output_type": "stream",
          "name": "stdout",
          "text": [
            "x= 9  id= 94449892899584\n",
            "x= 42  id= 94449892900640\n"
          ]
        }
      ]
    },
    {
      "cell_type": "markdown",
      "metadata": {
        "id": "Hrp5MM43gmQo"
      },
      "source": [
        "![](https://www.python-course.eu/images/parameter_uebergabe2.webp)"
      ]
    },
    {
      "cell_type": "markdown",
      "metadata": {
        "id": "7OZLd2DLhd6z"
      },
      "source": [
        "#### Side effects\n",
        "\n",
        "A function is said to have a side effect, if, in addition to producing a return value, it modifies the caller's environment in other ways. For example, a function might modify a global or static variable, modify one of its arguments, raise an exception, write data to a display or file etc.\n",
        "\n",
        "There are situations, in which these side effects are intended, i.e. they are part of the function's specification. But in other cases, they are not wanted , they are hidden side effects. In this chapter, we are only interested in the side effects that change one or more global variables, which have been passed as arguments to a function. Let's assume, we are passing a list to a function. We expect the function not to change this list.\n",
        "\n",
        "First, let's have a look at a function which has no side effects. As a new list is assigned to the parameter list in func1(), a new memory location is created for list and list becomes a local variable"
      ]
    },
    {
      "cell_type": "code",
      "metadata": {
        "colab": {
          "base_uri": "https://localhost:8080/"
        },
        "id": "lx7Uv5fUgcEf",
        "outputId": "33abdd9a-0b19-45f6-bbcb-90027ec2ad1b"
      },
      "source": [
        "def no_side_effects(cities):\n",
        "    print(cities)\n",
        "    cities = cities + [\"Birmingham\", \"Bradford\"]\n",
        "    print(cities)\n",
        "locations = [\"London\", \"Leeds\", \"Glasgow\", \"Sheffield\"]\n",
        "no_side_effects(locations)\n",
        "\n",
        "print()\n",
        "print(locations)"
      ],
      "execution_count": null,
      "outputs": [
        {
          "output_type": "stream",
          "name": "stdout",
          "text": [
            "['London', 'Leeds', 'Glasgow', 'Sheffield']\n",
            "['London', 'Leeds', 'Glasgow', 'Sheffield', 'Birmingham', 'Bradford']\n",
            "\n",
            "['London', 'Leeds', 'Glasgow', 'Sheffield']\n"
          ]
        }
      ]
    },
    {
      "cell_type": "markdown",
      "metadata": {
        "id": "_EMxMM64h5FB"
      },
      "source": [
        "This changes drastically, if we increment the list by using augmented assignment operator +=. To show this, we change the previous function rename it as \"side_effects\" in the following example:"
      ]
    },
    {
      "cell_type": "code",
      "metadata": {
        "colab": {
          "base_uri": "https://localhost:8080/"
        },
        "id": "Oo5OPLhph1vr",
        "outputId": "e2762142-e2f6-43dd-b7a9-2c5df05f9f75"
      },
      "source": [
        "def side_effects(cities):\n",
        "    print(cities)\n",
        "    cities += [\"Birmingham\", \"Bradford\"]\n",
        "    print(cities)\n",
        " \n",
        "locations = [\"London\", \"Leeds\", \"Glasgow\", \"Sheffield\"]\n",
        "side_effects(locations)\n",
        "\n",
        "print()\n",
        "print(locations)"
      ],
      "execution_count": null,
      "outputs": [
        {
          "output_type": "stream",
          "name": "stdout",
          "text": [
            "['London', 'Leeds', 'Glasgow', 'Sheffield']\n",
            "['London', 'Leeds', 'Glasgow', 'Sheffield', 'Birmingham', 'Bradford']\n",
            "\n",
            "['London', 'Leeds', 'Glasgow', 'Sheffield', 'Birmingham', 'Bradford']\n"
          ]
        }
      ]
    },
    {
      "cell_type": "markdown",
      "metadata": {
        "id": "4w2bHs3DiL53"
      },
      "source": [
        "The user of this function can prevent this side effect by passing a copy to the function. A shallow copy is sufficient, because there are no nested structures in the list. To satisfy our French customers as well, we change the city names in the next example to demonstrate the effect of the slice operator in the function call:\n"
      ]
    },
    {
      "cell_type": "code",
      "metadata": {
        "colab": {
          "base_uri": "https://localhost:8080/"
        },
        "id": "VLcBxBGah7rs",
        "outputId": "fce9bacd-a6b0-46c9-d636-caf6ab1cd666"
      },
      "source": [
        "def side_effects(cities):\n",
        "    print(cities)\n",
        "    cities += [\"Paris\", \"Marseille\"]\n",
        "    print(cities)\n",
        " \n",
        "locations = [\"Lyon\", \"Toulouse\", \"Nice\", \"Nantes\", \"Strasbourg\"]\n",
        "side_effects(locations[:])\n",
        "print(locations) "
      ],
      "execution_count": null,
      "outputs": [
        {
          "output_type": "stream",
          "name": "stdout",
          "text": [
            "['Lyon', 'Toulouse', 'Nice', 'Nantes', 'Strasbourg']\n",
            "['Lyon', 'Toulouse', 'Nice', 'Nantes', 'Strasbourg', 'Paris', 'Marseille']\n",
            "['Lyon', 'Toulouse', 'Nice', 'Nantes', 'Strasbourg']\n"
          ]
        }
      ]
    },
    {
      "cell_type": "code",
      "metadata": {
        "colab": {
          "base_uri": "https://localhost:8080/"
        },
        "id": "MM8lk2STq1A8",
        "outputId": "6c2b73de-6601-4680-af16-47ebde44cf16"
      },
      "source": [
        "for i in range(10):\n",
        "    print(i)\n",
        "\n",
        "print()\n",
        "i"
      ],
      "execution_count": null,
      "outputs": [
        {
          "output_type": "stream",
          "name": "stdout",
          "text": [
            "0\n",
            "1\n",
            "2\n",
            "3\n",
            "4\n",
            "5\n",
            "6\n",
            "7\n",
            "8\n",
            "9\n",
            "\n"
          ]
        },
        {
          "output_type": "execute_result",
          "data": {
            "text/plain": [
              "9"
            ]
          },
          "metadata": {},
          "execution_count": 4
        }
      ]
    },
    {
      "cell_type": "markdown",
      "metadata": {
        "id": "I3s8bsYqjl_D"
      },
      "source": [
        "# Namespaces and Scopes\n",
        "\n",
        "Generally speaking, a namespace (sometimes also called a context) is a naming system for making names unique to avoid ambiguity. Everybody knows a namespacing system from daily life, i.e. the naming of people by the first name and family name (surname). Another example is a network: each network device (workstation, server, printer, ...) needs a unique name and address. Yet a further example is the directory structure of filesystems. The same filename can be used in different directories, the files can be uniquely accessed via the pathnames. Many programming languages use namespaces or contexts for identifiers. An identifier defined in a namespace is associated with that namespace. This way, the same identifier can be independently defined in multiple namespaces (Like the same filename in different directories). Programming languages, which support namespaces, may have different rules that determine to which namespace an identifier belongs to. Namespaces in Python are implemented as Python dictionaries, that is, they are defined by a mapping of names, i.e. the keys of the dictionary, to objects, i.e. the values. The user doesn't have to know this to write a Python program and when using namespaces.\n",
        "\n",
        "Some namespaces in Python:\n",
        "* global names of a module\n",
        "* local names in a function or method invocation\n",
        "* built-in names: this namespace contains built-in fuctions (e.g. abs(), cmp(), ...) and built-in exception names\n",
        "\n",
        "#### Lifetime of a Namespace\n",
        "\n",
        "Not every namespace, which may be used in a script or program is accessible (or alive) at any moment during the execution of the script. Namespaces have different lifetimes, because they are often created at different points in time. There is one namespace which is present from beginning to end: The namespace containing the built-in names is created when the Python interpreter starts up, and is never deleted. The global namespace of a module is generated when the module is read in. Module namespaces normally last until the script ends, i.e. the interpreter quits. When a function is called, a local namespace is created for this function. This namespace is deleted either if the function ends, i.e. returns, or if the function raises an exception, which is not dealt with within the function.\n",
        "\n",
        "#### Scopes\n",
        "\n",
        "A scope refers to a region of a program where a namespace can be directly accessed, i.e. without using a namespace prefix. In other words, the scope of a name is the area of a program where this name can be unambiguously used, for example, inside of a function. A name's namespace is identical to it's scope. Scopes are defined statically, but they are used dynamically. During program execution there are the following nested scopes available:\n",
        "* the innermost scope is searched first and it contains the local names\n",
        "* the scopes of any enclosing functions, which are searched starting with the nearest enclosing scope\n",
        "* the next-to-last scope contains the current module's global names\n",
        "* the outermost scope, which is searched last, is the namespace containing the built-in names\n",
        "\n",
        "# Function decorators\n",
        "\n",
        "Decorators belong most probably to the most beautiful and most powerful design possibilities in Python, but at the same time the concept is considered by many as complicated to get into. To be precise, the usage of decorators is very easy, but writing decorators can be complicated, especially if you are not experienced with decorators and some functional programming concepts\n",
        "\n",
        "\n",
        "Even though it is the same underlying concept, we have two different kinds of decorators in Python:\n",
        "* Function decorators\n",
        "* Class decorators\n",
        "\n",
        "We will introduce decorators by repeating some important aspects of functions. First you have to know or remember that function names are references to functions and that we can assign multiple names to the same function:"
      ]
    },
    {
      "cell_type": "code",
      "metadata": {
        "colab": {
          "base_uri": "https://localhost:8080/"
        },
        "id": "-ou4bYY9iPxz",
        "outputId": "ba1a5554-92bd-4518-b6eb-edd62b3d44ab"
      },
      "source": [
        "def succ(x):\n",
        "    return x + 1\n",
        "successor = succ\n",
        "successor(10)"
      ],
      "execution_count": null,
      "outputs": [
        {
          "output_type": "execute_result",
          "data": {
            "text/plain": [
              "11"
            ]
          },
          "metadata": {},
          "execution_count": 1
        }
      ]
    },
    {
      "cell_type": "code",
      "metadata": {
        "colab": {
          "base_uri": "https://localhost:8080/"
        },
        "id": "PcyiofqLFVub",
        "outputId": "ed939c28-04a1-4077-b360-7d16b94441c9"
      },
      "source": [
        "succ(10)"
      ],
      "execution_count": null,
      "outputs": [
        {
          "output_type": "execute_result",
          "data": {
            "text/plain": [
              "11"
            ]
          },
          "metadata": {},
          "execution_count": 2
        }
      ]
    },
    {
      "cell_type": "markdown",
      "metadata": {
        "id": "ZdniMW9pGE76"
      },
      "source": [
        "This means that we have two names, i.e. \"succ\" and \"successor\" for the same function. The next important fact is that we can delete either \"succ\" or \"successor\" without deleting the function itself:"
      ]
    },
    {
      "cell_type": "code",
      "metadata": {
        "id": "k7GHmBW_FgmE",
        "colab": {
          "base_uri": "https://localhost:8080/"
        },
        "outputId": "1639d345-d7a4-49aa-cbaa-c8841c903df2"
      },
      "source": [
        "del succ\n",
        "successor(10)"
      ],
      "execution_count": null,
      "outputs": [
        {
          "output_type": "execute_result",
          "data": {
            "text/plain": [
              "11"
            ]
          },
          "metadata": {},
          "execution_count": 3
        }
      ]
    },
    {
      "cell_type": "markdown",
      "metadata": {
        "id": "IA7G02pVGMs9"
      },
      "source": [
        "#### Functions inside *Functions*\n",
        "\n",
        "The concept of having or defining functions inside of a function is completely new to C or C++ programmers:"
      ]
    },
    {
      "cell_type": "code",
      "metadata": {
        "colab": {
          "base_uri": "https://localhost:8080/"
        },
        "id": "A9FYpbWRGJlp",
        "outputId": "aa40a17e-a11b-456b-da7d-55e772a654b2"
      },
      "source": [
        "def f():\n",
        "    \n",
        "    def g():\n",
        "        print(\"Hi, it's me 'g'\")\n",
        "        print(\"Thanks for calling me\")\n",
        "        \n",
        "    print(\"This is the function 'f'\")\n",
        "    print(\"I am calling 'g' now:\")\n",
        "    g()\n",
        "\n",
        "f()"
      ],
      "execution_count": null,
      "outputs": [
        {
          "output_type": "stream",
          "name": "stdout",
          "text": [
            "This is the function 'f'\n",
            "I am calling 'g' now:\n",
            "Hi, it's me 'g'\n",
            "Thanks for calling me\n"
          ]
        }
      ]
    },
    {
      "cell_type": "code",
      "metadata": {
        "colab": {
          "base_uri": "https://localhost:8080/"
        },
        "id": "mkvWReCrGW7H",
        "outputId": "5ab4fa29-b9c2-460f-dc53-884bd657f7ef"
      },
      "source": [
        "# Another example using \"proper\" return statements in the functions:\n",
        "\n",
        "def temperature(t):\n",
        "    def celsius2fahrenheit(x):\n",
        "        return 9 * x / 5 + 32\n",
        "\n",
        "    result = \"It's \" + str(celsius2fahrenheit(t)) + \" degrees!\" \n",
        "    return result\n",
        "\n",
        "print(temperature(20))"
      ],
      "execution_count": null,
      "outputs": [
        {
          "output_type": "stream",
          "name": "stdout",
          "text": [
            "It's 68.0 degrees!\n"
          ]
        }
      ]
    },
    {
      "cell_type": "code",
      "metadata": {
        "id": "kjpAwJzFGa1a"
      },
      "source": [
        "# The following example is about the factorial function, which we previously\n",
        "# defined as follows:\n",
        "\n",
        "def factorial(n):  # recursive!\n",
        "    \"\"\" calculates the factorial of n, \n",
        "        n should be an integer and n <= 0 \"\"\"\n",
        "    if n == 0:\n",
        "        return 1\n",
        "    else:\n",
        "        return n * factorial(n-1)"
      ],
      "execution_count": null,
      "outputs": []
    },
    {
      "cell_type": "code",
      "metadata": {
        "id": "rZKg_5UoGoeE"
      },
      "source": [
        "# What happens if someone passes a negative value or a float number to this\n",
        "# function? It will never end. You might get the idea to check that as follows:\n",
        "\n",
        "def factorial(n):\n",
        "    \"\"\" calculates the factorial of n, \n",
        "        n should be an integer and n <= 0 \"\"\"\n",
        "    if type(n) == int and n >=0:\n",
        "        if n == 0:\n",
        "            return 1\n",
        "        else:\n",
        "            return n * factorial(n-1)\n",
        "\n",
        "    else:\n",
        "        raise TypeError(\"n has to be a positive integer or zero\")"
      ],
      "execution_count": null,
      "outputs": []
    },
    {
      "cell_type": "markdown",
      "metadata": {
        "id": "T0E2zFWwHJie"
      },
      "source": [
        "If you call this function with 4 '' for example, i.e. factorial (4) '', the first thing that is checked is whether it is my positive integer. In principle, this makes sense. The \"problem\" now appears in the recursion step. Now factorial (3) '' is called. This call and all others also check whether it is a positive whole number. But this is unnecessary: If you subtract the value 1 '' from a positive whole number, you get a positive whole number or `` 0 '' again. So both well-defined argument values for our function.\n",
        "With a nested function (local function) one can solve this problem elegantly:"
      ]
    },
    {
      "cell_type": "code",
      "metadata": {
        "id": "oXnoMS1fHH12"
      },
      "source": [
        "def factorial(n):\n",
        "    \"\"\" calculates the factorial of n, \n",
        "        n should be an integer and n <= 0 \"\"\"\n",
        "    def inner_factorial(n):\n",
        "        if n == 0:\n",
        "            return 1\n",
        "        else:\n",
        "            return n * inner_factorial(n-1)\n",
        "    if type(n) == int and n >=0:\n",
        "        return inner_factorial(n)\n",
        "    else:\n",
        "        raise TypeError(\"n should be a positve int or 0\")"
      ],
      "execution_count": null,
      "outputs": []
    },
    {
      "cell_type": "markdown",
      "metadata": {
        "id": "3VKD2q3RHXqD"
      },
      "source": [
        "#### Functions as Parameters\n",
        "\n",
        "If you solely look at the previous examples, this doesn't seem to be very useful. It gets useful in combination with two further powerful possibilities of Python functions. Due to the fact that every parameter of a function is a reference to an object and functions are objects as well, we can pass functions - or better \"references to functions\" - as parameters to a function. We will demonstrate this in the next simple example:"
      ]
    },
    {
      "cell_type": "code",
      "metadata": {
        "colab": {
          "base_uri": "https://localhost:8080/"
        },
        "id": "3onKo_sjHHXT",
        "outputId": "5e43bb7b-2b3f-48ee-86d6-e566fb7624e2"
      },
      "source": [
        "def g():\n",
        "    print(\"Hi, it's me 'g'\")\n",
        "    print(\"Thanks for calling me\")\n",
        "    \n",
        "def f(func):\n",
        "    print(\"Hi, it's me 'f'\")\n",
        "    print(\"I will call 'func' now\")\n",
        "    func()\n",
        "          \n",
        "f(g)"
      ],
      "execution_count": null,
      "outputs": [
        {
          "output_type": "stream",
          "name": "stdout",
          "text": [
            "Hi, it's me 'f'\n",
            "I will call 'func' now\n",
            "Hi, it's me 'g'\n",
            "Thanks for calling me\n"
          ]
        }
      ]
    },
    {
      "cell_type": "code",
      "metadata": {
        "colab": {
          "base_uri": "https://localhost:8080/"
        },
        "id": "NRor27BfIBab",
        "outputId": "5c7258dd-2852-4451-f134-91ab9f12ccab"
      },
      "source": [
        "# You may not be satisfied with the output. 'f' should write that it calls 'g'\n",
        "# and not 'func'. Of course, we need to know what the 'real' name of func is.\n",
        "# For this purpose, we can use the attribute __name__, as it contains this name:\n",
        "\n",
        "def g():\n",
        "    print(\"Hi, it's me 'g'\")\n",
        "    print(\"Thanks for calling me\")\n",
        "    \n",
        "def f(func):\n",
        "    print(\"Hi, it's me 'f'\")\n",
        "    print(\"I will call 'func' now\")\n",
        "    func()\n",
        "    print(\"func's real name is \" + func.__name__) \n",
        "\n",
        "          \n",
        "f(g)"
      ],
      "execution_count": null,
      "outputs": [
        {
          "output_type": "stream",
          "name": "stdout",
          "text": [
            "Hi, it's me 'f'\n",
            "I will call 'func' now\n",
            "Hi, it's me 'g'\n",
            "Thanks for calling me\n",
            "func's real name is g\n"
          ]
        }
      ]
    },
    {
      "cell_type": "code",
      "metadata": {
        "colab": {
          "base_uri": "https://localhost:8080/"
        },
        "id": "yLxxc_qBIQ8u",
        "outputId": "38be2fb0-4590-4cfa-bed0-405caf991b6f"
      },
      "source": [
        "# another example:\n",
        "\n",
        "import math\n",
        "\n",
        "def foo(func):\n",
        "    print(\"The function \" + func.__name__ + \" was passed to foo\")\n",
        "    res = 0\n",
        "    for x in [1, 2, 2.5]:\n",
        "        res += func(x)\n",
        "    return res\n",
        "\n",
        "print(foo(math.sin))\n",
        "print(foo(math.cos))"
      ],
      "execution_count": null,
      "outputs": [
        {
          "output_type": "stream",
          "name": "stdout",
          "text": [
            "The function sin was passed to foo\n",
            "2.3492405557375347\n",
            "The function cos was passed to foo\n",
            "-0.6769881462259364\n"
          ]
        }
      ]
    },
    {
      "cell_type": "markdown",
      "metadata": {
        "id": "K3Nu0sFyIiOL"
      },
      "source": [
        "#### Functions returning Functions\n",
        "\n",
        "The output of a function is also a reference to an object. Therefore functions can return references to function objects."
      ]
    },
    {
      "cell_type": "code",
      "metadata": {
        "colab": {
          "base_uri": "https://localhost:8080/"
        },
        "id": "brwH5mN6Ie19",
        "outputId": "dd5acca2-1e96-4b73-d4d1-164656989f6f"
      },
      "source": [
        "def f(x):\n",
        "    def g(y):\n",
        "        return y + x + 3 \n",
        "    return g\n",
        "\n",
        "nf1 = f(1)\n",
        "nf2 = f(3)\n",
        "\n",
        "print(nf1(1))\n",
        "print(nf2(1))"
      ],
      "execution_count": null,
      "outputs": [
        {
          "output_type": "stream",
          "name": "stdout",
          "text": [
            "5\n",
            "7\n"
          ]
        }
      ]
    },
    {
      "cell_type": "markdown",
      "metadata": {
        "id": "vR-Cdbm3JDUS"
      },
      "source": [
        "The previous example looks very artificial and absolutely useless. We will present now another language oriented example, which shows a more practical touch. Okay, still not a function which is useful the way it is. We write a function with the nearly self-explanatory name greeting_func_gen. So this function returns (or generates) functions which can be used to create people in different languages, i.e. German, French, Italian, Turkish, and Greek:"
      ]
    },
    {
      "cell_type": "code",
      "metadata": {
        "colab": {
          "base_uri": "https://localhost:8080/"
        },
        "id": "QGLx1kYDIoHf",
        "outputId": "ac40744e-be57-4ce2-91ea-60d6f4c24b95"
      },
      "source": [
        "def greeting_func_gen(lang):\n",
        "    def customized_greeting(name):\n",
        "        if lang == \"de\":   # German\n",
        "            phrase = \"Guten Morgen \"\n",
        "        elif lang == \"fr\": # French\n",
        "            phrase = \"Bonjour \"\n",
        "        elif lang == \"it\": # Italian\n",
        "            phrase = \"Buongiorno \"\n",
        "        elif lang == \"tr\": # Turkish\n",
        "            phrase = \"Günaydın \"\n",
        "        elif lang == \"gr\": # Greek\n",
        "            phrase = \"Καλημερα \"\n",
        "        else:\n",
        "            phrase = \"Hi \"\n",
        "        return phrase + name + \"!\"\n",
        "    return customized_greeting\n",
        "\n",
        "\n",
        "say_hi = greeting_func_gen(\"tr\")\n",
        "print(say_hi(\"Gülay\"))  # this Turkish name means \"rose moon\" by the way"
      ],
      "execution_count": null,
      "outputs": [
        {
          "output_type": "stream",
          "name": "stdout",
          "text": [
            "Günaydın Gülay!\n"
          ]
        }
      ]
    },
    {
      "cell_type": "markdown",
      "metadata": {
        "id": "yvjFFP-bJQ8N"
      },
      "source": [
        "It is getting more useful and at the same time more mathematically oriented in the following example. We will implement a polynomial \"factory\" function now. We will start with writing a version which can create polynomials of degree 2\n",
        "\n",
        " $ p(x) = ax^2 + bx + c $"
      ]
    },
    {
      "cell_type": "code",
      "metadata": {
        "colab": {
          "base_uri": "https://localhost:8080/"
        },
        "id": "UxLBoRyuJGsV",
        "outputId": "63077e23-0a33-42b8-d5f4-1a84d2707be5"
      },
      "source": [
        "# The Python implementation as a polynomial factory function can be written like this:\n",
        "\n",
        "def polynomial_creator(a, b, c):\n",
        "    def polynomial(x):\n",
        "        return a * x**2 + b * x + c\n",
        "    return polynomial\n",
        "    \n",
        "p1 = polynomial_creator(2, 3, -1)\n",
        "p2 = polynomial_creator(-1, 2, 1)\n",
        "\n",
        "for x in range(-2, 2, 1):\n",
        "    print(x, p1(x), p2(x))"
      ],
      "execution_count": null,
      "outputs": [
        {
          "output_type": "stream",
          "name": "stdout",
          "text": [
            "-2 1 -7\n",
            "-1 -2 -2\n",
            "0 -1 1\n",
            "1 4 2\n"
          ]
        }
      ]
    },
    {
      "cell_type": "markdown",
      "metadata": {
        "id": "0eB5quTTJ5q2"
      },
      "source": [
        "We can generalize our factory function so that it can work for polynomials of arbitrary degree:\n",
        "\n",
        "$ \\sum_{k=0}^{n} a_{k} \\cdot x^{k}  = a_{n} \\cdot x^{n} + a_{n-1} \\cdot x^{n-1} + ... + a_{2} \\cdot x^{2} + a_{1} \\cdot x + a_{0} $"
      ]
    },
    {
      "cell_type": "code",
      "metadata": {
        "colab": {
          "base_uri": "https://localhost:8080/"
        },
        "id": "LZMILvRGJt7L",
        "outputId": "8bdea9e8-25e1-4d88-e436-6fdd054e0fef"
      },
      "source": [
        "def polynomial_creator(*coefficients):\n",
        "    \"\"\" coefficients are in the form a_n, ... a_1, a_0 \n",
        "    \"\"\"\n",
        "    def polynomial(x):\n",
        "        res = 0\n",
        "        for index, coeff in enumerate(coefficients[::-1]):\n",
        "            res += coeff * x** index\n",
        "        return res\n",
        "    return polynomial\n",
        "  \n",
        "p1 = polynomial_creator(4)\n",
        "p2 = polynomial_creator(2, 4)\n",
        "p3 = polynomial_creator(1, 8, -1, 3, 2)\n",
        "p4  = polynomial_creator(-1, 2, 1)\n",
        "\n",
        "\n",
        "for x in range(-2, 2, 1):\n",
        "    print(x, p1(x), p2(x), p3(x), p4(x))"
      ],
      "execution_count": null,
      "outputs": [
        {
          "output_type": "stream",
          "name": "stdout",
          "text": [
            "-2 4 0 -56 -7\n",
            "-1 4 2 -9 -2\n",
            "0 4 4 2 1\n",
            "1 4 6 13 2\n"
          ]
        }
      ]
    },
    {
      "cell_type": "markdown",
      "metadata": {
        "id": "mD9iIr1PL8XB"
      },
      "source": [
        "The function p3 implements, for example, the following polynomial:\n",
        "\n",
        "$p_3(x)  = x^{4} + 8 \\cdot x^{3} - x^{2} + 3 \\cdot x + 2$\n",
        "\n",
        "The polynomial function inside of our decorator polynomial_creator can be implemented more efficiently. We can factorize it in a way so that it doesn't need any exponentiation.\n",
        "\n",
        "Factorized version of a general polynomial without exponentiation:\n",
        "\n",
        "$res  = (...(a_{n} \\cdot x + a_{n-1}) \\cdot x + ...  + a_{1}) \\cdot x + a_{0}$\n",
        "\n",
        "Implementation of our polynomial creator decorator avoiding exponentiation:"
      ]
    },
    {
      "cell_type": "code",
      "metadata": {
        "colab": {
          "base_uri": "https://localhost:8080/"
        },
        "id": "tCA5-U6NKiYI",
        "outputId": "eaddbf7a-b141-4506-a221-28ba1ffc14ed"
      },
      "source": [
        "def polynomial_creator(*coeffs):\n",
        "    \"\"\" coefficients are in the form a_n, a_n_1, ... a_1, a_0 \n",
        "    \"\"\"\n",
        "    def polynomial(x):\n",
        "        res = coeffs[0]\n",
        "        for i in range(1, len(coeffs)):\n",
        "            res = res * x + coeffs[i]\n",
        "        return res\n",
        "                 \n",
        "    return polynomial\n",
        "\n",
        "p1 = polynomial_creator(4)\n",
        "p2 = polynomial_creator(2, 4)\n",
        "p3 = polynomial_creator(1, 8, -1, 3, 2)\n",
        "p4 = polynomial_creator(-1, 2, 1)\n",
        "\n",
        "\n",
        "for x in range(-2, 2, 1):\n",
        "    print(x, p1(x), p2(x), p3(x), p4(x))"
      ],
      "execution_count": null,
      "outputs": [
        {
          "output_type": "stream",
          "name": "stdout",
          "text": [
            "-2 4 0 -56 -7\n",
            "-1 4 2 -9 -2\n",
            "0 4 4 2 1\n",
            "1 4 6 13 2\n"
          ]
        }
      ]
    },
    {
      "cell_type": "markdown",
      "metadata": {
        "id": "WWjJ5o77MkPJ"
      },
      "source": [
        "#### A Simple Decorator\n",
        "\n",
        "Now we have everything ready to define our first simple decorator:"
      ]
    },
    {
      "cell_type": "code",
      "metadata": {
        "colab": {
          "base_uri": "https://localhost:8080/"
        },
        "id": "uKjoRtpYMTiu",
        "outputId": "2249dda5-4204-4bc3-8516-e40bd252155d"
      },
      "source": [
        "def our_decorator(func):\n",
        "    def function_wrapper(x):\n",
        "        print(\"Before calling \" + func.__name__)\n",
        "        func(x)\n",
        "        print(\"After calling \" + func.__name__)\n",
        "    return function_wrapper\n",
        "\n",
        "our_decorator(f)()\n",
        "\n",
        "def foo(x):\n",
        "    print(\"Hi, foo has been called with \" + str(x))\n",
        "\n",
        "print()\n",
        "print(id(foo))\n",
        "print()\n",
        "\n",
        "print(\"We call foo before decoration:\")\n",
        "foo(\"Hi\")\n",
        "    \n",
        "print(\"We now decorate foo with f:\")\n",
        "foo = our_decorator(foo)\n",
        "print()\n",
        "print(id(foo))\n",
        "print()\n",
        "\n",
        "print(\"We call foo after decoration:\")\n",
        "foo(42)\n",
        "\n",
        "# If you look at the output of the previous program, you can see what's going on.\n",
        "# After the decoration \"foo = our_decorator(foo)\", foo is a reference to the\n",
        "# 'function_wrapper'. 'foo' will be called inside of 'function_wrapper', but\n",
        "# before and after the call some additional code will be executed, i.e. in our\n",
        "# case two print functions."
      ],
      "execution_count": null,
      "outputs": [
        {
          "output_type": "stream",
          "name": "stdout",
          "text": [
            "\n",
            "140611776284288\n",
            "\n",
            "We call foo before decoration:\n",
            "Hi, foo has been called with Hi\n",
            "We now decorate foo with f:\n",
            "\n",
            "140611776455312\n",
            "\n",
            "We call foo after decoration:\n",
            "Before calling foo\n",
            "Hi, foo has been called with 42\n",
            "After calling foo\n"
          ]
        }
      ]
    },
    {
      "cell_type": "markdown",
      "metadata": {
        "id": "Tgst4WnKNfKJ"
      },
      "source": [
        "#### The Usual Syntax for Decorators in Python\n",
        "\n",
        "The decoration in Python is usually not performed in the way we did it in our previous example, even though the notation foo = our_decorator(foo) is catchy and easy to grasp. This is the reason, why we used it! You can also see a design problem in our previous approach. \"foo\" existed in the same program in two versions, before decoration and after decoration.\n",
        "\n",
        "We will do a proper decoration now. The decoration occurrs in the line before the function header. The \"@\" is followed by the decorator function name.\n",
        "\n",
        "We will rewrite now our initial example. Instead of writing the statement\n",
        "\n",
        "`foo = our_decorator(foo)`\n",
        "\n",
        "we can write\n",
        "\n",
        "`@our_decorator `\n",
        "\n",
        "But this line has to be directly positioned in front of the decorated function. The complete example looks like this now:"
      ]
    },
    {
      "cell_type": "code",
      "metadata": {
        "colab": {
          "base_uri": "https://localhost:8080/"
        },
        "id": "u7UjifXoMqDt",
        "outputId": "1d21421f-459a-4d73-dbea-a0e0ed70670e"
      },
      "source": [
        "def our_decorator(func):\n",
        "    def function_wrapper(x):\n",
        "        print(\"Before calling \" + func.__name__)\n",
        "        func(x)\n",
        "        print(\"After calling \" + func.__name__)\n",
        "    return function_wrapper\n",
        "\n",
        "\n",
        "def foo(x):\n",
        "    print(\"Hi, foo has been called with \" + str(x))\n",
        "new_func = our_decorator(foo)\n",
        "\n",
        "@our_decorator\n",
        "def foo(x):\n",
        "    print(\"Hi, foo has been called with \" + str(x))\n",
        "\n",
        "foo(\"Hi\")"
      ],
      "execution_count": null,
      "outputs": [
        {
          "output_type": "stream",
          "name": "stdout",
          "text": [
            "Before calling foo\n",
            "Hi, foo has been called with Hi\n",
            "After calling foo\n"
          ]
        }
      ]
    },
    {
      "cell_type": "markdown",
      "metadata": {
        "id": "idTitW-IO__p"
      },
      "source": [
        "It is also possible to decorate third party functions, e.g. functions we import from a module. We can't use the Python syntax with the \"at\" sign (@) in this case:"
      ]
    },
    {
      "cell_type": "code",
      "metadata": {
        "colab": {
          "base_uri": "https://localhost:8080/"
        },
        "id": "QKom-BfCOGXJ",
        "outputId": "dbd35647-fe1c-4e0e-fa1c-21f051b95a59"
      },
      "source": [
        "from math import sin, cos\n",
        "\n",
        "def our_decorator(func):\n",
        "    def function_wrapper(x):\n",
        "        print(\"Before calling \" + func.__name__)\n",
        "        res = func(x)\n",
        "        print(res)\n",
        "        print(\"After calling \" + func.__name__)\n",
        "    return function_wrapper\n",
        "\n",
        "sin = our_decorator(sin)\n",
        "cos = our_decorator(cos)\n",
        "\n",
        "for f in [sin, cos]:\n",
        "    f(3.1415)"
      ],
      "execution_count": null,
      "outputs": [
        {
          "output_type": "stream",
          "name": "stdout",
          "text": [
            "Before calling sin\n",
            "9.265358966049026e-05\n",
            "After calling sin\n",
            "Before calling cos\n",
            "-0.9999999957076562\n",
            "After calling cos\n"
          ]
        }
      ]
    },
    {
      "cell_type": "markdown",
      "metadata": {
        "id": "F4-K17SXQGJd"
      },
      "source": [
        "**All in all, we can say that a decorator in Python is a callable Python object that is used to modify a function, method or class definition. The original object, the one which is going to be modified, is passed to a decorator as an argument. The decorator returns a modified object, e.g. a modified function, which is bound to the name used in the definition.**\n",
        "\n",
        "The previous function_wrapper works only for functions with exactly one parameter. We provide a generalized version of the function_wrapper, which accepts functions with arbitrary parameters in the following example:"
      ]
    },
    {
      "cell_type": "code",
      "metadata": {
        "colab": {
          "base_uri": "https://localhost:8080/"
        },
        "id": "ZSb1k4cNP455",
        "outputId": "74cbbe2e-5f1a-42ff-b706-75431bb997cf"
      },
      "source": [
        "from random import random, randint, choice\n",
        "\n",
        "def our_decorator(func):\n",
        "    def function_wrapper(*args, **kwargs):\n",
        "        print(\"Before calling \" + func.__name__)\n",
        "        res = func(*args, **kwargs)\n",
        "        print(res)\n",
        "        print(\"After calling \" + func.__name__)\n",
        "    return function_wrapper\n",
        "\n",
        "random = our_decorator(random)\n",
        "randint = our_decorator(randint)\n",
        "choice = our_decorator(choice)\n",
        "\n",
        "random()\n",
        "randint(3, 8)\n",
        "choice([4, 5, 6])"
      ],
      "execution_count": null,
      "outputs": [
        {
          "output_type": "stream",
          "name": "stdout",
          "text": [
            "Before calling random\n",
            "0.17140422850957926\n",
            "After calling random\n",
            "Before calling randint\n",
            "4\n",
            "After calling randint\n",
            "Before calling choice\n",
            "5\n",
            "After calling choice\n"
          ]
        }
      ]
    },
    {
      "cell_type": "markdown",
      "metadata": {
        "id": "NKnI0OZcQXeO"
      },
      "source": [
        "#### Use Cases for Decorators\n",
        "\n",
        "##### Checking Arguments with a Decorator"
      ]
    },
    {
      "cell_type": "code",
      "metadata": {
        "colab": {
          "base_uri": "https://localhost:8080/",
          "height": 470
        },
        "id": "BxDQr3d1QO_b",
        "outputId": "a86b0e5f-fb0b-4b8c-842c-459c2041604b"
      },
      "source": [
        "# The following program uses a decorator function to ensure that the argument\n",
        "# passed to the function factorial is a positive integer:\n",
        "\n",
        "def argument_test_natural_number(f):\n",
        "    def helper(x):\n",
        "        if type(x) == int and x > 0:\n",
        "            return f(x)\n",
        "        else:\n",
        "            raise Exception(\"Argument is not an integer\")\n",
        "    return helper\n",
        "\n",
        "@argument_test_natural_number\n",
        "def factorial(n):\n",
        "    if n == 1:\n",
        "        return 1\n",
        "    else:\n",
        "        return n * factorial(n-1)\n",
        "\n",
        "for i in range(1,10):\n",
        "\tprint(i, factorial(i))\n",
        "\n",
        "print(factorial(-1))"
      ],
      "execution_count": null,
      "outputs": [
        {
          "output_type": "stream",
          "name": "stdout",
          "text": [
            "1 1\n",
            "2 2\n",
            "3 6\n",
            "4 24\n",
            "5 120\n",
            "6 720\n",
            "7 5040\n",
            "8 40320\n",
            "9 362880\n"
          ]
        },
        {
          "output_type": "error",
          "ename": "Exception",
          "evalue": "ignored",
          "traceback": [
            "\u001b[0;31m---------------------------------------------------------------------------\u001b[0m",
            "\u001b[0;31mException\u001b[0m                                 Traceback (most recent call last)",
            "\u001b[0;32m<ipython-input-29-16039de6004d>\u001b[0m in \u001b[0;36m<module>\u001b[0;34m()\u001b[0m\n\u001b[1;32m     20\u001b[0m         \u001b[0mprint\u001b[0m\u001b[0;34m(\u001b[0m\u001b[0mi\u001b[0m\u001b[0;34m,\u001b[0m \u001b[0mfactorial\u001b[0m\u001b[0;34m(\u001b[0m\u001b[0mi\u001b[0m\u001b[0;34m)\u001b[0m\u001b[0;34m)\u001b[0m\u001b[0;34m\u001b[0m\u001b[0;34m\u001b[0m\u001b[0m\n\u001b[1;32m     21\u001b[0m \u001b[0;34m\u001b[0m\u001b[0m\n\u001b[0;32m---> 22\u001b[0;31m \u001b[0mprint\u001b[0m\u001b[0;34m(\u001b[0m\u001b[0mfactorial\u001b[0m\u001b[0;34m(\u001b[0m\u001b[0;34m-\u001b[0m\u001b[0;36m1\u001b[0m\u001b[0;34m)\u001b[0m\u001b[0;34m)\u001b[0m\u001b[0;34m\u001b[0m\u001b[0;34m\u001b[0m\u001b[0m\n\u001b[0m",
            "\u001b[0;32m<ipython-input-29-16039de6004d>\u001b[0m in \u001b[0;36mhelper\u001b[0;34m(x)\u001b[0m\n\u001b[1;32m      7\u001b[0m             \u001b[0;32mreturn\u001b[0m \u001b[0mf\u001b[0m\u001b[0;34m(\u001b[0m\u001b[0mx\u001b[0m\u001b[0;34m)\u001b[0m\u001b[0;34m\u001b[0m\u001b[0;34m\u001b[0m\u001b[0m\n\u001b[1;32m      8\u001b[0m         \u001b[0;32melse\u001b[0m\u001b[0;34m:\u001b[0m\u001b[0;34m\u001b[0m\u001b[0;34m\u001b[0m\u001b[0m\n\u001b[0;32m----> 9\u001b[0;31m             \u001b[0;32mraise\u001b[0m \u001b[0mException\u001b[0m\u001b[0;34m(\u001b[0m\u001b[0;34m\"Argument is not an integer\"\u001b[0m\u001b[0;34m)\u001b[0m\u001b[0;34m\u001b[0m\u001b[0;34m\u001b[0m\u001b[0m\n\u001b[0m\u001b[1;32m     10\u001b[0m     \u001b[0;32mreturn\u001b[0m \u001b[0mhelper\u001b[0m\u001b[0;34m\u001b[0m\u001b[0;34m\u001b[0m\u001b[0m\n\u001b[1;32m     11\u001b[0m \u001b[0;34m\u001b[0m\u001b[0m\n",
            "\u001b[0;31mException\u001b[0m: Argument is not an integer"
          ]
        }
      ]
    },
    {
      "cell_type": "markdown",
      "metadata": {
        "id": "CekxRb7ZQs6Q"
      },
      "source": [
        "##### Counting Function Calls with Decorators\n",
        "\n",
        "The following example uses a decorator to count the number of times a function has been called. To be precise, we can use this decorator solely for functions with exactly one parameter:"
      ]
    },
    {
      "cell_type": "code",
      "metadata": {
        "colab": {
          "base_uri": "https://localhost:8080/"
        },
        "id": "Wt_gnJb_Qmdc",
        "outputId": "b800fedf-c406-4803-96e7-5b23cc9a40e6"
      },
      "source": [
        "def call_counter(func):\n",
        "    def helper(x):\n",
        "        helper.calls += 1\n",
        "        return func(x)\n",
        "    helper.calls = 0\n",
        "\n",
        "    return helper\n",
        "\n",
        "@call_counter\n",
        "def succ(x):\n",
        "    return x + 1\n",
        "\n",
        "print(succ.calls)\n",
        "for i in range(10):\n",
        "    succ(i)\n",
        "    \n",
        "print(succ.calls)"
      ],
      "execution_count": null,
      "outputs": [
        {
          "output_type": "stream",
          "name": "stdout",
          "text": [
            "0\n",
            "10\n"
          ]
        }
      ]
    },
    {
      "cell_type": "markdown",
      "metadata": {
        "id": "R23b20P3Q6vK"
      },
      "source": [
        "#### Decorators with Parameters\n",
        "\n",
        "We define two decorators in the following code:"
      ]
    },
    {
      "cell_type": "code",
      "metadata": {
        "colab": {
          "base_uri": "https://localhost:8080/"
        },
        "id": "XNZZ7xaIQzTS",
        "outputId": "2f373376-7603-427e-bca4-a3ed969b0463"
      },
      "source": [
        "def evening_greeting(func):\n",
        "    def function_wrapper(x):\n",
        "        print(\"Good evening, \" + func.__name__ + \" returns:\")\n",
        "        return func(x)\n",
        "    return function_wrapper\n",
        "\n",
        "def morning_greeting(func):\n",
        "    def function_wrapper(x):\n",
        "        print(\"Good morning, \" + func.__name__ + \" returns:\")\n",
        "        return func(x)\n",
        "    return function_wrapper\n",
        "\n",
        "@evening_greeting\n",
        "def foo(x):\n",
        "    print(42)\n",
        "\n",
        "foo(\"Hi\")"
      ],
      "execution_count": null,
      "outputs": [
        {
          "output_type": "stream",
          "name": "stdout",
          "text": [
            "Good evening, foo returns:\n",
            "42\n"
          ]
        }
      ]
    },
    {
      "cell_type": "markdown",
      "metadata": {
        "id": "PKpaWPzkRZ_1"
      },
      "source": [
        "These two decorators are nearly the same, except for the greeting. We want to add a parameter to the decorator to be capable of customizing the greeting, when we do the decoration. We have to wrap another function around our previous decorator function to accomplish this. We can now easily say \"Good Morning\" in Greek:"
      ]
    },
    {
      "cell_type": "code",
      "metadata": {
        "colab": {
          "base_uri": "https://localhost:8080/"
        },
        "id": "ohvzA2XGRS9_",
        "outputId": "7556578e-7ac9-4f69-d21f-d4ee344e78a1"
      },
      "source": [
        "def greeting(expr):\n",
        "    def greeting_decorator(func):\n",
        "        def function_wrapper(x):\n",
        "            print(expr + \", \" + func.__name__ + \" returns:\")\n",
        "            func(x)\n",
        "        return function_wrapper\n",
        "    return greeting_decorator\n",
        "\n",
        "@greeting(\"καλημερα\")\n",
        "def foo(x):\n",
        "    print(42)\n",
        "\n",
        "foo(\"Hi\")"
      ],
      "execution_count": null,
      "outputs": [
        {
          "output_type": "stream",
          "name": "stdout",
          "text": [
            "καλημερα, foo returns:\n",
            "42\n"
          ]
        }
      ]
    },
    {
      "cell_type": "markdown",
      "metadata": {
        "id": "4O5K9_Q8SCwR"
      },
      "source": [
        "If we don't want or cannot use the \"at\" decorator syntax, we can do it with function calls:"
      ]
    },
    {
      "cell_type": "code",
      "metadata": {
        "colab": {
          "base_uri": "https://localhost:8080/"
        },
        "id": "osHMNyZeReO_",
        "outputId": "c0140e06-867b-4301-c2c2-9cac1441274e"
      },
      "source": [
        "def greeting(expr):\n",
        "    def greeting_decorator(func):\n",
        "        def function_wrapper(x):\n",
        "            print(expr + \", \" + func.__name__ + \" returns:\")\n",
        "            return func(x)\n",
        "        return function_wrapper\n",
        "    return greeting_decorator\n",
        "\n",
        "\n",
        "def foo(x):\n",
        "    print(42)\n",
        "\n",
        "greeting2 = greeting(\"καλημερα\")\n",
        "foo = greeting2(foo)\n",
        "foo(\"Hi\")"
      ],
      "execution_count": null,
      "outputs": [
        {
          "output_type": "stream",
          "name": "stdout",
          "text": [
            "καλημερα, foo returns:\n",
            "42\n"
          ]
        }
      ]
    },
    {
      "cell_type": "code",
      "metadata": {
        "id": "_aci-kUASFSe"
      },
      "source": [
        "# Of course, we don't need the additional definition of \"greeting2\". We can\n",
        "# directly apply the result of the call \"greeting(\"καλημερα\")\" on \"foo\":\n",
        "\n",
        "foo = greeting(\"καλημερα\")(foo)"
      ],
      "execution_count": null,
      "outputs": []
    },
    {
      "cell_type": "markdown",
      "metadata": {
        "id": "An9LYuNcSUCH"
      },
      "source": [
        "#### Using wraps from functools\n",
        "\n",
        "The way we have defined decorators so far hasn't taken into account that the attributes\n",
        "\n",
        "* \\_\\_name__ (name of the function),\n",
        "* \\_\\_doc__ (the docstring) and\n",
        "* \\_\\_module__ (The module in which the function is defined)\n",
        "\n",
        "of the original functions will be lost after the decoration."
      ]
    },
    {
      "cell_type": "markdown",
      "metadata": {
        "id": "cEf4vsmJSx2E"
      },
      "source": [
        "The following decorator will be saved in a file greeting_decorator.py:"
      ]
    },
    {
      "cell_type": "code",
      "metadata": {
        "colab": {
          "base_uri": "https://localhost:8080/"
        },
        "id": "Orj_lraUSRM5",
        "outputId": "7850b14c-5682-4715-c9e4-943f05a3e43d"
      },
      "source": [
        "code = '''\n",
        "def greeting_test(func):\n",
        "    def function_wrapper(x):\n",
        "        \"\"\" function_wrapper of greeting \"\"\"\n",
        "        print(\"Hi, \" + func.__name__ + \" returns:\")\n",
        "        return func(x)\n",
        "    return function_wrapper\n",
        "'''\n",
        "\n",
        "with open('greeting_decorator.py', 'w') as handle:\n",
        "    print(code, file=handle)\n",
        "\n",
        "!cat greeting_decorator.py"
      ],
      "execution_count": null,
      "outputs": [
        {
          "output_type": "stream",
          "name": "stdout",
          "text": [
            "\n",
            "def greeting_test(func):\n",
            "    def function_wrapper(x):\n",
            "        \"\"\" function_wrapper of greeting \"\"\"\n",
            "        print(\"Hi, \" + func.__name__ + \" returns:\")\n",
            "        return func(x)\n",
            "    return function_wrapper\n",
            "\n"
          ]
        }
      ]
    },
    {
      "cell_type": "code",
      "metadata": {
        "colab": {
          "base_uri": "https://localhost:8080/"
        },
        "id": "Kjc8BVIHTGFS",
        "outputId": "57ae2a7d-2c5f-4b6b-e1c7-af697af6a814"
      },
      "source": [
        "# We call it in the following program:\n",
        "\n",
        "from greeting_decorator import greeting_test\n",
        "\n",
        "@greeting_test\n",
        "def f(x):\n",
        "    \"\"\" just some silly function \"\"\"\n",
        "    return x + 4\n",
        "\n",
        "f(10)\n",
        "print(\"function name: \", f.__name__)\n",
        "print(\"docstring: \", f.__doc__)\n",
        "print(\"module name: \", f.__module__) "
      ],
      "execution_count": null,
      "outputs": [
        {
          "output_type": "stream",
          "name": "stdout",
          "text": [
            "Hi, f returns:\n",
            "function name:  function_wrapper\n",
            "docstring:   function_wrapper of greeting \n",
            "module name:  greeting_decorator\n"
          ]
        }
      ]
    },
    {
      "cell_type": "markdown",
      "metadata": {
        "id": "qiU_EIC-UGnH"
      },
      "source": [
        "We get the \"unwanted\" results above.\n",
        "\n",
        "We can save the original attributes of the function f, if we assign them inside of the decorator. We change our previous decorator accordingly and save it as greeting_decorator_manually.py:"
      ]
    },
    {
      "cell_type": "code",
      "metadata": {
        "colab": {
          "base_uri": "https://localhost:8080/"
        },
        "id": "_V0ilELdTQEn",
        "outputId": "e39ae26a-ce3e-4e13-ee5b-f3a5770ecd3d"
      },
      "source": [
        "code_manually = '''\n",
        "def greeting(func):\n",
        "    def function_wrapper(x):\n",
        "        \"\"\" function_wrapper of greeting \"\"\"\n",
        "        print(\"Hi, \" + func.__name__ + \" returns:\")\n",
        "        return func(x)\n",
        "        function_wrapper.__name__ = func.__name__\n",
        "        function_wrapper.__doc__ = func.__doc__\n",
        "        function_wrapper.__module__ = func.__module__\n",
        "        return function_wrapper\n",
        "'''\n",
        "\n",
        "with open('greeting_decorator_manually.py', 'w') as handle:\n",
        "    print(code_manually, file=handle)\n",
        "\n",
        "!cat greeting_decorator_manually.py"
      ],
      "execution_count": null,
      "outputs": [
        {
          "output_type": "stream",
          "name": "stdout",
          "text": [
            "\n",
            "def greeting(func):\n",
            "    def function_wrapper(x):\n",
            "        \"\"\" function_wrapper of greeting \"\"\"\n",
            "        print(\"Hi, \" + func.__name__ + \" returns:\")\n",
            "        return func(x)\n",
            "        function_wrapper.__name__ = func.__name__\n",
            "        function_wrapper.__doc__ = func.__doc__\n",
            "        function_wrapper.__module__ = func.__module__\n",
            "        return function_wrapper\n",
            "\n"
          ]
        }
      ]
    },
    {
      "cell_type": "markdown",
      "metadata": {
        "id": "Ag7AJI7cUilP"
      },
      "source": [
        "In our main program, all we have to do is change the import statement\n",
        "\n",
        "Fortunately, we don't have to add all this code to our decorators to have these results. We can import the decorator \"wraps\" from functools instead and decorate our function in the decorator with it:"
      ]
    },
    {
      "cell_type": "code",
      "metadata": {
        "id": "xv9WK9gRT0BO"
      },
      "source": [
        "from functools import wraps\n",
        "\n",
        "def greeting(func):\n",
        "    @wraps(func)\n",
        "    def function_wrapper(x):\n",
        "        \"\"\" function_wrapper of greeting \"\"\"\n",
        "        print(\"Hi, \" + func.__name__ + \" returns:\")\n",
        "        return func(x)\n",
        "    return function_wrapper"
      ],
      "execution_count": null,
      "outputs": []
    },
    {
      "cell_type": "code",
      "metadata": {
        "id": "s9BH9WCzUpgw"
      },
      "source": [
        ""
      ],
      "execution_count": null,
      "outputs": []
    }
  ]
}