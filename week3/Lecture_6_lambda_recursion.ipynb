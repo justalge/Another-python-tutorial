{
  "nbformat": 4,
  "nbformat_minor": 0,
  "metadata": {
    "colab": {
      "name": "Lecture 6. Lambda. Recursion.ipynb",
      "provenance": [],
      "collapsed_sections": [],
      "authorship_tag": "ABX9TyMlqtOM1DQh+Cm2qZpikTmR",
      "include_colab_link": true
    },
    "kernelspec": {
      "name": "python3",
      "display_name": "Python 3"
    },
    "language_info": {
      "name": "python"
    }
  },
  "cells": [
    {
      "cell_type": "markdown",
      "metadata": {
        "id": "view-in-github",
        "colab_type": "text"
      },
      "source": [
        "<a href=\"https://colab.research.google.com/github/justalge/another_python_totorial/blob/main/week3/Lecture_6_lambda_recursion.ipynb\" target=\"_parent\"><img src=\"https://colab.research.google.com/assets/colab-badge.svg\" alt=\"Open In Colab\"/></a>"
      ]
    },
    {
      "cell_type": "markdown",
      "metadata": {
        "id": "ayMh3CZyNEPD"
      },
      "source": [
        "# Lambda, filter, map, reduce\n",
        "\n",
        "![](https://www.python-course.eu/images/lambda_cubism.webp)\n",
        "\n",
        "Some like it, others hate it and many are afraid of the lambda operator. The lambda operator or lambda function is a way to create small anonymous functions, i.e. functions without a name. These functions are throw-away functions, i.e. they are just needed where they have been created. Lambda functions are mainly used in combination with the functions filter(), map() and reduce(). The lambda feature was added to Python due to the demand from Lisp programmers.\n",
        "\n",
        "The general syntax of a lambda function is quite simple:\n",
        "\n",
        "`lambda argument_list: expression`\n",
        "\n",
        "The argument list consists of a comma separated list of arguments and the expression is an arithmetic expression using these arguments. You can assign the function to a variable to give it a name.\n"
      ]
    },
    {
      "cell_type": "code",
      "metadata": {
        "colab": {
          "base_uri": "https://localhost:8080/"
        },
        "id": "-S9xI2AKHOYG",
        "outputId": "1d06d2cc-56b9-426f-8087-d68ef017ac78"
      },
      "source": [
        "def f_sum_2(a, b):\n",
        "    return a + b\n",
        "\n",
        "a = f_sum_2(3, 5)\n",
        "a"
      ],
      "execution_count": null,
      "outputs": [
        {
          "output_type": "execute_result",
          "data": {
            "text/plain": [
              "8"
            ]
          },
          "metadata": {},
          "execution_count": 112
        }
      ]
    },
    {
      "cell_type": "code",
      "metadata": {
        "colab": {
          "base_uri": "https://localhost:8080/"
        },
        "id": "6Ing4rnsNLPX",
        "outputId": "0b2690d1-1d57-4ab0-abc9-f6d626d71ce9"
      },
      "source": [
        "# the following are equivalent:\n",
        "\n",
        "# Usual function:\n",
        "def f_sum_2(a, b):\n",
        "    return a + b\n",
        "\n",
        "# The following example of a lambda function returns the sum of its two arguments:\n",
        "f_sum_2_lambda = lambda a, b: a + b\n",
        "\n",
        "print(f_sum_2(3, 4))\n",
        "print(f_sum_2_lambda(3))"
      ],
      "execution_count": null,
      "outputs": [
        {
          "output_type": "stream",
          "name": "stdout",
          "text": [
            "7\n",
            "11\n"
          ]
        }
      ]
    },
    {
      "cell_type": "markdown",
      "metadata": {
        "id": "yRaWkm-yOpfU"
      },
      "source": [
        "We can assure you that the advantages of this approach will be apparent, when you will have learnt to use the map() function.\n",
        "\n",
        "#### The `map()` Function\n",
        "\n",
        "`map()` is a function which takes two arguments:\n",
        "\n",
        "`r = map(func, seq)`\n",
        "\n",
        "elements of the sequence seq. Before Python3, map() used to return a list, where each element of the result list was the result of the function func applied on the corresponding element of the list or tuple \"seq\". With Python 3, map() returns an iterator."
      ]
    },
    {
      "cell_type": "code",
      "metadata": {
        "colab": {
          "base_uri": "https://localhost:8080/"
        },
        "id": "nl1yRfktOIfx",
        "outputId": "0dd8a540-8d44-45a3-eda1-6e9b3e8be213"
      },
      "source": [
        "# The following example illustrates the way of working of map():\n",
        "\n",
        "def fahrenheit(T):\n",
        "    return ((float(9)/5)*T + 32)\n",
        "\n",
        "def celsius(T):\n",
        "    return (float(5)/9)*(T-32)\n",
        " \n",
        "temperatures = (36.5, 37, 37.5, 38, 39)\n",
        "F = map(fahrenheit, temperatures)\n",
        "C = map(celsius, F)\n",
        "temperatures_in_Fahrenheit = list(map(fahrenheit, temperatures))\n",
        "temperatures_in_Celsius = list(map(celsius, temperatures_in_Fahrenheit))\n",
        "print(temperatures_in_Fahrenheit)\n",
        "print(temperatures_in_Celsius)"
      ],
      "execution_count": null,
      "outputs": [
        {
          "output_type": "stream",
          "name": "stdout",
          "text": [
            "[97.7, 98.60000000000001, 99.5, 100.4, 102.2]\n",
            "[36.5, 37.00000000000001, 37.5, 38.00000000000001, 39.0]\n"
          ]
        }
      ]
    },
    {
      "cell_type": "code",
      "metadata": {
        "colab": {
          "base_uri": "https://localhost:8080/"
        },
        "id": "ZDIWSAybPRWk",
        "outputId": "5962e4f9-5a71-4648-fc8f-b2b98a188d3b"
      },
      "source": [
        "# In the example above we haven't used lambda. By using lambda, we wouldn't have\n",
        "# had to define and name the functions fahrenheit() and celsius():\n",
        "\n",
        "C = [39.2, 36.5, 37.3, 38, 37.8] \n",
        "F = list(map(lambda x: (float(9)/5)*x + 32, C))\n",
        "print(F)\n",
        "print()\n",
        "\n",
        "C = list(map(lambda x: (float(5)/9)*(x-32), F))\n",
        "print(C)"
      ],
      "execution_count": null,
      "outputs": [
        {
          "output_type": "stream",
          "name": "stdout",
          "text": [
            "[102.56, 97.7, 99.14, 100.4, 100.03999999999999]\n",
            "\n",
            "[39.2, 36.5, 37.300000000000004, 38.00000000000001, 37.8]\n"
          ]
        }
      ]
    },
    {
      "cell_type": "markdown",
      "metadata": {
        "id": "M--So2LxQClb"
      },
      "source": [
        "`map()` can be applied to more than one list. The lists don't have to have the same length. `map()` will apply its lambda function to the elements of the argument lists, i.e. it first applies to the elements with the 0th index, then to the elements with the 1st index until the n-th index is reached:"
      ]
    },
    {
      "cell_type": "code",
      "metadata": {
        "colab": {
          "base_uri": "https://localhost:8080/"
        },
        "id": "65OSnsi9Pfuy",
        "outputId": "63007dd1-5412-48d8-f3ae-41e3953eceae"
      },
      "source": [
        "a = [1, 2, 3, 4, 8, 1001]\n",
        "b = [17, 12, 11, 10]\n",
        "c = [-1, -4, 5, 9]\n",
        "\n",
        "print(list(map(lambda x, y, z : x+y+z, a, b, c)))\n",
        "\n",
        "print(list(map(lambda x, y, z : 2.5*x + 2*y - z, a, b, c)))"
      ],
      "execution_count": null,
      "outputs": [
        {
          "output_type": "stream",
          "name": "stdout",
          "text": [
            "[17, 10, 19, 23]\n",
            "[37.5, 33.0, 24.5, 21.0]\n"
          ]
        }
      ]
    },
    {
      "cell_type": "markdown",
      "metadata": {
        "id": "yA-EjkPAREn4"
      },
      "source": [
        "#### Mapping a List of Functions\n",
        "\n",
        "The `map` function of the previous chapter was used to apply one function to one or more iterables. We will now write a function which applies a bunch of functions, which may be an iterable such as a list or a tuple, for example, to one Python object"
      ]
    },
    {
      "cell_type": "code",
      "metadata": {
        "colab": {
          "base_uri": "https://localhost:8080/"
        },
        "id": "l_ivW7yWQyQy",
        "outputId": "7e312022-e355-4e66-8aad-63126b88b3db"
      },
      "source": [
        "from math import sin, cos, tan, pi\n",
        "\n",
        "def map_functions(x, functions):\n",
        "     \"\"\" map an iterable of functions on the the object x \"\"\"\n",
        "     res = []\n",
        "     for func in functions:\n",
        "         res.append(func(x))\n",
        "     return res\n",
        "\n",
        "family_of_functions = (sin, cos, tan)\n",
        "print(map_functions(pi, family_of_functions))\n",
        "print()\n",
        "\n",
        "# The previously defined map_functions function can be simplified with the list comprehension technique:\n",
        "\n",
        "def map_functions_lc(x, functions):\n",
        "     return [func(x) for func in functions]\n",
        "\n",
        "family_of_functions = (sin, cos, tan)\n",
        "print(map_functions(pi, family_of_functions))"
      ],
      "execution_count": null,
      "outputs": [
        {
          "output_type": "stream",
          "name": "stdout",
          "text": [
            "[1.2246467991473532e-16, -1.0, -1.2246467991473532e-16]\n",
            "\n",
            "[1.2246467991473532e-16, -1.0, -1.2246467991473532e-16]\n"
          ]
        }
      ]
    },
    {
      "cell_type": "markdown",
      "metadata": {
        "id": "jGqhQgNQSO1g"
      },
      "source": [
        "#### Filtering\n",
        "\n",
        "The function\n",
        "\n",
        "`filter(function, sequence)`\n",
        "\n",
        "offers an elegant way to filter out all the elements of a sequence \"seq\", for which the function \"func\" returns True. i.e. an item will be produced by the iterator result of filter(func, seq) if item is included in the sequence \"seq\" and if func(item) returns True.\n",
        "\n",
        "In other words: The function filter(f,l) needs a function f as its first argument. f has to return a Boolean value, i.e. either True or False. This function will be applied to every element of the list l. Only if f returns True will the element be produced by the iterator, which is the return value of filter(function, sequence)"
      ]
    },
    {
      "cell_type": "code",
      "metadata": {
        "colab": {
          "base_uri": "https://localhost:8080/"
        },
        "id": "xhBQjvHjRoOX",
        "outputId": "13be32a9-8c8f-4a6f-b7f9-8a29daa0feb8"
      },
      "source": [
        "# In the following example, we filter out first the odd and then the even\n",
        "# elements of the sequence of the first 11 Fibonacci numbers:\n",
        "\n",
        "fibonacci = [0,1,1,2,3,5,8,13,21,34,55]\n",
        "odd_numbers = list(filter(lambda x: x % 2, fibonacci))\n",
        "print(odd_numbers)\n",
        "print()\n",
        "\n",
        "even_numbers = list(filter(lambda x: x % 2 == 0, fibonacci))\n",
        "print(even_numbers)"
      ],
      "execution_count": null,
      "outputs": [
        {
          "output_type": "stream",
          "name": "stdout",
          "text": [
            "[1, 1, 3, 5, 13, 21, 55]\n",
            "\n",
            "[0, 2, 8, 34]\n"
          ]
        }
      ]
    },
    {
      "cell_type": "markdown",
      "metadata": {
        "id": "mXYPnxfvUgHr"
      },
      "source": [
        "#### Reducing a *List*\n",
        "\n",
        "`reduce()` had been dropped from the core of Python when migrating to Python 3. Guido van Rossum hates reduce(), as we can learn from his statement in a posting, March 10, 2005, in artima.com:\n",
        "\n",
        "\"So now reduce(). This is actually the one I've always hated most, because, apart from a few examples involving + or *, almost every time I see a reduce() call with a non-trivial function argument, I need to grab pen and paper to diagram what's actually being fed into that function before I understand what the reduce() is supposed to do. So in my mind, the applicability of reduce() is pretty much limited to associative operators, and in all other cases it's better to write out the accumulation loop explicitly.\"\n",
        "\n",
        "The function\n",
        "\n",
        "`reduce(func, seq)`\n",
        "\n",
        "continually applies the function func() to the sequence seq. It returns a single value\n",
        "\n",
        "If `seq = [ s1, s2, s3, ... , sn ]`, calling reduce(func, seq) works like this:\n",
        "\n",
        "At first the first two elements of seq will be applied to func, i.e. `func(s1,s2)` The list on which `reduce()` works looks now like this: `[ func(s1, s2), s3, ... , sn ]`\n",
        "\n",
        "In the next step func will be applied on the previous result and the third element of the list, i.e. `func(func(s1, s2),s3)`\n",
        "\n",
        "The list looks like this now: `[ func(func(s1, s2),s3), ... , sn ]`\n",
        "\n",
        "Continues like this until just one element is left and returns this element as the result of `reduce()`\n",
        "\n",
        "![](https://www.python-course.eu/images/reduce_300w.webp)\n"
      ]
    },
    {
      "cell_type": "code",
      "metadata": {
        "colab": {
          "base_uri": "https://localhost:8080/"
        },
        "id": "cCVZlRTHUcbC",
        "outputId": "495d00f2-28b7-4242-e98b-e68fc49cdcdc"
      },
      "source": [
        "# We want to illustrate this way of working of reduce() with a simple example.\n",
        "# We have to import functools to be capable of using reduce:\n",
        "\n",
        "import functools\n",
        "print(functools.reduce(lambda x,y: x+y, [47,11,42,13]))\n",
        "print(sum([47,11,42,13]))"
      ],
      "execution_count": null,
      "outputs": [
        {
          "output_type": "stream",
          "name": "stdout",
          "text": [
            "113\n",
            "113\n"
          ]
        }
      ]
    },
    {
      "cell_type": "markdown",
      "metadata": {
        "id": "q4RPviBxVwir"
      },
      "source": [
        "The following diagram shows the intermediate steps of the calculation:\n",
        "\n",
        "![](https://www.python-course.eu/images/reduce_diagram_350w.webp)\n",
        "\n",
        "#### Examples of `reduce()`:"
      ]
    },
    {
      "cell_type": "code",
      "metadata": {
        "colab": {
          "base_uri": "https://localhost:8080/"
        },
        "id": "Fzrwx8gBVm1N",
        "outputId": "ea6657ab-223b-47a9-c481-a5e3052ca3ae"
      },
      "source": [
        "# Determining the maximum of a list of numerical values by using reduce:\n",
        "\n",
        "from functools import reduce\n",
        "f = lambda a,b: a if (a > b) else b\n",
        "reduce(f, [47,11,42,102,13])"
      ],
      "execution_count": null,
      "outputs": [
        {
          "output_type": "execute_result",
          "data": {
            "text/plain": [
              "102"
            ]
          },
          "metadata": {},
          "execution_count": 14
        }
      ]
    },
    {
      "cell_type": "code",
      "metadata": {
        "colab": {
          "base_uri": "https://localhost:8080/"
        },
        "id": "LgPRkCqOWGH5",
        "outputId": "c91d3236-9c80-48ef-d879-441dc6c7b19a"
      },
      "source": [
        "# Calculating the sum of the numbers from 1 to 100:\n",
        "\n",
        "from functools import reduce\n",
        "reduce(lambda x, y: x+y, range(1,101))"
      ],
      "execution_count": null,
      "outputs": [
        {
          "output_type": "execute_result",
          "data": {
            "text/plain": [
              "5050"
            ]
          },
          "metadata": {},
          "execution_count": 15
        }
      ]
    },
    {
      "cell_type": "code",
      "metadata": {
        "colab": {
          "base_uri": "https://localhost:8080/"
        },
        "id": "zHszF1JWWNSQ",
        "outputId": "f8bea79e-c209-4ede-b66b-a7aaeb8adc0d"
      },
      "source": [
        "# It's very simple to change the previous example to calculate the product\n",
        "# (the factorial) from 1 to a number, but do not choose 100. We just have to\n",
        "# turn the \"+\" operator into \"*\":\n",
        "\n",
        "reduce(lambda x, y: x*y, range(1,49))"
      ],
      "execution_count": null,
      "outputs": [
        {
          "output_type": "execute_result",
          "data": {
            "text/plain": [
              "12413915592536072670862289047373375038521486354677760000000000"
            ]
          },
          "metadata": {},
          "execution_count": 16
        }
      ]
    },
    {
      "cell_type": "markdown",
      "metadata": {
        "id": "KlJEefNOW5oS"
      },
      "source": [
        "# Built-in sorting in python\n",
        "\n",
        "Syntax:\n",
        "\n",
        "`sorted(iterable, key=key, reverse=reverse)`"
      ]
    },
    {
      "cell_type": "code",
      "metadata": {
        "colab": {
          "base_uri": "https://localhost:8080/"
        },
        "id": "ZYogJ8HdWeka",
        "outputId": "a1aeeffa-b4a6-4770-e501-175410f14986"
      },
      "source": [
        "L = [47,11,42,102,13]\n",
        "\n",
        "sorted(L)"
      ],
      "execution_count": null,
      "outputs": [
        {
          "output_type": "execute_result",
          "data": {
            "text/plain": [
              "[11, 13, 42, 47, 102]"
            ]
          },
          "metadata": {},
          "execution_count": 126
        }
      ]
    },
    {
      "cell_type": "code",
      "metadata": {
        "colab": {
          "base_uri": "https://localhost:8080/"
        },
        "id": "qLg8PrqfXC9y",
        "outputId": "addf29c9-8a69-48e9-d5a4-98d99859ee09"
      },
      "source": [
        "L = [(47,11),(47,102),(13,89)]\n",
        "\n",
        "sorted(L)"
      ],
      "execution_count": null,
      "outputs": [
        {
          "output_type": "execute_result",
          "data": {
            "text/plain": [
              "[(13, 89), (47, 11), (47, 102)]"
            ]
          },
          "metadata": {},
          "execution_count": 127
        }
      ]
    },
    {
      "cell_type": "code",
      "metadata": {
        "colab": {
          "base_uri": "https://localhost:8080/"
        },
        "id": "dJ4m7ukAXT2U",
        "outputId": "7f690d65-226a-44ee-81d7-6fe53ec2f545"
      },
      "source": [
        "L = [(47,11),(42,102),(13,89)]\n",
        "\n",
        "sorted(L, key=lambda x: x[1])"
      ],
      "execution_count": null,
      "outputs": [
        {
          "output_type": "execute_result",
          "data": {
            "text/plain": [
              "[(47, 11), (13, 89), (42, 102)]"
            ]
          },
          "metadata": {},
          "execution_count": 20
        }
      ]
    },
    {
      "cell_type": "code",
      "metadata": {
        "colab": {
          "base_uri": "https://localhost:8080/"
        },
        "id": "t3L0N_Q9XYy_",
        "outputId": "4f2909b1-69bb-451e-c0ae-70ade815a412"
      },
      "source": [
        "L = [(47,11),(42,102),(13,89)]\n",
        "\n",
        "sorted(L, key=lambda x: x[1], reverse=True)"
      ],
      "execution_count": null,
      "outputs": [
        {
          "output_type": "execute_result",
          "data": {
            "text/plain": [
              "[(42, 102), (13, 89), (47, 11)]"
            ]
          },
          "metadata": {},
          "execution_count": 21
        }
      ]
    },
    {
      "cell_type": "markdown",
      "metadata": {
        "id": "4tWxzzt3Xm6t"
      },
      "source": [
        "# Recursion. Memoization\n",
        "\n",
        "The adjective \"recursive\" originates from the Latin verb \"recurrere\", which means \"to run back\". And this is what a recursive definition or a recursive function does: It is \"running back\" or returning to itself. Most people who have done some mathematics, computer science or read a book about programming will have encountered the factorial, which is defined in mathematical terms as\n",
        "\n",
        "`n! = n * (n-1)!, if n > 1 and 0! = 1`\n",
        "\n",
        "It's used so often as an example for recursion because of its simplicity and clarity\n",
        "\n",
        "#### Definition of Recursion\n",
        "\n",
        "Recursion is a method of programming or coding a problem, in which a function calls itself one or more times in its body. Usually, it is returning the return value of this function call. If a function definition satisfies the condition of recursion, we call this function a recursive function\n",
        "\n",
        "**Termination condition(!)**: A recursive function has to fulfil an important condition to be used in a program: it has to terminate. A recursive function terminates, if with every recursive call the solution of the problem is downsized and moves towards a base case. A base case is a case, where the problem can be solved without further recursion. A recursion can end up in an infinite loop, if the base case is not met in the calls\n",
        "\n",
        "Example:\n",
        "\n",
        "4! = 4 * 3!\n",
        "3! = 3 * 2!\n",
        "2! = 2 * 1\n",
        "\n",
        "Here base case is 2! (2! = 2 * 1 - handled without recursion - without calling factorial function)\n",
        "\n",
        "In other words, recursion in computer science is a method where the solution to a problem is based on solving smaller instances of the same problem\n",
        "\n",
        "#### Recursive Functions in Python"
      ]
    },
    {
      "cell_type": "code",
      "metadata": {
        "id": "KbLNzEugO2s8"
      },
      "source": [
        "f(n) = f(n-1) * n\n",
        "\n",
        "\n",
        "5! = 4! * 5 = 3! * 4 * 5 = 2! *"
      ],
      "execution_count": null,
      "outputs": []
    },
    {
      "cell_type": "code",
      "metadata": {
        "colab": {
          "base_uri": "https://localhost:8080/"
        },
        "id": "iF9liuv4XeEg",
        "outputId": "6d5ff2a8-d4e4-443b-ec7c-69cc63dda9eb"
      },
      "source": [
        "# Now we come to implement the factorial in Python. It's as easy and elegant as\n",
        "# the mathematical definition:\n",
        "\n",
        "def factorial(n):\n",
        "    if n == 0:\n",
        "        return 1\n",
        "    else:\n",
        "        return n * factorial(n-1)\n",
        "\n",
        "factorial(5)"
      ],
      "execution_count": null,
      "outputs": [
        {
          "output_type": "execute_result",
          "data": {
            "text/plain": [
              "120"
            ]
          },
          "metadata": {},
          "execution_count": 24
        }
      ]
    },
    {
      "cell_type": "code",
      "metadata": {
        "colab": {
          "base_uri": "https://localhost:8080/"
        },
        "id": "OJXUdXQzaSZw",
        "outputId": "32c616a2-b65a-4fa4-dd31-d617de45c065"
      },
      "source": [
        "# We can track how the function works by adding two print() functions\n",
        "# to the previous function definition:\n",
        "\n",
        "def factorial(n):\n",
        "    print(\"factorial has been called with n = \" + str(n))\n",
        "    if n == 1:\n",
        "        return 1\n",
        "    else:\n",
        "        res = n * factorial(n-1)\n",
        "        print(\"intermediate result for \", n, \" * factorial(\" ,n-1, \"): \",res)\n",
        "        return res\t\n",
        "\n",
        "print(factorial(5))"
      ],
      "execution_count": null,
      "outputs": [
        {
          "output_type": "stream",
          "name": "stdout",
          "text": [
            "factorial has been called with n = 5\n",
            "factorial has been called with n = 4\n",
            "factorial has been called with n = 3\n",
            "factorial has been called with n = 2\n",
            "factorial has been called with n = 1\n",
            "intermediate result for  2  * factorial( 1 ):  2\n",
            "intermediate result for  3  * factorial( 2 ):  6\n",
            "intermediate result for  4  * factorial( 3 ):  24\n",
            "intermediate result for  5  * factorial( 4 ):  120\n",
            "120\n"
          ]
        }
      ]
    },
    {
      "cell_type": "code",
      "metadata": {
        "colab": {
          "base_uri": "https://localhost:8080/"
        },
        "id": "wdGcsLwDR8RI",
        "outputId": "38102921-3cd1-4a66-86cb-225c2d844a52"
      },
      "source": [
        "import traceback\n",
        "\n",
        "def f():\n",
        "    g()\n",
        "\n",
        "def g():\n",
        "    for line in traceback.format_stack():\n",
        "        print(line.strip())\n",
        "\n",
        "f()"
      ],
      "execution_count": null,
      "outputs": [
        {
          "output_type": "stream",
          "name": "stdout",
          "text": [
            "File \"/usr/lib/python3.7/runpy.py\", line 193, in _run_module_as_main\n",
            "    \"__main__\", mod_spec)\n",
            "File \"/usr/lib/python3.7/runpy.py\", line 85, in _run_code\n",
            "    exec(code, run_globals)\n",
            "File \"/usr/local/lib/python3.7/dist-packages/ipykernel_launcher.py\", line 16, in <module>\n",
            "    app.launch_new_instance()\n",
            "File \"/usr/local/lib/python3.7/dist-packages/traitlets/config/application.py\", line 846, in launch_instance\n",
            "    app.start()\n",
            "File \"/usr/local/lib/python3.7/dist-packages/ipykernel/kernelapp.py\", line 499, in start\n",
            "    self.io_loop.start()\n",
            "File \"/usr/local/lib/python3.7/dist-packages/tornado/platform/asyncio.py\", line 132, in start\n",
            "    self.asyncio_loop.run_forever()\n",
            "File \"/usr/lib/python3.7/asyncio/base_events.py\", line 541, in run_forever\n",
            "    self._run_once()\n",
            "File \"/usr/lib/python3.7/asyncio/base_events.py\", line 1786, in _run_once\n",
            "    handle._run()\n",
            "File \"/usr/lib/python3.7/asyncio/events.py\", line 88, in _run\n",
            "    self._context.run(self._callback, *self._args)\n",
            "File \"/usr/local/lib/python3.7/dist-packages/tornado/platform/asyncio.py\", line 122, in _handle_events\n",
            "    handler_func(fileobj, events)\n",
            "File \"/usr/local/lib/python3.7/dist-packages/tornado/stack_context.py\", line 300, in null_wrapper\n",
            "    return fn(*args, **kwargs)\n",
            "File \"/usr/local/lib/python3.7/dist-packages/zmq/eventloop/zmqstream.py\", line 448, in _handle_events\n",
            "    self._handle_recv()\n",
            "File \"/usr/local/lib/python3.7/dist-packages/zmq/eventloop/zmqstream.py\", line 477, in _handle_recv\n",
            "    self._run_callback(callback, msg)\n",
            "File \"/usr/local/lib/python3.7/dist-packages/zmq/eventloop/zmqstream.py\", line 431, in _run_callback\n",
            "    callback(*args, **kwargs)\n",
            "File \"/usr/local/lib/python3.7/dist-packages/tornado/stack_context.py\", line 300, in null_wrapper\n",
            "    return fn(*args, **kwargs)\n",
            "File \"/usr/local/lib/python3.7/dist-packages/ipykernel/kernelbase.py\", line 283, in dispatcher\n",
            "    return self.dispatch_shell(stream, msg)\n",
            "File \"/usr/local/lib/python3.7/dist-packages/ipykernel/kernelbase.py\", line 233, in dispatch_shell\n",
            "    handler(stream, idents, msg)\n",
            "File \"/usr/local/lib/python3.7/dist-packages/ipykernel/kernelbase.py\", line 399, in execute_request\n",
            "    user_expressions, allow_stdin)\n",
            "File \"/usr/local/lib/python3.7/dist-packages/ipykernel/ipkernel.py\", line 208, in do_execute\n",
            "    res = shell.run_cell(code, store_history=store_history, silent=silent)\n",
            "File \"/usr/local/lib/python3.7/dist-packages/ipykernel/zmqshell.py\", line 537, in run_cell\n",
            "    return super(ZMQInteractiveShell, self).run_cell(*args, **kwargs)\n",
            "File \"/usr/local/lib/python3.7/dist-packages/IPython/core/interactiveshell.py\", line 2718, in run_cell\n",
            "    interactivity=interactivity, compiler=compiler, result=result)\n",
            "File \"/usr/local/lib/python3.7/dist-packages/IPython/core/interactiveshell.py\", line 2828, in run_ast_nodes\n",
            "    if self.run_code(code, result):\n",
            "File \"/usr/local/lib/python3.7/dist-packages/IPython/core/interactiveshell.py\", line 2882, in run_code\n",
            "    exec(code_obj, self.user_global_ns, self.user_ns)\n",
            "File \"<ipython-input-141-cf7c9c57e2d7>\", line 10, in <module>\n",
            "    f()\n",
            "File \"<ipython-input-141-cf7c9c57e2d7>\", line 4, in f\n",
            "    g()\n",
            "File \"<ipython-input-141-cf7c9c57e2d7>\", line 7, in g\n",
            "    for line in traceback.format_stack():\n"
          ]
        }
      ]
    },
    {
      "cell_type": "code",
      "metadata": {
        "colab": {
          "base_uri": "https://localhost:8080/"
        },
        "id": "LA9opkdWRxiV",
        "outputId": "f7ae8717-e3c4-4062-dee2-1d2e66184086"
      },
      "source": [
        "traceback.walk_tb(factorial)"
      ],
      "execution_count": null,
      "outputs": [
        {
          "output_type": "execute_result",
          "data": {
            "text/plain": [
              "<generator object walk_tb at 0x7fbb5d50cf50>"
            ]
          },
          "metadata": {},
          "execution_count": 139
        }
      ]
    },
    {
      "cell_type": "markdown",
      "metadata": {
        "id": "jHwKEXsXa144"
      },
      "source": [
        "We see that first we are moving from up to down: when making recursion calls (`factorial has been called` print), and then we are moving **back** from bottom to up: when returnint the results from recursion calls (`intermediate result for` print)\n",
        "\n",
        "#### Caveats. Tail recursion\n",
        "\n",
        "When a function is implemented recursevely it takes additional memory for stack (which holds recursive function calls). In python recursion limit is not very big - that means by default you can't run very deep recursion: it will cause the stack overflow:"
      ]
    },
    {
      "cell_type": "code",
      "metadata": {
        "colab": {
          "base_uri": "https://localhost:8080/",
          "height": 375
        },
        "id": "oxhPDNwhaqM8",
        "outputId": "6d497f33-8302-4904-9eb7-69f200b610c2"
      },
      "source": [
        "def recursive_function(n, sum):\n",
        "    recursive_function.cnt += 1\n",
        "    if n < 1:\n",
        "        return sum\n",
        "    else:\n",
        "        return recursive_function(n-1, sum+n)\n",
        "recursive_function.cnt = 0\n",
        "\n",
        "c = 1000\n",
        "print(recursive_function(c, 0))\n"
      ],
      "execution_count": null,
      "outputs": [
        {
          "output_type": "error",
          "ename": "RecursionError",
          "evalue": "ignored",
          "traceback": [
            "\u001b[0;31m---------------------------------------------------------------------------\u001b[0m",
            "\u001b[0;31mRecursionError\u001b[0m                            Traceback (most recent call last)",
            "\u001b[0;32m<ipython-input-37-57dde259aaeb>\u001b[0m in \u001b[0;36m<module>\u001b[0;34m()\u001b[0m\n\u001b[1;32m      8\u001b[0m \u001b[0;34m\u001b[0m\u001b[0m\n\u001b[1;32m      9\u001b[0m \u001b[0mc\u001b[0m \u001b[0;34m=\u001b[0m \u001b[0;36m1000\u001b[0m\u001b[0;34m\u001b[0m\u001b[0;34m\u001b[0m\u001b[0m\n\u001b[0;32m---> 10\u001b[0;31m \u001b[0mprint\u001b[0m\u001b[0;34m(\u001b[0m\u001b[0mrecursive_function\u001b[0m\u001b[0;34m(\u001b[0m\u001b[0mc\u001b[0m\u001b[0;34m,\u001b[0m \u001b[0;36m0\u001b[0m\u001b[0;34m)\u001b[0m\u001b[0;34m)\u001b[0m\u001b[0;34m\u001b[0m\u001b[0;34m\u001b[0m\u001b[0m\n\u001b[0m",
            "\u001b[0;32m<ipython-input-37-57dde259aaeb>\u001b[0m in \u001b[0;36mrecursive_function\u001b[0;34m(n, sum)\u001b[0m\n\u001b[1;32m      4\u001b[0m         \u001b[0;32mreturn\u001b[0m \u001b[0msum\u001b[0m\u001b[0;34m\u001b[0m\u001b[0;34m\u001b[0m\u001b[0m\n\u001b[1;32m      5\u001b[0m     \u001b[0;32melse\u001b[0m\u001b[0;34m:\u001b[0m\u001b[0;34m\u001b[0m\u001b[0;34m\u001b[0m\u001b[0m\n\u001b[0;32m----> 6\u001b[0;31m         \u001b[0;32mreturn\u001b[0m \u001b[0mrecursive_function\u001b[0m\u001b[0;34m(\u001b[0m\u001b[0mn\u001b[0m\u001b[0;34m-\u001b[0m\u001b[0;36m1\u001b[0m\u001b[0;34m,\u001b[0m \u001b[0msum\u001b[0m\u001b[0;34m+\u001b[0m\u001b[0mn\u001b[0m\u001b[0;34m)\u001b[0m\u001b[0;34m\u001b[0m\u001b[0;34m\u001b[0m\u001b[0m\n\u001b[0m\u001b[1;32m      7\u001b[0m \u001b[0mrecursive_function\u001b[0m\u001b[0;34m.\u001b[0m\u001b[0mcnt\u001b[0m \u001b[0;34m=\u001b[0m \u001b[0;36m0\u001b[0m\u001b[0;34m\u001b[0m\u001b[0;34m\u001b[0m\u001b[0m\n\u001b[1;32m      8\u001b[0m \u001b[0;34m\u001b[0m\u001b[0m\n",
            "... last 1 frames repeated, from the frame below ...\n",
            "\u001b[0;32m<ipython-input-37-57dde259aaeb>\u001b[0m in \u001b[0;36mrecursive_function\u001b[0;34m(n, sum)\u001b[0m\n\u001b[1;32m      4\u001b[0m         \u001b[0;32mreturn\u001b[0m \u001b[0msum\u001b[0m\u001b[0;34m\u001b[0m\u001b[0;34m\u001b[0m\u001b[0m\n\u001b[1;32m      5\u001b[0m     \u001b[0;32melse\u001b[0m\u001b[0;34m:\u001b[0m\u001b[0;34m\u001b[0m\u001b[0;34m\u001b[0m\u001b[0m\n\u001b[0;32m----> 6\u001b[0;31m         \u001b[0;32mreturn\u001b[0m \u001b[0mrecursive_function\u001b[0m\u001b[0;34m(\u001b[0m\u001b[0mn\u001b[0m\u001b[0;34m-\u001b[0m\u001b[0;36m1\u001b[0m\u001b[0;34m,\u001b[0m \u001b[0msum\u001b[0m\u001b[0;34m+\u001b[0m\u001b[0mn\u001b[0m\u001b[0;34m)\u001b[0m\u001b[0;34m\u001b[0m\u001b[0;34m\u001b[0m\u001b[0m\n\u001b[0m\u001b[1;32m      7\u001b[0m \u001b[0mrecursive_function\u001b[0m\u001b[0;34m.\u001b[0m\u001b[0mcnt\u001b[0m \u001b[0;34m=\u001b[0m \u001b[0;36m0\u001b[0m\u001b[0;34m\u001b[0m\u001b[0;34m\u001b[0m\u001b[0m\n\u001b[1;32m      8\u001b[0m \u001b[0;34m\u001b[0m\u001b[0m\n",
            "\u001b[0;31mRecursionError\u001b[0m: maximum recursion depth exceeded in comparison"
          ]
        }
      ]
    },
    {
      "cell_type": "code",
      "metadata": {
        "colab": {
          "base_uri": "https://localhost:8080/"
        },
        "id": "7ZNa5FmVgkJs",
        "outputId": "f3617113-97b8-4cb7-8fb4-6fc7b679b11d"
      },
      "source": [
        "# lets check on which function call it has been broken:\n",
        "\n",
        "recursive_function.cnt"
      ],
      "execution_count": null,
      "outputs": [
        {
          "output_type": "execute_result",
          "data": {
            "text/plain": [
              "970"
            ]
          },
          "metadata": {},
          "execution_count": 38
        }
      ]
    },
    {
      "cell_type": "code",
      "metadata": {
        "colab": {
          "base_uri": "https://localhost:8080/"
        },
        "id": "fm-svpcMeafd",
        "outputId": "8012f82f-1065-4cbc-c73e-df7f09f8c8ea"
      },
      "source": [
        "# lets check limit of recursion in python:\n",
        "\n",
        "import sys\n",
        "print(sys.getrecursionlimit())"
      ],
      "execution_count": null,
      "outputs": [
        {
          "output_type": "stream",
          "name": "stdout",
          "text": [
            "1000\n"
          ]
        }
      ]
    },
    {
      "cell_type": "code",
      "metadata": {
        "colab": {
          "base_uri": "https://localhost:8080/"
        },
        "id": "rvG-K-c9eixG",
        "outputId": "c319e5f0-8c9d-45e0-d9bb-aa16cf7a206e"
      },
      "source": [
        "# importing the sys module\n",
        "import sys\n",
        " \n",
        "# the setrecursionlimit function is\n",
        "# used to modify the default recursion\n",
        "# limit set by python. Using this,\n",
        "# we can increase the recursion limit\n",
        "# to satisfy our needs\n",
        " \n",
        "sys.setrecursionlimit(10**6)\n",
        "\n",
        "# and try again:\n",
        "\n",
        "def recursive_function(n, sum):\n",
        "    recursive_function.cnt += 1\n",
        "    if n < 1:\n",
        "        return sum\n",
        "    else:\n",
        "        return recursive_function(n-1, sum+n)\n",
        "recursive_function.cnt = 0\n",
        "\n",
        "c = 1000\n",
        "print(recursive_function(c, 0))\n",
        "print('Num of calls:', recursive_function.cnt)"
      ],
      "execution_count": null,
      "outputs": [
        {
          "output_type": "stream",
          "name": "stdout",
          "text": [
            "500500\n",
            "Num of calls: 1001\n"
          ]
        }
      ]
    },
    {
      "cell_type": "markdown",
      "metadata": {
        "id": "6ZqgxFtUhMtn"
      },
      "source": [
        "But doing so is dangerous -- the standard limit is a little conservative, but Python stackframes can be quite big. What we can do else? We can convert our recursion algorithm to iterative.\n",
        "\n",
        "Can we convert every recursive algorithm to an iterative one? Yes. But sometimes we will need a stack data structure to emulate stack of function calls. But sometimes we can do it without stack easily. It is possible for `tail recursion`\n",
        "\n",
        "#### Tail recursion\n",
        "\n",
        "Consider a simple function that adds the first N natural numbers. (e.g. sum(5) = 0 + 1 + 2 + 3 + 4 + 5 = 15)"
      ]
    },
    {
      "cell_type": "code",
      "metadata": {
        "colab": {
          "base_uri": "https://localhost:8080/"
        },
        "id": "SBKqtz_wfFDk",
        "outputId": "9d2d24a7-034a-4c85-d6ee-658411eae4d3"
      },
      "source": [
        "# here is recursion implementation:\n",
        "\n",
        "def recsum(x):\n",
        "    if (x == 0):\n",
        "        return 0\n",
        "    else:\n",
        "        return x + recsum(x - 1)\n",
        "\n",
        "print('Recursive call:', recsum(5))\n",
        "\n",
        "# If you called recsum(5), this is what the Python interpreter would evaluate:\n",
        "\n",
        "# recsum(5)\n",
        "# 5 + recsum(4)\n",
        "# 5 + (4 + recsum(3))\n",
        "# 5 + (4 + (3 + recsum(2)))\n",
        "# 5 + (4 + (3 + (2 + recsum(1))))\n",
        "# 5 + (4 + (3 + (2 + (1 + recsum(0)))))\n",
        "# 5 + (4 + (3 + (2 + (1 + 0))))\n",
        "# 5 + (4 + (3 + (2 + 1)))\n",
        "# 5 + (4 + (3 + 3))\n",
        "# 5 + (4 + 6)\n",
        "# 5 + 10\n",
        "# 15\n",
        "\n",
        "# Note how every recursive call has to complete before the Python interpreter\n",
        "# begins to actually do the work of calculating the sum\n",
        "\n",
        "# Here's a tail-recursive version of the same function:\n",
        "\n",
        "def tailrecsum(x, running_total = 0):\n",
        "    if (x == 0):\n",
        "        return running_total\n",
        "    else:\n",
        "        return tailrecsum(x - 1, running_total + x)\n",
        "\n",
        "print('Tail recursive call:', tailrecsum(5))\n",
        "\n",
        "# Here's the sequence of events that would occur if you called tailrecsum(5),\n",
        "# (which would effectively be tailrecsum(5, 0), because of\n",
        "# the default second argument):\n",
        "\n",
        "# tailrecsum(5, 0)\n",
        "# tailrecsum(4, 5)\n",
        "# tailrecsum(3, 9)\n",
        "# tailrecsum(2, 12)\n",
        "# tailrecsum(1, 14)\n",
        "# tailrecsum(0, 15)\n",
        "# 15\n",
        "\n",
        "# In the tail-recursive case, with each evaluation of the recursive call,\n",
        "# the running_total is updated"
      ],
      "execution_count": null,
      "outputs": [
        {
          "output_type": "stream",
          "name": "stdout",
          "text": [
            "Recursive call: 15\n",
            "Tail recursive call: 15\n"
          ]
        }
      ]
    },
    {
      "cell_type": "markdown",
      "metadata": {
        "id": "US5CKC_bjbRW"
      },
      "source": [
        "When we can rewrite our recursive function as a tail recursion it can be easily converted to an iterative form.\n",
        "\n",
        "Often it is so when the recursive call is the last thing in function body.\n",
        "\n",
        "It is so for factorial function. Let's have a look at an iterative version of the factorial function:"
      ]
    },
    {
      "cell_type": "code",
      "metadata": {
        "colab": {
          "base_uri": "https://localhost:8080/"
        },
        "id": "X2Y0V64WiPmc",
        "outputId": "9c8d5118-6e41-4767-f48d-a0ab3bdccfb0"
      },
      "source": [
        "def iterative_factorial(n):\n",
        "    result = 1\n",
        "    for i in range(2,n+1):\n",
        "        result *= i\n",
        "    return result\n",
        "\n",
        "\n",
        "for i in range(5):\n",
        "    print(i, iterative_factorial(i))"
      ],
      "execution_count": null,
      "outputs": [
        {
          "output_type": "stream",
          "name": "stdout",
          "text": [
            "0 1\n",
            "1 1\n",
            "2 2\n",
            "3 6\n",
            "4 24\n"
          ]
        }
      ]
    },
    {
      "cell_type": "markdown",
      "metadata": {
        "id": "vJuVV6S2kL8X"
      },
      "source": [
        "It is common practice to extend the factorial function for 0 as an argument. It makes sense to define 0! to be 1, because there is exactly one permutation of zero objects, i.e. if nothing is to permute, \"everything\" is left in place. Another reason is that the number of ways to choose n elements among a set of n is calculated as n! divided by the product of n! and 0!\n",
        "\n",
        "All we have to do to implement this is to change the condition of the if statement:"
      ]
    },
    {
      "cell_type": "code",
      "metadata": {
        "id": "dVqpqeawkFYD"
      },
      "source": [
        "def factorial(n):\n",
        "    if n == 0:\n",
        "        return 1\n",
        "    else:\n",
        "        return n * factorial(n-1)"
      ],
      "execution_count": null,
      "outputs": []
    },
    {
      "cell_type": "markdown",
      "metadata": {
        "id": "n0QIIKqjkX9Y"
      },
      "source": [
        "#### Fibonacci Numbers. Memoization\n",
        "\n",
        "The Fibonacci numbers are defined by:\n",
        "\n",
        "$F_n = F_{n-} + F_{n-2}$\n",
        "\n",
        "with $F_0 = 0$ and $F_1 = 1$\n",
        "\n",
        "The Fibonacci sequence is named after the mathematician Leonardo of Pisa, who is better known as Fibonacci. In his book \"Liber Abaci\" (published in 1202) he introduced the sequence as an exercise dealing with bunnies. His sequence of the Fibonacci numbers begins with F1 = 1, while in modern mathematics the sequence starts with F0 = 0. But this has no effect on the other members of the sequence.\n",
        "\n",
        "The Fibonacci numbers are the result of an artificial rabbit population, satisfying the following conditions:\n",
        "\n",
        "* a newly born pair of rabbits, one male, one female, build the initial population\n",
        "* these rabbits are able to mate at the age of one month so that at the end of its second month a female can bring forth another pair of rabbits\n",
        "* these rabbits are immortal\n",
        "* a mating pair always produces one new pair (one male, one female) every month from the second month onwards"
      ]
    },
    {
      "cell_type": "code",
      "metadata": {
        "id": "V3XJ2_ejkSmC"
      },
      "source": [
        "# The Fibonacci numbers are easy to write as a Python function. It's more or\n",
        "# less a one to one mapping from the mathematical definition:\n",
        "\n",
        "def fib(n):\n",
        "    if n == 0:\n",
        "        return 0\n",
        "    elif n == 1:\n",
        "        return 1\n",
        "    else:\n",
        "        return fib(n-1) + fib(n-2)\n",
        "\n",
        "# An iterative solution is also easy to write, though the recursive solution\n",
        "# looks more like the definition:\n",
        "\n",
        "def fibi(n):\n",
        "    old, new = 0, 1\n",
        "    if n == 0:\n",
        "        return 0\n",
        "    for i in range(n-1):\n",
        "        old, new = new, old + new\n",
        "    return new"
      ],
      "execution_count": null,
      "outputs": []
    },
    {
      "cell_type": "markdown",
      "metadata": {
        "id": "1_kbdlwTzHqj"
      },
      "source": [
        "We will write it to a file:"
      ]
    },
    {
      "cell_type": "code",
      "metadata": {
        "colab": {
          "base_uri": "https://localhost:8080/"
        },
        "id": "87AEzgIjzKth",
        "outputId": "cbdc1468-c6cb-48b2-c7db-9e65500d14da"
      },
      "source": [
        "data = '''\n",
        "\n",
        "\"\"\" A module containing both a recursive and an iterative implementation of the Fibonacci function. \n",
        "The purpose of this module consists in showing the inefficiency of a purely recursive implementation of Fibonacci! \"\"\"\n",
        "\n",
        "def fib(n):\n",
        "    \"\"\" recursive version of the Fibonacci function \"\"\"\n",
        "    if n == 0:\n",
        "        return 0\n",
        "    elif n == 1:\n",
        "        return 1\n",
        "    else:\n",
        "        return fib(n-1) + fib(n-2)\n",
        "    \n",
        "def fibi(n):\n",
        "    \"\"\" iterative version of the Fibonacci function \"\"\"\n",
        "    old, new = 0, 1\n",
        "    if n == 0:\n",
        "        return 0\n",
        "    for i in range(n-1):\n",
        "        old, new = new, old + new\n",
        "    return new\n",
        "\n",
        "'''\n",
        "with open('fibonacci.py', 'w') as handle:\n",
        "    print(data, file=handle)\n",
        "\n",
        "!cat fibonacci.py"
      ],
      "execution_count": null,
      "outputs": [
        {
          "output_type": "stream",
          "name": "stdout",
          "text": [
            "\n",
            "\n",
            "\"\"\" A module containing both a recursive and an iterative implementation of the Fibonacci function. \n",
            "The purpose of this module consists in showing the inefficiency of a purely recursive implementation of Fibonacci! \"\"\"\n",
            "\n",
            "def fib(n):\n",
            "    \"\"\" recursive version of the Fibonacci function \"\"\"\n",
            "    if n == 0:\n",
            "        return 0\n",
            "    elif n == 1:\n",
            "        return 1\n",
            "    else:\n",
            "        return fib(n-1) + fib(n-2)\n",
            "    \n",
            "def fibi(n):\n",
            "    \"\"\" iterative version of the Fibonacci function \"\"\"\n",
            "    old, new = 0, 1\n",
            "    if n == 0:\n",
            "        return 0\n",
            "    for i in range(n-1):\n",
            "        old, new = new, old + new\n",
            "    return new\n",
            "\n",
            "\n"
          ]
        }
      ]
    },
    {
      "cell_type": "markdown",
      "metadata": {
        "id": "SJ_d2g_Iy6ek"
      },
      "source": [
        "If you check the functions fib() and fibi(), you will find out that the iterative version fibi() is a lot faster than the recursive version fib(). To get an idea of how much this \"a lot faster\" can be, we have written a script, which uses the timeit module, to measure the calls. To do this, we save the function definitions for fib and fibi in a file fibonacci.py, which we can import in the program (fibonacci_runit.py) below:"
      ]
    },
    {
      "cell_type": "code",
      "metadata": {
        "colab": {
          "base_uri": "https://localhost:8080/"
        },
        "id": "dd9Ym1zhmHmF",
        "outputId": "403865c9-24e8-45ed-a1f5-e262a549eb15"
      },
      "source": [
        "# %%time\n",
        "\n",
        "# import time\n",
        "# start = time.time()\n",
        "# ...\n",
        "# print(time.time()-start)\n",
        "\n",
        "from timeit import Timer\n",
        "\n",
        "t1 = Timer(\"fib(10)\",\"from fibonacci import fib\")\n",
        "\n",
        "for i in range(1, 20):\n",
        "    cmd = \"fib(\" + str(i) + \")\"\n",
        "    t1 = Timer(cmd, \"from fibonacci import fib\")\n",
        "    time1 = t1.timeit(3)\n",
        "    cmd = \"fibi(\" + str(i) + \")\"\n",
        "    t2 = Timer(cmd, \"from fibonacci import fibi\")\n",
        "    time2 = t2.timeit(3)\n",
        "    print(f\"n={i:2d}, fib: {time1:8.6f}, fibi:  {time2:7.6f}, time1/time2: {time1/time2:10.2f}\")\n",
        "\n",
        "# time1 is the time in seconds it takes for 3 calls to fib(n) and time2 respectively the time for fibi(n)."
      ],
      "execution_count": null,
      "outputs": [
        {
          "output_type": "stream",
          "name": "stdout",
          "text": [
            "n= 1, fib: 0.000004, fibi:  0.000003, time1/time2:       1.20\n",
            "n= 2, fib: 0.000005, fibi:  0.000006, time1/time2:       0.90\n",
            "n= 3, fib: 0.000017, fibi:  0.000006, time1/time2:       2.74\n",
            "n= 4, fib: 0.000011, fibi:  0.000007, time1/time2:       1.57\n",
            "n= 5, fib: 0.000016, fibi:  0.000007, time1/time2:       2.27\n",
            "n= 6, fib: 0.000027, fibi:  0.000006, time1/time2:       4.10\n",
            "n= 7, fib: 0.000031, fibi:  0.000006, time1/time2:       5.30\n",
            "n= 8, fib: 0.000034, fibi:  0.000004, time1/time2:       7.64\n",
            "n= 9, fib: 0.000053, fibi:  0.000004, time1/time2:      11.84\n",
            "n=10, fib: 0.000153, fibi:  0.000008, time1/time2:      19.52\n",
            "n=11, fib: 0.000136, fibi:  0.000005, time1/time2:      28.29\n",
            "n=12, fib: 0.000226, fibi:  0.000005, time1/time2:      46.74\n",
            "n=13, fib: 0.000351, fibi:  0.000005, time1/time2:      67.67\n",
            "n=14, fib: 0.000570, fibi:  0.000005, time1/time2:     103.58\n",
            "n=15, fib: 0.000957, fibi:  0.000005, time1/time2:     175.14\n",
            "n=16, fib: 0.001697, fibi:  0.000006, time1/time2:     263.85\n",
            "n=17, fib: 0.002459, fibi:  0.000006, time1/time2:     391.81\n",
            "n=18, fib: 0.003960, fibi:  0.000007, time1/time2:     551.80\n",
            "n=19, fib: 0.006449, fibi:  0.000009, time1/time2:     685.01\n"
          ]
        }
      ]
    },
    {
      "cell_type": "markdown",
      "metadata": {
        "id": "PEgrJjw60D8T"
      },
      "source": [
        "What's wrong with our recursive implementation?\n",
        "\n",
        "Let's have a look at the calculation tree, i.e. the order in which the functions are called. fib() is substituted by f().\n",
        "\n",
        "![](https://www.python-course.eu/images/fib_calculation_tree_500w.webp)\n",
        "\n",
        "\n",
        "We can see that the subtree f(2) appears 3 times and the subtree for the calculation of f(3) two times. If you imagine extending this tree for f(6), you will understand that f(4) will be called two times, f(3) three times and so on. This means, our recursion doesn't remember previously calculated values.\n",
        "We can implement a \"memory\" for our recursive version by using a dictionary to save the previously calculated values. We call this version fibm:"
      ]
    },
    {
      "cell_type": "code",
      "metadata": {
        "id": "Wy_maP0OzjiB"
      },
      "source": [
        "memo = {0:0, 1:1}\n",
        "def fibm(n):\n",
        "    if not n in memo:\n",
        "        memo[n] = fibm(n-1) + fibm(n-2)\n",
        "    return memo[n]"
      ],
      "execution_count": null,
      "outputs": []
    },
    {
      "cell_type": "markdown",
      "metadata": {
        "id": "U3DUNVnz3-s_"
      },
      "source": [
        "Before we can do some timing on the new version, we add it to our fibonacci module:"
      ]
    },
    {
      "cell_type": "code",
      "metadata": {
        "colab": {
          "base_uri": "https://localhost:8080/"
        },
        "id": "oQP3vKeV35hw",
        "outputId": "b04b79d2-61b6-4943-bc9f-d382833caabe"
      },
      "source": [
        "data = '''\n",
        "\n",
        "\"\"\" A module containing both a recursive and an iterative implementation of the Fibonacci function. \n",
        "The purpose of this module consists in showing the inefficiency of a purely recursive implementation of Fibonacci! \"\"\"\n",
        "\n",
        "def fib(n):\n",
        "    \"\"\" recursive version of the Fibonacci function \"\"\"\n",
        "    if n == 0:\n",
        "        return 0\n",
        "    elif n == 1:\n",
        "        return 1\n",
        "    else:\n",
        "        return fib(n-1) + fib(n-2)\n",
        "    \n",
        "def fibi(n):\n",
        "    \"\"\" iterative version of the Fibonacci function \"\"\"\n",
        "    old, new = 0, 1\n",
        "    if n == 0:\n",
        "        return 0\n",
        "    for i in range(n-1):\n",
        "        old, new = new, old + new\n",
        "    return new\n",
        "\n",
        "memo = {0:0, 1:1}\n",
        "\n",
        "def fibm(n):\n",
        "    \"\"\" recursive Fibonacci function which memoizes previously \n",
        "    calculated values with the help of a dictionary memo\"\"\"\n",
        "    if not n in memo:\n",
        "        memo[n] = fibm(n-1) + fibm(n-2)\n",
        "    return memo[n]\n",
        "\n",
        "'''\n",
        "with open('fibonacci_m.py', 'w') as handle:\n",
        "    print(data, file=handle)\n",
        "\n",
        "!cat fibonacci_m.py"
      ],
      "execution_count": null,
      "outputs": [
        {
          "output_type": "stream",
          "name": "stdout",
          "text": [
            "\n",
            "\n",
            "\"\"\" A module containing both a recursive and an iterative implementation of the Fibonacci function. \n",
            "The purpose of this module consists in showing the inefficiency of a purely recursive implementation of Fibonacci! \"\"\"\n",
            "\n",
            "def fib(n):\n",
            "    \"\"\" recursive version of the Fibonacci function \"\"\"\n",
            "    if n == 0:\n",
            "        return 0\n",
            "    elif n == 1:\n",
            "        return 1\n",
            "    else:\n",
            "        return fib(n-1) + fib(n-2)\n",
            "    \n",
            "def fibi(n):\n",
            "    \"\"\" iterative version of the Fibonacci function \"\"\"\n",
            "    old, new = 0, 1\n",
            "    if n == 0:\n",
            "        return 0\n",
            "    for i in range(n-1):\n",
            "        old, new = new, old + new\n",
            "    return new\n",
            "\n",
            "memo = {0:0, 1:1}\n",
            "\n",
            "def fibm(n):\n",
            "    \"\"\" recursive Fibonacci function which memoizes previously \n",
            "    calculated values with the help of a dictionary memo\"\"\"\n",
            "    if not n in memo:\n",
            "        memo[n] = fibm(n-1) + fibm(n-2)\n",
            "    return memo[n]\n",
            "\n",
            "\n"
          ]
        }
      ]
    },
    {
      "cell_type": "markdown",
      "metadata": {
        "id": "5xIDJvTi4NZE"
      },
      "source": [
        "We time it again to compare it with fibi():"
      ]
    },
    {
      "cell_type": "code",
      "metadata": {
        "colab": {
          "base_uri": "https://localhost:8080/"
        },
        "id": "ifpiXQ6m4JG5",
        "outputId": "59c7a61c-56a4-43ad-a65d-09ba8b6d1503"
      },
      "source": [
        "from timeit import Timer\n",
        "from fibonacci import fib\n",
        "\n",
        "t1 = Timer(\"fib(10)\",\"from fibonacci_m import fib\")\n",
        "\n",
        "for i in range(1, 20):\n",
        "    s = \"fibm(\" + str(i) + \")\"\n",
        "    t1 = Timer(s, \"from fibonacci_m import fibm\")\n",
        "    time1 = t1.timeit(3)\n",
        "    s = \"fibi(\" + str(i) + \")\"\n",
        "    t2 = Timer(s,\"from fibonacci_m import fibi\")\n",
        "    time2 = t2.timeit(3)\n",
        "    print(f\"n={i:2d}, fibm: {time1:8.6f}, fibi:  {time2:7.6f}, time1/time2: {time1/time2:10.2f}\")"
      ],
      "execution_count": null,
      "outputs": [
        {
          "output_type": "stream",
          "name": "stdout",
          "text": [
            "n= 1, fibm: 0.000003, fibi:  0.000004, time1/time2:       0.69\n",
            "n= 2, fibm: 0.000005, fibi:  0.000005, time1/time2:       1.04\n",
            "n= 3, fibm: 0.000005, fibi:  0.000006, time1/time2:       0.77\n",
            "n= 4, fibm: 0.000005, fibi:  0.000007, time1/time2:       0.71\n",
            "n= 5, fibm: 0.000005, fibi:  0.000007, time1/time2:       0.76\n",
            "n= 6, fibm: 0.000005, fibi:  0.000006, time1/time2:       0.80\n",
            "n= 7, fibm: 0.000005, fibi:  0.000006, time1/time2:       0.74\n",
            "n= 8, fibm: 0.000005, fibi:  0.000007, time1/time2:       0.75\n",
            "n= 9, fibm: 0.000003, fibi:  0.000005, time1/time2:       0.71\n",
            "n=10, fibm: 0.000003, fibi:  0.000005, time1/time2:       0.75\n",
            "n=11, fibm: 0.000003, fibi:  0.000005, time1/time2:       0.61\n",
            "n=12, fibm: 0.000003, fibi:  0.000005, time1/time2:       0.63\n",
            "n=13, fibm: 0.000003, fibi:  0.000005, time1/time2:       0.61\n",
            "n=14, fibm: 0.000003, fibi:  0.000005, time1/time2:       0.54\n",
            "n=15, fibm: 0.000003, fibi:  0.000006, time1/time2:       0.51\n",
            "n=16, fibm: 0.000003, fibi:  0.000006, time1/time2:       0.51\n",
            "n=17, fibm: 0.000003, fibi:  0.000006, time1/time2:       0.50\n",
            "n=18, fibm: 0.000003, fibi:  0.000006, time1/time2:       0.52\n",
            "n=19, fibm: 0.000003, fibi:  0.000007, time1/time2:       0.46\n"
          ]
        }
      ]
    },
    {
      "cell_type": "markdown",
      "metadata": {
        "id": "JMaZe0-f6gZd"
      },
      "source": [
        "We can see that it is even faster than the iterative version. Of course, the larger the arguments, the greater the benefit of our memorization:"
      ]
    },
    {
      "cell_type": "code",
      "metadata": {
        "colab": {
          "base_uri": "https://localhost:8080/"
        },
        "id": "v460hdRC6mqd",
        "outputId": "b263adc3-8a55-4d27-b421-e0f3399b18c2"
      },
      "source": [
        "data = '''\n",
        "\n",
        "\"\"\" A module containing both a recursive and an iterative implementation of the Fibonacci function. \n",
        "The purpose of this module consists in showing the inefficiency of a purely recursive implementation of Fibonacci! \"\"\"\n",
        "\n",
        "from functools import lru_cache\n",
        "\n",
        "def fib(n):\n",
        "    \"\"\" recursive version of the Fibonacci function \"\"\"\n",
        "    if n == 0:\n",
        "        return 0\n",
        "    elif n == 1:\n",
        "        return 1\n",
        "    else:\n",
        "        return fib(n-1) + fib(n-2)\n",
        "    \n",
        "def fibi(n):\n",
        "    \"\"\" iterative version of the Fibonacci function \"\"\"\n",
        "    old, new = 0, 1\n",
        "    if n == 0:\n",
        "        return 0\n",
        "    for i in range(n-1):\n",
        "        old, new = new, old + new\n",
        "    return new\n",
        "\n",
        "memo = {0:0, 1:1}\n",
        "\n",
        "def fibm(n):\n",
        "    \"\"\" recursive Fibonacci function which memoizes previously \n",
        "    calculated values with the help of a dictionary memo\"\"\"\n",
        "    if not n in memo:\n",
        "        memo[n] = fibm(n-1) + fibm(n-2)\n",
        "    return memo[n]\n",
        "\n",
        "@lru_cache(maxsize=100)\n",
        "def fib_lru(n):\n",
        "    \"\"\" recursive version of the Fibonacci function \"\"\"\n",
        "    if n == 0:\n",
        "        return 0\n",
        "    elif n == 1:\n",
        "        return 1\n",
        "    else:\n",
        "        return fib(n-1) + fib(n-2)\n",
        "\n",
        "'''\n",
        "with open('fibonacci_y.py', 'w') as handle:\n",
        "    print(data, file=handle)\n",
        "\n",
        "!cat fibonacci_y.py"
      ],
      "execution_count": null,
      "outputs": [
        {
          "output_type": "stream",
          "name": "stdout",
          "text": [
            "\n",
            "\n",
            "\"\"\" A module containing both a recursive and an iterative implementation of the Fibonacci function. \n",
            "The purpose of this module consists in showing the inefficiency of a purely recursive implementation of Fibonacci! \"\"\"\n",
            "\n",
            "from functools import lru_cache\n",
            "\n",
            "def fib(n):\n",
            "    \"\"\" recursive version of the Fibonacci function \"\"\"\n",
            "    if n == 0:\n",
            "        return 0\n",
            "    elif n == 1:\n",
            "        return 1\n",
            "    else:\n",
            "        return fib(n-1) + fib(n-2)\n",
            "    \n",
            "def fibi(n):\n",
            "    \"\"\" iterative version of the Fibonacci function \"\"\"\n",
            "    old, new = 0, 1\n",
            "    if n == 0:\n",
            "        return 0\n",
            "    for i in range(n-1):\n",
            "        old, new = new, old + new\n",
            "    return new\n",
            "\n",
            "memo = {0:0, 1:1}\n",
            "\n",
            "def fibm(n):\n",
            "    \"\"\" recursive Fibonacci function which memoizes previously \n",
            "    calculated values with the help of a dictionary memo\"\"\"\n",
            "    if not n in memo:\n",
            "        memo[n] = fibm(n-1) + fibm(n-2)\n",
            "    return memo[n]\n",
            "\n",
            "@lru_cache(maxsize=100)\n",
            "def fib_lru(n):\n",
            "    \"\"\" recursive version of the Fibonacci function \"\"\"\n",
            "    if n == 0:\n",
            "        return 0\n",
            "    elif n == 1:\n",
            "        return 1\n",
            "    else:\n",
            "        return fib(n-1) + fib(n-2)\n",
            "\n",
            "\n"
          ]
        }
      ]
    },
    {
      "cell_type": "code",
      "metadata": {
        "colab": {
          "base_uri": "https://localhost:8080/"
        },
        "id": "t9m7Pm2e5Huk",
        "outputId": "ef56d71c-180d-4e1f-c316-75e92dc91a66"
      },
      "source": [
        "t1 = Timer(\"fib(10)\",\"from fibonacci_y import fib\")\n",
        "\n",
        "for i in range(1, 20):\n",
        "    s = \"fibm(\" + str(i) + \")\"\n",
        "    t1 = Timer(s, \"from fibonacci_y import fibm\")\n",
        "    time1 = t1.timeit(3)\n",
        "    s = \"fib_lru(\" + str(i) + \")\"\n",
        "    t2 = Timer(s,\"from fibonacci_y import fib_lru\")\n",
        "    time2 = t2.timeit(3)\n",
        "    print(f\"n={i:2d}, fibm: {time1:8.6f}, fib_lru:  {time2:7.6f}, time1/time2: {time1/time2:10.2f}\")"
      ],
      "execution_count": null,
      "outputs": [
        {
          "output_type": "stream",
          "name": "stdout",
          "text": [
            "n= 1, fibm: 0.000004, fib_lru:  0.000002, time1/time2:       1.57\n",
            "n= 2, fibm: 0.000003, fib_lru:  0.000002, time1/time2:       1.61\n",
            "n= 3, fibm: 0.000002, fib_lru:  0.000001, time1/time2:       1.47\n",
            "n= 4, fibm: 0.000001, fib_lru:  0.000001, time1/time2:       1.82\n",
            "n= 5, fibm: 0.000002, fib_lru:  0.000001, time1/time2:       1.76\n",
            "n= 6, fibm: 0.000002, fib_lru:  0.000001, time1/time2:       1.50\n",
            "n= 7, fibm: 0.000002, fib_lru:  0.000001, time1/time2:       1.60\n",
            "n= 8, fibm: 0.000002, fib_lru:  0.000001, time1/time2:       1.78\n",
            "n= 9, fibm: 0.000002, fib_lru:  0.000001, time1/time2:       1.51\n",
            "n=10, fibm: 0.000002, fib_lru:  0.000002, time1/time2:       1.02\n",
            "n=11, fibm: 0.000002, fib_lru:  0.000001, time1/time2:       1.58\n",
            "n=12, fibm: 0.000002, fib_lru:  0.000001, time1/time2:       1.43\n",
            "n=13, fibm: 0.000002, fib_lru:  0.000001, time1/time2:       2.07\n",
            "n=14, fibm: 0.000002, fib_lru:  0.000001, time1/time2:       1.78\n",
            "n=15, fibm: 0.000002, fib_lru:  0.000001, time1/time2:       1.97\n",
            "n=16, fibm: 0.000002, fib_lru:  0.000001, time1/time2:       1.40\n",
            "n=17, fibm: 0.000002, fib_lru:  0.000001, time1/time2:       1.80\n",
            "n=18, fibm: 0.000002, fib_lru:  0.000003, time1/time2:       0.81\n",
            "n=19, fibm: 0.000009, fib_lru:  0.000001, time1/time2:       8.73\n"
          ]
        }
      ]
    },
    {
      "cell_type": "markdown",
      "metadata": {
        "id": "WeuKSVUCAJwr"
      },
      "source": [
        "# Tower of Hanoi Problem\n",
        "\n",
        "![](https://upload.wikimedia.org/wikipedia/commons/thumb/0/07/Tower_of_Hanoi.jpeg/600px-Tower_of_Hanoi.jpeg)\n",
        "\n",
        "The \"Hanoi problem\" is special, because a recursive solution almost forces itself on the programmer, while the iterative solution of the game is hard to find and to grasp.\n",
        "\n",
        "The Tower of Hanoi (also called The problem of Benares Temple[1] or Tower of Brahma or Lucas' Tower[2] and sometimes pluralized as Towers, or simply pyramid puzzle[3]) is a mathematical game or puzzle consisting of three rods and a number of disks of various diameters, which can slide onto any rod. The puzzle begins with the disks stacked on one rod in order of decreasing size, the smallest at the top, thus approximating a conical shape. The objective of the puzzle is to move the entire stack to the last rod, obeying the following rules:\n",
        "\n",
        "* Only one disk may be moved at a time\n",
        "* Each move consists of taking the upper disk from one of the stacks and placing it on top of another stack or on an empty rod\n",
        "* No disk may be placed on top of a disk that is smaller than it\n",
        "\n",
        "With 3 disks, the puzzle can be solved in 7 moves. The minimal number of moves required to solve a Tower of Hanoi puzzle is 2n − 1, where n is the number of disks"
      ]
    },
    {
      "cell_type": "code",
      "metadata": {
        "id": "vkEBW3YM7tzK",
        "colab": {
          "base_uri": "https://localhost:8080/"
        },
        "outputId": "34e37c85-ba27-4efa-8ca0-26c2c78f2e42"
      },
      "source": [
        "# number of third disk: 6 - from_ - to_\n",
        "\n",
        "def hanoi(n, from_=1, to_=3):\n",
        "    if n == 1:\n",
        "        print(f'Disk {1} from {from_} to {to_}')\n",
        "        return\n",
        "    hanoi(n - 1, from_, 6 - from_ - to_)\n",
        "    print(f'Disk {n} from {from_} to {to_}')\n",
        "    hanoi(n - 1, 6 - from_ - to_, to_)\n",
        "\n",
        "hanoi(5)"
      ],
      "execution_count": null,
      "outputs": [
        {
          "output_type": "stream",
          "name": "stdout",
          "text": [
            "Disk 1 from 1 to 3\n",
            "Disk 2 from 1 to 2\n",
            "Disk 1 from 3 to 2\n",
            "Disk 3 from 1 to 3\n",
            "Disk 1 from 2 to 1\n",
            "Disk 2 from 2 to 3\n",
            "Disk 1 from 1 to 3\n",
            "Disk 4 from 1 to 2\n",
            "Disk 1 from 3 to 2\n",
            "Disk 2 from 3 to 1\n",
            "Disk 1 from 2 to 1\n",
            "Disk 3 from 3 to 2\n",
            "Disk 1 from 1 to 3\n",
            "Disk 2 from 1 to 2\n",
            "Disk 1 from 3 to 2\n",
            "Disk 5 from 1 to 3\n",
            "Disk 1 from 2 to 1\n",
            "Disk 2 from 2 to 3\n",
            "Disk 1 from 1 to 3\n",
            "Disk 3 from 2 to 1\n",
            "Disk 1 from 3 to 2\n",
            "Disk 2 from 3 to 1\n",
            "Disk 1 from 2 to 1\n",
            "Disk 4 from 2 to 3\n",
            "Disk 1 from 1 to 3\n",
            "Disk 2 from 1 to 2\n",
            "Disk 1 from 3 to 2\n",
            "Disk 3 from 1 to 3\n",
            "Disk 1 from 2 to 1\n",
            "Disk 2 from 2 to 3\n",
            "Disk 1 from 1 to 3\n"
          ]
        }
      ]
    },
    {
      "cell_type": "markdown",
      "metadata": {
        "id": "-Se9m7zbBFWr"
      },
      "source": [
        "# Backtracking (no chance we will be on time to check this on a lecture)\n",
        "\n",
        "More info about it: https://leetcode.com/explore/learn/card/recursion-ii/507/beyond-recursion/2898/\n",
        "\n",
        "Classical backtracking problem N-Queens:\n",
        "\n",
        "The n-queens puzzle is the problem of placing n queens on an n x n chessboard such that no two queens attack each other.\n",
        "\n",
        "Given an integer n, return all distinct solutions to the n-queens puzzle. You may return the answer in any order.\n",
        "\n",
        "Each solution contains a distinct board configuration of the n-queens' placement, where 'Q' and '.' both indicate a queen and an empty space, respectively.\n",
        "\n",
        "![](https://assets.leetcode.com/uploads/2020/11/13/queens.jpg)\n",
        "\n",
        "Input: n = 4\n",
        "\n",
        "Output: [[\".Q..\",\"...Q\",\"Q...\",\"..Q.\"],[\"..Q.\",\"Q...\",\"...Q\",\".Q..\"]]\n",
        "\n",
        "Explanation: There exist two distinct solutions to the 4-queens puzzle as shown above"
      ]
    },
    {
      "cell_type": "code",
      "metadata": {
        "id": "6W5aVXkZ_jFQ"
      },
      "source": [
        "def solveNQueens(n: int) -> list:\n",
        "    result = []\n",
        "    board = [[\".\" for i in range(n)] for i in range(n)]\n",
        "    \n",
        "    def backtrack(board, row):\n",
        "        if row == n:\n",
        "            result.append(list(map(lambda x: \"\".join(x), board)))\n",
        "            return\n",
        "        \n",
        "        for col in range(n):\n",
        "            if isValid(board, row, col):\n",
        "                board[row][col] = \"Q\"\n",
        "                backtrack(board, row + 1)\n",
        "                board[row][col] = \".\"\n",
        "                \n",
        "    def isValid(board, row, col):\n",
        "        # top left\n",
        "        r, c = row - 1, col - 1\n",
        "        while r >= 0 and c >= 0:\n",
        "            if board[r][c] == \"Q\":\n",
        "                return False\n",
        "            r -= 1\n",
        "            c -= 1\n",
        "        # up\n",
        "        r, c = row - 1, col\n",
        "        while r >= 0:\n",
        "            if board[r][c] == \"Q\":\n",
        "                return False\n",
        "            r -= 1\n",
        "        # top right\n",
        "        r, c = row - 1, col + 1\n",
        "        while r >= 0 and c >= 0 and c < n:\n",
        "            if board[r][c] == \"Q\":\n",
        "                return False\n",
        "            r -= 1\n",
        "            c += 1\n",
        "    \n",
        "        return True    \n",
        "    \n",
        "    backtrack(board, 0)\n",
        "    \n",
        "    return result"
      ],
      "execution_count": null,
      "outputs": []
    },
    {
      "cell_type": "code",
      "metadata": {
        "colab": {
          "base_uri": "https://localhost:8080/"
        },
        "id": "v7_J3nTeD2NQ",
        "outputId": "6e82beb7-23f0-49f3-822b-815f95fda35a"
      },
      "source": [
        "solveNQueens(4)"
      ],
      "execution_count": null,
      "outputs": [
        {
          "output_type": "execute_result",
          "data": {
            "text/plain": [
              "[['.Q..', '...Q', 'Q...', '..Q.'], ['..Q.', 'Q...', '...Q', '.Q..']]"
            ]
          },
          "metadata": {},
          "execution_count": 148
        }
      ]
    },
    {
      "cell_type": "code",
      "metadata": {
        "id": "hlQCUM4NEAmT",
        "colab": {
          "base_uri": "https://localhost:8080/"
        },
        "outputId": "ad8a8dd2-d395-4f46-acaf-d9c94d5d62bb"
      },
      "source": [
        "for el in solveNQueens(4)[0]:\n",
        "    print(el)"
      ],
      "execution_count": null,
      "outputs": [
        {
          "output_type": "stream",
          "name": "stdout",
          "text": [
            ".Q..\n",
            "...Q\n",
            "Q...\n",
            "..Q.\n"
          ]
        }
      ]
    },
    {
      "cell_type": "code",
      "metadata": {
        "colab": {
          "base_uri": "https://localhost:8080/"
        },
        "id": "ZEx1BE68gSmI",
        "outputId": "eed83b9b-aa74-41dc-8b09-0ac1384c7fde"
      },
      "source": [
        "4 % 8"
      ],
      "execution_count": null,
      "outputs": [
        {
          "output_type": "execute_result",
          "data": {
            "text/plain": [
              "4"
            ]
          },
          "metadata": {},
          "execution_count": 143
        }
      ]
    },
    {
      "cell_type": "code",
      "metadata": {
        "id": "HkpGIIBzgT2a"
      },
      "source": [
        ""
      ],
      "execution_count": null,
      "outputs": []
    }
  ]
}